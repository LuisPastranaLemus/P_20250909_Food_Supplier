{
 "cells": [
  {
   "cell_type": "markdown",
   "id": "ab54ed0c",
   "metadata": {},
   "source": [
    "### 📚 __Introduction__\n",
    "\n",
    "You work for a startup that sells food products. You need to research user behavior for the company's app.\n",
    "\n",
    "First, study the sales funnel. Find out how users progress through the purchase process. How many users actually reach the purchase stage? How many get stuck at earlier stages? Which stages in particular?\n",
    "\n",
    "Next, analyze the results of an A/A/B test (read on for more information about A/A/B tests). The design team would like to change the fonts throughout the app, but management fears that users might find the new design intimidating. Therefore, they decide to base their decision on the results of an A/A/B test.\n",
    "\n",
    "Users are divided into three groups: two control groups receive the old fonts, and one test group receives the new fonts. Determine which font set produces better results.\n",
    "\n",
    "Creating two control groups has certain advantages. We can establish the principle that we will only trust the accuracy of our tests when the two control groups are similar. If there are significant differences between the control groups, this can help us identify factors that might be skewing the results. Comparing the control groups also tells us how much time and data we will need when conducting further tests.\n",
    "\n",
    "You will use the same dataset for general analysis and for the A/A/B analysis. In real projects, experiments are constantly being conducted. The analytics team studies app quality using general data, without paying attention to whether users are participating in experiments.\n",
    "\n",
    "__Data Description__\n",
    "Each log entry is a user action or event.\n",
    "\n",
    "- EventName: The name of the event.\n",
    "- DeviceIDHash: A unique user identifier.\n",
    "- EventTimestamp: The time of the event.\n",
    "- ExpId: The experiment ID. 246 and 247 are the control groups, and 248 is the test group. Instructions for completing the project\n",
    "\n",
    "__Step 1__. _Open the data file and read the general information_\n",
    "\n",
    "File path: */datasets/logs_exp_us.csv* Download the dataset\n",
    "\n",
    "__Step 2__. _Prepare the data for analysis_\n",
    "\n",
    "- Rename the columns in a way that suits you.\n",
    "- Check the data types and missing values. Correct the data if necessary.\n",
    "- Add a date and time column and a separate column for dates.\n",
    "\n",
    "__Step 3__. _Study and verify the data_\n",
    "\n",
    "- How many events are in the logs?\n",
    "- How many users are in the logs?\n",
    "- What is the average number of events per user?\n",
    "- What time period does the data cover? Find the earliest and latest dates. Plot a histogram by date and time. Can you be sure that you have equally complete data for the entire period? Older events might end up in some users' logs for technical reasons, and this could skew the overall picture. Find the point at which the data becomes complete and ignore the earlier section. What period does the data actually represent?\n",
    "- Did you lose many events and users by excluding the oldest data?\n",
    "- Make sure you have users from all three experimental groups.\n",
    "\n",
    "__Step 4__. _Study the event funnel_\n",
    "\n",
    "- Look at what events are in the logs and their occurrence frequency. Sort them by frequency.\n",
    "- Find the number of users who performed each of these actions. Sort the events by the number of users. Calculate the percentage of users who performed the action at least once.\n",
    "- In what order do you think the actions occurred? Are they all part of a single sequence? You don't need to consider them when calculating the funnel.\n",
    "- Use the event funnel to find the percentage of users who move from one stage to the next. For example, for the event sequence A → B → C, calculate the percentage of users in stage B relative to the number of users in stage A, and the percentage of users in stage C relative to the number in stage B.\n",
    "- At which stage do you lose the most users? What percentage of users complete the entire journey from their first event to making a purchase?\n",
    "\n",
    "__Step 5__. _Analyze the experiment results_\n",
    "\n",
    "- How many users are in each group?\n",
    "- We have two control groups in the A/A test, where we verify our mechanisms and calculations. Check if there is a statistically significant difference between samples 246 and 247.\n",
    "- Select the most popular event. In each of the control groups, find the number of users who performed this action. Calculate the percentage. Check if the difference between the groups is statistically significant. Repeat this process for all other events (you'll save time if you create a special function for this test). Can you confirm that the groups were divided correctly?\n",
    "- Do the same for the group with the modified data source. Compare the results with those of each control group for each event individually. Compare the results with the combined results of the control groups. What conclusions can you draw from the experiment?\n",
    "- What significance level did you set for testing the statistical hypotheses mentioned earlier? Calculate how many statistical hypothesis tests you performed. With a statistical significance level of 0.1, one out of every 10 results could be false. What should the significance level be? If you want to change it, repeat the previous steps and re-evaluate your conclusions."
   ]
  },
  {
   "cell_type": "markdown",
   "id": "ef08e4fc",
   "metadata": {},
   "source": [
    "### 💻 __1. Notebook Libraries and Customization__"
   ]
  },
  {
   "cell_type": "code",
   "execution_count": 1,
   "id": "3ead31f0",
   "metadata": {},
   "outputs": [],
   "source": [
    "from IPython.display import display, HTML\n",
    "from matplotlib import pyplot as plt\n",
    "import numpy as np\n",
    "import pandas as pd\n",
    "import plotly.express as px\n",
    "import plotly.graph_objects as go\n",
    "import re\n",
    "from scipy import stats as st\n",
    "from scipy.stats import gaussian_kde\n",
    "from statsmodels.stats.proportion import proportions_ztest\n",
    "import seaborn as sns\n",
    "from tqdm import tqdm\n",
    "\n",
    "pd.set_option('display.max_rows', 25)  # display max 25 rows\n",
    "pd.set_option('display.max_columns', 25)  # display max 10 columns\n",
    "# show max 15 characters in each column\n",
    "pd.set_option('display.max_colwidth', 50)\n",
    "pd.set_option('display.width', 150)  # Display max 150 characters in cell"
   ]
  },
  {
   "cell_type": "markdown",
   "id": "218607d5",
   "metadata": {},
   "source": [
    "### 💻 __2. Functions__"
   ]
  },
  {
   "cell_type": "code",
   "execution_count": 2,
   "id": "d3f12c57",
   "metadata": {},
   "outputs": [],
   "source": [
    "# Function used to detect missing values ​​not treated as NAN due to the use of keep_defaukt_na=False\n",
    "def missing_values_check(df):\n",
    "\n",
    "    missing_values = ['', ' ', 'N/A', 'none', 'None',\n",
    "                      'null', 'NULL', 'NaN', 'nan', 'NAN', 'nat', 'NaT']\n",
    "\n",
    "    for column in df.columns:\n",
    "\n",
    "        if df[column].isin(missing_values).any():\n",
    "\n",
    "            display(HTML(\n",
    "                f\"> Null values ​​in column <i>'{column}'</i>: <b>{df[column].isin(missing_values).sum()}</b>\"))\n",
    "\n",
    "        else:\n",
    "\n",
    "            display(\n",
    "                HTML(f\"> No null values ​​exist in column <i>'{column}'</i>\"))\n",
    "\n",
    "# Function to detect outlier boundaries with optional clamping of lower bound to zero\n",
    "def outlier_limit_bounds(df, column, bound='both', clamp_zero=False):\n",
    "    \"\"\"\n",
    "    Detects outlier thresholds based on the IQR method and returns rows beyond those limits.\n",
    "\n",
    "    Parameters:\n",
    "    - df (DataFrame): The input DataFrame.\n",
    "    - column (str): The name of the numerical column to analyze.\n",
    "    - bound (str): One of 'both', 'lower', or 'upper' to indicate which bounds to evaluate.\n",
    "    - clamp_zero (bool): If True, clamps the lower bound to zero (useful for non-negative metrics).\n",
    "\n",
    "    Returns:\n",
    "    DataFrame(s): Rows identified as outliers, depending on the bound selected.\n",
    "    \"\"\"\n",
    "\n",
    "    q1, q3 = df[column].quantile([0.25, 0.75])\n",
    "    iqr = q3 - q1\n",
    "\n",
    "    lower_bound = max(q1 - 1.5 * iqr, 0) if clamp_zero else q1 - 1.5 * iqr\n",
    "    upper_bound = q3 + 1.5 * iqr\n",
    "\n",
    "    display(HTML(f\"> Outlier thresholds for <i>'{column}'</i>: \\n\"\n",
    "                 f\"> Lower = <b>{lower_bound:.3f}</b>, > Upper = <b>{upper_bound:.3f}</b>\"))\n",
    "\n",
    "    if bound not in ['both', 'lower', 'upper']:\n",
    "        display(HTML(f\"> Invalid 'bound' parameter. Use <b>'both'</b>, <b>'upper'</b>, or <b>'lower'</b>.\"))\n",
    "        return\n",
    "\n",
    "    outliers = pd.DataFrame()\n",
    "    \n",
    "    if bound in ['both', 'lower']:\n",
    "        lower_outliers = df[df[column] < lower_bound]\n",
    "        if lower_outliers.empty:\n",
    "            display(HTML(f\"> <b>No</b> lower outliers found in column <i>'{column}'</i>.\"))\n",
    "        outliers = pd.concat([outliers, lower_outliers])\n",
    "\n",
    "    if bound in ['both', 'upper']:\n",
    "        upper_outliers = df[df[column] > upper_bound]\n",
    "        if upper_outliers.empty:\n",
    "            display(HTML(f\"> <b>No</b> upper outliers found in column <i>'{column}'</i>.\"))\n",
    "        outliers = pd.concat([outliers, upper_outliers])\n",
    "\n",
    "    display(HTML(f\"- - -\"))\n",
    "    display(HTML(f\"> Outliers:\"))\n",
    "\n",
    "    return outliers if not outliers.empty else None\n",
    "\n",
    "\n",
    "# Function to plot a histogram of datetime values with full timestamp precision (YYYY-MM-DD HH:MM:SS),\n",
    "# including vertical lines for mean and median.\n",
    "def plotly_frequency_datetime_plotlypx(ds, bins=30, density=False, color='grey', title='Datetime Histogram', xlabel='Datetime', ylabel='Frequency', rotation='auto'):\n",
    "    \"\"\"\n",
    "    Histogram for datetime values with X-axis showing precise timestamps (YYYY-MM-DD HH:MM:SS).\n",
    "    - ds: Serie datetime\n",
    "    - bins: número de bins o array de bordes\n",
    "    - density: True = densidad, False = frecuencia\n",
    "    \"\"\"\n",
    "    s = pd.Series(ds).dropna()\n",
    "\n",
    "    # 1) Normalize to UTC and convert to integers: epoch to MILLISECONDS (int64)\n",
    "    # -> this completely avoids ns/fractions\n",
    "    dsu = pd.to_datetime(s, utc=True)\n",
    "    ds_ms = (dsu.astype('int64') // 1_000_000).astype('int64')  # ns -> ms (enteros)\n",
    "\n",
    "    # 2) Histogram over integers (ms)\n",
    "    hist, bin_edges_ms = np.histogram(ds_ms, bins=bins, density=density)\n",
    "\n",
    "    # 3) Centers and width in ms (INTEGER, no floats)\n",
    "    bin_edges_ms = bin_edges_ms.astype('int64')\n",
    "    bin_centers_ms = (bin_edges_ms[:-1] + bin_edges_ms[1:]) // 2  # integer midpoint\n",
    "    widths_ms = (bin_edges_ms[1:] - bin_edges_ms[:-1]).astype('int64')\n",
    "\n",
    "    #4) Convert ONLY here to datetime (ms) for X axis. No ns -> no warning.\n",
    "    bin_centers_dt = pd.to_datetime(bin_centers_ms, unit='ms', utc=True)\n",
    "\n",
    "    fig = go.Figure()\n",
    "    fig.add_trace(go.Bar(x=bin_centers_dt, y=hist.astype(float), marker_color=color, opacity=0.7, width=widths_ms,  # Plotly expects milliseconds as a number on datetime axes\n",
    "                         name='Histogram'))\n",
    "\n",
    "    # 5) Mean and median lines: calculate in ms (int) and convert to datetime (ms)\n",
    "    mean_ms = int(ds_ms.mean())           # average in ms\n",
    "    median_ms = int(np.median(ds_ms))     # median in ms\n",
    "    mean_dt = pd.to_datetime(mean_ms, unit='ms', utc=True)\n",
    "    median_dt = pd.to_datetime(median_ms, unit='ms', utc=True)\n",
    "\n",
    "    y_top = float(max(hist) * 1.1) if len(hist) else 1.0\n",
    "    fig.add_trace(go.Scatter(x=[mean_dt, mean_dt], y=[0, y_top], mode='lines', line=dict(color='red', dash='dash'), name='Mean'))\n",
    "    fig.add_trace(go.Scatter(x=[median_dt, median_dt], y=[0, y_top], mode='lines', line=dict(color='blue', dash='dashdot'), name='Median'))\n",
    "\n",
    "    # 6) Layout\n",
    "    fig.update_layout(\n",
    "        title=title,\n",
    "        xaxis_title=xlabel,\n",
    "        yaxis_title=ylabel if ylabel else ('Density' if density else 'Frequency'),\n",
    "        template='plotly_white',\n",
    "        bargap=0.05,\n",
    "        width=1200, height=500\n",
    "    )\n",
    "    fig.update_xaxes(tickformat='%Y-%m-%d %H:%M:%S')  # clean format\n",
    "    \n",
    "    # 7) Automatic rotation (or fixed if you enter a number)\n",
    "    if rotation == 'auto':\n",
    "        # Simple heuristic by number of bins (robust and sufficient in practice)\n",
    "        n = len(bin_centers_dt)\n",
    "        if n <= 10:\n",
    "            angle = 0\n",
    "        elif n <= 20:\n",
    "            angle = 30\n",
    "        elif n <= 40:\n",
    "            angle = 45\n",
    "        elif n <= 80:\n",
    "            angle = 60\n",
    "        else:\n",
    "            angle = 90\n",
    "        fig.update_xaxes(tickangle=angle)\n",
    "    elif isinstance(rotation, (int, float)):\n",
    "        fig.update_xaxes(tickangle=float(rotation))\n",
    "    # (if rotation is None or an unexpected value, we leave Plotly's default)\n",
    "    \n",
    "    fig.show()\n",
    "\n",
    "# Function to plot a vertical bar chart using Plotly Express\n",
    "def plot_vertical_bar_plotpx(df, x: str, y: str, hue: str | None = None,         # categorical column for grouping (like hue in seaborn)\n",
    "                               title: str = '', xlabel: str = '', ylabel: str = '', sort: bool = True, height: int = 500, width: int = 1200, color: str = 'grey'):\n",
    "    \"\"\"\n",
    "    Plots a horizontal bar chart with Plotly Express.\n",
    "\n",
    "    Parameters:\n",
    "    - df (DataFrame): Input DataFrame.\n",
    "    - x (str): Column name for x-axis values (numeric).\n",
    "    - y (str): Column name for y-axis categories.\n",
    "    - hue (str, optional): Column for coloring/grouping (categorical).\n",
    "    - title (str): Chart title.\n",
    "    - xlabel (str): X-axis label.\n",
    "    - ylabel (str): Y-axis label.\n",
    "    - sort (bool): If True, sorts bars by x descending.\n",
    "    - height (int): Figure height.\n",
    "    - width (int): Figure width.\n",
    "    - color (str): Default bar color if no hue is given.\n",
    "    \"\"\"\n",
    "\n",
    "    data = df.copy()\n",
    "    if sort:\n",
    "        data = data.sort_values(by=x, ascending=True)\n",
    "\n",
    "    if hue:\n",
    "        fig = px.bar(\n",
    "            data,\n",
    "            x=x,\n",
    "            y=y,\n",
    "            color=hue,             # uses categoric columns\n",
    "            title=title,\n",
    "            height=height,\n",
    "            width=width\n",
    "        )\n",
    "    else:\n",
    "        fig = px.bar(\n",
    "            data,\n",
    "            x=x,\n",
    "            y=y,\n",
    "            title=title,\n",
    "            height=height,\n",
    "            width=width,\n",
    "            color_discrete_sequence=[color]\n",
    "        )\n",
    "\n",
    "    fig.update_layout(\n",
    "        xaxis_title=xlabel,\n",
    "        yaxis_title=ylabel,\n",
    "        template='plotly_white'\n",
    "    )\n",
    "\n",
    "    fig.show()\n",
    "\n",
    "# Function to plot a horizontal bar chart using Plotly Express\n",
    "def plot_horizontal_bar_plotpx(df, x: str, y: str, hue: str | None = None,         # categorical column for grouping (like hue in seaborn)\n",
    "                               title: str = '', xlabel: str = '', ylabel: str = '', sort: bool = True, height: int = 500, width: int = 1200, color: str = 'grey'):\n",
    "    \"\"\"\n",
    "    Plots a horizontal bar chart with Plotly Express.\n",
    "\n",
    "    Parameters:\n",
    "    - df (DataFrame): Input DataFrame.\n",
    "    - x (str): Column name for x-axis values (numeric).\n",
    "    - y (str): Column name for y-axis categories.\n",
    "    - hue (str, optional): Column for coloring/grouping (categorical).\n",
    "    - title (str): Chart title.\n",
    "    - xlabel (str): X-axis label.\n",
    "    - ylabel (str): Y-axis label.\n",
    "    - sort (bool): If True, sorts bars by x descending.\n",
    "    - height (int): Figure height.\n",
    "    - width (int): Figure width.\n",
    "    \"\"\"\n",
    "\n",
    "    data = df.copy()\n",
    "    if sort:\n",
    "        data = data.sort_values(by=x, ascending=True)\n",
    "        \n",
    "    if hue:\n",
    "        fig = px.bar(\n",
    "            data,\n",
    "            x=x,\n",
    "            y=y,\n",
    "            orientation='h',\n",
    "            color=hue,             # uses categoric columns\n",
    "            title=title,\n",
    "            height=height,\n",
    "            width=width\n",
    "        )\n",
    "    else:\n",
    "        fig = px.bar(\n",
    "            data,\n",
    "            x=x,\n",
    "            y=y,\n",
    "            title=title,\n",
    "            height=height,\n",
    "            width=width,\n",
    "            color_discrete_sequence=[color]\n",
    "        )\n",
    "\n",
    "    fig.update_layout(\n",
    "        xaxis_title=xlabel,\n",
    "        yaxis_title=ylabel,\n",
    "        template='plotly_white'\n",
    "    )\n",
    "\n",
    "    fig.show()\n"
   ]
  },
  {
   "cell_type": "markdown",
   "id": "dc279f31",
   "metadata": {},
   "source": [
    "### 🔁 __3. Data Loading__"
   ]
  },
  {
   "cell_type": "code",
   "execution_count": 3,
   "id": "68e7ba67",
   "metadata": {},
   "outputs": [],
   "source": [
    "df_fs = pd.read_csv('../data/raw/logs_exp_us.csv', sep='\\t', header='infer', keep_default_na=False)"
   ]
  },
  {
   "cell_type": "markdown",
   "id": "1bc7ddbe",
   "metadata": {},
   "source": [
    "### 🧹 __4. Data Cleanup__"
   ]
  },
  {
   "cell_type": "markdown",
   "id": "05d7b46c",
   "metadata": {},
   "source": [
    "##### **4.1** Data Overview"
   ]
  },
  {
   "cell_type": "code",
   "execution_count": 4,
   "id": "4c6bb324",
   "metadata": {},
   "outputs": [
    {
     "name": "stdout",
     "output_type": "stream",
     "text": [
      "<class 'pandas.core.frame.DataFrame'>\n",
      "RangeIndex: 244126 entries, 0 to 244125\n",
      "Data columns (total 4 columns):\n",
      " #   Column          Non-Null Count   Dtype \n",
      "---  ------          --------------   ----- \n",
      " 0   EventName       244126 non-null  object\n",
      " 1   DeviceIDHash    244126 non-null  int64 \n",
      " 2   EventTimestamp  244126 non-null  int64 \n",
      " 3   ExpId           244126 non-null  int64 \n",
      "dtypes: int64(3), object(1)\n",
      "memory usage: 7.5+ MB\n"
     ]
    }
   ],
   "source": [
    "df_fs.info()"
   ]
  },
  {
   "cell_type": "markdown",
   "id": "0de77e0c",
   "metadata": {},
   "source": [
    "##### **4.2** Standardization of column heading formats (Lower case, snake case)"
   ]
  },
  {
   "cell_type": "code",
   "execution_count": 5,
   "id": "729b4c2d",
   "metadata": {},
   "outputs": [
    {
     "data": {
      "text/plain": [
       "Index(['eventname', 'deviceidhash', 'eventtimestamp', 'expid'], dtype='object')"
      ]
     },
     "execution_count": 5,
     "metadata": {},
     "output_type": "execute_result"
    }
   ],
   "source": [
    "df_fs.columns = df_fs.columns.str.strip().str.lower().str.replace(' ', '_').str.replace(r'[^\\w]', '', regex=True)\n",
    "df_fs.columns"
   ]
  },
  {
   "cell_type": "markdown",
   "id": "df8ca9e2",
   "metadata": {},
   "source": [
    "##### **4.3** Standardizing Dataframe String values."
   ]
  },
  {
   "cell_type": "code",
   "execution_count": 6,
   "id": "4862d8be",
   "metadata": {},
   "outputs": [
    {
     "data": {
      "application/vnd.microsoft.datawrangler.viewer.v0+json": {
       "columns": [
        {
         "name": "index",
         "rawType": "int64",
         "type": "integer"
        },
        {
         "name": "eventname",
         "rawType": "object",
         "type": "string"
        },
        {
         "name": "deviceidhash",
         "rawType": "int64",
         "type": "integer"
        },
        {
         "name": "eventtimestamp",
         "rawType": "int64",
         "type": "integer"
        },
        {
         "name": "expid",
         "rawType": "int64",
         "type": "integer"
        }
       ],
       "ref": "68596d70-4913-4663-b9fc-c50105fcb19e",
       "rows": [
        [
         "0",
         "mainscreenappear",
         "4575588528974610257",
         "1564029816",
         "246"
        ],
        [
         "1",
         "mainscreenappear",
         "7416695313311560658",
         "1564053102",
         "246"
        ],
        [
         "2",
         "paymentscreensuccessful",
         "3518123091307005509",
         "1564054127",
         "248"
        ],
        [
         "3",
         "cartscreenappear",
         "3518123091307005509",
         "1564054127",
         "248"
        ],
        [
         "4",
         "paymentscreensuccessful",
         "6217807653094995999",
         "1564055322",
         "248"
        ],
        [
         "5",
         "cartscreenappear",
         "6217807653094995999",
         "1564055323",
         "248"
        ],
        [
         "6",
         "offersscreenappear",
         "8351860793733343758",
         "1564066242",
         "246"
        ],
        [
         "7",
         "mainscreenappear",
         "5682100281902512875",
         "1564085677",
         "246"
        ],
        [
         "8",
         "mainscreenappear",
         "1850981295691852772",
         "1564086702",
         "247"
        ],
        [
         "9",
         "mainscreenappear",
         "5407636962369102641",
         "1564112112",
         "246"
        ],
        [
         "10",
         "mainscreenappear",
         "948465712512390382",
         "1564119214",
         "247"
        ],
        [
         "11",
         "mainscreenappear",
         "2547684315586332355",
         "1564123826",
         "248"
        ],
        [
         "12",
         "mainscreenappear",
         "8885295911290764495",
         "1564124085",
         "248"
        ],
        [
         "13",
         "mainscreenappear",
         "2140904690380565988",
         "1564125732",
         "247"
        ],
        [
         "14",
         "mainscreenappear",
         "4444236400320272864",
         "1564135560",
         "246"
        ],
        [
         "15",
         "mainscreenappear",
         "8947220251154009657",
         "1564140668",
         "248"
        ],
        [
         "16",
         "mainscreenappear",
         "5839517684026830712",
         "1564141421",
         "247"
        ],
        [
         "17",
         "mainscreenappear",
         "7540130374989658208",
         "1564144283",
         "248"
        ],
        [
         "18",
         "cartscreenappear",
         "2575393697599976818",
         "1564148945",
         "247"
        ],
        [
         "19",
         "mainscreenappear",
         "4651149533106703820",
         "1564149866",
         "246"
        ],
        [
         "20",
         "offersscreenappear",
         "4651149533106703820",
         "1564149871",
         "246"
        ],
        [
         "21",
         "cartscreenappear",
         "4651149533106703820",
         "1564149877",
         "246"
        ],
        [
         "22",
         "offersscreenappear",
         "4651149533106703820",
         "1564149894",
         "246"
        ],
        [
         "23",
         "mainscreenappear",
         "8295497290010115455",
         "1564151349",
         "248"
        ],
        [
         "24",
         "mainscreenappear",
         "2467684065904615242",
         "1564155133",
         "247"
        ],
        [
         "25",
         "cartscreenappear",
         "5325250209390272889",
         "1564158298",
         "246"
        ],
        [
         "26",
         "offersscreenappear",
         "2029140728621466572",
         "1564160796",
         "246"
        ],
        [
         "27",
         "cartscreenappear",
         "2029140728621466572",
         "1564160801",
         "246"
        ],
        [
         "28",
         "paymentscreensuccessful",
         "2029140728621466572",
         "1564160801",
         "246"
        ],
        [
         "29",
         "tutorial",
         "6598157157289930061",
         "1564164239",
         "247"
        ],
        [
         "30",
         "tutorial",
         "6598157157289930061",
         "1564164247",
         "247"
        ],
        [
         "31",
         "offersscreenappear",
         "4917023139263453733",
         "1564164336",
         "247"
        ],
        [
         "32",
         "mainscreenappear",
         "7746900626563870083",
         "1564165246",
         "248"
        ],
        [
         "33",
         "mainscreenappear",
         "6587858566581626601",
         "1564165926",
         "246"
        ],
        [
         "34",
         "mainscreenappear",
         "6587858566581626601",
         "1564165934",
         "246"
        ],
        [
         "35",
         "paymentscreensuccessful",
         "746235405686708560",
         "1564170266",
         "248"
        ],
        [
         "36",
         "cartscreenappear",
         "746235405686708560",
         "1564170266",
         "248"
        ],
        [
         "37",
         "cartscreenappear",
         "6805714022805866600",
         "1564170267",
         "246"
        ],
        [
         "38",
         "paymentscreensuccessful",
         "6805714022805866600",
         "1564170267",
         "246"
        ],
        [
         "39",
         "mainscreenappear",
         "4363366562103092326",
         "1564185410",
         "248"
        ],
        [
         "40",
         "mainscreenappear",
         "4856890444852090984",
         "1564200928",
         "246"
        ],
        [
         "41",
         "mainscreenappear",
         "2470999879924103731",
         "1564209212",
         "247"
        ],
        [
         "42",
         "paymentscreensuccessful",
         "6075091495307260046",
         "1564209665",
         "246"
        ],
        [
         "43",
         "cartscreenappear",
         "6075091495307260046",
         "1564209665",
         "246"
        ],
        [
         "44",
         "mainscreenappear",
         "2040085853213296046",
         "1564210468",
         "248"
        ],
        [
         "45",
         "mainscreenappear",
         "3288659580761907806",
         "1564215790",
         "247"
        ],
        [
         "46",
         "offersscreenappear",
         "2039979342104336040",
         "1564216058",
         "247"
        ],
        [
         "47",
         "mainscreenappear",
         "5638851536233149647",
         "1564216100",
         "248"
        ],
        [
         "48",
         "mainscreenappear",
         "4827775328614831155",
         "1564217124",
         "247"
        ],
        [
         "49",
         "mainscreenappear",
         "4827775328614831155",
         "1564217125",
         "247"
        ]
       ],
       "shape": {
        "columns": 4,
        "rows": 244126
       }
      },
      "text/html": [
       "<div>\n",
       "<style scoped>\n",
       "    .dataframe tbody tr th:only-of-type {\n",
       "        vertical-align: middle;\n",
       "    }\n",
       "\n",
       "    .dataframe tbody tr th {\n",
       "        vertical-align: top;\n",
       "    }\n",
       "\n",
       "    .dataframe thead th {\n",
       "        text-align: right;\n",
       "    }\n",
       "</style>\n",
       "<table border=\"1\" class=\"dataframe\">\n",
       "  <thead>\n",
       "    <tr style=\"text-align: right;\">\n",
       "      <th></th>\n",
       "      <th>eventname</th>\n",
       "      <th>deviceidhash</th>\n",
       "      <th>eventtimestamp</th>\n",
       "      <th>expid</th>\n",
       "    </tr>\n",
       "  </thead>\n",
       "  <tbody>\n",
       "    <tr>\n",
       "      <th>0</th>\n",
       "      <td>mainscreenappear</td>\n",
       "      <td>4575588528974610257</td>\n",
       "      <td>1564029816</td>\n",
       "      <td>246</td>\n",
       "    </tr>\n",
       "    <tr>\n",
       "      <th>1</th>\n",
       "      <td>mainscreenappear</td>\n",
       "      <td>7416695313311560658</td>\n",
       "      <td>1564053102</td>\n",
       "      <td>246</td>\n",
       "    </tr>\n",
       "    <tr>\n",
       "      <th>2</th>\n",
       "      <td>paymentscreensuccessful</td>\n",
       "      <td>3518123091307005509</td>\n",
       "      <td>1564054127</td>\n",
       "      <td>248</td>\n",
       "    </tr>\n",
       "    <tr>\n",
       "      <th>3</th>\n",
       "      <td>cartscreenappear</td>\n",
       "      <td>3518123091307005509</td>\n",
       "      <td>1564054127</td>\n",
       "      <td>248</td>\n",
       "    </tr>\n",
       "    <tr>\n",
       "      <th>4</th>\n",
       "      <td>paymentscreensuccessful</td>\n",
       "      <td>6217807653094995999</td>\n",
       "      <td>1564055322</td>\n",
       "      <td>248</td>\n",
       "    </tr>\n",
       "    <tr>\n",
       "      <th>...</th>\n",
       "      <td>...</td>\n",
       "      <td>...</td>\n",
       "      <td>...</td>\n",
       "      <td>...</td>\n",
       "    </tr>\n",
       "    <tr>\n",
       "      <th>244121</th>\n",
       "      <td>mainscreenappear</td>\n",
       "      <td>4599628364049201812</td>\n",
       "      <td>1565212345</td>\n",
       "      <td>247</td>\n",
       "    </tr>\n",
       "    <tr>\n",
       "      <th>244122</th>\n",
       "      <td>mainscreenappear</td>\n",
       "      <td>5849806612437486590</td>\n",
       "      <td>1565212439</td>\n",
       "      <td>246</td>\n",
       "    </tr>\n",
       "    <tr>\n",
       "      <th>244123</th>\n",
       "      <td>mainscreenappear</td>\n",
       "      <td>5746969938801999050</td>\n",
       "      <td>1565212483</td>\n",
       "      <td>246</td>\n",
       "    </tr>\n",
       "    <tr>\n",
       "      <th>244124</th>\n",
       "      <td>mainscreenappear</td>\n",
       "      <td>5746969938801999050</td>\n",
       "      <td>1565212498</td>\n",
       "      <td>246</td>\n",
       "    </tr>\n",
       "    <tr>\n",
       "      <th>244125</th>\n",
       "      <td>offersscreenappear</td>\n",
       "      <td>5746969938801999050</td>\n",
       "      <td>1565212517</td>\n",
       "      <td>246</td>\n",
       "    </tr>\n",
       "  </tbody>\n",
       "</table>\n",
       "<p>244126 rows × 4 columns</p>\n",
       "</div>"
      ],
      "text/plain": [
       "                      eventname         deviceidhash  eventtimestamp  expid\n",
       "0              mainscreenappear  4575588528974610257      1564029816    246\n",
       "1              mainscreenappear  7416695313311560658      1564053102    246\n",
       "2       paymentscreensuccessful  3518123091307005509      1564054127    248\n",
       "3              cartscreenappear  3518123091307005509      1564054127    248\n",
       "4       paymentscreensuccessful  6217807653094995999      1564055322    248\n",
       "...                         ...                  ...             ...    ...\n",
       "244121         mainscreenappear  4599628364049201812      1565212345    247\n",
       "244122         mainscreenappear  5849806612437486590      1565212439    246\n",
       "244123         mainscreenappear  5746969938801999050      1565212483    246\n",
       "244124         mainscreenappear  5746969938801999050      1565212498    246\n",
       "244125       offersscreenappear  5746969938801999050      1565212517    246\n",
       "\n",
       "[244126 rows x 4 columns]"
      ]
     },
     "execution_count": 6,
     "metadata": {},
     "output_type": "execute_result"
    }
   ],
   "source": [
    "df_fs['eventname'] = df_fs['eventname'].str.strip().str.lower().str.replace(' ', '_').str.replace(r'[^\\w]', '', regex=True)\n",
    "df_fs"
   ]
  },
  {
   "cell_type": "markdown",
   "id": "de667cb9",
   "metadata": {},
   "source": [
    "##### **4.4** Explicit Duplicate Removal"
   ]
  },
  {
   "cell_type": "code",
   "execution_count": 7,
   "id": "d753aa66",
   "metadata": {},
   "outputs": [
    {
     "data": {
      "text/html": [
       "> Explicit duplicates amount Dataframe <i>'df_fs'</i>: <b>413</b>"
      ],
      "text/plain": [
       "<IPython.core.display.HTML object>"
      ]
     },
     "metadata": {},
     "output_type": "display_data"
    }
   ],
   "source": [
    "# Show explicit duplicates amount\n",
    "display(HTML(f\"> Explicit duplicates amount Dataframe <i>'df_fs'</i>: <b>{df_fs.duplicated().sum()}</b>\"))"
   ]
  },
  {
   "cell_type": "code",
   "execution_count": 8,
   "id": "6db1d0ef",
   "metadata": {},
   "outputs": [
    {
     "data": {
      "text/html": [
       "> Explicit duplicates amount Dataframe <i>'df_fs'</i>: <b>0</b>"
      ],
      "text/plain": [
       "<IPython.core.display.HTML object>"
      ]
     },
     "metadata": {},
     "output_type": "display_data"
    }
   ],
   "source": [
    "# Delete explicit duplicated rows\n",
    "df_fs = df_fs.drop_duplicates().reset_index(drop=True)\n",
    "\n",
    "display(HTML(f\"> Explicit duplicates amount Dataframe <i>'df_fs'</i>: <b>{df_fs.duplicated().sum()}</b>\"))"
   ]
  },
  {
   "cell_type": "markdown",
   "id": "52852203",
   "metadata": {},
   "source": [
    "##### **4.5** Missing Value Analysis"
   ]
  },
  {
   "cell_type": "code",
   "execution_count": 9,
   "id": "d7919405",
   "metadata": {},
   "outputs": [
    {
     "data": {
      "text/html": [
       "> No null values ​​exist in column <i>'eventname'</i>"
      ],
      "text/plain": [
       "<IPython.core.display.HTML object>"
      ]
     },
     "metadata": {},
     "output_type": "display_data"
    },
    {
     "data": {
      "text/html": [
       "> No null values ​​exist in column <i>'deviceidhash'</i>"
      ],
      "text/plain": [
       "<IPython.core.display.HTML object>"
      ]
     },
     "metadata": {},
     "output_type": "display_data"
    },
    {
     "data": {
      "text/html": [
       "> No null values ​​exist in column <i>'eventtimestamp'</i>"
      ],
      "text/plain": [
       "<IPython.core.display.HTML object>"
      ]
     },
     "metadata": {},
     "output_type": "display_data"
    },
    {
     "data": {
      "text/html": [
       "> No null values ​​exist in column <i>'expid'</i>"
      ],
      "text/plain": [
       "<IPython.core.display.HTML object>"
      ]
     },
     "metadata": {},
     "output_type": "display_data"
    }
   ],
   "source": [
    "missing_values_check(df_fs)"
   ]
  },
  {
   "cell_type": "markdown",
   "id": "5a93ef6d",
   "metadata": {},
   "source": [
    "##### **4.6** Casting Datatypes"
   ]
  },
  {
   "cell_type": "code",
   "execution_count": 10,
   "id": "2cf4e2ec",
   "metadata": {},
   "outputs": [
    {
     "data": {
      "text/plain": [
       "CategoricalDtype(categories=['cartscreenappear', 'mainscreenappear', 'offersscreenappear', 'paymentscreensuccessful', 'tutorial'], ordered=False, categories_dtype=object)"
      ]
     },
     "execution_count": 10,
     "metadata": {},
     "output_type": "execute_result"
    }
   ],
   "source": [
    "# df_fs 'eventname' to category\n",
    "df_fs['eventname'] = df_fs['eventname'].astype('category')\n",
    "df_fs['eventname'].dtype\n"
   ]
  },
  {
   "cell_type": "code",
   "execution_count": 11,
   "id": "d63c57aa",
   "metadata": {},
   "outputs": [
    {
     "data": {
      "application/vnd.microsoft.datawrangler.viewer.v0+json": {
       "columns": [
        {
         "name": "index",
         "rawType": "object",
         "type": "string"
        },
        {
         "name": "0",
         "rawType": "object",
         "type": "unknown"
        }
       ],
       "ref": "c8779734-85a4-4a25-9909-0b35ecb8617e",
       "rows": [
        [
         "eventname",
         "category"
        ],
        [
         "deviceidhash",
         "int64"
        ],
        [
         "datetime",
         "datetime64[ns]"
        ],
        [
         "expid",
         "int64"
        ]
       ],
       "shape": {
        "columns": 1,
        "rows": 4
       }
      },
      "text/plain": [
       "eventname             category\n",
       "deviceidhash             int64\n",
       "datetime        datetime64[ns]\n",
       "expid                    int64\n",
       "dtype: object"
      ]
     },
     "execution_count": 11,
     "metadata": {},
     "output_type": "execute_result"
    }
   ],
   "source": [
    "# df_fs 'eventtimestamp' to datetime\n",
    "df_fs['eventtimestamp'] = pd.to_datetime(df_fs['eventtimestamp'], unit='s', errors='coerce')\n",
    "df_fs = df_fs.rename(columns={'eventtimestamp': 'datetime'})\n",
    "df_fs.dtypes"
   ]
  },
  {
   "cell_type": "code",
   "execution_count": 12,
   "id": "2007880a",
   "metadata": {},
   "outputs": [
    {
     "name": "stdout",
     "output_type": "stream",
     "text": [
      "<class 'pandas.core.frame.DataFrame'>\n",
      "RangeIndex: 243713 entries, 0 to 243712\n",
      "Data columns (total 4 columns):\n",
      " #   Column        Non-Null Count   Dtype         \n",
      "---  ------        --------------   -----         \n",
      " 0   eventname     243713 non-null  category      \n",
      " 1   deviceidhash  243713 non-null  int64         \n",
      " 2   datetime      243713 non-null  datetime64[ns]\n",
      " 3   expid         243713 non-null  int64         \n",
      "dtypes: category(1), datetime64[ns](1), int64(2)\n",
      "memory usage: 5.8 MB\n"
     ]
    }
   ],
   "source": [
    "df_fs.info()"
   ]
  },
  {
   "cell_type": "markdown",
   "id": "5f8eab23",
   "metadata": {},
   "source": [
    "##### **4.7** Feature Engineering"
   ]
  },
  {
   "cell_type": "code",
   "execution_count": 13,
   "id": "0859e8fb",
   "metadata": {},
   "outputs": [
    {
     "data": {
      "application/vnd.microsoft.datawrangler.viewer.v0+json": {
       "columns": [
        {
         "name": "index",
         "rawType": "int64",
         "type": "integer"
        },
        {
         "name": "eventname",
         "rawType": "category",
         "type": "unknown"
        },
        {
         "name": "deviceidhash",
         "rawType": "int64",
         "type": "integer"
        },
        {
         "name": "datetime",
         "rawType": "datetime64[ns]",
         "type": "datetime"
        },
        {
         "name": "expid",
         "rawType": "int64",
         "type": "integer"
        },
        {
         "name": "date",
         "rawType": "object",
         "type": "unknown"
        },
        {
         "name": "time",
         "rawType": "object",
         "type": "unknown"
        }
       ],
       "ref": "fcc94ded-b81a-4d42-a949-1bd377fa11a0",
       "rows": [
        [
         "0",
         "mainscreenappear",
         "4575588528974610257",
         "2019-07-25 04:43:36",
         "246",
         "2019-07-25",
         "04:43:36"
        ],
        [
         "1",
         "mainscreenappear",
         "7416695313311560658",
         "2019-07-25 11:11:42",
         "246",
         "2019-07-25",
         "11:11:42"
        ],
        [
         "2",
         "paymentscreensuccessful",
         "3518123091307005509",
         "2019-07-25 11:28:47",
         "248",
         "2019-07-25",
         "11:28:47"
        ],
        [
         "3",
         "cartscreenappear",
         "3518123091307005509",
         "2019-07-25 11:28:47",
         "248",
         "2019-07-25",
         "11:28:47"
        ],
        [
         "4",
         "paymentscreensuccessful",
         "6217807653094995999",
         "2019-07-25 11:48:42",
         "248",
         "2019-07-25",
         "11:48:42"
        ],
        [
         "5",
         "cartscreenappear",
         "6217807653094995999",
         "2019-07-25 11:48:43",
         "248",
         "2019-07-25",
         "11:48:43"
        ],
        [
         "6",
         "offersscreenappear",
         "8351860793733343758",
         "2019-07-25 14:50:42",
         "246",
         "2019-07-25",
         "14:50:42"
        ],
        [
         "7",
         "mainscreenappear",
         "5682100281902512875",
         "2019-07-25 20:14:37",
         "246",
         "2019-07-25",
         "20:14:37"
        ],
        [
         "8",
         "mainscreenappear",
         "1850981295691852772",
         "2019-07-25 20:31:42",
         "247",
         "2019-07-25",
         "20:31:42"
        ],
        [
         "9",
         "mainscreenappear",
         "5407636962369102641",
         "2019-07-26 03:35:12",
         "246",
         "2019-07-26",
         "03:35:12"
        ],
        [
         "10",
         "mainscreenappear",
         "948465712512390382",
         "2019-07-26 05:33:34",
         "247",
         "2019-07-26",
         "05:33:34"
        ],
        [
         "11",
         "mainscreenappear",
         "2547684315586332355",
         "2019-07-26 06:50:26",
         "248",
         "2019-07-26",
         "06:50:26"
        ],
        [
         "12",
         "mainscreenappear",
         "8885295911290764495",
         "2019-07-26 06:54:45",
         "248",
         "2019-07-26",
         "06:54:45"
        ],
        [
         "13",
         "mainscreenappear",
         "2140904690380565988",
         "2019-07-26 07:22:12",
         "247",
         "2019-07-26",
         "07:22:12"
        ],
        [
         "14",
         "mainscreenappear",
         "4444236400320272864",
         "2019-07-26 10:06:00",
         "246",
         "2019-07-26",
         "10:06:00"
        ],
        [
         "15",
         "mainscreenappear",
         "8947220251154009657",
         "2019-07-26 11:31:08",
         "248",
         "2019-07-26",
         "11:31:08"
        ],
        [
         "16",
         "mainscreenappear",
         "5839517684026830712",
         "2019-07-26 11:43:41",
         "247",
         "2019-07-26",
         "11:43:41"
        ],
        [
         "17",
         "mainscreenappear",
         "7540130374989658208",
         "2019-07-26 12:31:23",
         "248",
         "2019-07-26",
         "12:31:23"
        ],
        [
         "18",
         "cartscreenappear",
         "2575393697599976818",
         "2019-07-26 13:49:05",
         "247",
         "2019-07-26",
         "13:49:05"
        ],
        [
         "19",
         "mainscreenappear",
         "4651149533106703820",
         "2019-07-26 14:04:26",
         "246",
         "2019-07-26",
         "14:04:26"
        ],
        [
         "20",
         "offersscreenappear",
         "4651149533106703820",
         "2019-07-26 14:04:31",
         "246",
         "2019-07-26",
         "14:04:31"
        ],
        [
         "21",
         "cartscreenappear",
         "4651149533106703820",
         "2019-07-26 14:04:37",
         "246",
         "2019-07-26",
         "14:04:37"
        ],
        [
         "22",
         "offersscreenappear",
         "4651149533106703820",
         "2019-07-26 14:04:54",
         "246",
         "2019-07-26",
         "14:04:54"
        ],
        [
         "23",
         "mainscreenappear",
         "8295497290010115455",
         "2019-07-26 14:29:09",
         "248",
         "2019-07-26",
         "14:29:09"
        ],
        [
         "24",
         "mainscreenappear",
         "2467684065904615242",
         "2019-07-26 15:32:13",
         "247",
         "2019-07-26",
         "15:32:13"
        ],
        [
         "25",
         "cartscreenappear",
         "5325250209390272889",
         "2019-07-26 16:24:58",
         "246",
         "2019-07-26",
         "16:24:58"
        ],
        [
         "26",
         "offersscreenappear",
         "2029140728621466572",
         "2019-07-26 17:06:36",
         "246",
         "2019-07-26",
         "17:06:36"
        ],
        [
         "27",
         "cartscreenappear",
         "2029140728621466572",
         "2019-07-26 17:06:41",
         "246",
         "2019-07-26",
         "17:06:41"
        ],
        [
         "28",
         "paymentscreensuccessful",
         "2029140728621466572",
         "2019-07-26 17:06:41",
         "246",
         "2019-07-26",
         "17:06:41"
        ],
        [
         "29",
         "tutorial",
         "6598157157289930061",
         "2019-07-26 18:03:59",
         "247",
         "2019-07-26",
         "18:03:59"
        ],
        [
         "30",
         "tutorial",
         "6598157157289930061",
         "2019-07-26 18:04:07",
         "247",
         "2019-07-26",
         "18:04:07"
        ],
        [
         "31",
         "offersscreenappear",
         "4917023139263453733",
         "2019-07-26 18:05:36",
         "247",
         "2019-07-26",
         "18:05:36"
        ],
        [
         "32",
         "mainscreenappear",
         "7746900626563870083",
         "2019-07-26 18:20:46",
         "248",
         "2019-07-26",
         "18:20:46"
        ],
        [
         "33",
         "mainscreenappear",
         "6587858566581626601",
         "2019-07-26 18:32:06",
         "246",
         "2019-07-26",
         "18:32:06"
        ],
        [
         "34",
         "mainscreenappear",
         "6587858566581626601",
         "2019-07-26 18:32:14",
         "246",
         "2019-07-26",
         "18:32:14"
        ],
        [
         "35",
         "paymentscreensuccessful",
         "746235405686708560",
         "2019-07-26 19:44:26",
         "248",
         "2019-07-26",
         "19:44:26"
        ],
        [
         "36",
         "cartscreenappear",
         "746235405686708560",
         "2019-07-26 19:44:26",
         "248",
         "2019-07-26",
         "19:44:26"
        ],
        [
         "37",
         "cartscreenappear",
         "6805714022805866600",
         "2019-07-26 19:44:27",
         "246",
         "2019-07-26",
         "19:44:27"
        ],
        [
         "38",
         "paymentscreensuccessful",
         "6805714022805866600",
         "2019-07-26 19:44:27",
         "246",
         "2019-07-26",
         "19:44:27"
        ],
        [
         "39",
         "mainscreenappear",
         "4363366562103092326",
         "2019-07-26 23:56:50",
         "248",
         "2019-07-26",
         "23:56:50"
        ],
        [
         "40",
         "mainscreenappear",
         "4856890444852090984",
         "2019-07-27 04:15:28",
         "246",
         "2019-07-27",
         "04:15:28"
        ],
        [
         "41",
         "mainscreenappear",
         "2470999879924103731",
         "2019-07-27 06:33:32",
         "247",
         "2019-07-27",
         "06:33:32"
        ],
        [
         "42",
         "paymentscreensuccessful",
         "6075091495307260046",
         "2019-07-27 06:41:05",
         "246",
         "2019-07-27",
         "06:41:05"
        ],
        [
         "43",
         "cartscreenappear",
         "6075091495307260046",
         "2019-07-27 06:41:05",
         "246",
         "2019-07-27",
         "06:41:05"
        ],
        [
         "44",
         "mainscreenappear",
         "2040085853213296046",
         "2019-07-27 06:54:28",
         "248",
         "2019-07-27",
         "06:54:28"
        ],
        [
         "45",
         "mainscreenappear",
         "3288659580761907806",
         "2019-07-27 08:23:10",
         "247",
         "2019-07-27",
         "08:23:10"
        ],
        [
         "46",
         "offersscreenappear",
         "2039979342104336040",
         "2019-07-27 08:27:38",
         "247",
         "2019-07-27",
         "08:27:38"
        ],
        [
         "47",
         "mainscreenappear",
         "5638851536233149647",
         "2019-07-27 08:28:20",
         "248",
         "2019-07-27",
         "08:28:20"
        ],
        [
         "48",
         "mainscreenappear",
         "4827775328614831155",
         "2019-07-27 08:45:24",
         "247",
         "2019-07-27",
         "08:45:24"
        ],
        [
         "49",
         "mainscreenappear",
         "4827775328614831155",
         "2019-07-27 08:45:25",
         "247",
         "2019-07-27",
         "08:45:25"
        ]
       ],
       "shape": {
        "columns": 6,
        "rows": 243713
       }
      },
      "text/html": [
       "<div>\n",
       "<style scoped>\n",
       "    .dataframe tbody tr th:only-of-type {\n",
       "        vertical-align: middle;\n",
       "    }\n",
       "\n",
       "    .dataframe tbody tr th {\n",
       "        vertical-align: top;\n",
       "    }\n",
       "\n",
       "    .dataframe thead th {\n",
       "        text-align: right;\n",
       "    }\n",
       "</style>\n",
       "<table border=\"1\" class=\"dataframe\">\n",
       "  <thead>\n",
       "    <tr style=\"text-align: right;\">\n",
       "      <th></th>\n",
       "      <th>eventname</th>\n",
       "      <th>deviceidhash</th>\n",
       "      <th>datetime</th>\n",
       "      <th>expid</th>\n",
       "      <th>date</th>\n",
       "      <th>time</th>\n",
       "    </tr>\n",
       "  </thead>\n",
       "  <tbody>\n",
       "    <tr>\n",
       "      <th>0</th>\n",
       "      <td>mainscreenappear</td>\n",
       "      <td>4575588528974610257</td>\n",
       "      <td>2019-07-25 04:43:36</td>\n",
       "      <td>246</td>\n",
       "      <td>2019-07-25</td>\n",
       "      <td>04:43:36</td>\n",
       "    </tr>\n",
       "    <tr>\n",
       "      <th>1</th>\n",
       "      <td>mainscreenappear</td>\n",
       "      <td>7416695313311560658</td>\n",
       "      <td>2019-07-25 11:11:42</td>\n",
       "      <td>246</td>\n",
       "      <td>2019-07-25</td>\n",
       "      <td>11:11:42</td>\n",
       "    </tr>\n",
       "    <tr>\n",
       "      <th>2</th>\n",
       "      <td>paymentscreensuccessful</td>\n",
       "      <td>3518123091307005509</td>\n",
       "      <td>2019-07-25 11:28:47</td>\n",
       "      <td>248</td>\n",
       "      <td>2019-07-25</td>\n",
       "      <td>11:28:47</td>\n",
       "    </tr>\n",
       "    <tr>\n",
       "      <th>3</th>\n",
       "      <td>cartscreenappear</td>\n",
       "      <td>3518123091307005509</td>\n",
       "      <td>2019-07-25 11:28:47</td>\n",
       "      <td>248</td>\n",
       "      <td>2019-07-25</td>\n",
       "      <td>11:28:47</td>\n",
       "    </tr>\n",
       "    <tr>\n",
       "      <th>4</th>\n",
       "      <td>paymentscreensuccessful</td>\n",
       "      <td>6217807653094995999</td>\n",
       "      <td>2019-07-25 11:48:42</td>\n",
       "      <td>248</td>\n",
       "      <td>2019-07-25</td>\n",
       "      <td>11:48:42</td>\n",
       "    </tr>\n",
       "    <tr>\n",
       "      <th>...</th>\n",
       "      <td>...</td>\n",
       "      <td>...</td>\n",
       "      <td>...</td>\n",
       "      <td>...</td>\n",
       "      <td>...</td>\n",
       "      <td>...</td>\n",
       "    </tr>\n",
       "    <tr>\n",
       "      <th>243708</th>\n",
       "      <td>mainscreenappear</td>\n",
       "      <td>4599628364049201812</td>\n",
       "      <td>2019-08-07 21:12:25</td>\n",
       "      <td>247</td>\n",
       "      <td>2019-08-07</td>\n",
       "      <td>21:12:25</td>\n",
       "    </tr>\n",
       "    <tr>\n",
       "      <th>243709</th>\n",
       "      <td>mainscreenappear</td>\n",
       "      <td>5849806612437486590</td>\n",
       "      <td>2019-08-07 21:13:59</td>\n",
       "      <td>246</td>\n",
       "      <td>2019-08-07</td>\n",
       "      <td>21:13:59</td>\n",
       "    </tr>\n",
       "    <tr>\n",
       "      <th>243710</th>\n",
       "      <td>mainscreenappear</td>\n",
       "      <td>5746969938801999050</td>\n",
       "      <td>2019-08-07 21:14:43</td>\n",
       "      <td>246</td>\n",
       "      <td>2019-08-07</td>\n",
       "      <td>21:14:43</td>\n",
       "    </tr>\n",
       "    <tr>\n",
       "      <th>243711</th>\n",
       "      <td>mainscreenappear</td>\n",
       "      <td>5746969938801999050</td>\n",
       "      <td>2019-08-07 21:14:58</td>\n",
       "      <td>246</td>\n",
       "      <td>2019-08-07</td>\n",
       "      <td>21:14:58</td>\n",
       "    </tr>\n",
       "    <tr>\n",
       "      <th>243712</th>\n",
       "      <td>offersscreenappear</td>\n",
       "      <td>5746969938801999050</td>\n",
       "      <td>2019-08-07 21:15:17</td>\n",
       "      <td>246</td>\n",
       "      <td>2019-08-07</td>\n",
       "      <td>21:15:17</td>\n",
       "    </tr>\n",
       "  </tbody>\n",
       "</table>\n",
       "<p>243713 rows × 6 columns</p>\n",
       "</div>"
      ],
      "text/plain": [
       "                      eventname         deviceidhash            datetime  expid        date      time\n",
       "0              mainscreenappear  4575588528974610257 2019-07-25 04:43:36    246  2019-07-25  04:43:36\n",
       "1              mainscreenappear  7416695313311560658 2019-07-25 11:11:42    246  2019-07-25  11:11:42\n",
       "2       paymentscreensuccessful  3518123091307005509 2019-07-25 11:28:47    248  2019-07-25  11:28:47\n",
       "3              cartscreenappear  3518123091307005509 2019-07-25 11:28:47    248  2019-07-25  11:28:47\n",
       "4       paymentscreensuccessful  6217807653094995999 2019-07-25 11:48:42    248  2019-07-25  11:48:42\n",
       "...                         ...                  ...                 ...    ...         ...       ...\n",
       "243708         mainscreenappear  4599628364049201812 2019-08-07 21:12:25    247  2019-08-07  21:12:25\n",
       "243709         mainscreenappear  5849806612437486590 2019-08-07 21:13:59    246  2019-08-07  21:13:59\n",
       "243710         mainscreenappear  5746969938801999050 2019-08-07 21:14:43    246  2019-08-07  21:14:43\n",
       "243711         mainscreenappear  5746969938801999050 2019-08-07 21:14:58    246  2019-08-07  21:14:58\n",
       "243712       offersscreenappear  5746969938801999050 2019-08-07 21:15:17    246  2019-08-07  21:15:17\n",
       "\n",
       "[243713 rows x 6 columns]"
      ]
     },
     "execution_count": 13,
     "metadata": {},
     "output_type": "execute_result"
    }
   ],
   "source": [
    "# Add date column\n",
    "df_fs['date'] = df_fs['datetime'].dt.date\n",
    "\n",
    "# Add time column\n",
    "df_fs['time'] = df_fs['datetime'].dt.time\n",
    "\n",
    "df_fs"
   ]
  },
  {
   "cell_type": "markdown",
   "id": "cf240b87",
   "metadata": {},
   "source": [
    "### 🧮 5. EDA Exploratory Data Analysis"
   ]
  },
  {
   "cell_type": "markdown",
   "id": "4c004447",
   "metadata": {},
   "source": [
    "##### **5.1** Descriptive Analysis"
   ]
  },
  {
   "cell_type": "code",
   "execution_count": 14,
   "id": "77d58e3e",
   "metadata": {},
   "outputs": [
    {
     "data": {
      "application/vnd.microsoft.datawrangler.viewer.v0+json": {
       "columns": [
        {
         "name": "index",
         "rawType": "object",
         "type": "string"
        },
        {
         "name": "eventname",
         "rawType": "object",
         "type": "unknown"
        },
        {
         "name": "deviceidhash",
         "rawType": "float64",
         "type": "float"
        },
        {
         "name": "datetime",
         "rawType": "object",
         "type": "unknown"
        },
        {
         "name": "expid",
         "rawType": "float64",
         "type": "float"
        },
        {
         "name": "date",
         "rawType": "object",
         "type": "unknown"
        },
        {
         "name": "time",
         "rawType": "object",
         "type": "unknown"
        }
       ],
       "ref": "164ef31d-3e5f-498d-94eb-d86ae8b9353e",
       "rows": [
        [
         "count",
         "243713",
         "243713.0",
         "243713",
         "243713.0",
         "243713",
         "243713"
        ],
        [
         "unique",
         "5",
         null,
         null,
         null,
         "14",
         "69824"
        ],
        [
         "top",
         "mainscreenappear",
         null,
         null,
         null,
         "2019-08-01",
         "12:29:55"
        ],
        [
         "freq",
         "119101",
         null,
         null,
         null,
         "36141",
         "19"
        ],
        [
         "mean",
         null,
         "4.6279628208162e+18",
         "2019-08-04 10:19:17.987665920",
         "247.02216131269157",
         null,
         null
        ],
        [
         "min",
         null,
         "6888746892508752.0",
         "2019-07-25 04:43:36",
         "246.0",
         null,
         null
        ],
        [
         "25%",
         null,
         "2.3722124769922406e+18",
         "2019-08-02 14:36:45",
         "246.0",
         null,
         null
        ],
        [
         "50%",
         null,
         "4.623191541214045e+18",
         "2019-08-04 11:51:00",
         "247.0",
         null,
         null
        ],
        [
         "75%",
         null,
         "6.932517045703054e+18",
         "2019-08-06 06:56:24",
         "248.0",
         null,
         null
        ],
        [
         "max",
         null,
         "9.222603179720524e+18",
         "2019-08-07 21:15:17",
         "248.0",
         null,
         null
        ],
        [
         "std",
         null,
         "2.642723221505612e+18",
         null,
         "0.8244199431354625",
         null,
         null
        ]
       ],
       "shape": {
        "columns": 6,
        "rows": 11
       }
      },
      "text/html": [
       "<div>\n",
       "<style scoped>\n",
       "    .dataframe tbody tr th:only-of-type {\n",
       "        vertical-align: middle;\n",
       "    }\n",
       "\n",
       "    .dataframe tbody tr th {\n",
       "        vertical-align: top;\n",
       "    }\n",
       "\n",
       "    .dataframe thead th {\n",
       "        text-align: right;\n",
       "    }\n",
       "</style>\n",
       "<table border=\"1\" class=\"dataframe\">\n",
       "  <thead>\n",
       "    <tr style=\"text-align: right;\">\n",
       "      <th></th>\n",
       "      <th>eventname</th>\n",
       "      <th>deviceidhash</th>\n",
       "      <th>datetime</th>\n",
       "      <th>expid</th>\n",
       "      <th>date</th>\n",
       "      <th>time</th>\n",
       "    </tr>\n",
       "  </thead>\n",
       "  <tbody>\n",
       "    <tr>\n",
       "      <th>count</th>\n",
       "      <td>243713</td>\n",
       "      <td>2.437130e+05</td>\n",
       "      <td>243713</td>\n",
       "      <td>243713.000000</td>\n",
       "      <td>243713</td>\n",
       "      <td>243713</td>\n",
       "    </tr>\n",
       "    <tr>\n",
       "      <th>unique</th>\n",
       "      <td>5</td>\n",
       "      <td>NaN</td>\n",
       "      <td>NaN</td>\n",
       "      <td>NaN</td>\n",
       "      <td>14</td>\n",
       "      <td>69824</td>\n",
       "    </tr>\n",
       "    <tr>\n",
       "      <th>top</th>\n",
       "      <td>mainscreenappear</td>\n",
       "      <td>NaN</td>\n",
       "      <td>NaN</td>\n",
       "      <td>NaN</td>\n",
       "      <td>2019-08-01</td>\n",
       "      <td>12:29:55</td>\n",
       "    </tr>\n",
       "    <tr>\n",
       "      <th>freq</th>\n",
       "      <td>119101</td>\n",
       "      <td>NaN</td>\n",
       "      <td>NaN</td>\n",
       "      <td>NaN</td>\n",
       "      <td>36141</td>\n",
       "      <td>19</td>\n",
       "    </tr>\n",
       "    <tr>\n",
       "      <th>mean</th>\n",
       "      <td>NaN</td>\n",
       "      <td>4.627963e+18</td>\n",
       "      <td>2019-08-04 10:19:17.987665920</td>\n",
       "      <td>247.022161</td>\n",
       "      <td>NaN</td>\n",
       "      <td>NaN</td>\n",
       "    </tr>\n",
       "    <tr>\n",
       "      <th>min</th>\n",
       "      <td>NaN</td>\n",
       "      <td>6.888747e+15</td>\n",
       "      <td>2019-07-25 04:43:36</td>\n",
       "      <td>246.000000</td>\n",
       "      <td>NaN</td>\n",
       "      <td>NaN</td>\n",
       "    </tr>\n",
       "    <tr>\n",
       "      <th>25%</th>\n",
       "      <td>NaN</td>\n",
       "      <td>2.372212e+18</td>\n",
       "      <td>2019-08-02 14:36:45</td>\n",
       "      <td>246.000000</td>\n",
       "      <td>NaN</td>\n",
       "      <td>NaN</td>\n",
       "    </tr>\n",
       "    <tr>\n",
       "      <th>50%</th>\n",
       "      <td>NaN</td>\n",
       "      <td>4.623192e+18</td>\n",
       "      <td>2019-08-04 11:51:00</td>\n",
       "      <td>247.000000</td>\n",
       "      <td>NaN</td>\n",
       "      <td>NaN</td>\n",
       "    </tr>\n",
       "    <tr>\n",
       "      <th>75%</th>\n",
       "      <td>NaN</td>\n",
       "      <td>6.932517e+18</td>\n",
       "      <td>2019-08-06 06:56:24</td>\n",
       "      <td>248.000000</td>\n",
       "      <td>NaN</td>\n",
       "      <td>NaN</td>\n",
       "    </tr>\n",
       "    <tr>\n",
       "      <th>max</th>\n",
       "      <td>NaN</td>\n",
       "      <td>9.222603e+18</td>\n",
       "      <td>2019-08-07 21:15:17</td>\n",
       "      <td>248.000000</td>\n",
       "      <td>NaN</td>\n",
       "      <td>NaN</td>\n",
       "    </tr>\n",
       "    <tr>\n",
       "      <th>std</th>\n",
       "      <td>NaN</td>\n",
       "      <td>2.642723e+18</td>\n",
       "      <td>NaN</td>\n",
       "      <td>0.824420</td>\n",
       "      <td>NaN</td>\n",
       "      <td>NaN</td>\n",
       "    </tr>\n",
       "  </tbody>\n",
       "</table>\n",
       "</div>"
      ],
      "text/plain": [
       "               eventname  deviceidhash                       datetime          expid        date      time\n",
       "count             243713  2.437130e+05                         243713  243713.000000      243713    243713\n",
       "unique                 5           NaN                            NaN            NaN          14     69824\n",
       "top     mainscreenappear           NaN                            NaN            NaN  2019-08-01  12:29:55\n",
       "freq              119101           NaN                            NaN            NaN       36141        19\n",
       "mean                 NaN  4.627963e+18  2019-08-04 10:19:17.987665920     247.022161         NaN       NaN\n",
       "min                  NaN  6.888747e+15            2019-07-25 04:43:36     246.000000         NaN       NaN\n",
       "25%                  NaN  2.372212e+18            2019-08-02 14:36:45     246.000000         NaN       NaN\n",
       "50%                  NaN  4.623192e+18            2019-08-04 11:51:00     247.000000         NaN       NaN\n",
       "75%                  NaN  6.932517e+18            2019-08-06 06:56:24     248.000000         NaN       NaN\n",
       "max                  NaN  9.222603e+18            2019-08-07 21:15:17     248.000000         NaN       NaN\n",
       "std                  NaN  2.642723e+18                            NaN       0.824420         NaN       NaN"
      ]
     },
     "execution_count": 14,
     "metadata": {},
     "output_type": "execute_result"
    }
   ],
   "source": [
    "df_fs.describe(include='all')"
   ]
  },
  {
   "cell_type": "markdown",
   "id": "c8ecac87",
   "metadata": {},
   "source": [
    "##### **5.2** Data Visualization: Data Analysis."
   ]
  },
  {
   "cell_type": "markdown",
   "id": "0479ee85",
   "metadata": {},
   "source": [
    "5.2.1 How many events are in the logs?"
   ]
  },
  {
   "cell_type": "code",
   "execution_count": 15,
   "id": "8087c6ec",
   "metadata": {},
   "outputs": [
    {
     "data": {
      "text/html": [
       "> <b>Total</b> number of <b>events</b> within the records: <i>243713</i> (events)"
      ],
      "text/plain": [
       "<IPython.core.display.HTML object>"
      ]
     },
     "metadata": {},
     "output_type": "display_data"
    }
   ],
   "source": [
    "# Show total number of events within the records\n",
    "display(HTML(f\"> <b>Total</b> number of <b>events</b> within the records: <i>{df_fs.shape[0]}</i> (events)\"))"
   ]
  },
  {
   "cell_type": "markdown",
   "id": "931946cd",
   "metadata": {},
   "source": [
    "5.2.2 How many users are there in the records?"
   ]
  },
  {
   "cell_type": "code",
   "execution_count": 16,
   "id": "86ce2c77",
   "metadata": {},
   "outputs": [
    {
     "data": {
      "text/html": [
       "> <b>Total</b> number of <b>users</b> within the records: <i>7551</i> (users)"
      ],
      "text/plain": [
       "<IPython.core.display.HTML object>"
      ]
     },
     "metadata": {},
     "output_type": "display_data"
    }
   ],
   "source": [
    "# Show total number users within the records\n",
    "display(HTML(f\"> <b>Total</b> number of <b>users</b> within the records: <i>{df_fs['deviceidhash'].nunique()}</i> (users)\"))"
   ]
  },
  {
   "cell_type": "markdown",
   "id": "f073b7d1",
   "metadata": {},
   "source": [
    "5.2.3 What is the average number of events per user?"
   ]
  },
  {
   "cell_type": "code",
   "execution_count": 17,
   "id": "bcea8a90",
   "metadata": {},
   "outputs": [
    {
     "data": {
      "text/html": [
       "> <b>Average</b> number of <b>events</b> per user: <i>32.276</i> (events)"
      ],
      "text/plain": [
       "<IPython.core.display.HTML object>"
      ]
     },
     "metadata": {},
     "output_type": "display_data"
    }
   ],
   "source": [
    "# Show the average number of events per user\n",
    "display(HTML(f\"> <b>Average</b> number of <b>events</b> per user: <i>{df_fs.groupby('deviceidhash')['eventname'].count().mean():.3f}</i> (events)\"))"
   ]
  },
  {
   "cell_type": "markdown",
   "id": "62f42150",
   "metadata": {},
   "source": [
    "5.2.4 What time period does the data cover? Find the maximum and minimum dates. Plot a histogram by date and time. What period do the data actually represent?"
   ]
  },
  {
   "cell_type": "code",
   "execution_count": 18,
   "id": "af4047d8",
   "metadata": {},
   "outputs": [
    {
     "data": {
      "text/html": [
       "> <b>Earliest date</b> within the records: <i>2019-07-25</i>"
      ],
      "text/plain": [
       "<IPython.core.display.HTML object>"
      ]
     },
     "metadata": {},
     "output_type": "display_data"
    },
    {
     "data": {
      "text/html": [
       "> <b>Latest date</b> within the records: <i>2019-08-07</i>"
      ],
      "text/plain": [
       "<IPython.core.display.HTML object>"
      ]
     },
     "metadata": {},
     "output_type": "display_data"
    }
   ],
   "source": [
    "# Show the time period\n",
    "display(HTML(f\"> <b>Earliest date</b> within the records: <i>{df_fs['date'].min()}</i>\"))\n",
    "display(HTML(f\"> <b>Latest date</b> within the records: <i>{df_fs['date'].max()}</i>\"))"
   ]
  },
  {
   "cell_type": "code",
   "execution_count": 19,
   "id": "4173b4f1",
   "metadata": {},
   "outputs": [
    {
     "data": {
      "application/vnd.plotly.v1+json": {
       "config": {
        "plotlyServerURL": "https://plot.ly"
       },
       "data": [
        {
         "marker": {
          "color": "grey"
         },
         "name": "Histogram",
         "opacity": 0.7,
         "type": "bar",
         "width": {
          "bdata": "2hckANoXJADaFyQA2hckANoXJADaFyQA2hckANoXJADaFyQA2hckANoXJADaFyQA2hckANoXJADaFyQA2hckANoXJADaFyQA2hckANoXJADaFyQA2hckANoXJADaFyQA2hckANoXJADaFyQA2hckANoXJADaFyQA2hckANoXJADaFyQA2hckANoXJADaFyQA2hckANoXJADaFyQA2hckANoXJADaFyQA2hckANoXJADaFyQA2hckANoXJADaFyQA2hckANoXJADaFyQA2hckANoXJADaFyQA2hckANoXJADaFyQA2hckANoXJADaFyQA2hckANoXJADaFyQA2hckANoXJADaFyQA2hckANoXJADaFyQA2hckANoXJADaFyQA2hckANoXJADaFyQA2hckANoXJADaFyQA2hckANoXJADaFyQA2hckANoXJADaFyQA2hckANoXJADaFyQA2hckANoXJADaFyQA2hckANoXJADaFyQA2hckANoXJADaFyQA2hckANoXJADaFyQA2hckANoXJADaFyQA2hckANoXJADaFyQA2hckANoXJADaFyQA2hckANoXJADaFyQA2hckANoXJADaFyQA2hckANoXJADaFyQA2hckANoXJADaFyQA2hckANoXJADaFyQA2hckANoXJADaFyQA2hckANoXJADaFyQA2hckANoXJADaFyQA2hckANoXJADaFyQA2hckANoXJADaFyQA2hckANoXJADaFyQA2hckANoXJADaFyQA2hckANoXJADaFyQA2hckANoXJADaFyQA2hckANoXJADaFyQA2hckANoXJADaFyQA2hckANoXJADaFyQA2hckANoXJADaFyQA2hckANoXJADaFyQA2hckANoXJADaFyQA2hckANoXJADaFyQA2hckANoXJADaFyQA2hckANoXJADaFyQA2hckANoXJADaFyQA2hckANoXJADaFyQA2hckANoXJADaFyQA2hckANoXJADaFyQA2hckANoXJADaFyQA2hckANoXJADaFyQA2hckANoXJADaFyQA2hckANoXJADaFyQA2hckANoXJADaFyQA2hckANoXJADaFyQA2hckANoXJADaFyQA2hckANoXJADaFyQA2hckANoXJADaFyQA2hckANoXJADaFyQA2hckANoXJADaFyQA2hckANoXJADaFyQA2hckANoXJADaFyQA2hckANoXJADaFyQA2hckANoXJADaFyQA2hckANoXJADaFyQA2hckANoXJADaFyQA2hckANoXJADaFyQA2hckANoXJADaFyQA2hckANoXJADaFyQA2hckANoXJADaFyQA2hckANoXJADaFyQA2hckANoXJADaFyQA2hckANoXJADaFyQA2hckANoXJADaFyQA2hckANoXJADaFyQA2hckANoXJADaFyQA2hckANoXJADaFyQA2hckANoXJADaFyQA2hckANoXJADaFyQA2hckANoXJADaFyQA2hckANoXJADaFyQA2hckANoXJADaFyQA2hckANoXJADaFyQA2hckANoXJADaFyQA2hckANoXJADaFyQA2hckANoXJADaFyQA2hckANoXJADaFyQA2hckANoXJADaFyQA2hckANoXJADaFyQA2hckANoXJADaFyQA2hckANoXJADaFyQA2hckANoXJADaFyQA2hckANoXJADaFyQA2hckANoXJADaFyQA2hckANoXJADaFyQA2hckANoXJADaFyQA2hckANoXJADaFyQA2hckANoXJADaFyQA2hckANoXJADaFyQA2hckANoXJADaFyQA2hckANoXJADaFyQA2hckANoXJADaFyQA2hckANoXJADaFyQA2hckANoXJADaFyQA2hckANoXJADaFyQA2hckANoXJADaFyQA2hckANoXJADaFyQA2hckANoXJADaFyQA2hckANoXJADaFyQA2hckANoXJADaFyQA2hckANoXJADaFyQA2hckANoXJADaFyQA2hckANoXJADaFyQA2hckANoXJADaFyQA2hckANoXJADaFyQA2hckANoXJADaFyQA2hckANoXJADaFyQA2hckANoXJADaFyQA2hckANoXJADaFyQA2hckANoXJADaFyQA2hckANoXJADaFyQA2hckANoXJADaFyQA2hckANoXJADaFyQA2hckANoXJADaFyQA2hckANoXJADaFyQA2hckANoXJADaFyQA2hckANoXJADaFyQA2hckANoXJADaFyQA2hckANoXJADaFyQA2hckANoXJADaFyQA2hckANoXJADaFyQA2hckANoXJADaFyQA2hckANoXJADaFyQA2hckANoXJADaFyQA2hckANoXJADaFyQA2hckANoXJADaFyQA2hckANoXJADaFyQA2hckANoXJADaFyQA2hckANoXJADaFyQA2hckANoXJADaFyQA2hckANoXJADaFyQA2hckANoXJADaFyQA2hckANoXJADaFyQA2hckANoXJADaFyQA2hckANoXJADaFyQA2hckANoXJADaFyQA2hckANoXJADaFyQA2hckANoXJADaFyQA2hckANoXJADaFyQA2hckANoXJADaFyQA2hckANoXJADaFyQA2hckANoXJADaFyQA2hckANoXJAA=",
          "dtype": "i4"
         },
         "x": [
          "2019-07-25T05:03:18.701000+00:00",
          "2019-07-25T05:42:44.103000+00:00",
          "2019-07-25T06:22:09.505000+00:00",
          "2019-07-25T07:01:34.907000+00:00",
          "2019-07-25T07:41:00.309000+00:00",
          "2019-07-25T08:20:25.711000+00:00",
          "2019-07-25T08:59:51.113000+00:00",
          "2019-07-25T09:39:16.515000+00:00",
          "2019-07-25T10:18:41.917000+00:00",
          "2019-07-25T10:58:07.319000+00:00",
          "2019-07-25T11:37:32.721000+00:00",
          "2019-07-25T12:16:58.123000+00:00",
          "2019-07-25T12:56:23.525000+00:00",
          "2019-07-25T13:35:48.927000+00:00",
          "2019-07-25T14:15:14.329000+00:00",
          "2019-07-25T14:54:39.731000+00:00",
          "2019-07-25T15:34:05.133000+00:00",
          "2019-07-25T16:13:30.535000+00:00",
          "2019-07-25T16:52:55.937000+00:00",
          "2019-07-25T17:32:21.339000+00:00",
          "2019-07-25T18:11:46.741000+00:00",
          "2019-07-25T18:51:12.143000+00:00",
          "2019-07-25T19:30:37.545000+00:00",
          "2019-07-25T20:10:02.947000+00:00",
          "2019-07-25T20:49:28.349000+00:00",
          "2019-07-25T21:28:53.751000+00:00",
          "2019-07-25T22:08:19.153000+00:00",
          "2019-07-25T22:47:44.555000+00:00",
          "2019-07-25T23:27:09.957000+00:00",
          "2019-07-26T00:06:35.359000+00:00",
          "2019-07-26T00:46:00.761000+00:00",
          "2019-07-26T01:25:26.163000+00:00",
          "2019-07-26T02:04:51.565000+00:00",
          "2019-07-26T02:44:16.967000+00:00",
          "2019-07-26T03:23:42.369000+00:00",
          "2019-07-26T04:03:07.771000+00:00",
          "2019-07-26T04:42:33.173000+00:00",
          "2019-07-26T05:21:58.575000+00:00",
          "2019-07-26T06:01:23.977000+00:00",
          "2019-07-26T06:40:49.379000+00:00",
          "2019-07-26T07:20:14.781000+00:00",
          "2019-07-26T07:59:40.183000+00:00",
          "2019-07-26T08:39:05.585000+00:00",
          "2019-07-26T09:18:30.987000+00:00",
          "2019-07-26T09:57:56.389000+00:00",
          "2019-07-26T10:37:21.791000+00:00",
          "2019-07-26T11:16:47.193000+00:00",
          "2019-07-26T11:56:12.595000+00:00",
          "2019-07-26T12:35:37.997000+00:00",
          "2019-07-26T13:15:03.399000+00:00",
          "2019-07-26T13:54:28.801000+00:00",
          "2019-07-26T14:33:54.203000+00:00",
          "2019-07-26T15:13:19.605000+00:00",
          "2019-07-26T15:52:45.007000+00:00",
          "2019-07-26T16:32:10.409000+00:00",
          "2019-07-26T17:11:35.811000+00:00",
          "2019-07-26T17:51:01.213000+00:00",
          "2019-07-26T18:30:26.615000+00:00",
          "2019-07-26T19:09:52.017000+00:00",
          "2019-07-26T19:49:17.419000+00:00",
          "2019-07-26T20:28:42.821000+00:00",
          "2019-07-26T21:08:08.223000+00:00",
          "2019-07-26T21:47:33.625000+00:00",
          "2019-07-26T22:26:59.027000+00:00",
          "2019-07-26T23:06:24.429000+00:00",
          "2019-07-26T23:45:49.831000+00:00",
          "2019-07-27T00:25:15.233000+00:00",
          "2019-07-27T01:04:40.635000+00:00",
          "2019-07-27T01:44:06.037000+00:00",
          "2019-07-27T02:23:31.439000+00:00",
          "2019-07-27T03:02:56.841000+00:00",
          "2019-07-27T03:42:22.243000+00:00",
          "2019-07-27T04:21:47.645000+00:00",
          "2019-07-27T05:01:13.047000+00:00",
          "2019-07-27T05:40:38.449000+00:00",
          "2019-07-27T06:20:03.851000+00:00",
          "2019-07-27T06:59:29.253000+00:00",
          "2019-07-27T07:38:54.655000+00:00",
          "2019-07-27T08:18:20.057000+00:00",
          "2019-07-27T08:57:45.459000+00:00",
          "2019-07-27T09:37:10.861000+00:00",
          "2019-07-27T10:16:36.263000+00:00",
          "2019-07-27T10:56:01.665000+00:00",
          "2019-07-27T11:35:27.067000+00:00",
          "2019-07-27T12:14:52.469000+00:00",
          "2019-07-27T12:54:17.871000+00:00",
          "2019-07-27T13:33:43.273000+00:00",
          "2019-07-27T14:13:08.675000+00:00",
          "2019-07-27T14:52:34.077000+00:00",
          "2019-07-27T15:31:59.479000+00:00",
          "2019-07-27T16:11:24.881000+00:00",
          "2019-07-27T16:50:50.283000+00:00",
          "2019-07-27T17:30:15.685000+00:00",
          "2019-07-27T18:09:41.087000+00:00",
          "2019-07-27T18:49:06.489000+00:00",
          "2019-07-27T19:28:31.891000+00:00",
          "2019-07-27T20:07:57.293000+00:00",
          "2019-07-27T20:47:22.695000+00:00",
          "2019-07-27T21:26:48.097000+00:00",
          "2019-07-27T22:06:13.499000+00:00",
          "2019-07-27T22:45:38.901000+00:00",
          "2019-07-27T23:25:04.303000+00:00",
          "2019-07-28T00:04:29.705000+00:00",
          "2019-07-28T00:43:55.107000+00:00",
          "2019-07-28T01:23:20.509000+00:00",
          "2019-07-28T02:02:45.911000+00:00",
          "2019-07-28T02:42:11.313000+00:00",
          "2019-07-28T03:21:36.715000+00:00",
          "2019-07-28T04:01:02.117000+00:00",
          "2019-07-28T04:40:27.519000+00:00",
          "2019-07-28T05:19:52.921000+00:00",
          "2019-07-28T05:59:18.323000+00:00",
          "2019-07-28T06:38:43.725000+00:00",
          "2019-07-28T07:18:09.127000+00:00",
          "2019-07-28T07:57:34.529000+00:00",
          "2019-07-28T08:36:59.931000+00:00",
          "2019-07-28T09:16:25.333000+00:00",
          "2019-07-28T09:55:50.735000+00:00",
          "2019-07-28T10:35:16.137000+00:00",
          "2019-07-28T11:14:41.539000+00:00",
          "2019-07-28T11:54:06.941000+00:00",
          "2019-07-28T12:33:32.343000+00:00",
          "2019-07-28T13:12:57.745000+00:00",
          "2019-07-28T13:52:23.147000+00:00",
          "2019-07-28T14:31:48.549000+00:00",
          "2019-07-28T15:11:13.951000+00:00",
          "2019-07-28T15:50:39.353000+00:00",
          "2019-07-28T16:30:04.755000+00:00",
          "2019-07-28T17:09:30.157000+00:00",
          "2019-07-28T17:48:55.559000+00:00",
          "2019-07-28T18:28:20.961000+00:00",
          "2019-07-28T19:07:46.363000+00:00",
          "2019-07-28T19:47:11.765000+00:00",
          "2019-07-28T20:26:37.167000+00:00",
          "2019-07-28T21:06:02.569000+00:00",
          "2019-07-28T21:45:27.971000+00:00",
          "2019-07-28T22:24:53.373000+00:00",
          "2019-07-28T23:04:18.775000+00:00",
          "2019-07-28T23:43:44.177000+00:00",
          "2019-07-29T00:23:09.579000+00:00",
          "2019-07-29T01:02:34.981000+00:00",
          "2019-07-29T01:42:00.383000+00:00",
          "2019-07-29T02:21:25.785000+00:00",
          "2019-07-29T03:00:51.187000+00:00",
          "2019-07-29T03:40:16.589000+00:00",
          "2019-07-29T04:19:41.991000+00:00",
          "2019-07-29T04:59:07.393000+00:00",
          "2019-07-29T05:38:32.795000+00:00",
          "2019-07-29T06:17:58.197000+00:00",
          "2019-07-29T06:57:23.599000+00:00",
          "2019-07-29T07:36:49.001000+00:00",
          "2019-07-29T08:16:14.403000+00:00",
          "2019-07-29T08:55:39.805000+00:00",
          "2019-07-29T09:35:05.207000+00:00",
          "2019-07-29T10:14:30.609000+00:00",
          "2019-07-29T10:53:56.011000+00:00",
          "2019-07-29T11:33:21.413000+00:00",
          "2019-07-29T12:12:46.815000+00:00",
          "2019-07-29T12:52:12.217000+00:00",
          "2019-07-29T13:31:37.619000+00:00",
          "2019-07-29T14:11:03.021000+00:00",
          "2019-07-29T14:50:28.423000+00:00",
          "2019-07-29T15:29:53.825000+00:00",
          "2019-07-29T16:09:19.227000+00:00",
          "2019-07-29T16:48:44.629000+00:00",
          "2019-07-29T17:28:10.031000+00:00",
          "2019-07-29T18:07:35.433000+00:00",
          "2019-07-29T18:47:00.835000+00:00",
          "2019-07-29T19:26:26.237000+00:00",
          "2019-07-29T20:05:51.639000+00:00",
          "2019-07-29T20:45:17.041000+00:00",
          "2019-07-29T21:24:42.443000+00:00",
          "2019-07-29T22:04:07.845000+00:00",
          "2019-07-29T22:43:33.247000+00:00",
          "2019-07-29T23:22:58.649000+00:00",
          "2019-07-30T00:02:24.051000+00:00",
          "2019-07-30T00:41:49.453000+00:00",
          "2019-07-30T01:21:14.855000+00:00",
          "2019-07-30T02:00:40.257000+00:00",
          "2019-07-30T02:40:05.659000+00:00",
          "2019-07-30T03:19:31.061000+00:00",
          "2019-07-30T03:58:56.463000+00:00",
          "2019-07-30T04:38:21.865000+00:00",
          "2019-07-30T05:17:47.267000+00:00",
          "2019-07-30T05:57:12.669000+00:00",
          "2019-07-30T06:36:38.071000+00:00",
          "2019-07-30T07:16:03.473000+00:00",
          "2019-07-30T07:55:28.875000+00:00",
          "2019-07-30T08:34:54.277000+00:00",
          "2019-07-30T09:14:19.679000+00:00",
          "2019-07-30T09:53:45.081000+00:00",
          "2019-07-30T10:33:10.483000+00:00",
          "2019-07-30T11:12:35.885000+00:00",
          "2019-07-30T11:52:01.287000+00:00",
          "2019-07-30T12:31:26.689000+00:00",
          "2019-07-30T13:10:52.091000+00:00",
          "2019-07-30T13:50:17.493000+00:00",
          "2019-07-30T14:29:42.895000+00:00",
          "2019-07-30T15:09:08.297000+00:00",
          "2019-07-30T15:48:33.699000+00:00",
          "2019-07-30T16:27:59.101000+00:00",
          "2019-07-30T17:07:24.503000+00:00",
          "2019-07-30T17:46:49.905000+00:00",
          "2019-07-30T18:26:15.307000+00:00",
          "2019-07-30T19:05:40.709000+00:00",
          "2019-07-30T19:45:06.111000+00:00",
          "2019-07-30T20:24:31.513000+00:00",
          "2019-07-30T21:03:56.915000+00:00",
          "2019-07-30T21:43:22.317000+00:00",
          "2019-07-30T22:22:47.719000+00:00",
          "2019-07-30T23:02:13.121000+00:00",
          "2019-07-30T23:41:38.523000+00:00",
          "2019-07-31T00:21:03.925000+00:00",
          "2019-07-31T01:00:29.327000+00:00",
          "2019-07-31T01:39:54.729000+00:00",
          "2019-07-31T02:19:20.131000+00:00",
          "2019-07-31T02:58:45.533000+00:00",
          "2019-07-31T03:38:10.935000+00:00",
          "2019-07-31T04:17:36.337000+00:00",
          "2019-07-31T04:57:01.739000+00:00",
          "2019-07-31T05:36:27.141000+00:00",
          "2019-07-31T06:15:52.543000+00:00",
          "2019-07-31T06:55:17.945000+00:00",
          "2019-07-31T07:34:43.347000+00:00",
          "2019-07-31T08:14:08.749000+00:00",
          "2019-07-31T08:53:34.151000+00:00",
          "2019-07-31T09:32:59.553000+00:00",
          "2019-07-31T10:12:24.955000+00:00",
          "2019-07-31T10:51:50.357000+00:00",
          "2019-07-31T11:31:15.759000+00:00",
          "2019-07-31T12:10:41.161000+00:00",
          "2019-07-31T12:50:06.563000+00:00",
          "2019-07-31T13:29:31.965000+00:00",
          "2019-07-31T14:08:57.367000+00:00",
          "2019-07-31T14:48:22.769000+00:00",
          "2019-07-31T15:27:48.171000+00:00",
          "2019-07-31T16:07:13.573000+00:00",
          "2019-07-31T16:46:38.975000+00:00",
          "2019-07-31T17:26:04.377000+00:00",
          "2019-07-31T18:05:29.779000+00:00",
          "2019-07-31T18:44:55.181000+00:00",
          "2019-07-31T19:24:20.583000+00:00",
          "2019-07-31T20:03:45.985000+00:00",
          "2019-07-31T20:43:11.387000+00:00",
          "2019-07-31T21:22:36.789000+00:00",
          "2019-07-31T22:02:02.191000+00:00",
          "2019-07-31T22:41:27.593000+00:00",
          "2019-07-31T23:20:52.995000+00:00",
          "2019-08-01T00:00:18.397000+00:00",
          "2019-08-01T00:39:43.799000+00:00",
          "2019-08-01T01:19:09.201000+00:00",
          "2019-08-01T01:58:34.603000+00:00",
          "2019-08-01T02:38:00.005000+00:00",
          "2019-08-01T03:17:25.407000+00:00",
          "2019-08-01T03:56:50.809000+00:00",
          "2019-08-01T04:36:16.211000+00:00",
          "2019-08-01T05:15:41.613000+00:00",
          "2019-08-01T05:55:07.015000+00:00",
          "2019-08-01T06:34:32.417000+00:00",
          "2019-08-01T07:13:57.819000+00:00",
          "2019-08-01T07:53:23.221000+00:00",
          "2019-08-01T08:32:48.623000+00:00",
          "2019-08-01T09:12:14.025000+00:00",
          "2019-08-01T09:51:39.427000+00:00",
          "2019-08-01T10:31:04.829000+00:00",
          "2019-08-01T11:10:30.231000+00:00",
          "2019-08-01T11:49:55.633000+00:00",
          "2019-08-01T12:29:21.035000+00:00",
          "2019-08-01T13:08:46.437000+00:00",
          "2019-08-01T13:48:11.839000+00:00",
          "2019-08-01T14:27:37.241000+00:00",
          "2019-08-01T15:07:02.643000+00:00",
          "2019-08-01T15:46:28.045000+00:00",
          "2019-08-01T16:25:53.447000+00:00",
          "2019-08-01T17:05:18.849000+00:00",
          "2019-08-01T17:44:44.251000+00:00",
          "2019-08-01T18:24:09.653000+00:00",
          "2019-08-01T19:03:35.055000+00:00",
          "2019-08-01T19:43:00.457000+00:00",
          "2019-08-01T20:22:25.859000+00:00",
          "2019-08-01T21:01:51.261000+00:00",
          "2019-08-01T21:41:16.663000+00:00",
          "2019-08-01T22:20:42.065000+00:00",
          "2019-08-01T23:00:07.467000+00:00",
          "2019-08-01T23:39:32.869000+00:00",
          "2019-08-02T00:18:58.271000+00:00",
          "2019-08-02T00:58:23.673000+00:00",
          "2019-08-02T01:37:49.075000+00:00",
          "2019-08-02T02:17:14.477000+00:00",
          "2019-08-02T02:56:39.879000+00:00",
          "2019-08-02T03:36:05.281000+00:00",
          "2019-08-02T04:15:30.683000+00:00",
          "2019-08-02T04:54:56.085000+00:00",
          "2019-08-02T05:34:21.487000+00:00",
          "2019-08-02T06:13:46.889000+00:00",
          "2019-08-02T06:53:12.291000+00:00",
          "2019-08-02T07:32:37.693000+00:00",
          "2019-08-02T08:12:03.095000+00:00",
          "2019-08-02T08:51:28.497000+00:00",
          "2019-08-02T09:30:53.899000+00:00",
          "2019-08-02T10:10:19.301000+00:00",
          "2019-08-02T10:49:44.703000+00:00",
          "2019-08-02T11:29:10.105000+00:00",
          "2019-08-02T12:08:35.507000+00:00",
          "2019-08-02T12:48:00.909000+00:00",
          "2019-08-02T13:27:26.311000+00:00",
          "2019-08-02T14:06:51.713000+00:00",
          "2019-08-02T14:46:17.115000+00:00",
          "2019-08-02T15:25:42.517000+00:00",
          "2019-08-02T16:05:07.919000+00:00",
          "2019-08-02T16:44:33.321000+00:00",
          "2019-08-02T17:23:58.723000+00:00",
          "2019-08-02T18:03:24.125000+00:00",
          "2019-08-02T18:42:49.527000+00:00",
          "2019-08-02T19:22:14.929000+00:00",
          "2019-08-02T20:01:40.331000+00:00",
          "2019-08-02T20:41:05.733000+00:00",
          "2019-08-02T21:20:31.135000+00:00",
          "2019-08-02T21:59:56.537000+00:00",
          "2019-08-02T22:39:21.939000+00:00",
          "2019-08-02T23:18:47.341000+00:00",
          "2019-08-02T23:58:12.743000+00:00",
          "2019-08-03T00:37:38.145000+00:00",
          "2019-08-03T01:17:03.547000+00:00",
          "2019-08-03T01:56:28.949000+00:00",
          "2019-08-03T02:35:54.351000+00:00",
          "2019-08-03T03:15:19.753000+00:00",
          "2019-08-03T03:54:45.155000+00:00",
          "2019-08-03T04:34:10.557000+00:00",
          "2019-08-03T05:13:35.959000+00:00",
          "2019-08-03T05:53:01.361000+00:00",
          "2019-08-03T06:32:26.763000+00:00",
          "2019-08-03T07:11:52.165000+00:00",
          "2019-08-03T07:51:17.567000+00:00",
          "2019-08-03T08:30:42.969000+00:00",
          "2019-08-03T09:10:08.371000+00:00",
          "2019-08-03T09:49:33.773000+00:00",
          "2019-08-03T10:28:59.175000+00:00",
          "2019-08-03T11:08:24.577000+00:00",
          "2019-08-03T11:47:49.979000+00:00",
          "2019-08-03T12:27:15.381000+00:00",
          "2019-08-03T13:06:40.783000+00:00",
          "2019-08-03T13:46:06.185000+00:00",
          "2019-08-03T14:25:31.587000+00:00",
          "2019-08-03T15:04:56.989000+00:00",
          "2019-08-03T15:44:22.391000+00:00",
          "2019-08-03T16:23:47.793000+00:00",
          "2019-08-03T17:03:13.195000+00:00",
          "2019-08-03T17:42:38.597000+00:00",
          "2019-08-03T18:22:03.999000+00:00",
          "2019-08-03T19:01:29.401000+00:00",
          "2019-08-03T19:40:54.803000+00:00",
          "2019-08-03T20:20:20.205000+00:00",
          "2019-08-03T20:59:45.607000+00:00",
          "2019-08-03T21:39:11.009000+00:00",
          "2019-08-03T22:18:36.411000+00:00",
          "2019-08-03T22:58:01.813000+00:00",
          "2019-08-03T23:37:27.215000+00:00",
          "2019-08-04T00:16:52.617000+00:00",
          "2019-08-04T00:56:18.019000+00:00",
          "2019-08-04T01:35:43.421000+00:00",
          "2019-08-04T02:15:08.823000+00:00",
          "2019-08-04T02:54:34.225000+00:00",
          "2019-08-04T03:33:59.627000+00:00",
          "2019-08-04T04:13:25.029000+00:00",
          "2019-08-04T04:52:50.431000+00:00",
          "2019-08-04T05:32:15.833000+00:00",
          "2019-08-04T06:11:41.235000+00:00",
          "2019-08-04T06:51:06.637000+00:00",
          "2019-08-04T07:30:32.039000+00:00",
          "2019-08-04T08:09:57.441000+00:00",
          "2019-08-04T08:49:22.843000+00:00",
          "2019-08-04T09:28:48.245000+00:00",
          "2019-08-04T10:08:13.647000+00:00",
          "2019-08-04T10:47:39.049000+00:00",
          "2019-08-04T11:27:04.451000+00:00",
          "2019-08-04T12:06:29.853000+00:00",
          "2019-08-04T12:45:55.255000+00:00",
          "2019-08-04T13:25:20.657000+00:00",
          "2019-08-04T14:04:46.059000+00:00",
          "2019-08-04T14:44:11.461000+00:00",
          "2019-08-04T15:23:36.863000+00:00",
          "2019-08-04T16:03:02.265000+00:00",
          "2019-08-04T16:42:27.667000+00:00",
          "2019-08-04T17:21:53.069000+00:00",
          "2019-08-04T18:01:18.471000+00:00",
          "2019-08-04T18:40:43.873000+00:00",
          "2019-08-04T19:20:09.275000+00:00",
          "2019-08-04T19:59:34.677000+00:00",
          "2019-08-04T20:39:00.079000+00:00",
          "2019-08-04T21:18:25.481000+00:00",
          "2019-08-04T21:57:50.883000+00:00",
          "2019-08-04T22:37:16.285000+00:00",
          "2019-08-04T23:16:41.687000+00:00",
          "2019-08-04T23:56:07.089000+00:00",
          "2019-08-05T00:35:32.491000+00:00",
          "2019-08-05T01:14:57.893000+00:00",
          "2019-08-05T01:54:23.295000+00:00",
          "2019-08-05T02:33:48.697000+00:00",
          "2019-08-05T03:13:14.099000+00:00",
          "2019-08-05T03:52:39.501000+00:00",
          "2019-08-05T04:32:04.903000+00:00",
          "2019-08-05T05:11:30.305000+00:00",
          "2019-08-05T05:50:55.707000+00:00",
          "2019-08-05T06:30:21.109000+00:00",
          "2019-08-05T07:09:46.511000+00:00",
          "2019-08-05T07:49:11.913000+00:00",
          "2019-08-05T08:28:37.315000+00:00",
          "2019-08-05T09:08:02.717000+00:00",
          "2019-08-05T09:47:28.119000+00:00",
          "2019-08-05T10:26:53.521000+00:00",
          "2019-08-05T11:06:18.923000+00:00",
          "2019-08-05T11:45:44.325000+00:00",
          "2019-08-05T12:25:09.727000+00:00",
          "2019-08-05T13:04:35.129000+00:00",
          "2019-08-05T13:44:00.531000+00:00",
          "2019-08-05T14:23:25.933000+00:00",
          "2019-08-05T15:02:51.335000+00:00",
          "2019-08-05T15:42:16.737000+00:00",
          "2019-08-05T16:21:42.139000+00:00",
          "2019-08-05T17:01:07.541000+00:00",
          "2019-08-05T17:40:32.943000+00:00",
          "2019-08-05T18:19:58.345000+00:00",
          "2019-08-05T18:59:23.747000+00:00",
          "2019-08-05T19:38:49.149000+00:00",
          "2019-08-05T20:18:14.551000+00:00",
          "2019-08-05T20:57:39.953000+00:00",
          "2019-08-05T21:37:05.355000+00:00",
          "2019-08-05T22:16:30.757000+00:00",
          "2019-08-05T22:55:56.159000+00:00",
          "2019-08-05T23:35:21.561000+00:00",
          "2019-08-06T00:14:46.963000+00:00",
          "2019-08-06T00:54:12.365000+00:00",
          "2019-08-06T01:33:37.767000+00:00",
          "2019-08-06T02:13:03.169000+00:00",
          "2019-08-06T02:52:28.571000+00:00",
          "2019-08-06T03:31:53.973000+00:00",
          "2019-08-06T04:11:19.375000+00:00",
          "2019-08-06T04:50:44.777000+00:00",
          "2019-08-06T05:30:10.179000+00:00",
          "2019-08-06T06:09:35.581000+00:00",
          "2019-08-06T06:49:00.983000+00:00",
          "2019-08-06T07:28:26.385000+00:00",
          "2019-08-06T08:07:51.787000+00:00",
          "2019-08-06T08:47:17.189000+00:00",
          "2019-08-06T09:26:42.591000+00:00",
          "2019-08-06T10:06:07.993000+00:00",
          "2019-08-06T10:45:33.395000+00:00",
          "2019-08-06T11:24:58.797000+00:00",
          "2019-08-06T12:04:24.199000+00:00",
          "2019-08-06T12:43:49.601000+00:00",
          "2019-08-06T13:23:15.003000+00:00",
          "2019-08-06T14:02:40.405000+00:00",
          "2019-08-06T14:42:05.807000+00:00",
          "2019-08-06T15:21:31.209000+00:00",
          "2019-08-06T16:00:56.611000+00:00",
          "2019-08-06T16:40:22.013000+00:00",
          "2019-08-06T17:19:47.415000+00:00",
          "2019-08-06T17:59:12.817000+00:00",
          "2019-08-06T18:38:38.219000+00:00",
          "2019-08-06T19:18:03.621000+00:00",
          "2019-08-06T19:57:29.023000+00:00",
          "2019-08-06T20:36:54.425000+00:00",
          "2019-08-06T21:16:19.827000+00:00",
          "2019-08-06T21:55:45.229000+00:00",
          "2019-08-06T22:35:10.631000+00:00",
          "2019-08-06T23:14:36.033000+00:00",
          "2019-08-06T23:54:01.435000+00:00",
          "2019-08-07T00:33:26.837000+00:00",
          "2019-08-07T01:12:52.239000+00:00",
          "2019-08-07T01:52:17.641000+00:00",
          "2019-08-07T02:31:43.043000+00:00",
          "2019-08-07T03:11:08.445000+00:00",
          "2019-08-07T03:50:33.847000+00:00",
          "2019-08-07T04:29:59.249000+00:00",
          "2019-08-07T05:09:24.651000+00:00",
          "2019-08-07T05:48:50.053000+00:00",
          "2019-08-07T06:28:15.455000+00:00",
          "2019-08-07T07:07:40.857000+00:00",
          "2019-08-07T07:47:06.259000+00:00",
          "2019-08-07T08:26:31.661000+00:00",
          "2019-08-07T09:05:57.063000+00:00",
          "2019-08-07T09:45:22.465000+00:00",
          "2019-08-07T10:24:47.867000+00:00",
          "2019-08-07T11:04:13.269000+00:00",
          "2019-08-07T11:43:38.671000+00:00",
          "2019-08-07T12:23:04.073000+00:00",
          "2019-08-07T13:02:29.475000+00:00",
          "2019-08-07T13:41:54.877000+00:00",
          "2019-08-07T14:21:20.279000+00:00",
          "2019-08-07T15:00:45.681000+00:00",
          "2019-08-07T15:40:11.083000+00:00",
          "2019-08-07T16:19:36.485000+00:00",
          "2019-08-07T16:59:01.887000+00:00",
          "2019-08-07T17:38:27.289000+00:00",
          "2019-08-07T18:17:52.691000+00:00",
          "2019-08-07T18:57:18.093000+00:00",
          "2019-08-07T19:36:43.495000+00:00",
          "2019-08-07T20:16:08.897000+00:00",
          "2019-08-07T20:55:34.299000+00:00"
         ],
         "y": {
          "bdata": "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",
          "dtype": "f8"
         }
        },
        {
         "line": {
          "color": "red",
          "dash": "dash"
         },
         "mode": "lines",
         "name": "Mean",
         "type": "scatter",
         "x": [
          "2019-08-04T10:19:17.987000+00:00",
          "2019-08-04T10:19:17.987000+00:00"
         ],
         "y": [
          0,
          2168.1000000000004
         ]
        },
        {
         "line": {
          "color": "blue",
          "dash": "dashdot"
         },
         "mode": "lines",
         "name": "Median",
         "type": "scatter",
         "x": [
          "2019-08-04T11:51:00+00:00",
          "2019-08-04T11:51:00+00:00"
         ],
         "y": [
          0,
          2168.1000000000004
         ]
        }
       ],
       "layout": {
        "bargap": 0.05,
        "height": 500,
        "template": {
         "data": {
          "bar": [
           {
            "error_x": {
             "color": "#2a3f5f"
            },
            "error_y": {
             "color": "#2a3f5f"
            },
            "marker": {
             "line": {
              "color": "white",
              "width": 0.5
             },
             "pattern": {
              "fillmode": "overlay",
              "size": 10,
              "solidity": 0.2
             }
            },
            "type": "bar"
           }
          ],
          "barpolar": [
           {
            "marker": {
             "line": {
              "color": "white",
              "width": 0.5
             },
             "pattern": {
              "fillmode": "overlay",
              "size": 10,
              "solidity": 0.2
             }
            },
            "type": "barpolar"
           }
          ],
          "carpet": [
           {
            "aaxis": {
             "endlinecolor": "#2a3f5f",
             "gridcolor": "#C8D4E3",
             "linecolor": "#C8D4E3",
             "minorgridcolor": "#C8D4E3",
             "startlinecolor": "#2a3f5f"
            },
            "baxis": {
             "endlinecolor": "#2a3f5f",
             "gridcolor": "#C8D4E3",
             "linecolor": "#C8D4E3",
             "minorgridcolor": "#C8D4E3",
             "startlinecolor": "#2a3f5f"
            },
            "type": "carpet"
           }
          ],
          "choropleth": [
           {
            "colorbar": {
             "outlinewidth": 0,
             "ticks": ""
            },
            "type": "choropleth"
           }
          ],
          "contour": [
           {
            "colorbar": {
             "outlinewidth": 0,
             "ticks": ""
            },
            "colorscale": [
             [
              0,
              "#0d0887"
             ],
             [
              0.1111111111111111,
              "#46039f"
             ],
             [
              0.2222222222222222,
              "#7201a8"
             ],
             [
              0.3333333333333333,
              "#9c179e"
             ],
             [
              0.4444444444444444,
              "#bd3786"
             ],
             [
              0.5555555555555556,
              "#d8576b"
             ],
             [
              0.6666666666666666,
              "#ed7953"
             ],
             [
              0.7777777777777778,
              "#fb9f3a"
             ],
             [
              0.8888888888888888,
              "#fdca26"
             ],
             [
              1,
              "#f0f921"
             ]
            ],
            "type": "contour"
           }
          ],
          "contourcarpet": [
           {
            "colorbar": {
             "outlinewidth": 0,
             "ticks": ""
            },
            "type": "contourcarpet"
           }
          ],
          "heatmap": [
           {
            "colorbar": {
             "outlinewidth": 0,
             "ticks": ""
            },
            "colorscale": [
             [
              0,
              "#0d0887"
             ],
             [
              0.1111111111111111,
              "#46039f"
             ],
             [
              0.2222222222222222,
              "#7201a8"
             ],
             [
              0.3333333333333333,
              "#9c179e"
             ],
             [
              0.4444444444444444,
              "#bd3786"
             ],
             [
              0.5555555555555556,
              "#d8576b"
             ],
             [
              0.6666666666666666,
              "#ed7953"
             ],
             [
              0.7777777777777778,
              "#fb9f3a"
             ],
             [
              0.8888888888888888,
              "#fdca26"
             ],
             [
              1,
              "#f0f921"
             ]
            ],
            "type": "heatmap"
           }
          ],
          "histogram": [
           {
            "marker": {
             "pattern": {
              "fillmode": "overlay",
              "size": 10,
              "solidity": 0.2
             }
            },
            "type": "histogram"
           }
          ],
          "histogram2d": [
           {
            "colorbar": {
             "outlinewidth": 0,
             "ticks": ""
            },
            "colorscale": [
             [
              0,
              "#0d0887"
             ],
             [
              0.1111111111111111,
              "#46039f"
             ],
             [
              0.2222222222222222,
              "#7201a8"
             ],
             [
              0.3333333333333333,
              "#9c179e"
             ],
             [
              0.4444444444444444,
              "#bd3786"
             ],
             [
              0.5555555555555556,
              "#d8576b"
             ],
             [
              0.6666666666666666,
              "#ed7953"
             ],
             [
              0.7777777777777778,
              "#fb9f3a"
             ],
             [
              0.8888888888888888,
              "#fdca26"
             ],
             [
              1,
              "#f0f921"
             ]
            ],
            "type": "histogram2d"
           }
          ],
          "histogram2dcontour": [
           {
            "colorbar": {
             "outlinewidth": 0,
             "ticks": ""
            },
            "colorscale": [
             [
              0,
              "#0d0887"
             ],
             [
              0.1111111111111111,
              "#46039f"
             ],
             [
              0.2222222222222222,
              "#7201a8"
             ],
             [
              0.3333333333333333,
              "#9c179e"
             ],
             [
              0.4444444444444444,
              "#bd3786"
             ],
             [
              0.5555555555555556,
              "#d8576b"
             ],
             [
              0.6666666666666666,
              "#ed7953"
             ],
             [
              0.7777777777777778,
              "#fb9f3a"
             ],
             [
              0.8888888888888888,
              "#fdca26"
             ],
             [
              1,
              "#f0f921"
             ]
            ],
            "type": "histogram2dcontour"
           }
          ],
          "mesh3d": [
           {
            "colorbar": {
             "outlinewidth": 0,
             "ticks": ""
            },
            "type": "mesh3d"
           }
          ],
          "parcoords": [
           {
            "line": {
             "colorbar": {
              "outlinewidth": 0,
              "ticks": ""
             }
            },
            "type": "parcoords"
           }
          ],
          "pie": [
           {
            "automargin": true,
            "type": "pie"
           }
          ],
          "scatter": [
           {
            "fillpattern": {
             "fillmode": "overlay",
             "size": 10,
             "solidity": 0.2
            },
            "type": "scatter"
           }
          ],
          "scatter3d": [
           {
            "line": {
             "colorbar": {
              "outlinewidth": 0,
              "ticks": ""
             }
            },
            "marker": {
             "colorbar": {
              "outlinewidth": 0,
              "ticks": ""
             }
            },
            "type": "scatter3d"
           }
          ],
          "scattercarpet": [
           {
            "marker": {
             "colorbar": {
              "outlinewidth": 0,
              "ticks": ""
             }
            },
            "type": "scattercarpet"
           }
          ],
          "scattergeo": [
           {
            "marker": {
             "colorbar": {
              "outlinewidth": 0,
              "ticks": ""
             }
            },
            "type": "scattergeo"
           }
          ],
          "scattergl": [
           {
            "marker": {
             "colorbar": {
              "outlinewidth": 0,
              "ticks": ""
             }
            },
            "type": "scattergl"
           }
          ],
          "scattermap": [
           {
            "marker": {
             "colorbar": {
              "outlinewidth": 0,
              "ticks": ""
             }
            },
            "type": "scattermap"
           }
          ],
          "scattermapbox": [
           {
            "marker": {
             "colorbar": {
              "outlinewidth": 0,
              "ticks": ""
             }
            },
            "type": "scattermapbox"
           }
          ],
          "scatterpolar": [
           {
            "marker": {
             "colorbar": {
              "outlinewidth": 0,
              "ticks": ""
             }
            },
            "type": "scatterpolar"
           }
          ],
          "scatterpolargl": [
           {
            "marker": {
             "colorbar": {
              "outlinewidth": 0,
              "ticks": ""
             }
            },
            "type": "scatterpolargl"
           }
          ],
          "scatterternary": [
           {
            "marker": {
             "colorbar": {
              "outlinewidth": 0,
              "ticks": ""
             }
            },
            "type": "scatterternary"
           }
          ],
          "surface": [
           {
            "colorbar": {
             "outlinewidth": 0,
             "ticks": ""
            },
            "colorscale": [
             [
              0,
              "#0d0887"
             ],
             [
              0.1111111111111111,
              "#46039f"
             ],
             [
              0.2222222222222222,
              "#7201a8"
             ],
             [
              0.3333333333333333,
              "#9c179e"
             ],
             [
              0.4444444444444444,
              "#bd3786"
             ],
             [
              0.5555555555555556,
              "#d8576b"
             ],
             [
              0.6666666666666666,
              "#ed7953"
             ],
             [
              0.7777777777777778,
              "#fb9f3a"
             ],
             [
              0.8888888888888888,
              "#fdca26"
             ],
             [
              1,
              "#f0f921"
             ]
            ],
            "type": "surface"
           }
          ],
          "table": [
           {
            "cells": {
             "fill": {
              "color": "#EBF0F8"
             },
             "line": {
              "color": "white"
             }
            },
            "header": {
             "fill": {
              "color": "#C8D4E3"
             },
             "line": {
              "color": "white"
             }
            },
            "type": "table"
           }
          ]
         },
         "layout": {
          "annotationdefaults": {
           "arrowcolor": "#2a3f5f",
           "arrowhead": 0,
           "arrowwidth": 1
          },
          "autotypenumbers": "strict",
          "coloraxis": {
           "colorbar": {
            "outlinewidth": 0,
            "ticks": ""
           }
          },
          "colorscale": {
           "diverging": [
            [
             0,
             "#8e0152"
            ],
            [
             0.1,
             "#c51b7d"
            ],
            [
             0.2,
             "#de77ae"
            ],
            [
             0.3,
             "#f1b6da"
            ],
            [
             0.4,
             "#fde0ef"
            ],
            [
             0.5,
             "#f7f7f7"
            ],
            [
             0.6,
             "#e6f5d0"
            ],
            [
             0.7,
             "#b8e186"
            ],
            [
             0.8,
             "#7fbc41"
            ],
            [
             0.9,
             "#4d9221"
            ],
            [
             1,
             "#276419"
            ]
           ],
           "sequential": [
            [
             0,
             "#0d0887"
            ],
            [
             0.1111111111111111,
             "#46039f"
            ],
            [
             0.2222222222222222,
             "#7201a8"
            ],
            [
             0.3333333333333333,
             "#9c179e"
            ],
            [
             0.4444444444444444,
             "#bd3786"
            ],
            [
             0.5555555555555556,
             "#d8576b"
            ],
            [
             0.6666666666666666,
             "#ed7953"
            ],
            [
             0.7777777777777778,
             "#fb9f3a"
            ],
            [
             0.8888888888888888,
             "#fdca26"
            ],
            [
             1,
             "#f0f921"
            ]
           ],
           "sequentialminus": [
            [
             0,
             "#0d0887"
            ],
            [
             0.1111111111111111,
             "#46039f"
            ],
            [
             0.2222222222222222,
             "#7201a8"
            ],
            [
             0.3333333333333333,
             "#9c179e"
            ],
            [
             0.4444444444444444,
             "#bd3786"
            ],
            [
             0.5555555555555556,
             "#d8576b"
            ],
            [
             0.6666666666666666,
             "#ed7953"
            ],
            [
             0.7777777777777778,
             "#fb9f3a"
            ],
            [
             0.8888888888888888,
             "#fdca26"
            ],
            [
             1,
             "#f0f921"
            ]
           ]
          },
          "colorway": [
           "#636efa",
           "#EF553B",
           "#00cc96",
           "#ab63fa",
           "#FFA15A",
           "#19d3f3",
           "#FF6692",
           "#B6E880",
           "#FF97FF",
           "#FECB52"
          ],
          "font": {
           "color": "#2a3f5f"
          },
          "geo": {
           "bgcolor": "white",
           "lakecolor": "white",
           "landcolor": "white",
           "showlakes": true,
           "showland": true,
           "subunitcolor": "#C8D4E3"
          },
          "hoverlabel": {
           "align": "left"
          },
          "hovermode": "closest",
          "mapbox": {
           "style": "light"
          },
          "paper_bgcolor": "white",
          "plot_bgcolor": "white",
          "polar": {
           "angularaxis": {
            "gridcolor": "#EBF0F8",
            "linecolor": "#EBF0F8",
            "ticks": ""
           },
           "bgcolor": "white",
           "radialaxis": {
            "gridcolor": "#EBF0F8",
            "linecolor": "#EBF0F8",
            "ticks": ""
           }
          },
          "scene": {
           "xaxis": {
            "backgroundcolor": "white",
            "gridcolor": "#DFE8F3",
            "gridwidth": 2,
            "linecolor": "#EBF0F8",
            "showbackground": true,
            "ticks": "",
            "zerolinecolor": "#EBF0F8"
           },
           "yaxis": {
            "backgroundcolor": "white",
            "gridcolor": "#DFE8F3",
            "gridwidth": 2,
            "linecolor": "#EBF0F8",
            "showbackground": true,
            "ticks": "",
            "zerolinecolor": "#EBF0F8"
           },
           "zaxis": {
            "backgroundcolor": "white",
            "gridcolor": "#DFE8F3",
            "gridwidth": 2,
            "linecolor": "#EBF0F8",
            "showbackground": true,
            "ticks": "",
            "zerolinecolor": "#EBF0F8"
           }
          },
          "shapedefaults": {
           "line": {
            "color": "#2a3f5f"
           }
          },
          "ternary": {
           "aaxis": {
            "gridcolor": "#DFE8F3",
            "linecolor": "#A2B1C6",
            "ticks": ""
           },
           "baxis": {
            "gridcolor": "#DFE8F3",
            "linecolor": "#A2B1C6",
            "ticks": ""
           },
           "bgcolor": "white",
           "caxis": {
            "gridcolor": "#DFE8F3",
            "linecolor": "#A2B1C6",
            "ticks": ""
           }
          },
          "title": {
           "x": 0.05
          },
          "xaxis": {
           "automargin": true,
           "gridcolor": "#EBF0F8",
           "linecolor": "#EBF0F8",
           "ticks": "",
           "title": {
            "standoff": 15
           },
           "zerolinecolor": "#EBF0F8",
           "zerolinewidth": 2
          },
          "yaxis": {
           "automargin": true,
           "gridcolor": "#EBF0F8",
           "linecolor": "#EBF0F8",
           "ticks": "",
           "title": {
            "standoff": 15
           },
           "zerolinecolor": "#EBF0F8",
           "zerolinewidth": 2
          }
         }
        },
        "title": {
         "text": "Event Distribution with Full Timestamp Precision"
        },
        "width": 1200,
        "xaxis": {
         "tickangle": 90,
         "tickformat": "%Y-%m-%d %H:%M:%S",
         "title": {
          "text": "Date-Time"
         }
        },
        "yaxis": {
         "title": {
          "text": "Frequency"
         }
        }
       }
      }
     },
     "metadata": {},
     "output_type": "display_data"
    }
   ],
   "source": [
    "# Plot a histogram by date and time.\n",
    "plotly_frequency_datetime_plotlypx(df_fs['datetime'], bins=500, density=False, color='grey', title='Event Distribution with Full Timestamp Precision', xlabel='Date-Time', ylabel='Frequency')"
   ]
  },
  {
   "cell_type": "code",
   "execution_count": 20,
   "id": "747f7e0d",
   "metadata": {},
   "outputs": [
    {
     "data": {
      "application/vnd.microsoft.datawrangler.viewer.v0+json": {
       "columns": [
        {
         "name": "index",
         "rawType": "int64",
         "type": "integer"
        },
        {
         "name": "eventname",
         "rawType": "category",
         "type": "unknown"
        },
        {
         "name": "deviceidhash",
         "rawType": "int64",
         "type": "integer"
        },
        {
         "name": "datetime",
         "rawType": "int64",
         "type": "integer"
        },
        {
         "name": "expid",
         "rawType": "int64",
         "type": "integer"
        },
        {
         "name": "date",
         "rawType": "object",
         "type": "unknown"
        },
        {
         "name": "time",
         "rawType": "object",
         "type": "unknown"
        }
       ],
       "ref": "abdef80c-0426-4a83-bbbf-4a011c7df9b0",
       "rows": [
        [
         "0",
         "mainscreenappear",
         "4575588528974610257",
         "1564029816",
         "246",
         "2019-07-25",
         "04:43:36"
        ],
        [
         "1",
         "mainscreenappear",
         "7416695313311560658",
         "1564053102",
         "246",
         "2019-07-25",
         "11:11:42"
        ],
        [
         "2",
         "paymentscreensuccessful",
         "3518123091307005509",
         "1564054127",
         "248",
         "2019-07-25",
         "11:28:47"
        ],
        [
         "3",
         "cartscreenappear",
         "3518123091307005509",
         "1564054127",
         "248",
         "2019-07-25",
         "11:28:47"
        ],
        [
         "4",
         "paymentscreensuccessful",
         "6217807653094995999",
         "1564055322",
         "248",
         "2019-07-25",
         "11:48:42"
        ],
        [
         "5",
         "cartscreenappear",
         "6217807653094995999",
         "1564055323",
         "248",
         "2019-07-25",
         "11:48:43"
        ],
        [
         "6",
         "offersscreenappear",
         "8351860793733343758",
         "1564066242",
         "246",
         "2019-07-25",
         "14:50:42"
        ],
        [
         "7",
         "mainscreenappear",
         "5682100281902512875",
         "1564085677",
         "246",
         "2019-07-25",
         "20:14:37"
        ],
        [
         "8",
         "mainscreenappear",
         "1850981295691852772",
         "1564086702",
         "247",
         "2019-07-25",
         "20:31:42"
        ],
        [
         "9",
         "mainscreenappear",
         "5407636962369102641",
         "1564112112",
         "246",
         "2019-07-26",
         "03:35:12"
        ],
        [
         "10",
         "mainscreenappear",
         "948465712512390382",
         "1564119214",
         "247",
         "2019-07-26",
         "05:33:34"
        ],
        [
         "11",
         "mainscreenappear",
         "2547684315586332355",
         "1564123826",
         "248",
         "2019-07-26",
         "06:50:26"
        ],
        [
         "12",
         "mainscreenappear",
         "8885295911290764495",
         "1564124085",
         "248",
         "2019-07-26",
         "06:54:45"
        ],
        [
         "13",
         "mainscreenappear",
         "2140904690380565988",
         "1564125732",
         "247",
         "2019-07-26",
         "07:22:12"
        ],
        [
         "14",
         "mainscreenappear",
         "4444236400320272864",
         "1564135560",
         "246",
         "2019-07-26",
         "10:06:00"
        ],
        [
         "15",
         "mainscreenappear",
         "8947220251154009657",
         "1564140668",
         "248",
         "2019-07-26",
         "11:31:08"
        ],
        [
         "16",
         "mainscreenappear",
         "5839517684026830712",
         "1564141421",
         "247",
         "2019-07-26",
         "11:43:41"
        ],
        [
         "17",
         "mainscreenappear",
         "7540130374989658208",
         "1564144283",
         "248",
         "2019-07-26",
         "12:31:23"
        ],
        [
         "18",
         "cartscreenappear",
         "2575393697599976818",
         "1564148945",
         "247",
         "2019-07-26",
         "13:49:05"
        ],
        [
         "19",
         "mainscreenappear",
         "4651149533106703820",
         "1564149866",
         "246",
         "2019-07-26",
         "14:04:26"
        ],
        [
         "20",
         "offersscreenappear",
         "4651149533106703820",
         "1564149871",
         "246",
         "2019-07-26",
         "14:04:31"
        ],
        [
         "21",
         "cartscreenappear",
         "4651149533106703820",
         "1564149877",
         "246",
         "2019-07-26",
         "14:04:37"
        ],
        [
         "22",
         "offersscreenappear",
         "4651149533106703820",
         "1564149894",
         "246",
         "2019-07-26",
         "14:04:54"
        ],
        [
         "23",
         "mainscreenappear",
         "8295497290010115455",
         "1564151349",
         "248",
         "2019-07-26",
         "14:29:09"
        ],
        [
         "24",
         "mainscreenappear",
         "2467684065904615242",
         "1564155133",
         "247",
         "2019-07-26",
         "15:32:13"
        ],
        [
         "25",
         "cartscreenappear",
         "5325250209390272889",
         "1564158298",
         "246",
         "2019-07-26",
         "16:24:58"
        ],
        [
         "26",
         "offersscreenappear",
         "2029140728621466572",
         "1564160796",
         "246",
         "2019-07-26",
         "17:06:36"
        ],
        [
         "27",
         "cartscreenappear",
         "2029140728621466572",
         "1564160801",
         "246",
         "2019-07-26",
         "17:06:41"
        ],
        [
         "28",
         "paymentscreensuccessful",
         "2029140728621466572",
         "1564160801",
         "246",
         "2019-07-26",
         "17:06:41"
        ],
        [
         "29",
         "tutorial",
         "6598157157289930061",
         "1564164239",
         "247",
         "2019-07-26",
         "18:03:59"
        ],
        [
         "30",
         "tutorial",
         "6598157157289930061",
         "1564164247",
         "247",
         "2019-07-26",
         "18:04:07"
        ],
        [
         "31",
         "offersscreenappear",
         "4917023139263453733",
         "1564164336",
         "247",
         "2019-07-26",
         "18:05:36"
        ],
        [
         "32",
         "mainscreenappear",
         "7746900626563870083",
         "1564165246",
         "248",
         "2019-07-26",
         "18:20:46"
        ],
        [
         "33",
         "mainscreenappear",
         "6587858566581626601",
         "1564165926",
         "246",
         "2019-07-26",
         "18:32:06"
        ],
        [
         "34",
         "mainscreenappear",
         "6587858566581626601",
         "1564165934",
         "246",
         "2019-07-26",
         "18:32:14"
        ],
        [
         "35",
         "paymentscreensuccessful",
         "746235405686708560",
         "1564170266",
         "248",
         "2019-07-26",
         "19:44:26"
        ],
        [
         "36",
         "cartscreenappear",
         "746235405686708560",
         "1564170266",
         "248",
         "2019-07-26",
         "19:44:26"
        ],
        [
         "37",
         "cartscreenappear",
         "6805714022805866600",
         "1564170267",
         "246",
         "2019-07-26",
         "19:44:27"
        ],
        [
         "38",
         "paymentscreensuccessful",
         "6805714022805866600",
         "1564170267",
         "246",
         "2019-07-26",
         "19:44:27"
        ],
        [
         "39",
         "mainscreenappear",
         "4363366562103092326",
         "1564185410",
         "248",
         "2019-07-26",
         "23:56:50"
        ],
        [
         "40",
         "mainscreenappear",
         "4856890444852090984",
         "1564200928",
         "246",
         "2019-07-27",
         "04:15:28"
        ],
        [
         "41",
         "mainscreenappear",
         "2470999879924103731",
         "1564209212",
         "247",
         "2019-07-27",
         "06:33:32"
        ],
        [
         "42",
         "paymentscreensuccessful",
         "6075091495307260046",
         "1564209665",
         "246",
         "2019-07-27",
         "06:41:05"
        ],
        [
         "43",
         "cartscreenappear",
         "6075091495307260046",
         "1564209665",
         "246",
         "2019-07-27",
         "06:41:05"
        ],
        [
         "44",
         "mainscreenappear",
         "2040085853213296046",
         "1564210468",
         "248",
         "2019-07-27",
         "06:54:28"
        ],
        [
         "45",
         "mainscreenappear",
         "3288659580761907806",
         "1564215790",
         "247",
         "2019-07-27",
         "08:23:10"
        ],
        [
         "46",
         "offersscreenappear",
         "2039979342104336040",
         "1564216058",
         "247",
         "2019-07-27",
         "08:27:38"
        ],
        [
         "47",
         "mainscreenappear",
         "5638851536233149647",
         "1564216100",
         "248",
         "2019-07-27",
         "08:28:20"
        ],
        [
         "48",
         "mainscreenappear",
         "4827775328614831155",
         "1564217124",
         "247",
         "2019-07-27",
         "08:45:24"
        ],
        [
         "49",
         "mainscreenappear",
         "4827775328614831155",
         "1564217125",
         "247",
         "2019-07-27",
         "08:45:25"
        ]
       ],
       "shape": {
        "columns": 6,
        "rows": 243713
       }
      },
      "text/html": [
       "<div>\n",
       "<style scoped>\n",
       "    .dataframe tbody tr th:only-of-type {\n",
       "        vertical-align: middle;\n",
       "    }\n",
       "\n",
       "    .dataframe tbody tr th {\n",
       "        vertical-align: top;\n",
       "    }\n",
       "\n",
       "    .dataframe thead th {\n",
       "        text-align: right;\n",
       "    }\n",
       "</style>\n",
       "<table border=\"1\" class=\"dataframe\">\n",
       "  <thead>\n",
       "    <tr style=\"text-align: right;\">\n",
       "      <th></th>\n",
       "      <th>eventname</th>\n",
       "      <th>deviceidhash</th>\n",
       "      <th>datetime</th>\n",
       "      <th>expid</th>\n",
       "      <th>date</th>\n",
       "      <th>time</th>\n",
       "    </tr>\n",
       "  </thead>\n",
       "  <tbody>\n",
       "    <tr>\n",
       "      <th>0</th>\n",
       "      <td>mainscreenappear</td>\n",
       "      <td>4575588528974610257</td>\n",
       "      <td>1564029816</td>\n",
       "      <td>246</td>\n",
       "      <td>2019-07-25</td>\n",
       "      <td>04:43:36</td>\n",
       "    </tr>\n",
       "    <tr>\n",
       "      <th>1</th>\n",
       "      <td>mainscreenappear</td>\n",
       "      <td>7416695313311560658</td>\n",
       "      <td>1564053102</td>\n",
       "      <td>246</td>\n",
       "      <td>2019-07-25</td>\n",
       "      <td>11:11:42</td>\n",
       "    </tr>\n",
       "    <tr>\n",
       "      <th>2</th>\n",
       "      <td>paymentscreensuccessful</td>\n",
       "      <td>3518123091307005509</td>\n",
       "      <td>1564054127</td>\n",
       "      <td>248</td>\n",
       "      <td>2019-07-25</td>\n",
       "      <td>11:28:47</td>\n",
       "    </tr>\n",
       "    <tr>\n",
       "      <th>3</th>\n",
       "      <td>cartscreenappear</td>\n",
       "      <td>3518123091307005509</td>\n",
       "      <td>1564054127</td>\n",
       "      <td>248</td>\n",
       "      <td>2019-07-25</td>\n",
       "      <td>11:28:47</td>\n",
       "    </tr>\n",
       "    <tr>\n",
       "      <th>4</th>\n",
       "      <td>paymentscreensuccessful</td>\n",
       "      <td>6217807653094995999</td>\n",
       "      <td>1564055322</td>\n",
       "      <td>248</td>\n",
       "      <td>2019-07-25</td>\n",
       "      <td>11:48:42</td>\n",
       "    </tr>\n",
       "    <tr>\n",
       "      <th>...</th>\n",
       "      <td>...</td>\n",
       "      <td>...</td>\n",
       "      <td>...</td>\n",
       "      <td>...</td>\n",
       "      <td>...</td>\n",
       "      <td>...</td>\n",
       "    </tr>\n",
       "    <tr>\n",
       "      <th>243708</th>\n",
       "      <td>mainscreenappear</td>\n",
       "      <td>4599628364049201812</td>\n",
       "      <td>1565212345</td>\n",
       "      <td>247</td>\n",
       "      <td>2019-08-07</td>\n",
       "      <td>21:12:25</td>\n",
       "    </tr>\n",
       "    <tr>\n",
       "      <th>243709</th>\n",
       "      <td>mainscreenappear</td>\n",
       "      <td>5849806612437486590</td>\n",
       "      <td>1565212439</td>\n",
       "      <td>246</td>\n",
       "      <td>2019-08-07</td>\n",
       "      <td>21:13:59</td>\n",
       "    </tr>\n",
       "    <tr>\n",
       "      <th>243710</th>\n",
       "      <td>mainscreenappear</td>\n",
       "      <td>5746969938801999050</td>\n",
       "      <td>1565212483</td>\n",
       "      <td>246</td>\n",
       "      <td>2019-08-07</td>\n",
       "      <td>21:14:43</td>\n",
       "    </tr>\n",
       "    <tr>\n",
       "      <th>243711</th>\n",
       "      <td>mainscreenappear</td>\n",
       "      <td>5746969938801999050</td>\n",
       "      <td>1565212498</td>\n",
       "      <td>246</td>\n",
       "      <td>2019-08-07</td>\n",
       "      <td>21:14:58</td>\n",
       "    </tr>\n",
       "    <tr>\n",
       "      <th>243712</th>\n",
       "      <td>offersscreenappear</td>\n",
       "      <td>5746969938801999050</td>\n",
       "      <td>1565212517</td>\n",
       "      <td>246</td>\n",
       "      <td>2019-08-07</td>\n",
       "      <td>21:15:17</td>\n",
       "    </tr>\n",
       "  </tbody>\n",
       "</table>\n",
       "<p>243713 rows × 6 columns</p>\n",
       "</div>"
      ],
      "text/plain": [
       "                      eventname         deviceidhash    datetime  expid        date      time\n",
       "0              mainscreenappear  4575588528974610257  1564029816    246  2019-07-25  04:43:36\n",
       "1              mainscreenappear  7416695313311560658  1564053102    246  2019-07-25  11:11:42\n",
       "2       paymentscreensuccessful  3518123091307005509  1564054127    248  2019-07-25  11:28:47\n",
       "3              cartscreenappear  3518123091307005509  1564054127    248  2019-07-25  11:28:47\n",
       "4       paymentscreensuccessful  6217807653094995999  1564055322    248  2019-07-25  11:48:42\n",
       "...                         ...                  ...         ...    ...         ...       ...\n",
       "243708         mainscreenappear  4599628364049201812  1565212345    247  2019-08-07  21:12:25\n",
       "243709         mainscreenappear  5849806612437486590  1565212439    246  2019-08-07  21:13:59\n",
       "243710         mainscreenappear  5746969938801999050  1565212483    246  2019-08-07  21:14:43\n",
       "243711         mainscreenappear  5746969938801999050  1565212498    246  2019-08-07  21:14:58\n",
       "243712       offersscreenappear  5746969938801999050  1565212517    246  2019-08-07  21:15:17\n",
       "\n",
       "[243713 rows x 6 columns]"
      ]
     },
     "execution_count": 20,
     "metadata": {},
     "output_type": "execute_result"
    }
   ],
   "source": [
    "# Find the point at which the data begins to be complete and ignore the previous section. What period does the data actually represent?\n",
    "df_fs[\"datetime\"] = df_fs[\"datetime\"].astype(\"int64\") // 10**9\n",
    "df_fs\n"
   ]
  },
  {
   "cell_type": "code",
   "execution_count": 21,
   "id": "ea6256d7",
   "metadata": {},
   "outputs": [
    {
     "data": {
      "text/html": [
       "> Outlier thresholds for <i>'datetime'</i>: \n",
       "> Lower = <b>1564279636.500</b>, > Upper = <b>1565551552.500</b>"
      ],
      "text/plain": [
       "<IPython.core.display.HTML object>"
      ]
     },
     "metadata": {},
     "output_type": "display_data"
    },
    {
     "data": {
      "text/html": [
       "> <b>No</b> upper outliers found in column <i>'datetime'</i>."
      ],
      "text/plain": [
       "<IPython.core.display.HTML object>"
      ]
     },
     "metadata": {},
     "output_type": "display_data"
    },
    {
     "data": {
      "text/html": [
       "- - -"
      ],
      "text/plain": [
       "<IPython.core.display.HTML object>"
      ]
     },
     "metadata": {},
     "output_type": "display_data"
    },
    {
     "data": {
      "text/html": [
       "> Outliers:"
      ],
      "text/plain": [
       "<IPython.core.display.HTML object>"
      ]
     },
     "metadata": {},
     "output_type": "display_data"
    },
    {
     "data": {
      "application/vnd.microsoft.datawrangler.viewer.v0+json": {
       "columns": [
        {
         "name": "index",
         "rawType": "int64",
         "type": "integer"
        },
        {
         "name": "eventname",
         "rawType": "category",
         "type": "unknown"
        },
        {
         "name": "deviceidhash",
         "rawType": "int64",
         "type": "integer"
        },
        {
         "name": "datetime",
         "rawType": "int64",
         "type": "integer"
        },
        {
         "name": "expid",
         "rawType": "int64",
         "type": "integer"
        },
        {
         "name": "date",
         "rawType": "object",
         "type": "unknown"
        },
        {
         "name": "time",
         "rawType": "object",
         "type": "unknown"
        }
       ],
       "ref": "fb905f18-fc2c-488c-b99d-c3946151e9ce",
       "rows": [
        [
         "0",
         "mainscreenappear",
         "4575588528974610257",
         "1564029816",
         "246",
         "2019-07-25",
         "04:43:36"
        ],
        [
         "1",
         "mainscreenappear",
         "7416695313311560658",
         "1564053102",
         "246",
         "2019-07-25",
         "11:11:42"
        ],
        [
         "2",
         "paymentscreensuccessful",
         "3518123091307005509",
         "1564054127",
         "248",
         "2019-07-25",
         "11:28:47"
        ],
        [
         "3",
         "cartscreenappear",
         "3518123091307005509",
         "1564054127",
         "248",
         "2019-07-25",
         "11:28:47"
        ],
        [
         "4",
         "paymentscreensuccessful",
         "6217807653094995999",
         "1564055322",
         "248",
         "2019-07-25",
         "11:48:42"
        ],
        [
         "5",
         "cartscreenappear",
         "6217807653094995999",
         "1564055323",
         "248",
         "2019-07-25",
         "11:48:43"
        ],
        [
         "6",
         "offersscreenappear",
         "8351860793733343758",
         "1564066242",
         "246",
         "2019-07-25",
         "14:50:42"
        ],
        [
         "7",
         "mainscreenappear",
         "5682100281902512875",
         "1564085677",
         "246",
         "2019-07-25",
         "20:14:37"
        ],
        [
         "8",
         "mainscreenappear",
         "1850981295691852772",
         "1564086702",
         "247",
         "2019-07-25",
         "20:31:42"
        ],
        [
         "9",
         "mainscreenappear",
         "5407636962369102641",
         "1564112112",
         "246",
         "2019-07-26",
         "03:35:12"
        ],
        [
         "10",
         "mainscreenappear",
         "948465712512390382",
         "1564119214",
         "247",
         "2019-07-26",
         "05:33:34"
        ],
        [
         "11",
         "mainscreenappear",
         "2547684315586332355",
         "1564123826",
         "248",
         "2019-07-26",
         "06:50:26"
        ],
        [
         "12",
         "mainscreenappear",
         "8885295911290764495",
         "1564124085",
         "248",
         "2019-07-26",
         "06:54:45"
        ],
        [
         "13",
         "mainscreenappear",
         "2140904690380565988",
         "1564125732",
         "247",
         "2019-07-26",
         "07:22:12"
        ],
        [
         "14",
         "mainscreenappear",
         "4444236400320272864",
         "1564135560",
         "246",
         "2019-07-26",
         "10:06:00"
        ],
        [
         "15",
         "mainscreenappear",
         "8947220251154009657",
         "1564140668",
         "248",
         "2019-07-26",
         "11:31:08"
        ],
        [
         "16",
         "mainscreenappear",
         "5839517684026830712",
         "1564141421",
         "247",
         "2019-07-26",
         "11:43:41"
        ],
        [
         "17",
         "mainscreenappear",
         "7540130374989658208",
         "1564144283",
         "248",
         "2019-07-26",
         "12:31:23"
        ],
        [
         "18",
         "cartscreenappear",
         "2575393697599976818",
         "1564148945",
         "247",
         "2019-07-26",
         "13:49:05"
        ],
        [
         "19",
         "mainscreenappear",
         "4651149533106703820",
         "1564149866",
         "246",
         "2019-07-26",
         "14:04:26"
        ],
        [
         "20",
         "offersscreenappear",
         "4651149533106703820",
         "1564149871",
         "246",
         "2019-07-26",
         "14:04:31"
        ],
        [
         "21",
         "cartscreenappear",
         "4651149533106703820",
         "1564149877",
         "246",
         "2019-07-26",
         "14:04:37"
        ],
        [
         "22",
         "offersscreenappear",
         "4651149533106703820",
         "1564149894",
         "246",
         "2019-07-26",
         "14:04:54"
        ],
        [
         "23",
         "mainscreenappear",
         "8295497290010115455",
         "1564151349",
         "248",
         "2019-07-26",
         "14:29:09"
        ],
        [
         "24",
         "mainscreenappear",
         "2467684065904615242",
         "1564155133",
         "247",
         "2019-07-26",
         "15:32:13"
        ],
        [
         "25",
         "cartscreenappear",
         "5325250209390272889",
         "1564158298",
         "246",
         "2019-07-26",
         "16:24:58"
        ],
        [
         "26",
         "offersscreenappear",
         "2029140728621466572",
         "1564160796",
         "246",
         "2019-07-26",
         "17:06:36"
        ],
        [
         "27",
         "cartscreenappear",
         "2029140728621466572",
         "1564160801",
         "246",
         "2019-07-26",
         "17:06:41"
        ],
        [
         "28",
         "paymentscreensuccessful",
         "2029140728621466572",
         "1564160801",
         "246",
         "2019-07-26",
         "17:06:41"
        ],
        [
         "29",
         "tutorial",
         "6598157157289930061",
         "1564164239",
         "247",
         "2019-07-26",
         "18:03:59"
        ],
        [
         "30",
         "tutorial",
         "6598157157289930061",
         "1564164247",
         "247",
         "2019-07-26",
         "18:04:07"
        ],
        [
         "31",
         "offersscreenappear",
         "4917023139263453733",
         "1564164336",
         "247",
         "2019-07-26",
         "18:05:36"
        ],
        [
         "32",
         "mainscreenappear",
         "7746900626563870083",
         "1564165246",
         "248",
         "2019-07-26",
         "18:20:46"
        ],
        [
         "33",
         "mainscreenappear",
         "6587858566581626601",
         "1564165926",
         "246",
         "2019-07-26",
         "18:32:06"
        ],
        [
         "34",
         "mainscreenappear",
         "6587858566581626601",
         "1564165934",
         "246",
         "2019-07-26",
         "18:32:14"
        ],
        [
         "35",
         "paymentscreensuccessful",
         "746235405686708560",
         "1564170266",
         "248",
         "2019-07-26",
         "19:44:26"
        ],
        [
         "36",
         "cartscreenappear",
         "746235405686708560",
         "1564170266",
         "248",
         "2019-07-26",
         "19:44:26"
        ],
        [
         "37",
         "cartscreenappear",
         "6805714022805866600",
         "1564170267",
         "246",
         "2019-07-26",
         "19:44:27"
        ],
        [
         "38",
         "paymentscreensuccessful",
         "6805714022805866600",
         "1564170267",
         "246",
         "2019-07-26",
         "19:44:27"
        ],
        [
         "39",
         "mainscreenappear",
         "4363366562103092326",
         "1564185410",
         "248",
         "2019-07-26",
         "23:56:50"
        ],
        [
         "40",
         "mainscreenappear",
         "4856890444852090984",
         "1564200928",
         "246",
         "2019-07-27",
         "04:15:28"
        ],
        [
         "41",
         "mainscreenappear",
         "2470999879924103731",
         "1564209212",
         "247",
         "2019-07-27",
         "06:33:32"
        ],
        [
         "42",
         "paymentscreensuccessful",
         "6075091495307260046",
         "1564209665",
         "246",
         "2019-07-27",
         "06:41:05"
        ],
        [
         "43",
         "cartscreenappear",
         "6075091495307260046",
         "1564209665",
         "246",
         "2019-07-27",
         "06:41:05"
        ],
        [
         "44",
         "mainscreenappear",
         "2040085853213296046",
         "1564210468",
         "248",
         "2019-07-27",
         "06:54:28"
        ],
        [
         "45",
         "mainscreenappear",
         "3288659580761907806",
         "1564215790",
         "247",
         "2019-07-27",
         "08:23:10"
        ],
        [
         "46",
         "offersscreenappear",
         "2039979342104336040",
         "1564216058",
         "247",
         "2019-07-27",
         "08:27:38"
        ],
        [
         "47",
         "mainscreenappear",
         "5638851536233149647",
         "1564216100",
         "248",
         "2019-07-27",
         "08:28:20"
        ],
        [
         "48",
         "mainscreenappear",
         "4827775328614831155",
         "1564217124",
         "247",
         "2019-07-27",
         "08:45:24"
        ],
        [
         "49",
         "mainscreenappear",
         "4827775328614831155",
         "1564217125",
         "247",
         "2019-07-27",
         "08:45:25"
        ]
       ],
       "shape": {
        "columns": 6,
        "rows": 95
       }
      },
      "text/html": [
       "<div>\n",
       "<style scoped>\n",
       "    .dataframe tbody tr th:only-of-type {\n",
       "        vertical-align: middle;\n",
       "    }\n",
       "\n",
       "    .dataframe tbody tr th {\n",
       "        vertical-align: top;\n",
       "    }\n",
       "\n",
       "    .dataframe thead th {\n",
       "        text-align: right;\n",
       "    }\n",
       "</style>\n",
       "<table border=\"1\" class=\"dataframe\">\n",
       "  <thead>\n",
       "    <tr style=\"text-align: right;\">\n",
       "      <th></th>\n",
       "      <th>eventname</th>\n",
       "      <th>deviceidhash</th>\n",
       "      <th>datetime</th>\n",
       "      <th>expid</th>\n",
       "      <th>date</th>\n",
       "      <th>time</th>\n",
       "    </tr>\n",
       "  </thead>\n",
       "  <tbody>\n",
       "    <tr>\n",
       "      <th>0</th>\n",
       "      <td>mainscreenappear</td>\n",
       "      <td>4575588528974610257</td>\n",
       "      <td>1564029816</td>\n",
       "      <td>246</td>\n",
       "      <td>2019-07-25</td>\n",
       "      <td>04:43:36</td>\n",
       "    </tr>\n",
       "    <tr>\n",
       "      <th>1</th>\n",
       "      <td>mainscreenappear</td>\n",
       "      <td>7416695313311560658</td>\n",
       "      <td>1564053102</td>\n",
       "      <td>246</td>\n",
       "      <td>2019-07-25</td>\n",
       "      <td>11:11:42</td>\n",
       "    </tr>\n",
       "    <tr>\n",
       "      <th>2</th>\n",
       "      <td>paymentscreensuccessful</td>\n",
       "      <td>3518123091307005509</td>\n",
       "      <td>1564054127</td>\n",
       "      <td>248</td>\n",
       "      <td>2019-07-25</td>\n",
       "      <td>11:28:47</td>\n",
       "    </tr>\n",
       "    <tr>\n",
       "      <th>3</th>\n",
       "      <td>cartscreenappear</td>\n",
       "      <td>3518123091307005509</td>\n",
       "      <td>1564054127</td>\n",
       "      <td>248</td>\n",
       "      <td>2019-07-25</td>\n",
       "      <td>11:28:47</td>\n",
       "    </tr>\n",
       "    <tr>\n",
       "      <th>4</th>\n",
       "      <td>paymentscreensuccessful</td>\n",
       "      <td>6217807653094995999</td>\n",
       "      <td>1564055322</td>\n",
       "      <td>248</td>\n",
       "      <td>2019-07-25</td>\n",
       "      <td>11:48:42</td>\n",
       "    </tr>\n",
       "    <tr>\n",
       "      <th>...</th>\n",
       "      <td>...</td>\n",
       "      <td>...</td>\n",
       "      <td>...</td>\n",
       "      <td>...</td>\n",
       "      <td>...</td>\n",
       "      <td>...</td>\n",
       "    </tr>\n",
       "    <tr>\n",
       "      <th>90</th>\n",
       "      <td>mainscreenappear</td>\n",
       "      <td>2793988848638831992</td>\n",
       "      <td>1564252142</td>\n",
       "      <td>247</td>\n",
       "      <td>2019-07-27</td>\n",
       "      <td>18:29:02</td>\n",
       "    </tr>\n",
       "    <tr>\n",
       "      <th>91</th>\n",
       "      <td>offersscreenappear</td>\n",
       "      <td>4284716907364183621</td>\n",
       "      <td>1564253762</td>\n",
       "      <td>247</td>\n",
       "      <td>2019-07-27</td>\n",
       "      <td>18:56:02</td>\n",
       "    </tr>\n",
       "    <tr>\n",
       "      <th>92</th>\n",
       "      <td>mainscreenappear</td>\n",
       "      <td>5218365729556903805</td>\n",
       "      <td>1564255514</td>\n",
       "      <td>247</td>\n",
       "      <td>2019-07-27</td>\n",
       "      <td>19:25:14</td>\n",
       "    </tr>\n",
       "    <tr>\n",
       "      <th>93</th>\n",
       "      <td>mainscreenappear</td>\n",
       "      <td>5218365729556903805</td>\n",
       "      <td>1564255522</td>\n",
       "      <td>247</td>\n",
       "      <td>2019-07-27</td>\n",
       "      <td>19:25:22</td>\n",
       "    </tr>\n",
       "    <tr>\n",
       "      <th>94</th>\n",
       "      <td>mainscreenappear</td>\n",
       "      <td>9134757032322342404</td>\n",
       "      <td>1564270549</td>\n",
       "      <td>248</td>\n",
       "      <td>2019-07-27</td>\n",
       "      <td>23:35:49</td>\n",
       "    </tr>\n",
       "  </tbody>\n",
       "</table>\n",
       "<p>95 rows × 6 columns</p>\n",
       "</div>"
      ],
      "text/plain": [
       "                  eventname         deviceidhash    datetime  expid        date      time\n",
       "0          mainscreenappear  4575588528974610257  1564029816    246  2019-07-25  04:43:36\n",
       "1          mainscreenappear  7416695313311560658  1564053102    246  2019-07-25  11:11:42\n",
       "2   paymentscreensuccessful  3518123091307005509  1564054127    248  2019-07-25  11:28:47\n",
       "3          cartscreenappear  3518123091307005509  1564054127    248  2019-07-25  11:28:47\n",
       "4   paymentscreensuccessful  6217807653094995999  1564055322    248  2019-07-25  11:48:42\n",
       "..                      ...                  ...         ...    ...         ...       ...\n",
       "90         mainscreenappear  2793988848638831992  1564252142    247  2019-07-27  18:29:02\n",
       "91       offersscreenappear  4284716907364183621  1564253762    247  2019-07-27  18:56:02\n",
       "92         mainscreenappear  5218365729556903805  1564255514    247  2019-07-27  19:25:14\n",
       "93         mainscreenappear  5218365729556903805  1564255522    247  2019-07-27  19:25:22\n",
       "94         mainscreenappear  9134757032322342404  1564270549    248  2019-07-27  23:35:49\n",
       "\n",
       "[95 rows x 6 columns]"
      ]
     },
     "execution_count": 21,
     "metadata": {},
     "output_type": "execute_result"
    }
   ],
   "source": [
    "# Analyzing outliers\n",
    "outlier_limit_bounds(df_fs, column='datetime', bound='both', clamp_zero=False)"
   ]
  },
  {
   "cell_type": "code",
   "execution_count": 22,
   "id": "0c4fa608",
   "metadata": {},
   "outputs": [
    {
     "data": {
      "text/html": [
       "> Lower = 2019-07-28 02:07:16.500000+00:00"
      ],
      "text/plain": [
       "<IPython.core.display.HTML object>"
      ]
     },
     "metadata": {},
     "output_type": "display_data"
    },
    {
     "data": {
      "text/html": [
       "> Lower = 2019-08-11 19:25:52.500000+00:00"
      ],
      "text/plain": [
       "<IPython.core.display.HTML object>"
      ]
     },
     "metadata": {},
     "output_type": "display_data"
    }
   ],
   "source": [
    "display(HTML(f\"> Lower = {pd.to_datetime(1564279636.500, unit=\"s\", utc=True)}\"))\n",
    "display(HTML(f\"> Lower = {pd.to_datetime(1565551552.500, unit=\"s\", utc=True)}\"))"
   ]
  },
  {
   "cell_type": "code",
   "execution_count": 23,
   "id": "aceaead8",
   "metadata": {},
   "outputs": [
    {
     "data": {
      "application/vnd.microsoft.datawrangler.viewer.v0+json": {
       "columns": [
        {
         "name": "index",
         "rawType": "int64",
         "type": "integer"
        },
        {
         "name": "eventname",
         "rawType": "category",
         "type": "unknown"
        },
        {
         "name": "deviceidhash",
         "rawType": "int64",
         "type": "integer"
        },
        {
         "name": "datetime",
         "rawType": "datetime64[ns]",
         "type": "datetime"
        },
        {
         "name": "expid",
         "rawType": "int64",
         "type": "integer"
        },
        {
         "name": "date",
         "rawType": "object",
         "type": "unknown"
        },
        {
         "name": "time",
         "rawType": "object",
         "type": "unknown"
        }
       ],
       "ref": "0bb101f6-114d-410c-962d-ed89af6c2cf5",
       "rows": [
        [
         "110",
         "offersscreenappear",
         "5287660122200561379",
         "2019-07-28 07:24:12",
         "247",
         "2019-07-28",
         "07:24:12"
        ],
        [
         "111",
         "mainscreenappear",
         "4601930136642303959",
         "2019-07-28 07:25:42",
         "246",
         "2019-07-28",
         "07:25:42"
        ],
        [
         "112",
         "mainscreenappear",
         "4078637421796153763",
         "2019-07-28 07:31:58",
         "248",
         "2019-07-28",
         "07:31:58"
        ],
        [
         "113",
         "mainscreenappear",
         "2851587046453391812",
         "2019-07-28 07:40:40",
         "246",
         "2019-07-28",
         "07:40:40"
        ],
        [
         "114",
         "mainscreenappear",
         "9111985047183779356",
         "2019-07-28 07:48:19",
         "247",
         "2019-07-28",
         "07:48:19"
        ],
        [
         "115",
         "mainscreenappear",
         "9111985047183779356",
         "2019-07-28 07:48:21",
         "247",
         "2019-07-28",
         "07:48:21"
        ],
        [
         "116",
         "mainscreenappear",
         "5286459037591191376",
         "2019-07-28 07:57:57",
         "246",
         "2019-07-28",
         "07:57:57"
        ],
        [
         "117",
         "mainscreenappear",
         "6632271106649913331",
         "2019-07-28 08:12:24",
         "248",
         "2019-07-28",
         "08:12:24"
        ],
        [
         "118",
         "mainscreenappear",
         "7247480119368198552",
         "2019-07-28 08:39:52",
         "248",
         "2019-07-28",
         "08:39:52"
        ],
        [
         "119",
         "mainscreenappear",
         "7098993074549869464",
         "2019-07-28 08:41:24",
         "246",
         "2019-07-28",
         "08:41:24"
        ],
        [
         "120",
         "mainscreenappear",
         "7098993074549869464",
         "2019-07-28 08:41:41",
         "246",
         "2019-07-28",
         "08:41:41"
        ],
        [
         "121",
         "mainscreenappear",
         "7098993074549869464",
         "2019-07-28 08:41:42",
         "246",
         "2019-07-28",
         "08:41:42"
        ],
        [
         "122",
         "cartscreenappear",
         "3881814466361668142",
         "2019-07-28 09:24:48",
         "246",
         "2019-07-28",
         "09:24:48"
        ],
        [
         "123",
         "mainscreenappear",
         "3862495678968227159",
         "2019-07-28 09:34:44",
         "246",
         "2019-07-28",
         "09:34:44"
        ],
        [
         "124",
         "mainscreenappear",
         "7098993074549869464",
         "2019-07-28 10:09:44",
         "246",
         "2019-07-28",
         "10:09:44"
        ],
        [
         "125",
         "mainscreenappear",
         "6718872854672502293",
         "2019-07-28 10:11:12",
         "246",
         "2019-07-28",
         "10:11:12"
        ],
        [
         "126",
         "cartscreenappear",
         "6740804002403370560",
         "2019-07-28 10:22:13",
         "247",
         "2019-07-28",
         "10:22:13"
        ],
        [
         "127",
         "cartscreenappear",
         "1816193964766086568",
         "2019-07-28 11:53:35",
         "246",
         "2019-07-28",
         "11:53:35"
        ],
        [
         "128",
         "offersscreenappear",
         "8803201854993735973",
         "2019-07-28 12:14:23",
         "247",
         "2019-07-28",
         "12:14:23"
        ],
        [
         "129",
         "mainscreenappear",
         "3254317932296765940",
         "2019-07-28 12:21:07",
         "246",
         "2019-07-28",
         "12:21:07"
        ],
        [
         "130",
         "mainscreenappear",
         "7062422321199352132",
         "2019-07-28 12:30:47",
         "246",
         "2019-07-28",
         "12:30:47"
        ],
        [
         "131",
         "paymentscreensuccessful",
         "2504464050730025625",
         "2019-07-28 12:34:18",
         "247",
         "2019-07-28",
         "12:34:18"
        ],
        [
         "132",
         "cartscreenappear",
         "2504464050730025625",
         "2019-07-28 12:34:18",
         "247",
         "2019-07-28",
         "12:34:18"
        ],
        [
         "133",
         "cartscreenappear",
         "2310567447000311087",
         "2019-07-28 12:37:37",
         "247",
         "2019-07-28",
         "12:37:37"
        ],
        [
         "134",
         "paymentscreensuccessful",
         "2310567447000311087",
         "2019-07-28 12:37:37",
         "247",
         "2019-07-28",
         "12:37:37"
        ],
        [
         "135",
         "mainscreenappear",
         "2412302828863983602",
         "2019-07-28 12:39:40",
         "246",
         "2019-07-28",
         "12:39:40"
        ],
        [
         "136",
         "paymentscreensuccessful",
         "8416803071325524257",
         "2019-07-28 12:51:05",
         "246",
         "2019-07-28",
         "12:51:05"
        ],
        [
         "137",
         "cartscreenappear",
         "8416803071325524257",
         "2019-07-28 12:51:06",
         "246",
         "2019-07-28",
         "12:51:06"
        ],
        [
         "138",
         "mainscreenappear",
         "519684206898074804",
         "2019-07-28 13:01:58",
         "248",
         "2019-07-28",
         "13:01:58"
        ],
        [
         "139",
         "mainscreenappear",
         "5652604965383417961",
         "2019-07-28 13:02:48",
         "247",
         "2019-07-28",
         "13:02:48"
        ],
        [
         "140",
         "offersscreenappear",
         "5652604965383417961",
         "2019-07-28 13:02:52",
         "247",
         "2019-07-28",
         "13:02:52"
        ],
        [
         "141",
         "offersscreenappear",
         "5652604965383417961",
         "2019-07-28 13:03:22",
         "247",
         "2019-07-28",
         "13:03:22"
        ],
        [
         "142",
         "mainscreenappear",
         "5652604965383417961",
         "2019-07-28 13:05:52",
         "247",
         "2019-07-28",
         "13:05:52"
        ],
        [
         "143",
         "offersscreenappear",
         "5652604965383417961",
         "2019-07-28 13:05:56",
         "247",
         "2019-07-28",
         "13:05:56"
        ],
        [
         "144",
         "mainscreenappear",
         "7621543483410775428",
         "2019-07-28 13:06:10",
         "247",
         "2019-07-28",
         "13:06:10"
        ],
        [
         "145",
         "offersscreenappear",
         "5652604965383417961",
         "2019-07-28 13:06:13",
         "247",
         "2019-07-28",
         "13:06:13"
        ],
        [
         "146",
         "offersscreenappear",
         "519684206898074804",
         "2019-07-28 13:06:21",
         "248",
         "2019-07-28",
         "13:06:21"
        ],
        [
         "147",
         "offersscreenappear",
         "4703081243737778270",
         "2019-07-28 13:11:30",
         "247",
         "2019-07-28",
         "13:11:30"
        ],
        [
         "148",
         "mainscreenappear",
         "519684206898074804",
         "2019-07-28 13:12:06",
         "248",
         "2019-07-28",
         "13:12:06"
        ],
        [
         "149",
         "offersscreenappear",
         "519684206898074804",
         "2019-07-28 13:13:05",
         "248",
         "2019-07-28",
         "13:13:05"
        ],
        [
         "150",
         "mainscreenappear",
         "8810941885921686538",
         "2019-07-28 13:34:32",
         "247",
         "2019-07-28",
         "13:34:32"
        ],
        [
         "151",
         "mainscreenappear",
         "1956901356283862679",
         "2019-07-28 13:40:12",
         "247",
         "2019-07-28",
         "13:40:12"
        ],
        [
         "152",
         "mainscreenappear",
         "2068231509725197472",
         "2019-07-28 14:07:42",
         "246",
         "2019-07-28",
         "14:07:42"
        ],
        [
         "153",
         "mainscreenappear",
         "7379684506204665339",
         "2019-07-28 14:20:11",
         "247",
         "2019-07-28",
         "14:20:11"
        ],
        [
         "154",
         "mainscreenappear",
         "2126522902876821289",
         "2019-07-28 14:22:20",
         "247",
         "2019-07-28",
         "14:22:20"
        ],
        [
         "155",
         "mainscreenappear",
         "567723824013869921",
         "2019-07-28 14:31:13",
         "248",
         "2019-07-28",
         "14:31:13"
        ],
        [
         "156",
         "offersscreenappear",
         "2158697942336348976",
         "2019-07-28 14:44:18",
         "246",
         "2019-07-28",
         "14:44:18"
        ],
        [
         "157",
         "mainscreenappear",
         "3546653713328088383",
         "2019-07-28 14:46:03",
         "246",
         "2019-07-28",
         "14:46:03"
        ],
        [
         "158",
         "mainscreenappear",
         "8523590611747568369",
         "2019-07-28 14:47:13",
         "247",
         "2019-07-28",
         "14:47:13"
        ],
        [
         "159",
         "paymentscreensuccessful",
         "741217858549528863",
         "2019-07-28 15:07:08",
         "247",
         "2019-07-28",
         "15:07:08"
        ]
       ],
       "shape": {
        "columns": 6,
        "rows": 243603
       }
      },
      "text/html": [
       "<div>\n",
       "<style scoped>\n",
       "    .dataframe tbody tr th:only-of-type {\n",
       "        vertical-align: middle;\n",
       "    }\n",
       "\n",
       "    .dataframe tbody tr th {\n",
       "        vertical-align: top;\n",
       "    }\n",
       "\n",
       "    .dataframe thead th {\n",
       "        text-align: right;\n",
       "    }\n",
       "</style>\n",
       "<table border=\"1\" class=\"dataframe\">\n",
       "  <thead>\n",
       "    <tr style=\"text-align: right;\">\n",
       "      <th></th>\n",
       "      <th>eventname</th>\n",
       "      <th>deviceidhash</th>\n",
       "      <th>datetime</th>\n",
       "      <th>expid</th>\n",
       "      <th>date</th>\n",
       "      <th>time</th>\n",
       "    </tr>\n",
       "  </thead>\n",
       "  <tbody>\n",
       "    <tr>\n",
       "      <th>110</th>\n",
       "      <td>offersscreenappear</td>\n",
       "      <td>5287660122200561379</td>\n",
       "      <td>2019-07-28 07:24:12</td>\n",
       "      <td>247</td>\n",
       "      <td>2019-07-28</td>\n",
       "      <td>07:24:12</td>\n",
       "    </tr>\n",
       "    <tr>\n",
       "      <th>111</th>\n",
       "      <td>mainscreenappear</td>\n",
       "      <td>4601930136642303959</td>\n",
       "      <td>2019-07-28 07:25:42</td>\n",
       "      <td>246</td>\n",
       "      <td>2019-07-28</td>\n",
       "      <td>07:25:42</td>\n",
       "    </tr>\n",
       "    <tr>\n",
       "      <th>112</th>\n",
       "      <td>mainscreenappear</td>\n",
       "      <td>4078637421796153763</td>\n",
       "      <td>2019-07-28 07:31:58</td>\n",
       "      <td>248</td>\n",
       "      <td>2019-07-28</td>\n",
       "      <td>07:31:58</td>\n",
       "    </tr>\n",
       "    <tr>\n",
       "      <th>113</th>\n",
       "      <td>mainscreenappear</td>\n",
       "      <td>2851587046453391812</td>\n",
       "      <td>2019-07-28 07:40:40</td>\n",
       "      <td>246</td>\n",
       "      <td>2019-07-28</td>\n",
       "      <td>07:40:40</td>\n",
       "    </tr>\n",
       "    <tr>\n",
       "      <th>114</th>\n",
       "      <td>mainscreenappear</td>\n",
       "      <td>9111985047183779356</td>\n",
       "      <td>2019-07-28 07:48:19</td>\n",
       "      <td>247</td>\n",
       "      <td>2019-07-28</td>\n",
       "      <td>07:48:19</td>\n",
       "    </tr>\n",
       "    <tr>\n",
       "      <th>...</th>\n",
       "      <td>...</td>\n",
       "      <td>...</td>\n",
       "      <td>...</td>\n",
       "      <td>...</td>\n",
       "      <td>...</td>\n",
       "      <td>...</td>\n",
       "    </tr>\n",
       "    <tr>\n",
       "      <th>243708</th>\n",
       "      <td>mainscreenappear</td>\n",
       "      <td>4599628364049201812</td>\n",
       "      <td>2019-08-07 21:12:25</td>\n",
       "      <td>247</td>\n",
       "      <td>2019-08-07</td>\n",
       "      <td>21:12:25</td>\n",
       "    </tr>\n",
       "    <tr>\n",
       "      <th>243709</th>\n",
       "      <td>mainscreenappear</td>\n",
       "      <td>5849806612437486590</td>\n",
       "      <td>2019-08-07 21:13:59</td>\n",
       "      <td>246</td>\n",
       "      <td>2019-08-07</td>\n",
       "      <td>21:13:59</td>\n",
       "    </tr>\n",
       "    <tr>\n",
       "      <th>243710</th>\n",
       "      <td>mainscreenappear</td>\n",
       "      <td>5746969938801999050</td>\n",
       "      <td>2019-08-07 21:14:43</td>\n",
       "      <td>246</td>\n",
       "      <td>2019-08-07</td>\n",
       "      <td>21:14:43</td>\n",
       "    </tr>\n",
       "    <tr>\n",
       "      <th>243711</th>\n",
       "      <td>mainscreenappear</td>\n",
       "      <td>5746969938801999050</td>\n",
       "      <td>2019-08-07 21:14:58</td>\n",
       "      <td>246</td>\n",
       "      <td>2019-08-07</td>\n",
       "      <td>21:14:58</td>\n",
       "    </tr>\n",
       "    <tr>\n",
       "      <th>243712</th>\n",
       "      <td>offersscreenappear</td>\n",
       "      <td>5746969938801999050</td>\n",
       "      <td>2019-08-07 21:15:17</td>\n",
       "      <td>246</td>\n",
       "      <td>2019-08-07</td>\n",
       "      <td>21:15:17</td>\n",
       "    </tr>\n",
       "  </tbody>\n",
       "</table>\n",
       "<p>243603 rows × 6 columns</p>\n",
       "</div>"
      ],
      "text/plain": [
       "                 eventname         deviceidhash            datetime  expid        date      time\n",
       "110     offersscreenappear  5287660122200561379 2019-07-28 07:24:12    247  2019-07-28  07:24:12\n",
       "111       mainscreenappear  4601930136642303959 2019-07-28 07:25:42    246  2019-07-28  07:25:42\n",
       "112       mainscreenappear  4078637421796153763 2019-07-28 07:31:58    248  2019-07-28  07:31:58\n",
       "113       mainscreenappear  2851587046453391812 2019-07-28 07:40:40    246  2019-07-28  07:40:40\n",
       "114       mainscreenappear  9111985047183779356 2019-07-28 07:48:19    247  2019-07-28  07:48:19\n",
       "...                    ...                  ...                 ...    ...         ...       ...\n",
       "243708    mainscreenappear  4599628364049201812 2019-08-07 21:12:25    247  2019-08-07  21:12:25\n",
       "243709    mainscreenappear  5849806612437486590 2019-08-07 21:13:59    246  2019-08-07  21:13:59\n",
       "243710    mainscreenappear  5746969938801999050 2019-08-07 21:14:43    246  2019-08-07  21:14:43\n",
       "243711    mainscreenappear  5746969938801999050 2019-08-07 21:14:58    246  2019-08-07  21:14:58\n",
       "243712  offersscreenappear  5746969938801999050 2019-08-07 21:15:17    246  2019-08-07  21:15:17\n",
       "\n",
       "[243603 rows x 6 columns]"
      ]
     },
     "execution_count": 23,
     "metadata": {},
     "output_type": "execute_result"
    }
   ],
   "source": [
    "df_fs = df_fs.copy()\n",
    "df_fs = df_fs.loc[(df_fs['datetime'] > 1564297636.500) & (df_fs['datetime'] < 1565569552.500), :]\n",
    "df_fs['datetime'] = pd.to_datetime(df_fs['datetime'], unit='s', errors='coerce')\n",
    "df_fs"
   ]
  },
  {
   "cell_type": "code",
   "execution_count": 24,
   "id": "bc937c42",
   "metadata": {},
   "outputs": [
    {
     "data": {
      "application/vnd.plotly.v1+json": {
       "config": {
        "plotlyServerURL": "https://plot.ly"
       },
       "data": [
        {
         "marker": {
          "color": "grey"
         },
         "name": "Histogram",
         "opacity": 0.7,
         "type": "bar",
         "width": {
          "bdata": "kuMbAJLjGwCS4xsAkuMbAJLjGwCS4xsAkuMbAJLjGwCS4xsAkuMbAJLjGwCS4xsAkuMbAJLjGwCS4xsAkuMbAJLjGwCS4xsAkuMbAJLjGwCS4xsAkuMbAJLjGwCS4xsAkuMbAJLjGwCS4xsAkuMbAJLjGwCS4xsAkuMbAJLjGwCS4xsAkuMbAJLjGwCS4xsAkuMbAJLjGwCS4xsAkuMbAJLjGwCS4xsAkuMbAJLjGwCS4xsAkuMbAJLjGwCS4xsAkuMbAJLjGwCS4xsAkuMbAJLjGwCS4xsAkuMbAJLjGwCS4xsAkuMbAJLjGwCS4xsAkuMbAJLjGwCS4xsAkuMbAJLjGwCS4xsAkuMbAJLjGwCS4xsAkuMbAJLjGwCS4xsAkuMbAJLjGwCS4xsAkuMbAJLjGwCS4xsAkuMbAJLjGwCS4xsAkuMbAJLjGwCS4xsAkuMbAJLjGwCS4xsAkuMbAJLjGwCS4xsAkuMbAJLjGwCS4xsAkuMbAJLjGwCS4xsAkuMbAJLjGwCS4xsAkuMbAJLjGwCS4xsAkuMbAJLjGwCS4xsAkuMbAJLjGwCS4xsAkuMbAJLjGwCS4xsAkuMbAJLjGwCS4xsAkuMbAJLjGwCS4xsAkuMbAJLjGwCS4xsAkuMbAJLjGwCS4xsAkuMbAJLjGwCS4xsAkuMbAJLjGwCS4xsAkuMbAJLjGwCS4xsAkuMbAJLjGwCS4xsAkuMbAJLjGwCS4xsAkuMbAJLjGwCS4xsAkuMbAJLjGwCS4xsAkuMbAJLjGwCS4xsAkuMbAJLjGwCS4xsAkuMbAJLjGwCS4xsAkuMbAJLjGwCS4xsAkuMbAJLjGwCS4xsAkuMbAJLjGwCS4xsAkuMbAJLjGwCS4xsAkuMbAJLjGwCS4xsAkuMbAJLjGwCS4xsAkuMbAJLjGwCS4xsAkuMbAJLjGwCS4xsAkuMbAJLjGwCS4xsAkuMbAJLjGwCS4xsAkuMbAJLjGwCS4xsAkuMbAJLjGwCS4xsAkuMbAJLjGwCS4xsAkuMbAJLjGwCS4xsAkuMbAJLjGwCS4xsAkuMbAJLjGwCS4xsAkuMbAJLjGwCS4xsAkuMbAJLjGwCS4xsAkuMbAJLjGwCS4xsAkuMbAJLjGwCS4xsAkuMbAJLjGwCS4xsAkuMbAJLjGwCS4xsAkuMbAJLjGwCS4xsAkuMbAJLjGwCS4xsAkuMbAJLjGwCS4xsAkuMbAJLjGwCS4xsAkuMbAJLjGwCS4xsAkuMbAJLjGwCS4xsAkuMbAJLjGwCS4xsAkuMbAJLjGwCS4xsAkuMbAJLjGwCS4xsAkuMbAJLjGwCS4xsAkuMbAJLjGwCS4xsAkuMbAJLjGwCS4xsAkuMbAJLjGwCS4xsAkuMbAJLjGwCS4xsAkuMbAJLjGwCS4xsAkuMbAJLjGwCS4xsAkuMbAJLjGwCS4xsAkuMbAJLjGwCS4xsAkuMbAJLjGwCS4xsAkuMbAJLjGwCS4xsAkuMbAJLjGwCS4xsAkuMbAJLjGwCS4xsAkuMbAJLjGwCS4xsAkuMbAJLjGwCS4xsAkuMbAJLjGwCS4xsAkuMbAJLjGwCS4xsAkuMbAJLjGwCS4xsAkuMbAJLjGwCS4xsAkuMbAJLjGwCS4xsAkuMbAJLjGwCS4xsAkuMbAJLjGwCS4xsAkuMbAJLjGwCS4xsAkuMbAJLjGwCS4xsAkuMbAJLjGwCS4xsAkuMbAJLjGwCS4xsAkuMbAJLjGwCS4xsAkuMbAJLjGwCS4xsAkuMbAJLjGwCS4xsAkuMbAJLjGwCS4xsAkuMbAJLjGwCS4xsAkuMbAJLjGwCS4xsAkuMbAJLjGwCS4xsAkuMbAJLjGwCS4xsAkuMbAJLjGwCS4xsAkuMbAJLjGwCS4xsAkuMbAJLjGwCS4xsAkuMbAJLjGwCS4xsAkuMbAJLjGwCS4xsAkuMbAJLjGwCS4xsAkuMbAJLjGwCS4xsAkuMbAJLjGwCS4xsAkuMbAJLjGwCS4xsAkuMbAJLjGwCS4xsAkuMbAJLjGwCS4xsAkuMbAJLjGwCS4xsAkuMbAJLjGwCS4xsAkuMbAJLjGwCS4xsAkuMbAJLjGwCS4xsAkuMbAJLjGwCS4xsAkuMbAJLjGwCS4xsAkuMbAJLjGwCS4xsAkuMbAJLjGwCS4xsAkuMbAJLjGwCS4xsAkuMbAJLjGwCS4xsAkuMbAJLjGwCS4xsAkuMbAJLjGwCS4xsAkuMbAJLjGwCS4xsAkuMbAJLjGwCS4xsAkuMbAJLjGwCS4xsAkuMbAJLjGwCS4xsAkuMbAJLjGwCS4xsAkuMbAJLjGwCS4xsAkuMbAJLjGwCS4xsAkuMbAJLjGwCS4xsAkuMbAJLjGwCS4xsAkuMbAJLjGwCS4xsAkuMbAJLjGwCS4xsAkuMbAJLjGwCS4xsAkuMbAJLjGwCS4xsAkuMbAJLjGwCS4xsAkuMbAJLjGwCS4xsAkuMbAJLjGwCS4xsAkuMbAJLjGwCS4xsAkuMbAJLjGwCS4xsAkuMbAJLjGwCS4xsAkuMbAJLjGwCS4xsAkuMbAJLjGwCS4xsAkuMbAJLjGwCS4xsAkuMbAJLjGwCS4xsAkuMbAJLjGwCS4xsAkuMbAJLjGwCS4xsAkuMbAJLjGwCS4xsAkuMbAJLjGwCS4xsAkuMbAJLjGwA=",
          "dtype": "i4"
         },
         "x": [
          "2019-07-28T07:39:25.865000+00:00",
          "2019-07-28T08:09:53.595000+00:00",
          "2019-07-28T08:40:21.325000+00:00",
          "2019-07-28T09:10:49.055000+00:00",
          "2019-07-28T09:41:16.785000+00:00",
          "2019-07-28T10:11:44.515000+00:00",
          "2019-07-28T10:42:12.245000+00:00",
          "2019-07-28T11:12:39.975000+00:00",
          "2019-07-28T11:43:07.705000+00:00",
          "2019-07-28T12:13:35.435000+00:00",
          "2019-07-28T12:44:03.165000+00:00",
          "2019-07-28T13:14:30.895000+00:00",
          "2019-07-28T13:44:58.625000+00:00",
          "2019-07-28T14:15:26.355000+00:00",
          "2019-07-28T14:45:54.085000+00:00",
          "2019-07-28T15:16:21.815000+00:00",
          "2019-07-28T15:46:49.545000+00:00",
          "2019-07-28T16:17:17.275000+00:00",
          "2019-07-28T16:47:45.005000+00:00",
          "2019-07-28T17:18:12.735000+00:00",
          "2019-07-28T17:48:40.465000+00:00",
          "2019-07-28T18:19:08.195000+00:00",
          "2019-07-28T18:49:35.925000+00:00",
          "2019-07-28T19:20:03.655000+00:00",
          "2019-07-28T19:50:31.385000+00:00",
          "2019-07-28T20:20:59.115000+00:00",
          "2019-07-28T20:51:26.845000+00:00",
          "2019-07-28T21:21:54.575000+00:00",
          "2019-07-28T21:52:22.305000+00:00",
          "2019-07-28T22:22:50.035000+00:00",
          "2019-07-28T22:53:17.765000+00:00",
          "2019-07-28T23:23:45.495000+00:00",
          "2019-07-28T23:54:13.225000+00:00",
          "2019-07-29T00:24:40.955000+00:00",
          "2019-07-29T00:55:08.685000+00:00",
          "2019-07-29T01:25:36.415000+00:00",
          "2019-07-29T01:56:04.145000+00:00",
          "2019-07-29T02:26:31.875000+00:00",
          "2019-07-29T02:56:59.605000+00:00",
          "2019-07-29T03:27:27.335000+00:00",
          "2019-07-29T03:57:55.065000+00:00",
          "2019-07-29T04:28:22.795000+00:00",
          "2019-07-29T04:58:50.525000+00:00",
          "2019-07-29T05:29:18.255000+00:00",
          "2019-07-29T05:59:45.985000+00:00",
          "2019-07-29T06:30:13.715000+00:00",
          "2019-07-29T07:00:41.445000+00:00",
          "2019-07-29T07:31:09.175000+00:00",
          "2019-07-29T08:01:36.905000+00:00",
          "2019-07-29T08:32:04.635000+00:00",
          "2019-07-29T09:02:32.365000+00:00",
          "2019-07-29T09:33:00.095000+00:00",
          "2019-07-29T10:03:27.825000+00:00",
          "2019-07-29T10:33:55.555000+00:00",
          "2019-07-29T11:04:23.285000+00:00",
          "2019-07-29T11:34:51.015000+00:00",
          "2019-07-29T12:05:18.745000+00:00",
          "2019-07-29T12:35:46.475000+00:00",
          "2019-07-29T13:06:14.205000+00:00",
          "2019-07-29T13:36:41.935000+00:00",
          "2019-07-29T14:07:09.665000+00:00",
          "2019-07-29T14:37:37.395000+00:00",
          "2019-07-29T15:08:05.125000+00:00",
          "2019-07-29T15:38:32.855000+00:00",
          "2019-07-29T16:09:00.585000+00:00",
          "2019-07-29T16:39:28.315000+00:00",
          "2019-07-29T17:09:56.045000+00:00",
          "2019-07-29T17:40:23.775000+00:00",
          "2019-07-29T18:10:51.505000+00:00",
          "2019-07-29T18:41:19.235000+00:00",
          "2019-07-29T19:11:46.965000+00:00",
          "2019-07-29T19:42:14.695000+00:00",
          "2019-07-29T20:12:42.425000+00:00",
          "2019-07-29T20:43:10.155000+00:00",
          "2019-07-29T21:13:37.885000+00:00",
          "2019-07-29T21:44:05.615000+00:00",
          "2019-07-29T22:14:33.345000+00:00",
          "2019-07-29T22:45:01.075000+00:00",
          "2019-07-29T23:15:28.805000+00:00",
          "2019-07-29T23:45:56.535000+00:00",
          "2019-07-30T00:16:24.265000+00:00",
          "2019-07-30T00:46:51.995000+00:00",
          "2019-07-30T01:17:19.725000+00:00",
          "2019-07-30T01:47:47.455000+00:00",
          "2019-07-30T02:18:15.185000+00:00",
          "2019-07-30T02:48:42.915000+00:00",
          "2019-07-30T03:19:10.645000+00:00",
          "2019-07-30T03:49:38.375000+00:00",
          "2019-07-30T04:20:06.105000+00:00",
          "2019-07-30T04:50:33.835000+00:00",
          "2019-07-30T05:21:01.565000+00:00",
          "2019-07-30T05:51:29.295000+00:00",
          "2019-07-30T06:21:57.025000+00:00",
          "2019-07-30T06:52:24.755000+00:00",
          "2019-07-30T07:22:52.485000+00:00",
          "2019-07-30T07:53:20.215000+00:00",
          "2019-07-30T08:23:47.945000+00:00",
          "2019-07-30T08:54:15.675000+00:00",
          "2019-07-30T09:24:43.405000+00:00",
          "2019-07-30T09:55:11.135000+00:00",
          "2019-07-30T10:25:38.865000+00:00",
          "2019-07-30T10:56:06.595000+00:00",
          "2019-07-30T11:26:34.325000+00:00",
          "2019-07-30T11:57:02.055000+00:00",
          "2019-07-30T12:27:29.785000+00:00",
          "2019-07-30T12:57:57.515000+00:00",
          "2019-07-30T13:28:25.245000+00:00",
          "2019-07-30T13:58:52.975000+00:00",
          "2019-07-30T14:29:20.705000+00:00",
          "2019-07-30T14:59:48.435000+00:00",
          "2019-07-30T15:30:16.165000+00:00",
          "2019-07-30T16:00:43.895000+00:00",
          "2019-07-30T16:31:11.625000+00:00",
          "2019-07-30T17:01:39.355000+00:00",
          "2019-07-30T17:32:07.085000+00:00",
          "2019-07-30T18:02:34.815000+00:00",
          "2019-07-30T18:33:02.545000+00:00",
          "2019-07-30T19:03:30.275000+00:00",
          "2019-07-30T19:33:58.005000+00:00",
          "2019-07-30T20:04:25.735000+00:00",
          "2019-07-30T20:34:53.465000+00:00",
          "2019-07-30T21:05:21.195000+00:00",
          "2019-07-30T21:35:48.925000+00:00",
          "2019-07-30T22:06:16.655000+00:00",
          "2019-07-30T22:36:44.385000+00:00",
          "2019-07-30T23:07:12.115000+00:00",
          "2019-07-30T23:37:39.845000+00:00",
          "2019-07-31T00:08:07.575000+00:00",
          "2019-07-31T00:38:35.305000+00:00",
          "2019-07-31T01:09:03.035000+00:00",
          "2019-07-31T01:39:30.765000+00:00",
          "2019-07-31T02:09:58.495000+00:00",
          "2019-07-31T02:40:26.225000+00:00",
          "2019-07-31T03:10:53.955000+00:00",
          "2019-07-31T03:41:21.685000+00:00",
          "2019-07-31T04:11:49.415000+00:00",
          "2019-07-31T04:42:17.145000+00:00",
          "2019-07-31T05:12:44.875000+00:00",
          "2019-07-31T05:43:12.605000+00:00",
          "2019-07-31T06:13:40.335000+00:00",
          "2019-07-31T06:44:08.065000+00:00",
          "2019-07-31T07:14:35.795000+00:00",
          "2019-07-31T07:45:03.525000+00:00",
          "2019-07-31T08:15:31.255000+00:00",
          "2019-07-31T08:45:58.985000+00:00",
          "2019-07-31T09:16:26.715000+00:00",
          "2019-07-31T09:46:54.445000+00:00",
          "2019-07-31T10:17:22.175000+00:00",
          "2019-07-31T10:47:49.905000+00:00",
          "2019-07-31T11:18:17.635000+00:00",
          "2019-07-31T11:48:45.365000+00:00",
          "2019-07-31T12:19:13.095000+00:00",
          "2019-07-31T12:49:40.825000+00:00",
          "2019-07-31T13:20:08.555000+00:00",
          "2019-07-31T13:50:36.285000+00:00",
          "2019-07-31T14:21:04.015000+00:00",
          "2019-07-31T14:51:31.745000+00:00",
          "2019-07-31T15:21:59.475000+00:00",
          "2019-07-31T15:52:27.205000+00:00",
          "2019-07-31T16:22:54.935000+00:00",
          "2019-07-31T16:53:22.665000+00:00",
          "2019-07-31T17:23:50.395000+00:00",
          "2019-07-31T17:54:18.125000+00:00",
          "2019-07-31T18:24:45.855000+00:00",
          "2019-07-31T18:55:13.585000+00:00",
          "2019-07-31T19:25:41.315000+00:00",
          "2019-07-31T19:56:09.045000+00:00",
          "2019-07-31T20:26:36.775000+00:00",
          "2019-07-31T20:57:04.505000+00:00",
          "2019-07-31T21:27:32.235000+00:00",
          "2019-07-31T21:57:59.965000+00:00",
          "2019-07-31T22:28:27.695000+00:00",
          "2019-07-31T22:58:55.425000+00:00",
          "2019-07-31T23:29:23.155000+00:00",
          "2019-07-31T23:59:50.885000+00:00",
          "2019-08-01T00:30:18.615000+00:00",
          "2019-08-01T01:00:46.345000+00:00",
          "2019-08-01T01:31:14.075000+00:00",
          "2019-08-01T02:01:41.805000+00:00",
          "2019-08-01T02:32:09.535000+00:00",
          "2019-08-01T03:02:37.265000+00:00",
          "2019-08-01T03:33:04.995000+00:00",
          "2019-08-01T04:03:32.725000+00:00",
          "2019-08-01T04:34:00.455000+00:00",
          "2019-08-01T05:04:28.185000+00:00",
          "2019-08-01T05:34:55.915000+00:00",
          "2019-08-01T06:05:23.645000+00:00",
          "2019-08-01T06:35:51.375000+00:00",
          "2019-08-01T07:06:19.105000+00:00",
          "2019-08-01T07:36:46.835000+00:00",
          "2019-08-01T08:07:14.565000+00:00",
          "2019-08-01T08:37:42.295000+00:00",
          "2019-08-01T09:08:10.025000+00:00",
          "2019-08-01T09:38:37.755000+00:00",
          "2019-08-01T10:09:05.485000+00:00",
          "2019-08-01T10:39:33.215000+00:00",
          "2019-08-01T11:10:00.945000+00:00",
          "2019-08-01T11:40:28.675000+00:00",
          "2019-08-01T12:10:56.405000+00:00",
          "2019-08-01T12:41:24.135000+00:00",
          "2019-08-01T13:11:51.865000+00:00",
          "2019-08-01T13:42:19.595000+00:00",
          "2019-08-01T14:12:47.325000+00:00",
          "2019-08-01T14:43:15.055000+00:00",
          "2019-08-01T15:13:42.785000+00:00",
          "2019-08-01T15:44:10.515000+00:00",
          "2019-08-01T16:14:38.245000+00:00",
          "2019-08-01T16:45:05.975000+00:00",
          "2019-08-01T17:15:33.705000+00:00",
          "2019-08-01T17:46:01.435000+00:00",
          "2019-08-01T18:16:29.165000+00:00",
          "2019-08-01T18:46:56.895000+00:00",
          "2019-08-01T19:17:24.625000+00:00",
          "2019-08-01T19:47:52.355000+00:00",
          "2019-08-01T20:18:20.085000+00:00",
          "2019-08-01T20:48:47.815000+00:00",
          "2019-08-01T21:19:15.545000+00:00",
          "2019-08-01T21:49:43.275000+00:00",
          "2019-08-01T22:20:11.005000+00:00",
          "2019-08-01T22:50:38.735000+00:00",
          "2019-08-01T23:21:06.465000+00:00",
          "2019-08-01T23:51:34.195000+00:00",
          "2019-08-02T00:22:01.925000+00:00",
          "2019-08-02T00:52:29.655000+00:00",
          "2019-08-02T01:22:57.385000+00:00",
          "2019-08-02T01:53:25.115000+00:00",
          "2019-08-02T02:23:52.845000+00:00",
          "2019-08-02T02:54:20.575000+00:00",
          "2019-08-02T03:24:48.305000+00:00",
          "2019-08-02T03:55:16.035000+00:00",
          "2019-08-02T04:25:43.765000+00:00",
          "2019-08-02T04:56:11.495000+00:00",
          "2019-08-02T05:26:39.225000+00:00",
          "2019-08-02T05:57:06.955000+00:00",
          "2019-08-02T06:27:34.685000+00:00",
          "2019-08-02T06:58:02.415000+00:00",
          "2019-08-02T07:28:30.145000+00:00",
          "2019-08-02T07:58:57.875000+00:00",
          "2019-08-02T08:29:25.605000+00:00",
          "2019-08-02T08:59:53.335000+00:00",
          "2019-08-02T09:30:21.065000+00:00",
          "2019-08-02T10:00:48.795000+00:00",
          "2019-08-02T10:31:16.525000+00:00",
          "2019-08-02T11:01:44.255000+00:00",
          "2019-08-02T11:32:11.985000+00:00",
          "2019-08-02T12:02:39.715000+00:00",
          "2019-08-02T12:33:07.445000+00:00",
          "2019-08-02T13:03:35.175000+00:00",
          "2019-08-02T13:34:02.905000+00:00",
          "2019-08-02T14:04:30.635000+00:00",
          "2019-08-02T14:34:58.365000+00:00",
          "2019-08-02T15:05:26.095000+00:00",
          "2019-08-02T15:35:53.825000+00:00",
          "2019-08-02T16:06:21.555000+00:00",
          "2019-08-02T16:36:49.285000+00:00",
          "2019-08-02T17:07:17.015000+00:00",
          "2019-08-02T17:37:44.745000+00:00",
          "2019-08-02T18:08:12.475000+00:00",
          "2019-08-02T18:38:40.205000+00:00",
          "2019-08-02T19:09:07.935000+00:00",
          "2019-08-02T19:39:35.665000+00:00",
          "2019-08-02T20:10:03.395000+00:00",
          "2019-08-02T20:40:31.125000+00:00",
          "2019-08-02T21:10:58.855000+00:00",
          "2019-08-02T21:41:26.585000+00:00",
          "2019-08-02T22:11:54.315000+00:00",
          "2019-08-02T22:42:22.045000+00:00",
          "2019-08-02T23:12:49.775000+00:00",
          "2019-08-02T23:43:17.505000+00:00",
          "2019-08-03T00:13:45.235000+00:00",
          "2019-08-03T00:44:12.965000+00:00",
          "2019-08-03T01:14:40.695000+00:00",
          "2019-08-03T01:45:08.425000+00:00",
          "2019-08-03T02:15:36.155000+00:00",
          "2019-08-03T02:46:03.885000+00:00",
          "2019-08-03T03:16:31.615000+00:00",
          "2019-08-03T03:46:59.345000+00:00",
          "2019-08-03T04:17:27.075000+00:00",
          "2019-08-03T04:47:54.805000+00:00",
          "2019-08-03T05:18:22.535000+00:00",
          "2019-08-03T05:48:50.265000+00:00",
          "2019-08-03T06:19:17.995000+00:00",
          "2019-08-03T06:49:45.725000+00:00",
          "2019-08-03T07:20:13.455000+00:00",
          "2019-08-03T07:50:41.185000+00:00",
          "2019-08-03T08:21:08.915000+00:00",
          "2019-08-03T08:51:36.645000+00:00",
          "2019-08-03T09:22:04.375000+00:00",
          "2019-08-03T09:52:32.105000+00:00",
          "2019-08-03T10:22:59.835000+00:00",
          "2019-08-03T10:53:27.565000+00:00",
          "2019-08-03T11:23:55.295000+00:00",
          "2019-08-03T11:54:23.025000+00:00",
          "2019-08-03T12:24:50.755000+00:00",
          "2019-08-03T12:55:18.485000+00:00",
          "2019-08-03T13:25:46.215000+00:00",
          "2019-08-03T13:56:13.945000+00:00",
          "2019-08-03T14:26:41.675000+00:00",
          "2019-08-03T14:57:09.405000+00:00",
          "2019-08-03T15:27:37.135000+00:00",
          "2019-08-03T15:58:04.865000+00:00",
          "2019-08-03T16:28:32.595000+00:00",
          "2019-08-03T16:59:00.325000+00:00",
          "2019-08-03T17:29:28.055000+00:00",
          "2019-08-03T17:59:55.785000+00:00",
          "2019-08-03T18:30:23.515000+00:00",
          "2019-08-03T19:00:51.245000+00:00",
          "2019-08-03T19:31:18.975000+00:00",
          "2019-08-03T20:01:46.705000+00:00",
          "2019-08-03T20:32:14.435000+00:00",
          "2019-08-03T21:02:42.165000+00:00",
          "2019-08-03T21:33:09.895000+00:00",
          "2019-08-03T22:03:37.625000+00:00",
          "2019-08-03T22:34:05.355000+00:00",
          "2019-08-03T23:04:33.085000+00:00",
          "2019-08-03T23:35:00.815000+00:00",
          "2019-08-04T00:05:28.545000+00:00",
          "2019-08-04T00:35:56.275000+00:00",
          "2019-08-04T01:06:24.005000+00:00",
          "2019-08-04T01:36:51.735000+00:00",
          "2019-08-04T02:07:19.465000+00:00",
          "2019-08-04T02:37:47.195000+00:00",
          "2019-08-04T03:08:14.925000+00:00",
          "2019-08-04T03:38:42.655000+00:00",
          "2019-08-04T04:09:10.385000+00:00",
          "2019-08-04T04:39:38.115000+00:00",
          "2019-08-04T05:10:05.845000+00:00",
          "2019-08-04T05:40:33.575000+00:00",
          "2019-08-04T06:11:01.305000+00:00",
          "2019-08-04T06:41:29.035000+00:00",
          "2019-08-04T07:11:56.765000+00:00",
          "2019-08-04T07:42:24.495000+00:00",
          "2019-08-04T08:12:52.225000+00:00",
          "2019-08-04T08:43:19.955000+00:00",
          "2019-08-04T09:13:47.685000+00:00",
          "2019-08-04T09:44:15.415000+00:00",
          "2019-08-04T10:14:43.145000+00:00",
          "2019-08-04T10:45:10.875000+00:00",
          "2019-08-04T11:15:38.605000+00:00",
          "2019-08-04T11:46:06.335000+00:00",
          "2019-08-04T12:16:34.065000+00:00",
          "2019-08-04T12:47:01.795000+00:00",
          "2019-08-04T13:17:29.525000+00:00",
          "2019-08-04T13:47:57.255000+00:00",
          "2019-08-04T14:18:24.985000+00:00",
          "2019-08-04T14:48:52.715000+00:00",
          "2019-08-04T15:19:20.445000+00:00",
          "2019-08-04T15:49:48.175000+00:00",
          "2019-08-04T16:20:15.905000+00:00",
          "2019-08-04T16:50:43.635000+00:00",
          "2019-08-04T17:21:11.365000+00:00",
          "2019-08-04T17:51:39.095000+00:00",
          "2019-08-04T18:22:06.825000+00:00",
          "2019-08-04T18:52:34.555000+00:00",
          "2019-08-04T19:23:02.285000+00:00",
          "2019-08-04T19:53:30.015000+00:00",
          "2019-08-04T20:23:57.745000+00:00",
          "2019-08-04T20:54:25.475000+00:00",
          "2019-08-04T21:24:53.205000+00:00",
          "2019-08-04T21:55:20.935000+00:00",
          "2019-08-04T22:25:48.665000+00:00",
          "2019-08-04T22:56:16.395000+00:00",
          "2019-08-04T23:26:44.125000+00:00",
          "2019-08-04T23:57:11.855000+00:00",
          "2019-08-05T00:27:39.585000+00:00",
          "2019-08-05T00:58:07.315000+00:00",
          "2019-08-05T01:28:35.045000+00:00",
          "2019-08-05T01:59:02.775000+00:00",
          "2019-08-05T02:29:30.505000+00:00",
          "2019-08-05T02:59:58.235000+00:00",
          "2019-08-05T03:30:25.965000+00:00",
          "2019-08-05T04:00:53.695000+00:00",
          "2019-08-05T04:31:21.425000+00:00",
          "2019-08-05T05:01:49.155000+00:00",
          "2019-08-05T05:32:16.885000+00:00",
          "2019-08-05T06:02:44.615000+00:00",
          "2019-08-05T06:33:12.345000+00:00",
          "2019-08-05T07:03:40.075000+00:00",
          "2019-08-05T07:34:07.805000+00:00",
          "2019-08-05T08:04:35.535000+00:00",
          "2019-08-05T08:35:03.265000+00:00",
          "2019-08-05T09:05:30.995000+00:00",
          "2019-08-05T09:35:58.725000+00:00",
          "2019-08-05T10:06:26.455000+00:00",
          "2019-08-05T10:36:54.185000+00:00",
          "2019-08-05T11:07:21.915000+00:00",
          "2019-08-05T11:37:49.645000+00:00",
          "2019-08-05T12:08:17.375000+00:00",
          "2019-08-05T12:38:45.105000+00:00",
          "2019-08-05T13:09:12.835000+00:00",
          "2019-08-05T13:39:40.565000+00:00",
          "2019-08-05T14:10:08.295000+00:00",
          "2019-08-05T14:40:36.025000+00:00",
          "2019-08-05T15:11:03.755000+00:00",
          "2019-08-05T15:41:31.485000+00:00",
          "2019-08-05T16:11:59.215000+00:00",
          "2019-08-05T16:42:26.945000+00:00",
          "2019-08-05T17:12:54.675000+00:00",
          "2019-08-05T17:43:22.405000+00:00",
          "2019-08-05T18:13:50.135000+00:00",
          "2019-08-05T18:44:17.865000+00:00",
          "2019-08-05T19:14:45.595000+00:00",
          "2019-08-05T19:45:13.325000+00:00",
          "2019-08-05T20:15:41.055000+00:00",
          "2019-08-05T20:46:08.785000+00:00",
          "2019-08-05T21:16:36.515000+00:00",
          "2019-08-05T21:47:04.245000+00:00",
          "2019-08-05T22:17:31.975000+00:00",
          "2019-08-05T22:47:59.705000+00:00",
          "2019-08-05T23:18:27.435000+00:00",
          "2019-08-05T23:48:55.165000+00:00",
          "2019-08-06T00:19:22.895000+00:00",
          "2019-08-06T00:49:50.625000+00:00",
          "2019-08-06T01:20:18.355000+00:00",
          "2019-08-06T01:50:46.085000+00:00",
          "2019-08-06T02:21:13.815000+00:00",
          "2019-08-06T02:51:41.545000+00:00",
          "2019-08-06T03:22:09.275000+00:00",
          "2019-08-06T03:52:37.005000+00:00",
          "2019-08-06T04:23:04.735000+00:00",
          "2019-08-06T04:53:32.465000+00:00",
          "2019-08-06T05:24:00.195000+00:00",
          "2019-08-06T05:54:27.925000+00:00",
          "2019-08-06T06:24:55.655000+00:00",
          "2019-08-06T06:55:23.385000+00:00",
          "2019-08-06T07:25:51.115000+00:00",
          "2019-08-06T07:56:18.845000+00:00",
          "2019-08-06T08:26:46.575000+00:00",
          "2019-08-06T08:57:14.305000+00:00",
          "2019-08-06T09:27:42.035000+00:00",
          "2019-08-06T09:58:09.765000+00:00",
          "2019-08-06T10:28:37.495000+00:00",
          "2019-08-06T10:59:05.225000+00:00",
          "2019-08-06T11:29:32.955000+00:00",
          "2019-08-06T12:00:00.685000+00:00",
          "2019-08-06T12:30:28.415000+00:00",
          "2019-08-06T13:00:56.145000+00:00",
          "2019-08-06T13:31:23.875000+00:00",
          "2019-08-06T14:01:51.605000+00:00",
          "2019-08-06T14:32:19.335000+00:00",
          "2019-08-06T15:02:47.065000+00:00",
          "2019-08-06T15:33:14.795000+00:00",
          "2019-08-06T16:03:42.525000+00:00",
          "2019-08-06T16:34:10.255000+00:00",
          "2019-08-06T17:04:37.985000+00:00",
          "2019-08-06T17:35:05.715000+00:00",
          "2019-08-06T18:05:33.445000+00:00",
          "2019-08-06T18:36:01.175000+00:00",
          "2019-08-06T19:06:28.905000+00:00",
          "2019-08-06T19:36:56.635000+00:00",
          "2019-08-06T20:07:24.365000+00:00",
          "2019-08-06T20:37:52.095000+00:00",
          "2019-08-06T21:08:19.825000+00:00",
          "2019-08-06T21:38:47.555000+00:00",
          "2019-08-06T22:09:15.285000+00:00",
          "2019-08-06T22:39:43.015000+00:00",
          "2019-08-06T23:10:10.745000+00:00",
          "2019-08-06T23:40:38.475000+00:00",
          "2019-08-07T00:11:06.205000+00:00",
          "2019-08-07T00:41:33.935000+00:00",
          "2019-08-07T01:12:01.665000+00:00",
          "2019-08-07T01:42:29.395000+00:00",
          "2019-08-07T02:12:57.125000+00:00",
          "2019-08-07T02:43:24.855000+00:00",
          "2019-08-07T03:13:52.585000+00:00",
          "2019-08-07T03:44:20.315000+00:00",
          "2019-08-07T04:14:48.045000+00:00",
          "2019-08-07T04:45:15.775000+00:00",
          "2019-08-07T05:15:43.505000+00:00",
          "2019-08-07T05:46:11.235000+00:00",
          "2019-08-07T06:16:38.965000+00:00",
          "2019-08-07T06:47:06.695000+00:00",
          "2019-08-07T07:17:34.425000+00:00",
          "2019-08-07T07:48:02.155000+00:00",
          "2019-08-07T08:18:29.885000+00:00",
          "2019-08-07T08:48:57.615000+00:00",
          "2019-08-07T09:19:25.345000+00:00",
          "2019-08-07T09:49:53.075000+00:00",
          "2019-08-07T10:20:20.805000+00:00",
          "2019-08-07T10:50:48.535000+00:00",
          "2019-08-07T11:21:16.265000+00:00",
          "2019-08-07T11:51:43.995000+00:00",
          "2019-08-07T12:22:11.725000+00:00",
          "2019-08-07T12:52:39.455000+00:00",
          "2019-08-07T13:23:07.185000+00:00",
          "2019-08-07T13:53:34.915000+00:00",
          "2019-08-07T14:24:02.645000+00:00",
          "2019-08-07T14:54:30.375000+00:00",
          "2019-08-07T15:24:58.105000+00:00",
          "2019-08-07T15:55:25.835000+00:00",
          "2019-08-07T16:25:53.565000+00:00",
          "2019-08-07T16:56:21.295000+00:00",
          "2019-08-07T17:26:49.025000+00:00",
          "2019-08-07T17:57:16.755000+00:00",
          "2019-08-07T18:27:44.485000+00:00",
          "2019-08-07T18:58:12.215000+00:00",
          "2019-08-07T19:28:39.945000+00:00",
          "2019-08-07T19:59:07.675000+00:00",
          "2019-08-07T20:29:35.405000+00:00",
          "2019-08-07T21:00:03.135000+00:00"
         ],
         "y": {
          "bdata": "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",
          "dtype": "f8"
         }
        },
        {
         "line": {
          "color": "red",
          "dash": "dash"
         },
         "mode": "lines",
         "name": "Mean",
         "type": "scatter",
         "x": [
          "2019-08-04T10:24:38.863000+00:00",
          "2019-08-04T10:24:38.863000+00:00"
         ],
         "y": [
          0,
          1778.7
         ]
        },
        {
         "line": {
          "color": "blue",
          "dash": "dashdot"
         },
         "mode": "lines",
         "name": "Median",
         "type": "scatter",
         "x": [
          "2019-08-04T11:52:04+00:00",
          "2019-08-04T11:52:04+00:00"
         ],
         "y": [
          0,
          1778.7
         ]
        }
       ],
       "layout": {
        "bargap": 0.05,
        "height": 500,
        "template": {
         "data": {
          "bar": [
           {
            "error_x": {
             "color": "#2a3f5f"
            },
            "error_y": {
             "color": "#2a3f5f"
            },
            "marker": {
             "line": {
              "color": "white",
              "width": 0.5
             },
             "pattern": {
              "fillmode": "overlay",
              "size": 10,
              "solidity": 0.2
             }
            },
            "type": "bar"
           }
          ],
          "barpolar": [
           {
            "marker": {
             "line": {
              "color": "white",
              "width": 0.5
             },
             "pattern": {
              "fillmode": "overlay",
              "size": 10,
              "solidity": 0.2
             }
            },
            "type": "barpolar"
           }
          ],
          "carpet": [
           {
            "aaxis": {
             "endlinecolor": "#2a3f5f",
             "gridcolor": "#C8D4E3",
             "linecolor": "#C8D4E3",
             "minorgridcolor": "#C8D4E3",
             "startlinecolor": "#2a3f5f"
            },
            "baxis": {
             "endlinecolor": "#2a3f5f",
             "gridcolor": "#C8D4E3",
             "linecolor": "#C8D4E3",
             "minorgridcolor": "#C8D4E3",
             "startlinecolor": "#2a3f5f"
            },
            "type": "carpet"
           }
          ],
          "choropleth": [
           {
            "colorbar": {
             "outlinewidth": 0,
             "ticks": ""
            },
            "type": "choropleth"
           }
          ],
          "contour": [
           {
            "colorbar": {
             "outlinewidth": 0,
             "ticks": ""
            },
            "colorscale": [
             [
              0,
              "#0d0887"
             ],
             [
              0.1111111111111111,
              "#46039f"
             ],
             [
              0.2222222222222222,
              "#7201a8"
             ],
             [
              0.3333333333333333,
              "#9c179e"
             ],
             [
              0.4444444444444444,
              "#bd3786"
             ],
             [
              0.5555555555555556,
              "#d8576b"
             ],
             [
              0.6666666666666666,
              "#ed7953"
             ],
             [
              0.7777777777777778,
              "#fb9f3a"
             ],
             [
              0.8888888888888888,
              "#fdca26"
             ],
             [
              1,
              "#f0f921"
             ]
            ],
            "type": "contour"
           }
          ],
          "contourcarpet": [
           {
            "colorbar": {
             "outlinewidth": 0,
             "ticks": ""
            },
            "type": "contourcarpet"
           }
          ],
          "heatmap": [
           {
            "colorbar": {
             "outlinewidth": 0,
             "ticks": ""
            },
            "colorscale": [
             [
              0,
              "#0d0887"
             ],
             [
              0.1111111111111111,
              "#46039f"
             ],
             [
              0.2222222222222222,
              "#7201a8"
             ],
             [
              0.3333333333333333,
              "#9c179e"
             ],
             [
              0.4444444444444444,
              "#bd3786"
             ],
             [
              0.5555555555555556,
              "#d8576b"
             ],
             [
              0.6666666666666666,
              "#ed7953"
             ],
             [
              0.7777777777777778,
              "#fb9f3a"
             ],
             [
              0.8888888888888888,
              "#fdca26"
             ],
             [
              1,
              "#f0f921"
             ]
            ],
            "type": "heatmap"
           }
          ],
          "histogram": [
           {
            "marker": {
             "pattern": {
              "fillmode": "overlay",
              "size": 10,
              "solidity": 0.2
             }
            },
            "type": "histogram"
           }
          ],
          "histogram2d": [
           {
            "colorbar": {
             "outlinewidth": 0,
             "ticks": ""
            },
            "colorscale": [
             [
              0,
              "#0d0887"
             ],
             [
              0.1111111111111111,
              "#46039f"
             ],
             [
              0.2222222222222222,
              "#7201a8"
             ],
             [
              0.3333333333333333,
              "#9c179e"
             ],
             [
              0.4444444444444444,
              "#bd3786"
             ],
             [
              0.5555555555555556,
              "#d8576b"
             ],
             [
              0.6666666666666666,
              "#ed7953"
             ],
             [
              0.7777777777777778,
              "#fb9f3a"
             ],
             [
              0.8888888888888888,
              "#fdca26"
             ],
             [
              1,
              "#f0f921"
             ]
            ],
            "type": "histogram2d"
           }
          ],
          "histogram2dcontour": [
           {
            "colorbar": {
             "outlinewidth": 0,
             "ticks": ""
            },
            "colorscale": [
             [
              0,
              "#0d0887"
             ],
             [
              0.1111111111111111,
              "#46039f"
             ],
             [
              0.2222222222222222,
              "#7201a8"
             ],
             [
              0.3333333333333333,
              "#9c179e"
             ],
             [
              0.4444444444444444,
              "#bd3786"
             ],
             [
              0.5555555555555556,
              "#d8576b"
             ],
             [
              0.6666666666666666,
              "#ed7953"
             ],
             [
              0.7777777777777778,
              "#fb9f3a"
             ],
             [
              0.8888888888888888,
              "#fdca26"
             ],
             [
              1,
              "#f0f921"
             ]
            ],
            "type": "histogram2dcontour"
           }
          ],
          "mesh3d": [
           {
            "colorbar": {
             "outlinewidth": 0,
             "ticks": ""
            },
            "type": "mesh3d"
           }
          ],
          "parcoords": [
           {
            "line": {
             "colorbar": {
              "outlinewidth": 0,
              "ticks": ""
             }
            },
            "type": "parcoords"
           }
          ],
          "pie": [
           {
            "automargin": true,
            "type": "pie"
           }
          ],
          "scatter": [
           {
            "fillpattern": {
             "fillmode": "overlay",
             "size": 10,
             "solidity": 0.2
            },
            "type": "scatter"
           }
          ],
          "scatter3d": [
           {
            "line": {
             "colorbar": {
              "outlinewidth": 0,
              "ticks": ""
             }
            },
            "marker": {
             "colorbar": {
              "outlinewidth": 0,
              "ticks": ""
             }
            },
            "type": "scatter3d"
           }
          ],
          "scattercarpet": [
           {
            "marker": {
             "colorbar": {
              "outlinewidth": 0,
              "ticks": ""
             }
            },
            "type": "scattercarpet"
           }
          ],
          "scattergeo": [
           {
            "marker": {
             "colorbar": {
              "outlinewidth": 0,
              "ticks": ""
             }
            },
            "type": "scattergeo"
           }
          ],
          "scattergl": [
           {
            "marker": {
             "colorbar": {
              "outlinewidth": 0,
              "ticks": ""
             }
            },
            "type": "scattergl"
           }
          ],
          "scattermap": [
           {
            "marker": {
             "colorbar": {
              "outlinewidth": 0,
              "ticks": ""
             }
            },
            "type": "scattermap"
           }
          ],
          "scattermapbox": [
           {
            "marker": {
             "colorbar": {
              "outlinewidth": 0,
              "ticks": ""
             }
            },
            "type": "scattermapbox"
           }
          ],
          "scatterpolar": [
           {
            "marker": {
             "colorbar": {
              "outlinewidth": 0,
              "ticks": ""
             }
            },
            "type": "scatterpolar"
           }
          ],
          "scatterpolargl": [
           {
            "marker": {
             "colorbar": {
              "outlinewidth": 0,
              "ticks": ""
             }
            },
            "type": "scatterpolargl"
           }
          ],
          "scatterternary": [
           {
            "marker": {
             "colorbar": {
              "outlinewidth": 0,
              "ticks": ""
             }
            },
            "type": "scatterternary"
           }
          ],
          "surface": [
           {
            "colorbar": {
             "outlinewidth": 0,
             "ticks": ""
            },
            "colorscale": [
             [
              0,
              "#0d0887"
             ],
             [
              0.1111111111111111,
              "#46039f"
             ],
             [
              0.2222222222222222,
              "#7201a8"
             ],
             [
              0.3333333333333333,
              "#9c179e"
             ],
             [
              0.4444444444444444,
              "#bd3786"
             ],
             [
              0.5555555555555556,
              "#d8576b"
             ],
             [
              0.6666666666666666,
              "#ed7953"
             ],
             [
              0.7777777777777778,
              "#fb9f3a"
             ],
             [
              0.8888888888888888,
              "#fdca26"
             ],
             [
              1,
              "#f0f921"
             ]
            ],
            "type": "surface"
           }
          ],
          "table": [
           {
            "cells": {
             "fill": {
              "color": "#EBF0F8"
             },
             "line": {
              "color": "white"
             }
            },
            "header": {
             "fill": {
              "color": "#C8D4E3"
             },
             "line": {
              "color": "white"
             }
            },
            "type": "table"
           }
          ]
         },
         "layout": {
          "annotationdefaults": {
           "arrowcolor": "#2a3f5f",
           "arrowhead": 0,
           "arrowwidth": 1
          },
          "autotypenumbers": "strict",
          "coloraxis": {
           "colorbar": {
            "outlinewidth": 0,
            "ticks": ""
           }
          },
          "colorscale": {
           "diverging": [
            [
             0,
             "#8e0152"
            ],
            [
             0.1,
             "#c51b7d"
            ],
            [
             0.2,
             "#de77ae"
            ],
            [
             0.3,
             "#f1b6da"
            ],
            [
             0.4,
             "#fde0ef"
            ],
            [
             0.5,
             "#f7f7f7"
            ],
            [
             0.6,
             "#e6f5d0"
            ],
            [
             0.7,
             "#b8e186"
            ],
            [
             0.8,
             "#7fbc41"
            ],
            [
             0.9,
             "#4d9221"
            ],
            [
             1,
             "#276419"
            ]
           ],
           "sequential": [
            [
             0,
             "#0d0887"
            ],
            [
             0.1111111111111111,
             "#46039f"
            ],
            [
             0.2222222222222222,
             "#7201a8"
            ],
            [
             0.3333333333333333,
             "#9c179e"
            ],
            [
             0.4444444444444444,
             "#bd3786"
            ],
            [
             0.5555555555555556,
             "#d8576b"
            ],
            [
             0.6666666666666666,
             "#ed7953"
            ],
            [
             0.7777777777777778,
             "#fb9f3a"
            ],
            [
             0.8888888888888888,
             "#fdca26"
            ],
            [
             1,
             "#f0f921"
            ]
           ],
           "sequentialminus": [
            [
             0,
             "#0d0887"
            ],
            [
             0.1111111111111111,
             "#46039f"
            ],
            [
             0.2222222222222222,
             "#7201a8"
            ],
            [
             0.3333333333333333,
             "#9c179e"
            ],
            [
             0.4444444444444444,
             "#bd3786"
            ],
            [
             0.5555555555555556,
             "#d8576b"
            ],
            [
             0.6666666666666666,
             "#ed7953"
            ],
            [
             0.7777777777777778,
             "#fb9f3a"
            ],
            [
             0.8888888888888888,
             "#fdca26"
            ],
            [
             1,
             "#f0f921"
            ]
           ]
          },
          "colorway": [
           "#636efa",
           "#EF553B",
           "#00cc96",
           "#ab63fa",
           "#FFA15A",
           "#19d3f3",
           "#FF6692",
           "#B6E880",
           "#FF97FF",
           "#FECB52"
          ],
          "font": {
           "color": "#2a3f5f"
          },
          "geo": {
           "bgcolor": "white",
           "lakecolor": "white",
           "landcolor": "white",
           "showlakes": true,
           "showland": true,
           "subunitcolor": "#C8D4E3"
          },
          "hoverlabel": {
           "align": "left"
          },
          "hovermode": "closest",
          "mapbox": {
           "style": "light"
          },
          "paper_bgcolor": "white",
          "plot_bgcolor": "white",
          "polar": {
           "angularaxis": {
            "gridcolor": "#EBF0F8",
            "linecolor": "#EBF0F8",
            "ticks": ""
           },
           "bgcolor": "white",
           "radialaxis": {
            "gridcolor": "#EBF0F8",
            "linecolor": "#EBF0F8",
            "ticks": ""
           }
          },
          "scene": {
           "xaxis": {
            "backgroundcolor": "white",
            "gridcolor": "#DFE8F3",
            "gridwidth": 2,
            "linecolor": "#EBF0F8",
            "showbackground": true,
            "ticks": "",
            "zerolinecolor": "#EBF0F8"
           },
           "yaxis": {
            "backgroundcolor": "white",
            "gridcolor": "#DFE8F3",
            "gridwidth": 2,
            "linecolor": "#EBF0F8",
            "showbackground": true,
            "ticks": "",
            "zerolinecolor": "#EBF0F8"
           },
           "zaxis": {
            "backgroundcolor": "white",
            "gridcolor": "#DFE8F3",
            "gridwidth": 2,
            "linecolor": "#EBF0F8",
            "showbackground": true,
            "ticks": "",
            "zerolinecolor": "#EBF0F8"
           }
          },
          "shapedefaults": {
           "line": {
            "color": "#2a3f5f"
           }
          },
          "ternary": {
           "aaxis": {
            "gridcolor": "#DFE8F3",
            "linecolor": "#A2B1C6",
            "ticks": ""
           },
           "baxis": {
            "gridcolor": "#DFE8F3",
            "linecolor": "#A2B1C6",
            "ticks": ""
           },
           "bgcolor": "white",
           "caxis": {
            "gridcolor": "#DFE8F3",
            "linecolor": "#A2B1C6",
            "ticks": ""
           }
          },
          "title": {
           "x": 0.05
          },
          "xaxis": {
           "automargin": true,
           "gridcolor": "#EBF0F8",
           "linecolor": "#EBF0F8",
           "ticks": "",
           "title": {
            "standoff": 15
           },
           "zerolinecolor": "#EBF0F8",
           "zerolinewidth": 2
          },
          "yaxis": {
           "automargin": true,
           "gridcolor": "#EBF0F8",
           "linecolor": "#EBF0F8",
           "ticks": "",
           "title": {
            "standoff": 15
           },
           "zerolinecolor": "#EBF0F8",
           "zerolinewidth": 2
          }
         }
        },
        "title": {
         "text": "Event Distribution with Full Timestamp Precision"
        },
        "width": 1200,
        "xaxis": {
         "tickangle": 90,
         "tickformat": "%Y-%m-%d %H:%M:%S",
         "title": {
          "text": "Date-Time"
         }
        },
        "yaxis": {
         "title": {
          "text": "Frequency"
         }
        }
       }
      }
     },
     "metadata": {},
     "output_type": "display_data"
    }
   ],
   "source": [
    "# Plot a histogram by date and time, no outliers.\n",
    "plotly_frequency_datetime_plotlypx(df_fs['datetime'], bins=500, density=False, color='grey', title='Event Distribution with Full Timestamp Precision', xlabel='Date-Time', ylabel='Frequency')"
   ]
  },
  {
   "cell_type": "code",
   "execution_count": 25,
   "id": "a382073e",
   "metadata": {},
   "outputs": [
    {
     "data": {
      "text/html": [
       "> Total number of records: 243603"
      ],
      "text/plain": [
       "<IPython.core.display.HTML object>"
      ]
     },
     "metadata": {},
     "output_type": "display_data"
    },
    {
     "data": {
      "text/html": [
       "> Number of records to be excluded: 2716"
      ],
      "text/plain": [
       "<IPython.core.display.HTML object>"
      ]
     },
     "metadata": {},
     "output_type": "display_data"
    },
    {
     "data": {
      "text/html": [
       "> Proportion of records to be excluded: 1.115 %"
      ],
      "text/plain": [
       "<IPython.core.display.HTML object>"
      ]
     },
     "metadata": {},
     "output_type": "display_data"
    }
   ],
   "source": [
    "# Number and proportion of records lost after excluding older records\n",
    "records = df_fs.shape[0]\n",
    "cutoff = pd.to_datetime('2019-08-01 00:00:00')  # Make cutoff timezone-naive\n",
    "# Check if any records are before the cutoff (should be zero after filtering)\n",
    "excluded = df_fs.loc[df_fs['datetime'] < cutoff, :].shape[0]\n",
    "display(HTML(f\"> Total number of records: {records}\"))\n",
    "display(HTML(f\"> Number of records to be excluded: {excluded}\"))\n",
    "display(HTML(f\"> Proportion of records to be excluded: {(excluded * 100) / records:.3f} %\"))"
   ]
  },
  {
   "cell_type": "code",
   "execution_count": 26,
   "id": "0fbd9faf",
   "metadata": {},
   "outputs": [
    {
     "data": {
      "application/vnd.microsoft.datawrangler.viewer.v0+json": {
       "columns": [
        {
         "name": "index",
         "rawType": "int64",
         "type": "integer"
        },
        {
         "name": "eventname",
         "rawType": "category",
         "type": "unknown"
        },
        {
         "name": "deviceidhash",
         "rawType": "int64",
         "type": "integer"
        },
        {
         "name": "datetime",
         "rawType": "datetime64[ns]",
         "type": "datetime"
        },
        {
         "name": "expid",
         "rawType": "int64",
         "type": "integer"
        },
        {
         "name": "date",
         "rawType": "object",
         "type": "unknown"
        },
        {
         "name": "time",
         "rawType": "object",
         "type": "unknown"
        }
       ],
       "ref": "a272635e-b55b-4795-857f-88289f70f533",
       "rows": [
        [
         "2826",
         "tutorial",
         "3737462046622621720",
         "2019-08-01 00:07:28",
         "246",
         "2019-08-01",
         "00:07:28"
        ],
        [
         "2827",
         "mainscreenappear",
         "3737462046622621720",
         "2019-08-01 00:08:00",
         "246",
         "2019-08-01",
         "00:08:00"
        ],
        [
         "2828",
         "mainscreenappear",
         "3737462046622621720",
         "2019-08-01 00:08:55",
         "246",
         "2019-08-01",
         "00:08:55"
        ],
        [
         "2829",
         "offersscreenappear",
         "3737462046622621720",
         "2019-08-01 00:08:58",
         "246",
         "2019-08-01",
         "00:08:58"
        ],
        [
         "2830",
         "mainscreenappear",
         "1433840883824088890",
         "2019-08-01 00:08:59",
         "247",
         "2019-08-01",
         "00:08:59"
        ],
        [
         "2831",
         "mainscreenappear",
         "4899590676214355127",
         "2019-08-01 00:10:15",
         "247",
         "2019-08-01",
         "00:10:15"
        ],
        [
         "2832",
         "offersscreenappear",
         "3737462046622621720",
         "2019-08-01 00:10:26",
         "246",
         "2019-08-01",
         "00:10:26"
        ],
        [
         "2833",
         "mainscreenappear",
         "3737462046622621720",
         "2019-08-01 00:10:47",
         "246",
         "2019-08-01",
         "00:10:47"
        ],
        [
         "2834",
         "mainscreenappear",
         "3737462046622621720",
         "2019-08-01 00:11:10",
         "246",
         "2019-08-01",
         "00:11:10"
        ],
        [
         "2835",
         "mainscreenappear",
         "3737462046622621720",
         "2019-08-01 00:11:20",
         "246",
         "2019-08-01",
         "00:11:20"
        ],
        [
         "2836",
         "mainscreenappear",
         "4899590676214355127",
         "2019-08-01 00:11:28",
         "247",
         "2019-08-01",
         "00:11:28"
        ],
        [
         "2837",
         "offersscreenappear",
         "4899590676214355127",
         "2019-08-01 00:11:30",
         "247",
         "2019-08-01",
         "00:11:30"
        ],
        [
         "2838",
         "mainscreenappear",
         "1182179323890311443",
         "2019-08-01 00:11:57",
         "246",
         "2019-08-01",
         "00:11:57"
        ],
        [
         "2839",
         "tutorial",
         "3737462046622621720",
         "2019-08-01 00:12:18",
         "246",
         "2019-08-01",
         "00:12:18"
        ],
        [
         "2840",
         "mainscreenappear",
         "3737462046622621720",
         "2019-08-01 00:12:34",
         "246",
         "2019-08-01",
         "00:12:34"
        ],
        [
         "2841",
         "offersscreenappear",
         "4899590676214355127",
         "2019-08-01 00:12:36",
         "247",
         "2019-08-01",
         "00:12:36"
        ],
        [
         "2842",
         "mainscreenappear",
         "4613461174774205834",
         "2019-08-01 00:14:31",
         "248",
         "2019-08-01",
         "00:14:31"
        ],
        [
         "2843",
         "mainscreenappear",
         "4613461174774205834",
         "2019-08-01 00:14:34",
         "248",
         "2019-08-01",
         "00:14:34"
        ],
        [
         "2844",
         "cartscreenappear",
         "4613461174774205834",
         "2019-08-01 00:14:34",
         "248",
         "2019-08-01",
         "00:14:34"
        ],
        [
         "2845",
         "paymentscreensuccessful",
         "4613461174774205834",
         "2019-08-01 00:14:43",
         "248",
         "2019-08-01",
         "00:14:43"
        ],
        [
         "2846",
         "offersscreenappear",
         "4613461174774205834",
         "2019-08-01 00:14:51",
         "248",
         "2019-08-01",
         "00:14:51"
        ],
        [
         "2847",
         "mainscreenappear",
         "205293431553451771",
         "2019-08-01 00:15:11",
         "246",
         "2019-08-01",
         "00:15:11"
        ],
        [
         "2848",
         "mainscreenappear",
         "205293431553451771",
         "2019-08-01 00:15:15",
         "246",
         "2019-08-01",
         "00:15:15"
        ],
        [
         "2849",
         "mainscreenappear",
         "205293431553451771",
         "2019-08-01 00:15:18",
         "246",
         "2019-08-01",
         "00:15:18"
        ],
        [
         "2850",
         "mainscreenappear",
         "6121366368901703338",
         "2019-08-01 00:15:50",
         "248",
         "2019-08-01",
         "00:15:50"
        ],
        [
         "2851",
         "offersscreenappear",
         "6121366368901703338",
         "2019-08-01 00:15:54",
         "248",
         "2019-08-01",
         "00:15:54"
        ],
        [
         "2852",
         "mainscreenappear",
         "205293431553451771",
         "2019-08-01 00:16:05",
         "246",
         "2019-08-01",
         "00:16:05"
        ],
        [
         "2853",
         "mainscreenappear",
         "6022375714473447159",
         "2019-08-01 00:16:38",
         "248",
         "2019-08-01",
         "00:16:38"
        ],
        [
         "2854",
         "mainscreenappear",
         "6022375714473447159",
         "2019-08-01 00:17:01",
         "248",
         "2019-08-01",
         "00:17:01"
        ],
        [
         "2855",
         "offersscreenappear",
         "6022375714473447159",
         "2019-08-01 00:17:07",
         "248",
         "2019-08-01",
         "00:17:07"
        ],
        [
         "2856",
         "mainscreenappear",
         "205293431553451771",
         "2019-08-01 00:17:08",
         "246",
         "2019-08-01",
         "00:17:08"
        ],
        [
         "2857",
         "mainscreenappear",
         "6022375714473447159",
         "2019-08-01 00:20:11",
         "248",
         "2019-08-01",
         "00:20:11"
        ],
        [
         "2858",
         "mainscreenappear",
         "205293431553451771",
         "2019-08-01 00:20:21",
         "246",
         "2019-08-01",
         "00:20:21"
        ],
        [
         "2859",
         "mainscreenappear",
         "6022375714473447159",
         "2019-08-01 00:22:11",
         "248",
         "2019-08-01",
         "00:22:11"
        ],
        [
         "2860",
         "mainscreenappear",
         "2712290788139738557",
         "2019-08-01 00:22:41",
         "247",
         "2019-08-01",
         "00:22:41"
        ],
        [
         "2861",
         "paymentscreensuccessful",
         "2712290788139738557",
         "2019-08-01 00:22:44",
         "247",
         "2019-08-01",
         "00:22:44"
        ],
        [
         "2862",
         "cartscreenappear",
         "2712290788139738557",
         "2019-08-01 00:22:45",
         "247",
         "2019-08-01",
         "00:22:45"
        ],
        [
         "2863",
         "mainscreenappear",
         "2712290788139738557",
         "2019-08-01 00:22:45",
         "247",
         "2019-08-01",
         "00:22:45"
        ],
        [
         "2864",
         "offersscreenappear",
         "2712290788139738557",
         "2019-08-01 00:22:53",
         "247",
         "2019-08-01",
         "00:22:53"
        ],
        [
         "2865",
         "paymentscreensuccessful",
         "2712290788139738557",
         "2019-08-01 00:23:08",
         "247",
         "2019-08-01",
         "00:23:08"
        ],
        [
         "2866",
         "cartscreenappear",
         "2712290788139738557",
         "2019-08-01 00:23:09",
         "247",
         "2019-08-01",
         "00:23:09"
        ],
        [
         "2867",
         "mainscreenappear",
         "6022375714473447159",
         "2019-08-01 00:23:17",
         "248",
         "2019-08-01",
         "00:23:17"
        ],
        [
         "2868",
         "cartscreenappear",
         "2712290788139738557",
         "2019-08-01 00:23:20",
         "247",
         "2019-08-01",
         "00:23:20"
        ],
        [
         "2869",
         "paymentscreensuccessful",
         "2712290788139738557",
         "2019-08-01 00:23:20",
         "247",
         "2019-08-01",
         "00:23:20"
        ],
        [
         "2870",
         "mainscreenappear",
         "6022375714473447159",
         "2019-08-01 00:23:24",
         "248",
         "2019-08-01",
         "00:23:24"
        ],
        [
         "2871",
         "paymentscreensuccessful",
         "2712290788139738557",
         "2019-08-01 00:23:34",
         "247",
         "2019-08-01",
         "00:23:34"
        ],
        [
         "2872",
         "cartscreenappear",
         "2712290788139738557",
         "2019-08-01 00:23:35",
         "247",
         "2019-08-01",
         "00:23:35"
        ],
        [
         "2873",
         "cartscreenappear",
         "2712290788139738557",
         "2019-08-01 00:23:50",
         "247",
         "2019-08-01",
         "00:23:50"
        ],
        [
         "2874",
         "paymentscreensuccessful",
         "2712290788139738557",
         "2019-08-01 00:23:50",
         "247",
         "2019-08-01",
         "00:23:50"
        ],
        [
         "2875",
         "mainscreenappear",
         "1433840883824088890",
         "2019-08-01 00:23:55",
         "247",
         "2019-08-01",
         "00:23:55"
        ]
       ],
       "shape": {
        "columns": 6,
        "rows": 240887
       }
      },
      "text/html": [
       "<div>\n",
       "<style scoped>\n",
       "    .dataframe tbody tr th:only-of-type {\n",
       "        vertical-align: middle;\n",
       "    }\n",
       "\n",
       "    .dataframe tbody tr th {\n",
       "        vertical-align: top;\n",
       "    }\n",
       "\n",
       "    .dataframe thead th {\n",
       "        text-align: right;\n",
       "    }\n",
       "</style>\n",
       "<table border=\"1\" class=\"dataframe\">\n",
       "  <thead>\n",
       "    <tr style=\"text-align: right;\">\n",
       "      <th></th>\n",
       "      <th>eventname</th>\n",
       "      <th>deviceidhash</th>\n",
       "      <th>datetime</th>\n",
       "      <th>expid</th>\n",
       "      <th>date</th>\n",
       "      <th>time</th>\n",
       "    </tr>\n",
       "  </thead>\n",
       "  <tbody>\n",
       "    <tr>\n",
       "      <th>2826</th>\n",
       "      <td>tutorial</td>\n",
       "      <td>3737462046622621720</td>\n",
       "      <td>2019-08-01 00:07:28</td>\n",
       "      <td>246</td>\n",
       "      <td>2019-08-01</td>\n",
       "      <td>00:07:28</td>\n",
       "    </tr>\n",
       "    <tr>\n",
       "      <th>2827</th>\n",
       "      <td>mainscreenappear</td>\n",
       "      <td>3737462046622621720</td>\n",
       "      <td>2019-08-01 00:08:00</td>\n",
       "      <td>246</td>\n",
       "      <td>2019-08-01</td>\n",
       "      <td>00:08:00</td>\n",
       "    </tr>\n",
       "    <tr>\n",
       "      <th>2828</th>\n",
       "      <td>mainscreenappear</td>\n",
       "      <td>3737462046622621720</td>\n",
       "      <td>2019-08-01 00:08:55</td>\n",
       "      <td>246</td>\n",
       "      <td>2019-08-01</td>\n",
       "      <td>00:08:55</td>\n",
       "    </tr>\n",
       "    <tr>\n",
       "      <th>2829</th>\n",
       "      <td>offersscreenappear</td>\n",
       "      <td>3737462046622621720</td>\n",
       "      <td>2019-08-01 00:08:58</td>\n",
       "      <td>246</td>\n",
       "      <td>2019-08-01</td>\n",
       "      <td>00:08:58</td>\n",
       "    </tr>\n",
       "    <tr>\n",
       "      <th>2830</th>\n",
       "      <td>mainscreenappear</td>\n",
       "      <td>1433840883824088890</td>\n",
       "      <td>2019-08-01 00:08:59</td>\n",
       "      <td>247</td>\n",
       "      <td>2019-08-01</td>\n",
       "      <td>00:08:59</td>\n",
       "    </tr>\n",
       "    <tr>\n",
       "      <th>...</th>\n",
       "      <td>...</td>\n",
       "      <td>...</td>\n",
       "      <td>...</td>\n",
       "      <td>...</td>\n",
       "      <td>...</td>\n",
       "      <td>...</td>\n",
       "    </tr>\n",
       "    <tr>\n",
       "      <th>243708</th>\n",
       "      <td>mainscreenappear</td>\n",
       "      <td>4599628364049201812</td>\n",
       "      <td>2019-08-07 21:12:25</td>\n",
       "      <td>247</td>\n",
       "      <td>2019-08-07</td>\n",
       "      <td>21:12:25</td>\n",
       "    </tr>\n",
       "    <tr>\n",
       "      <th>243709</th>\n",
       "      <td>mainscreenappear</td>\n",
       "      <td>5849806612437486590</td>\n",
       "      <td>2019-08-07 21:13:59</td>\n",
       "      <td>246</td>\n",
       "      <td>2019-08-07</td>\n",
       "      <td>21:13:59</td>\n",
       "    </tr>\n",
       "    <tr>\n",
       "      <th>243710</th>\n",
       "      <td>mainscreenappear</td>\n",
       "      <td>5746969938801999050</td>\n",
       "      <td>2019-08-07 21:14:43</td>\n",
       "      <td>246</td>\n",
       "      <td>2019-08-07</td>\n",
       "      <td>21:14:43</td>\n",
       "    </tr>\n",
       "    <tr>\n",
       "      <th>243711</th>\n",
       "      <td>mainscreenappear</td>\n",
       "      <td>5746969938801999050</td>\n",
       "      <td>2019-08-07 21:14:58</td>\n",
       "      <td>246</td>\n",
       "      <td>2019-08-07</td>\n",
       "      <td>21:14:58</td>\n",
       "    </tr>\n",
       "    <tr>\n",
       "      <th>243712</th>\n",
       "      <td>offersscreenappear</td>\n",
       "      <td>5746969938801999050</td>\n",
       "      <td>2019-08-07 21:15:17</td>\n",
       "      <td>246</td>\n",
       "      <td>2019-08-07</td>\n",
       "      <td>21:15:17</td>\n",
       "    </tr>\n",
       "  </tbody>\n",
       "</table>\n",
       "<p>240887 rows × 6 columns</p>\n",
       "</div>"
      ],
      "text/plain": [
       "                 eventname         deviceidhash            datetime  expid        date      time\n",
       "2826              tutorial  3737462046622621720 2019-08-01 00:07:28    246  2019-08-01  00:07:28\n",
       "2827      mainscreenappear  3737462046622621720 2019-08-01 00:08:00    246  2019-08-01  00:08:00\n",
       "2828      mainscreenappear  3737462046622621720 2019-08-01 00:08:55    246  2019-08-01  00:08:55\n",
       "2829    offersscreenappear  3737462046622621720 2019-08-01 00:08:58    246  2019-08-01  00:08:58\n",
       "2830      mainscreenappear  1433840883824088890 2019-08-01 00:08:59    247  2019-08-01  00:08:59\n",
       "...                    ...                  ...                 ...    ...         ...       ...\n",
       "243708    mainscreenappear  4599628364049201812 2019-08-07 21:12:25    247  2019-08-07  21:12:25\n",
       "243709    mainscreenappear  5849806612437486590 2019-08-07 21:13:59    246  2019-08-07  21:13:59\n",
       "243710    mainscreenappear  5746969938801999050 2019-08-07 21:14:43    246  2019-08-07  21:14:43\n",
       "243711    mainscreenappear  5746969938801999050 2019-08-07 21:14:58    246  2019-08-07  21:14:58\n",
       "243712  offersscreenappear  5746969938801999050 2019-08-07 21:15:17    246  2019-08-07  21:15:17\n",
       "\n",
       "[240887 rows x 6 columns]"
      ]
     },
     "execution_count": 26,
     "metadata": {},
     "output_type": "execute_result"
    }
   ],
   "source": [
    "# Data prior to August 1, 2019, have incomplete records and are not included in the analysis to avoid bias.\n",
    "df_fs = df_fs.loc[df_fs['datetime'] > cutoff, :]\n",
    "df_fs"
   ]
  },
  {
   "cell_type": "code",
   "execution_count": 27,
   "id": "43c329da",
   "metadata": {},
   "outputs": [
    {
     "data": {
      "application/vnd.plotly.v1+json": {
       "config": {
        "plotlyServerURL": "https://plot.ly"
       },
       "data": [
        {
         "marker": {
          "color": "grey"
         },
         "name": "Histogram",
         "opacity": 0.7,
         "type": "bar",
         "width": {
          "bdata": "SiQSAEokEgBKJBIASiQSAEokEgBKJBIASiQSAEokEgBKJBIASiQSAEokEgBKJBIASiQSAEokEgBKJBIASiQSAEokEgBKJBIASiQSAEokEgBKJBIASiQSAEokEgBKJBIASiQSAEokEgBKJBIASiQSAEokEgBKJBIASiQSAEokEgBKJBIASiQSAEokEgBKJBIASiQSAEokEgBKJBIASiQSAEokEgBKJBIASiQSAEokEgBKJBIASiQSAEokEgBKJBIASiQSAEokEgBKJBIASiQSAEokEgBKJBIASiQSAEokEgBKJBIASiQSAEokEgBKJBIASiQSAEokEgBKJBIASiQSAEokEgBKJBIASiQSAEokEgBKJBIASiQSAEokEgBKJBIASiQSAEokEgBKJBIASiQSAEokEgBKJBIASiQSAEokEgBKJBIASiQSAEokEgBKJBIASiQSAEokEgBKJBIASiQSAEokEgBKJBIASiQSAEokEgBKJBIASiQSAEokEgBKJBIASiQSAEokEgBKJBIASiQSAEokEgBKJBIASiQSAEokEgBKJBIASiQSAEokEgBKJBIASiQSAEokEgBKJBIASiQSAEokEgBKJBIASiQSAEokEgBKJBIASiQSAEokEgBKJBIASiQSAEokEgBKJBIASiQSAEokEgBKJBIASiQSAEokEgBKJBIASiQSAEokEgBKJBIASiQSAEokEgBKJBIASiQSAEokEgBKJBIASiQSAEokEgBKJBIASiQSAEokEgBKJBIASiQSAEokEgBKJBIASiQSAEokEgBKJBIASiQSAEokEgBKJBIASiQSAEokEgBKJBIASiQSAEokEgBKJBIASiQSAEokEgBKJBIASiQSAEokEgBKJBIASiQSAEokEgBKJBIASiQSAEokEgBKJBIASiQSAEokEgBKJBIASiQSAEokEgBKJBIASiQSAEokEgBKJBIASiQSAEokEgBKJBIASiQSAEokEgBKJBIASiQSAEokEgBKJBIASiQSAEokEgBKJBIASiQSAEokEgBKJBIASiQSAEokEgBKJBIASiQSAEokEgBKJBIASiQSAEokEgBKJBIASiQSAEokEgBKJBIASiQSAEokEgBKJBIASiQSAEokEgBKJBIASiQSAEokEgBKJBIASiQSAEokEgBKJBIASiQSAEokEgBKJBIASiQSAEokEgBKJBIASiQSAEokEgBKJBIASiQSAEokEgBKJBIASiQSAEokEgBKJBIASiQSAEokEgBKJBIASiQSAEokEgBKJBIASiQSAEokEgBKJBIASiQSAEokEgBKJBIASiQSAEokEgBKJBIASiQSAEokEgBKJBIASiQSAEokEgBKJBIASiQSAEokEgBKJBIASiQSAEokEgBKJBIASiQSAEokEgBKJBIASiQSAEokEgBKJBIASiQSAEokEgBKJBIASiQSAEokEgBKJBIASiQSAEokEgBKJBIASiQSAEokEgBKJBIASiQSAEokEgBKJBIASiQSAEokEgBKJBIASiQSAEokEgBKJBIASiQSAEokEgBKJBIASiQSAEokEgBKJBIASiQSAEokEgBKJBIASiQSAEokEgBKJBIASiQSAEokEgBKJBIASiQSAEokEgBKJBIASiQSAEokEgBKJBIASiQSAEokEgBKJBIASiQSAEokEgBKJBIASiQSAEokEgBKJBIASiQSAEokEgBKJBIASiQSAEokEgBKJBIASiQSAEokEgBKJBIASiQSAEokEgBKJBIASiQSAEokEgBKJBIASiQSAEokEgBKJBIASiQSAEokEgBKJBIASiQSAEokEgBKJBIASiQSAEokEgBKJBIASiQSAEokEgBKJBIASiQSAEokEgBKJBIASiQSAEokEgBKJBIASiQSAEokEgBKJBIASiQSAEokEgBKJBIASiQSAEokEgBKJBIASiQSAEokEgBKJBIASiQSAEokEgBKJBIASiQSAEokEgBKJBIASiQSAEokEgBKJBIASiQSAEokEgBKJBIASiQSAEokEgBKJBIASiQSAEokEgBKJBIASiQSAEokEgBKJBIASiQSAEokEgBKJBIASiQSAEokEgBKJBIASiQSAEokEgBKJBIASiQSAEokEgBKJBIASiQSAEokEgBKJBIASiQSAEokEgBKJBIASiQSAEokEgBKJBIASiQSAEokEgBKJBIASiQSAEokEgBKJBIASiQSAEokEgBKJBIASiQSAEokEgBKJBIASiQSAEokEgBKJBIASiQSAEokEgBKJBIASiQSAEokEgBKJBIASiQSAEokEgBKJBIASiQSAEokEgBKJBIASiQSAEokEgBKJBIASiQSAEokEgBKJBIASiQSAEokEgBKJBIASiQSAEokEgBKJBIASiQSAEokEgBKJBIASiQSAEokEgBKJBIASiQSAEokEgBKJBIASiQSAEokEgBKJBIASiQSAEokEgBKJBIASiQSAEokEgBKJBIASiQSAEokEgBKJBIASiQSAEokEgBKJBIASiQSAEokEgBKJBIASiQSAEokEgBKJBIASiQSAEokEgBKJBIASiQSAEokEgBKJBIASiQSAEokEgBKJBIASiQSAEokEgBKJBIASiQSAEokEgBKJBIASiQSAEokEgBKJBIASiQSAEokEgBKJBIASiQSAEokEgA=",
          "dtype": "i4"
         },
         "x": [
          "2019-08-01T00:17:22.469000+00:00",
          "2019-08-01T00:37:11.407000+00:00",
          "2019-08-01T00:57:00.345000+00:00",
          "2019-08-01T01:16:49.283000+00:00",
          "2019-08-01T01:36:38.221000+00:00",
          "2019-08-01T01:56:27.159000+00:00",
          "2019-08-01T02:16:16.097000+00:00",
          "2019-08-01T02:36:05.035000+00:00",
          "2019-08-01T02:55:53.973000+00:00",
          "2019-08-01T03:15:42.911000+00:00",
          "2019-08-01T03:35:31.849000+00:00",
          "2019-08-01T03:55:20.787000+00:00",
          "2019-08-01T04:15:09.725000+00:00",
          "2019-08-01T04:34:58.663000+00:00",
          "2019-08-01T04:54:47.601000+00:00",
          "2019-08-01T05:14:36.539000+00:00",
          "2019-08-01T05:34:25.477000+00:00",
          "2019-08-01T05:54:14.415000+00:00",
          "2019-08-01T06:14:03.353000+00:00",
          "2019-08-01T06:33:52.291000+00:00",
          "2019-08-01T06:53:41.229000+00:00",
          "2019-08-01T07:13:30.167000+00:00",
          "2019-08-01T07:33:19.105000+00:00",
          "2019-08-01T07:53:08.043000+00:00",
          "2019-08-01T08:12:56.981000+00:00",
          "2019-08-01T08:32:45.919000+00:00",
          "2019-08-01T08:52:34.857000+00:00",
          "2019-08-01T09:12:23.795000+00:00",
          "2019-08-01T09:32:12.733000+00:00",
          "2019-08-01T09:52:01.671000+00:00",
          "2019-08-01T10:11:50.609000+00:00",
          "2019-08-01T10:31:39.547000+00:00",
          "2019-08-01T10:51:28.485000+00:00",
          "2019-08-01T11:11:17.423000+00:00",
          "2019-08-01T11:31:06.361000+00:00",
          "2019-08-01T11:50:55.299000+00:00",
          "2019-08-01T12:10:44.237000+00:00",
          "2019-08-01T12:30:33.175000+00:00",
          "2019-08-01T12:50:22.113000+00:00",
          "2019-08-01T13:10:11.051000+00:00",
          "2019-08-01T13:29:59.989000+00:00",
          "2019-08-01T13:49:48.927000+00:00",
          "2019-08-01T14:09:37.865000+00:00",
          "2019-08-01T14:29:26.803000+00:00",
          "2019-08-01T14:49:15.741000+00:00",
          "2019-08-01T15:09:04.679000+00:00",
          "2019-08-01T15:28:53.617000+00:00",
          "2019-08-01T15:48:42.555000+00:00",
          "2019-08-01T16:08:31.493000+00:00",
          "2019-08-01T16:28:20.431000+00:00",
          "2019-08-01T16:48:09.369000+00:00",
          "2019-08-01T17:07:58.307000+00:00",
          "2019-08-01T17:27:47.245000+00:00",
          "2019-08-01T17:47:36.183000+00:00",
          "2019-08-01T18:07:25.121000+00:00",
          "2019-08-01T18:27:14.059000+00:00",
          "2019-08-01T18:47:02.997000+00:00",
          "2019-08-01T19:06:51.935000+00:00",
          "2019-08-01T19:26:40.873000+00:00",
          "2019-08-01T19:46:29.811000+00:00",
          "2019-08-01T20:06:18.749000+00:00",
          "2019-08-01T20:26:07.687000+00:00",
          "2019-08-01T20:45:56.625000+00:00",
          "2019-08-01T21:05:45.563000+00:00",
          "2019-08-01T21:25:34.501000+00:00",
          "2019-08-01T21:45:23.439000+00:00",
          "2019-08-01T22:05:12.377000+00:00",
          "2019-08-01T22:25:01.315000+00:00",
          "2019-08-01T22:44:50.253000+00:00",
          "2019-08-01T23:04:39.191000+00:00",
          "2019-08-01T23:24:28.129000+00:00",
          "2019-08-01T23:44:17.067000+00:00",
          "2019-08-02T00:04:06.005000+00:00",
          "2019-08-02T00:23:54.943000+00:00",
          "2019-08-02T00:43:43.881000+00:00",
          "2019-08-02T01:03:32.819000+00:00",
          "2019-08-02T01:23:21.757000+00:00",
          "2019-08-02T01:43:10.695000+00:00",
          "2019-08-02T02:02:59.633000+00:00",
          "2019-08-02T02:22:48.571000+00:00",
          "2019-08-02T02:42:37.509000+00:00",
          "2019-08-02T03:02:26.447000+00:00",
          "2019-08-02T03:22:15.385000+00:00",
          "2019-08-02T03:42:04.323000+00:00",
          "2019-08-02T04:01:53.261000+00:00",
          "2019-08-02T04:21:42.199000+00:00",
          "2019-08-02T04:41:31.137000+00:00",
          "2019-08-02T05:01:20.075000+00:00",
          "2019-08-02T05:21:09.013000+00:00",
          "2019-08-02T05:40:57.951000+00:00",
          "2019-08-02T06:00:46.889000+00:00",
          "2019-08-02T06:20:35.827000+00:00",
          "2019-08-02T06:40:24.765000+00:00",
          "2019-08-02T07:00:13.703000+00:00",
          "2019-08-02T07:20:02.641000+00:00",
          "2019-08-02T07:39:51.579000+00:00",
          "2019-08-02T07:59:40.517000+00:00",
          "2019-08-02T08:19:29.455000+00:00",
          "2019-08-02T08:39:18.393000+00:00",
          "2019-08-02T08:59:07.331000+00:00",
          "2019-08-02T09:18:56.269000+00:00",
          "2019-08-02T09:38:45.207000+00:00",
          "2019-08-02T09:58:34.145000+00:00",
          "2019-08-02T10:18:23.083000+00:00",
          "2019-08-02T10:38:12.021000+00:00",
          "2019-08-02T10:58:00.959000+00:00",
          "2019-08-02T11:17:49.897000+00:00",
          "2019-08-02T11:37:38.835000+00:00",
          "2019-08-02T11:57:27.773000+00:00",
          "2019-08-02T12:17:16.711000+00:00",
          "2019-08-02T12:37:05.649000+00:00",
          "2019-08-02T12:56:54.587000+00:00",
          "2019-08-02T13:16:43.525000+00:00",
          "2019-08-02T13:36:32.463000+00:00",
          "2019-08-02T13:56:21.401000+00:00",
          "2019-08-02T14:16:10.339000+00:00",
          "2019-08-02T14:35:59.277000+00:00",
          "2019-08-02T14:55:48.215000+00:00",
          "2019-08-02T15:15:37.153000+00:00",
          "2019-08-02T15:35:26.091000+00:00",
          "2019-08-02T15:55:15.029000+00:00",
          "2019-08-02T16:15:03.967000+00:00",
          "2019-08-02T16:34:52.905000+00:00",
          "2019-08-02T16:54:41.843000+00:00",
          "2019-08-02T17:14:30.781000+00:00",
          "2019-08-02T17:34:19.719000+00:00",
          "2019-08-02T17:54:08.657000+00:00",
          "2019-08-02T18:13:57.595000+00:00",
          "2019-08-02T18:33:46.533000+00:00",
          "2019-08-02T18:53:35.471000+00:00",
          "2019-08-02T19:13:24.409000+00:00",
          "2019-08-02T19:33:13.347000+00:00",
          "2019-08-02T19:53:02.285000+00:00",
          "2019-08-02T20:12:51.223000+00:00",
          "2019-08-02T20:32:40.161000+00:00",
          "2019-08-02T20:52:29.099000+00:00",
          "2019-08-02T21:12:18.037000+00:00",
          "2019-08-02T21:32:06.975000+00:00",
          "2019-08-02T21:51:55.913000+00:00",
          "2019-08-02T22:11:44.851000+00:00",
          "2019-08-02T22:31:33.789000+00:00",
          "2019-08-02T22:51:22.727000+00:00",
          "2019-08-02T23:11:11.665000+00:00",
          "2019-08-02T23:31:00.603000+00:00",
          "2019-08-02T23:50:49.541000+00:00",
          "2019-08-03T00:10:38.479000+00:00",
          "2019-08-03T00:30:27.417000+00:00",
          "2019-08-03T00:50:16.355000+00:00",
          "2019-08-03T01:10:05.293000+00:00",
          "2019-08-03T01:29:54.231000+00:00",
          "2019-08-03T01:49:43.169000+00:00",
          "2019-08-03T02:09:32.107000+00:00",
          "2019-08-03T02:29:21.045000+00:00",
          "2019-08-03T02:49:09.983000+00:00",
          "2019-08-03T03:08:58.921000+00:00",
          "2019-08-03T03:28:47.859000+00:00",
          "2019-08-03T03:48:36.797000+00:00",
          "2019-08-03T04:08:25.735000+00:00",
          "2019-08-03T04:28:14.673000+00:00",
          "2019-08-03T04:48:03.611000+00:00",
          "2019-08-03T05:07:52.549000+00:00",
          "2019-08-03T05:27:41.487000+00:00",
          "2019-08-03T05:47:30.425000+00:00",
          "2019-08-03T06:07:19.363000+00:00",
          "2019-08-03T06:27:08.301000+00:00",
          "2019-08-03T06:46:57.239000+00:00",
          "2019-08-03T07:06:46.177000+00:00",
          "2019-08-03T07:26:35.115000+00:00",
          "2019-08-03T07:46:24.053000+00:00",
          "2019-08-03T08:06:12.991000+00:00",
          "2019-08-03T08:26:01.929000+00:00",
          "2019-08-03T08:45:50.867000+00:00",
          "2019-08-03T09:05:39.805000+00:00",
          "2019-08-03T09:25:28.743000+00:00",
          "2019-08-03T09:45:17.681000+00:00",
          "2019-08-03T10:05:06.619000+00:00",
          "2019-08-03T10:24:55.557000+00:00",
          "2019-08-03T10:44:44.495000+00:00",
          "2019-08-03T11:04:33.433000+00:00",
          "2019-08-03T11:24:22.371000+00:00",
          "2019-08-03T11:44:11.309000+00:00",
          "2019-08-03T12:04:00.247000+00:00",
          "2019-08-03T12:23:49.185000+00:00",
          "2019-08-03T12:43:38.123000+00:00",
          "2019-08-03T13:03:27.061000+00:00",
          "2019-08-03T13:23:15.999000+00:00",
          "2019-08-03T13:43:04.937000+00:00",
          "2019-08-03T14:02:53.875000+00:00",
          "2019-08-03T14:22:42.813000+00:00",
          "2019-08-03T14:42:31.751000+00:00",
          "2019-08-03T15:02:20.689000+00:00",
          "2019-08-03T15:22:09.627000+00:00",
          "2019-08-03T15:41:58.565000+00:00",
          "2019-08-03T16:01:47.503000+00:00",
          "2019-08-03T16:21:36.441000+00:00",
          "2019-08-03T16:41:25.379000+00:00",
          "2019-08-03T17:01:14.317000+00:00",
          "2019-08-03T17:21:03.255000+00:00",
          "2019-08-03T17:40:52.193000+00:00",
          "2019-08-03T18:00:41.131000+00:00",
          "2019-08-03T18:20:30.069000+00:00",
          "2019-08-03T18:40:19.007000+00:00",
          "2019-08-03T19:00:07.945000+00:00",
          "2019-08-03T19:19:56.883000+00:00",
          "2019-08-03T19:39:45.821000+00:00",
          "2019-08-03T19:59:34.759000+00:00",
          "2019-08-03T20:19:23.697000+00:00",
          "2019-08-03T20:39:12.635000+00:00",
          "2019-08-03T20:59:01.573000+00:00",
          "2019-08-03T21:18:50.511000+00:00",
          "2019-08-03T21:38:39.449000+00:00",
          "2019-08-03T21:58:28.387000+00:00",
          "2019-08-03T22:18:17.325000+00:00",
          "2019-08-03T22:38:06.263000+00:00",
          "2019-08-03T22:57:55.201000+00:00",
          "2019-08-03T23:17:44.139000+00:00",
          "2019-08-03T23:37:33.077000+00:00",
          "2019-08-03T23:57:22.015000+00:00",
          "2019-08-04T00:17:10.953000+00:00",
          "2019-08-04T00:36:59.891000+00:00",
          "2019-08-04T00:56:48.829000+00:00",
          "2019-08-04T01:16:37.767000+00:00",
          "2019-08-04T01:36:26.705000+00:00",
          "2019-08-04T01:56:15.643000+00:00",
          "2019-08-04T02:16:04.581000+00:00",
          "2019-08-04T02:35:53.519000+00:00",
          "2019-08-04T02:55:42.457000+00:00",
          "2019-08-04T03:15:31.395000+00:00",
          "2019-08-04T03:35:20.333000+00:00",
          "2019-08-04T03:55:09.271000+00:00",
          "2019-08-04T04:14:58.209000+00:00",
          "2019-08-04T04:34:47.147000+00:00",
          "2019-08-04T04:54:36.085000+00:00",
          "2019-08-04T05:14:25.023000+00:00",
          "2019-08-04T05:34:13.961000+00:00",
          "2019-08-04T05:54:02.899000+00:00",
          "2019-08-04T06:13:51.837000+00:00",
          "2019-08-04T06:33:40.775000+00:00",
          "2019-08-04T06:53:29.713000+00:00",
          "2019-08-04T07:13:18.651000+00:00",
          "2019-08-04T07:33:07.589000+00:00",
          "2019-08-04T07:52:56.527000+00:00",
          "2019-08-04T08:12:45.465000+00:00",
          "2019-08-04T08:32:34.403000+00:00",
          "2019-08-04T08:52:23.341000+00:00",
          "2019-08-04T09:12:12.279000+00:00",
          "2019-08-04T09:32:01.217000+00:00",
          "2019-08-04T09:51:50.155000+00:00",
          "2019-08-04T10:11:39.093000+00:00",
          "2019-08-04T10:31:28.031000+00:00",
          "2019-08-04T10:51:16.969000+00:00",
          "2019-08-04T11:11:05.907000+00:00",
          "2019-08-04T11:30:54.845000+00:00",
          "2019-08-04T11:50:43.783000+00:00",
          "2019-08-04T12:10:32.721000+00:00",
          "2019-08-04T12:30:21.659000+00:00",
          "2019-08-04T12:50:10.597000+00:00",
          "2019-08-04T13:09:59.535000+00:00",
          "2019-08-04T13:29:48.473000+00:00",
          "2019-08-04T13:49:37.411000+00:00",
          "2019-08-04T14:09:26.349000+00:00",
          "2019-08-04T14:29:15.287000+00:00",
          "2019-08-04T14:49:04.225000+00:00",
          "2019-08-04T15:08:53.163000+00:00",
          "2019-08-04T15:28:42.101000+00:00",
          "2019-08-04T15:48:31.039000+00:00",
          "2019-08-04T16:08:19.977000+00:00",
          "2019-08-04T16:28:08.915000+00:00",
          "2019-08-04T16:47:57.853000+00:00",
          "2019-08-04T17:07:46.791000+00:00",
          "2019-08-04T17:27:35.729000+00:00",
          "2019-08-04T17:47:24.667000+00:00",
          "2019-08-04T18:07:13.605000+00:00",
          "2019-08-04T18:27:02.543000+00:00",
          "2019-08-04T18:46:51.481000+00:00",
          "2019-08-04T19:06:40.419000+00:00",
          "2019-08-04T19:26:29.357000+00:00",
          "2019-08-04T19:46:18.295000+00:00",
          "2019-08-04T20:06:07.233000+00:00",
          "2019-08-04T20:25:56.171000+00:00",
          "2019-08-04T20:45:45.109000+00:00",
          "2019-08-04T21:05:34.047000+00:00",
          "2019-08-04T21:25:22.985000+00:00",
          "2019-08-04T21:45:11.923000+00:00",
          "2019-08-04T22:05:00.861000+00:00",
          "2019-08-04T22:24:49.799000+00:00",
          "2019-08-04T22:44:38.737000+00:00",
          "2019-08-04T23:04:27.675000+00:00",
          "2019-08-04T23:24:16.613000+00:00",
          "2019-08-04T23:44:05.551000+00:00",
          "2019-08-05T00:03:54.489000+00:00",
          "2019-08-05T00:23:43.427000+00:00",
          "2019-08-05T00:43:32.365000+00:00",
          "2019-08-05T01:03:21.303000+00:00",
          "2019-08-05T01:23:10.241000+00:00",
          "2019-08-05T01:42:59.179000+00:00",
          "2019-08-05T02:02:48.117000+00:00",
          "2019-08-05T02:22:37.055000+00:00",
          "2019-08-05T02:42:25.993000+00:00",
          "2019-08-05T03:02:14.931000+00:00",
          "2019-08-05T03:22:03.869000+00:00",
          "2019-08-05T03:41:52.807000+00:00",
          "2019-08-05T04:01:41.745000+00:00",
          "2019-08-05T04:21:30.683000+00:00",
          "2019-08-05T04:41:19.621000+00:00",
          "2019-08-05T05:01:08.559000+00:00",
          "2019-08-05T05:20:57.497000+00:00",
          "2019-08-05T05:40:46.435000+00:00",
          "2019-08-05T06:00:35.373000+00:00",
          "2019-08-05T06:20:24.311000+00:00",
          "2019-08-05T06:40:13.249000+00:00",
          "2019-08-05T07:00:02.187000+00:00",
          "2019-08-05T07:19:51.125000+00:00",
          "2019-08-05T07:39:40.063000+00:00",
          "2019-08-05T07:59:29.001000+00:00",
          "2019-08-05T08:19:17.939000+00:00",
          "2019-08-05T08:39:06.877000+00:00",
          "2019-08-05T08:58:55.815000+00:00",
          "2019-08-05T09:18:44.753000+00:00",
          "2019-08-05T09:38:33.691000+00:00",
          "2019-08-05T09:58:22.629000+00:00",
          "2019-08-05T10:18:11.567000+00:00",
          "2019-08-05T10:38:00.505000+00:00",
          "2019-08-05T10:57:49.443000+00:00",
          "2019-08-05T11:17:38.381000+00:00",
          "2019-08-05T11:37:27.319000+00:00",
          "2019-08-05T11:57:16.257000+00:00",
          "2019-08-05T12:17:05.195000+00:00",
          "2019-08-05T12:36:54.133000+00:00",
          "2019-08-05T12:56:43.071000+00:00",
          "2019-08-05T13:16:32.009000+00:00",
          "2019-08-05T13:36:20.947000+00:00",
          "2019-08-05T13:56:09.885000+00:00",
          "2019-08-05T14:15:58.823000+00:00",
          "2019-08-05T14:35:47.761000+00:00",
          "2019-08-05T14:55:36.699000+00:00",
          "2019-08-05T15:15:25.637000+00:00",
          "2019-08-05T15:35:14.575000+00:00",
          "2019-08-05T15:55:03.513000+00:00",
          "2019-08-05T16:14:52.451000+00:00",
          "2019-08-05T16:34:41.389000+00:00",
          "2019-08-05T16:54:30.327000+00:00",
          "2019-08-05T17:14:19.265000+00:00",
          "2019-08-05T17:34:08.203000+00:00",
          "2019-08-05T17:53:57.141000+00:00",
          "2019-08-05T18:13:46.079000+00:00",
          "2019-08-05T18:33:35.017000+00:00",
          "2019-08-05T18:53:23.955000+00:00",
          "2019-08-05T19:13:12.893000+00:00",
          "2019-08-05T19:33:01.831000+00:00",
          "2019-08-05T19:52:50.769000+00:00",
          "2019-08-05T20:12:39.707000+00:00",
          "2019-08-05T20:32:28.645000+00:00",
          "2019-08-05T20:52:17.583000+00:00",
          "2019-08-05T21:12:06.521000+00:00",
          "2019-08-05T21:31:55.459000+00:00",
          "2019-08-05T21:51:44.397000+00:00",
          "2019-08-05T22:11:33.335000+00:00",
          "2019-08-05T22:31:22.273000+00:00",
          "2019-08-05T22:51:11.211000+00:00",
          "2019-08-05T23:11:00.149000+00:00",
          "2019-08-05T23:30:49.087000+00:00",
          "2019-08-05T23:50:38.025000+00:00",
          "2019-08-06T00:10:26.963000+00:00",
          "2019-08-06T00:30:15.901000+00:00",
          "2019-08-06T00:50:04.839000+00:00",
          "2019-08-06T01:09:53.777000+00:00",
          "2019-08-06T01:29:42.715000+00:00",
          "2019-08-06T01:49:31.653000+00:00",
          "2019-08-06T02:09:20.591000+00:00",
          "2019-08-06T02:29:09.529000+00:00",
          "2019-08-06T02:48:58.467000+00:00",
          "2019-08-06T03:08:47.405000+00:00",
          "2019-08-06T03:28:36.343000+00:00",
          "2019-08-06T03:48:25.281000+00:00",
          "2019-08-06T04:08:14.219000+00:00",
          "2019-08-06T04:28:03.157000+00:00",
          "2019-08-06T04:47:52.095000+00:00",
          "2019-08-06T05:07:41.033000+00:00",
          "2019-08-06T05:27:29.971000+00:00",
          "2019-08-06T05:47:18.909000+00:00",
          "2019-08-06T06:07:07.847000+00:00",
          "2019-08-06T06:26:56.785000+00:00",
          "2019-08-06T06:46:45.723000+00:00",
          "2019-08-06T07:06:34.661000+00:00",
          "2019-08-06T07:26:23.599000+00:00",
          "2019-08-06T07:46:12.537000+00:00",
          "2019-08-06T08:06:01.475000+00:00",
          "2019-08-06T08:25:50.413000+00:00",
          "2019-08-06T08:45:39.351000+00:00",
          "2019-08-06T09:05:28.289000+00:00",
          "2019-08-06T09:25:17.227000+00:00",
          "2019-08-06T09:45:06.165000+00:00",
          "2019-08-06T10:04:55.103000+00:00",
          "2019-08-06T10:24:44.041000+00:00",
          "2019-08-06T10:44:32.979000+00:00",
          "2019-08-06T11:04:21.917000+00:00",
          "2019-08-06T11:24:10.855000+00:00",
          "2019-08-06T11:43:59.793000+00:00",
          "2019-08-06T12:03:48.731000+00:00",
          "2019-08-06T12:23:37.669000+00:00",
          "2019-08-06T12:43:26.607000+00:00",
          "2019-08-06T13:03:15.545000+00:00",
          "2019-08-06T13:23:04.483000+00:00",
          "2019-08-06T13:42:53.421000+00:00",
          "2019-08-06T14:02:42.359000+00:00",
          "2019-08-06T14:22:31.297000+00:00",
          "2019-08-06T14:42:20.235000+00:00",
          "2019-08-06T15:02:09.173000+00:00",
          "2019-08-06T15:21:58.111000+00:00",
          "2019-08-06T15:41:47.049000+00:00",
          "2019-08-06T16:01:35.987000+00:00",
          "2019-08-06T16:21:24.925000+00:00",
          "2019-08-06T16:41:13.863000+00:00",
          "2019-08-06T17:01:02.801000+00:00",
          "2019-08-06T17:20:51.739000+00:00",
          "2019-08-06T17:40:40.677000+00:00",
          "2019-08-06T18:00:29.615000+00:00",
          "2019-08-06T18:20:18.553000+00:00",
          "2019-08-06T18:40:07.491000+00:00",
          "2019-08-06T18:59:56.429000+00:00",
          "2019-08-06T19:19:45.367000+00:00",
          "2019-08-06T19:39:34.305000+00:00",
          "2019-08-06T19:59:23.243000+00:00",
          "2019-08-06T20:19:12.181000+00:00",
          "2019-08-06T20:39:01.119000+00:00",
          "2019-08-06T20:58:50.057000+00:00",
          "2019-08-06T21:18:38.995000+00:00",
          "2019-08-06T21:38:27.933000+00:00",
          "2019-08-06T21:58:16.871000+00:00",
          "2019-08-06T22:18:05.809000+00:00",
          "2019-08-06T22:37:54.747000+00:00",
          "2019-08-06T22:57:43.685000+00:00",
          "2019-08-06T23:17:32.623000+00:00",
          "2019-08-06T23:37:21.561000+00:00",
          "2019-08-06T23:57:10.499000+00:00",
          "2019-08-07T00:16:59.437000+00:00",
          "2019-08-07T00:36:48.375000+00:00",
          "2019-08-07T00:56:37.313000+00:00",
          "2019-08-07T01:16:26.251000+00:00",
          "2019-08-07T01:36:15.189000+00:00",
          "2019-08-07T01:56:04.127000+00:00",
          "2019-08-07T02:15:53.065000+00:00",
          "2019-08-07T02:35:42.003000+00:00",
          "2019-08-07T02:55:30.941000+00:00",
          "2019-08-07T03:15:19.879000+00:00",
          "2019-08-07T03:35:08.817000+00:00",
          "2019-08-07T03:54:57.755000+00:00",
          "2019-08-07T04:14:46.693000+00:00",
          "2019-08-07T04:34:35.631000+00:00",
          "2019-08-07T04:54:24.569000+00:00",
          "2019-08-07T05:14:13.507000+00:00",
          "2019-08-07T05:34:02.445000+00:00",
          "2019-08-07T05:53:51.383000+00:00",
          "2019-08-07T06:13:40.321000+00:00",
          "2019-08-07T06:33:29.259000+00:00",
          "2019-08-07T06:53:18.197000+00:00",
          "2019-08-07T07:13:07.135000+00:00",
          "2019-08-07T07:32:56.073000+00:00",
          "2019-08-07T07:52:45.011000+00:00",
          "2019-08-07T08:12:33.949000+00:00",
          "2019-08-07T08:32:22.887000+00:00",
          "2019-08-07T08:52:11.825000+00:00",
          "2019-08-07T09:12:00.763000+00:00",
          "2019-08-07T09:31:49.701000+00:00",
          "2019-08-07T09:51:38.639000+00:00",
          "2019-08-07T10:11:27.577000+00:00",
          "2019-08-07T10:31:16.515000+00:00",
          "2019-08-07T10:51:05.453000+00:00",
          "2019-08-07T11:10:54.391000+00:00",
          "2019-08-07T11:30:43.329000+00:00",
          "2019-08-07T11:50:32.267000+00:00",
          "2019-08-07T12:10:21.205000+00:00",
          "2019-08-07T12:30:10.143000+00:00",
          "2019-08-07T12:49:59.081000+00:00",
          "2019-08-07T13:09:48.019000+00:00",
          "2019-08-07T13:29:36.957000+00:00",
          "2019-08-07T13:49:25.895000+00:00",
          "2019-08-07T14:09:14.833000+00:00",
          "2019-08-07T14:29:03.771000+00:00",
          "2019-08-07T14:48:52.709000+00:00",
          "2019-08-07T15:08:41.647000+00:00",
          "2019-08-07T15:28:30.585000+00:00",
          "2019-08-07T15:48:19.523000+00:00",
          "2019-08-07T16:08:08.461000+00:00",
          "2019-08-07T16:27:57.399000+00:00",
          "2019-08-07T16:47:46.337000+00:00",
          "2019-08-07T17:07:35.275000+00:00",
          "2019-08-07T17:27:24.213000+00:00",
          "2019-08-07T17:47:13.151000+00:00",
          "2019-08-07T18:07:02.089000+00:00",
          "2019-08-07T18:26:51.027000+00:00",
          "2019-08-07T18:46:39.965000+00:00",
          "2019-08-07T19:06:28.903000+00:00",
          "2019-08-07T19:26:17.841000+00:00",
          "2019-08-07T19:46:06.779000+00:00",
          "2019-08-07T20:05:55.717000+00:00",
          "2019-08-07T20:25:44.655000+00:00",
          "2019-08-07T20:45:33.593000+00:00",
          "2019-08-07T21:05:22.531000+00:00"
         ],
         "y": {
          "bdata": "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",
          "dtype": "f8"
         }
        },
        {
         "line": {
          "color": "red",
          "dash": "dash"
         },
         "mode": "lines",
         "name": "Mean",
         "type": "scatter",
         "x": [
          "2019-08-04T11:31:47.713000+00:00",
          "2019-08-04T11:31:47.713000+00:00"
         ],
         "y": [
          0,
          1225.4
         ]
        },
        {
         "line": {
          "color": "blue",
          "dash": "dashdot"
         },
         "mode": "lines",
         "name": "Median",
         "type": "scatter",
         "x": [
          "2019-08-04T12:28:00+00:00",
          "2019-08-04T12:28:00+00:00"
         ],
         "y": [
          0,
          1225.4
         ]
        }
       ],
       "layout": {
        "bargap": 0.05,
        "height": 500,
        "template": {
         "data": {
          "bar": [
           {
            "error_x": {
             "color": "#2a3f5f"
            },
            "error_y": {
             "color": "#2a3f5f"
            },
            "marker": {
             "line": {
              "color": "white",
              "width": 0.5
             },
             "pattern": {
              "fillmode": "overlay",
              "size": 10,
              "solidity": 0.2
             }
            },
            "type": "bar"
           }
          ],
          "barpolar": [
           {
            "marker": {
             "line": {
              "color": "white",
              "width": 0.5
             },
             "pattern": {
              "fillmode": "overlay",
              "size": 10,
              "solidity": 0.2
             }
            },
            "type": "barpolar"
           }
          ],
          "carpet": [
           {
            "aaxis": {
             "endlinecolor": "#2a3f5f",
             "gridcolor": "#C8D4E3",
             "linecolor": "#C8D4E3",
             "minorgridcolor": "#C8D4E3",
             "startlinecolor": "#2a3f5f"
            },
            "baxis": {
             "endlinecolor": "#2a3f5f",
             "gridcolor": "#C8D4E3",
             "linecolor": "#C8D4E3",
             "minorgridcolor": "#C8D4E3",
             "startlinecolor": "#2a3f5f"
            },
            "type": "carpet"
           }
          ],
          "choropleth": [
           {
            "colorbar": {
             "outlinewidth": 0,
             "ticks": ""
            },
            "type": "choropleth"
           }
          ],
          "contour": [
           {
            "colorbar": {
             "outlinewidth": 0,
             "ticks": ""
            },
            "colorscale": [
             [
              0,
              "#0d0887"
             ],
             [
              0.1111111111111111,
              "#46039f"
             ],
             [
              0.2222222222222222,
              "#7201a8"
             ],
             [
              0.3333333333333333,
              "#9c179e"
             ],
             [
              0.4444444444444444,
              "#bd3786"
             ],
             [
              0.5555555555555556,
              "#d8576b"
             ],
             [
              0.6666666666666666,
              "#ed7953"
             ],
             [
              0.7777777777777778,
              "#fb9f3a"
             ],
             [
              0.8888888888888888,
              "#fdca26"
             ],
             [
              1,
              "#f0f921"
             ]
            ],
            "type": "contour"
           }
          ],
          "contourcarpet": [
           {
            "colorbar": {
             "outlinewidth": 0,
             "ticks": ""
            },
            "type": "contourcarpet"
           }
          ],
          "heatmap": [
           {
            "colorbar": {
             "outlinewidth": 0,
             "ticks": ""
            },
            "colorscale": [
             [
              0,
              "#0d0887"
             ],
             [
              0.1111111111111111,
              "#46039f"
             ],
             [
              0.2222222222222222,
              "#7201a8"
             ],
             [
              0.3333333333333333,
              "#9c179e"
             ],
             [
              0.4444444444444444,
              "#bd3786"
             ],
             [
              0.5555555555555556,
              "#d8576b"
             ],
             [
              0.6666666666666666,
              "#ed7953"
             ],
             [
              0.7777777777777778,
              "#fb9f3a"
             ],
             [
              0.8888888888888888,
              "#fdca26"
             ],
             [
              1,
              "#f0f921"
             ]
            ],
            "type": "heatmap"
           }
          ],
          "histogram": [
           {
            "marker": {
             "pattern": {
              "fillmode": "overlay",
              "size": 10,
              "solidity": 0.2
             }
            },
            "type": "histogram"
           }
          ],
          "histogram2d": [
           {
            "colorbar": {
             "outlinewidth": 0,
             "ticks": ""
            },
            "colorscale": [
             [
              0,
              "#0d0887"
             ],
             [
              0.1111111111111111,
              "#46039f"
             ],
             [
              0.2222222222222222,
              "#7201a8"
             ],
             [
              0.3333333333333333,
              "#9c179e"
             ],
             [
              0.4444444444444444,
              "#bd3786"
             ],
             [
              0.5555555555555556,
              "#d8576b"
             ],
             [
              0.6666666666666666,
              "#ed7953"
             ],
             [
              0.7777777777777778,
              "#fb9f3a"
             ],
             [
              0.8888888888888888,
              "#fdca26"
             ],
             [
              1,
              "#f0f921"
             ]
            ],
            "type": "histogram2d"
           }
          ],
          "histogram2dcontour": [
           {
            "colorbar": {
             "outlinewidth": 0,
             "ticks": ""
            },
            "colorscale": [
             [
              0,
              "#0d0887"
             ],
             [
              0.1111111111111111,
              "#46039f"
             ],
             [
              0.2222222222222222,
              "#7201a8"
             ],
             [
              0.3333333333333333,
              "#9c179e"
             ],
             [
              0.4444444444444444,
              "#bd3786"
             ],
             [
              0.5555555555555556,
              "#d8576b"
             ],
             [
              0.6666666666666666,
              "#ed7953"
             ],
             [
              0.7777777777777778,
              "#fb9f3a"
             ],
             [
              0.8888888888888888,
              "#fdca26"
             ],
             [
              1,
              "#f0f921"
             ]
            ],
            "type": "histogram2dcontour"
           }
          ],
          "mesh3d": [
           {
            "colorbar": {
             "outlinewidth": 0,
             "ticks": ""
            },
            "type": "mesh3d"
           }
          ],
          "parcoords": [
           {
            "line": {
             "colorbar": {
              "outlinewidth": 0,
              "ticks": ""
             }
            },
            "type": "parcoords"
           }
          ],
          "pie": [
           {
            "automargin": true,
            "type": "pie"
           }
          ],
          "scatter": [
           {
            "fillpattern": {
             "fillmode": "overlay",
             "size": 10,
             "solidity": 0.2
            },
            "type": "scatter"
           }
          ],
          "scatter3d": [
           {
            "line": {
             "colorbar": {
              "outlinewidth": 0,
              "ticks": ""
             }
            },
            "marker": {
             "colorbar": {
              "outlinewidth": 0,
              "ticks": ""
             }
            },
            "type": "scatter3d"
           }
          ],
          "scattercarpet": [
           {
            "marker": {
             "colorbar": {
              "outlinewidth": 0,
              "ticks": ""
             }
            },
            "type": "scattercarpet"
           }
          ],
          "scattergeo": [
           {
            "marker": {
             "colorbar": {
              "outlinewidth": 0,
              "ticks": ""
             }
            },
            "type": "scattergeo"
           }
          ],
          "scattergl": [
           {
            "marker": {
             "colorbar": {
              "outlinewidth": 0,
              "ticks": ""
             }
            },
            "type": "scattergl"
           }
          ],
          "scattermap": [
           {
            "marker": {
             "colorbar": {
              "outlinewidth": 0,
              "ticks": ""
             }
            },
            "type": "scattermap"
           }
          ],
          "scattermapbox": [
           {
            "marker": {
             "colorbar": {
              "outlinewidth": 0,
              "ticks": ""
             }
            },
            "type": "scattermapbox"
           }
          ],
          "scatterpolar": [
           {
            "marker": {
             "colorbar": {
              "outlinewidth": 0,
              "ticks": ""
             }
            },
            "type": "scatterpolar"
           }
          ],
          "scatterpolargl": [
           {
            "marker": {
             "colorbar": {
              "outlinewidth": 0,
              "ticks": ""
             }
            },
            "type": "scatterpolargl"
           }
          ],
          "scatterternary": [
           {
            "marker": {
             "colorbar": {
              "outlinewidth": 0,
              "ticks": ""
             }
            },
            "type": "scatterternary"
           }
          ],
          "surface": [
           {
            "colorbar": {
             "outlinewidth": 0,
             "ticks": ""
            },
            "colorscale": [
             [
              0,
              "#0d0887"
             ],
             [
              0.1111111111111111,
              "#46039f"
             ],
             [
              0.2222222222222222,
              "#7201a8"
             ],
             [
              0.3333333333333333,
              "#9c179e"
             ],
             [
              0.4444444444444444,
              "#bd3786"
             ],
             [
              0.5555555555555556,
              "#d8576b"
             ],
             [
              0.6666666666666666,
              "#ed7953"
             ],
             [
              0.7777777777777778,
              "#fb9f3a"
             ],
             [
              0.8888888888888888,
              "#fdca26"
             ],
             [
              1,
              "#f0f921"
             ]
            ],
            "type": "surface"
           }
          ],
          "table": [
           {
            "cells": {
             "fill": {
              "color": "#EBF0F8"
             },
             "line": {
              "color": "white"
             }
            },
            "header": {
             "fill": {
              "color": "#C8D4E3"
             },
             "line": {
              "color": "white"
             }
            },
            "type": "table"
           }
          ]
         },
         "layout": {
          "annotationdefaults": {
           "arrowcolor": "#2a3f5f",
           "arrowhead": 0,
           "arrowwidth": 1
          },
          "autotypenumbers": "strict",
          "coloraxis": {
           "colorbar": {
            "outlinewidth": 0,
            "ticks": ""
           }
          },
          "colorscale": {
           "diverging": [
            [
             0,
             "#8e0152"
            ],
            [
             0.1,
             "#c51b7d"
            ],
            [
             0.2,
             "#de77ae"
            ],
            [
             0.3,
             "#f1b6da"
            ],
            [
             0.4,
             "#fde0ef"
            ],
            [
             0.5,
             "#f7f7f7"
            ],
            [
             0.6,
             "#e6f5d0"
            ],
            [
             0.7,
             "#b8e186"
            ],
            [
             0.8,
             "#7fbc41"
            ],
            [
             0.9,
             "#4d9221"
            ],
            [
             1,
             "#276419"
            ]
           ],
           "sequential": [
            [
             0,
             "#0d0887"
            ],
            [
             0.1111111111111111,
             "#46039f"
            ],
            [
             0.2222222222222222,
             "#7201a8"
            ],
            [
             0.3333333333333333,
             "#9c179e"
            ],
            [
             0.4444444444444444,
             "#bd3786"
            ],
            [
             0.5555555555555556,
             "#d8576b"
            ],
            [
             0.6666666666666666,
             "#ed7953"
            ],
            [
             0.7777777777777778,
             "#fb9f3a"
            ],
            [
             0.8888888888888888,
             "#fdca26"
            ],
            [
             1,
             "#f0f921"
            ]
           ],
           "sequentialminus": [
            [
             0,
             "#0d0887"
            ],
            [
             0.1111111111111111,
             "#46039f"
            ],
            [
             0.2222222222222222,
             "#7201a8"
            ],
            [
             0.3333333333333333,
             "#9c179e"
            ],
            [
             0.4444444444444444,
             "#bd3786"
            ],
            [
             0.5555555555555556,
             "#d8576b"
            ],
            [
             0.6666666666666666,
             "#ed7953"
            ],
            [
             0.7777777777777778,
             "#fb9f3a"
            ],
            [
             0.8888888888888888,
             "#fdca26"
            ],
            [
             1,
             "#f0f921"
            ]
           ]
          },
          "colorway": [
           "#636efa",
           "#EF553B",
           "#00cc96",
           "#ab63fa",
           "#FFA15A",
           "#19d3f3",
           "#FF6692",
           "#B6E880",
           "#FF97FF",
           "#FECB52"
          ],
          "font": {
           "color": "#2a3f5f"
          },
          "geo": {
           "bgcolor": "white",
           "lakecolor": "white",
           "landcolor": "white",
           "showlakes": true,
           "showland": true,
           "subunitcolor": "#C8D4E3"
          },
          "hoverlabel": {
           "align": "left"
          },
          "hovermode": "closest",
          "mapbox": {
           "style": "light"
          },
          "paper_bgcolor": "white",
          "plot_bgcolor": "white",
          "polar": {
           "angularaxis": {
            "gridcolor": "#EBF0F8",
            "linecolor": "#EBF0F8",
            "ticks": ""
           },
           "bgcolor": "white",
           "radialaxis": {
            "gridcolor": "#EBF0F8",
            "linecolor": "#EBF0F8",
            "ticks": ""
           }
          },
          "scene": {
           "xaxis": {
            "backgroundcolor": "white",
            "gridcolor": "#DFE8F3",
            "gridwidth": 2,
            "linecolor": "#EBF0F8",
            "showbackground": true,
            "ticks": "",
            "zerolinecolor": "#EBF0F8"
           },
           "yaxis": {
            "backgroundcolor": "white",
            "gridcolor": "#DFE8F3",
            "gridwidth": 2,
            "linecolor": "#EBF0F8",
            "showbackground": true,
            "ticks": "",
            "zerolinecolor": "#EBF0F8"
           },
           "zaxis": {
            "backgroundcolor": "white",
            "gridcolor": "#DFE8F3",
            "gridwidth": 2,
            "linecolor": "#EBF0F8",
            "showbackground": true,
            "ticks": "",
            "zerolinecolor": "#EBF0F8"
           }
          },
          "shapedefaults": {
           "line": {
            "color": "#2a3f5f"
           }
          },
          "ternary": {
           "aaxis": {
            "gridcolor": "#DFE8F3",
            "linecolor": "#A2B1C6",
            "ticks": ""
           },
           "baxis": {
            "gridcolor": "#DFE8F3",
            "linecolor": "#A2B1C6",
            "ticks": ""
           },
           "bgcolor": "white",
           "caxis": {
            "gridcolor": "#DFE8F3",
            "linecolor": "#A2B1C6",
            "ticks": ""
           }
          },
          "title": {
           "x": 0.05
          },
          "xaxis": {
           "automargin": true,
           "gridcolor": "#EBF0F8",
           "linecolor": "#EBF0F8",
           "ticks": "",
           "title": {
            "standoff": 15
           },
           "zerolinecolor": "#EBF0F8",
           "zerolinewidth": 2
          },
          "yaxis": {
           "automargin": true,
           "gridcolor": "#EBF0F8",
           "linecolor": "#EBF0F8",
           "ticks": "",
           "title": {
            "standoff": 15
           },
           "zerolinecolor": "#EBF0F8",
           "zerolinewidth": 2
          }
         }
        },
        "title": {
         "text": "Event Distribution with Full Timestamp Precision"
        },
        "width": 1200,
        "xaxis": {
         "tickangle": 90,
         "tickformat": "%Y-%m-%d %H:%M:%S",
         "title": {
          "text": "Date-Time"
         }
        },
        "yaxis": {
         "title": {
          "text": "Frequency"
         }
        }
       }
      }
     },
     "metadata": {},
     "output_type": "display_data"
    }
   ],
   "source": [
    "# Plot a histogram by date and time, just complete records.\n",
    "plotly_frequency_datetime_plotlypx(df_fs['datetime'], bins=500, density=False, color='grey', title='Event Distribution with Full Timestamp Precision', xlabel='Date-Time', ylabel='Frequency')"
   ]
  },
  {
   "cell_type": "markdown",
   "id": "b9c9c73b",
   "metadata": {},
   "source": [
    "### 📝 6. Events Funnel Analysis."
   ]
  },
  {
   "cell_type": "markdown",
   "id": "1aeb62f2",
   "metadata": {},
   "source": [
    "##### **6.1** Review the events listed in the logs and their frequency of occurrence. Sort them by frequency."
   ]
  },
  {
   "cell_type": "code",
   "execution_count": 28,
   "id": "2e7a9f57",
   "metadata": {},
   "outputs": [
    {
     "data": {
      "application/vnd.microsoft.datawrangler.viewer.v0+json": {
       "columns": [
        {
         "name": "index",
         "rawType": "int64",
         "type": "integer"
        },
        {
         "name": "datetime",
         "rawType": "object",
         "type": "string"
        },
        {
         "name": "events",
         "rawType": "int64",
         "type": "integer"
        }
       ],
       "ref": "9517823c-0688-484d-aeb0-5d1dd7984860",
       "rows": [
        [
         "0",
         "2019-08-01_0",
         "192"
        ],
        [
         "1",
         "2019-08-01_1",
         "228"
        ],
        [
         "2",
         "2019-08-01_2",
         "328"
        ],
        [
         "3",
         "2019-08-01_3",
         "657"
        ],
        [
         "4",
         "2019-08-01_4",
         "837"
        ],
        [
         "5",
         "2019-08-01_5",
         "1114"
        ],
        [
         "6",
         "2019-08-01_6",
         "1432"
        ],
        [
         "7",
         "2019-08-01_7",
         "1756"
        ],
        [
         "8",
         "2019-08-01_8",
         "1901"
        ],
        [
         "9",
         "2019-08-01_9",
         "2004"
        ],
        [
         "10",
         "2019-08-01_10",
         "1962"
        ],
        [
         "11",
         "2019-08-01_11",
         "2539"
        ],
        [
         "12",
         "2019-08-01_12",
         "2556"
        ],
        [
         "13",
         "2019-08-01_13",
         "2289"
        ],
        [
         "14",
         "2019-08-01_14",
         "2806"
        ],
        [
         "15",
         "2019-08-01_15",
         "2347"
        ],
        [
         "16",
         "2019-08-01_16",
         "2632"
        ],
        [
         "17",
         "2019-08-01_17",
         "2428"
        ],
        [
         "18",
         "2019-08-01_18",
         "2100"
        ],
        [
         "19",
         "2019-08-01_19",
         "1813"
        ],
        [
         "20",
         "2019-08-01_20",
         "1009"
        ],
        [
         "21",
         "2019-08-01_21",
         "673"
        ],
        [
         "22",
         "2019-08-01_22",
         "293"
        ],
        [
         "23",
         "2019-08-01_23",
         "245"
        ],
        [
         "24",
         "2019-08-02_0",
         "647"
        ],
        [
         "25",
         "2019-08-02_1",
         "801"
        ],
        [
         "26",
         "2019-08-02_2",
         "707"
        ],
        [
         "27",
         "2019-08-02_3",
         "850"
        ],
        [
         "28",
         "2019-08-02_4",
         "778"
        ],
        [
         "29",
         "2019-08-02_5",
         "1030"
        ],
        [
         "30",
         "2019-08-02_6",
         "1328"
        ],
        [
         "31",
         "2019-08-02_7",
         "1694"
        ],
        [
         "32",
         "2019-08-02_8",
         "1966"
        ],
        [
         "33",
         "2019-08-02_9",
         "2188"
        ],
        [
         "34",
         "2019-08-02_10",
         "2046"
        ],
        [
         "35",
         "2019-08-02_11",
         "2293"
        ],
        [
         "36",
         "2019-08-02_12",
         "1873"
        ],
        [
         "37",
         "2019-08-02_13",
         "2355"
        ],
        [
         "38",
         "2019-08-02_14",
         "2371"
        ],
        [
         "39",
         "2019-08-02_15",
         "2533"
        ],
        [
         "40",
         "2019-08-02_16",
         "2284"
        ],
        [
         "41",
         "2019-08-02_17",
         "1871"
        ],
        [
         "42",
         "2019-08-02_18",
         "1713"
        ],
        [
         "43",
         "2019-08-02_19",
         "1736"
        ],
        [
         "44",
         "2019-08-02_20",
         "1296"
        ],
        [
         "45",
         "2019-08-02_21",
         "728"
        ],
        [
         "46",
         "2019-08-02_22",
         "273"
        ],
        [
         "47",
         "2019-08-02_23",
         "193"
        ],
        [
         "48",
         "2019-08-03_0",
         "81"
        ],
        [
         "49",
         "2019-08-03_1",
         "172"
        ]
       ],
       "shape": {
        "columns": 2,
        "rows": 166
       }
      },
      "text/html": [
       "<div>\n",
       "<style scoped>\n",
       "    .dataframe tbody tr th:only-of-type {\n",
       "        vertical-align: middle;\n",
       "    }\n",
       "\n",
       "    .dataframe tbody tr th {\n",
       "        vertical-align: top;\n",
       "    }\n",
       "\n",
       "    .dataframe thead th {\n",
       "        text-align: right;\n",
       "    }\n",
       "</style>\n",
       "<table border=\"1\" class=\"dataframe\">\n",
       "  <thead>\n",
       "    <tr style=\"text-align: right;\">\n",
       "      <th></th>\n",
       "      <th>datetime</th>\n",
       "      <th>events</th>\n",
       "    </tr>\n",
       "  </thead>\n",
       "  <tbody>\n",
       "    <tr>\n",
       "      <th>0</th>\n",
       "      <td>2019-08-01_0</td>\n",
       "      <td>192</td>\n",
       "    </tr>\n",
       "    <tr>\n",
       "      <th>1</th>\n",
       "      <td>2019-08-01_1</td>\n",
       "      <td>228</td>\n",
       "    </tr>\n",
       "    <tr>\n",
       "      <th>2</th>\n",
       "      <td>2019-08-01_2</td>\n",
       "      <td>328</td>\n",
       "    </tr>\n",
       "    <tr>\n",
       "      <th>3</th>\n",
       "      <td>2019-08-01_3</td>\n",
       "      <td>657</td>\n",
       "    </tr>\n",
       "    <tr>\n",
       "      <th>4</th>\n",
       "      <td>2019-08-01_4</td>\n",
       "      <td>837</td>\n",
       "    </tr>\n",
       "    <tr>\n",
       "      <th>...</th>\n",
       "      <td>...</td>\n",
       "      <td>...</td>\n",
       "    </tr>\n",
       "    <tr>\n",
       "      <th>161</th>\n",
       "      <td>2019-08-07_17</td>\n",
       "      <td>1906</td>\n",
       "    </tr>\n",
       "    <tr>\n",
       "      <th>162</th>\n",
       "      <td>2019-08-07_18</td>\n",
       "      <td>1679</td>\n",
       "    </tr>\n",
       "    <tr>\n",
       "      <th>163</th>\n",
       "      <td>2019-08-07_19</td>\n",
       "      <td>1507</td>\n",
       "    </tr>\n",
       "    <tr>\n",
       "      <th>164</th>\n",
       "      <td>2019-08-07_20</td>\n",
       "      <td>949</td>\n",
       "    </tr>\n",
       "    <tr>\n",
       "      <th>165</th>\n",
       "      <td>2019-08-07_21</td>\n",
       "      <td>68</td>\n",
       "    </tr>\n",
       "  </tbody>\n",
       "</table>\n",
       "<p>166 rows × 2 columns</p>\n",
       "</div>"
      ],
      "text/plain": [
       "          datetime  events\n",
       "0     2019-08-01_0     192\n",
       "1     2019-08-01_1     228\n",
       "2     2019-08-01_2     328\n",
       "3     2019-08-01_3     657\n",
       "4     2019-08-01_4     837\n",
       "..             ...     ...\n",
       "161  2019-08-07_17    1906\n",
       "162  2019-08-07_18    1679\n",
       "163  2019-08-07_19    1507\n",
       "164  2019-08-07_20     949\n",
       "165  2019-08-07_21      68\n",
       "\n",
       "[166 rows x 2 columns]"
      ]
     },
     "execution_count": 28,
     "metadata": {},
     "output_type": "execute_result"
    }
   ],
   "source": [
    "# Events frequency and sorting\n",
    "df_fs_events = df_fs.groupby(['date', df_fs['datetime'].dt.hour]).size()\n",
    "df_fs_events.name = 'events'\n",
    "df_fs_events = df_fs_events.reset_index()\n",
    "df_fs_events['datetime'] = df_fs_events['date'].astype(str) + '_' + df_fs_events['datetime'].astype(str)\n",
    "df_fs_events = df_fs_events.drop(columns='date')\n",
    "df_fs_events"
   ]
  },
  {
   "cell_type": "code",
   "execution_count": 29,
   "id": "ffa85480",
   "metadata": {},
   "outputs": [
    {
     "data": {
      "application/vnd.plotly.v1+json": {
       "config": {
        "plotlyServerURL": "https://plot.ly"
       },
       "data": [
        {
         "hovertemplate": "datetime=%{x}<br>events=%{y}<extra></extra>",
         "legendgroup": "",
         "marker": {
          "color": "grey",
          "pattern": {
           "shape": ""
          }
         },
         "name": "",
         "orientation": "v",
         "showlegend": false,
         "textposition": "auto",
         "type": "bar",
         "x": [
          "2019-08-01_0",
          "2019-08-01_1",
          "2019-08-01_10",
          "2019-08-01_11",
          "2019-08-01_12",
          "2019-08-01_13",
          "2019-08-01_14",
          "2019-08-01_15",
          "2019-08-01_16",
          "2019-08-01_17",
          "2019-08-01_18",
          "2019-08-01_19",
          "2019-08-01_2",
          "2019-08-01_20",
          "2019-08-01_21",
          "2019-08-01_22",
          "2019-08-01_23",
          "2019-08-01_3",
          "2019-08-01_4",
          "2019-08-01_5",
          "2019-08-01_6",
          "2019-08-01_7",
          "2019-08-01_8",
          "2019-08-01_9",
          "2019-08-02_0",
          "2019-08-02_1",
          "2019-08-02_10",
          "2019-08-02_11",
          "2019-08-02_12",
          "2019-08-02_13",
          "2019-08-02_14",
          "2019-08-02_15",
          "2019-08-02_16",
          "2019-08-02_17",
          "2019-08-02_18",
          "2019-08-02_19",
          "2019-08-02_2",
          "2019-08-02_20",
          "2019-08-02_21",
          "2019-08-02_22",
          "2019-08-02_23",
          "2019-08-02_3",
          "2019-08-02_4",
          "2019-08-02_5",
          "2019-08-02_6",
          "2019-08-02_7",
          "2019-08-02_8",
          "2019-08-02_9",
          "2019-08-03_0",
          "2019-08-03_1",
          "2019-08-03_10",
          "2019-08-03_11",
          "2019-08-03_12",
          "2019-08-03_13",
          "2019-08-03_14",
          "2019-08-03_15",
          "2019-08-03_16",
          "2019-08-03_17",
          "2019-08-03_18",
          "2019-08-03_19",
          "2019-08-03_2",
          "2019-08-03_20",
          "2019-08-03_21",
          "2019-08-03_22",
          "2019-08-03_23",
          "2019-08-03_3",
          "2019-08-03_4",
          "2019-08-03_5",
          "2019-08-03_6",
          "2019-08-03_7",
          "2019-08-03_8",
          "2019-08-03_9",
          "2019-08-04_0",
          "2019-08-04_1",
          "2019-08-04_10",
          "2019-08-04_11",
          "2019-08-04_12",
          "2019-08-04_13",
          "2019-08-04_14",
          "2019-08-04_15",
          "2019-08-04_16",
          "2019-08-04_17",
          "2019-08-04_18",
          "2019-08-04_19",
          "2019-08-04_2",
          "2019-08-04_20",
          "2019-08-04_21",
          "2019-08-04_22",
          "2019-08-04_23",
          "2019-08-04_3",
          "2019-08-04_4",
          "2019-08-04_5",
          "2019-08-04_6",
          "2019-08-04_7",
          "2019-08-04_8",
          "2019-08-04_9",
          "2019-08-05_0",
          "2019-08-05_1",
          "2019-08-05_10",
          "2019-08-05_11",
          "2019-08-05_12",
          "2019-08-05_13",
          "2019-08-05_14",
          "2019-08-05_15",
          "2019-08-05_16",
          "2019-08-05_17",
          "2019-08-05_18",
          "2019-08-05_19",
          "2019-08-05_2",
          "2019-08-05_20",
          "2019-08-05_21",
          "2019-08-05_22",
          "2019-08-05_23",
          "2019-08-05_3",
          "2019-08-05_4",
          "2019-08-05_5",
          "2019-08-05_6",
          "2019-08-05_7",
          "2019-08-05_8",
          "2019-08-05_9",
          "2019-08-06_0",
          "2019-08-06_1",
          "2019-08-06_10",
          "2019-08-06_11",
          "2019-08-06_12",
          "2019-08-06_13",
          "2019-08-06_14",
          "2019-08-06_15",
          "2019-08-06_16",
          "2019-08-06_17",
          "2019-08-06_18",
          "2019-08-06_19",
          "2019-08-06_2",
          "2019-08-06_20",
          "2019-08-06_21",
          "2019-08-06_22",
          "2019-08-06_23",
          "2019-08-06_3",
          "2019-08-06_4",
          "2019-08-06_5",
          "2019-08-06_6",
          "2019-08-06_7",
          "2019-08-06_8",
          "2019-08-06_9",
          "2019-08-07_0",
          "2019-08-07_1",
          "2019-08-07_10",
          "2019-08-07_11",
          "2019-08-07_12",
          "2019-08-07_13",
          "2019-08-07_14",
          "2019-08-07_15",
          "2019-08-07_16",
          "2019-08-07_17",
          "2019-08-07_18",
          "2019-08-07_19",
          "2019-08-07_2",
          "2019-08-07_20",
          "2019-08-07_21",
          "2019-08-07_3",
          "2019-08-07_4",
          "2019-08-07_5",
          "2019-08-07_6",
          "2019-08-07_7",
          "2019-08-07_8",
          "2019-08-07_9"
         ],
         "xaxis": "x",
         "y": {
          "bdata": "wADkAKoH6wn8CfEI9gorCUgKfAk0CBUHSAHxA6ECJQH1AJECRQNaBJgF3AZtB9QHhwIhA/4H9QhRBzMJQwnlCewITwexBsgGwwIQBdgCEQHBAFIDCgMGBDAFngauB4wIUQCsANQHWQuyCPYHcQquCJAI2AeDBtEFzgH5Av8BAAFrAKYBbwIGBFQFcAbHB34JdwDOALoJtAk9CUUI1QejCXsIcQisBiUF6gCMA4MCtgGyANoBqgIdBE0FGAYwB8cHrgCfAFAJRQhaCNIJfwv8Cm4KKQqsBksGSQHjA+8CAgHpABgCcAMtBeAFyAWXB8kHnwCzAB8HFwgcB+kIrgqvCqAJcwnVCIkGnQFHBK0BzAB/ALcCeQQzB2wGjQY/B/oHcwDsAH0GOAdqB7QHbAnYClwJcgePBuMFMQG1A0QAuAKTBEwEfAWEBSMG3gc=",
          "dtype": "i2"
         },
         "yaxis": "y"
        }
       ],
       "layout": {
        "barmode": "relative",
        "height": 500,
        "legend": {
         "tracegroupgap": 0
        },
        "template": {
         "data": {
          "bar": [
           {
            "error_x": {
             "color": "#2a3f5f"
            },
            "error_y": {
             "color": "#2a3f5f"
            },
            "marker": {
             "line": {
              "color": "white",
              "width": 0.5
             },
             "pattern": {
              "fillmode": "overlay",
              "size": 10,
              "solidity": 0.2
             }
            },
            "type": "bar"
           }
          ],
          "barpolar": [
           {
            "marker": {
             "line": {
              "color": "white",
              "width": 0.5
             },
             "pattern": {
              "fillmode": "overlay",
              "size": 10,
              "solidity": 0.2
             }
            },
            "type": "barpolar"
           }
          ],
          "carpet": [
           {
            "aaxis": {
             "endlinecolor": "#2a3f5f",
             "gridcolor": "#C8D4E3",
             "linecolor": "#C8D4E3",
             "minorgridcolor": "#C8D4E3",
             "startlinecolor": "#2a3f5f"
            },
            "baxis": {
             "endlinecolor": "#2a3f5f",
             "gridcolor": "#C8D4E3",
             "linecolor": "#C8D4E3",
             "minorgridcolor": "#C8D4E3",
             "startlinecolor": "#2a3f5f"
            },
            "type": "carpet"
           }
          ],
          "choropleth": [
           {
            "colorbar": {
             "outlinewidth": 0,
             "ticks": ""
            },
            "type": "choropleth"
           }
          ],
          "contour": [
           {
            "colorbar": {
             "outlinewidth": 0,
             "ticks": ""
            },
            "colorscale": [
             [
              0,
              "#0d0887"
             ],
             [
              0.1111111111111111,
              "#46039f"
             ],
             [
              0.2222222222222222,
              "#7201a8"
             ],
             [
              0.3333333333333333,
              "#9c179e"
             ],
             [
              0.4444444444444444,
              "#bd3786"
             ],
             [
              0.5555555555555556,
              "#d8576b"
             ],
             [
              0.6666666666666666,
              "#ed7953"
             ],
             [
              0.7777777777777778,
              "#fb9f3a"
             ],
             [
              0.8888888888888888,
              "#fdca26"
             ],
             [
              1,
              "#f0f921"
             ]
            ],
            "type": "contour"
           }
          ],
          "contourcarpet": [
           {
            "colorbar": {
             "outlinewidth": 0,
             "ticks": ""
            },
            "type": "contourcarpet"
           }
          ],
          "heatmap": [
           {
            "colorbar": {
             "outlinewidth": 0,
             "ticks": ""
            },
            "colorscale": [
             [
              0,
              "#0d0887"
             ],
             [
              0.1111111111111111,
              "#46039f"
             ],
             [
              0.2222222222222222,
              "#7201a8"
             ],
             [
              0.3333333333333333,
              "#9c179e"
             ],
             [
              0.4444444444444444,
              "#bd3786"
             ],
             [
              0.5555555555555556,
              "#d8576b"
             ],
             [
              0.6666666666666666,
              "#ed7953"
             ],
             [
              0.7777777777777778,
              "#fb9f3a"
             ],
             [
              0.8888888888888888,
              "#fdca26"
             ],
             [
              1,
              "#f0f921"
             ]
            ],
            "type": "heatmap"
           }
          ],
          "histogram": [
           {
            "marker": {
             "pattern": {
              "fillmode": "overlay",
              "size": 10,
              "solidity": 0.2
             }
            },
            "type": "histogram"
           }
          ],
          "histogram2d": [
           {
            "colorbar": {
             "outlinewidth": 0,
             "ticks": ""
            },
            "colorscale": [
             [
              0,
              "#0d0887"
             ],
             [
              0.1111111111111111,
              "#46039f"
             ],
             [
              0.2222222222222222,
              "#7201a8"
             ],
             [
              0.3333333333333333,
              "#9c179e"
             ],
             [
              0.4444444444444444,
              "#bd3786"
             ],
             [
              0.5555555555555556,
              "#d8576b"
             ],
             [
              0.6666666666666666,
              "#ed7953"
             ],
             [
              0.7777777777777778,
              "#fb9f3a"
             ],
             [
              0.8888888888888888,
              "#fdca26"
             ],
             [
              1,
              "#f0f921"
             ]
            ],
            "type": "histogram2d"
           }
          ],
          "histogram2dcontour": [
           {
            "colorbar": {
             "outlinewidth": 0,
             "ticks": ""
            },
            "colorscale": [
             [
              0,
              "#0d0887"
             ],
             [
              0.1111111111111111,
              "#46039f"
             ],
             [
              0.2222222222222222,
              "#7201a8"
             ],
             [
              0.3333333333333333,
              "#9c179e"
             ],
             [
              0.4444444444444444,
              "#bd3786"
             ],
             [
              0.5555555555555556,
              "#d8576b"
             ],
             [
              0.6666666666666666,
              "#ed7953"
             ],
             [
              0.7777777777777778,
              "#fb9f3a"
             ],
             [
              0.8888888888888888,
              "#fdca26"
             ],
             [
              1,
              "#f0f921"
             ]
            ],
            "type": "histogram2dcontour"
           }
          ],
          "mesh3d": [
           {
            "colorbar": {
             "outlinewidth": 0,
             "ticks": ""
            },
            "type": "mesh3d"
           }
          ],
          "parcoords": [
           {
            "line": {
             "colorbar": {
              "outlinewidth": 0,
              "ticks": ""
             }
            },
            "type": "parcoords"
           }
          ],
          "pie": [
           {
            "automargin": true,
            "type": "pie"
           }
          ],
          "scatter": [
           {
            "fillpattern": {
             "fillmode": "overlay",
             "size": 10,
             "solidity": 0.2
            },
            "type": "scatter"
           }
          ],
          "scatter3d": [
           {
            "line": {
             "colorbar": {
              "outlinewidth": 0,
              "ticks": ""
             }
            },
            "marker": {
             "colorbar": {
              "outlinewidth": 0,
              "ticks": ""
             }
            },
            "type": "scatter3d"
           }
          ],
          "scattercarpet": [
           {
            "marker": {
             "colorbar": {
              "outlinewidth": 0,
              "ticks": ""
             }
            },
            "type": "scattercarpet"
           }
          ],
          "scattergeo": [
           {
            "marker": {
             "colorbar": {
              "outlinewidth": 0,
              "ticks": ""
             }
            },
            "type": "scattergeo"
           }
          ],
          "scattergl": [
           {
            "marker": {
             "colorbar": {
              "outlinewidth": 0,
              "ticks": ""
             }
            },
            "type": "scattergl"
           }
          ],
          "scattermap": [
           {
            "marker": {
             "colorbar": {
              "outlinewidth": 0,
              "ticks": ""
             }
            },
            "type": "scattermap"
           }
          ],
          "scattermapbox": [
           {
            "marker": {
             "colorbar": {
              "outlinewidth": 0,
              "ticks": ""
             }
            },
            "type": "scattermapbox"
           }
          ],
          "scatterpolar": [
           {
            "marker": {
             "colorbar": {
              "outlinewidth": 0,
              "ticks": ""
             }
            },
            "type": "scatterpolar"
           }
          ],
          "scatterpolargl": [
           {
            "marker": {
             "colorbar": {
              "outlinewidth": 0,
              "ticks": ""
             }
            },
            "type": "scatterpolargl"
           }
          ],
          "scatterternary": [
           {
            "marker": {
             "colorbar": {
              "outlinewidth": 0,
              "ticks": ""
             }
            },
            "type": "scatterternary"
           }
          ],
          "surface": [
           {
            "colorbar": {
             "outlinewidth": 0,
             "ticks": ""
            },
            "colorscale": [
             [
              0,
              "#0d0887"
             ],
             [
              0.1111111111111111,
              "#46039f"
             ],
             [
              0.2222222222222222,
              "#7201a8"
             ],
             [
              0.3333333333333333,
              "#9c179e"
             ],
             [
              0.4444444444444444,
              "#bd3786"
             ],
             [
              0.5555555555555556,
              "#d8576b"
             ],
             [
              0.6666666666666666,
              "#ed7953"
             ],
             [
              0.7777777777777778,
              "#fb9f3a"
             ],
             [
              0.8888888888888888,
              "#fdca26"
             ],
             [
              1,
              "#f0f921"
             ]
            ],
            "type": "surface"
           }
          ],
          "table": [
           {
            "cells": {
             "fill": {
              "color": "#EBF0F8"
             },
             "line": {
              "color": "white"
             }
            },
            "header": {
             "fill": {
              "color": "#C8D4E3"
             },
             "line": {
              "color": "white"
             }
            },
            "type": "table"
           }
          ]
         },
         "layout": {
          "annotationdefaults": {
           "arrowcolor": "#2a3f5f",
           "arrowhead": 0,
           "arrowwidth": 1
          },
          "autotypenumbers": "strict",
          "coloraxis": {
           "colorbar": {
            "outlinewidth": 0,
            "ticks": ""
           }
          },
          "colorscale": {
           "diverging": [
            [
             0,
             "#8e0152"
            ],
            [
             0.1,
             "#c51b7d"
            ],
            [
             0.2,
             "#de77ae"
            ],
            [
             0.3,
             "#f1b6da"
            ],
            [
             0.4,
             "#fde0ef"
            ],
            [
             0.5,
             "#f7f7f7"
            ],
            [
             0.6,
             "#e6f5d0"
            ],
            [
             0.7,
             "#b8e186"
            ],
            [
             0.8,
             "#7fbc41"
            ],
            [
             0.9,
             "#4d9221"
            ],
            [
             1,
             "#276419"
            ]
           ],
           "sequential": [
            [
             0,
             "#0d0887"
            ],
            [
             0.1111111111111111,
             "#46039f"
            ],
            [
             0.2222222222222222,
             "#7201a8"
            ],
            [
             0.3333333333333333,
             "#9c179e"
            ],
            [
             0.4444444444444444,
             "#bd3786"
            ],
            [
             0.5555555555555556,
             "#d8576b"
            ],
            [
             0.6666666666666666,
             "#ed7953"
            ],
            [
             0.7777777777777778,
             "#fb9f3a"
            ],
            [
             0.8888888888888888,
             "#fdca26"
            ],
            [
             1,
             "#f0f921"
            ]
           ],
           "sequentialminus": [
            [
             0,
             "#0d0887"
            ],
            [
             0.1111111111111111,
             "#46039f"
            ],
            [
             0.2222222222222222,
             "#7201a8"
            ],
            [
             0.3333333333333333,
             "#9c179e"
            ],
            [
             0.4444444444444444,
             "#bd3786"
            ],
            [
             0.5555555555555556,
             "#d8576b"
            ],
            [
             0.6666666666666666,
             "#ed7953"
            ],
            [
             0.7777777777777778,
             "#fb9f3a"
            ],
            [
             0.8888888888888888,
             "#fdca26"
            ],
            [
             1,
             "#f0f921"
            ]
           ]
          },
          "colorway": [
           "#636efa",
           "#EF553B",
           "#00cc96",
           "#ab63fa",
           "#FFA15A",
           "#19d3f3",
           "#FF6692",
           "#B6E880",
           "#FF97FF",
           "#FECB52"
          ],
          "font": {
           "color": "#2a3f5f"
          },
          "geo": {
           "bgcolor": "white",
           "lakecolor": "white",
           "landcolor": "white",
           "showlakes": true,
           "showland": true,
           "subunitcolor": "#C8D4E3"
          },
          "hoverlabel": {
           "align": "left"
          },
          "hovermode": "closest",
          "mapbox": {
           "style": "light"
          },
          "paper_bgcolor": "white",
          "plot_bgcolor": "white",
          "polar": {
           "angularaxis": {
            "gridcolor": "#EBF0F8",
            "linecolor": "#EBF0F8",
            "ticks": ""
           },
           "bgcolor": "white",
           "radialaxis": {
            "gridcolor": "#EBF0F8",
            "linecolor": "#EBF0F8",
            "ticks": ""
           }
          },
          "scene": {
           "xaxis": {
            "backgroundcolor": "white",
            "gridcolor": "#DFE8F3",
            "gridwidth": 2,
            "linecolor": "#EBF0F8",
            "showbackground": true,
            "ticks": "",
            "zerolinecolor": "#EBF0F8"
           },
           "yaxis": {
            "backgroundcolor": "white",
            "gridcolor": "#DFE8F3",
            "gridwidth": 2,
            "linecolor": "#EBF0F8",
            "showbackground": true,
            "ticks": "",
            "zerolinecolor": "#EBF0F8"
           },
           "zaxis": {
            "backgroundcolor": "white",
            "gridcolor": "#DFE8F3",
            "gridwidth": 2,
            "linecolor": "#EBF0F8",
            "showbackground": true,
            "ticks": "",
            "zerolinecolor": "#EBF0F8"
           }
          },
          "shapedefaults": {
           "line": {
            "color": "#2a3f5f"
           }
          },
          "ternary": {
           "aaxis": {
            "gridcolor": "#DFE8F3",
            "linecolor": "#A2B1C6",
            "ticks": ""
           },
           "baxis": {
            "gridcolor": "#DFE8F3",
            "linecolor": "#A2B1C6",
            "ticks": ""
           },
           "bgcolor": "white",
           "caxis": {
            "gridcolor": "#DFE8F3",
            "linecolor": "#A2B1C6",
            "ticks": ""
           }
          },
          "title": {
           "x": 0.05
          },
          "xaxis": {
           "automargin": true,
           "gridcolor": "#EBF0F8",
           "linecolor": "#EBF0F8",
           "ticks": "",
           "title": {
            "standoff": 15
           },
           "zerolinecolor": "#EBF0F8",
           "zerolinewidth": 2
          },
          "yaxis": {
           "automargin": true,
           "gridcolor": "#EBF0F8",
           "linecolor": "#EBF0F8",
           "ticks": "",
           "title": {
            "standoff": 15
           },
           "zerolinecolor": "#EBF0F8",
           "zerolinewidth": 2
          }
         }
        },
        "title": {
         "text": "Events Frequency"
        },
        "width": 1200,
        "xaxis": {
         "anchor": "y",
         "domain": [
          0,
          1
         ],
         "title": {
          "text": "Date"
         }
        },
        "yaxis": {
         "anchor": "x",
         "domain": [
          0,
          1
         ],
         "title": {
          "text": "Events"
         }
        }
       }
      }
     },
     "metadata": {},
     "output_type": "display_data"
    }
   ],
   "source": [
    "plot_vertical_bar_plotpx(df_fs_events, x='datetime', y='events', title='Events Frequency', xlabel='Date', ylabel='Events', sort=True)"
   ]
  },
  {
   "cell_type": "markdown",
   "id": "da200373",
   "metadata": {},
   "source": [
    "##### **6.2** Find the number of users who performed each of these actions. Sort the events by the number of users. Calculate the percentage of users who performed the action at least once."
   ]
  },
  {
   "cell_type": "code",
   "execution_count": 30,
   "id": "db9791c4",
   "metadata": {},
   "outputs": [
    {
     "data": {
      "application/vnd.microsoft.datawrangler.viewer.v0+json": {
       "columns": [
        {
         "name": "index",
         "rawType": "int64",
         "type": "integer"
        },
        {
         "name": "eventname",
         "rawType": "category",
         "type": "unknown"
        },
        {
         "name": "events",
         "rawType": "int64",
         "type": "integer"
        },
        {
         "name": "users",
         "rawType": "int64",
         "type": "integer"
        }
       ],
       "ref": "7623dab5-6b28-43d5-a091-f2469e789a9c",
       "rows": [
        [
         "0",
         "mainscreenappear",
         "117328",
         "7419"
        ],
        [
         "1",
         "offersscreenappear",
         "46333",
         "4593"
        ],
        [
         "2",
         "cartscreenappear",
         "42303",
         "3734"
        ],
        [
         "3",
         "paymentscreensuccessful",
         "33918",
         "3539"
        ],
        [
         "4",
         "tutorial",
         "1005",
         "840"
        ]
       ],
       "shape": {
        "columns": 3,
        "rows": 5
       }
      },
      "text/html": [
       "<div>\n",
       "<style scoped>\n",
       "    .dataframe tbody tr th:only-of-type {\n",
       "        vertical-align: middle;\n",
       "    }\n",
       "\n",
       "    .dataframe tbody tr th {\n",
       "        vertical-align: top;\n",
       "    }\n",
       "\n",
       "    .dataframe thead th {\n",
       "        text-align: right;\n",
       "    }\n",
       "</style>\n",
       "<table border=\"1\" class=\"dataframe\">\n",
       "  <thead>\n",
       "    <tr style=\"text-align: right;\">\n",
       "      <th></th>\n",
       "      <th>eventname</th>\n",
       "      <th>events</th>\n",
       "      <th>users</th>\n",
       "    </tr>\n",
       "  </thead>\n",
       "  <tbody>\n",
       "    <tr>\n",
       "      <th>0</th>\n",
       "      <td>mainscreenappear</td>\n",
       "      <td>117328</td>\n",
       "      <td>7419</td>\n",
       "    </tr>\n",
       "    <tr>\n",
       "      <th>1</th>\n",
       "      <td>offersscreenappear</td>\n",
       "      <td>46333</td>\n",
       "      <td>4593</td>\n",
       "    </tr>\n",
       "    <tr>\n",
       "      <th>2</th>\n",
       "      <td>cartscreenappear</td>\n",
       "      <td>42303</td>\n",
       "      <td>3734</td>\n",
       "    </tr>\n",
       "    <tr>\n",
       "      <th>3</th>\n",
       "      <td>paymentscreensuccessful</td>\n",
       "      <td>33918</td>\n",
       "      <td>3539</td>\n",
       "    </tr>\n",
       "    <tr>\n",
       "      <th>4</th>\n",
       "      <td>tutorial</td>\n",
       "      <td>1005</td>\n",
       "      <td>840</td>\n",
       "    </tr>\n",
       "  </tbody>\n",
       "</table>\n",
       "</div>"
      ],
      "text/plain": [
       "                 eventname  events  users\n",
       "0         mainscreenappear  117328   7419\n",
       "1       offersscreenappear   46333   4593\n",
       "2         cartscreenappear   42303   3734\n",
       "3  paymentscreensuccessful   33918   3539\n",
       "4                 tutorial    1005    840"
      ]
     },
     "execution_count": 30,
     "metadata": {},
     "output_type": "execute_result"
    }
   ],
   "source": [
    "# Show users per actions\n",
    "df_fs_events = df_fs.groupby('eventname', observed=True).agg(events=('eventname', 'count'), users=('deviceidhash', 'nunique')).sort_values(by='users', ascending=False).reset_index()\n",
    "df_fs_events"
   ]
  },
  {
   "cell_type": "code",
   "execution_count": 31,
   "id": "7171358b",
   "metadata": {},
   "outputs": [
    {
     "data": {
      "application/vnd.plotly.v1+json": {
       "config": {
        "plotlyServerURL": "https://plot.ly"
       },
       "data": [
        {
         "hovertemplate": "users=%{x}<br>eventname=%{y}<extra></extra>",
         "legendgroup": "",
         "marker": {
          "color": "grey",
          "pattern": {
           "shape": ""
          }
         },
         "name": "",
         "orientation": "h",
         "showlegend": false,
         "textposition": "auto",
         "type": "bar",
         "x": {
          "bdata": "SAPTDZYO8RH7HA==",
          "dtype": "i2"
         },
         "xaxis": "x",
         "y": [
          "tutorial",
          "paymentscreensuccessful",
          "cartscreenappear",
          "offersscreenappear",
          "mainscreenappear"
         ],
         "yaxis": "y"
        }
       ],
       "layout": {
        "barmode": "relative",
        "height": 500,
        "legend": {
         "tracegroupgap": 0
        },
        "template": {
         "data": {
          "bar": [
           {
            "error_x": {
             "color": "#2a3f5f"
            },
            "error_y": {
             "color": "#2a3f5f"
            },
            "marker": {
             "line": {
              "color": "white",
              "width": 0.5
             },
             "pattern": {
              "fillmode": "overlay",
              "size": 10,
              "solidity": 0.2
             }
            },
            "type": "bar"
           }
          ],
          "barpolar": [
           {
            "marker": {
             "line": {
              "color": "white",
              "width": 0.5
             },
             "pattern": {
              "fillmode": "overlay",
              "size": 10,
              "solidity": 0.2
             }
            },
            "type": "barpolar"
           }
          ],
          "carpet": [
           {
            "aaxis": {
             "endlinecolor": "#2a3f5f",
             "gridcolor": "#C8D4E3",
             "linecolor": "#C8D4E3",
             "minorgridcolor": "#C8D4E3",
             "startlinecolor": "#2a3f5f"
            },
            "baxis": {
             "endlinecolor": "#2a3f5f",
             "gridcolor": "#C8D4E3",
             "linecolor": "#C8D4E3",
             "minorgridcolor": "#C8D4E3",
             "startlinecolor": "#2a3f5f"
            },
            "type": "carpet"
           }
          ],
          "choropleth": [
           {
            "colorbar": {
             "outlinewidth": 0,
             "ticks": ""
            },
            "type": "choropleth"
           }
          ],
          "contour": [
           {
            "colorbar": {
             "outlinewidth": 0,
             "ticks": ""
            },
            "colorscale": [
             [
              0,
              "#0d0887"
             ],
             [
              0.1111111111111111,
              "#46039f"
             ],
             [
              0.2222222222222222,
              "#7201a8"
             ],
             [
              0.3333333333333333,
              "#9c179e"
             ],
             [
              0.4444444444444444,
              "#bd3786"
             ],
             [
              0.5555555555555556,
              "#d8576b"
             ],
             [
              0.6666666666666666,
              "#ed7953"
             ],
             [
              0.7777777777777778,
              "#fb9f3a"
             ],
             [
              0.8888888888888888,
              "#fdca26"
             ],
             [
              1,
              "#f0f921"
             ]
            ],
            "type": "contour"
           }
          ],
          "contourcarpet": [
           {
            "colorbar": {
             "outlinewidth": 0,
             "ticks": ""
            },
            "type": "contourcarpet"
           }
          ],
          "heatmap": [
           {
            "colorbar": {
             "outlinewidth": 0,
             "ticks": ""
            },
            "colorscale": [
             [
              0,
              "#0d0887"
             ],
             [
              0.1111111111111111,
              "#46039f"
             ],
             [
              0.2222222222222222,
              "#7201a8"
             ],
             [
              0.3333333333333333,
              "#9c179e"
             ],
             [
              0.4444444444444444,
              "#bd3786"
             ],
             [
              0.5555555555555556,
              "#d8576b"
             ],
             [
              0.6666666666666666,
              "#ed7953"
             ],
             [
              0.7777777777777778,
              "#fb9f3a"
             ],
             [
              0.8888888888888888,
              "#fdca26"
             ],
             [
              1,
              "#f0f921"
             ]
            ],
            "type": "heatmap"
           }
          ],
          "histogram": [
           {
            "marker": {
             "pattern": {
              "fillmode": "overlay",
              "size": 10,
              "solidity": 0.2
             }
            },
            "type": "histogram"
           }
          ],
          "histogram2d": [
           {
            "colorbar": {
             "outlinewidth": 0,
             "ticks": ""
            },
            "colorscale": [
             [
              0,
              "#0d0887"
             ],
             [
              0.1111111111111111,
              "#46039f"
             ],
             [
              0.2222222222222222,
              "#7201a8"
             ],
             [
              0.3333333333333333,
              "#9c179e"
             ],
             [
              0.4444444444444444,
              "#bd3786"
             ],
             [
              0.5555555555555556,
              "#d8576b"
             ],
             [
              0.6666666666666666,
              "#ed7953"
             ],
             [
              0.7777777777777778,
              "#fb9f3a"
             ],
             [
              0.8888888888888888,
              "#fdca26"
             ],
             [
              1,
              "#f0f921"
             ]
            ],
            "type": "histogram2d"
           }
          ],
          "histogram2dcontour": [
           {
            "colorbar": {
             "outlinewidth": 0,
             "ticks": ""
            },
            "colorscale": [
             [
              0,
              "#0d0887"
             ],
             [
              0.1111111111111111,
              "#46039f"
             ],
             [
              0.2222222222222222,
              "#7201a8"
             ],
             [
              0.3333333333333333,
              "#9c179e"
             ],
             [
              0.4444444444444444,
              "#bd3786"
             ],
             [
              0.5555555555555556,
              "#d8576b"
             ],
             [
              0.6666666666666666,
              "#ed7953"
             ],
             [
              0.7777777777777778,
              "#fb9f3a"
             ],
             [
              0.8888888888888888,
              "#fdca26"
             ],
             [
              1,
              "#f0f921"
             ]
            ],
            "type": "histogram2dcontour"
           }
          ],
          "mesh3d": [
           {
            "colorbar": {
             "outlinewidth": 0,
             "ticks": ""
            },
            "type": "mesh3d"
           }
          ],
          "parcoords": [
           {
            "line": {
             "colorbar": {
              "outlinewidth": 0,
              "ticks": ""
             }
            },
            "type": "parcoords"
           }
          ],
          "pie": [
           {
            "automargin": true,
            "type": "pie"
           }
          ],
          "scatter": [
           {
            "fillpattern": {
             "fillmode": "overlay",
             "size": 10,
             "solidity": 0.2
            },
            "type": "scatter"
           }
          ],
          "scatter3d": [
           {
            "line": {
             "colorbar": {
              "outlinewidth": 0,
              "ticks": ""
             }
            },
            "marker": {
             "colorbar": {
              "outlinewidth": 0,
              "ticks": ""
             }
            },
            "type": "scatter3d"
           }
          ],
          "scattercarpet": [
           {
            "marker": {
             "colorbar": {
              "outlinewidth": 0,
              "ticks": ""
             }
            },
            "type": "scattercarpet"
           }
          ],
          "scattergeo": [
           {
            "marker": {
             "colorbar": {
              "outlinewidth": 0,
              "ticks": ""
             }
            },
            "type": "scattergeo"
           }
          ],
          "scattergl": [
           {
            "marker": {
             "colorbar": {
              "outlinewidth": 0,
              "ticks": ""
             }
            },
            "type": "scattergl"
           }
          ],
          "scattermap": [
           {
            "marker": {
             "colorbar": {
              "outlinewidth": 0,
              "ticks": ""
             }
            },
            "type": "scattermap"
           }
          ],
          "scattermapbox": [
           {
            "marker": {
             "colorbar": {
              "outlinewidth": 0,
              "ticks": ""
             }
            },
            "type": "scattermapbox"
           }
          ],
          "scatterpolar": [
           {
            "marker": {
             "colorbar": {
              "outlinewidth": 0,
              "ticks": ""
             }
            },
            "type": "scatterpolar"
           }
          ],
          "scatterpolargl": [
           {
            "marker": {
             "colorbar": {
              "outlinewidth": 0,
              "ticks": ""
             }
            },
            "type": "scatterpolargl"
           }
          ],
          "scatterternary": [
           {
            "marker": {
             "colorbar": {
              "outlinewidth": 0,
              "ticks": ""
             }
            },
            "type": "scatterternary"
           }
          ],
          "surface": [
           {
            "colorbar": {
             "outlinewidth": 0,
             "ticks": ""
            },
            "colorscale": [
             [
              0,
              "#0d0887"
             ],
             [
              0.1111111111111111,
              "#46039f"
             ],
             [
              0.2222222222222222,
              "#7201a8"
             ],
             [
              0.3333333333333333,
              "#9c179e"
             ],
             [
              0.4444444444444444,
              "#bd3786"
             ],
             [
              0.5555555555555556,
              "#d8576b"
             ],
             [
              0.6666666666666666,
              "#ed7953"
             ],
             [
              0.7777777777777778,
              "#fb9f3a"
             ],
             [
              0.8888888888888888,
              "#fdca26"
             ],
             [
              1,
              "#f0f921"
             ]
            ],
            "type": "surface"
           }
          ],
          "table": [
           {
            "cells": {
             "fill": {
              "color": "#EBF0F8"
             },
             "line": {
              "color": "white"
             }
            },
            "header": {
             "fill": {
              "color": "#C8D4E3"
             },
             "line": {
              "color": "white"
             }
            },
            "type": "table"
           }
          ]
         },
         "layout": {
          "annotationdefaults": {
           "arrowcolor": "#2a3f5f",
           "arrowhead": 0,
           "arrowwidth": 1
          },
          "autotypenumbers": "strict",
          "coloraxis": {
           "colorbar": {
            "outlinewidth": 0,
            "ticks": ""
           }
          },
          "colorscale": {
           "diverging": [
            [
             0,
             "#8e0152"
            ],
            [
             0.1,
             "#c51b7d"
            ],
            [
             0.2,
             "#de77ae"
            ],
            [
             0.3,
             "#f1b6da"
            ],
            [
             0.4,
             "#fde0ef"
            ],
            [
             0.5,
             "#f7f7f7"
            ],
            [
             0.6,
             "#e6f5d0"
            ],
            [
             0.7,
             "#b8e186"
            ],
            [
             0.8,
             "#7fbc41"
            ],
            [
             0.9,
             "#4d9221"
            ],
            [
             1,
             "#276419"
            ]
           ],
           "sequential": [
            [
             0,
             "#0d0887"
            ],
            [
             0.1111111111111111,
             "#46039f"
            ],
            [
             0.2222222222222222,
             "#7201a8"
            ],
            [
             0.3333333333333333,
             "#9c179e"
            ],
            [
             0.4444444444444444,
             "#bd3786"
            ],
            [
             0.5555555555555556,
             "#d8576b"
            ],
            [
             0.6666666666666666,
             "#ed7953"
            ],
            [
             0.7777777777777778,
             "#fb9f3a"
            ],
            [
             0.8888888888888888,
             "#fdca26"
            ],
            [
             1,
             "#f0f921"
            ]
           ],
           "sequentialminus": [
            [
             0,
             "#0d0887"
            ],
            [
             0.1111111111111111,
             "#46039f"
            ],
            [
             0.2222222222222222,
             "#7201a8"
            ],
            [
             0.3333333333333333,
             "#9c179e"
            ],
            [
             0.4444444444444444,
             "#bd3786"
            ],
            [
             0.5555555555555556,
             "#d8576b"
            ],
            [
             0.6666666666666666,
             "#ed7953"
            ],
            [
             0.7777777777777778,
             "#fb9f3a"
            ],
            [
             0.8888888888888888,
             "#fdca26"
            ],
            [
             1,
             "#f0f921"
            ]
           ]
          },
          "colorway": [
           "#636efa",
           "#EF553B",
           "#00cc96",
           "#ab63fa",
           "#FFA15A",
           "#19d3f3",
           "#FF6692",
           "#B6E880",
           "#FF97FF",
           "#FECB52"
          ],
          "font": {
           "color": "#2a3f5f"
          },
          "geo": {
           "bgcolor": "white",
           "lakecolor": "white",
           "landcolor": "white",
           "showlakes": true,
           "showland": true,
           "subunitcolor": "#C8D4E3"
          },
          "hoverlabel": {
           "align": "left"
          },
          "hovermode": "closest",
          "mapbox": {
           "style": "light"
          },
          "paper_bgcolor": "white",
          "plot_bgcolor": "white",
          "polar": {
           "angularaxis": {
            "gridcolor": "#EBF0F8",
            "linecolor": "#EBF0F8",
            "ticks": ""
           },
           "bgcolor": "white",
           "radialaxis": {
            "gridcolor": "#EBF0F8",
            "linecolor": "#EBF0F8",
            "ticks": ""
           }
          },
          "scene": {
           "xaxis": {
            "backgroundcolor": "white",
            "gridcolor": "#DFE8F3",
            "gridwidth": 2,
            "linecolor": "#EBF0F8",
            "showbackground": true,
            "ticks": "",
            "zerolinecolor": "#EBF0F8"
           },
           "yaxis": {
            "backgroundcolor": "white",
            "gridcolor": "#DFE8F3",
            "gridwidth": 2,
            "linecolor": "#EBF0F8",
            "showbackground": true,
            "ticks": "",
            "zerolinecolor": "#EBF0F8"
           },
           "zaxis": {
            "backgroundcolor": "white",
            "gridcolor": "#DFE8F3",
            "gridwidth": 2,
            "linecolor": "#EBF0F8",
            "showbackground": true,
            "ticks": "",
            "zerolinecolor": "#EBF0F8"
           }
          },
          "shapedefaults": {
           "line": {
            "color": "#2a3f5f"
           }
          },
          "ternary": {
           "aaxis": {
            "gridcolor": "#DFE8F3",
            "linecolor": "#A2B1C6",
            "ticks": ""
           },
           "baxis": {
            "gridcolor": "#DFE8F3",
            "linecolor": "#A2B1C6",
            "ticks": ""
           },
           "bgcolor": "white",
           "caxis": {
            "gridcolor": "#DFE8F3",
            "linecolor": "#A2B1C6",
            "ticks": ""
           }
          },
          "title": {
           "x": 0.05
          },
          "xaxis": {
           "automargin": true,
           "gridcolor": "#EBF0F8",
           "linecolor": "#EBF0F8",
           "ticks": "",
           "title": {
            "standoff": 15
           },
           "zerolinecolor": "#EBF0F8",
           "zerolinewidth": 2
          },
          "yaxis": {
           "automargin": true,
           "gridcolor": "#EBF0F8",
           "linecolor": "#EBF0F8",
           "ticks": "",
           "title": {
            "standoff": 15
           },
           "zerolinecolor": "#EBF0F8",
           "zerolinewidth": 2
          }
         }
        },
        "title": {
         "text": "Conversion Funnel"
        },
        "width": 1200,
        "xaxis": {
         "anchor": "y",
         "domain": [
          0,
          1
         ],
         "title": {
          "text": "Users"
         }
        },
        "yaxis": {
         "anchor": "x",
         "domain": [
          0,
          1
         ],
         "title": {
          "text": "Events"
         }
        }
       }
      }
     },
     "metadata": {},
     "output_type": "display_data"
    }
   ],
   "source": [
    "plot_horizontal_bar_plotpx(df_fs_events, x='users', y='eventname', title='Conversion Funnel', xlabel='Users', ylabel='Events', sort=True)"
   ]
  },
  {
   "cell_type": "code",
   "execution_count": 32,
   "id": "0640cc8e",
   "metadata": {},
   "outputs": [
    {
     "data": {
      "application/vnd.microsoft.datawrangler.viewer.v0+json": {
       "columns": [
        {
         "name": "index",
         "rawType": "int64",
         "type": "integer"
        },
        {
         "name": "eventname",
         "rawType": "category",
         "type": "unknown"
        },
        {
         "name": "events",
         "rawType": "int64",
         "type": "integer"
        },
        {
         "name": "users",
         "rawType": "int64",
         "type": "integer"
        },
        {
         "name": "conversion_event",
         "rawType": "float64",
         "type": "float"
        }
       ],
       "ref": "571dda0a-e08a-47c9-ac38-929975f1dad0",
       "rows": [
        [
         "0",
         "mainscreenappear",
         "117328",
         "7419",
         "6.323"
        ],
        [
         "1",
         "offersscreenappear",
         "46333",
         "4593",
         "9.913"
        ],
        [
         "2",
         "cartscreenappear",
         "42303",
         "3734",
         "8.827"
        ],
        [
         "3",
         "paymentscreensuccessful",
         "33918",
         "3539",
         "10.434"
        ],
        [
         "4",
         "tutorial",
         "1005",
         "840",
         "83.582"
        ]
       ],
       "shape": {
        "columns": 4,
        "rows": 5
       }
      },
      "text/html": [
       "<div>\n",
       "<style scoped>\n",
       "    .dataframe tbody tr th:only-of-type {\n",
       "        vertical-align: middle;\n",
       "    }\n",
       "\n",
       "    .dataframe tbody tr th {\n",
       "        vertical-align: top;\n",
       "    }\n",
       "\n",
       "    .dataframe thead th {\n",
       "        text-align: right;\n",
       "    }\n",
       "</style>\n",
       "<table border=\"1\" class=\"dataframe\">\n",
       "  <thead>\n",
       "    <tr style=\"text-align: right;\">\n",
       "      <th></th>\n",
       "      <th>eventname</th>\n",
       "      <th>events</th>\n",
       "      <th>users</th>\n",
       "      <th>conversion_event</th>\n",
       "    </tr>\n",
       "  </thead>\n",
       "  <tbody>\n",
       "    <tr>\n",
       "      <th>0</th>\n",
       "      <td>mainscreenappear</td>\n",
       "      <td>117328</td>\n",
       "      <td>7419</td>\n",
       "      <td>6.323</td>\n",
       "    </tr>\n",
       "    <tr>\n",
       "      <th>1</th>\n",
       "      <td>offersscreenappear</td>\n",
       "      <td>46333</td>\n",
       "      <td>4593</td>\n",
       "      <td>9.913</td>\n",
       "    </tr>\n",
       "    <tr>\n",
       "      <th>2</th>\n",
       "      <td>cartscreenappear</td>\n",
       "      <td>42303</td>\n",
       "      <td>3734</td>\n",
       "      <td>8.827</td>\n",
       "    </tr>\n",
       "    <tr>\n",
       "      <th>3</th>\n",
       "      <td>paymentscreensuccessful</td>\n",
       "      <td>33918</td>\n",
       "      <td>3539</td>\n",
       "      <td>10.434</td>\n",
       "    </tr>\n",
       "    <tr>\n",
       "      <th>4</th>\n",
       "      <td>tutorial</td>\n",
       "      <td>1005</td>\n",
       "      <td>840</td>\n",
       "      <td>83.582</td>\n",
       "    </tr>\n",
       "  </tbody>\n",
       "</table>\n",
       "</div>"
      ],
      "text/plain": [
       "                 eventname  events  users  conversion_event\n",
       "0         mainscreenappear  117328   7419             6.323\n",
       "1       offersscreenappear   46333   4593             9.913\n",
       "2         cartscreenappear   42303   3734             8.827\n",
       "3  paymentscreensuccessful   33918   3539            10.434\n",
       "4                 tutorial    1005    840            83.582"
      ]
     },
     "execution_count": 32,
     "metadata": {},
     "output_type": "execute_result"
    }
   ],
   "source": [
    "# Show percentage of users that perfomed the action at least once\n",
    "df_fs_events['conversion_event'] = ((df_fs_events['users'] / df_fs_events['events']) * 100).round(3)\n",
    "df_fs_events"
   ]
  },
  {
   "cell_type": "markdown",
   "id": "d7c5c621",
   "metadata": {},
   "source": [
    "`LSPL`\n",
    "- Order in which the events occurred: mainscreenappear, offersscreenappear, cartscreenappear, paymentscreensuccessful, tutorial.\n",
    "- tutorial event seems not to be part of the same sequence, proper sequence should be clarified ans confirmed by the customer(mainscreenappear, offersscreenappear, cartscreenappear, paymentscreensuccessful)"
   ]
  },
  {
   "cell_type": "markdown",
   "id": "80cb6792",
   "metadata": {},
   "source": [
    "##### **6.3**  Use the event funnel to find the percentage of users who move from one stage to the next."
   ]
  },
  {
   "cell_type": "code",
   "execution_count": 33,
   "id": "0945336d",
   "metadata": {},
   "outputs": [
    {
     "data": {
      "application/vnd.microsoft.datawrangler.viewer.v0+json": {
       "columns": [
        {
         "name": "index",
         "rawType": "int64",
         "type": "integer"
        },
        {
         "name": "eventname",
         "rawType": "category",
         "type": "unknown"
        },
        {
         "name": "events",
         "rawType": "int64",
         "type": "integer"
        },
        {
         "name": "users",
         "rawType": "int64",
         "type": "integer"
        },
        {
         "name": "conversion_event",
         "rawType": "float64",
         "type": "float"
        },
        {
         "name": "totalconversionrate",
         "rawType": "float64",
         "type": "float"
        }
       ],
       "ref": "598a8bee-f5c1-48c7-83f0-98df36321eeb",
       "rows": [
        [
         "0",
         "mainscreenappear",
         "117328",
         "7419",
         "6.323",
         "100.0"
        ],
        [
         "1",
         "offersscreenappear",
         "46333",
         "4593",
         "9.913",
         "61.909"
        ],
        [
         "2",
         "cartscreenappear",
         "42303",
         "3734",
         "8.827",
         "50.33"
        ],
        [
         "3",
         "paymentscreensuccessful",
         "33918",
         "3539",
         "10.434",
         "47.702"
        ],
        [
         "4",
         "tutorial",
         "1005",
         "840",
         "83.582",
         "11.322"
        ]
       ],
       "shape": {
        "columns": 5,
        "rows": 5
       }
      },
      "text/html": [
       "<div>\n",
       "<style scoped>\n",
       "    .dataframe tbody tr th:only-of-type {\n",
       "        vertical-align: middle;\n",
       "    }\n",
       "\n",
       "    .dataframe tbody tr th {\n",
       "        vertical-align: top;\n",
       "    }\n",
       "\n",
       "    .dataframe thead th {\n",
       "        text-align: right;\n",
       "    }\n",
       "</style>\n",
       "<table border=\"1\" class=\"dataframe\">\n",
       "  <thead>\n",
       "    <tr style=\"text-align: right;\">\n",
       "      <th></th>\n",
       "      <th>eventname</th>\n",
       "      <th>events</th>\n",
       "      <th>users</th>\n",
       "      <th>conversion_event</th>\n",
       "      <th>totalconversionrate</th>\n",
       "    </tr>\n",
       "  </thead>\n",
       "  <tbody>\n",
       "    <tr>\n",
       "      <th>0</th>\n",
       "      <td>mainscreenappear</td>\n",
       "      <td>117328</td>\n",
       "      <td>7419</td>\n",
       "      <td>6.323</td>\n",
       "      <td>100.000</td>\n",
       "    </tr>\n",
       "    <tr>\n",
       "      <th>1</th>\n",
       "      <td>offersscreenappear</td>\n",
       "      <td>46333</td>\n",
       "      <td>4593</td>\n",
       "      <td>9.913</td>\n",
       "      <td>61.909</td>\n",
       "    </tr>\n",
       "    <tr>\n",
       "      <th>2</th>\n",
       "      <td>cartscreenappear</td>\n",
       "      <td>42303</td>\n",
       "      <td>3734</td>\n",
       "      <td>8.827</td>\n",
       "      <td>50.330</td>\n",
       "    </tr>\n",
       "    <tr>\n",
       "      <th>3</th>\n",
       "      <td>paymentscreensuccessful</td>\n",
       "      <td>33918</td>\n",
       "      <td>3539</td>\n",
       "      <td>10.434</td>\n",
       "      <td>47.702</td>\n",
       "    </tr>\n",
       "    <tr>\n",
       "      <th>4</th>\n",
       "      <td>tutorial</td>\n",
       "      <td>1005</td>\n",
       "      <td>840</td>\n",
       "      <td>83.582</td>\n",
       "      <td>11.322</td>\n",
       "    </tr>\n",
       "  </tbody>\n",
       "</table>\n",
       "</div>"
      ],
      "text/plain": [
       "                 eventname  events  users  conversion_event  totalconversionrate\n",
       "0         mainscreenappear  117328   7419             6.323              100.000\n",
       "1       offersscreenappear   46333   4593             9.913               61.909\n",
       "2         cartscreenappear   42303   3734             8.827               50.330\n",
       "3  paymentscreensuccessful   33918   3539            10.434               47.702\n",
       "4                 tutorial    1005    840            83.582               11.322"
      ]
     },
     "execution_count": 33,
     "metadata": {},
     "output_type": "execute_result"
    }
   ],
   "source": [
    "# Show Total convesion rate\n",
    "df_fs_events['totalconversionrate'] = ((df_fs_events['users'] / df_fs_events.loc[0, 'users']) * 100).round(3)\n",
    "df_fs_events"
   ]
  },
  {
   "cell_type": "code",
   "execution_count": 34,
   "id": "bbfc0f14",
   "metadata": {},
   "outputs": [
    {
     "data": {
      "application/vnd.microsoft.datawrangler.viewer.v0+json": {
       "columns": [
        {
         "name": "index",
         "rawType": "int64",
         "type": "integer"
        },
        {
         "name": "eventname",
         "rawType": "category",
         "type": "unknown"
        },
        {
         "name": "events",
         "rawType": "int64",
         "type": "integer"
        },
        {
         "name": "users",
         "rawType": "int64",
         "type": "integer"
        },
        {
         "name": "conversion_event",
         "rawType": "float64",
         "type": "float"
        },
        {
         "name": "totalconversionrate",
         "rawType": "float64",
         "type": "float"
        },
        {
         "name": "conversionstagerate",
         "rawType": "float64",
         "type": "float"
        }
       ],
       "ref": "0ddbf988-f759-4da8-baac-72d7f93bf7ee",
       "rows": [
        [
         "0",
         "mainscreenappear",
         "117328",
         "7419",
         "6.323",
         "100.0",
         null
        ],
        [
         "1",
         "offersscreenappear",
         "46333",
         "4593",
         "9.913",
         "61.909",
         "61.909"
        ],
        [
         "2",
         "cartscreenappear",
         "42303",
         "3734",
         "8.827",
         "50.33",
         "81.298"
        ],
        [
         "3",
         "paymentscreensuccessful",
         "33918",
         "3539",
         "10.434",
         "47.702",
         "94.778"
        ],
        [
         "4",
         "tutorial",
         "1005",
         "840",
         "83.582",
         "11.322",
         "23.736"
        ]
       ],
       "shape": {
        "columns": 6,
        "rows": 5
       }
      },
      "text/html": [
       "<div>\n",
       "<style scoped>\n",
       "    .dataframe tbody tr th:only-of-type {\n",
       "        vertical-align: middle;\n",
       "    }\n",
       "\n",
       "    .dataframe tbody tr th {\n",
       "        vertical-align: top;\n",
       "    }\n",
       "\n",
       "    .dataframe thead th {\n",
       "        text-align: right;\n",
       "    }\n",
       "</style>\n",
       "<table border=\"1\" class=\"dataframe\">\n",
       "  <thead>\n",
       "    <tr style=\"text-align: right;\">\n",
       "      <th></th>\n",
       "      <th>eventname</th>\n",
       "      <th>events</th>\n",
       "      <th>users</th>\n",
       "      <th>conversion_event</th>\n",
       "      <th>totalconversionrate</th>\n",
       "      <th>conversionstagerate</th>\n",
       "    </tr>\n",
       "  </thead>\n",
       "  <tbody>\n",
       "    <tr>\n",
       "      <th>0</th>\n",
       "      <td>mainscreenappear</td>\n",
       "      <td>117328</td>\n",
       "      <td>7419</td>\n",
       "      <td>6.323</td>\n",
       "      <td>100.000</td>\n",
       "      <td>NaN</td>\n",
       "    </tr>\n",
       "    <tr>\n",
       "      <th>1</th>\n",
       "      <td>offersscreenappear</td>\n",
       "      <td>46333</td>\n",
       "      <td>4593</td>\n",
       "      <td>9.913</td>\n",
       "      <td>61.909</td>\n",
       "      <td>61.909</td>\n",
       "    </tr>\n",
       "    <tr>\n",
       "      <th>2</th>\n",
       "      <td>cartscreenappear</td>\n",
       "      <td>42303</td>\n",
       "      <td>3734</td>\n",
       "      <td>8.827</td>\n",
       "      <td>50.330</td>\n",
       "      <td>81.298</td>\n",
       "    </tr>\n",
       "    <tr>\n",
       "      <th>3</th>\n",
       "      <td>paymentscreensuccessful</td>\n",
       "      <td>33918</td>\n",
       "      <td>3539</td>\n",
       "      <td>10.434</td>\n",
       "      <td>47.702</td>\n",
       "      <td>94.778</td>\n",
       "    </tr>\n",
       "    <tr>\n",
       "      <th>4</th>\n",
       "      <td>tutorial</td>\n",
       "      <td>1005</td>\n",
       "      <td>840</td>\n",
       "      <td>83.582</td>\n",
       "      <td>11.322</td>\n",
       "      <td>23.736</td>\n",
       "    </tr>\n",
       "  </tbody>\n",
       "</table>\n",
       "</div>"
      ],
      "text/plain": [
       "                 eventname  events  users  conversion_event  totalconversionrate  conversionstagerate\n",
       "0         mainscreenappear  117328   7419             6.323              100.000                  NaN\n",
       "1       offersscreenappear   46333   4593             9.913               61.909               61.909\n",
       "2         cartscreenappear   42303   3734             8.827               50.330               81.298\n",
       "3  paymentscreensuccessful   33918   3539            10.434               47.702               94.778\n",
       "4                 tutorial    1005    840            83.582               11.322               23.736"
      ]
     },
     "execution_count": 34,
     "metadata": {},
     "output_type": "execute_result"
    }
   ],
   "source": [
    "# Show Total convesion next stage rate\n",
    "df_fs_events['conversionstagerate'] = ((df_fs_events['users'] / df_fs_events['users'].shift(1)) * 100).round(3)\n",
    "df_fs_events"
   ]
  },
  {
   "cell_type": "code",
   "execution_count": 35,
   "id": "98ac41ac",
   "metadata": {},
   "outputs": [
    {
     "data": {
      "application/vnd.microsoft.datawrangler.viewer.v0+json": {
       "columns": [
        {
         "name": "index",
         "rawType": "int64",
         "type": "integer"
        },
        {
         "name": "eventname",
         "rawType": "category",
         "type": "unknown"
        },
        {
         "name": "events",
         "rawType": "int64",
         "type": "integer"
        },
        {
         "name": "users",
         "rawType": "int64",
         "type": "integer"
        },
        {
         "name": "conversion_event",
         "rawType": "float64",
         "type": "float"
        },
        {
         "name": "totalconversionrate",
         "rawType": "float64",
         "type": "float"
        },
        {
         "name": "conversionstagerate",
         "rawType": "float64",
         "type": "float"
        },
        {
         "name": "droprate",
         "rawType": "float64",
         "type": "float"
        }
       ],
       "ref": "34f9de93-ab70-41de-9767-e74233f106a6",
       "rows": [
        [
         "0",
         "mainscreenappear",
         "117328",
         "7419",
         "6.323",
         "100.0",
         null,
         null
        ],
        [
         "1",
         "offersscreenappear",
         "46333",
         "4593",
         "9.913",
         "61.909",
         "61.909",
         "38.091"
        ],
        [
         "2",
         "cartscreenappear",
         "42303",
         "3734",
         "8.827",
         "50.33",
         "81.298",
         "18.702"
        ],
        [
         "3",
         "paymentscreensuccessful",
         "33918",
         "3539",
         "10.434",
         "47.702",
         "94.778",
         "5.222"
        ],
        [
         "4",
         "tutorial",
         "1005",
         "840",
         "83.582",
         "11.322",
         "23.736",
         "76.264"
        ]
       ],
       "shape": {
        "columns": 7,
        "rows": 5
       }
      },
      "text/html": [
       "<div>\n",
       "<style scoped>\n",
       "    .dataframe tbody tr th:only-of-type {\n",
       "        vertical-align: middle;\n",
       "    }\n",
       "\n",
       "    .dataframe tbody tr th {\n",
       "        vertical-align: top;\n",
       "    }\n",
       "\n",
       "    .dataframe thead th {\n",
       "        text-align: right;\n",
       "    }\n",
       "</style>\n",
       "<table border=\"1\" class=\"dataframe\">\n",
       "  <thead>\n",
       "    <tr style=\"text-align: right;\">\n",
       "      <th></th>\n",
       "      <th>eventname</th>\n",
       "      <th>events</th>\n",
       "      <th>users</th>\n",
       "      <th>conversion_event</th>\n",
       "      <th>totalconversionrate</th>\n",
       "      <th>conversionstagerate</th>\n",
       "      <th>droprate</th>\n",
       "    </tr>\n",
       "  </thead>\n",
       "  <tbody>\n",
       "    <tr>\n",
       "      <th>0</th>\n",
       "      <td>mainscreenappear</td>\n",
       "      <td>117328</td>\n",
       "      <td>7419</td>\n",
       "      <td>6.323</td>\n",
       "      <td>100.000</td>\n",
       "      <td>NaN</td>\n",
       "      <td>NaN</td>\n",
       "    </tr>\n",
       "    <tr>\n",
       "      <th>1</th>\n",
       "      <td>offersscreenappear</td>\n",
       "      <td>46333</td>\n",
       "      <td>4593</td>\n",
       "      <td>9.913</td>\n",
       "      <td>61.909</td>\n",
       "      <td>61.909</td>\n",
       "      <td>38.091</td>\n",
       "    </tr>\n",
       "    <tr>\n",
       "      <th>2</th>\n",
       "      <td>cartscreenappear</td>\n",
       "      <td>42303</td>\n",
       "      <td>3734</td>\n",
       "      <td>8.827</td>\n",
       "      <td>50.330</td>\n",
       "      <td>81.298</td>\n",
       "      <td>18.702</td>\n",
       "    </tr>\n",
       "    <tr>\n",
       "      <th>3</th>\n",
       "      <td>paymentscreensuccessful</td>\n",
       "      <td>33918</td>\n",
       "      <td>3539</td>\n",
       "      <td>10.434</td>\n",
       "      <td>47.702</td>\n",
       "      <td>94.778</td>\n",
       "      <td>5.222</td>\n",
       "    </tr>\n",
       "    <tr>\n",
       "      <th>4</th>\n",
       "      <td>tutorial</td>\n",
       "      <td>1005</td>\n",
       "      <td>840</td>\n",
       "      <td>83.582</td>\n",
       "      <td>11.322</td>\n",
       "      <td>23.736</td>\n",
       "      <td>76.264</td>\n",
       "    </tr>\n",
       "  </tbody>\n",
       "</table>\n",
       "</div>"
      ],
      "text/plain": [
       "                 eventname  events  users  conversion_event  totalconversionrate  conversionstagerate  droprate\n",
       "0         mainscreenappear  117328   7419             6.323              100.000                  NaN       NaN\n",
       "1       offersscreenappear   46333   4593             9.913               61.909               61.909    38.091\n",
       "2         cartscreenappear   42303   3734             8.827               50.330               81.298    18.702\n",
       "3  paymentscreensuccessful   33918   3539            10.434               47.702               94.778     5.222\n",
       "4                 tutorial    1005    840            83.582               11.322               23.736    76.264"
      ]
     },
     "execution_count": 35,
     "metadata": {},
     "output_type": "execute_result"
    }
   ],
   "source": [
    "df_fs_events['droprate'] = (100 - df_fs_events['conversionstagerate']).round(3)\n",
    "df_fs_events"
   ]
  },
  {
   "cell_type": "code",
   "execution_count": 36,
   "id": "f602e706",
   "metadata": {},
   "outputs": [
    {
     "data": {
      "application/vnd.plotly.v1+json": {
       "config": {
        "plotlyServerURL": "https://plot.ly"
       },
       "data": [
        {
         "hovertemplate": "totalconversionrate=%{x}<br>eventname=%{y}<extra></extra>",
         "legendgroup": "",
         "marker": {
          "color": "grey",
          "pattern": {
           "shape": ""
          }
         },
         "name": "",
         "orientation": "h",
         "showlegend": false,
         "textposition": "auto",
         "type": "bar",
         "x": {
          "bdata": "vp8aL92kJkBg5dAi29lHQArXo3A9KklAMQisHFr0TkAAAAAAAABZQA==",
          "dtype": "f8"
         },
         "xaxis": "x",
         "y": [
          "tutorial",
          "paymentscreensuccessful",
          "cartscreenappear",
          "offersscreenappear",
          "mainscreenappear"
         ],
         "yaxis": "y"
        }
       ],
       "layout": {
        "barmode": "relative",
        "height": 500,
        "legend": {
         "tracegroupgap": 0
        },
        "template": {
         "data": {
          "bar": [
           {
            "error_x": {
             "color": "#2a3f5f"
            },
            "error_y": {
             "color": "#2a3f5f"
            },
            "marker": {
             "line": {
              "color": "white",
              "width": 0.5
             },
             "pattern": {
              "fillmode": "overlay",
              "size": 10,
              "solidity": 0.2
             }
            },
            "type": "bar"
           }
          ],
          "barpolar": [
           {
            "marker": {
             "line": {
              "color": "white",
              "width": 0.5
             },
             "pattern": {
              "fillmode": "overlay",
              "size": 10,
              "solidity": 0.2
             }
            },
            "type": "barpolar"
           }
          ],
          "carpet": [
           {
            "aaxis": {
             "endlinecolor": "#2a3f5f",
             "gridcolor": "#C8D4E3",
             "linecolor": "#C8D4E3",
             "minorgridcolor": "#C8D4E3",
             "startlinecolor": "#2a3f5f"
            },
            "baxis": {
             "endlinecolor": "#2a3f5f",
             "gridcolor": "#C8D4E3",
             "linecolor": "#C8D4E3",
             "minorgridcolor": "#C8D4E3",
             "startlinecolor": "#2a3f5f"
            },
            "type": "carpet"
           }
          ],
          "choropleth": [
           {
            "colorbar": {
             "outlinewidth": 0,
             "ticks": ""
            },
            "type": "choropleth"
           }
          ],
          "contour": [
           {
            "colorbar": {
             "outlinewidth": 0,
             "ticks": ""
            },
            "colorscale": [
             [
              0,
              "#0d0887"
             ],
             [
              0.1111111111111111,
              "#46039f"
             ],
             [
              0.2222222222222222,
              "#7201a8"
             ],
             [
              0.3333333333333333,
              "#9c179e"
             ],
             [
              0.4444444444444444,
              "#bd3786"
             ],
             [
              0.5555555555555556,
              "#d8576b"
             ],
             [
              0.6666666666666666,
              "#ed7953"
             ],
             [
              0.7777777777777778,
              "#fb9f3a"
             ],
             [
              0.8888888888888888,
              "#fdca26"
             ],
             [
              1,
              "#f0f921"
             ]
            ],
            "type": "contour"
           }
          ],
          "contourcarpet": [
           {
            "colorbar": {
             "outlinewidth": 0,
             "ticks": ""
            },
            "type": "contourcarpet"
           }
          ],
          "heatmap": [
           {
            "colorbar": {
             "outlinewidth": 0,
             "ticks": ""
            },
            "colorscale": [
             [
              0,
              "#0d0887"
             ],
             [
              0.1111111111111111,
              "#46039f"
             ],
             [
              0.2222222222222222,
              "#7201a8"
             ],
             [
              0.3333333333333333,
              "#9c179e"
             ],
             [
              0.4444444444444444,
              "#bd3786"
             ],
             [
              0.5555555555555556,
              "#d8576b"
             ],
             [
              0.6666666666666666,
              "#ed7953"
             ],
             [
              0.7777777777777778,
              "#fb9f3a"
             ],
             [
              0.8888888888888888,
              "#fdca26"
             ],
             [
              1,
              "#f0f921"
             ]
            ],
            "type": "heatmap"
           }
          ],
          "histogram": [
           {
            "marker": {
             "pattern": {
              "fillmode": "overlay",
              "size": 10,
              "solidity": 0.2
             }
            },
            "type": "histogram"
           }
          ],
          "histogram2d": [
           {
            "colorbar": {
             "outlinewidth": 0,
             "ticks": ""
            },
            "colorscale": [
             [
              0,
              "#0d0887"
             ],
             [
              0.1111111111111111,
              "#46039f"
             ],
             [
              0.2222222222222222,
              "#7201a8"
             ],
             [
              0.3333333333333333,
              "#9c179e"
             ],
             [
              0.4444444444444444,
              "#bd3786"
             ],
             [
              0.5555555555555556,
              "#d8576b"
             ],
             [
              0.6666666666666666,
              "#ed7953"
             ],
             [
              0.7777777777777778,
              "#fb9f3a"
             ],
             [
              0.8888888888888888,
              "#fdca26"
             ],
             [
              1,
              "#f0f921"
             ]
            ],
            "type": "histogram2d"
           }
          ],
          "histogram2dcontour": [
           {
            "colorbar": {
             "outlinewidth": 0,
             "ticks": ""
            },
            "colorscale": [
             [
              0,
              "#0d0887"
             ],
             [
              0.1111111111111111,
              "#46039f"
             ],
             [
              0.2222222222222222,
              "#7201a8"
             ],
             [
              0.3333333333333333,
              "#9c179e"
             ],
             [
              0.4444444444444444,
              "#bd3786"
             ],
             [
              0.5555555555555556,
              "#d8576b"
             ],
             [
              0.6666666666666666,
              "#ed7953"
             ],
             [
              0.7777777777777778,
              "#fb9f3a"
             ],
             [
              0.8888888888888888,
              "#fdca26"
             ],
             [
              1,
              "#f0f921"
             ]
            ],
            "type": "histogram2dcontour"
           }
          ],
          "mesh3d": [
           {
            "colorbar": {
             "outlinewidth": 0,
             "ticks": ""
            },
            "type": "mesh3d"
           }
          ],
          "parcoords": [
           {
            "line": {
             "colorbar": {
              "outlinewidth": 0,
              "ticks": ""
             }
            },
            "type": "parcoords"
           }
          ],
          "pie": [
           {
            "automargin": true,
            "type": "pie"
           }
          ],
          "scatter": [
           {
            "fillpattern": {
             "fillmode": "overlay",
             "size": 10,
             "solidity": 0.2
            },
            "type": "scatter"
           }
          ],
          "scatter3d": [
           {
            "line": {
             "colorbar": {
              "outlinewidth": 0,
              "ticks": ""
             }
            },
            "marker": {
             "colorbar": {
              "outlinewidth": 0,
              "ticks": ""
             }
            },
            "type": "scatter3d"
           }
          ],
          "scattercarpet": [
           {
            "marker": {
             "colorbar": {
              "outlinewidth": 0,
              "ticks": ""
             }
            },
            "type": "scattercarpet"
           }
          ],
          "scattergeo": [
           {
            "marker": {
             "colorbar": {
              "outlinewidth": 0,
              "ticks": ""
             }
            },
            "type": "scattergeo"
           }
          ],
          "scattergl": [
           {
            "marker": {
             "colorbar": {
              "outlinewidth": 0,
              "ticks": ""
             }
            },
            "type": "scattergl"
           }
          ],
          "scattermap": [
           {
            "marker": {
             "colorbar": {
              "outlinewidth": 0,
              "ticks": ""
             }
            },
            "type": "scattermap"
           }
          ],
          "scattermapbox": [
           {
            "marker": {
             "colorbar": {
              "outlinewidth": 0,
              "ticks": ""
             }
            },
            "type": "scattermapbox"
           }
          ],
          "scatterpolar": [
           {
            "marker": {
             "colorbar": {
              "outlinewidth": 0,
              "ticks": ""
             }
            },
            "type": "scatterpolar"
           }
          ],
          "scatterpolargl": [
           {
            "marker": {
             "colorbar": {
              "outlinewidth": 0,
              "ticks": ""
             }
            },
            "type": "scatterpolargl"
           }
          ],
          "scatterternary": [
           {
            "marker": {
             "colorbar": {
              "outlinewidth": 0,
              "ticks": ""
             }
            },
            "type": "scatterternary"
           }
          ],
          "surface": [
           {
            "colorbar": {
             "outlinewidth": 0,
             "ticks": ""
            },
            "colorscale": [
             [
              0,
              "#0d0887"
             ],
             [
              0.1111111111111111,
              "#46039f"
             ],
             [
              0.2222222222222222,
              "#7201a8"
             ],
             [
              0.3333333333333333,
              "#9c179e"
             ],
             [
              0.4444444444444444,
              "#bd3786"
             ],
             [
              0.5555555555555556,
              "#d8576b"
             ],
             [
              0.6666666666666666,
              "#ed7953"
             ],
             [
              0.7777777777777778,
              "#fb9f3a"
             ],
             [
              0.8888888888888888,
              "#fdca26"
             ],
             [
              1,
              "#f0f921"
             ]
            ],
            "type": "surface"
           }
          ],
          "table": [
           {
            "cells": {
             "fill": {
              "color": "#EBF0F8"
             },
             "line": {
              "color": "white"
             }
            },
            "header": {
             "fill": {
              "color": "#C8D4E3"
             },
             "line": {
              "color": "white"
             }
            },
            "type": "table"
           }
          ]
         },
         "layout": {
          "annotationdefaults": {
           "arrowcolor": "#2a3f5f",
           "arrowhead": 0,
           "arrowwidth": 1
          },
          "autotypenumbers": "strict",
          "coloraxis": {
           "colorbar": {
            "outlinewidth": 0,
            "ticks": ""
           }
          },
          "colorscale": {
           "diverging": [
            [
             0,
             "#8e0152"
            ],
            [
             0.1,
             "#c51b7d"
            ],
            [
             0.2,
             "#de77ae"
            ],
            [
             0.3,
             "#f1b6da"
            ],
            [
             0.4,
             "#fde0ef"
            ],
            [
             0.5,
             "#f7f7f7"
            ],
            [
             0.6,
             "#e6f5d0"
            ],
            [
             0.7,
             "#b8e186"
            ],
            [
             0.8,
             "#7fbc41"
            ],
            [
             0.9,
             "#4d9221"
            ],
            [
             1,
             "#276419"
            ]
           ],
           "sequential": [
            [
             0,
             "#0d0887"
            ],
            [
             0.1111111111111111,
             "#46039f"
            ],
            [
             0.2222222222222222,
             "#7201a8"
            ],
            [
             0.3333333333333333,
             "#9c179e"
            ],
            [
             0.4444444444444444,
             "#bd3786"
            ],
            [
             0.5555555555555556,
             "#d8576b"
            ],
            [
             0.6666666666666666,
             "#ed7953"
            ],
            [
             0.7777777777777778,
             "#fb9f3a"
            ],
            [
             0.8888888888888888,
             "#fdca26"
            ],
            [
             1,
             "#f0f921"
            ]
           ],
           "sequentialminus": [
            [
             0,
             "#0d0887"
            ],
            [
             0.1111111111111111,
             "#46039f"
            ],
            [
             0.2222222222222222,
             "#7201a8"
            ],
            [
             0.3333333333333333,
             "#9c179e"
            ],
            [
             0.4444444444444444,
             "#bd3786"
            ],
            [
             0.5555555555555556,
             "#d8576b"
            ],
            [
             0.6666666666666666,
             "#ed7953"
            ],
            [
             0.7777777777777778,
             "#fb9f3a"
            ],
            [
             0.8888888888888888,
             "#fdca26"
            ],
            [
             1,
             "#f0f921"
            ]
           ]
          },
          "colorway": [
           "#636efa",
           "#EF553B",
           "#00cc96",
           "#ab63fa",
           "#FFA15A",
           "#19d3f3",
           "#FF6692",
           "#B6E880",
           "#FF97FF",
           "#FECB52"
          ],
          "font": {
           "color": "#2a3f5f"
          },
          "geo": {
           "bgcolor": "white",
           "lakecolor": "white",
           "landcolor": "white",
           "showlakes": true,
           "showland": true,
           "subunitcolor": "#C8D4E3"
          },
          "hoverlabel": {
           "align": "left"
          },
          "hovermode": "closest",
          "mapbox": {
           "style": "light"
          },
          "paper_bgcolor": "white",
          "plot_bgcolor": "white",
          "polar": {
           "angularaxis": {
            "gridcolor": "#EBF0F8",
            "linecolor": "#EBF0F8",
            "ticks": ""
           },
           "bgcolor": "white",
           "radialaxis": {
            "gridcolor": "#EBF0F8",
            "linecolor": "#EBF0F8",
            "ticks": ""
           }
          },
          "scene": {
           "xaxis": {
            "backgroundcolor": "white",
            "gridcolor": "#DFE8F3",
            "gridwidth": 2,
            "linecolor": "#EBF0F8",
            "showbackground": true,
            "ticks": "",
            "zerolinecolor": "#EBF0F8"
           },
           "yaxis": {
            "backgroundcolor": "white",
            "gridcolor": "#DFE8F3",
            "gridwidth": 2,
            "linecolor": "#EBF0F8",
            "showbackground": true,
            "ticks": "",
            "zerolinecolor": "#EBF0F8"
           },
           "zaxis": {
            "backgroundcolor": "white",
            "gridcolor": "#DFE8F3",
            "gridwidth": 2,
            "linecolor": "#EBF0F8",
            "showbackground": true,
            "ticks": "",
            "zerolinecolor": "#EBF0F8"
           }
          },
          "shapedefaults": {
           "line": {
            "color": "#2a3f5f"
           }
          },
          "ternary": {
           "aaxis": {
            "gridcolor": "#DFE8F3",
            "linecolor": "#A2B1C6",
            "ticks": ""
           },
           "baxis": {
            "gridcolor": "#DFE8F3",
            "linecolor": "#A2B1C6",
            "ticks": ""
           },
           "bgcolor": "white",
           "caxis": {
            "gridcolor": "#DFE8F3",
            "linecolor": "#A2B1C6",
            "ticks": ""
           }
          },
          "title": {
           "x": 0.05
          },
          "xaxis": {
           "automargin": true,
           "gridcolor": "#EBF0F8",
           "linecolor": "#EBF0F8",
           "ticks": "",
           "title": {
            "standoff": 15
           },
           "zerolinecolor": "#EBF0F8",
           "zerolinewidth": 2
          },
          "yaxis": {
           "automargin": true,
           "gridcolor": "#EBF0F8",
           "linecolor": "#EBF0F8",
           "ticks": "",
           "title": {
            "standoff": 15
           },
           "zerolinecolor": "#EBF0F8",
           "zerolinewidth": 2
          }
         }
        },
        "title": {
         "text": "Conversion Rate"
        },
        "width": 1200,
        "xaxis": {
         "anchor": "y",
         "domain": [
          0,
          1
         ],
         "title": {
          "text": "Conversion Rate"
         }
        },
        "yaxis": {
         "anchor": "x",
         "domain": [
          0,
          1
         ],
         "title": {
          "text": "Events"
         }
        }
       }
      }
     },
     "metadata": {},
     "output_type": "display_data"
    }
   ],
   "source": [
    "plot_horizontal_bar_plotpx(df_fs_events, x='totalconversionrate', y='eventname', title='Conversion Rate', xlabel='Conversion Rate', ylabel='Events', sort=True)"
   ]
  },
  {
   "cell_type": "code",
   "execution_count": 37,
   "id": "6a21a5cb",
   "metadata": {},
   "outputs": [
    {
     "data": {
      "application/vnd.plotly.v1+json": {
       "config": {
        "plotlyServerURL": "https://plot.ly"
       },
       "data": [
        {
         "hovertemplate": "conversionstagerate=%{x}<br>eventname=%{y}<extra></extra>",
         "legendgroup": "",
         "marker": {
          "color": "grey",
          "pattern": {
           "shape": ""
          }
         },
         "name": "",
         "orientation": "h",
         "showlegend": false,
         "textposition": "auto",
         "type": "bar",
         "x": {
          "bdata": "I9v5fmq8N0AxCKwcWvROQFCNl24SU1RAbxKDwMqxV0AAAAAAAAD4fw==",
          "dtype": "f8"
         },
         "xaxis": "x",
         "y": [
          "tutorial",
          "offersscreenappear",
          "cartscreenappear",
          "paymentscreensuccessful",
          "mainscreenappear"
         ],
         "yaxis": "y"
        }
       ],
       "layout": {
        "barmode": "relative",
        "height": 500,
        "legend": {
         "tracegroupgap": 0
        },
        "template": {
         "data": {
          "bar": [
           {
            "error_x": {
             "color": "#2a3f5f"
            },
            "error_y": {
             "color": "#2a3f5f"
            },
            "marker": {
             "line": {
              "color": "white",
              "width": 0.5
             },
             "pattern": {
              "fillmode": "overlay",
              "size": 10,
              "solidity": 0.2
             }
            },
            "type": "bar"
           }
          ],
          "barpolar": [
           {
            "marker": {
             "line": {
              "color": "white",
              "width": 0.5
             },
             "pattern": {
              "fillmode": "overlay",
              "size": 10,
              "solidity": 0.2
             }
            },
            "type": "barpolar"
           }
          ],
          "carpet": [
           {
            "aaxis": {
             "endlinecolor": "#2a3f5f",
             "gridcolor": "#C8D4E3",
             "linecolor": "#C8D4E3",
             "minorgridcolor": "#C8D4E3",
             "startlinecolor": "#2a3f5f"
            },
            "baxis": {
             "endlinecolor": "#2a3f5f",
             "gridcolor": "#C8D4E3",
             "linecolor": "#C8D4E3",
             "minorgridcolor": "#C8D4E3",
             "startlinecolor": "#2a3f5f"
            },
            "type": "carpet"
           }
          ],
          "choropleth": [
           {
            "colorbar": {
             "outlinewidth": 0,
             "ticks": ""
            },
            "type": "choropleth"
           }
          ],
          "contour": [
           {
            "colorbar": {
             "outlinewidth": 0,
             "ticks": ""
            },
            "colorscale": [
             [
              0,
              "#0d0887"
             ],
             [
              0.1111111111111111,
              "#46039f"
             ],
             [
              0.2222222222222222,
              "#7201a8"
             ],
             [
              0.3333333333333333,
              "#9c179e"
             ],
             [
              0.4444444444444444,
              "#bd3786"
             ],
             [
              0.5555555555555556,
              "#d8576b"
             ],
             [
              0.6666666666666666,
              "#ed7953"
             ],
             [
              0.7777777777777778,
              "#fb9f3a"
             ],
             [
              0.8888888888888888,
              "#fdca26"
             ],
             [
              1,
              "#f0f921"
             ]
            ],
            "type": "contour"
           }
          ],
          "contourcarpet": [
           {
            "colorbar": {
             "outlinewidth": 0,
             "ticks": ""
            },
            "type": "contourcarpet"
           }
          ],
          "heatmap": [
           {
            "colorbar": {
             "outlinewidth": 0,
             "ticks": ""
            },
            "colorscale": [
             [
              0,
              "#0d0887"
             ],
             [
              0.1111111111111111,
              "#46039f"
             ],
             [
              0.2222222222222222,
              "#7201a8"
             ],
             [
              0.3333333333333333,
              "#9c179e"
             ],
             [
              0.4444444444444444,
              "#bd3786"
             ],
             [
              0.5555555555555556,
              "#d8576b"
             ],
             [
              0.6666666666666666,
              "#ed7953"
             ],
             [
              0.7777777777777778,
              "#fb9f3a"
             ],
             [
              0.8888888888888888,
              "#fdca26"
             ],
             [
              1,
              "#f0f921"
             ]
            ],
            "type": "heatmap"
           }
          ],
          "histogram": [
           {
            "marker": {
             "pattern": {
              "fillmode": "overlay",
              "size": 10,
              "solidity": 0.2
             }
            },
            "type": "histogram"
           }
          ],
          "histogram2d": [
           {
            "colorbar": {
             "outlinewidth": 0,
             "ticks": ""
            },
            "colorscale": [
             [
              0,
              "#0d0887"
             ],
             [
              0.1111111111111111,
              "#46039f"
             ],
             [
              0.2222222222222222,
              "#7201a8"
             ],
             [
              0.3333333333333333,
              "#9c179e"
             ],
             [
              0.4444444444444444,
              "#bd3786"
             ],
             [
              0.5555555555555556,
              "#d8576b"
             ],
             [
              0.6666666666666666,
              "#ed7953"
             ],
             [
              0.7777777777777778,
              "#fb9f3a"
             ],
             [
              0.8888888888888888,
              "#fdca26"
             ],
             [
              1,
              "#f0f921"
             ]
            ],
            "type": "histogram2d"
           }
          ],
          "histogram2dcontour": [
           {
            "colorbar": {
             "outlinewidth": 0,
             "ticks": ""
            },
            "colorscale": [
             [
              0,
              "#0d0887"
             ],
             [
              0.1111111111111111,
              "#46039f"
             ],
             [
              0.2222222222222222,
              "#7201a8"
             ],
             [
              0.3333333333333333,
              "#9c179e"
             ],
             [
              0.4444444444444444,
              "#bd3786"
             ],
             [
              0.5555555555555556,
              "#d8576b"
             ],
             [
              0.6666666666666666,
              "#ed7953"
             ],
             [
              0.7777777777777778,
              "#fb9f3a"
             ],
             [
              0.8888888888888888,
              "#fdca26"
             ],
             [
              1,
              "#f0f921"
             ]
            ],
            "type": "histogram2dcontour"
           }
          ],
          "mesh3d": [
           {
            "colorbar": {
             "outlinewidth": 0,
             "ticks": ""
            },
            "type": "mesh3d"
           }
          ],
          "parcoords": [
           {
            "line": {
             "colorbar": {
              "outlinewidth": 0,
              "ticks": ""
             }
            },
            "type": "parcoords"
           }
          ],
          "pie": [
           {
            "automargin": true,
            "type": "pie"
           }
          ],
          "scatter": [
           {
            "fillpattern": {
             "fillmode": "overlay",
             "size": 10,
             "solidity": 0.2
            },
            "type": "scatter"
           }
          ],
          "scatter3d": [
           {
            "line": {
             "colorbar": {
              "outlinewidth": 0,
              "ticks": ""
             }
            },
            "marker": {
             "colorbar": {
              "outlinewidth": 0,
              "ticks": ""
             }
            },
            "type": "scatter3d"
           }
          ],
          "scattercarpet": [
           {
            "marker": {
             "colorbar": {
              "outlinewidth": 0,
              "ticks": ""
             }
            },
            "type": "scattercarpet"
           }
          ],
          "scattergeo": [
           {
            "marker": {
             "colorbar": {
              "outlinewidth": 0,
              "ticks": ""
             }
            },
            "type": "scattergeo"
           }
          ],
          "scattergl": [
           {
            "marker": {
             "colorbar": {
              "outlinewidth": 0,
              "ticks": ""
             }
            },
            "type": "scattergl"
           }
          ],
          "scattermap": [
           {
            "marker": {
             "colorbar": {
              "outlinewidth": 0,
              "ticks": ""
             }
            },
            "type": "scattermap"
           }
          ],
          "scattermapbox": [
           {
            "marker": {
             "colorbar": {
              "outlinewidth": 0,
              "ticks": ""
             }
            },
            "type": "scattermapbox"
           }
          ],
          "scatterpolar": [
           {
            "marker": {
             "colorbar": {
              "outlinewidth": 0,
              "ticks": ""
             }
            },
            "type": "scatterpolar"
           }
          ],
          "scatterpolargl": [
           {
            "marker": {
             "colorbar": {
              "outlinewidth": 0,
              "ticks": ""
             }
            },
            "type": "scatterpolargl"
           }
          ],
          "scatterternary": [
           {
            "marker": {
             "colorbar": {
              "outlinewidth": 0,
              "ticks": ""
             }
            },
            "type": "scatterternary"
           }
          ],
          "surface": [
           {
            "colorbar": {
             "outlinewidth": 0,
             "ticks": ""
            },
            "colorscale": [
             [
              0,
              "#0d0887"
             ],
             [
              0.1111111111111111,
              "#46039f"
             ],
             [
              0.2222222222222222,
              "#7201a8"
             ],
             [
              0.3333333333333333,
              "#9c179e"
             ],
             [
              0.4444444444444444,
              "#bd3786"
             ],
             [
              0.5555555555555556,
              "#d8576b"
             ],
             [
              0.6666666666666666,
              "#ed7953"
             ],
             [
              0.7777777777777778,
              "#fb9f3a"
             ],
             [
              0.8888888888888888,
              "#fdca26"
             ],
             [
              1,
              "#f0f921"
             ]
            ],
            "type": "surface"
           }
          ],
          "table": [
           {
            "cells": {
             "fill": {
              "color": "#EBF0F8"
             },
             "line": {
              "color": "white"
             }
            },
            "header": {
             "fill": {
              "color": "#C8D4E3"
             },
             "line": {
              "color": "white"
             }
            },
            "type": "table"
           }
          ]
         },
         "layout": {
          "annotationdefaults": {
           "arrowcolor": "#2a3f5f",
           "arrowhead": 0,
           "arrowwidth": 1
          },
          "autotypenumbers": "strict",
          "coloraxis": {
           "colorbar": {
            "outlinewidth": 0,
            "ticks": ""
           }
          },
          "colorscale": {
           "diverging": [
            [
             0,
             "#8e0152"
            ],
            [
             0.1,
             "#c51b7d"
            ],
            [
             0.2,
             "#de77ae"
            ],
            [
             0.3,
             "#f1b6da"
            ],
            [
             0.4,
             "#fde0ef"
            ],
            [
             0.5,
             "#f7f7f7"
            ],
            [
             0.6,
             "#e6f5d0"
            ],
            [
             0.7,
             "#b8e186"
            ],
            [
             0.8,
             "#7fbc41"
            ],
            [
             0.9,
             "#4d9221"
            ],
            [
             1,
             "#276419"
            ]
           ],
           "sequential": [
            [
             0,
             "#0d0887"
            ],
            [
             0.1111111111111111,
             "#46039f"
            ],
            [
             0.2222222222222222,
             "#7201a8"
            ],
            [
             0.3333333333333333,
             "#9c179e"
            ],
            [
             0.4444444444444444,
             "#bd3786"
            ],
            [
             0.5555555555555556,
             "#d8576b"
            ],
            [
             0.6666666666666666,
             "#ed7953"
            ],
            [
             0.7777777777777778,
             "#fb9f3a"
            ],
            [
             0.8888888888888888,
             "#fdca26"
            ],
            [
             1,
             "#f0f921"
            ]
           ],
           "sequentialminus": [
            [
             0,
             "#0d0887"
            ],
            [
             0.1111111111111111,
             "#46039f"
            ],
            [
             0.2222222222222222,
             "#7201a8"
            ],
            [
             0.3333333333333333,
             "#9c179e"
            ],
            [
             0.4444444444444444,
             "#bd3786"
            ],
            [
             0.5555555555555556,
             "#d8576b"
            ],
            [
             0.6666666666666666,
             "#ed7953"
            ],
            [
             0.7777777777777778,
             "#fb9f3a"
            ],
            [
             0.8888888888888888,
             "#fdca26"
            ],
            [
             1,
             "#f0f921"
            ]
           ]
          },
          "colorway": [
           "#636efa",
           "#EF553B",
           "#00cc96",
           "#ab63fa",
           "#FFA15A",
           "#19d3f3",
           "#FF6692",
           "#B6E880",
           "#FF97FF",
           "#FECB52"
          ],
          "font": {
           "color": "#2a3f5f"
          },
          "geo": {
           "bgcolor": "white",
           "lakecolor": "white",
           "landcolor": "white",
           "showlakes": true,
           "showland": true,
           "subunitcolor": "#C8D4E3"
          },
          "hoverlabel": {
           "align": "left"
          },
          "hovermode": "closest",
          "mapbox": {
           "style": "light"
          },
          "paper_bgcolor": "white",
          "plot_bgcolor": "white",
          "polar": {
           "angularaxis": {
            "gridcolor": "#EBF0F8",
            "linecolor": "#EBF0F8",
            "ticks": ""
           },
           "bgcolor": "white",
           "radialaxis": {
            "gridcolor": "#EBF0F8",
            "linecolor": "#EBF0F8",
            "ticks": ""
           }
          },
          "scene": {
           "xaxis": {
            "backgroundcolor": "white",
            "gridcolor": "#DFE8F3",
            "gridwidth": 2,
            "linecolor": "#EBF0F8",
            "showbackground": true,
            "ticks": "",
            "zerolinecolor": "#EBF0F8"
           },
           "yaxis": {
            "backgroundcolor": "white",
            "gridcolor": "#DFE8F3",
            "gridwidth": 2,
            "linecolor": "#EBF0F8",
            "showbackground": true,
            "ticks": "",
            "zerolinecolor": "#EBF0F8"
           },
           "zaxis": {
            "backgroundcolor": "white",
            "gridcolor": "#DFE8F3",
            "gridwidth": 2,
            "linecolor": "#EBF0F8",
            "showbackground": true,
            "ticks": "",
            "zerolinecolor": "#EBF0F8"
           }
          },
          "shapedefaults": {
           "line": {
            "color": "#2a3f5f"
           }
          },
          "ternary": {
           "aaxis": {
            "gridcolor": "#DFE8F3",
            "linecolor": "#A2B1C6",
            "ticks": ""
           },
           "baxis": {
            "gridcolor": "#DFE8F3",
            "linecolor": "#A2B1C6",
            "ticks": ""
           },
           "bgcolor": "white",
           "caxis": {
            "gridcolor": "#DFE8F3",
            "linecolor": "#A2B1C6",
            "ticks": ""
           }
          },
          "title": {
           "x": 0.05
          },
          "xaxis": {
           "automargin": true,
           "gridcolor": "#EBF0F8",
           "linecolor": "#EBF0F8",
           "ticks": "",
           "title": {
            "standoff": 15
           },
           "zerolinecolor": "#EBF0F8",
           "zerolinewidth": 2
          },
          "yaxis": {
           "automargin": true,
           "gridcolor": "#EBF0F8",
           "linecolor": "#EBF0F8",
           "ticks": "",
           "title": {
            "standoff": 15
           },
           "zerolinecolor": "#EBF0F8",
           "zerolinewidth": 2
          }
         }
        },
        "title": {
         "text": "Conversion Rate per Stage"
        },
        "width": 1200,
        "xaxis": {
         "anchor": "y",
         "domain": [
          0,
          1
         ],
         "title": {
          "text": "Conversion Rate"
         }
        },
        "yaxis": {
         "anchor": "x",
         "domain": [
          0,
          1
         ],
         "title": {
          "text": "Events"
         }
        }
       }
      }
     },
     "metadata": {},
     "output_type": "display_data"
    }
   ],
   "source": [
    "plot_horizontal_bar_plotpx(df_fs_events, x='conversionstagerate', y='eventname', title='Conversion Rate per Stage', xlabel='Conversion Rate', ylabel='Events', sort=True)"
   ]
  },
  {
   "cell_type": "code",
   "execution_count": 38,
   "id": "c59c64ce",
   "metadata": {},
   "outputs": [
    {
     "data": {
      "application/vnd.plotly.v1+json": {
       "config": {
        "plotlyServerURL": "https://plot.ly"
       },
       "data": [
        {
         "hovertemplate": "droprate=%{x}<br>eventname=%{y}<extra></extra>",
         "legendgroup": "",
         "marker": {
          "color": "grey",
          "pattern": {
           "shape": ""
          }
         },
         "name": "",
         "orientation": "h",
         "showlegend": false,
         "textposition": "auto",
         "type": "bar",
         "x": {
          "bdata": "F9nO91PjFEDByqFFtrMyQM/3U+OlC0NAN4lBYOUQU0AAAAAAAAD4fw==",
          "dtype": "f8"
         },
         "xaxis": "x",
         "y": [
          "paymentscreensuccessful",
          "cartscreenappear",
          "offersscreenappear",
          "tutorial",
          "mainscreenappear"
         ],
         "yaxis": "y"
        }
       ],
       "layout": {
        "barmode": "relative",
        "height": 500,
        "legend": {
         "tracegroupgap": 0
        },
        "template": {
         "data": {
          "bar": [
           {
            "error_x": {
             "color": "#2a3f5f"
            },
            "error_y": {
             "color": "#2a3f5f"
            },
            "marker": {
             "line": {
              "color": "white",
              "width": 0.5
             },
             "pattern": {
              "fillmode": "overlay",
              "size": 10,
              "solidity": 0.2
             }
            },
            "type": "bar"
           }
          ],
          "barpolar": [
           {
            "marker": {
             "line": {
              "color": "white",
              "width": 0.5
             },
             "pattern": {
              "fillmode": "overlay",
              "size": 10,
              "solidity": 0.2
             }
            },
            "type": "barpolar"
           }
          ],
          "carpet": [
           {
            "aaxis": {
             "endlinecolor": "#2a3f5f",
             "gridcolor": "#C8D4E3",
             "linecolor": "#C8D4E3",
             "minorgridcolor": "#C8D4E3",
             "startlinecolor": "#2a3f5f"
            },
            "baxis": {
             "endlinecolor": "#2a3f5f",
             "gridcolor": "#C8D4E3",
             "linecolor": "#C8D4E3",
             "minorgridcolor": "#C8D4E3",
             "startlinecolor": "#2a3f5f"
            },
            "type": "carpet"
           }
          ],
          "choropleth": [
           {
            "colorbar": {
             "outlinewidth": 0,
             "ticks": ""
            },
            "type": "choropleth"
           }
          ],
          "contour": [
           {
            "colorbar": {
             "outlinewidth": 0,
             "ticks": ""
            },
            "colorscale": [
             [
              0,
              "#0d0887"
             ],
             [
              0.1111111111111111,
              "#46039f"
             ],
             [
              0.2222222222222222,
              "#7201a8"
             ],
             [
              0.3333333333333333,
              "#9c179e"
             ],
             [
              0.4444444444444444,
              "#bd3786"
             ],
             [
              0.5555555555555556,
              "#d8576b"
             ],
             [
              0.6666666666666666,
              "#ed7953"
             ],
             [
              0.7777777777777778,
              "#fb9f3a"
             ],
             [
              0.8888888888888888,
              "#fdca26"
             ],
             [
              1,
              "#f0f921"
             ]
            ],
            "type": "contour"
           }
          ],
          "contourcarpet": [
           {
            "colorbar": {
             "outlinewidth": 0,
             "ticks": ""
            },
            "type": "contourcarpet"
           }
          ],
          "heatmap": [
           {
            "colorbar": {
             "outlinewidth": 0,
             "ticks": ""
            },
            "colorscale": [
             [
              0,
              "#0d0887"
             ],
             [
              0.1111111111111111,
              "#46039f"
             ],
             [
              0.2222222222222222,
              "#7201a8"
             ],
             [
              0.3333333333333333,
              "#9c179e"
             ],
             [
              0.4444444444444444,
              "#bd3786"
             ],
             [
              0.5555555555555556,
              "#d8576b"
             ],
             [
              0.6666666666666666,
              "#ed7953"
             ],
             [
              0.7777777777777778,
              "#fb9f3a"
             ],
             [
              0.8888888888888888,
              "#fdca26"
             ],
             [
              1,
              "#f0f921"
             ]
            ],
            "type": "heatmap"
           }
          ],
          "histogram": [
           {
            "marker": {
             "pattern": {
              "fillmode": "overlay",
              "size": 10,
              "solidity": 0.2
             }
            },
            "type": "histogram"
           }
          ],
          "histogram2d": [
           {
            "colorbar": {
             "outlinewidth": 0,
             "ticks": ""
            },
            "colorscale": [
             [
              0,
              "#0d0887"
             ],
             [
              0.1111111111111111,
              "#46039f"
             ],
             [
              0.2222222222222222,
              "#7201a8"
             ],
             [
              0.3333333333333333,
              "#9c179e"
             ],
             [
              0.4444444444444444,
              "#bd3786"
             ],
             [
              0.5555555555555556,
              "#d8576b"
             ],
             [
              0.6666666666666666,
              "#ed7953"
             ],
             [
              0.7777777777777778,
              "#fb9f3a"
             ],
             [
              0.8888888888888888,
              "#fdca26"
             ],
             [
              1,
              "#f0f921"
             ]
            ],
            "type": "histogram2d"
           }
          ],
          "histogram2dcontour": [
           {
            "colorbar": {
             "outlinewidth": 0,
             "ticks": ""
            },
            "colorscale": [
             [
              0,
              "#0d0887"
             ],
             [
              0.1111111111111111,
              "#46039f"
             ],
             [
              0.2222222222222222,
              "#7201a8"
             ],
             [
              0.3333333333333333,
              "#9c179e"
             ],
             [
              0.4444444444444444,
              "#bd3786"
             ],
             [
              0.5555555555555556,
              "#d8576b"
             ],
             [
              0.6666666666666666,
              "#ed7953"
             ],
             [
              0.7777777777777778,
              "#fb9f3a"
             ],
             [
              0.8888888888888888,
              "#fdca26"
             ],
             [
              1,
              "#f0f921"
             ]
            ],
            "type": "histogram2dcontour"
           }
          ],
          "mesh3d": [
           {
            "colorbar": {
             "outlinewidth": 0,
             "ticks": ""
            },
            "type": "mesh3d"
           }
          ],
          "parcoords": [
           {
            "line": {
             "colorbar": {
              "outlinewidth": 0,
              "ticks": ""
             }
            },
            "type": "parcoords"
           }
          ],
          "pie": [
           {
            "automargin": true,
            "type": "pie"
           }
          ],
          "scatter": [
           {
            "fillpattern": {
             "fillmode": "overlay",
             "size": 10,
             "solidity": 0.2
            },
            "type": "scatter"
           }
          ],
          "scatter3d": [
           {
            "line": {
             "colorbar": {
              "outlinewidth": 0,
              "ticks": ""
             }
            },
            "marker": {
             "colorbar": {
              "outlinewidth": 0,
              "ticks": ""
             }
            },
            "type": "scatter3d"
           }
          ],
          "scattercarpet": [
           {
            "marker": {
             "colorbar": {
              "outlinewidth": 0,
              "ticks": ""
             }
            },
            "type": "scattercarpet"
           }
          ],
          "scattergeo": [
           {
            "marker": {
             "colorbar": {
              "outlinewidth": 0,
              "ticks": ""
             }
            },
            "type": "scattergeo"
           }
          ],
          "scattergl": [
           {
            "marker": {
             "colorbar": {
              "outlinewidth": 0,
              "ticks": ""
             }
            },
            "type": "scattergl"
           }
          ],
          "scattermap": [
           {
            "marker": {
             "colorbar": {
              "outlinewidth": 0,
              "ticks": ""
             }
            },
            "type": "scattermap"
           }
          ],
          "scattermapbox": [
           {
            "marker": {
             "colorbar": {
              "outlinewidth": 0,
              "ticks": ""
             }
            },
            "type": "scattermapbox"
           }
          ],
          "scatterpolar": [
           {
            "marker": {
             "colorbar": {
              "outlinewidth": 0,
              "ticks": ""
             }
            },
            "type": "scatterpolar"
           }
          ],
          "scatterpolargl": [
           {
            "marker": {
             "colorbar": {
              "outlinewidth": 0,
              "ticks": ""
             }
            },
            "type": "scatterpolargl"
           }
          ],
          "scatterternary": [
           {
            "marker": {
             "colorbar": {
              "outlinewidth": 0,
              "ticks": ""
             }
            },
            "type": "scatterternary"
           }
          ],
          "surface": [
           {
            "colorbar": {
             "outlinewidth": 0,
             "ticks": ""
            },
            "colorscale": [
             [
              0,
              "#0d0887"
             ],
             [
              0.1111111111111111,
              "#46039f"
             ],
             [
              0.2222222222222222,
              "#7201a8"
             ],
             [
              0.3333333333333333,
              "#9c179e"
             ],
             [
              0.4444444444444444,
              "#bd3786"
             ],
             [
              0.5555555555555556,
              "#d8576b"
             ],
             [
              0.6666666666666666,
              "#ed7953"
             ],
             [
              0.7777777777777778,
              "#fb9f3a"
             ],
             [
              0.8888888888888888,
              "#fdca26"
             ],
             [
              1,
              "#f0f921"
             ]
            ],
            "type": "surface"
           }
          ],
          "table": [
           {
            "cells": {
             "fill": {
              "color": "#EBF0F8"
             },
             "line": {
              "color": "white"
             }
            },
            "header": {
             "fill": {
              "color": "#C8D4E3"
             },
             "line": {
              "color": "white"
             }
            },
            "type": "table"
           }
          ]
         },
         "layout": {
          "annotationdefaults": {
           "arrowcolor": "#2a3f5f",
           "arrowhead": 0,
           "arrowwidth": 1
          },
          "autotypenumbers": "strict",
          "coloraxis": {
           "colorbar": {
            "outlinewidth": 0,
            "ticks": ""
           }
          },
          "colorscale": {
           "diverging": [
            [
             0,
             "#8e0152"
            ],
            [
             0.1,
             "#c51b7d"
            ],
            [
             0.2,
             "#de77ae"
            ],
            [
             0.3,
             "#f1b6da"
            ],
            [
             0.4,
             "#fde0ef"
            ],
            [
             0.5,
             "#f7f7f7"
            ],
            [
             0.6,
             "#e6f5d0"
            ],
            [
             0.7,
             "#b8e186"
            ],
            [
             0.8,
             "#7fbc41"
            ],
            [
             0.9,
             "#4d9221"
            ],
            [
             1,
             "#276419"
            ]
           ],
           "sequential": [
            [
             0,
             "#0d0887"
            ],
            [
             0.1111111111111111,
             "#46039f"
            ],
            [
             0.2222222222222222,
             "#7201a8"
            ],
            [
             0.3333333333333333,
             "#9c179e"
            ],
            [
             0.4444444444444444,
             "#bd3786"
            ],
            [
             0.5555555555555556,
             "#d8576b"
            ],
            [
             0.6666666666666666,
             "#ed7953"
            ],
            [
             0.7777777777777778,
             "#fb9f3a"
            ],
            [
             0.8888888888888888,
             "#fdca26"
            ],
            [
             1,
             "#f0f921"
            ]
           ],
           "sequentialminus": [
            [
             0,
             "#0d0887"
            ],
            [
             0.1111111111111111,
             "#46039f"
            ],
            [
             0.2222222222222222,
             "#7201a8"
            ],
            [
             0.3333333333333333,
             "#9c179e"
            ],
            [
             0.4444444444444444,
             "#bd3786"
            ],
            [
             0.5555555555555556,
             "#d8576b"
            ],
            [
             0.6666666666666666,
             "#ed7953"
            ],
            [
             0.7777777777777778,
             "#fb9f3a"
            ],
            [
             0.8888888888888888,
             "#fdca26"
            ],
            [
             1,
             "#f0f921"
            ]
           ]
          },
          "colorway": [
           "#636efa",
           "#EF553B",
           "#00cc96",
           "#ab63fa",
           "#FFA15A",
           "#19d3f3",
           "#FF6692",
           "#B6E880",
           "#FF97FF",
           "#FECB52"
          ],
          "font": {
           "color": "#2a3f5f"
          },
          "geo": {
           "bgcolor": "white",
           "lakecolor": "white",
           "landcolor": "white",
           "showlakes": true,
           "showland": true,
           "subunitcolor": "#C8D4E3"
          },
          "hoverlabel": {
           "align": "left"
          },
          "hovermode": "closest",
          "mapbox": {
           "style": "light"
          },
          "paper_bgcolor": "white",
          "plot_bgcolor": "white",
          "polar": {
           "angularaxis": {
            "gridcolor": "#EBF0F8",
            "linecolor": "#EBF0F8",
            "ticks": ""
           },
           "bgcolor": "white",
           "radialaxis": {
            "gridcolor": "#EBF0F8",
            "linecolor": "#EBF0F8",
            "ticks": ""
           }
          },
          "scene": {
           "xaxis": {
            "backgroundcolor": "white",
            "gridcolor": "#DFE8F3",
            "gridwidth": 2,
            "linecolor": "#EBF0F8",
            "showbackground": true,
            "ticks": "",
            "zerolinecolor": "#EBF0F8"
           },
           "yaxis": {
            "backgroundcolor": "white",
            "gridcolor": "#DFE8F3",
            "gridwidth": 2,
            "linecolor": "#EBF0F8",
            "showbackground": true,
            "ticks": "",
            "zerolinecolor": "#EBF0F8"
           },
           "zaxis": {
            "backgroundcolor": "white",
            "gridcolor": "#DFE8F3",
            "gridwidth": 2,
            "linecolor": "#EBF0F8",
            "showbackground": true,
            "ticks": "",
            "zerolinecolor": "#EBF0F8"
           }
          },
          "shapedefaults": {
           "line": {
            "color": "#2a3f5f"
           }
          },
          "ternary": {
           "aaxis": {
            "gridcolor": "#DFE8F3",
            "linecolor": "#A2B1C6",
            "ticks": ""
           },
           "baxis": {
            "gridcolor": "#DFE8F3",
            "linecolor": "#A2B1C6",
            "ticks": ""
           },
           "bgcolor": "white",
           "caxis": {
            "gridcolor": "#DFE8F3",
            "linecolor": "#A2B1C6",
            "ticks": ""
           }
          },
          "title": {
           "x": 0.05
          },
          "xaxis": {
           "automargin": true,
           "gridcolor": "#EBF0F8",
           "linecolor": "#EBF0F8",
           "ticks": "",
           "title": {
            "standoff": 15
           },
           "zerolinecolor": "#EBF0F8",
           "zerolinewidth": 2
          },
          "yaxis": {
           "automargin": true,
           "gridcolor": "#EBF0F8",
           "linecolor": "#EBF0F8",
           "ticks": "",
           "title": {
            "standoff": 15
           },
           "zerolinecolor": "#EBF0F8",
           "zerolinewidth": 2
          }
         }
        },
        "title": {
         "text": "Drop Rate per Stage"
        },
        "width": 1200,
        "xaxis": {
         "anchor": "y",
         "domain": [
          0,
          1
         ],
         "title": {
          "text": "Drop Rate"
         }
        },
        "yaxis": {
         "anchor": "x",
         "domain": [
          0,
          1
         ],
         "title": {
          "text": "Events"
         }
        }
       }
      }
     },
     "metadata": {},
     "output_type": "display_data"
    }
   ],
   "source": [
    "plot_horizontal_bar_plotpx(df_fs_events, x='droprate', y='eventname', title='Drop Rate per Stage', xlabel='Drop Rate', ylabel='Events', sort=True)"
   ]
  },
  {
   "cell_type": "code",
   "execution_count": 39,
   "id": "106e27c5",
   "metadata": {},
   "outputs": [
    {
     "data": {
      "text/html": [
       "> User rate through complete funnel: 47.702%"
      ],
      "text/plain": [
       "<IPython.core.display.HTML object>"
      ]
     },
     "metadata": {},
     "output_type": "display_data"
    }
   ],
   "source": [
    "# Percentage of users who complete the entire journey from their first interaction to making a purchase\n",
    "display(HTML(f\"> User rate through complete funnel: {((df_fs_events.loc[3, 'users'] / df_fs_events.loc[0, 'users']) * 100):.3f}%\"))"
   ]
  },
  {
   "cell_type": "markdown",
   "id": "4c8e902c",
   "metadata": {},
   "source": [
    "### 📈 7. __Statistical Data Analysis__."
   ]
  },
  {
   "cell_type": "markdown",
   "id": "f01cc357",
   "metadata": {},
   "source": [
    "### 7.1  Inferential Tests."
   ]
  },
  {
   "cell_type": "markdown",
   "id": "702da3c9",
   "metadata": {},
   "source": [
    "#### 7.1.0  Data Analysis prior to A/B test"
   ]
  },
  {
   "cell_type": "code",
   "execution_count": 40,
   "id": "612fad0d",
   "metadata": {},
   "outputs": [
    {
     "data": {
      "application/vnd.microsoft.datawrangler.viewer.v0+json": {
       "columns": [
        {
         "name": "index",
         "rawType": "int64",
         "type": "integer"
        },
        {
         "name": "eventname",
         "rawType": "category",
         "type": "unknown"
        },
        {
         "name": "deviceidhash",
         "rawType": "int64",
         "type": "integer"
        },
        {
         "name": "datetime",
         "rawType": "datetime64[ns]",
         "type": "datetime"
        },
        {
         "name": "expid",
         "rawType": "int64",
         "type": "integer"
        },
        {
         "name": "date",
         "rawType": "object",
         "type": "unknown"
        },
        {
         "name": "time",
         "rawType": "object",
         "type": "unknown"
        }
       ],
       "ref": "9a914cd5-a973-4758-be4c-b7832f5d8471",
       "rows": [
        [
         "2826",
         "tutorial",
         "3737462046622621720",
         "2019-08-01 00:07:28",
         "246",
         "2019-08-01",
         "00:07:28"
        ],
        [
         "2827",
         "mainscreenappear",
         "3737462046622621720",
         "2019-08-01 00:08:00",
         "246",
         "2019-08-01",
         "00:08:00"
        ],
        [
         "2828",
         "mainscreenappear",
         "3737462046622621720",
         "2019-08-01 00:08:55",
         "246",
         "2019-08-01",
         "00:08:55"
        ],
        [
         "2829",
         "offersscreenappear",
         "3737462046622621720",
         "2019-08-01 00:08:58",
         "246",
         "2019-08-01",
         "00:08:58"
        ],
        [
         "2830",
         "mainscreenappear",
         "1433840883824088890",
         "2019-08-01 00:08:59",
         "247",
         "2019-08-01",
         "00:08:59"
        ],
        [
         "2831",
         "mainscreenappear",
         "4899590676214355127",
         "2019-08-01 00:10:15",
         "247",
         "2019-08-01",
         "00:10:15"
        ],
        [
         "2832",
         "offersscreenappear",
         "3737462046622621720",
         "2019-08-01 00:10:26",
         "246",
         "2019-08-01",
         "00:10:26"
        ],
        [
         "2833",
         "mainscreenappear",
         "3737462046622621720",
         "2019-08-01 00:10:47",
         "246",
         "2019-08-01",
         "00:10:47"
        ],
        [
         "2834",
         "mainscreenappear",
         "3737462046622621720",
         "2019-08-01 00:11:10",
         "246",
         "2019-08-01",
         "00:11:10"
        ],
        [
         "2835",
         "mainscreenappear",
         "3737462046622621720",
         "2019-08-01 00:11:20",
         "246",
         "2019-08-01",
         "00:11:20"
        ],
        [
         "2836",
         "mainscreenappear",
         "4899590676214355127",
         "2019-08-01 00:11:28",
         "247",
         "2019-08-01",
         "00:11:28"
        ],
        [
         "2837",
         "offersscreenappear",
         "4899590676214355127",
         "2019-08-01 00:11:30",
         "247",
         "2019-08-01",
         "00:11:30"
        ],
        [
         "2838",
         "mainscreenappear",
         "1182179323890311443",
         "2019-08-01 00:11:57",
         "246",
         "2019-08-01",
         "00:11:57"
        ],
        [
         "2839",
         "tutorial",
         "3737462046622621720",
         "2019-08-01 00:12:18",
         "246",
         "2019-08-01",
         "00:12:18"
        ],
        [
         "2840",
         "mainscreenappear",
         "3737462046622621720",
         "2019-08-01 00:12:34",
         "246",
         "2019-08-01",
         "00:12:34"
        ],
        [
         "2841",
         "offersscreenappear",
         "4899590676214355127",
         "2019-08-01 00:12:36",
         "247",
         "2019-08-01",
         "00:12:36"
        ],
        [
         "2842",
         "mainscreenappear",
         "4613461174774205834",
         "2019-08-01 00:14:31",
         "248",
         "2019-08-01",
         "00:14:31"
        ],
        [
         "2843",
         "mainscreenappear",
         "4613461174774205834",
         "2019-08-01 00:14:34",
         "248",
         "2019-08-01",
         "00:14:34"
        ],
        [
         "2844",
         "cartscreenappear",
         "4613461174774205834",
         "2019-08-01 00:14:34",
         "248",
         "2019-08-01",
         "00:14:34"
        ],
        [
         "2845",
         "paymentscreensuccessful",
         "4613461174774205834",
         "2019-08-01 00:14:43",
         "248",
         "2019-08-01",
         "00:14:43"
        ],
        [
         "2846",
         "offersscreenappear",
         "4613461174774205834",
         "2019-08-01 00:14:51",
         "248",
         "2019-08-01",
         "00:14:51"
        ],
        [
         "2847",
         "mainscreenappear",
         "205293431553451771",
         "2019-08-01 00:15:11",
         "246",
         "2019-08-01",
         "00:15:11"
        ],
        [
         "2848",
         "mainscreenappear",
         "205293431553451771",
         "2019-08-01 00:15:15",
         "246",
         "2019-08-01",
         "00:15:15"
        ],
        [
         "2849",
         "mainscreenappear",
         "205293431553451771",
         "2019-08-01 00:15:18",
         "246",
         "2019-08-01",
         "00:15:18"
        ],
        [
         "2850",
         "mainscreenappear",
         "6121366368901703338",
         "2019-08-01 00:15:50",
         "248",
         "2019-08-01",
         "00:15:50"
        ],
        [
         "2851",
         "offersscreenappear",
         "6121366368901703338",
         "2019-08-01 00:15:54",
         "248",
         "2019-08-01",
         "00:15:54"
        ],
        [
         "2852",
         "mainscreenappear",
         "205293431553451771",
         "2019-08-01 00:16:05",
         "246",
         "2019-08-01",
         "00:16:05"
        ],
        [
         "2853",
         "mainscreenappear",
         "6022375714473447159",
         "2019-08-01 00:16:38",
         "248",
         "2019-08-01",
         "00:16:38"
        ],
        [
         "2854",
         "mainscreenappear",
         "6022375714473447159",
         "2019-08-01 00:17:01",
         "248",
         "2019-08-01",
         "00:17:01"
        ],
        [
         "2855",
         "offersscreenappear",
         "6022375714473447159",
         "2019-08-01 00:17:07",
         "248",
         "2019-08-01",
         "00:17:07"
        ],
        [
         "2856",
         "mainscreenappear",
         "205293431553451771",
         "2019-08-01 00:17:08",
         "246",
         "2019-08-01",
         "00:17:08"
        ],
        [
         "2857",
         "mainscreenappear",
         "6022375714473447159",
         "2019-08-01 00:20:11",
         "248",
         "2019-08-01",
         "00:20:11"
        ],
        [
         "2858",
         "mainscreenappear",
         "205293431553451771",
         "2019-08-01 00:20:21",
         "246",
         "2019-08-01",
         "00:20:21"
        ],
        [
         "2859",
         "mainscreenappear",
         "6022375714473447159",
         "2019-08-01 00:22:11",
         "248",
         "2019-08-01",
         "00:22:11"
        ],
        [
         "2860",
         "mainscreenappear",
         "2712290788139738557",
         "2019-08-01 00:22:41",
         "247",
         "2019-08-01",
         "00:22:41"
        ],
        [
         "2861",
         "paymentscreensuccessful",
         "2712290788139738557",
         "2019-08-01 00:22:44",
         "247",
         "2019-08-01",
         "00:22:44"
        ],
        [
         "2862",
         "cartscreenappear",
         "2712290788139738557",
         "2019-08-01 00:22:45",
         "247",
         "2019-08-01",
         "00:22:45"
        ],
        [
         "2863",
         "mainscreenappear",
         "2712290788139738557",
         "2019-08-01 00:22:45",
         "247",
         "2019-08-01",
         "00:22:45"
        ],
        [
         "2864",
         "offersscreenappear",
         "2712290788139738557",
         "2019-08-01 00:22:53",
         "247",
         "2019-08-01",
         "00:22:53"
        ],
        [
         "2865",
         "paymentscreensuccessful",
         "2712290788139738557",
         "2019-08-01 00:23:08",
         "247",
         "2019-08-01",
         "00:23:08"
        ],
        [
         "2866",
         "cartscreenappear",
         "2712290788139738557",
         "2019-08-01 00:23:09",
         "247",
         "2019-08-01",
         "00:23:09"
        ],
        [
         "2867",
         "mainscreenappear",
         "6022375714473447159",
         "2019-08-01 00:23:17",
         "248",
         "2019-08-01",
         "00:23:17"
        ],
        [
         "2868",
         "cartscreenappear",
         "2712290788139738557",
         "2019-08-01 00:23:20",
         "247",
         "2019-08-01",
         "00:23:20"
        ],
        [
         "2869",
         "paymentscreensuccessful",
         "2712290788139738557",
         "2019-08-01 00:23:20",
         "247",
         "2019-08-01",
         "00:23:20"
        ],
        [
         "2870",
         "mainscreenappear",
         "6022375714473447159",
         "2019-08-01 00:23:24",
         "248",
         "2019-08-01",
         "00:23:24"
        ],
        [
         "2871",
         "paymentscreensuccessful",
         "2712290788139738557",
         "2019-08-01 00:23:34",
         "247",
         "2019-08-01",
         "00:23:34"
        ],
        [
         "2872",
         "cartscreenappear",
         "2712290788139738557",
         "2019-08-01 00:23:35",
         "247",
         "2019-08-01",
         "00:23:35"
        ],
        [
         "2873",
         "cartscreenappear",
         "2712290788139738557",
         "2019-08-01 00:23:50",
         "247",
         "2019-08-01",
         "00:23:50"
        ],
        [
         "2874",
         "paymentscreensuccessful",
         "2712290788139738557",
         "2019-08-01 00:23:50",
         "247",
         "2019-08-01",
         "00:23:50"
        ],
        [
         "2875",
         "mainscreenappear",
         "1433840883824088890",
         "2019-08-01 00:23:55",
         "247",
         "2019-08-01",
         "00:23:55"
        ]
       ],
       "shape": {
        "columns": 6,
        "rows": 240887
       }
      },
      "text/html": [
       "<div>\n",
       "<style scoped>\n",
       "    .dataframe tbody tr th:only-of-type {\n",
       "        vertical-align: middle;\n",
       "    }\n",
       "\n",
       "    .dataframe tbody tr th {\n",
       "        vertical-align: top;\n",
       "    }\n",
       "\n",
       "    .dataframe thead th {\n",
       "        text-align: right;\n",
       "    }\n",
       "</style>\n",
       "<table border=\"1\" class=\"dataframe\">\n",
       "  <thead>\n",
       "    <tr style=\"text-align: right;\">\n",
       "      <th></th>\n",
       "      <th>eventname</th>\n",
       "      <th>deviceidhash</th>\n",
       "      <th>datetime</th>\n",
       "      <th>expid</th>\n",
       "      <th>date</th>\n",
       "      <th>time</th>\n",
       "    </tr>\n",
       "  </thead>\n",
       "  <tbody>\n",
       "    <tr>\n",
       "      <th>2826</th>\n",
       "      <td>tutorial</td>\n",
       "      <td>3737462046622621720</td>\n",
       "      <td>2019-08-01 00:07:28</td>\n",
       "      <td>246</td>\n",
       "      <td>2019-08-01</td>\n",
       "      <td>00:07:28</td>\n",
       "    </tr>\n",
       "    <tr>\n",
       "      <th>2827</th>\n",
       "      <td>mainscreenappear</td>\n",
       "      <td>3737462046622621720</td>\n",
       "      <td>2019-08-01 00:08:00</td>\n",
       "      <td>246</td>\n",
       "      <td>2019-08-01</td>\n",
       "      <td>00:08:00</td>\n",
       "    </tr>\n",
       "    <tr>\n",
       "      <th>2828</th>\n",
       "      <td>mainscreenappear</td>\n",
       "      <td>3737462046622621720</td>\n",
       "      <td>2019-08-01 00:08:55</td>\n",
       "      <td>246</td>\n",
       "      <td>2019-08-01</td>\n",
       "      <td>00:08:55</td>\n",
       "    </tr>\n",
       "    <tr>\n",
       "      <th>2829</th>\n",
       "      <td>offersscreenappear</td>\n",
       "      <td>3737462046622621720</td>\n",
       "      <td>2019-08-01 00:08:58</td>\n",
       "      <td>246</td>\n",
       "      <td>2019-08-01</td>\n",
       "      <td>00:08:58</td>\n",
       "    </tr>\n",
       "    <tr>\n",
       "      <th>2830</th>\n",
       "      <td>mainscreenappear</td>\n",
       "      <td>1433840883824088890</td>\n",
       "      <td>2019-08-01 00:08:59</td>\n",
       "      <td>247</td>\n",
       "      <td>2019-08-01</td>\n",
       "      <td>00:08:59</td>\n",
       "    </tr>\n",
       "    <tr>\n",
       "      <th>...</th>\n",
       "      <td>...</td>\n",
       "      <td>...</td>\n",
       "      <td>...</td>\n",
       "      <td>...</td>\n",
       "      <td>...</td>\n",
       "      <td>...</td>\n",
       "    </tr>\n",
       "    <tr>\n",
       "      <th>243708</th>\n",
       "      <td>mainscreenappear</td>\n",
       "      <td>4599628364049201812</td>\n",
       "      <td>2019-08-07 21:12:25</td>\n",
       "      <td>247</td>\n",
       "      <td>2019-08-07</td>\n",
       "      <td>21:12:25</td>\n",
       "    </tr>\n",
       "    <tr>\n",
       "      <th>243709</th>\n",
       "      <td>mainscreenappear</td>\n",
       "      <td>5849806612437486590</td>\n",
       "      <td>2019-08-07 21:13:59</td>\n",
       "      <td>246</td>\n",
       "      <td>2019-08-07</td>\n",
       "      <td>21:13:59</td>\n",
       "    </tr>\n",
       "    <tr>\n",
       "      <th>243710</th>\n",
       "      <td>mainscreenappear</td>\n",
       "      <td>5746969938801999050</td>\n",
       "      <td>2019-08-07 21:14:43</td>\n",
       "      <td>246</td>\n",
       "      <td>2019-08-07</td>\n",
       "      <td>21:14:43</td>\n",
       "    </tr>\n",
       "    <tr>\n",
       "      <th>243711</th>\n",
       "      <td>mainscreenappear</td>\n",
       "      <td>5746969938801999050</td>\n",
       "      <td>2019-08-07 21:14:58</td>\n",
       "      <td>246</td>\n",
       "      <td>2019-08-07</td>\n",
       "      <td>21:14:58</td>\n",
       "    </tr>\n",
       "    <tr>\n",
       "      <th>243712</th>\n",
       "      <td>offersscreenappear</td>\n",
       "      <td>5746969938801999050</td>\n",
       "      <td>2019-08-07 21:15:17</td>\n",
       "      <td>246</td>\n",
       "      <td>2019-08-07</td>\n",
       "      <td>21:15:17</td>\n",
       "    </tr>\n",
       "  </tbody>\n",
       "</table>\n",
       "<p>240887 rows × 6 columns</p>\n",
       "</div>"
      ],
      "text/plain": [
       "                 eventname         deviceidhash            datetime  expid        date      time\n",
       "2826              tutorial  3737462046622621720 2019-08-01 00:07:28    246  2019-08-01  00:07:28\n",
       "2827      mainscreenappear  3737462046622621720 2019-08-01 00:08:00    246  2019-08-01  00:08:00\n",
       "2828      mainscreenappear  3737462046622621720 2019-08-01 00:08:55    246  2019-08-01  00:08:55\n",
       "2829    offersscreenappear  3737462046622621720 2019-08-01 00:08:58    246  2019-08-01  00:08:58\n",
       "2830      mainscreenappear  1433840883824088890 2019-08-01 00:08:59    247  2019-08-01  00:08:59\n",
       "...                    ...                  ...                 ...    ...         ...       ...\n",
       "243708    mainscreenappear  4599628364049201812 2019-08-07 21:12:25    247  2019-08-07  21:12:25\n",
       "243709    mainscreenappear  5849806612437486590 2019-08-07 21:13:59    246  2019-08-07  21:13:59\n",
       "243710    mainscreenappear  5746969938801999050 2019-08-07 21:14:43    246  2019-08-07  21:14:43\n",
       "243711    mainscreenappear  5746969938801999050 2019-08-07 21:14:58    246  2019-08-07  21:14:58\n",
       "243712  offersscreenappear  5746969938801999050 2019-08-07 21:15:17    246  2019-08-07  21:15:17\n",
       "\n",
       "[240887 rows x 6 columns]"
      ]
     },
     "execution_count": 40,
     "metadata": {},
     "output_type": "execute_result"
    }
   ],
   "source": [
    "df_fs"
   ]
  },
  {
   "cell_type": "code",
   "execution_count": 41,
   "id": "75140038",
   "metadata": {},
   "outputs": [
    {
     "data": {
      "application/vnd.microsoft.datawrangler.viewer.v0+json": {
       "columns": [
        {
         "name": "index",
         "rawType": "int64",
         "type": "integer"
        },
        {
         "name": "group",
         "rawType": "int64",
         "type": "integer"
        },
        {
         "name": "users",
         "rawType": "int64",
         "type": "integer"
        }
       ],
       "ref": "022bf88e-5ef9-4013-9ec0-13c2a1c681eb",
       "rows": [
        [
         "0",
         "246",
         "2484"
        ],
        [
         "1",
         "247",
         "2513"
        ],
        [
         "2",
         "248",
         "2537"
        ]
       ],
       "shape": {
        "columns": 2,
        "rows": 3
       }
      },
      "text/html": [
       "<div>\n",
       "<style scoped>\n",
       "    .dataframe tbody tr th:only-of-type {\n",
       "        vertical-align: middle;\n",
       "    }\n",
       "\n",
       "    .dataframe tbody tr th {\n",
       "        vertical-align: top;\n",
       "    }\n",
       "\n",
       "    .dataframe thead th {\n",
       "        text-align: right;\n",
       "    }\n",
       "</style>\n",
       "<table border=\"1\" class=\"dataframe\">\n",
       "  <thead>\n",
       "    <tr style=\"text-align: right;\">\n",
       "      <th></th>\n",
       "      <th>group</th>\n",
       "      <th>users</th>\n",
       "    </tr>\n",
       "  </thead>\n",
       "  <tbody>\n",
       "    <tr>\n",
       "      <th>0</th>\n",
       "      <td>246</td>\n",
       "      <td>2484</td>\n",
       "    </tr>\n",
       "    <tr>\n",
       "      <th>1</th>\n",
       "      <td>247</td>\n",
       "      <td>2513</td>\n",
       "    </tr>\n",
       "    <tr>\n",
       "      <th>2</th>\n",
       "      <td>248</td>\n",
       "      <td>2537</td>\n",
       "    </tr>\n",
       "  </tbody>\n",
       "</table>\n",
       "</div>"
      ],
      "text/plain": [
       "   group  users\n",
       "0    246   2484\n",
       "1    247   2513\n",
       "2    248   2537"
      ]
     },
     "execution_count": 41,
     "metadata": {},
     "output_type": "execute_result"
    }
   ],
   "source": [
    "# Amount of users are in each group\n",
    "df_fs_users_group = df_fs.groupby('expid')['deviceidhash'].nunique().reset_index()\n",
    "df_fs_users_group = df_fs_users_group.rename(columns={'expid': 'group', 'deviceidhash': 'users'})\n",
    "df_fs_users_group"
   ]
  },
  {
   "cell_type": "markdown",
   "id": "2d5eb7ee",
   "metadata": {},
   "source": [
    "#### 7.1.1  A/A Control groups Analysis\n",
    "\n",
    "Hypothesis(0): Control group A1 (246) and control group A2 (247) there is no statistical significant difference.   \n",
    "Hypothesis(1): Control group A1 (246) and control group A2 (247) there is statistical significant difference."
   ]
  },
  {
   "cell_type": "code",
   "execution_count": 42,
   "id": "7e1d2862",
   "metadata": {},
   "outputs": [
    {
     "data": {
      "application/vnd.microsoft.datawrangler.viewer.v0+json": {
       "columns": [
        {
         "name": "index",
         "rawType": "int64",
         "type": "integer"
        },
        {
         "name": "eventname",
         "rawType": "category",
         "type": "unknown"
        },
        {
         "name": "events",
         "rawType": "int64",
         "type": "integer"
        }
       ],
       "ref": "578d7fea-ebaa-4757-a644-1abc91965033",
       "rows": [
        [
         "0",
         "mainscreenappear",
         "117328"
        ],
        [
         "1",
         "offersscreenappear",
         "46333"
        ],
        [
         "2",
         "cartscreenappear",
         "42303"
        ],
        [
         "3",
         "paymentscreensuccessful",
         "33918"
        ],
        [
         "4",
         "tutorial",
         "1005"
        ]
       ],
       "shape": {
        "columns": 2,
        "rows": 5
       }
      },
      "text/html": [
       "<div>\n",
       "<style scoped>\n",
       "    .dataframe tbody tr th:only-of-type {\n",
       "        vertical-align: middle;\n",
       "    }\n",
       "\n",
       "    .dataframe tbody tr th {\n",
       "        vertical-align: top;\n",
       "    }\n",
       "\n",
       "    .dataframe thead th {\n",
       "        text-align: right;\n",
       "    }\n",
       "</style>\n",
       "<table border=\"1\" class=\"dataframe\">\n",
       "  <thead>\n",
       "    <tr style=\"text-align: right;\">\n",
       "      <th></th>\n",
       "      <th>eventname</th>\n",
       "      <th>events</th>\n",
       "    </tr>\n",
       "  </thead>\n",
       "  <tbody>\n",
       "    <tr>\n",
       "      <th>0</th>\n",
       "      <td>mainscreenappear</td>\n",
       "      <td>117328</td>\n",
       "    </tr>\n",
       "    <tr>\n",
       "      <th>1</th>\n",
       "      <td>offersscreenappear</td>\n",
       "      <td>46333</td>\n",
       "    </tr>\n",
       "    <tr>\n",
       "      <th>2</th>\n",
       "      <td>cartscreenappear</td>\n",
       "      <td>42303</td>\n",
       "    </tr>\n",
       "    <tr>\n",
       "      <th>3</th>\n",
       "      <td>paymentscreensuccessful</td>\n",
       "      <td>33918</td>\n",
       "    </tr>\n",
       "    <tr>\n",
       "      <th>4</th>\n",
       "      <td>tutorial</td>\n",
       "      <td>1005</td>\n",
       "    </tr>\n",
       "  </tbody>\n",
       "</table>\n",
       "</div>"
      ],
      "text/plain": [
       "                 eventname  events\n",
       "0         mainscreenappear  117328\n",
       "1       offersscreenappear   46333\n",
       "2         cartscreenappear   42303\n",
       "3  paymentscreensuccessful   33918\n",
       "4                 tutorial    1005"
      ]
     },
     "execution_count": 42,
     "metadata": {},
     "output_type": "execute_result"
    }
   ],
   "source": [
    "# Select the most popular event. For each of the control groups, determine the number of users who performed this action. Calculate the percentage.\n",
    "events = df_fs['eventname'].value_counts()\n",
    "events.name = 'events'\n",
    "events = events.reset_index()\n",
    "events"
   ]
  },
  {
   "cell_type": "code",
   "execution_count": 43,
   "id": "bb9cee9b",
   "metadata": {},
   "outputs": [
    {
     "data": {
      "text/plain": [
       "'mainscreenappear'"
      ]
     },
     "execution_count": 43,
     "metadata": {},
     "output_type": "execute_result"
    }
   ],
   "source": [
    "popular_event = df_fs['eventname'].mode()[0]\n",
    "popular_event"
   ]
  },
  {
   "cell_type": "code",
   "execution_count": 44,
   "id": "29be7395",
   "metadata": {},
   "outputs": [
    {
     "data": {
      "application/vnd.microsoft.datawrangler.viewer.v0+json": {
       "columns": [
        {
         "name": "index",
         "rawType": "int64",
         "type": "integer"
        },
        {
         "name": "group",
         "rawType": "int64",
         "type": "integer"
        },
        {
         "name": "total_users",
         "rawType": "int64",
         "type": "integer"
        }
       ],
       "ref": "762ae467-7fe6-4736-a6ac-60ee0b463517",
       "rows": [
        [
         "0",
         "246",
         "2484"
        ],
        [
         "1",
         "247",
         "2513"
        ],
        [
         "2",
         "248",
         "2537"
        ]
       ],
       "shape": {
        "columns": 2,
        "rows": 3
       }
      },
      "text/html": [
       "<div>\n",
       "<style scoped>\n",
       "    .dataframe tbody tr th:only-of-type {\n",
       "        vertical-align: middle;\n",
       "    }\n",
       "\n",
       "    .dataframe tbody tr th {\n",
       "        vertical-align: top;\n",
       "    }\n",
       "\n",
       "    .dataframe thead th {\n",
       "        text-align: right;\n",
       "    }\n",
       "</style>\n",
       "<table border=\"1\" class=\"dataframe\">\n",
       "  <thead>\n",
       "    <tr style=\"text-align: right;\">\n",
       "      <th></th>\n",
       "      <th>group</th>\n",
       "      <th>total_users</th>\n",
       "    </tr>\n",
       "  </thead>\n",
       "  <tbody>\n",
       "    <tr>\n",
       "      <th>0</th>\n",
       "      <td>246</td>\n",
       "      <td>2484</td>\n",
       "    </tr>\n",
       "    <tr>\n",
       "      <th>1</th>\n",
       "      <td>247</td>\n",
       "      <td>2513</td>\n",
       "    </tr>\n",
       "    <tr>\n",
       "      <th>2</th>\n",
       "      <td>248</td>\n",
       "      <td>2537</td>\n",
       "    </tr>\n",
       "  </tbody>\n",
       "</table>\n",
       "</div>"
      ],
      "text/plain": [
       "   group  total_users\n",
       "0    246         2484\n",
       "1    247         2513\n",
       "2    248         2537"
      ]
     },
     "execution_count": 44,
     "metadata": {},
     "output_type": "execute_result"
    }
   ],
   "source": [
    "total_users_group = df_fs.groupby('expid')['deviceidhash'].nunique().reset_index()\n",
    "total_users_group.columns = ['group', 'total_users']\n",
    "total_users_group"
   ]
  },
  {
   "cell_type": "code",
   "execution_count": 46,
   "id": "491ae7a4",
   "metadata": {},
   "outputs": [
    {
     "data": {
      "application/vnd.microsoft.datawrangler.viewer.v0+json": {
       "columns": [
        {
         "name": "index",
         "rawType": "int64",
         "type": "integer"
        },
        {
         "name": "group",
         "rawType": "int64",
         "type": "integer"
        },
        {
         "name": "eventname",
         "rawType": "category",
         "type": "unknown"
        },
        {
         "name": "event_users",
         "rawType": "int64",
         "type": "integer"
        }
       ],
       "ref": "67a1031c-9e64-46bf-ba5c-1ff56908cfa9",
       "rows": [
        [
         "0",
         "246",
         "cartscreenappear",
         "1266"
        ],
        [
         "1",
         "246",
         "mainscreenappear",
         "2450"
        ],
        [
         "2",
         "246",
         "offersscreenappear",
         "1542"
        ],
        [
         "3",
         "246",
         "paymentscreensuccessful",
         "1200"
        ],
        [
         "4",
         "246",
         "tutorial",
         "278"
        ],
        [
         "5",
         "247",
         "cartscreenappear",
         "1238"
        ],
        [
         "6",
         "247",
         "mainscreenappear",
         "2476"
        ],
        [
         "7",
         "247",
         "offersscreenappear",
         "1520"
        ],
        [
         "8",
         "247",
         "paymentscreensuccessful",
         "1158"
        ],
        [
         "9",
         "247",
         "tutorial",
         "283"
        ],
        [
         "10",
         "248",
         "cartscreenappear",
         "1230"
        ],
        [
         "11",
         "248",
         "mainscreenappear",
         "2493"
        ],
        [
         "12",
         "248",
         "offersscreenappear",
         "1531"
        ],
        [
         "13",
         "248",
         "paymentscreensuccessful",
         "1181"
        ],
        [
         "14",
         "248",
         "tutorial",
         "279"
        ]
       ],
       "shape": {
        "columns": 3,
        "rows": 15
       }
      },
      "text/html": [
       "<div>\n",
       "<style scoped>\n",
       "    .dataframe tbody tr th:only-of-type {\n",
       "        vertical-align: middle;\n",
       "    }\n",
       "\n",
       "    .dataframe tbody tr th {\n",
       "        vertical-align: top;\n",
       "    }\n",
       "\n",
       "    .dataframe thead th {\n",
       "        text-align: right;\n",
       "    }\n",
       "</style>\n",
       "<table border=\"1\" class=\"dataframe\">\n",
       "  <thead>\n",
       "    <tr style=\"text-align: right;\">\n",
       "      <th></th>\n",
       "      <th>group</th>\n",
       "      <th>eventname</th>\n",
       "      <th>event_users</th>\n",
       "    </tr>\n",
       "  </thead>\n",
       "  <tbody>\n",
       "    <tr>\n",
       "      <th>0</th>\n",
       "      <td>246</td>\n",
       "      <td>cartscreenappear</td>\n",
       "      <td>1266</td>\n",
       "    </tr>\n",
       "    <tr>\n",
       "      <th>1</th>\n",
       "      <td>246</td>\n",
       "      <td>mainscreenappear</td>\n",
       "      <td>2450</td>\n",
       "    </tr>\n",
       "    <tr>\n",
       "      <th>2</th>\n",
       "      <td>246</td>\n",
       "      <td>offersscreenappear</td>\n",
       "      <td>1542</td>\n",
       "    </tr>\n",
       "    <tr>\n",
       "      <th>3</th>\n",
       "      <td>246</td>\n",
       "      <td>paymentscreensuccessful</td>\n",
       "      <td>1200</td>\n",
       "    </tr>\n",
       "    <tr>\n",
       "      <th>4</th>\n",
       "      <td>246</td>\n",
       "      <td>tutorial</td>\n",
       "      <td>278</td>\n",
       "    </tr>\n",
       "    <tr>\n",
       "      <th>5</th>\n",
       "      <td>247</td>\n",
       "      <td>cartscreenappear</td>\n",
       "      <td>1238</td>\n",
       "    </tr>\n",
       "    <tr>\n",
       "      <th>6</th>\n",
       "      <td>247</td>\n",
       "      <td>mainscreenappear</td>\n",
       "      <td>2476</td>\n",
       "    </tr>\n",
       "    <tr>\n",
       "      <th>7</th>\n",
       "      <td>247</td>\n",
       "      <td>offersscreenappear</td>\n",
       "      <td>1520</td>\n",
       "    </tr>\n",
       "    <tr>\n",
       "      <th>8</th>\n",
       "      <td>247</td>\n",
       "      <td>paymentscreensuccessful</td>\n",
       "      <td>1158</td>\n",
       "    </tr>\n",
       "    <tr>\n",
       "      <th>9</th>\n",
       "      <td>247</td>\n",
       "      <td>tutorial</td>\n",
       "      <td>283</td>\n",
       "    </tr>\n",
       "    <tr>\n",
       "      <th>10</th>\n",
       "      <td>248</td>\n",
       "      <td>cartscreenappear</td>\n",
       "      <td>1230</td>\n",
       "    </tr>\n",
       "    <tr>\n",
       "      <th>11</th>\n",
       "      <td>248</td>\n",
       "      <td>mainscreenappear</td>\n",
       "      <td>2493</td>\n",
       "    </tr>\n",
       "    <tr>\n",
       "      <th>12</th>\n",
       "      <td>248</td>\n",
       "      <td>offersscreenappear</td>\n",
       "      <td>1531</td>\n",
       "    </tr>\n",
       "    <tr>\n",
       "      <th>13</th>\n",
       "      <td>248</td>\n",
       "      <td>paymentscreensuccessful</td>\n",
       "      <td>1181</td>\n",
       "    </tr>\n",
       "    <tr>\n",
       "      <th>14</th>\n",
       "      <td>248</td>\n",
       "      <td>tutorial</td>\n",
       "      <td>279</td>\n",
       "    </tr>\n",
       "  </tbody>\n",
       "</table>\n",
       "</div>"
      ],
      "text/plain": [
       "    group                eventname  event_users\n",
       "0     246         cartscreenappear         1266\n",
       "1     246         mainscreenappear         2450\n",
       "2     246       offersscreenappear         1542\n",
       "3     246  paymentscreensuccessful         1200\n",
       "4     246                 tutorial          278\n",
       "5     247         cartscreenappear         1238\n",
       "6     247         mainscreenappear         2476\n",
       "7     247       offersscreenappear         1520\n",
       "8     247  paymentscreensuccessful         1158\n",
       "9     247                 tutorial          283\n",
       "10    248         cartscreenappear         1230\n",
       "11    248         mainscreenappear         2493\n",
       "12    248       offersscreenappear         1531\n",
       "13    248  paymentscreensuccessful         1181\n",
       "14    248                 tutorial          279"
      ]
     },
     "execution_count": 46,
     "metadata": {},
     "output_type": "execute_result"
    }
   ],
   "source": [
    "event_users_group = df_fs.groupby(['expid', 'eventname'], observed=False)['deviceidhash'].nunique().reset_index()\n",
    "event_users_group.columns = ['group', 'eventname', 'event_users']\n",
    "event_users_group"
   ]
  },
  {
   "cell_type": "code",
   "execution_count": 47,
   "id": "87a7e4ba",
   "metadata": {},
   "outputs": [
    {
     "data": {
      "application/vnd.microsoft.datawrangler.viewer.v0+json": {
       "columns": [
        {
         "name": "index",
         "rawType": "int64",
         "type": "integer"
        },
        {
         "name": "group",
         "rawType": "int64",
         "type": "integer"
        },
        {
         "name": "eventname",
         "rawType": "category",
         "type": "unknown"
        },
        {
         "name": "event_users",
         "rawType": "int64",
         "type": "integer"
        },
        {
         "name": "total_users",
         "rawType": "int64",
         "type": "integer"
        },
        {
         "name": "eventrate",
         "rawType": "float64",
         "type": "float"
        }
       ],
       "ref": "edc79899-eaf9-47e2-9a05-098451e5e690",
       "rows": [
        [
         "0",
         "246",
         "cartscreenappear",
         "1266",
         "2484",
         "50.966"
        ],
        [
         "1",
         "246",
         "mainscreenappear",
         "2450",
         "2484",
         "98.631"
        ],
        [
         "2",
         "246",
         "offersscreenappear",
         "1542",
         "2484",
         "62.077"
        ],
        [
         "3",
         "246",
         "paymentscreensuccessful",
         "1200",
         "2484",
         "48.309"
        ],
        [
         "4",
         "246",
         "tutorial",
         "278",
         "2484",
         "11.192"
        ],
        [
         "5",
         "247",
         "cartscreenappear",
         "1238",
         "2513",
         "49.264"
        ],
        [
         "6",
         "247",
         "mainscreenappear",
         "2476",
         "2513",
         "98.528"
        ],
        [
         "7",
         "247",
         "offersscreenappear",
         "1520",
         "2513",
         "60.485"
        ],
        [
         "8",
         "247",
         "paymentscreensuccessful",
         "1158",
         "2513",
         "46.08"
        ],
        [
         "9",
         "247",
         "tutorial",
         "283",
         "2513",
         "11.261"
        ],
        [
         "10",
         "248",
         "cartscreenappear",
         "1230",
         "2537",
         "48.482"
        ],
        [
         "11",
         "248",
         "mainscreenappear",
         "2493",
         "2537",
         "98.266"
        ],
        [
         "12",
         "248",
         "offersscreenappear",
         "1531",
         "2537",
         "60.347"
        ],
        [
         "13",
         "248",
         "paymentscreensuccessful",
         "1181",
         "2537",
         "46.551"
        ],
        [
         "14",
         "248",
         "tutorial",
         "279",
         "2537",
         "10.997"
        ]
       ],
       "shape": {
        "columns": 5,
        "rows": 15
       }
      },
      "text/html": [
       "<div>\n",
       "<style scoped>\n",
       "    .dataframe tbody tr th:only-of-type {\n",
       "        vertical-align: middle;\n",
       "    }\n",
       "\n",
       "    .dataframe tbody tr th {\n",
       "        vertical-align: top;\n",
       "    }\n",
       "\n",
       "    .dataframe thead th {\n",
       "        text-align: right;\n",
       "    }\n",
       "</style>\n",
       "<table border=\"1\" class=\"dataframe\">\n",
       "  <thead>\n",
       "    <tr style=\"text-align: right;\">\n",
       "      <th></th>\n",
       "      <th>group</th>\n",
       "      <th>eventname</th>\n",
       "      <th>event_users</th>\n",
       "      <th>total_users</th>\n",
       "      <th>eventrate</th>\n",
       "    </tr>\n",
       "  </thead>\n",
       "  <tbody>\n",
       "    <tr>\n",
       "      <th>0</th>\n",
       "      <td>246</td>\n",
       "      <td>cartscreenappear</td>\n",
       "      <td>1266</td>\n",
       "      <td>2484</td>\n",
       "      <td>50.966</td>\n",
       "    </tr>\n",
       "    <tr>\n",
       "      <th>1</th>\n",
       "      <td>246</td>\n",
       "      <td>mainscreenappear</td>\n",
       "      <td>2450</td>\n",
       "      <td>2484</td>\n",
       "      <td>98.631</td>\n",
       "    </tr>\n",
       "    <tr>\n",
       "      <th>2</th>\n",
       "      <td>246</td>\n",
       "      <td>offersscreenappear</td>\n",
       "      <td>1542</td>\n",
       "      <td>2484</td>\n",
       "      <td>62.077</td>\n",
       "    </tr>\n",
       "    <tr>\n",
       "      <th>3</th>\n",
       "      <td>246</td>\n",
       "      <td>paymentscreensuccessful</td>\n",
       "      <td>1200</td>\n",
       "      <td>2484</td>\n",
       "      <td>48.309</td>\n",
       "    </tr>\n",
       "    <tr>\n",
       "      <th>4</th>\n",
       "      <td>246</td>\n",
       "      <td>tutorial</td>\n",
       "      <td>278</td>\n",
       "      <td>2484</td>\n",
       "      <td>11.192</td>\n",
       "    </tr>\n",
       "    <tr>\n",
       "      <th>5</th>\n",
       "      <td>247</td>\n",
       "      <td>cartscreenappear</td>\n",
       "      <td>1238</td>\n",
       "      <td>2513</td>\n",
       "      <td>49.264</td>\n",
       "    </tr>\n",
       "    <tr>\n",
       "      <th>6</th>\n",
       "      <td>247</td>\n",
       "      <td>mainscreenappear</td>\n",
       "      <td>2476</td>\n",
       "      <td>2513</td>\n",
       "      <td>98.528</td>\n",
       "    </tr>\n",
       "    <tr>\n",
       "      <th>7</th>\n",
       "      <td>247</td>\n",
       "      <td>offersscreenappear</td>\n",
       "      <td>1520</td>\n",
       "      <td>2513</td>\n",
       "      <td>60.485</td>\n",
       "    </tr>\n",
       "    <tr>\n",
       "      <th>8</th>\n",
       "      <td>247</td>\n",
       "      <td>paymentscreensuccessful</td>\n",
       "      <td>1158</td>\n",
       "      <td>2513</td>\n",
       "      <td>46.080</td>\n",
       "    </tr>\n",
       "    <tr>\n",
       "      <th>9</th>\n",
       "      <td>247</td>\n",
       "      <td>tutorial</td>\n",
       "      <td>283</td>\n",
       "      <td>2513</td>\n",
       "      <td>11.261</td>\n",
       "    </tr>\n",
       "    <tr>\n",
       "      <th>10</th>\n",
       "      <td>248</td>\n",
       "      <td>cartscreenappear</td>\n",
       "      <td>1230</td>\n",
       "      <td>2537</td>\n",
       "      <td>48.482</td>\n",
       "    </tr>\n",
       "    <tr>\n",
       "      <th>11</th>\n",
       "      <td>248</td>\n",
       "      <td>mainscreenappear</td>\n",
       "      <td>2493</td>\n",
       "      <td>2537</td>\n",
       "      <td>98.266</td>\n",
       "    </tr>\n",
       "    <tr>\n",
       "      <th>12</th>\n",
       "      <td>248</td>\n",
       "      <td>offersscreenappear</td>\n",
       "      <td>1531</td>\n",
       "      <td>2537</td>\n",
       "      <td>60.347</td>\n",
       "    </tr>\n",
       "    <tr>\n",
       "      <th>13</th>\n",
       "      <td>248</td>\n",
       "      <td>paymentscreensuccessful</td>\n",
       "      <td>1181</td>\n",
       "      <td>2537</td>\n",
       "      <td>46.551</td>\n",
       "    </tr>\n",
       "    <tr>\n",
       "      <th>14</th>\n",
       "      <td>248</td>\n",
       "      <td>tutorial</td>\n",
       "      <td>279</td>\n",
       "      <td>2537</td>\n",
       "      <td>10.997</td>\n",
       "    </tr>\n",
       "  </tbody>\n",
       "</table>\n",
       "</div>"
      ],
      "text/plain": [
       "    group                eventname  event_users  total_users  eventrate\n",
       "0     246         cartscreenappear         1266         2484     50.966\n",
       "1     246         mainscreenappear         2450         2484     98.631\n",
       "2     246       offersscreenappear         1542         2484     62.077\n",
       "3     246  paymentscreensuccessful         1200         2484     48.309\n",
       "4     246                 tutorial          278         2484     11.192\n",
       "5     247         cartscreenappear         1238         2513     49.264\n",
       "6     247         mainscreenappear         2476         2513     98.528\n",
       "7     247       offersscreenappear         1520         2513     60.485\n",
       "8     247  paymentscreensuccessful         1158         2513     46.080\n",
       "9     247                 tutorial          283         2513     11.261\n",
       "10    248         cartscreenappear         1230         2537     48.482\n",
       "11    248         mainscreenappear         2493         2537     98.266\n",
       "12    248       offersscreenappear         1531         2537     60.347\n",
       "13    248  paymentscreensuccessful         1181         2537     46.551\n",
       "14    248                 tutorial          279         2537     10.997"
      ]
     },
     "execution_count": 47,
     "metadata": {},
     "output_type": "execute_result"
    }
   ],
   "source": [
    "df_event_group = event_users_group.merge(total_users_group, on='group')\n",
    "df_event_group['eventrate'] = (df_event_group['event_users'] / df_event_group['total_users'] * 100).round(3)\n",
    "df_event_group"
   ]
  },
  {
   "cell_type": "code",
   "execution_count": 48,
   "id": "bbad9842",
   "metadata": {},
   "outputs": [],
   "source": [
    "# α = 0.5\n",
    "def control_groups_proportions_statistical_difference(df):\n",
    "    \n",
    "    events = df['eventname'].unique()\n",
    "    \n",
    "    for event in events:\n",
    "        \n",
    "        actions_event = np.array([df_event_group.loc[(df_event_group['eventname'] == event) & (df_event_group['group'] == 246), 'event_users'],\n",
    "                                  df_event_group.loc[(df_event_group['eventname'] == event) & (df_event_group['group'] == 247), 'event_users']])\n",
    "        \n",
    "        events_event = np.array([df_event_group.loc[(df_event_group['eventname'] == event) & (df_event_group['group'] == 246), 'total_users'],\n",
    "                                 df_event_group.loc[(df_event_group['eventname'] == event) & (df_event_group['group'] == 247), 'total_users']])\n",
    "        \n",
    "        display(HTML(f\"> Event: <b>{event.upper()}</b>\"))\n",
    "        \n",
    "        stats, p_value = proportions_ztest(actions_event, events_event, alternative=\"two-sided\")\n",
    "        display(HTML(f\"> Z-statistic: {stats}\"))\n",
    "        display(HTML(f\"> p-value: {p_value}\"))\n",
    "        \n",
    "        if p_value <= 0.05:\n",
    "            display(HTML(f\"> Null Hypothesis (<i>H₀</i>) is <b>rejected</b>, meaning there is enough statistical evidence that <b>conversion rate</b> between Group A1 (246) and Group A2 (247) are <b>different</b>.\"))\n",
    "        else:\n",
    "            display(HTML(f\"> Null Hypothesis (<i>H₀</i>) is <b>not rejected</b>, meaning there is not enough statistical evidence that <b>conversion rate</b> between Group A1 (246) and Group A2 (247) are different.\"))\n",
    "        \n",
    "        print()\n",
    " "
   ]
  },
  {
   "cell_type": "code",
   "execution_count": 49,
   "id": "c8a92193",
   "metadata": {},
   "outputs": [
    {
     "data": {
      "text/html": [
       "> Event: <b>CARTSCREENAPPEAR</b>"
      ],
      "text/plain": [
       "<IPython.core.display.HTML object>"
      ]
     },
     "metadata": {},
     "output_type": "display_data"
    },
    {
     "data": {
      "text/html": [
       "> Z-statistic: [1.20336858]"
      ],
      "text/plain": [
       "<IPython.core.display.HTML object>"
      ]
     },
     "metadata": {},
     "output_type": "display_data"
    },
    {
     "data": {
      "text/html": [
       "> p-value: [0.22883372]"
      ],
      "text/plain": [
       "<IPython.core.display.HTML object>"
      ]
     },
     "metadata": {},
     "output_type": "display_data"
    },
    {
     "data": {
      "text/html": [
       "> Null Hypothesis (<i>H₀</i>) is <b>not rejected</b>, meaning there is not enough statistical evidence that <b>conversion rate</b> between Group A1 (246) and Group A2 (247) are different."
      ],
      "text/plain": [
       "<IPython.core.display.HTML object>"
      ]
     },
     "metadata": {},
     "output_type": "display_data"
    },
    {
     "name": "stdout",
     "output_type": "stream",
     "text": [
      "\n"
     ]
    },
    {
     "data": {
      "text/html": [
       "> Event: <b>MAINSCREENAPPEAR</b>"
      ],
      "text/plain": [
       "<IPython.core.display.HTML object>"
      ]
     },
     "metadata": {},
     "output_type": "display_data"
    },
    {
     "data": {
      "text/html": [
       "> Z-statistic: [0.30934419]"
      ],
      "text/plain": [
       "<IPython.core.display.HTML object>"
      ]
     },
     "metadata": {},
     "output_type": "display_data"
    },
    {
     "data": {
      "text/html": [
       "> p-value: [0.75705972]"
      ],
      "text/plain": [
       "<IPython.core.display.HTML object>"
      ]
     },
     "metadata": {},
     "output_type": "display_data"
    },
    {
     "data": {
      "text/html": [
       "> Null Hypothesis (<i>H₀</i>) is <b>not rejected</b>, meaning there is not enough statistical evidence that <b>conversion rate</b> between Group A1 (246) and Group A2 (247) are different."
      ],
      "text/plain": [
       "<IPython.core.display.HTML object>"
      ]
     },
     "metadata": {},
     "output_type": "display_data"
    },
    {
     "name": "stdout",
     "output_type": "stream",
     "text": [
      "\n"
     ]
    },
    {
     "data": {
      "text/html": [
       "> Event: <b>OFFERSSCREENAPPEAR</b>"
      ],
      "text/plain": [
       "<IPython.core.display.HTML object>"
      ]
     },
     "metadata": {},
     "output_type": "display_data"
    },
    {
     "data": {
      "text/html": [
       "> Z-statistic: [1.15498771]"
      ],
      "text/plain": [
       "<IPython.core.display.HTML object>"
      ]
     },
     "metadata": {},
     "output_type": "display_data"
    },
    {
     "data": {
      "text/html": [
       "> p-value: [0.24809546]"
      ],
      "text/plain": [
       "<IPython.core.display.HTML object>"
      ]
     },
     "metadata": {},
     "output_type": "display_data"
    },
    {
     "data": {
      "text/html": [
       "> Null Hypothesis (<i>H₀</i>) is <b>not rejected</b>, meaning there is not enough statistical evidence that <b>conversion rate</b> between Group A1 (246) and Group A2 (247) are different."
      ],
      "text/plain": [
       "<IPython.core.display.HTML object>"
      ]
     },
     "metadata": {},
     "output_type": "display_data"
    },
    {
     "name": "stdout",
     "output_type": "stream",
     "text": [
      "\n"
     ]
    },
    {
     "data": {
      "text/html": [
       "> Event: <b>PAYMENTSCREENSUCCESSFUL</b>"
      ],
      "text/plain": [
       "<IPython.core.display.HTML object>"
      ]
     },
     "metadata": {},
     "output_type": "display_data"
    },
    {
     "data": {
      "text/html": [
       "> Z-statistic: [1.57799485]"
      ],
      "text/plain": [
       "<IPython.core.display.HTML object>"
      ]
     },
     "metadata": {},
     "output_type": "display_data"
    },
    {
     "data": {
      "text/html": [
       "> p-value: [0.11456679]"
      ],
      "text/plain": [
       "<IPython.core.display.HTML object>"
      ]
     },
     "metadata": {},
     "output_type": "display_data"
    },
    {
     "data": {
      "text/html": [
       "> Null Hypothesis (<i>H₀</i>) is <b>not rejected</b>, meaning there is not enough statistical evidence that <b>conversion rate</b> between Group A1 (246) and Group A2 (247) are different."
      ],
      "text/plain": [
       "<IPython.core.display.HTML object>"
      ]
     },
     "metadata": {},
     "output_type": "display_data"
    },
    {
     "name": "stdout",
     "output_type": "stream",
     "text": [
      "\n"
     ]
    },
    {
     "data": {
      "text/html": [
       "> Event: <b>TUTORIAL</b>"
      ],
      "text/plain": [
       "<IPython.core.display.HTML object>"
      ]
     },
     "metadata": {},
     "output_type": "display_data"
    },
    {
     "data": {
      "text/html": [
       "> Z-statistic: [-0.07816146]"
      ],
      "text/plain": [
       "<IPython.core.display.HTML object>"
      ]
     },
     "metadata": {},
     "output_type": "display_data"
    },
    {
     "data": {
      "text/html": [
       "> p-value: [0.93769962]"
      ],
      "text/plain": [
       "<IPython.core.display.HTML object>"
      ]
     },
     "metadata": {},
     "output_type": "display_data"
    },
    {
     "data": {
      "text/html": [
       "> Null Hypothesis (<i>H₀</i>) is <b>not rejected</b>, meaning there is not enough statistical evidence that <b>conversion rate</b> between Group A1 (246) and Group A2 (247) are different."
      ],
      "text/plain": [
       "<IPython.core.display.HTML object>"
      ]
     },
     "metadata": {},
     "output_type": "display_data"
    },
    {
     "name": "stdout",
     "output_type": "stream",
     "text": [
      "\n"
     ]
    }
   ],
   "source": [
    "control_groups_proportions_statistical_difference(df_event_group)"
   ]
  },
  {
   "cell_type": "code",
   "execution_count": 50,
   "id": "3d92f9ea",
   "metadata": {},
   "outputs": [
    {
     "data": {
      "application/vnd.microsoft.datawrangler.viewer.v0+json": {
       "columns": [
        {
         "name": "eventname",
         "rawType": "category",
         "type": "unknown"
        },
        {
         "name": "246",
         "rawType": "float64",
         "type": "float"
        },
        {
         "name": "247",
         "rawType": "float64",
         "type": "float"
        },
        {
         "name": "248",
         "rawType": "float64",
         "type": "float"
        }
       ],
       "ref": "cea20ea9-429e-4343-80bd-b6928219540e",
       "rows": [
        [
         "cartscreenappear",
         "50.966",
         "49.264",
         "48.482"
        ],
        [
         "mainscreenappear",
         "98.631",
         "98.528",
         "98.266"
        ],
        [
         "offersscreenappear",
         "62.077",
         "60.485",
         "60.347"
        ],
        [
         "paymentscreensuccessful",
         "48.309",
         "46.08",
         "46.551"
        ],
        [
         "tutorial",
         "11.192",
         "11.261",
         "10.997"
        ]
       ],
       "shape": {
        "columns": 3,
        "rows": 5
       }
      },
      "text/html": [
       "<div>\n",
       "<style scoped>\n",
       "    .dataframe tbody tr th:only-of-type {\n",
       "        vertical-align: middle;\n",
       "    }\n",
       "\n",
       "    .dataframe tbody tr th {\n",
       "        vertical-align: top;\n",
       "    }\n",
       "\n",
       "    .dataframe thead th {\n",
       "        text-align: right;\n",
       "    }\n",
       "</style>\n",
       "<table border=\"1\" class=\"dataframe\">\n",
       "  <thead>\n",
       "    <tr style=\"text-align: right;\">\n",
       "      <th>group</th>\n",
       "      <th>246</th>\n",
       "      <th>247</th>\n",
       "      <th>248</th>\n",
       "    </tr>\n",
       "    <tr>\n",
       "      <th>eventname</th>\n",
       "      <th></th>\n",
       "      <th></th>\n",
       "      <th></th>\n",
       "    </tr>\n",
       "  </thead>\n",
       "  <tbody>\n",
       "    <tr>\n",
       "      <th>cartscreenappear</th>\n",
       "      <td>50.966</td>\n",
       "      <td>49.264</td>\n",
       "      <td>48.482</td>\n",
       "    </tr>\n",
       "    <tr>\n",
       "      <th>mainscreenappear</th>\n",
       "      <td>98.631</td>\n",
       "      <td>98.528</td>\n",
       "      <td>98.266</td>\n",
       "    </tr>\n",
       "    <tr>\n",
       "      <th>offersscreenappear</th>\n",
       "      <td>62.077</td>\n",
       "      <td>60.485</td>\n",
       "      <td>60.347</td>\n",
       "    </tr>\n",
       "    <tr>\n",
       "      <th>paymentscreensuccessful</th>\n",
       "      <td>48.309</td>\n",
       "      <td>46.080</td>\n",
       "      <td>46.551</td>\n",
       "    </tr>\n",
       "    <tr>\n",
       "      <th>tutorial</th>\n",
       "      <td>11.192</td>\n",
       "      <td>11.261</td>\n",
       "      <td>10.997</td>\n",
       "    </tr>\n",
       "  </tbody>\n",
       "</table>\n",
       "</div>"
      ],
      "text/plain": [
       "group                       246     247     248\n",
       "eventname                                      \n",
       "cartscreenappear         50.966  49.264  48.482\n",
       "mainscreenappear         98.631  98.528  98.266\n",
       "offersscreenappear       62.077  60.485  60.347\n",
       "paymentscreensuccessful  48.309  46.080  46.551\n",
       "tutorial                 11.192  11.261  10.997"
      ]
     },
     "execution_count": 50,
     "metadata": {},
     "output_type": "execute_result"
    }
   ],
   "source": [
    "# Confirm that the groups were divided correctly\n",
    "pivot_rates = df_event_group.pivot(index='eventname', columns='group', values='eventrate')\n",
    "pivot_rates"
   ]
  },
  {
   "cell_type": "markdown",
   "id": "7d241464",
   "metadata": {},
   "source": [
    "#### 7.1.2  A1/B Control-Test groups Analysis\n",
    "\n",
    "Hypothesis(0): Control group A1 (246) and test group B (248) there is no statistical significant difference.   \n",
    "Hypothesis(1): Control group A1 (246) and test group B (248) there is statistical significant difference."
   ]
  },
  {
   "cell_type": "code",
   "execution_count": 51,
   "id": "e942cbe9",
   "metadata": {},
   "outputs": [],
   "source": [
    "def control_A1_test_proportions_statistical_difference(df):\n",
    "    \n",
    "    events = df['eventname'].unique()\n",
    "    \n",
    "    for event in events:\n",
    "        \n",
    "        actions_event = np.array([df_event_group.loc[(df_event_group['eventname'] == event) & (df_event_group['group'] == 246), 'event_users'],\n",
    "                                  df_event_group.loc[(df_event_group['eventname'] == event) & (df_event_group['group'] == 248), 'event_users']])\n",
    "        \n",
    "        events_event = np.array([df_event_group.loc[(df_event_group['eventname'] == event) & (df_event_group['group'] == 246), 'total_users'],\n",
    "                                 df_event_group.loc[(df_event_group['eventname'] == event) & (df_event_group['group'] == 248), 'total_users']])\n",
    "        \n",
    "        display(HTML(f\"> Event: <b>{event.upper()}</b>\"))\n",
    "        \n",
    "        stats, p_value = proportions_ztest(actions_event, events_event, alternative=\"two-sided\")\n",
    "        display(HTML(f\"> Z-statistic: {stats}\"))\n",
    "        display(HTML(f\"> p-value: {p_value}\"))\n",
    "        \n",
    "        if p_value <= 0.05:\n",
    "            display(HTML(f\"> Null Hypothesis (<i>H₀</i>) is <b>rejected</b>, meaning there is enough statistical evidence that <b>conversion rate</b> between Group A1 (246) and Group B (248) are <b>different</b>.\"))\n",
    "        else:\n",
    "            display(HTML(f\"> Null Hypothesis (<i>H₀</i>) is <b>not rejected</b>, meaning there is not enough statistical evidence that <b>conversion rate</b> between Group A1 (246) and Group B (248) are different.\"))\n",
    "        \n",
    "        print()"
   ]
  },
  {
   "cell_type": "code",
   "execution_count": 52,
   "id": "a5e28a86",
   "metadata": {},
   "outputs": [
    {
     "data": {
      "text/html": [
       "> Event: <b>CARTSCREENAPPEAR</b>"
      ],
      "text/plain": [
       "<IPython.core.display.HTML object>"
      ]
     },
     "metadata": {},
     "output_type": "display_data"
    },
    {
     "data": {
      "text/html": [
       "> Z-statistic: [1.75987365]"
      ],
      "text/plain": [
       "<IPython.core.display.HTML object>"
      ]
     },
     "metadata": {},
     "output_type": "display_data"
    },
    {
     "data": {
      "text/html": [
       "> p-value: [0.07842923]"
      ],
      "text/plain": [
       "<IPython.core.display.HTML object>"
      ]
     },
     "metadata": {},
     "output_type": "display_data"
    },
    {
     "data": {
      "text/html": [
       "> Null Hypothesis (<i>H₀</i>) is <b>not rejected</b>, meaning there is not enough statistical evidence that <b>conversion rate</b> between Group A1 (246) and Group B (248) are different."
      ],
      "text/plain": [
       "<IPython.core.display.HTML object>"
      ]
     },
     "metadata": {},
     "output_type": "display_data"
    },
    {
     "name": "stdout",
     "output_type": "stream",
     "text": [
      "\n"
     ]
    },
    {
     "data": {
      "text/html": [
       "> Event: <b>MAINSCREENAPPEAR</b>"
      ],
      "text/plain": [
       "<IPython.core.display.HTML object>"
      ]
     },
     "metadata": {},
     "output_type": "display_data"
    },
    {
     "data": {
      "text/html": [
       "> Z-statistic: [1.04727624]"
      ],
      "text/plain": [
       "<IPython.core.display.HTML object>"
      ]
     },
     "metadata": {},
     "output_type": "display_data"
    },
    {
     "data": {
      "text/html": [
       "> p-value: [0.29497219]"
      ],
      "text/plain": [
       "<IPython.core.display.HTML object>"
      ]
     },
     "metadata": {},
     "output_type": "display_data"
    },
    {
     "data": {
      "text/html": [
       "> Null Hypothesis (<i>H₀</i>) is <b>not rejected</b>, meaning there is not enough statistical evidence that <b>conversion rate</b> between Group A1 (246) and Group B (248) are different."
      ],
      "text/plain": [
       "<IPython.core.display.HTML object>"
      ]
     },
     "metadata": {},
     "output_type": "display_data"
    },
    {
     "name": "stdout",
     "output_type": "stream",
     "text": [
      "\n"
     ]
    },
    {
     "data": {
      "text/html": [
       "> Event: <b>OFFERSSCREENAPPEAR</b>"
      ],
      "text/plain": [
       "<IPython.core.display.HTML object>"
      ]
     },
     "metadata": {},
     "output_type": "display_data"
    },
    {
     "data": {
      "text/html": [
       "> Z-statistic: [1.25808213]"
      ],
      "text/plain": [
       "<IPython.core.display.HTML object>"
      ]
     },
     "metadata": {},
     "output_type": "display_data"
    },
    {
     "data": {
      "text/html": [
       "> p-value: [0.20836205]"
      ],
      "text/plain": [
       "<IPython.core.display.HTML object>"
      ]
     },
     "metadata": {},
     "output_type": "display_data"
    },
    {
     "data": {
      "text/html": [
       "> Null Hypothesis (<i>H₀</i>) is <b>not rejected</b>, meaning there is not enough statistical evidence that <b>conversion rate</b> between Group A1 (246) and Group B (248) are different."
      ],
      "text/plain": [
       "<IPython.core.display.HTML object>"
      ]
     },
     "metadata": {},
     "output_type": "display_data"
    },
    {
     "name": "stdout",
     "output_type": "stream",
     "text": [
      "\n"
     ]
    },
    {
     "data": {
      "text/html": [
       "> Event: <b>PAYMENTSCREENSUCCESSFUL</b>"
      ],
      "text/plain": [
       "<IPython.core.display.HTML object>"
      ]
     },
     "metadata": {},
     "output_type": "display_data"
    },
    {
     "data": {
      "text/html": [
       "> Z-statistic: [1.24738783]"
      ],
      "text/plain": [
       "<IPython.core.display.HTML object>"
      ]
     },
     "metadata": {},
     "output_type": "display_data"
    },
    {
     "data": {
      "text/html": [
       "> p-value: [0.21225533]"
      ],
      "text/plain": [
       "<IPython.core.display.HTML object>"
      ]
     },
     "metadata": {},
     "output_type": "display_data"
    },
    {
     "data": {
      "text/html": [
       "> Null Hypothesis (<i>H₀</i>) is <b>not rejected</b>, meaning there is not enough statistical evidence that <b>conversion rate</b> between Group A1 (246) and Group B (248) are different."
      ],
      "text/plain": [
       "<IPython.core.display.HTML object>"
      ]
     },
     "metadata": {},
     "output_type": "display_data"
    },
    {
     "name": "stdout",
     "output_type": "stream",
     "text": [
      "\n"
     ]
    },
    {
     "data": {
      "text/html": [
       "> Event: <b>TUTORIAL</b>"
      ],
      "text/plain": [
       "<IPython.core.display.HTML object>"
      ]
     },
     "metadata": {},
     "output_type": "display_data"
    },
    {
     "data": {
      "text/html": [
       "> Z-statistic: [0.21928326]"
      ],
      "text/plain": [
       "<IPython.core.display.HTML object>"
      ]
     },
     "metadata": {},
     "output_type": "display_data"
    },
    {
     "data": {
      "text/html": [
       "> p-value: [0.8264294]"
      ],
      "text/plain": [
       "<IPython.core.display.HTML object>"
      ]
     },
     "metadata": {},
     "output_type": "display_data"
    },
    {
     "data": {
      "text/html": [
       "> Null Hypothesis (<i>H₀</i>) is <b>not rejected</b>, meaning there is not enough statistical evidence that <b>conversion rate</b> between Group A1 (246) and Group B (248) are different."
      ],
      "text/plain": [
       "<IPython.core.display.HTML object>"
      ]
     },
     "metadata": {},
     "output_type": "display_data"
    },
    {
     "name": "stdout",
     "output_type": "stream",
     "text": [
      "\n"
     ]
    }
   ],
   "source": [
    "control_A1_test_proportions_statistical_difference(df_event_group)"
   ]
  },
  {
   "cell_type": "markdown",
   "id": "fb46c63c",
   "metadata": {},
   "source": [
    "#### 7.1.3  A2/B Control-Test groups Analysis\n",
    "\n",
    "Hypothesis(0): Control group A1 (247) and test group B (248) there is no statistical significant difference.   \n",
    "Hypothesis(1): Control group A1 (247) and test group B (248) there is statistical significant difference."
   ]
  },
  {
   "cell_type": "code",
   "execution_count": 53,
   "id": "b0b236a1",
   "metadata": {},
   "outputs": [],
   "source": [
    "def control_A2_test_proportions_statistical_difference(df):\n",
    "    \n",
    "    events = df['eventname'].unique()\n",
    "    \n",
    "    for event in events:\n",
    "        \n",
    "        actions_event = np.array([df_event_group.loc[(df_event_group['eventname'] == event) & (df_event_group['group'] == 247), 'event_users'],\n",
    "                                  df_event_group.loc[(df_event_group['eventname'] == event) & (df_event_group['group'] == 248), 'event_users']])\n",
    "        \n",
    "        events_event = np.array([df_event_group.loc[(df_event_group['eventname'] == event) & (df_event_group['group'] == 247), 'total_users'],\n",
    "                                 df_event_group.loc[(df_event_group['eventname'] == event) & (df_event_group['group'] == 248), 'total_users']])\n",
    "        \n",
    "        display(HTML(f\"> Event: <b>{event.upper()}</b>\"))\n",
    "        \n",
    "        stats, p_value = proportions_ztest(actions_event, events_event, alternative=\"two-sided\")\n",
    "        display(HTML(f\"> Z-statistic: {stats}\"))\n",
    "        display(HTML(f\"> p-value: {p_value}\"))\n",
    "        \n",
    "        if p_value <= 0.05:\n",
    "            display(HTML(f\"> Null Hypothesis (<i>H₀</i>) is <b>rejected</b>, meaning there is enough statistical evidence that <b>conversion rate</b> between Group A2 (247) and Group B (248) are <b>different</b>.\"))\n",
    "        else:\n",
    "            display(HTML(f\"> Null Hypothesis (<i>H₀</i>) is <b>not rejected</b>, meaning there is not enough statistical evidence that <b>conversion rate</b> between Group A2 (247) and Group B (248) are different.\"))\n",
    "        \n",
    "        print()"
   ]
  },
  {
   "cell_type": "code",
   "execution_count": 54,
   "id": "6ce465ea",
   "metadata": {},
   "outputs": [
    {
     "data": {
      "text/html": [
       "> Event: <b>CARTSCREENAPPEAR</b>"
      ],
      "text/plain": [
       "<IPython.core.display.HTML object>"
      ]
     },
     "metadata": {},
     "output_type": "display_data"
    },
    {
     "data": {
      "text/html": [
       "> Z-statistic: [0.55540191]"
      ],
      "text/plain": [
       "<IPython.core.display.HTML object>"
      ]
     },
     "metadata": {},
     "output_type": "display_data"
    },
    {
     "data": {
      "text/html": [
       "> p-value: [0.57861979]"
      ],
      "text/plain": [
       "<IPython.core.display.HTML object>"
      ]
     },
     "metadata": {},
     "output_type": "display_data"
    },
    {
     "data": {
      "text/html": [
       "> Null Hypothesis (<i>H₀</i>) is <b>not rejected</b>, meaning there is not enough statistical evidence that <b>conversion rate</b> between Group A2 (247) and Group B (248) are different."
      ],
      "text/plain": [
       "<IPython.core.display.HTML object>"
      ]
     },
     "metadata": {},
     "output_type": "display_data"
    },
    {
     "name": "stdout",
     "output_type": "stream",
     "text": [
      "\n"
     ]
    },
    {
     "data": {
      "text/html": [
       "> Event: <b>MAINSCREENAPPEAR</b>"
      ],
      "text/plain": [
       "<IPython.core.display.HTML object>"
      ]
     },
     "metadata": {},
     "output_type": "display_data"
    },
    {
     "data": {
      "text/html": [
       "> Z-statistic: [0.74098034]"
      ],
      "text/plain": [
       "<IPython.core.display.HTML object>"
      ]
     },
     "metadata": {},
     "output_type": "display_data"
    },
    {
     "data": {
      "text/html": [
       "> p-value: [0.45870536]"
      ],
      "text/plain": [
       "<IPython.core.display.HTML object>"
      ]
     },
     "metadata": {},
     "output_type": "display_data"
    },
    {
     "data": {
      "text/html": [
       "> Null Hypothesis (<i>H₀</i>) is <b>not rejected</b>, meaning there is not enough statistical evidence that <b>conversion rate</b> between Group A2 (247) and Group B (248) are different."
      ],
      "text/plain": [
       "<IPython.core.display.HTML object>"
      ]
     },
     "metadata": {},
     "output_type": "display_data"
    },
    {
     "name": "stdout",
     "output_type": "stream",
     "text": [
      "\n"
     ]
    },
    {
     "data": {
      "text/html": [
       "> Event: <b>OFFERSSCREENAPPEAR</b>"
      ],
      "text/plain": [
       "<IPython.core.display.HTML object>"
      ]
     },
     "metadata": {},
     "output_type": "display_data"
    },
    {
     "data": {
      "text/html": [
       "> Z-statistic: [0.1007086]"
      ],
      "text/plain": [
       "<IPython.core.display.HTML object>"
      ]
     },
     "metadata": {},
     "output_type": "display_data"
    },
    {
     "data": {
      "text/html": [
       "> p-value: [0.91978178]"
      ],
      "text/plain": [
       "<IPython.core.display.HTML object>"
      ]
     },
     "metadata": {},
     "output_type": "display_data"
    },
    {
     "data": {
      "text/html": [
       "> Null Hypothesis (<i>H₀</i>) is <b>not rejected</b>, meaning there is not enough statistical evidence that <b>conversion rate</b> between Group A2 (247) and Group B (248) are different."
      ],
      "text/plain": [
       "<IPython.core.display.HTML object>"
      ]
     },
     "metadata": {},
     "output_type": "display_data"
    },
    {
     "name": "stdout",
     "output_type": "stream",
     "text": [
      "\n"
     ]
    },
    {
     "data": {
      "text/html": [
       "> Event: <b>PAYMENTSCREENSUCCESSFUL</b>"
      ],
      "text/plain": [
       "<IPython.core.display.HTML object>"
      ]
     },
     "metadata": {},
     "output_type": "display_data"
    },
    {
     "data": {
      "text/html": [
       "> Z-statistic: [-0.33537595]"
      ],
      "text/plain": [
       "<IPython.core.display.HTML object>"
      ]
     },
     "metadata": {},
     "output_type": "display_data"
    },
    {
     "data": {
      "text/html": [
       "> p-value: [0.73734151]"
      ],
      "text/plain": [
       "<IPython.core.display.HTML object>"
      ]
     },
     "metadata": {},
     "output_type": "display_data"
    },
    {
     "data": {
      "text/html": [
       "> Null Hypothesis (<i>H₀</i>) is <b>not rejected</b>, meaning there is not enough statistical evidence that <b>conversion rate</b> between Group A2 (247) and Group B (248) are different."
      ],
      "text/plain": [
       "<IPython.core.display.HTML object>"
      ]
     },
     "metadata": {},
     "output_type": "display_data"
    },
    {
     "name": "stdout",
     "output_type": "stream",
     "text": [
      "\n"
     ]
    },
    {
     "data": {
      "text/html": [
       "> Event: <b>TUTORIAL</b>"
      ],
      "text/plain": [
       "<IPython.core.display.HTML object>"
      ]
     },
     "metadata": {},
     "output_type": "display_data"
    },
    {
     "data": {
      "text/html": [
       "> Z-statistic: [0.29849693]"
      ],
      "text/plain": [
       "<IPython.core.display.HTML object>"
      ]
     },
     "metadata": {},
     "output_type": "display_data"
    },
    {
     "data": {
      "text/html": [
       "> p-value: [0.76532392]"
      ],
      "text/plain": [
       "<IPython.core.display.HTML object>"
      ]
     },
     "metadata": {},
     "output_type": "display_data"
    },
    {
     "data": {
      "text/html": [
       "> Null Hypothesis (<i>H₀</i>) is <b>not rejected</b>, meaning there is not enough statistical evidence that <b>conversion rate</b> between Group A2 (247) and Group B (248) are different."
      ],
      "text/plain": [
       "<IPython.core.display.HTML object>"
      ]
     },
     "metadata": {},
     "output_type": "display_data"
    },
    {
     "name": "stdout",
     "output_type": "stream",
     "text": [
      "\n"
     ]
    }
   ],
   "source": [
    "control_A2_test_proportions_statistical_difference(df_event_group)"
   ]
  },
  {
   "cell_type": "markdown",
   "id": "586aa462",
   "metadata": {},
   "source": [
    "#### 7.1.4  AU/B Control-Test groups Analysis\n",
    "\n",
    "Hypothesis(0): Control group AU (246/247) and test group B (248) there is no statistical significant difference.   \n",
    "Hypothesis(1): Control group AU (246/247) and test group B (248) there is statistical significant difference."
   ]
  },
  {
   "cell_type": "code",
   "execution_count": 55,
   "id": "d2fb69c9",
   "metadata": {},
   "outputs": [
    {
     "data": {
      "application/vnd.microsoft.datawrangler.viewer.v0+json": {
       "columns": [
        {
         "name": "index",
         "rawType": "int64",
         "type": "integer"
        },
        {
         "name": "group",
         "rawType": "int64",
         "type": "integer"
        },
        {
         "name": "eventname",
         "rawType": "category",
         "type": "unknown"
        },
        {
         "name": "event_users",
         "rawType": "int64",
         "type": "integer"
        },
        {
         "name": "total_users",
         "rawType": "int64",
         "type": "integer"
        },
        {
         "name": "eventrate",
         "rawType": "float64",
         "type": "float"
        }
       ],
       "ref": "d1f7ee1a-5686-4d46-bc55-6a496af9c9e6",
       "rows": [
        [
         "0",
         "246",
         "cartscreenappear",
         "1266",
         "2484",
         "50.966"
        ],
        [
         "1",
         "246",
         "mainscreenappear",
         "2450",
         "2484",
         "98.631"
        ],
        [
         "2",
         "246",
         "offersscreenappear",
         "1542",
         "2484",
         "62.077"
        ],
        [
         "3",
         "246",
         "paymentscreensuccessful",
         "1200",
         "2484",
         "48.309"
        ],
        [
         "4",
         "246",
         "tutorial",
         "278",
         "2484",
         "11.192"
        ],
        [
         "5",
         "247",
         "cartscreenappear",
         "1238",
         "2513",
         "49.264"
        ],
        [
         "6",
         "247",
         "mainscreenappear",
         "2476",
         "2513",
         "98.528"
        ],
        [
         "7",
         "247",
         "offersscreenappear",
         "1520",
         "2513",
         "60.485"
        ],
        [
         "8",
         "247",
         "paymentscreensuccessful",
         "1158",
         "2513",
         "46.08"
        ],
        [
         "9",
         "247",
         "tutorial",
         "283",
         "2513",
         "11.261"
        ],
        [
         "10",
         "248",
         "cartscreenappear",
         "1230",
         "2537",
         "48.482"
        ],
        [
         "11",
         "248",
         "mainscreenappear",
         "2493",
         "2537",
         "98.266"
        ],
        [
         "12",
         "248",
         "offersscreenappear",
         "1531",
         "2537",
         "60.347"
        ],
        [
         "13",
         "248",
         "paymentscreensuccessful",
         "1181",
         "2537",
         "46.551"
        ],
        [
         "14",
         "248",
         "tutorial",
         "279",
         "2537",
         "10.997"
        ]
       ],
       "shape": {
        "columns": 5,
        "rows": 15
       }
      },
      "text/html": [
       "<div>\n",
       "<style scoped>\n",
       "    .dataframe tbody tr th:only-of-type {\n",
       "        vertical-align: middle;\n",
       "    }\n",
       "\n",
       "    .dataframe tbody tr th {\n",
       "        vertical-align: top;\n",
       "    }\n",
       "\n",
       "    .dataframe thead th {\n",
       "        text-align: right;\n",
       "    }\n",
       "</style>\n",
       "<table border=\"1\" class=\"dataframe\">\n",
       "  <thead>\n",
       "    <tr style=\"text-align: right;\">\n",
       "      <th></th>\n",
       "      <th>group</th>\n",
       "      <th>eventname</th>\n",
       "      <th>event_users</th>\n",
       "      <th>total_users</th>\n",
       "      <th>eventrate</th>\n",
       "    </tr>\n",
       "  </thead>\n",
       "  <tbody>\n",
       "    <tr>\n",
       "      <th>0</th>\n",
       "      <td>246</td>\n",
       "      <td>cartscreenappear</td>\n",
       "      <td>1266</td>\n",
       "      <td>2484</td>\n",
       "      <td>50.966</td>\n",
       "    </tr>\n",
       "    <tr>\n",
       "      <th>1</th>\n",
       "      <td>246</td>\n",
       "      <td>mainscreenappear</td>\n",
       "      <td>2450</td>\n",
       "      <td>2484</td>\n",
       "      <td>98.631</td>\n",
       "    </tr>\n",
       "    <tr>\n",
       "      <th>2</th>\n",
       "      <td>246</td>\n",
       "      <td>offersscreenappear</td>\n",
       "      <td>1542</td>\n",
       "      <td>2484</td>\n",
       "      <td>62.077</td>\n",
       "    </tr>\n",
       "    <tr>\n",
       "      <th>3</th>\n",
       "      <td>246</td>\n",
       "      <td>paymentscreensuccessful</td>\n",
       "      <td>1200</td>\n",
       "      <td>2484</td>\n",
       "      <td>48.309</td>\n",
       "    </tr>\n",
       "    <tr>\n",
       "      <th>4</th>\n",
       "      <td>246</td>\n",
       "      <td>tutorial</td>\n",
       "      <td>278</td>\n",
       "      <td>2484</td>\n",
       "      <td>11.192</td>\n",
       "    </tr>\n",
       "    <tr>\n",
       "      <th>5</th>\n",
       "      <td>247</td>\n",
       "      <td>cartscreenappear</td>\n",
       "      <td>1238</td>\n",
       "      <td>2513</td>\n",
       "      <td>49.264</td>\n",
       "    </tr>\n",
       "    <tr>\n",
       "      <th>6</th>\n",
       "      <td>247</td>\n",
       "      <td>mainscreenappear</td>\n",
       "      <td>2476</td>\n",
       "      <td>2513</td>\n",
       "      <td>98.528</td>\n",
       "    </tr>\n",
       "    <tr>\n",
       "      <th>7</th>\n",
       "      <td>247</td>\n",
       "      <td>offersscreenappear</td>\n",
       "      <td>1520</td>\n",
       "      <td>2513</td>\n",
       "      <td>60.485</td>\n",
       "    </tr>\n",
       "    <tr>\n",
       "      <th>8</th>\n",
       "      <td>247</td>\n",
       "      <td>paymentscreensuccessful</td>\n",
       "      <td>1158</td>\n",
       "      <td>2513</td>\n",
       "      <td>46.080</td>\n",
       "    </tr>\n",
       "    <tr>\n",
       "      <th>9</th>\n",
       "      <td>247</td>\n",
       "      <td>tutorial</td>\n",
       "      <td>283</td>\n",
       "      <td>2513</td>\n",
       "      <td>11.261</td>\n",
       "    </tr>\n",
       "    <tr>\n",
       "      <th>10</th>\n",
       "      <td>248</td>\n",
       "      <td>cartscreenappear</td>\n",
       "      <td>1230</td>\n",
       "      <td>2537</td>\n",
       "      <td>48.482</td>\n",
       "    </tr>\n",
       "    <tr>\n",
       "      <th>11</th>\n",
       "      <td>248</td>\n",
       "      <td>mainscreenappear</td>\n",
       "      <td>2493</td>\n",
       "      <td>2537</td>\n",
       "      <td>98.266</td>\n",
       "    </tr>\n",
       "    <tr>\n",
       "      <th>12</th>\n",
       "      <td>248</td>\n",
       "      <td>offersscreenappear</td>\n",
       "      <td>1531</td>\n",
       "      <td>2537</td>\n",
       "      <td>60.347</td>\n",
       "    </tr>\n",
       "    <tr>\n",
       "      <th>13</th>\n",
       "      <td>248</td>\n",
       "      <td>paymentscreensuccessful</td>\n",
       "      <td>1181</td>\n",
       "      <td>2537</td>\n",
       "      <td>46.551</td>\n",
       "    </tr>\n",
       "    <tr>\n",
       "      <th>14</th>\n",
       "      <td>248</td>\n",
       "      <td>tutorial</td>\n",
       "      <td>279</td>\n",
       "      <td>2537</td>\n",
       "      <td>10.997</td>\n",
       "    </tr>\n",
       "  </tbody>\n",
       "</table>\n",
       "</div>"
      ],
      "text/plain": [
       "    group                eventname  event_users  total_users  eventrate\n",
       "0     246         cartscreenappear         1266         2484     50.966\n",
       "1     246         mainscreenappear         2450         2484     98.631\n",
       "2     246       offersscreenappear         1542         2484     62.077\n",
       "3     246  paymentscreensuccessful         1200         2484     48.309\n",
       "4     246                 tutorial          278         2484     11.192\n",
       "5     247         cartscreenappear         1238         2513     49.264\n",
       "6     247         mainscreenappear         2476         2513     98.528\n",
       "7     247       offersscreenappear         1520         2513     60.485\n",
       "8     247  paymentscreensuccessful         1158         2513     46.080\n",
       "9     247                 tutorial          283         2513     11.261\n",
       "10    248         cartscreenappear         1230         2537     48.482\n",
       "11    248         mainscreenappear         2493         2537     98.266\n",
       "12    248       offersscreenappear         1531         2537     60.347\n",
       "13    248  paymentscreensuccessful         1181         2537     46.551\n",
       "14    248                 tutorial          279         2537     10.997"
      ]
     },
     "execution_count": 55,
     "metadata": {},
     "output_type": "execute_result"
    }
   ],
   "source": [
    "df_event_group"
   ]
  },
  {
   "cell_type": "code",
   "execution_count": 56,
   "id": "4756a289",
   "metadata": {},
   "outputs": [
    {
     "data": {
      "application/vnd.microsoft.datawrangler.viewer.v0+json": {
       "columns": [
        {
         "name": "index",
         "rawType": "int64",
         "type": "integer"
        },
        {
         "name": "group",
         "rawType": "int64",
         "type": "integer"
        },
        {
         "name": "eventname",
         "rawType": "category",
         "type": "unknown"
        },
        {
         "name": "event_users",
         "rawType": "int64",
         "type": "integer"
        },
        {
         "name": "total_users",
         "rawType": "int64",
         "type": "integer"
        },
        {
         "name": "eventrate",
         "rawType": "float64",
         "type": "float"
        }
       ],
       "ref": "9043598b-6b49-45f9-801d-da0b7b3b0d51",
       "rows": [
        [
         "0",
         "246",
         "cartscreenappear",
         "1266",
         "2484",
         "50.966"
        ],
        [
         "1",
         "246",
         "mainscreenappear",
         "2450",
         "2484",
         "98.631"
        ],
        [
         "2",
         "246",
         "offersscreenappear",
         "1542",
         "2484",
         "62.077"
        ],
        [
         "3",
         "246",
         "paymentscreensuccessful",
         "1200",
         "2484",
         "48.309"
        ],
        [
         "4",
         "246",
         "tutorial",
         "278",
         "2484",
         "11.192"
        ],
        [
         "5",
         "247",
         "cartscreenappear",
         "1238",
         "2513",
         "49.264"
        ],
        [
         "6",
         "247",
         "mainscreenappear",
         "2476",
         "2513",
         "98.528"
        ],
        [
         "7",
         "247",
         "offersscreenappear",
         "1520",
         "2513",
         "60.485"
        ],
        [
         "8",
         "247",
         "paymentscreensuccessful",
         "1158",
         "2513",
         "46.08"
        ],
        [
         "9",
         "247",
         "tutorial",
         "283",
         "2513",
         "11.261"
        ]
       ],
       "shape": {
        "columns": 5,
        "rows": 10
       }
      },
      "text/html": [
       "<div>\n",
       "<style scoped>\n",
       "    .dataframe tbody tr th:only-of-type {\n",
       "        vertical-align: middle;\n",
       "    }\n",
       "\n",
       "    .dataframe tbody tr th {\n",
       "        vertical-align: top;\n",
       "    }\n",
       "\n",
       "    .dataframe thead th {\n",
       "        text-align: right;\n",
       "    }\n",
       "</style>\n",
       "<table border=\"1\" class=\"dataframe\">\n",
       "  <thead>\n",
       "    <tr style=\"text-align: right;\">\n",
       "      <th></th>\n",
       "      <th>group</th>\n",
       "      <th>eventname</th>\n",
       "      <th>event_users</th>\n",
       "      <th>total_users</th>\n",
       "      <th>eventrate</th>\n",
       "    </tr>\n",
       "  </thead>\n",
       "  <tbody>\n",
       "    <tr>\n",
       "      <th>0</th>\n",
       "      <td>246</td>\n",
       "      <td>cartscreenappear</td>\n",
       "      <td>1266</td>\n",
       "      <td>2484</td>\n",
       "      <td>50.966</td>\n",
       "    </tr>\n",
       "    <tr>\n",
       "      <th>1</th>\n",
       "      <td>246</td>\n",
       "      <td>mainscreenappear</td>\n",
       "      <td>2450</td>\n",
       "      <td>2484</td>\n",
       "      <td>98.631</td>\n",
       "    </tr>\n",
       "    <tr>\n",
       "      <th>2</th>\n",
       "      <td>246</td>\n",
       "      <td>offersscreenappear</td>\n",
       "      <td>1542</td>\n",
       "      <td>2484</td>\n",
       "      <td>62.077</td>\n",
       "    </tr>\n",
       "    <tr>\n",
       "      <th>3</th>\n",
       "      <td>246</td>\n",
       "      <td>paymentscreensuccessful</td>\n",
       "      <td>1200</td>\n",
       "      <td>2484</td>\n",
       "      <td>48.309</td>\n",
       "    </tr>\n",
       "    <tr>\n",
       "      <th>4</th>\n",
       "      <td>246</td>\n",
       "      <td>tutorial</td>\n",
       "      <td>278</td>\n",
       "      <td>2484</td>\n",
       "      <td>11.192</td>\n",
       "    </tr>\n",
       "    <tr>\n",
       "      <th>5</th>\n",
       "      <td>247</td>\n",
       "      <td>cartscreenappear</td>\n",
       "      <td>1238</td>\n",
       "      <td>2513</td>\n",
       "      <td>49.264</td>\n",
       "    </tr>\n",
       "    <tr>\n",
       "      <th>6</th>\n",
       "      <td>247</td>\n",
       "      <td>mainscreenappear</td>\n",
       "      <td>2476</td>\n",
       "      <td>2513</td>\n",
       "      <td>98.528</td>\n",
       "    </tr>\n",
       "    <tr>\n",
       "      <th>7</th>\n",
       "      <td>247</td>\n",
       "      <td>offersscreenappear</td>\n",
       "      <td>1520</td>\n",
       "      <td>2513</td>\n",
       "      <td>60.485</td>\n",
       "    </tr>\n",
       "    <tr>\n",
       "      <th>8</th>\n",
       "      <td>247</td>\n",
       "      <td>paymentscreensuccessful</td>\n",
       "      <td>1158</td>\n",
       "      <td>2513</td>\n",
       "      <td>46.080</td>\n",
       "    </tr>\n",
       "    <tr>\n",
       "      <th>9</th>\n",
       "      <td>247</td>\n",
       "      <td>tutorial</td>\n",
       "      <td>283</td>\n",
       "      <td>2513</td>\n",
       "      <td>11.261</td>\n",
       "    </tr>\n",
       "  </tbody>\n",
       "</table>\n",
       "</div>"
      ],
      "text/plain": [
       "   group                eventname  event_users  total_users  eventrate\n",
       "0    246         cartscreenappear         1266         2484     50.966\n",
       "1    246         mainscreenappear         2450         2484     98.631\n",
       "2    246       offersscreenappear         1542         2484     62.077\n",
       "3    246  paymentscreensuccessful         1200         2484     48.309\n",
       "4    246                 tutorial          278         2484     11.192\n",
       "5    247         cartscreenappear         1238         2513     49.264\n",
       "6    247         mainscreenappear         2476         2513     98.528\n",
       "7    247       offersscreenappear         1520         2513     60.485\n",
       "8    247  paymentscreensuccessful         1158         2513     46.080\n",
       "9    247                 tutorial          283         2513     11.261"
      ]
     },
     "execution_count": 56,
     "metadata": {},
     "output_type": "execute_result"
    }
   ],
   "source": [
    "df_event_group_AU = df_event_group.loc[(df_event_group['group'] == 246) | (df_event_group['group'] == 247), :]\n",
    "df_event_group_AU"
   ]
  },
  {
   "cell_type": "code",
   "execution_count": 57,
   "id": "fc331c0a",
   "metadata": {},
   "outputs": [
    {
     "data": {
      "text/plain": [
       "np.int64(4997)"
      ]
     },
     "execution_count": 57,
     "metadata": {},
     "output_type": "execute_result"
    }
   ],
   "source": [
    "tu = df_event_group_AU['total_users'].unique().sum()\n",
    "tu"
   ]
  },
  {
   "cell_type": "code",
   "execution_count": 59,
   "id": "a77eccdb",
   "metadata": {},
   "outputs": [
    {
     "data": {
      "application/vnd.microsoft.datawrangler.viewer.v0+json": {
       "columns": [
        {
         "name": "index",
         "rawType": "int64",
         "type": "integer"
        },
        {
         "name": "eventname",
         "rawType": "category",
         "type": "unknown"
        },
        {
         "name": "event_users",
         "rawType": "int64",
         "type": "integer"
        },
        {
         "name": "group",
         "rawType": "object",
         "type": "string"
        },
        {
         "name": "total_users",
         "rawType": "int64",
         "type": "integer"
        },
        {
         "name": "eventrate",
         "rawType": "float64",
         "type": "float"
        }
       ],
       "ref": "3046eb67-2fee-4707-8861-79005ecfd325",
       "rows": [
        [
         "0",
         "cartscreenappear",
         "2504",
         "246_247",
         "4997",
         "50.11"
        ],
        [
         "1",
         "mainscreenappear",
         "4926",
         "246_247",
         "4997",
         "98.579"
        ],
        [
         "2",
         "offersscreenappear",
         "3062",
         "246_247",
         "4997",
         "61.277"
        ],
        [
         "3",
         "paymentscreensuccessful",
         "2358",
         "246_247",
         "4997",
         "47.188"
        ],
        [
         "4",
         "tutorial",
         "561",
         "246_247",
         "4997",
         "11.227"
        ]
       ],
       "shape": {
        "columns": 5,
        "rows": 5
       }
      },
      "text/html": [
       "<div>\n",
       "<style scoped>\n",
       "    .dataframe tbody tr th:only-of-type {\n",
       "        vertical-align: middle;\n",
       "    }\n",
       "\n",
       "    .dataframe tbody tr th {\n",
       "        vertical-align: top;\n",
       "    }\n",
       "\n",
       "    .dataframe thead th {\n",
       "        text-align: right;\n",
       "    }\n",
       "</style>\n",
       "<table border=\"1\" class=\"dataframe\">\n",
       "  <thead>\n",
       "    <tr style=\"text-align: right;\">\n",
       "      <th></th>\n",
       "      <th>eventname</th>\n",
       "      <th>event_users</th>\n",
       "      <th>group</th>\n",
       "      <th>total_users</th>\n",
       "      <th>eventrate</th>\n",
       "    </tr>\n",
       "  </thead>\n",
       "  <tbody>\n",
       "    <tr>\n",
       "      <th>0</th>\n",
       "      <td>cartscreenappear</td>\n",
       "      <td>2504</td>\n",
       "      <td>246_247</td>\n",
       "      <td>4997</td>\n",
       "      <td>50.110</td>\n",
       "    </tr>\n",
       "    <tr>\n",
       "      <th>1</th>\n",
       "      <td>mainscreenappear</td>\n",
       "      <td>4926</td>\n",
       "      <td>246_247</td>\n",
       "      <td>4997</td>\n",
       "      <td>98.579</td>\n",
       "    </tr>\n",
       "    <tr>\n",
       "      <th>2</th>\n",
       "      <td>offersscreenappear</td>\n",
       "      <td>3062</td>\n",
       "      <td>246_247</td>\n",
       "      <td>4997</td>\n",
       "      <td>61.277</td>\n",
       "    </tr>\n",
       "    <tr>\n",
       "      <th>3</th>\n",
       "      <td>paymentscreensuccessful</td>\n",
       "      <td>2358</td>\n",
       "      <td>246_247</td>\n",
       "      <td>4997</td>\n",
       "      <td>47.188</td>\n",
       "    </tr>\n",
       "    <tr>\n",
       "      <th>4</th>\n",
       "      <td>tutorial</td>\n",
       "      <td>561</td>\n",
       "      <td>246_247</td>\n",
       "      <td>4997</td>\n",
       "      <td>11.227</td>\n",
       "    </tr>\n",
       "  </tbody>\n",
       "</table>\n",
       "</div>"
      ],
      "text/plain": [
       "                 eventname  event_users    group  total_users  eventrate\n",
       "0         cartscreenappear         2504  246_247         4997     50.110\n",
       "1         mainscreenappear         4926  246_247         4997     98.579\n",
       "2       offersscreenappear         3062  246_247         4997     61.277\n",
       "3  paymentscreensuccessful         2358  246_247         4997     47.188\n",
       "4                 tutorial          561  246_247         4997     11.227"
      ]
     },
     "execution_count": 59,
     "metadata": {},
     "output_type": "execute_result"
    }
   ],
   "source": [
    "df_event_group_AU = df_event_group_AU.groupby('eventname', observed=False)['event_users'].sum().reset_index()\n",
    "df_event_group_AU['group'] = '246_247'\n",
    "df_event_group_AU['total_users'] = tu\n",
    "df_event_group_AU['eventrate'] = ((df_event_group_AU['event_users'] / df_event_group_AU['total_users']) * 100).round(3)\n",
    "df_event_group_AU"
   ]
  },
  {
   "cell_type": "code",
   "execution_count": 60,
   "id": "d5f06ede",
   "metadata": {},
   "outputs": [
    {
     "data": {
      "application/vnd.microsoft.datawrangler.viewer.v0+json": {
       "columns": [
        {
         "name": "index",
         "rawType": "int64",
         "type": "integer"
        },
        {
         "name": "group",
         "rawType": "object",
         "type": "string"
        },
        {
         "name": "eventname",
         "rawType": "category",
         "type": "unknown"
        },
        {
         "name": "event_users",
         "rawType": "int64",
         "type": "integer"
        },
        {
         "name": "total_users",
         "rawType": "int64",
         "type": "integer"
        },
        {
         "name": "eventrate",
         "rawType": "float64",
         "type": "float"
        }
       ],
       "ref": "8948ae2c-8fc1-41ea-82af-efe22e4781bb",
       "rows": [
        [
         "10",
         "248",
         "cartscreenappear",
         "1230",
         "2537",
         "48.482"
        ],
        [
         "11",
         "248",
         "mainscreenappear",
         "2493",
         "2537",
         "98.266"
        ],
        [
         "12",
         "248",
         "offersscreenappear",
         "1531",
         "2537",
         "60.347"
        ],
        [
         "13",
         "248",
         "paymentscreensuccessful",
         "1181",
         "2537",
         "46.551"
        ],
        [
         "14",
         "248",
         "tutorial",
         "279",
         "2537",
         "10.997"
        ]
       ],
       "shape": {
        "columns": 5,
        "rows": 5
       }
      },
      "text/html": [
       "<div>\n",
       "<style scoped>\n",
       "    .dataframe tbody tr th:only-of-type {\n",
       "        vertical-align: middle;\n",
       "    }\n",
       "\n",
       "    .dataframe tbody tr th {\n",
       "        vertical-align: top;\n",
       "    }\n",
       "\n",
       "    .dataframe thead th {\n",
       "        text-align: right;\n",
       "    }\n",
       "</style>\n",
       "<table border=\"1\" class=\"dataframe\">\n",
       "  <thead>\n",
       "    <tr style=\"text-align: right;\">\n",
       "      <th></th>\n",
       "      <th>group</th>\n",
       "      <th>eventname</th>\n",
       "      <th>event_users</th>\n",
       "      <th>total_users</th>\n",
       "      <th>eventrate</th>\n",
       "    </tr>\n",
       "  </thead>\n",
       "  <tbody>\n",
       "    <tr>\n",
       "      <th>10</th>\n",
       "      <td>248</td>\n",
       "      <td>cartscreenappear</td>\n",
       "      <td>1230</td>\n",
       "      <td>2537</td>\n",
       "      <td>48.482</td>\n",
       "    </tr>\n",
       "    <tr>\n",
       "      <th>11</th>\n",
       "      <td>248</td>\n",
       "      <td>mainscreenappear</td>\n",
       "      <td>2493</td>\n",
       "      <td>2537</td>\n",
       "      <td>98.266</td>\n",
       "    </tr>\n",
       "    <tr>\n",
       "      <th>12</th>\n",
       "      <td>248</td>\n",
       "      <td>offersscreenappear</td>\n",
       "      <td>1531</td>\n",
       "      <td>2537</td>\n",
       "      <td>60.347</td>\n",
       "    </tr>\n",
       "    <tr>\n",
       "      <th>13</th>\n",
       "      <td>248</td>\n",
       "      <td>paymentscreensuccessful</td>\n",
       "      <td>1181</td>\n",
       "      <td>2537</td>\n",
       "      <td>46.551</td>\n",
       "    </tr>\n",
       "    <tr>\n",
       "      <th>14</th>\n",
       "      <td>248</td>\n",
       "      <td>tutorial</td>\n",
       "      <td>279</td>\n",
       "      <td>2537</td>\n",
       "      <td>10.997</td>\n",
       "    </tr>\n",
       "  </tbody>\n",
       "</table>\n",
       "</div>"
      ],
      "text/plain": [
       "   group                eventname  event_users  total_users  eventrate\n",
       "10   248         cartscreenappear         1230         2537     48.482\n",
       "11   248         mainscreenappear         2493         2537     98.266\n",
       "12   248       offersscreenappear         1531         2537     60.347\n",
       "13   248  paymentscreensuccessful         1181         2537     46.551\n",
       "14   248                 tutorial          279         2537     10.997"
      ]
     },
     "execution_count": 60,
     "metadata": {},
     "output_type": "execute_result"
    }
   ],
   "source": [
    "df_event_group_B = df_event_group.loc[(df_event_group['group'] == 248), :]\n",
    "df_event_group_B = df_event_group_B.copy()\n",
    "df_event_group_B['group'] = df_event_group_B['group'].astype(str)\n",
    "df_event_group_B"
   ]
  },
  {
   "cell_type": "code",
   "execution_count": 61,
   "id": "09d94875",
   "metadata": {},
   "outputs": [
    {
     "data": {
      "application/vnd.microsoft.datawrangler.viewer.v0+json": {
       "columns": [
        {
         "name": "index",
         "rawType": "int64",
         "type": "integer"
        },
        {
         "name": "eventname",
         "rawType": "category",
         "type": "unknown"
        },
        {
         "name": "event_users",
         "rawType": "int64",
         "type": "integer"
        },
        {
         "name": "group",
         "rawType": "object",
         "type": "string"
        },
        {
         "name": "total_users",
         "rawType": "int64",
         "type": "integer"
        },
        {
         "name": "eventrate",
         "rawType": "float64",
         "type": "float"
        }
       ],
       "ref": "87bb27c7-3b85-4226-a25a-311fc3a21650",
       "rows": [
        [
         "0",
         "cartscreenappear",
         "2504",
         "246_247",
         "4997",
         "50.11"
        ],
        [
         "1",
         "mainscreenappear",
         "4926",
         "246_247",
         "4997",
         "98.579"
        ],
        [
         "2",
         "offersscreenappear",
         "3062",
         "246_247",
         "4997",
         "61.277"
        ],
        [
         "3",
         "paymentscreensuccessful",
         "2358",
         "246_247",
         "4997",
         "47.188"
        ],
        [
         "4",
         "tutorial",
         "561",
         "246_247",
         "4997",
         "11.227"
        ],
        [
         "5",
         "cartscreenappear",
         "1230",
         "248",
         "2537",
         "48.482"
        ],
        [
         "6",
         "mainscreenappear",
         "2493",
         "248",
         "2537",
         "98.266"
        ],
        [
         "7",
         "offersscreenappear",
         "1531",
         "248",
         "2537",
         "60.347"
        ],
        [
         "8",
         "paymentscreensuccessful",
         "1181",
         "248",
         "2537",
         "46.551"
        ],
        [
         "9",
         "tutorial",
         "279",
         "248",
         "2537",
         "10.997"
        ]
       ],
       "shape": {
        "columns": 5,
        "rows": 10
       }
      },
      "text/html": [
       "<div>\n",
       "<style scoped>\n",
       "    .dataframe tbody tr th:only-of-type {\n",
       "        vertical-align: middle;\n",
       "    }\n",
       "\n",
       "    .dataframe tbody tr th {\n",
       "        vertical-align: top;\n",
       "    }\n",
       "\n",
       "    .dataframe thead th {\n",
       "        text-align: right;\n",
       "    }\n",
       "</style>\n",
       "<table border=\"1\" class=\"dataframe\">\n",
       "  <thead>\n",
       "    <tr style=\"text-align: right;\">\n",
       "      <th></th>\n",
       "      <th>eventname</th>\n",
       "      <th>event_users</th>\n",
       "      <th>group</th>\n",
       "      <th>total_users</th>\n",
       "      <th>eventrate</th>\n",
       "    </tr>\n",
       "  </thead>\n",
       "  <tbody>\n",
       "    <tr>\n",
       "      <th>0</th>\n",
       "      <td>cartscreenappear</td>\n",
       "      <td>2504</td>\n",
       "      <td>246_247</td>\n",
       "      <td>4997</td>\n",
       "      <td>50.110</td>\n",
       "    </tr>\n",
       "    <tr>\n",
       "      <th>1</th>\n",
       "      <td>mainscreenappear</td>\n",
       "      <td>4926</td>\n",
       "      <td>246_247</td>\n",
       "      <td>4997</td>\n",
       "      <td>98.579</td>\n",
       "    </tr>\n",
       "    <tr>\n",
       "      <th>2</th>\n",
       "      <td>offersscreenappear</td>\n",
       "      <td>3062</td>\n",
       "      <td>246_247</td>\n",
       "      <td>4997</td>\n",
       "      <td>61.277</td>\n",
       "    </tr>\n",
       "    <tr>\n",
       "      <th>3</th>\n",
       "      <td>paymentscreensuccessful</td>\n",
       "      <td>2358</td>\n",
       "      <td>246_247</td>\n",
       "      <td>4997</td>\n",
       "      <td>47.188</td>\n",
       "    </tr>\n",
       "    <tr>\n",
       "      <th>4</th>\n",
       "      <td>tutorial</td>\n",
       "      <td>561</td>\n",
       "      <td>246_247</td>\n",
       "      <td>4997</td>\n",
       "      <td>11.227</td>\n",
       "    </tr>\n",
       "    <tr>\n",
       "      <th>5</th>\n",
       "      <td>cartscreenappear</td>\n",
       "      <td>1230</td>\n",
       "      <td>248</td>\n",
       "      <td>2537</td>\n",
       "      <td>48.482</td>\n",
       "    </tr>\n",
       "    <tr>\n",
       "      <th>6</th>\n",
       "      <td>mainscreenappear</td>\n",
       "      <td>2493</td>\n",
       "      <td>248</td>\n",
       "      <td>2537</td>\n",
       "      <td>98.266</td>\n",
       "    </tr>\n",
       "    <tr>\n",
       "      <th>7</th>\n",
       "      <td>offersscreenappear</td>\n",
       "      <td>1531</td>\n",
       "      <td>248</td>\n",
       "      <td>2537</td>\n",
       "      <td>60.347</td>\n",
       "    </tr>\n",
       "    <tr>\n",
       "      <th>8</th>\n",
       "      <td>paymentscreensuccessful</td>\n",
       "      <td>1181</td>\n",
       "      <td>248</td>\n",
       "      <td>2537</td>\n",
       "      <td>46.551</td>\n",
       "    </tr>\n",
       "    <tr>\n",
       "      <th>9</th>\n",
       "      <td>tutorial</td>\n",
       "      <td>279</td>\n",
       "      <td>248</td>\n",
       "      <td>2537</td>\n",
       "      <td>10.997</td>\n",
       "    </tr>\n",
       "  </tbody>\n",
       "</table>\n",
       "</div>"
      ],
      "text/plain": [
       "                 eventname  event_users    group  total_users  eventrate\n",
       "0         cartscreenappear         2504  246_247         4997     50.110\n",
       "1         mainscreenappear         4926  246_247         4997     98.579\n",
       "2       offersscreenappear         3062  246_247         4997     61.277\n",
       "3  paymentscreensuccessful         2358  246_247         4997     47.188\n",
       "4                 tutorial          561  246_247         4997     11.227\n",
       "5         cartscreenappear         1230      248         2537     48.482\n",
       "6         mainscreenappear         2493      248         2537     98.266\n",
       "7       offersscreenappear         1531      248         2537     60.347\n",
       "8  paymentscreensuccessful         1181      248         2537     46.551\n",
       "9                 tutorial          279      248         2537     10.997"
      ]
     },
     "execution_count": 61,
     "metadata": {},
     "output_type": "execute_result"
    }
   ],
   "source": [
    "df_event_group_AB = pd.concat([df_event_group_AU, df_event_group_B], axis=0, ignore_index=True)\n",
    "df_event_group_AB"
   ]
  },
  {
   "cell_type": "code",
   "execution_count": 62,
   "id": "1bf5808a",
   "metadata": {},
   "outputs": [],
   "source": [
    "def control_test_proportions_statistical_difference(df):\n",
    "    \n",
    "    events = df['eventname'].unique()\n",
    "    \n",
    "    for event in events:\n",
    "        \n",
    "        actions_event = np.array([df_event_group_AB.loc[(df_event_group_AB['eventname'] == event) & (df_event_group_AB['group'] == '246_247'), 'event_users'],\n",
    "                                  df_event_group_AB.loc[(df_event_group_AB['eventname'] == event) & (df_event_group_AB['group'] == '248'), 'event_users']])\n",
    "        \n",
    "        events_event = np.array([df_event_group_AB.loc[(df_event_group_AB['eventname'] == event) & (df_event_group_AB['group'] == '246_247'), 'total_users'],\n",
    "                                 df_event_group_AB.loc[(df_event_group_AB['eventname'] == event) & (df_event_group_AB['group'] == '248'), 'total_users']])\n",
    "        \n",
    "        display(HTML(f\"> Event: <b>{event.upper()}</b>\"))\n",
    "        \n",
    "        stats, p_value = proportions_ztest(actions_event, events_event, alternative=\"two-sided\")\n",
    "        display(HTML(f\"> Z-statistic: {stats}\"))\n",
    "        display(HTML(f\"> p-value: {p_value}\"))\n",
    "        \n",
    "        if p_value <= 0.05:\n",
    "            display(HTML(f\"> Null Hypothesis (<i>H₀</i>) is <b>rejected</b>, meaning there is enough statistical evidence that <b>conversion rate</b> between Group A (246_247) and Group B (248) are <b>different</b>.\"))\n",
    "        else:\n",
    "            display(HTML(f\"> Null Hypothesis (<i>H₀</i>) is <b>not rejected</b>, meaning there is not enough statistical evidence that <b>conversion rate</b> between Group A (246_247) and Group B (248) are different.\"))\n",
    "        \n",
    "        print()"
   ]
  },
  {
   "cell_type": "code",
   "execution_count": 63,
   "id": "0522243c",
   "metadata": {},
   "outputs": [
    {
     "data": {
      "text/html": [
       "> Event: <b>CARTSCREENAPPEAR</b>"
      ],
      "text/plain": [
       "<IPython.core.display.HTML object>"
      ]
     },
     "metadata": {},
     "output_type": "display_data"
    },
    {
     "data": {
      "text/html": [
       "> Z-statistic: [1.33535938]"
      ],
      "text/plain": [
       "<IPython.core.display.HTML object>"
      ]
     },
     "metadata": {},
     "output_type": "display_data"
    },
    {
     "data": {
      "text/html": [
       "> p-value: [0.18175875]"
      ],
      "text/plain": [
       "<IPython.core.display.HTML object>"
      ]
     },
     "metadata": {},
     "output_type": "display_data"
    },
    {
     "data": {
      "text/html": [
       "> Null Hypothesis (<i>H₀</i>) is <b>not rejected</b>, meaning there is not enough statistical evidence that <b>conversion rate</b> between Group A (246_247) and Group B (248) are different."
      ],
      "text/plain": [
       "<IPython.core.display.HTML object>"
      ]
     },
     "metadata": {},
     "output_type": "display_data"
    },
    {
     "name": "stdout",
     "output_type": "stream",
     "text": [
      "\n"
     ]
    },
    {
     "data": {
      "text/html": [
       "> Event: <b>MAINSCREENAPPEAR</b>"
      ],
      "text/plain": [
       "<IPython.core.display.HTML object>"
      ]
     },
     "metadata": {},
     "output_type": "display_data"
    },
    {
     "data": {
      "text/html": [
       "> Z-statistic: [1.04885411]"
      ],
      "text/plain": [
       "<IPython.core.display.HTML object>"
      ]
     },
     "metadata": {},
     "output_type": "display_data"
    },
    {
     "data": {
      "text/html": [
       "> p-value: [0.29424527]"
      ],
      "text/plain": [
       "<IPython.core.display.HTML object>"
      ]
     },
     "metadata": {},
     "output_type": "display_data"
    },
    {
     "data": {
      "text/html": [
       "> Null Hypothesis (<i>H₀</i>) is <b>not rejected</b>, meaning there is not enough statistical evidence that <b>conversion rate</b> between Group A (246_247) and Group B (248) are different."
      ],
      "text/plain": [
       "<IPython.core.display.HTML object>"
      ]
     },
     "metadata": {},
     "output_type": "display_data"
    },
    {
     "name": "stdout",
     "output_type": "stream",
     "text": [
      "\n"
     ]
    },
    {
     "data": {
      "text/html": [
       "> Event: <b>OFFERSSCREENAPPEAR</b>"
      ],
      "text/plain": [
       "<IPython.core.display.HTML object>"
      ]
     },
     "metadata": {},
     "output_type": "display_data"
    },
    {
     "data": {
      "text/html": [
       "> Z-statistic: [0.78193037]"
      ],
      "text/plain": [
       "<IPython.core.display.HTML object>"
      ]
     },
     "metadata": {},
     "output_type": "display_data"
    },
    {
     "data": {
      "text/html": [
       "> p-value: [0.4342555]"
      ],
      "text/plain": [
       "<IPython.core.display.HTML object>"
      ]
     },
     "metadata": {},
     "output_type": "display_data"
    },
    {
     "data": {
      "text/html": [
       "> Null Hypothesis (<i>H₀</i>) is <b>not rejected</b>, meaning there is not enough statistical evidence that <b>conversion rate</b> between Group A (246_247) and Group B (248) are different."
      ],
      "text/plain": [
       "<IPython.core.display.HTML object>"
      ]
     },
     "metadata": {},
     "output_type": "display_data"
    },
    {
     "name": "stdout",
     "output_type": "stream",
     "text": [
      "\n"
     ]
    },
    {
     "data": {
      "text/html": [
       "> Event: <b>PAYMENTSCREENSUCCESSFUL</b>"
      ],
      "text/plain": [
       "<IPython.core.display.HTML object>"
      ]
     },
     "metadata": {},
     "output_type": "display_data"
    },
    {
     "data": {
      "text/html": [
       "> Z-statistic: [0.52378307]"
      ],
      "text/plain": [
       "<IPython.core.display.HTML object>"
      ]
     },
     "metadata": {},
     "output_type": "display_data"
    },
    {
     "data": {
      "text/html": [
       "> p-value: [0.60042943]"
      ],
      "text/plain": [
       "<IPython.core.display.HTML object>"
      ]
     },
     "metadata": {},
     "output_type": "display_data"
    },
    {
     "data": {
      "text/html": [
       "> Null Hypothesis (<i>H₀</i>) is <b>not rejected</b>, meaning there is not enough statistical evidence that <b>conversion rate</b> between Group A (246_247) and Group B (248) are different."
      ],
      "text/plain": [
       "<IPython.core.display.HTML object>"
      ]
     },
     "metadata": {},
     "output_type": "display_data"
    },
    {
     "name": "stdout",
     "output_type": "stream",
     "text": [
      "\n"
     ]
    },
    {
     "data": {
      "text/html": [
       "> Event: <b>TUTORIAL</b>"
      ],
      "text/plain": [
       "<IPython.core.display.HTML object>"
      ]
     },
     "metadata": {},
     "output_type": "display_data"
    },
    {
     "data": {
      "text/html": [
       "> Z-statistic: [0.29910167]"
      ],
      "text/plain": [
       "<IPython.core.display.HTML object>"
      ]
     },
     "metadata": {},
     "output_type": "display_data"
    },
    {
     "data": {
      "text/html": [
       "> p-value: [0.76486247]"
      ],
      "text/plain": [
       "<IPython.core.display.HTML object>"
      ]
     },
     "metadata": {},
     "output_type": "display_data"
    },
    {
     "data": {
      "text/html": [
       "> Null Hypothesis (<i>H₀</i>) is <b>not rejected</b>, meaning there is not enough statistical evidence that <b>conversion rate</b> between Group A (246_247) and Group B (248) are different."
      ],
      "text/plain": [
       "<IPython.core.display.HTML object>"
      ]
     },
     "metadata": {},
     "output_type": "display_data"
    },
    {
     "name": "stdout",
     "output_type": "stream",
     "text": [
      "\n"
     ]
    }
   ],
   "source": [
    "control_test_proportions_statistical_difference(df_event_group_AB)"
   ]
  },
  {
   "cell_type": "markdown",
   "id": "a6ca1db3",
   "metadata": {},
   "source": [
    "#### 7.2 Results\n",
    "\n",
    "- Significance level that have been set to test the statistical hypotheses mentioned above : α = 0.05\n",
    "- Amount of statistical hypothesis tests that have been performed: 4 (A/A, A1/B, A2/B, A/B)\n",
    "- What should the significance level be? Please specify if you want to change it.\n",
    "  If α = 0.01, the results would be the same due to the p-value gotten from all the statistical tests (greater than α). In order to be changed\n",
    "  the α value must be greater than p-value, acoording to the eventrate values no much differences are among froups, therefore p-value is allways\n",
    "  greater than α."
   ]
  }
 ],
 "metadata": {
  "kernelspec": {
   "display_name": "Win11_Python-PipVenv-Github-Hmb7GD39",
   "language": "python",
   "name": "python3"
  },
  "language_info": {
   "codemirror_mode": {
    "name": "ipython",
    "version": 3
   },
   "file_extension": ".py",
   "mimetype": "text/x-python",
   "name": "python",
   "nbconvert_exporter": "python",
   "pygments_lexer": "ipython3",
   "version": "3.13.2"
  }
 },
 "nbformat": 4,
 "nbformat_minor": 5
}
