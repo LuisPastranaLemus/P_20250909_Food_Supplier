{
 "cells": [
  {
   "cell_type": "markdown",
   "id": "7b58c6ef",
   "metadata": {},
   "source": [
    "#### Data set cleaning\n",
    "\n",
    "Dataset: \n",
    " \n",
    " - _logs_exp_us.csv_\n",
    "\n",
    "Author: Luis Sergio Pastrana Lemus  \n",
    "Date: 20250909"
   ]
  },
  {
   "cell_type": "markdown",
   "id": "ca32144c",
   "metadata": {},
   "source": [
    "# Data Cleaning – Food Supplier Dataset"
   ]
  },
  {
   "cell_type": "markdown",
   "id": "1b9932f3",
   "metadata": {},
   "source": [
    "## __1. Libraries__."
   ]
  },
  {
   "cell_type": "code",
   "execution_count": 1,
   "id": "25981453",
   "metadata": {},
   "outputs": [],
   "source": [
    "from pathlib import Path\n",
    "import sys\n",
    "\n",
    "# Define project root dynamically, gets the current directory from which the notebook belongs and moves one level upper\n",
    "project_root = Path.cwd().parent\n",
    "\n",
    "# Add src to sys.path if it is not already\n",
    "if str(project_root) not in sys.path:\n",
    "    sys.path.append(str(project_root))\n",
    "\n",
    "# Import function directly (more controlled than import *)\n",
    "from src import *\n",
    "\n",
    "\n",
    "from IPython.display import display, HTML\n",
    "import os\n",
    "import pandas as pd"
   ]
  },
  {
   "cell_type": "markdown",
   "id": "80a9b14e",
   "metadata": {},
   "source": [
    "## __2. Path to Data file__."
   ]
  },
  {
   "cell_type": "code",
   "execution_count": 2,
   "id": "198282e9",
   "metadata": {},
   "outputs": [],
   "source": [
    "data_file_path = project_root / \"data\" / \"raw\"\n",
    "\n",
    "df_fs = load_dataset_from_csv(data_file_path, \"logs_exp_us.csv\", sep='\\t', header='infer', keep_default_na=False)\n"
   ]
  },
  {
   "cell_type": "markdown",
   "id": "c8293e31",
   "metadata": {},
   "source": [
    "##### `LSPL`\n",
    "\n",
    "**Note:** `keep_default_na=False` is used to later convert missing values to `pd.NA`.  \n",
    "This is beneficial because `pd.NA` provides:\n",
    "\n",
    "- Consistency across data types  \n",
    "- Type integrity preservation  \n",
    "- Cleaner logical operations  \n",
    "- Improved control over missing data\n",
    "\n",
    "Since high performance or heavy computation is not required here, using `pd.NA` is appropriate."
   ]
  },
  {
   "cell_type": "code",
   "execution_count": 3,
   "id": "3edd5dd5",
   "metadata": {},
   "outputs": [],
   "source": [
    "# Format notebook output\n",
    "format_notebook()"
   ]
  },
  {
   "cell_type": "markdown",
   "id": "76255815",
   "metadata": {},
   "source": [
    "## __3. Data set cleaning__."
   ]
  },
  {
   "cell_type": "code",
   "execution_count": 4,
   "id": "dd602d96",
   "metadata": {},
   "outputs": [
    {
     "name": "stdout",
     "output_type": "stream",
     "text": [
      "<class 'pandas.core.frame.DataFrame'>\n",
      "RangeIndex: 244126 entries, 0 to 244125\n",
      "Data columns (total 4 columns):\n",
      " #   Column          Non-Null Count   Dtype \n",
      "---  ------          --------------   ----- \n",
      " 0   EventName       244126 non-null  object\n",
      " 1   DeviceIDHash    244126 non-null  int64 \n",
      " 2   EventTimestamp  244126 non-null  int64 \n",
      " 3   ExpId           244126 non-null  int64 \n",
      "dtypes: int64(3), object(1)\n",
      "memory usage: 7.5+ MB\n"
     ]
    }
   ],
   "source": [
    "df_fs.info()"
   ]
  },
  {
   "cell_type": "markdown",
   "id": "9ecc42c7",
   "metadata": {},
   "source": [
    "### 3.1. Standardizing String values using \"snake case\"."
   ]
  },
  {
   "cell_type": "markdown",
   "id": "e009a930",
   "metadata": {},
   "source": [
    "#### 3.1.1 Standardizing Column Labels."
   ]
  },
  {
   "cell_type": "code",
   "execution_count": 5,
   "id": "05669bd8",
   "metadata": {},
   "outputs": [
    {
     "data": {
      "text/plain": [
       "Index(['eventname', 'deviceidhash', 'eventtimestamp', 'expid'], dtype='object')"
      ]
     },
     "execution_count": 5,
     "metadata": {},
     "output_type": "execute_result"
    }
   ],
   "source": [
    "# Standardize column labels with snake_case format\n",
    "df_fs = normalize_columns_headers_format(df_fs)\n",
    "df_fs.columns"
   ]
  },
  {
   "cell_type": "markdown",
   "id": "0cc7d74b",
   "metadata": {},
   "source": [
    "#### 3.1.2 Standardizing Dataframe String values."
   ]
  },
  {
   "cell_type": "code",
   "execution_count": 6,
   "id": "3482a2aa",
   "metadata": {},
   "outputs": [
    {
     "data": {
      "application/vnd.microsoft.datawrangler.viewer.v0+json": {
       "columns": [
        {
         "name": "index",
         "rawType": "int64",
         "type": "integer"
        },
        {
         "name": "eventname",
         "rawType": "object",
         "type": "string"
        },
        {
         "name": "deviceidhash",
         "rawType": "int64",
         "type": "integer"
        },
        {
         "name": "eventtimestamp",
         "rawType": "int64",
         "type": "integer"
        },
        {
         "name": "expid",
         "rawType": "int64",
         "type": "integer"
        }
       ],
       "ref": "6e756cb1-5568-4957-9338-c75326bf33d2",
       "rows": [
        [
         "0",
         "mainscreenappear",
         "4575588528974610257",
         "1564029816",
         "246"
        ],
        [
         "1",
         "mainscreenappear",
         "7416695313311560658",
         "1564053102",
         "246"
        ],
        [
         "2",
         "paymentscreensuccessful",
         "3518123091307005509",
         "1564054127",
         "248"
        ],
        [
         "3",
         "cartscreenappear",
         "3518123091307005509",
         "1564054127",
         "248"
        ],
        [
         "4",
         "paymentscreensuccessful",
         "6217807653094995999",
         "1564055322",
         "248"
        ],
        [
         "5",
         "cartscreenappear",
         "6217807653094995999",
         "1564055323",
         "248"
        ],
        [
         "6",
         "offersscreenappear",
         "8351860793733343758",
         "1564066242",
         "246"
        ],
        [
         "7",
         "mainscreenappear",
         "5682100281902512875",
         "1564085677",
         "246"
        ],
        [
         "8",
         "mainscreenappear",
         "1850981295691852772",
         "1564086702",
         "247"
        ],
        [
         "9",
         "mainscreenappear",
         "5407636962369102641",
         "1564112112",
         "246"
        ],
        [
         "10",
         "mainscreenappear",
         "948465712512390382",
         "1564119214",
         "247"
        ],
        [
         "11",
         "mainscreenappear",
         "2547684315586332355",
         "1564123826",
         "248"
        ],
        [
         "12",
         "mainscreenappear",
         "8885295911290764495",
         "1564124085",
         "248"
        ],
        [
         "13",
         "mainscreenappear",
         "2140904690380565988",
         "1564125732",
         "247"
        ],
        [
         "14",
         "mainscreenappear",
         "4444236400320272864",
         "1564135560",
         "246"
        ],
        [
         "15",
         "mainscreenappear",
         "8947220251154009657",
         "1564140668",
         "248"
        ],
        [
         "16",
         "mainscreenappear",
         "5839517684026830712",
         "1564141421",
         "247"
        ],
        [
         "17",
         "mainscreenappear",
         "7540130374989658208",
         "1564144283",
         "248"
        ],
        [
         "18",
         "cartscreenappear",
         "2575393697599976818",
         "1564148945",
         "247"
        ],
        [
         "19",
         "mainscreenappear",
         "4651149533106703820",
         "1564149866",
         "246"
        ],
        [
         "20",
         "offersscreenappear",
         "4651149533106703820",
         "1564149871",
         "246"
        ],
        [
         "21",
         "cartscreenappear",
         "4651149533106703820",
         "1564149877",
         "246"
        ],
        [
         "22",
         "offersscreenappear",
         "4651149533106703820",
         "1564149894",
         "246"
        ],
        [
         "23",
         "mainscreenappear",
         "8295497290010115455",
         "1564151349",
         "248"
        ],
        [
         "24",
         "mainscreenappear",
         "2467684065904615242",
         "1564155133",
         "247"
        ],
        [
         "25",
         "cartscreenappear",
         "5325250209390272889",
         "1564158298",
         "246"
        ],
        [
         "26",
         "offersscreenappear",
         "2029140728621466572",
         "1564160796",
         "246"
        ],
        [
         "27",
         "cartscreenappear",
         "2029140728621466572",
         "1564160801",
         "246"
        ],
        [
         "28",
         "paymentscreensuccessful",
         "2029140728621466572",
         "1564160801",
         "246"
        ],
        [
         "29",
         "tutorial",
         "6598157157289930061",
         "1564164239",
         "247"
        ],
        [
         "30",
         "tutorial",
         "6598157157289930061",
         "1564164247",
         "247"
        ],
        [
         "31",
         "offersscreenappear",
         "4917023139263453733",
         "1564164336",
         "247"
        ],
        [
         "32",
         "mainscreenappear",
         "7746900626563870083",
         "1564165246",
         "248"
        ],
        [
         "33",
         "mainscreenappear",
         "6587858566581626601",
         "1564165926",
         "246"
        ],
        [
         "34",
         "mainscreenappear",
         "6587858566581626601",
         "1564165934",
         "246"
        ],
        [
         "35",
         "paymentscreensuccessful",
         "746235405686708560",
         "1564170266",
         "248"
        ],
        [
         "36",
         "cartscreenappear",
         "746235405686708560",
         "1564170266",
         "248"
        ],
        [
         "37",
         "cartscreenappear",
         "6805714022805866600",
         "1564170267",
         "246"
        ],
        [
         "38",
         "paymentscreensuccessful",
         "6805714022805866600",
         "1564170267",
         "246"
        ],
        [
         "39",
         "mainscreenappear",
         "4363366562103092326",
         "1564185410",
         "248"
        ],
        [
         "40",
         "mainscreenappear",
         "4856890444852090984",
         "1564200928",
         "246"
        ],
        [
         "41",
         "mainscreenappear",
         "2470999879924103731",
         "1564209212",
         "247"
        ],
        [
         "42",
         "paymentscreensuccessful",
         "6075091495307260046",
         "1564209665",
         "246"
        ],
        [
         "43",
         "cartscreenappear",
         "6075091495307260046",
         "1564209665",
         "246"
        ],
        [
         "44",
         "mainscreenappear",
         "2040085853213296046",
         "1564210468",
         "248"
        ],
        [
         "45",
         "mainscreenappear",
         "3288659580761907806",
         "1564215790",
         "247"
        ],
        [
         "46",
         "offersscreenappear",
         "2039979342104336040",
         "1564216058",
         "247"
        ],
        [
         "47",
         "mainscreenappear",
         "5638851536233149647",
         "1564216100",
         "248"
        ],
        [
         "48",
         "mainscreenappear",
         "4827775328614831155",
         "1564217124",
         "247"
        ],
        [
         "49",
         "mainscreenappear",
         "4827775328614831155",
         "1564217125",
         "247"
        ]
       ],
       "shape": {
        "columns": 4,
        "rows": 244126
       }
      },
      "text/html": [
       "<div>\n",
       "<style scoped>\n",
       "    .dataframe tbody tr th:only-of-type {\n",
       "        vertical-align: middle;\n",
       "    }\n",
       "\n",
       "    .dataframe tbody tr th {\n",
       "        vertical-align: top;\n",
       "    }\n",
       "\n",
       "    .dataframe thead th {\n",
       "        text-align: right;\n",
       "    }\n",
       "</style>\n",
       "<table border=\"1\" class=\"dataframe\">\n",
       "  <thead>\n",
       "    <tr style=\"text-align: right;\">\n",
       "      <th></th>\n",
       "      <th>eventname</th>\n",
       "      <th>deviceidhash</th>\n",
       "      <th>eventtimestamp</th>\n",
       "      <th>expid</th>\n",
       "    </tr>\n",
       "  </thead>\n",
       "  <tbody>\n",
       "    <tr>\n",
       "      <th>0</th>\n",
       "      <td>mainscreenappear</td>\n",
       "      <td>4575588528974610257</td>\n",
       "      <td>1564029816</td>\n",
       "      <td>246</td>\n",
       "    </tr>\n",
       "    <tr>\n",
       "      <th>1</th>\n",
       "      <td>mainscreenappear</td>\n",
       "      <td>7416695313311560658</td>\n",
       "      <td>1564053102</td>\n",
       "      <td>246</td>\n",
       "    </tr>\n",
       "    <tr>\n",
       "      <th>2</th>\n",
       "      <td>paymentscreensuccessful</td>\n",
       "      <td>3518123091307005509</td>\n",
       "      <td>1564054127</td>\n",
       "      <td>248</td>\n",
       "    </tr>\n",
       "    <tr>\n",
       "      <th>3</th>\n",
       "      <td>cartscreenappear</td>\n",
       "      <td>3518123091307005509</td>\n",
       "      <td>1564054127</td>\n",
       "      <td>248</td>\n",
       "    </tr>\n",
       "    <tr>\n",
       "      <th>4</th>\n",
       "      <td>paymentscreensuccessful</td>\n",
       "      <td>6217807653094995999</td>\n",
       "      <td>1564055322</td>\n",
       "      <td>248</td>\n",
       "    </tr>\n",
       "    <tr>\n",
       "      <th>...</th>\n",
       "      <td>...</td>\n",
       "      <td>...</td>\n",
       "      <td>...</td>\n",
       "      <td>...</td>\n",
       "    </tr>\n",
       "    <tr>\n",
       "      <th>244121</th>\n",
       "      <td>mainscreenappear</td>\n",
       "      <td>4599628364049201812</td>\n",
       "      <td>1565212345</td>\n",
       "      <td>247</td>\n",
       "    </tr>\n",
       "    <tr>\n",
       "      <th>244122</th>\n",
       "      <td>mainscreenappear</td>\n",
       "      <td>5849806612437486590</td>\n",
       "      <td>1565212439</td>\n",
       "      <td>246</td>\n",
       "    </tr>\n",
       "    <tr>\n",
       "      <th>244123</th>\n",
       "      <td>mainscreenappear</td>\n",
       "      <td>5746969938801999050</td>\n",
       "      <td>1565212483</td>\n",
       "      <td>246</td>\n",
       "    </tr>\n",
       "    <tr>\n",
       "      <th>244124</th>\n",
       "      <td>mainscreenappear</td>\n",
       "      <td>5746969938801999050</td>\n",
       "      <td>1565212498</td>\n",
       "      <td>246</td>\n",
       "    </tr>\n",
       "    <tr>\n",
       "      <th>244125</th>\n",
       "      <td>offersscreenappear</td>\n",
       "      <td>5746969938801999050</td>\n",
       "      <td>1565212517</td>\n",
       "      <td>246</td>\n",
       "    </tr>\n",
       "  </tbody>\n",
       "</table>\n",
       "<p>244126 rows × 4 columns</p>\n",
       "</div>"
      ],
      "text/plain": [
       "                      eventname         deviceidhash  eventtimestamp  expid\n",
       "0              mainscreenappear  4575588528974610257      1564029816    246\n",
       "1              mainscreenappear  7416695313311560658      1564053102    246\n",
       "2       paymentscreensuccessful  3518123091307005509      1564054127    248\n",
       "3              cartscreenappear  3518123091307005509      1564054127    248\n",
       "4       paymentscreensuccessful  6217807653094995999      1564055322    248\n",
       "...                         ...                  ...             ...    ...\n",
       "244121         mainscreenappear  4599628364049201812      1565212345    247\n",
       "244122         mainscreenappear  5849806612437486590      1565212439    246\n",
       "244123         mainscreenappear  5746969938801999050      1565212483    246\n",
       "244124         mainscreenappear  5746969938801999050      1565212498    246\n",
       "244125       offersscreenappear  5746969938801999050      1565212517    246\n",
       "\n",
       "[244126 rows x 4 columns]"
      ]
     },
     "execution_count": 6,
     "metadata": {},
     "output_type": "execute_result"
    }
   ],
   "source": [
    "# Standardize data frame string values with snake_case format\n",
    "df_fs = normalize_string_format(df_fs, include=['eventname'])\n",
    "df_fs"
   ]
  },
  {
   "cell_type": "markdown",
   "id": "0f4c8b22",
   "metadata": {},
   "source": [
    "##### `LSPL`\n",
    "\n",
    "**Note:** \n",
    "\n",
    "The column names and string values did not follow a consistent format; they contained spaces and capital letters, making them difficult to manipulate.\n",
    "\n",
    "__Solution__: Column names and string values were standardized using lowercase letters, removing spaces, and applying the snake_case format.   \n",
    "__Impact__: This facilitated data access and manipulation, improving readability and reducing errors in analysis."
   ]
  },
  {
   "cell_type": "markdown",
   "id": "61835131",
   "metadata": {},
   "source": [
    "### 3.2 Explicit duplicates."
   ]
  },
  {
   "cell_type": "code",
   "execution_count": 7,
   "id": "b0c9d50f",
   "metadata": {},
   "outputs": [
    {
     "data": {
      "text/html": [
       "> Explicit duplicates amount Dataframe <i>'df_fs'</i>: <b>413</b>"
      ],
      "text/plain": [
       "<IPython.core.display.HTML object>"
      ]
     },
     "metadata": {},
     "output_type": "display_data"
    }
   ],
   "source": [
    "# Show explicit duplicates amount\n",
    "display(HTML(f\"> Explicit duplicates amount Dataframe <i>'df_fs'</i>: <b>{df_fs.duplicated().sum()}</b>\"))"
   ]
  },
  {
   "cell_type": "code",
   "execution_count": 8,
   "id": "315cf4ac",
   "metadata": {},
   "outputs": [
    {
     "data": {
      "text/html": [
       "> Explicit duplicates amount Dataframe <i>'df_fs'</i>: <b>0</b>"
      ],
      "text/plain": [
       "<IPython.core.display.HTML object>"
      ]
     },
     "metadata": {},
     "output_type": "display_data"
    }
   ],
   "source": [
    "# Delete explicit duplicated rows\n",
    "df_fs = df_fs.drop_duplicates().reset_index(drop=True)\n",
    "\n",
    "display(HTML(f\"> Explicit duplicates amount Dataframe <i>'df_fs'</i>: <b>{df_fs.duplicated().sum()}</b>\"))"
   ]
  },
  {
   "cell_type": "markdown",
   "id": "6ad10fbf",
   "metadata": {},
   "source": [
    "##### `LSPL`\n",
    "\n",
    "**Note:** \n",
    "\n",
    "Explicit duplicates found: 413, explicit duplicates were removed."
   ]
  },
  {
   "cell_type": "markdown",
   "id": "9ac34c63",
   "metadata": {},
   "source": [
    "### 3.3 Missing values."
   ]
  },
  {
   "cell_type": "markdown",
   "id": "c4c13b8e",
   "metadata": {},
   "source": [
    "#### 3.3.1 Missing values check."
   ]
  },
  {
   "cell_type": "code",
   "execution_count": 9,
   "id": "702c85b7",
   "metadata": {},
   "outputs": [
    {
     "data": {
      "text/html": [
       "<h4>Scanning for Non-Standard Missing Values</h4>"
      ],
      "text/plain": [
       "<IPython.core.display.HTML object>"
      ]
     },
     "metadata": {},
     "output_type": "display_data"
    },
    {
     "data": {
      "text/html": [
       "> Missing values in column <i>'eventname'</i>: None"
      ],
      "text/plain": [
       "<IPython.core.display.HTML object>"
      ]
     },
     "metadata": {},
     "output_type": "display_data"
    },
    {
     "data": {
      "text/html": [
       "> Missing values in column <i>'deviceidhash'</i>: None"
      ],
      "text/plain": [
       "<IPython.core.display.HTML object>"
      ]
     },
     "metadata": {},
     "output_type": "display_data"
    },
    {
     "data": {
      "text/html": [
       "> Missing values in column <i>'eventtimestamp'</i>: None"
      ],
      "text/plain": [
       "<IPython.core.display.HTML object>"
      ]
     },
     "metadata": {},
     "output_type": "display_data"
    },
    {
     "data": {
      "text/html": [
       "> Missing values in column <i>'expid'</i>: None"
      ],
      "text/plain": [
       "<IPython.core.display.HTML object>"
      ]
     },
     "metadata": {},
     "output_type": "display_data"
    },
    {
     "name": "stdout",
     "output_type": "stream",
     "text": [
      "\n"
     ]
    }
   ],
   "source": [
    "# Show missing values\n",
    "check_existing_missing_values(df_fs)"
   ]
  },
  {
   "cell_type": "markdown",
   "id": "b06e035d",
   "metadata": {},
   "source": [
    "#### 3.3.2 Replacing missing values (pd.NA)."
   ]
  },
  {
   "cell_type": "code",
   "execution_count": 10,
   "id": "ac29c2bc",
   "metadata": {},
   "outputs": [],
   "source": [
    "# Replace missing values with pd.NA\n",
    "# No need"
   ]
  },
  {
   "cell_type": "markdown",
   "id": "c916cd64",
   "metadata": {},
   "source": [
    "#### 3.3.3 Preview missing values."
   ]
  },
  {
   "cell_type": "code",
   "execution_count": 11,
   "id": "d06fa1d4",
   "metadata": {},
   "outputs": [],
   "source": [
    "# Show missing values heatmap\n",
    "# No need"
   ]
  },
  {
   "cell_type": "code",
   "execution_count": 12,
   "id": "4a3cc7ad",
   "metadata": {},
   "outputs": [],
   "source": [
    "# Show pd.NA missing values for 'columns' column\n",
    "# No need"
   ]
  },
  {
   "cell_type": "markdown",
   "id": "e959c190",
   "metadata": {},
   "source": [
    "#### 3.3.4  Missing values data imputation."
   ]
  },
  {
   "cell_type": "code",
   "execution_count": 13,
   "id": "eb3a8620",
   "metadata": {},
   "outputs": [],
   "source": [
    "# No need"
   ]
  },
  {
   "cell_type": "markdown",
   "id": "20e36a3f",
   "metadata": {},
   "source": [
    "##### `LSPL`\n",
    "\n",
    "**Note:** \n",
    "\n",
    "1. No missing values were found\n"
   ]
  },
  {
   "cell_type": "markdown",
   "id": "33af8b36",
   "metadata": {},
   "source": [
    "### 3.4 Implicit duplicates."
   ]
  },
  {
   "cell_type": "markdown",
   "id": "9db00f22",
   "metadata": {},
   "source": [
    "#### 3.4.1 Implicit duplicates check."
   ]
  },
  {
   "cell_type": "code",
   "execution_count": 14,
   "id": "a4aa4ca1",
   "metadata": {},
   "outputs": [
    {
     "name": "stderr",
     "output_type": "stream",
     "text": [
      "> Scanning for duplicates ...: 100%|██████████| 5/5 [00:00<00:00, 12018.06it/s]\n"
     ]
    },
    {
     "data": {
      "text/html": [
       "> <b>No</b> <i>implicit duplicates</i> found based on the current threshold."
      ],
      "text/plain": [
       "<IPython.core.display.HTML object>"
      ]
     },
     "metadata": {},
     "output_type": "display_data"
    }
   ],
   "source": [
    "# Show implicit duplicates df_aisles\n",
    "detect_implicit_duplicates_fuzzy(df_fs, 'eventname')"
   ]
  },
  {
   "cell_type": "markdown",
   "id": "a82bd0b0",
   "metadata": {},
   "source": [
    "#### 3.4.2 Implicit duplicates data imputation."
   ]
  },
  {
   "cell_type": "code",
   "execution_count": 15,
   "id": "1797a4f8",
   "metadata": {},
   "outputs": [],
   "source": [
    "# No need"
   ]
  },
  {
   "cell_type": "markdown",
   "id": "404b7e2b",
   "metadata": {},
   "source": [
    "### 3.5 Casting data types."
   ]
  },
  {
   "cell_type": "markdown",
   "id": "680c7814",
   "metadata": {},
   "source": [
    "#### 3.5.1 Casting to string data type."
   ]
  },
  {
   "cell_type": "code",
   "execution_count": 16,
   "id": "4227bb25",
   "metadata": {},
   "outputs": [],
   "source": [
    "# No need"
   ]
  },
  {
   "cell_type": "markdown",
   "id": "57bf9f3d",
   "metadata": {},
   "source": [
    "#### 3.5.2 Casting to numeric data type."
   ]
  },
  {
   "cell_type": "code",
   "execution_count": 17,
   "id": "7589bc17",
   "metadata": {},
   "outputs": [],
   "source": [
    "# No need"
   ]
  },
  {
   "cell_type": "markdown",
   "id": "9cbe18a0",
   "metadata": {},
   "source": [
    "#### 3.5.3 Casting to category data type."
   ]
  },
  {
   "cell_type": "code",
   "execution_count": 18,
   "id": "c7a37aa3",
   "metadata": {},
   "outputs": [
    {
     "data": {
      "text/plain": [
       "dtype('O')"
      ]
     },
     "execution_count": 18,
     "metadata": {},
     "output_type": "execute_result"
    }
   ],
   "source": [
    "# df_fs 'eventname' to category\n",
    "df_fs.loc[:, 'eventname'] = df_fs['eventname'].astype('category')\n",
    "df_fs['eventname'].dtype"
   ]
  },
  {
   "cell_type": "markdown",
   "id": "3d18070f",
   "metadata": {},
   "source": [
    "#### 3.5.4 Casting to boolean data type."
   ]
  },
  {
   "cell_type": "code",
   "execution_count": 19,
   "id": "63a80f05",
   "metadata": {},
   "outputs": [],
   "source": [
    "# No need"
   ]
  },
  {
   "cell_type": "markdown",
   "id": "33437600",
   "metadata": {},
   "source": [
    "#### 3.5.5 Casting to datetime data type."
   ]
  },
  {
   "cell_type": "code",
   "execution_count": 22,
   "id": "a3b356a2",
   "metadata": {},
   "outputs": [
    {
     "data": {
      "application/vnd.microsoft.datawrangler.viewer.v0+json": {
       "columns": [
        {
         "name": "index",
         "rawType": "object",
         "type": "string"
        },
        {
         "name": "0",
         "rawType": "object",
         "type": "unknown"
        }
       ],
       "ref": "d9673916-b678-494c-881e-c8af59ddfdd4",
       "rows": [
        [
         "eventname",
         "object"
        ],
        [
         "deviceidhash",
         "int64"
        ],
        [
         "datetime",
         "datetime64[ns, UTC]"
        ],
        [
         "expid",
         "int64"
        ]
       ],
       "shape": {
        "columns": 1,
        "rows": 4
       }
      },
      "text/plain": [
       "eventname                    object\n",
       "deviceidhash                  int64\n",
       "datetime        datetime64[ns, UTC]\n",
       "expid                         int64\n",
       "dtype: object"
      ]
     },
     "execution_count": 22,
     "metadata": {},
     "output_type": "execute_result"
    }
   ],
   "source": [
    "# df_fs 'eventtimestamp' to datetime\n",
    "df_fs.loc[:, :] = normalize_datetime(df_fs, include=['eventtimestamp'], unix_unit='s')\n",
    "df_fs = df_fs.rename(columns={'eventtimestamp': 'datetime'})\n",
    "df_fs.dtypes"
   ]
  },
  {
   "cell_type": "markdown",
   "id": "2e05402a",
   "metadata": {},
   "source": [
    "## __4. Final cleaning dataframe review__."
   ]
  },
  {
   "cell_type": "code",
   "execution_count": 23,
   "id": "f65c3ff3",
   "metadata": {},
   "outputs": [
    {
     "name": "stdout",
     "output_type": "stream",
     "text": [
      "<class 'pandas.core.frame.DataFrame'>\n",
      "RangeIndex: 243713 entries, 0 to 243712\n",
      "Data columns (total 4 columns):\n",
      " #   Column        Non-Null Count   Dtype              \n",
      "---  ------        --------------   -----              \n",
      " 0   eventname     243713 non-null  object             \n",
      " 1   deviceidhash  243713 non-null  int64              \n",
      " 2   datetime      243713 non-null  datetime64[ns, UTC]\n",
      " 3   expid         243713 non-null  int64              \n",
      "dtypes: datetime64[ns, UTC](1), int64(2), object(1)\n",
      "memory usage: 7.4+ MB\n"
     ]
    }
   ],
   "source": [
    "df_fs.info()"
   ]
  },
  {
   "cell_type": "markdown",
   "id": "d1c7b3ee",
   "metadata": {},
   "source": [
    "## __5. Generate a new clean Data set .csv file__."
   ]
  },
  {
   "cell_type": "code",
   "execution_count": 24,
   "id": "594c9231",
   "metadata": {},
   "outputs": [],
   "source": [
    "project_root = Path.cwd().parent\n",
    "processed_path = project_root / \"data\" / \"processed\" / \"clean\" / \"fs_clean.csv\"\n",
    "df_fs.to_csv(processed_path, index=False)"
   ]
  }
 ],
 "metadata": {
  "kernelspec": {
   "display_name": "Win11_Python-PipVenv-Github-Hmb7GD39",
   "language": "python",
   "name": "python3"
  },
  "language_info": {
   "codemirror_mode": {
    "name": "ipython",
    "version": 3
   },
   "file_extension": ".py",
   "mimetype": "text/x-python",
   "name": "python",
   "nbconvert_exporter": "python",
   "pygments_lexer": "ipython3",
   "version": "3.13.2"
  }
 },
 "nbformat": 4,
 "nbformat_minor": 5
}
