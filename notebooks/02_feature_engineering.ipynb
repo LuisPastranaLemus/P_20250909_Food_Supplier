{
 "cells": [
  {
   "cell_type": "markdown",
   "id": "7849e41b",
   "metadata": {},
   "source": [
    "#### Feature Engineering  \n",
    "\n",
    "Dataset: \n",
    "- _fs_clean.csv_\n",
    "\n",
    "Author: Luis Sergio Pastrana Lemus  \n",
    "Date: 2025-09-09"
   ]
  },
  {
   "cell_type": "markdown",
   "id": "19e2428c",
   "metadata": {},
   "source": [
    "# Feature engineering – Food Supplier Dataset"
   ]
  },
  {
   "cell_type": "markdown",
   "id": "415af0e2",
   "metadata": {},
   "source": [
    "## __1. Libraries__."
   ]
  },
  {
   "cell_type": "code",
   "execution_count": 1,
   "id": "eacf5d9a",
   "metadata": {},
   "outputs": [],
   "source": [
    "from pathlib import Path\n",
    "import sys\n",
    "\n",
    "# Define project root dynamically, gets the current directory from which the notebook belongs and moves one level upper\n",
    "project_root = Path.cwd().parent\n",
    "\n",
    "# Add src to sys.path if it is not already\n",
    "if str(project_root) not in sys.path:\n",
    "\n",
    "    sys.path.append(str(project_root))\n",
    "\n",
    "# Import function directly (more controlled than import *)\n",
    "from src import *\n",
    "\n",
    "from functools import partial\n",
    "from IPython.display import display, HTML\n",
    "import numpy as np\n",
    "import os\n",
    "import pandas as pd"
   ]
  },
  {
   "cell_type": "markdown",
   "id": "3be37b0b",
   "metadata": {},
   "source": [
    "## __2. Path to Data file__."
   ]
  },
  {
   "cell_type": "code",
   "execution_count": 2,
   "id": "7e7a75e0",
   "metadata": {},
   "outputs": [],
   "source": [
    "# Build route to data file and upload\n",
    "data_file_path = project_root / \"data\" / \"processed\" / \"clean\"\n",
    "df_fs_clean = load_dataset_from_csv(data_file_path, \"fs_clean.csv\", sep=',', header='infer')"
   ]
  },
  {
   "cell_type": "code",
   "execution_count": 3,
   "id": "db15faef",
   "metadata": {},
   "outputs": [],
   "source": [
    "# Format notebook output\n",
    "format_notebook()"
   ]
  },
  {
   "cell_type": "markdown",
   "id": "1f213604",
   "metadata": {},
   "source": [
    "## __Functions__."
   ]
  },
  {
   "cell_type": "code",
   "execution_count": 4,
   "id": "16edc9f9",
   "metadata": {},
   "outputs": [],
   "source": [
    "# Function "
   ]
  },
  {
   "cell_type": "markdown",
   "id": "c5bc07b2",
   "metadata": {},
   "source": [
    "## 3 __Casting to data types__."
   ]
  },
  {
   "cell_type": "markdown",
   "id": "2724341b",
   "metadata": {},
   "source": [
    "### 3.1 Casting to string data type."
   ]
  },
  {
   "cell_type": "code",
   "execution_count": 5,
   "id": "6df0cd4f",
   "metadata": {},
   "outputs": [
    {
     "data": {
      "application/vnd.microsoft.datawrangler.viewer.v0+json": {
       "columns": [
        {
         "name": "index",
         "rawType": "object",
         "type": "string"
        },
        {
         "name": "0",
         "rawType": "object",
         "type": "unknown"
        }
       ],
       "ref": "1afae618-539b-4a27-a41d-7e40b37fdaaf",
       "rows": [
        [
         "eventname",
         "object"
        ],
        [
         "deviceidhash",
         "int64"
        ],
        [
         "datetime",
         "datetime64[ns, UTC]"
        ],
        [
         "expid",
         "int64"
        ]
       ],
       "shape": {
        "columns": 1,
        "rows": 4
       }
      },
      "text/plain": [
       "eventname                    object\n",
       "deviceidhash                  int64\n",
       "datetime        datetime64[ns, UTC]\n",
       "expid                         int64\n",
       "dtype: object"
      ]
     },
     "execution_count": 5,
     "metadata": {},
     "output_type": "execute_result"
    }
   ],
   "source": [
    "# Casting dtypes\n",
    "# df_fs 'eventname' to category\n",
    "df_fs_clean.loc[:, 'eventname'] = df_fs_clean['eventname'].astype('category')\n",
    "df_fs_clean['eventname'].dtype\n",
    "\n",
    "# df_fs 'eventtimestamp' to datetime\n",
    "df_fs_clean.loc[:, :] = normalize_datetime(df_fs_clean, include=['datetime'], unix_unit='s')\n",
    "df_fs_clean.dtypes\n"
   ]
  },
  {
   "cell_type": "markdown",
   "id": "166c6add",
   "metadata": {},
   "source": [
    "## 4. Feature Engineering."
   ]
  },
  {
   "cell_type": "markdown",
   "id": "d97e720a",
   "metadata": {},
   "source": [
    "### 4.1 Datasets."
   ]
  },
  {
   "cell_type": "markdown",
   "id": "511db52e",
   "metadata": {},
   "source": [
    "#### 4.1.1 fs_clean."
   ]
  },
  {
   "cell_type": "code",
   "execution_count": 6,
   "id": "1e4d59ee",
   "metadata": {},
   "outputs": [
    {
     "data": {
      "application/vnd.microsoft.datawrangler.viewer.v0+json": {
       "columns": [
        {
         "name": "index",
         "rawType": "int64",
         "type": "integer"
        },
        {
         "name": "eventname",
         "rawType": "object",
         "type": "string"
        },
        {
         "name": "deviceidhash",
         "rawType": "int64",
         "type": "integer"
        },
        {
         "name": "datetime",
         "rawType": "datetime64[ns, UTC]",
         "type": "unknown"
        },
        {
         "name": "expid",
         "rawType": "int64",
         "type": "integer"
        }
       ],
       "ref": "68907a05-afa0-4feb-b6c0-4f45f434c7c9",
       "rows": [
        [
         "0",
         "mainscreenappear",
         "4575588528974610257",
         "2019-07-25 04:43:36+00:00",
         "246"
        ],
        [
         "1",
         "mainscreenappear",
         "7416695313311560658",
         "2019-07-25 11:11:42+00:00",
         "246"
        ],
        [
         "2",
         "paymentscreensuccessful",
         "3518123091307005509",
         "2019-07-25 11:28:47+00:00",
         "248"
        ],
        [
         "3",
         "cartscreenappear",
         "3518123091307005509",
         "2019-07-25 11:28:47+00:00",
         "248"
        ],
        [
         "4",
         "paymentscreensuccessful",
         "6217807653094995999",
         "2019-07-25 11:48:42+00:00",
         "248"
        ],
        [
         "5",
         "cartscreenappear",
         "6217807653094995999",
         "2019-07-25 11:48:43+00:00",
         "248"
        ],
        [
         "6",
         "offersscreenappear",
         "8351860793733343758",
         "2019-07-25 14:50:42+00:00",
         "246"
        ],
        [
         "7",
         "mainscreenappear",
         "5682100281902512875",
         "2019-07-25 20:14:37+00:00",
         "246"
        ],
        [
         "8",
         "mainscreenappear",
         "1850981295691852772",
         "2019-07-25 20:31:42+00:00",
         "247"
        ],
        [
         "9",
         "mainscreenappear",
         "5407636962369102641",
         "2019-07-26 03:35:12+00:00",
         "246"
        ],
        [
         "10",
         "mainscreenappear",
         "948465712512390382",
         "2019-07-26 05:33:34+00:00",
         "247"
        ],
        [
         "11",
         "mainscreenappear",
         "2547684315586332355",
         "2019-07-26 06:50:26+00:00",
         "248"
        ],
        [
         "12",
         "mainscreenappear",
         "8885295911290764495",
         "2019-07-26 06:54:45+00:00",
         "248"
        ],
        [
         "13",
         "mainscreenappear",
         "2140904690380565988",
         "2019-07-26 07:22:12+00:00",
         "247"
        ],
        [
         "14",
         "mainscreenappear",
         "4444236400320272864",
         "2019-07-26 10:06:00+00:00",
         "246"
        ],
        [
         "15",
         "mainscreenappear",
         "8947220251154009657",
         "2019-07-26 11:31:08+00:00",
         "248"
        ],
        [
         "16",
         "mainscreenappear",
         "5839517684026830712",
         "2019-07-26 11:43:41+00:00",
         "247"
        ],
        [
         "17",
         "mainscreenappear",
         "7540130374989658208",
         "2019-07-26 12:31:23+00:00",
         "248"
        ],
        [
         "18",
         "cartscreenappear",
         "2575393697599976818",
         "2019-07-26 13:49:05+00:00",
         "247"
        ],
        [
         "19",
         "mainscreenappear",
         "4651149533106703820",
         "2019-07-26 14:04:26+00:00",
         "246"
        ],
        [
         "20",
         "offersscreenappear",
         "4651149533106703820",
         "2019-07-26 14:04:31+00:00",
         "246"
        ],
        [
         "21",
         "cartscreenappear",
         "4651149533106703820",
         "2019-07-26 14:04:37+00:00",
         "246"
        ],
        [
         "22",
         "offersscreenappear",
         "4651149533106703820",
         "2019-07-26 14:04:54+00:00",
         "246"
        ],
        [
         "23",
         "mainscreenappear",
         "8295497290010115455",
         "2019-07-26 14:29:09+00:00",
         "248"
        ],
        [
         "24",
         "mainscreenappear",
         "2467684065904615242",
         "2019-07-26 15:32:13+00:00",
         "247"
        ],
        [
         "25",
         "cartscreenappear",
         "5325250209390272889",
         "2019-07-26 16:24:58+00:00",
         "246"
        ],
        [
         "26",
         "offersscreenappear",
         "2029140728621466572",
         "2019-07-26 17:06:36+00:00",
         "246"
        ],
        [
         "27",
         "cartscreenappear",
         "2029140728621466572",
         "2019-07-26 17:06:41+00:00",
         "246"
        ],
        [
         "28",
         "paymentscreensuccessful",
         "2029140728621466572",
         "2019-07-26 17:06:41+00:00",
         "246"
        ],
        [
         "29",
         "tutorial",
         "6598157157289930061",
         "2019-07-26 18:03:59+00:00",
         "247"
        ],
        [
         "30",
         "tutorial",
         "6598157157289930061",
         "2019-07-26 18:04:07+00:00",
         "247"
        ],
        [
         "31",
         "offersscreenappear",
         "4917023139263453733",
         "2019-07-26 18:05:36+00:00",
         "247"
        ],
        [
         "32",
         "mainscreenappear",
         "7746900626563870083",
         "2019-07-26 18:20:46+00:00",
         "248"
        ],
        [
         "33",
         "mainscreenappear",
         "6587858566581626601",
         "2019-07-26 18:32:06+00:00",
         "246"
        ],
        [
         "34",
         "mainscreenappear",
         "6587858566581626601",
         "2019-07-26 18:32:14+00:00",
         "246"
        ],
        [
         "35",
         "paymentscreensuccessful",
         "746235405686708560",
         "2019-07-26 19:44:26+00:00",
         "248"
        ],
        [
         "36",
         "cartscreenappear",
         "746235405686708560",
         "2019-07-26 19:44:26+00:00",
         "248"
        ],
        [
         "37",
         "cartscreenappear",
         "6805714022805866600",
         "2019-07-26 19:44:27+00:00",
         "246"
        ],
        [
         "38",
         "paymentscreensuccessful",
         "6805714022805866600",
         "2019-07-26 19:44:27+00:00",
         "246"
        ],
        [
         "39",
         "mainscreenappear",
         "4363366562103092326",
         "2019-07-26 23:56:50+00:00",
         "248"
        ],
        [
         "40",
         "mainscreenappear",
         "4856890444852090984",
         "2019-07-27 04:15:28+00:00",
         "246"
        ],
        [
         "41",
         "mainscreenappear",
         "2470999879924103731",
         "2019-07-27 06:33:32+00:00",
         "247"
        ],
        [
         "42",
         "paymentscreensuccessful",
         "6075091495307260046",
         "2019-07-27 06:41:05+00:00",
         "246"
        ],
        [
         "43",
         "cartscreenappear",
         "6075091495307260046",
         "2019-07-27 06:41:05+00:00",
         "246"
        ],
        [
         "44",
         "mainscreenappear",
         "2040085853213296046",
         "2019-07-27 06:54:28+00:00",
         "248"
        ],
        [
         "45",
         "mainscreenappear",
         "3288659580761907806",
         "2019-07-27 08:23:10+00:00",
         "247"
        ],
        [
         "46",
         "offersscreenappear",
         "2039979342104336040",
         "2019-07-27 08:27:38+00:00",
         "247"
        ],
        [
         "47",
         "mainscreenappear",
         "5638851536233149647",
         "2019-07-27 08:28:20+00:00",
         "248"
        ],
        [
         "48",
         "mainscreenappear",
         "4827775328614831155",
         "2019-07-27 08:45:24+00:00",
         "247"
        ],
        [
         "49",
         "mainscreenappear",
         "4827775328614831155",
         "2019-07-27 08:45:25+00:00",
         "247"
        ]
       ],
       "shape": {
        "columns": 4,
        "rows": 243713
       }
      },
      "text/html": [
       "<div>\n",
       "<style scoped>\n",
       "    .dataframe tbody tr th:only-of-type {\n",
       "        vertical-align: middle;\n",
       "    }\n",
       "\n",
       "    .dataframe tbody tr th {\n",
       "        vertical-align: top;\n",
       "    }\n",
       "\n",
       "    .dataframe thead th {\n",
       "        text-align: right;\n",
       "    }\n",
       "</style>\n",
       "<table border=\"1\" class=\"dataframe\">\n",
       "  <thead>\n",
       "    <tr style=\"text-align: right;\">\n",
       "      <th></th>\n",
       "      <th>eventname</th>\n",
       "      <th>deviceidhash</th>\n",
       "      <th>datetime</th>\n",
       "      <th>expid</th>\n",
       "    </tr>\n",
       "  </thead>\n",
       "  <tbody>\n",
       "    <tr>\n",
       "      <th>0</th>\n",
       "      <td>mainscreenappear</td>\n",
       "      <td>4575588528974610257</td>\n",
       "      <td>2019-07-25 04:43:36+00:00</td>\n",
       "      <td>246</td>\n",
       "    </tr>\n",
       "    <tr>\n",
       "      <th>1</th>\n",
       "      <td>mainscreenappear</td>\n",
       "      <td>7416695313311560658</td>\n",
       "      <td>2019-07-25 11:11:42+00:00</td>\n",
       "      <td>246</td>\n",
       "    </tr>\n",
       "    <tr>\n",
       "      <th>2</th>\n",
       "      <td>paymentscreensuccessful</td>\n",
       "      <td>3518123091307005509</td>\n",
       "      <td>2019-07-25 11:28:47+00:00</td>\n",
       "      <td>248</td>\n",
       "    </tr>\n",
       "    <tr>\n",
       "      <th>3</th>\n",
       "      <td>cartscreenappear</td>\n",
       "      <td>3518123091307005509</td>\n",
       "      <td>2019-07-25 11:28:47+00:00</td>\n",
       "      <td>248</td>\n",
       "    </tr>\n",
       "    <tr>\n",
       "      <th>4</th>\n",
       "      <td>paymentscreensuccessful</td>\n",
       "      <td>6217807653094995999</td>\n",
       "      <td>2019-07-25 11:48:42+00:00</td>\n",
       "      <td>248</td>\n",
       "    </tr>\n",
       "    <tr>\n",
       "      <th>...</th>\n",
       "      <td>...</td>\n",
       "      <td>...</td>\n",
       "      <td>...</td>\n",
       "      <td>...</td>\n",
       "    </tr>\n",
       "    <tr>\n",
       "      <th>243708</th>\n",
       "      <td>mainscreenappear</td>\n",
       "      <td>4599628364049201812</td>\n",
       "      <td>2019-08-07 21:12:25+00:00</td>\n",
       "      <td>247</td>\n",
       "    </tr>\n",
       "    <tr>\n",
       "      <th>243709</th>\n",
       "      <td>mainscreenappear</td>\n",
       "      <td>5849806612437486590</td>\n",
       "      <td>2019-08-07 21:13:59+00:00</td>\n",
       "      <td>246</td>\n",
       "    </tr>\n",
       "    <tr>\n",
       "      <th>243710</th>\n",
       "      <td>mainscreenappear</td>\n",
       "      <td>5746969938801999050</td>\n",
       "      <td>2019-08-07 21:14:43+00:00</td>\n",
       "      <td>246</td>\n",
       "    </tr>\n",
       "    <tr>\n",
       "      <th>243711</th>\n",
       "      <td>mainscreenappear</td>\n",
       "      <td>5746969938801999050</td>\n",
       "      <td>2019-08-07 21:14:58+00:00</td>\n",
       "      <td>246</td>\n",
       "    </tr>\n",
       "    <tr>\n",
       "      <th>243712</th>\n",
       "      <td>offersscreenappear</td>\n",
       "      <td>5746969938801999050</td>\n",
       "      <td>2019-08-07 21:15:17+00:00</td>\n",
       "      <td>246</td>\n",
       "    </tr>\n",
       "  </tbody>\n",
       "</table>\n",
       "<p>243713 rows × 4 columns</p>\n",
       "</div>"
      ],
      "text/plain": [
       "                      eventname         deviceidhash                  datetime  expid\n",
       "0              mainscreenappear  4575588528974610257 2019-07-25 04:43:36+00:00    246\n",
       "1              mainscreenappear  7416695313311560658 2019-07-25 11:11:42+00:00    246\n",
       "2       paymentscreensuccessful  3518123091307005509 2019-07-25 11:28:47+00:00    248\n",
       "3              cartscreenappear  3518123091307005509 2019-07-25 11:28:47+00:00    248\n",
       "4       paymentscreensuccessful  6217807653094995999 2019-07-25 11:48:42+00:00    248\n",
       "...                         ...                  ...                       ...    ...\n",
       "243708         mainscreenappear  4599628364049201812 2019-08-07 21:12:25+00:00    247\n",
       "243709         mainscreenappear  5849806612437486590 2019-08-07 21:13:59+00:00    246\n",
       "243710         mainscreenappear  5746969938801999050 2019-08-07 21:14:43+00:00    246\n",
       "243711         mainscreenappear  5746969938801999050 2019-08-07 21:14:58+00:00    246\n",
       "243712       offersscreenappear  5746969938801999050 2019-08-07 21:15:17+00:00    246\n",
       "\n",
       "[243713 rows x 4 columns]"
      ]
     },
     "execution_count": 6,
     "metadata": {},
     "output_type": "execute_result"
    }
   ],
   "source": [
    "df_fs_clean"
   ]
  },
  {
   "cell_type": "code",
   "execution_count": 7,
   "id": "724732b5",
   "metadata": {},
   "outputs": [
    {
     "data": {
      "application/vnd.microsoft.datawrangler.viewer.v0+json": {
       "columns": [
        {
         "name": "index",
         "rawType": "int64",
         "type": "integer"
        },
        {
         "name": "eventname",
         "rawType": "object",
         "type": "string"
        },
        {
         "name": "deviceidhash",
         "rawType": "int64",
         "type": "integer"
        },
        {
         "name": "datetime",
         "rawType": "datetime64[ns, UTC]",
         "type": "unknown"
        },
        {
         "name": "expid",
         "rawType": "int64",
         "type": "integer"
        },
        {
         "name": "date",
         "rawType": "object",
         "type": "unknown"
        },
        {
         "name": "time",
         "rawType": "object",
         "type": "unknown"
        }
       ],
       "ref": "5324030e-ad63-42f3-a58b-4e94ac2a09a0",
       "rows": [
        [
         "0",
         "mainscreenappear",
         "4575588528974610257",
         "2019-07-25 04:43:36+00:00",
         "246",
         "2019-07-25",
         "04:43:36"
        ],
        [
         "1",
         "mainscreenappear",
         "7416695313311560658",
         "2019-07-25 11:11:42+00:00",
         "246",
         "2019-07-25",
         "11:11:42"
        ],
        [
         "2",
         "paymentscreensuccessful",
         "3518123091307005509",
         "2019-07-25 11:28:47+00:00",
         "248",
         "2019-07-25",
         "11:28:47"
        ],
        [
         "3",
         "cartscreenappear",
         "3518123091307005509",
         "2019-07-25 11:28:47+00:00",
         "248",
         "2019-07-25",
         "11:28:47"
        ],
        [
         "4",
         "paymentscreensuccessful",
         "6217807653094995999",
         "2019-07-25 11:48:42+00:00",
         "248",
         "2019-07-25",
         "11:48:42"
        ],
        [
         "5",
         "cartscreenappear",
         "6217807653094995999",
         "2019-07-25 11:48:43+00:00",
         "248",
         "2019-07-25",
         "11:48:43"
        ],
        [
         "6",
         "offersscreenappear",
         "8351860793733343758",
         "2019-07-25 14:50:42+00:00",
         "246",
         "2019-07-25",
         "14:50:42"
        ],
        [
         "7",
         "mainscreenappear",
         "5682100281902512875",
         "2019-07-25 20:14:37+00:00",
         "246",
         "2019-07-25",
         "20:14:37"
        ],
        [
         "8",
         "mainscreenappear",
         "1850981295691852772",
         "2019-07-25 20:31:42+00:00",
         "247",
         "2019-07-25",
         "20:31:42"
        ],
        [
         "9",
         "mainscreenappear",
         "5407636962369102641",
         "2019-07-26 03:35:12+00:00",
         "246",
         "2019-07-26",
         "03:35:12"
        ],
        [
         "10",
         "mainscreenappear",
         "948465712512390382",
         "2019-07-26 05:33:34+00:00",
         "247",
         "2019-07-26",
         "05:33:34"
        ],
        [
         "11",
         "mainscreenappear",
         "2547684315586332355",
         "2019-07-26 06:50:26+00:00",
         "248",
         "2019-07-26",
         "06:50:26"
        ],
        [
         "12",
         "mainscreenappear",
         "8885295911290764495",
         "2019-07-26 06:54:45+00:00",
         "248",
         "2019-07-26",
         "06:54:45"
        ],
        [
         "13",
         "mainscreenappear",
         "2140904690380565988",
         "2019-07-26 07:22:12+00:00",
         "247",
         "2019-07-26",
         "07:22:12"
        ],
        [
         "14",
         "mainscreenappear",
         "4444236400320272864",
         "2019-07-26 10:06:00+00:00",
         "246",
         "2019-07-26",
         "10:06:00"
        ],
        [
         "15",
         "mainscreenappear",
         "8947220251154009657",
         "2019-07-26 11:31:08+00:00",
         "248",
         "2019-07-26",
         "11:31:08"
        ],
        [
         "16",
         "mainscreenappear",
         "5839517684026830712",
         "2019-07-26 11:43:41+00:00",
         "247",
         "2019-07-26",
         "11:43:41"
        ],
        [
         "17",
         "mainscreenappear",
         "7540130374989658208",
         "2019-07-26 12:31:23+00:00",
         "248",
         "2019-07-26",
         "12:31:23"
        ],
        [
         "18",
         "cartscreenappear",
         "2575393697599976818",
         "2019-07-26 13:49:05+00:00",
         "247",
         "2019-07-26",
         "13:49:05"
        ],
        [
         "19",
         "mainscreenappear",
         "4651149533106703820",
         "2019-07-26 14:04:26+00:00",
         "246",
         "2019-07-26",
         "14:04:26"
        ],
        [
         "20",
         "offersscreenappear",
         "4651149533106703820",
         "2019-07-26 14:04:31+00:00",
         "246",
         "2019-07-26",
         "14:04:31"
        ],
        [
         "21",
         "cartscreenappear",
         "4651149533106703820",
         "2019-07-26 14:04:37+00:00",
         "246",
         "2019-07-26",
         "14:04:37"
        ],
        [
         "22",
         "offersscreenappear",
         "4651149533106703820",
         "2019-07-26 14:04:54+00:00",
         "246",
         "2019-07-26",
         "14:04:54"
        ],
        [
         "23",
         "mainscreenappear",
         "8295497290010115455",
         "2019-07-26 14:29:09+00:00",
         "248",
         "2019-07-26",
         "14:29:09"
        ],
        [
         "24",
         "mainscreenappear",
         "2467684065904615242",
         "2019-07-26 15:32:13+00:00",
         "247",
         "2019-07-26",
         "15:32:13"
        ],
        [
         "25",
         "cartscreenappear",
         "5325250209390272889",
         "2019-07-26 16:24:58+00:00",
         "246",
         "2019-07-26",
         "16:24:58"
        ],
        [
         "26",
         "offersscreenappear",
         "2029140728621466572",
         "2019-07-26 17:06:36+00:00",
         "246",
         "2019-07-26",
         "17:06:36"
        ],
        [
         "27",
         "cartscreenappear",
         "2029140728621466572",
         "2019-07-26 17:06:41+00:00",
         "246",
         "2019-07-26",
         "17:06:41"
        ],
        [
         "28",
         "paymentscreensuccessful",
         "2029140728621466572",
         "2019-07-26 17:06:41+00:00",
         "246",
         "2019-07-26",
         "17:06:41"
        ],
        [
         "29",
         "tutorial",
         "6598157157289930061",
         "2019-07-26 18:03:59+00:00",
         "247",
         "2019-07-26",
         "18:03:59"
        ],
        [
         "30",
         "tutorial",
         "6598157157289930061",
         "2019-07-26 18:04:07+00:00",
         "247",
         "2019-07-26",
         "18:04:07"
        ],
        [
         "31",
         "offersscreenappear",
         "4917023139263453733",
         "2019-07-26 18:05:36+00:00",
         "247",
         "2019-07-26",
         "18:05:36"
        ],
        [
         "32",
         "mainscreenappear",
         "7746900626563870083",
         "2019-07-26 18:20:46+00:00",
         "248",
         "2019-07-26",
         "18:20:46"
        ],
        [
         "33",
         "mainscreenappear",
         "6587858566581626601",
         "2019-07-26 18:32:06+00:00",
         "246",
         "2019-07-26",
         "18:32:06"
        ],
        [
         "34",
         "mainscreenappear",
         "6587858566581626601",
         "2019-07-26 18:32:14+00:00",
         "246",
         "2019-07-26",
         "18:32:14"
        ],
        [
         "35",
         "paymentscreensuccessful",
         "746235405686708560",
         "2019-07-26 19:44:26+00:00",
         "248",
         "2019-07-26",
         "19:44:26"
        ],
        [
         "36",
         "cartscreenappear",
         "746235405686708560",
         "2019-07-26 19:44:26+00:00",
         "248",
         "2019-07-26",
         "19:44:26"
        ],
        [
         "37",
         "cartscreenappear",
         "6805714022805866600",
         "2019-07-26 19:44:27+00:00",
         "246",
         "2019-07-26",
         "19:44:27"
        ],
        [
         "38",
         "paymentscreensuccessful",
         "6805714022805866600",
         "2019-07-26 19:44:27+00:00",
         "246",
         "2019-07-26",
         "19:44:27"
        ],
        [
         "39",
         "mainscreenappear",
         "4363366562103092326",
         "2019-07-26 23:56:50+00:00",
         "248",
         "2019-07-26",
         "23:56:50"
        ],
        [
         "40",
         "mainscreenappear",
         "4856890444852090984",
         "2019-07-27 04:15:28+00:00",
         "246",
         "2019-07-27",
         "04:15:28"
        ],
        [
         "41",
         "mainscreenappear",
         "2470999879924103731",
         "2019-07-27 06:33:32+00:00",
         "247",
         "2019-07-27",
         "06:33:32"
        ],
        [
         "42",
         "paymentscreensuccessful",
         "6075091495307260046",
         "2019-07-27 06:41:05+00:00",
         "246",
         "2019-07-27",
         "06:41:05"
        ],
        [
         "43",
         "cartscreenappear",
         "6075091495307260046",
         "2019-07-27 06:41:05+00:00",
         "246",
         "2019-07-27",
         "06:41:05"
        ],
        [
         "44",
         "mainscreenappear",
         "2040085853213296046",
         "2019-07-27 06:54:28+00:00",
         "248",
         "2019-07-27",
         "06:54:28"
        ],
        [
         "45",
         "mainscreenappear",
         "3288659580761907806",
         "2019-07-27 08:23:10+00:00",
         "247",
         "2019-07-27",
         "08:23:10"
        ],
        [
         "46",
         "offersscreenappear",
         "2039979342104336040",
         "2019-07-27 08:27:38+00:00",
         "247",
         "2019-07-27",
         "08:27:38"
        ],
        [
         "47",
         "mainscreenappear",
         "5638851536233149647",
         "2019-07-27 08:28:20+00:00",
         "248",
         "2019-07-27",
         "08:28:20"
        ],
        [
         "48",
         "mainscreenappear",
         "4827775328614831155",
         "2019-07-27 08:45:24+00:00",
         "247",
         "2019-07-27",
         "08:45:24"
        ],
        [
         "49",
         "mainscreenappear",
         "4827775328614831155",
         "2019-07-27 08:45:25+00:00",
         "247",
         "2019-07-27",
         "08:45:25"
        ]
       ],
       "shape": {
        "columns": 6,
        "rows": 243713
       }
      },
      "text/html": [
       "<div>\n",
       "<style scoped>\n",
       "    .dataframe tbody tr th:only-of-type {\n",
       "        vertical-align: middle;\n",
       "    }\n",
       "\n",
       "    .dataframe tbody tr th {\n",
       "        vertical-align: top;\n",
       "    }\n",
       "\n",
       "    .dataframe thead th {\n",
       "        text-align: right;\n",
       "    }\n",
       "</style>\n",
       "<table border=\"1\" class=\"dataframe\">\n",
       "  <thead>\n",
       "    <tr style=\"text-align: right;\">\n",
       "      <th></th>\n",
       "      <th>eventname</th>\n",
       "      <th>deviceidhash</th>\n",
       "      <th>datetime</th>\n",
       "      <th>expid</th>\n",
       "      <th>date</th>\n",
       "      <th>time</th>\n",
       "    </tr>\n",
       "  </thead>\n",
       "  <tbody>\n",
       "    <tr>\n",
       "      <th>0</th>\n",
       "      <td>mainscreenappear</td>\n",
       "      <td>4575588528974610257</td>\n",
       "      <td>2019-07-25 04:43:36+00:00</td>\n",
       "      <td>246</td>\n",
       "      <td>2019-07-25</td>\n",
       "      <td>04:43:36</td>\n",
       "    </tr>\n",
       "    <tr>\n",
       "      <th>1</th>\n",
       "      <td>mainscreenappear</td>\n",
       "      <td>7416695313311560658</td>\n",
       "      <td>2019-07-25 11:11:42+00:00</td>\n",
       "      <td>246</td>\n",
       "      <td>2019-07-25</td>\n",
       "      <td>11:11:42</td>\n",
       "    </tr>\n",
       "    <tr>\n",
       "      <th>2</th>\n",
       "      <td>paymentscreensuccessful</td>\n",
       "      <td>3518123091307005509</td>\n",
       "      <td>2019-07-25 11:28:47+00:00</td>\n",
       "      <td>248</td>\n",
       "      <td>2019-07-25</td>\n",
       "      <td>11:28:47</td>\n",
       "    </tr>\n",
       "    <tr>\n",
       "      <th>3</th>\n",
       "      <td>cartscreenappear</td>\n",
       "      <td>3518123091307005509</td>\n",
       "      <td>2019-07-25 11:28:47+00:00</td>\n",
       "      <td>248</td>\n",
       "      <td>2019-07-25</td>\n",
       "      <td>11:28:47</td>\n",
       "    </tr>\n",
       "    <tr>\n",
       "      <th>4</th>\n",
       "      <td>paymentscreensuccessful</td>\n",
       "      <td>6217807653094995999</td>\n",
       "      <td>2019-07-25 11:48:42+00:00</td>\n",
       "      <td>248</td>\n",
       "      <td>2019-07-25</td>\n",
       "      <td>11:48:42</td>\n",
       "    </tr>\n",
       "    <tr>\n",
       "      <th>...</th>\n",
       "      <td>...</td>\n",
       "      <td>...</td>\n",
       "      <td>...</td>\n",
       "      <td>...</td>\n",
       "      <td>...</td>\n",
       "      <td>...</td>\n",
       "    </tr>\n",
       "    <tr>\n",
       "      <th>243708</th>\n",
       "      <td>mainscreenappear</td>\n",
       "      <td>4599628364049201812</td>\n",
       "      <td>2019-08-07 21:12:25+00:00</td>\n",
       "      <td>247</td>\n",
       "      <td>2019-08-07</td>\n",
       "      <td>21:12:25</td>\n",
       "    </tr>\n",
       "    <tr>\n",
       "      <th>243709</th>\n",
       "      <td>mainscreenappear</td>\n",
       "      <td>5849806612437486590</td>\n",
       "      <td>2019-08-07 21:13:59+00:00</td>\n",
       "      <td>246</td>\n",
       "      <td>2019-08-07</td>\n",
       "      <td>21:13:59</td>\n",
       "    </tr>\n",
       "    <tr>\n",
       "      <th>243710</th>\n",
       "      <td>mainscreenappear</td>\n",
       "      <td>5746969938801999050</td>\n",
       "      <td>2019-08-07 21:14:43+00:00</td>\n",
       "      <td>246</td>\n",
       "      <td>2019-08-07</td>\n",
       "      <td>21:14:43</td>\n",
       "    </tr>\n",
       "    <tr>\n",
       "      <th>243711</th>\n",
       "      <td>mainscreenappear</td>\n",
       "      <td>5746969938801999050</td>\n",
       "      <td>2019-08-07 21:14:58+00:00</td>\n",
       "      <td>246</td>\n",
       "      <td>2019-08-07</td>\n",
       "      <td>21:14:58</td>\n",
       "    </tr>\n",
       "    <tr>\n",
       "      <th>243712</th>\n",
       "      <td>offersscreenappear</td>\n",
       "      <td>5746969938801999050</td>\n",
       "      <td>2019-08-07 21:15:17+00:00</td>\n",
       "      <td>246</td>\n",
       "      <td>2019-08-07</td>\n",
       "      <td>21:15:17</td>\n",
       "    </tr>\n",
       "  </tbody>\n",
       "</table>\n",
       "<p>243713 rows × 6 columns</p>\n",
       "</div>"
      ],
      "text/plain": [
       "                      eventname         deviceidhash                  datetime  expid        date      time\n",
       "0              mainscreenappear  4575588528974610257 2019-07-25 04:43:36+00:00    246  2019-07-25  04:43:36\n",
       "1              mainscreenappear  7416695313311560658 2019-07-25 11:11:42+00:00    246  2019-07-25  11:11:42\n",
       "2       paymentscreensuccessful  3518123091307005509 2019-07-25 11:28:47+00:00    248  2019-07-25  11:28:47\n",
       "3              cartscreenappear  3518123091307005509 2019-07-25 11:28:47+00:00    248  2019-07-25  11:28:47\n",
       "4       paymentscreensuccessful  6217807653094995999 2019-07-25 11:48:42+00:00    248  2019-07-25  11:48:42\n",
       "...                         ...                  ...                       ...    ...         ...       ...\n",
       "243708         mainscreenappear  4599628364049201812 2019-08-07 21:12:25+00:00    247  2019-08-07  21:12:25\n",
       "243709         mainscreenappear  5849806612437486590 2019-08-07 21:13:59+00:00    246  2019-08-07  21:13:59\n",
       "243710         mainscreenappear  5746969938801999050 2019-08-07 21:14:43+00:00    246  2019-08-07  21:14:43\n",
       "243711         mainscreenappear  5746969938801999050 2019-08-07 21:14:58+00:00    246  2019-08-07  21:14:58\n",
       "243712       offersscreenappear  5746969938801999050 2019-08-07 21:15:17+00:00    246  2019-08-07  21:15:17\n",
       "\n",
       "[243713 rows x 6 columns]"
      ]
     },
     "execution_count": 7,
     "metadata": {},
     "output_type": "execute_result"
    }
   ],
   "source": [
    "# Add date column\n",
    "df_fs_clean['date'] = df_fs_clean['datetime'].dt.date\n",
    "\n",
    "# Add time column\n",
    "df_fs_clean['time'] = df_fs_clean['datetime'].dt.time\n",
    "\n",
    "df_fs_clean"
   ]
  },
  {
   "cell_type": "code",
   "execution_count": 8,
   "id": "e6606df2",
   "metadata": {},
   "outputs": [],
   "source": [
    "project_root = Path.cwd().parent\n",
    "processed_path = project_root / \"data\" / \"processed\" / \"feature\" / \"fs_feature.csv\"\n",
    "\n",
    "df_fs_clean.to_csv(processed_path, index=False)"
   ]
  }
 ],
 "metadata": {
  "kernelspec": {
   "display_name": "Win11_Python-PipVenv-Github-Hmb7GD39",
   "language": "python",
   "name": "python3"
  },
  "language_info": {
   "codemirror_mode": {
    "name": "ipython",
    "version": 3
   },
   "file_extension": ".py",
   "mimetype": "text/x-python",
   "name": "python",
   "nbconvert_exporter": "python",
   "pygments_lexer": "ipython3",
   "version": "3.13.2"
  }
 },
 "nbformat": 4,
 "nbformat_minor": 5
}
