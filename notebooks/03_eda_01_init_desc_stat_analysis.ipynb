{
 "cells": [
  {
   "cell_type": "markdown",
   "id": "5d5c2e85",
   "metadata": {},
   "source": [
    "#### Exploratory Data Analysis (EDA) - Initial Descriptive Statistics\n",
    "\n",
    "Dataset: \n",
    "- _fs_feature.csv_\n",
    "\n",
    "Author: Luis Sergio Pastrana Lemus  \n",
    "Date: 2025-09-09"
   ]
  },
  {
   "cell_type": "markdown",
   "id": "c881a345",
   "metadata": {},
   "source": [
    "# Exploratory Data Analysis – Food Supplier Dataset"
   ]
  },
  {
   "cell_type": "markdown",
   "id": "3a661c37",
   "metadata": {},
   "source": [
    "## __1. Libraries__."
   ]
  },
  {
   "cell_type": "code",
   "execution_count": 1,
   "id": "5ad85dad",
   "metadata": {},
   "outputs": [],
   "source": [
    "from pathlib import Path\n",
    "import sys\n",
    "\n",
    "# Define project root dynamically, gets the current directory from which the notebook belongs and moves one level upper\n",
    "project_root = Path.cwd().parent\n",
    "\n",
    "# Add src to sys.path if it is not already\n",
    "if str(project_root) not in sys.path:\n",
    "\n",
    "    sys.path.append(str(project_root))\n",
    "\n",
    "# Import function directly (more controlled than import *)\n",
    "from src import *\n",
    "\n",
    "\n",
    "from IPython.display import display, HTML\n",
    "import os\n",
    "import pandas as pd\n",
    "import numpy as np"
   ]
  },
  {
   "cell_type": "markdown",
   "id": "543653c1",
   "metadata": {},
   "source": [
    "## __2. Path to Data file__."
   ]
  },
  {
   "cell_type": "code",
   "execution_count": 2,
   "id": "f55d4a5a",
   "metadata": {},
   "outputs": [],
   "source": [
    "# Build route to data file and upload\n",
    "data_file_path = project_root / \"data\" / \"processed\" / \"feature\"\n",
    "\n",
    "df_fs = load_dataset_from_csv(data_file_path, \"fs_feature.csv\", header='infer', parse_dates=['datetime'])\n"
   ]
  },
  {
   "cell_type": "code",
   "execution_count": 3,
   "id": "40581125",
   "metadata": {},
   "outputs": [],
   "source": [
    "# Format notebook output\n",
    "format_notebook()"
   ]
  },
  {
   "cell_type": "markdown",
   "id": "1f86f807",
   "metadata": {},
   "source": [
    "## __3. Exploratory Data Analysis__."
   ]
  },
  {
   "cell_type": "markdown",
   "id": "dd54b9df",
   "metadata": {},
   "source": [
    "### 3.0 Casting Data types."
   ]
  },
  {
   "cell_type": "code",
   "execution_count": 4,
   "id": "0821cec9",
   "metadata": {},
   "outputs": [],
   "source": [
    "# Casting dtypes\n",
    "# df_fs 'eventname' to category\n",
    "df_fs.loc[:, 'eventname'] = df_fs['eventname'].astype('category')\n",
    "df_fs['eventname'].dtype\n",
    "\n",
    "# dfs 'date' and 'time' to datetime\n",
    "df_fs['date'] = pd.to_datetime(df_fs['date']).dt.date\n",
    "df_fs['time'] = pd.to_datetime(df_fs['time'], format='%H:%M:%S').dt.time"
   ]
  },
  {
   "cell_type": "code",
   "execution_count": 5,
   "id": "8179ee95",
   "metadata": {},
   "outputs": [
    {
     "name": "stdout",
     "output_type": "stream",
     "text": [
      "<class 'pandas.core.frame.DataFrame'>\n",
      "RangeIndex: 243713 entries, 0 to 243712\n",
      "Data columns (total 6 columns):\n",
      " #   Column        Non-Null Count   Dtype              \n",
      "---  ------        --------------   -----              \n",
      " 0   eventname     243713 non-null  object             \n",
      " 1   deviceidhash  243713 non-null  int64              \n",
      " 2   datetime      243713 non-null  datetime64[ns, UTC]\n",
      " 3   expid         243713 non-null  int64              \n",
      " 4   date          243713 non-null  object             \n",
      " 5   time          243713 non-null  object             \n",
      "dtypes: datetime64[ns, UTC](1), int64(2), object(3)\n",
      "memory usage: 11.2+ MB\n"
     ]
    }
   ],
   "source": [
    "df_fs.info()"
   ]
  },
  {
   "cell_type": "markdown",
   "id": "a02d2afe",
   "metadata": {},
   "source": [
    "### 3.1  Descriptive Statistics."
   ]
  },
  {
   "cell_type": "markdown",
   "id": "e795f8e6",
   "metadata": {},
   "source": [
    "#### 3.1.1 Descriptive statistics for Original datasets."
   ]
  },
  {
   "cell_type": "code",
   "execution_count": 6,
   "id": "ab055b3c",
   "metadata": {},
   "outputs": [
    {
     "data": {
      "application/vnd.microsoft.datawrangler.viewer.v0+json": {
       "columns": [
        {
         "name": "index",
         "rawType": "object",
         "type": "string"
        },
        {
         "name": "eventname",
         "rawType": "object",
         "type": "unknown"
        },
        {
         "name": "deviceidhash",
         "rawType": "float64",
         "type": "float"
        },
        {
         "name": "datetime",
         "rawType": "object",
         "type": "unknown"
        },
        {
         "name": "expid",
         "rawType": "float64",
         "type": "float"
        },
        {
         "name": "date",
         "rawType": "object",
         "type": "unknown"
        },
        {
         "name": "time",
         "rawType": "object",
         "type": "unknown"
        }
       ],
       "ref": "e8b76373-e2f5-431d-90ee-2ef03be1692b",
       "rows": [
        [
         "count",
         "243713",
         "243713.0",
         "243713",
         "243713.0",
         "243713",
         "243713"
        ],
        [
         "unique",
         "5",
         null,
         null,
         null,
         "14",
         "69824"
        ],
        [
         "top",
         "mainscreenappear",
         null,
         null,
         null,
         "2019-08-01",
         "12:29:55"
        ],
        [
         "freq",
         "119101",
         null,
         null,
         null,
         "36141",
         "19"
        ],
        [
         "mean",
         null,
         "4.6279628208162e+18",
         "2019-08-04 10:19:17.987665920+00:00",
         "247.02216131269157",
         null,
         null
        ],
        [
         "min",
         null,
         "6888746892508752.0",
         "2019-07-25 04:43:36+00:00",
         "246.0",
         null,
         null
        ],
        [
         "25%",
         null,
         "2.3722124769922406e+18",
         "2019-08-02 14:36:45+00:00",
         "246.0",
         null,
         null
        ],
        [
         "50%",
         null,
         "4.623191541214045e+18",
         "2019-08-04 11:51:00+00:00",
         "247.0",
         null,
         null
        ],
        [
         "75%",
         null,
         "6.932517045703054e+18",
         "2019-08-06 06:56:24+00:00",
         "248.0",
         null,
         null
        ],
        [
         "max",
         null,
         "9.222603179720524e+18",
         "2019-08-07 21:15:17+00:00",
         "248.0",
         null,
         null
        ],
        [
         "std",
         null,
         "2.642723221505612e+18",
         null,
         "0.8244199431354625",
         null,
         null
        ]
       ],
       "shape": {
        "columns": 6,
        "rows": 11
       }
      },
      "text/html": [
       "<div>\n",
       "<style scoped>\n",
       "    .dataframe tbody tr th:only-of-type {\n",
       "        vertical-align: middle;\n",
       "    }\n",
       "\n",
       "    .dataframe tbody tr th {\n",
       "        vertical-align: top;\n",
       "    }\n",
       "\n",
       "    .dataframe thead th {\n",
       "        text-align: right;\n",
       "    }\n",
       "</style>\n",
       "<table border=\"1\" class=\"dataframe\">\n",
       "  <thead>\n",
       "    <tr style=\"text-align: right;\">\n",
       "      <th></th>\n",
       "      <th>eventname</th>\n",
       "      <th>deviceidhash</th>\n",
       "      <th>datetime</th>\n",
       "      <th>expid</th>\n",
       "      <th>date</th>\n",
       "      <th>time</th>\n",
       "    </tr>\n",
       "  </thead>\n",
       "  <tbody>\n",
       "    <tr>\n",
       "      <th>count</th>\n",
       "      <td>243713</td>\n",
       "      <td>2.437130e+05</td>\n",
       "      <td>243713</td>\n",
       "      <td>243713.000000</td>\n",
       "      <td>243713</td>\n",
       "      <td>243713</td>\n",
       "    </tr>\n",
       "    <tr>\n",
       "      <th>unique</th>\n",
       "      <td>5</td>\n",
       "      <td>NaN</td>\n",
       "      <td>NaN</td>\n",
       "      <td>NaN</td>\n",
       "      <td>14</td>\n",
       "      <td>69824</td>\n",
       "    </tr>\n",
       "    <tr>\n",
       "      <th>top</th>\n",
       "      <td>mainscreenappear</td>\n",
       "      <td>NaN</td>\n",
       "      <td>NaN</td>\n",
       "      <td>NaN</td>\n",
       "      <td>2019-08-01</td>\n",
       "      <td>12:29:55</td>\n",
       "    </tr>\n",
       "    <tr>\n",
       "      <th>freq</th>\n",
       "      <td>119101</td>\n",
       "      <td>NaN</td>\n",
       "      <td>NaN</td>\n",
       "      <td>NaN</td>\n",
       "      <td>36141</td>\n",
       "      <td>19</td>\n",
       "    </tr>\n",
       "    <tr>\n",
       "      <th>mean</th>\n",
       "      <td>NaN</td>\n",
       "      <td>4.627963e+18</td>\n",
       "      <td>2019-08-04 10:19:17.987665920+00:00</td>\n",
       "      <td>247.022161</td>\n",
       "      <td>NaN</td>\n",
       "      <td>NaN</td>\n",
       "    </tr>\n",
       "    <tr>\n",
       "      <th>min</th>\n",
       "      <td>NaN</td>\n",
       "      <td>6.888747e+15</td>\n",
       "      <td>2019-07-25 04:43:36+00:00</td>\n",
       "      <td>246.000000</td>\n",
       "      <td>NaN</td>\n",
       "      <td>NaN</td>\n",
       "    </tr>\n",
       "    <tr>\n",
       "      <th>25%</th>\n",
       "      <td>NaN</td>\n",
       "      <td>2.372212e+18</td>\n",
       "      <td>2019-08-02 14:36:45+00:00</td>\n",
       "      <td>246.000000</td>\n",
       "      <td>NaN</td>\n",
       "      <td>NaN</td>\n",
       "    </tr>\n",
       "    <tr>\n",
       "      <th>50%</th>\n",
       "      <td>NaN</td>\n",
       "      <td>4.623192e+18</td>\n",
       "      <td>2019-08-04 11:51:00+00:00</td>\n",
       "      <td>247.000000</td>\n",
       "      <td>NaN</td>\n",
       "      <td>NaN</td>\n",
       "    </tr>\n",
       "    <tr>\n",
       "      <th>75%</th>\n",
       "      <td>NaN</td>\n",
       "      <td>6.932517e+18</td>\n",
       "      <td>2019-08-06 06:56:24+00:00</td>\n",
       "      <td>248.000000</td>\n",
       "      <td>NaN</td>\n",
       "      <td>NaN</td>\n",
       "    </tr>\n",
       "    <tr>\n",
       "      <th>max</th>\n",
       "      <td>NaN</td>\n",
       "      <td>9.222603e+18</td>\n",
       "      <td>2019-08-07 21:15:17+00:00</td>\n",
       "      <td>248.000000</td>\n",
       "      <td>NaN</td>\n",
       "      <td>NaN</td>\n",
       "    </tr>\n",
       "    <tr>\n",
       "      <th>std</th>\n",
       "      <td>NaN</td>\n",
       "      <td>2.642723e+18</td>\n",
       "      <td>NaN</td>\n",
       "      <td>0.824420</td>\n",
       "      <td>NaN</td>\n",
       "      <td>NaN</td>\n",
       "    </tr>\n",
       "  </tbody>\n",
       "</table>\n",
       "</div>"
      ],
      "text/plain": [
       "               eventname  deviceidhash                             datetime          expid        date      time\n",
       "count             243713  2.437130e+05                               243713  243713.000000      243713    243713\n",
       "unique                 5           NaN                                  NaN            NaN          14     69824\n",
       "top     mainscreenappear           NaN                                  NaN            NaN  2019-08-01  12:29:55\n",
       "freq              119101           NaN                                  NaN            NaN       36141        19\n",
       "mean                 NaN  4.627963e+18  2019-08-04 10:19:17.987665920+00:00     247.022161         NaN       NaN\n",
       "min                  NaN  6.888747e+15            2019-07-25 04:43:36+00:00     246.000000         NaN       NaN\n",
       "25%                  NaN  2.372212e+18            2019-08-02 14:36:45+00:00     246.000000         NaN       NaN\n",
       "50%                  NaN  4.623192e+18            2019-08-04 11:51:00+00:00     247.000000         NaN       NaN\n",
       "75%                  NaN  6.932517e+18            2019-08-06 06:56:24+00:00     248.000000         NaN       NaN\n",
       "max                  NaN  9.222603e+18            2019-08-07 21:15:17+00:00     248.000000         NaN       NaN\n",
       "std                  NaN  2.642723e+18                                  NaN       0.824420         NaN       NaN"
      ]
     },
     "execution_count": 6,
     "metadata": {},
     "output_type": "execute_result"
    }
   ],
   "source": [
    "# Descriptive statistics for df_xxx_clean dataset\n",
    "df_fs.describe(include='all')"
   ]
  }
 ],
 "metadata": {
  "kernelspec": {
   "display_name": "Win11_Python-PipVenv-Github-Hmb7GD39",
   "language": "python",
   "name": "python3"
  },
  "language_info": {
   "codemirror_mode": {
    "name": "ipython",
    "version": 3
   },
   "file_extension": ".py",
   "mimetype": "text/x-python",
   "name": "python",
   "nbconvert_exporter": "python",
   "pygments_lexer": "ipython3",
   "version": "3.13.2"
  }
 },
 "nbformat": 4,
 "nbformat_minor": 5
}
