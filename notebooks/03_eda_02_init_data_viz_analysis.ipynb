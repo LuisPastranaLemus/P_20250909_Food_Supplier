{
 "cells": [
  {
   "cell_type": "markdown",
   "id": "86b6e4c4",
   "metadata": {},
   "source": [
    "#### Exploratory Data Analysis (EDA) - Initial Data Visualization: Dispersion and Outliers\n",
    "\n",
    "Dataset: \n",
    "\n",
    "- _fs_feature.csv_\n",
    "\n",
    "Author: Luis Sergio Pastrana Lemus  \n",
    "Date: 2025-09-09"
   ]
  },
  {
   "cell_type": "markdown",
   "id": "1265cb38",
   "metadata": {},
   "source": [
    "# Exploratory Data Analysis – Food supplier Dataset"
   ]
  },
  {
   "cell_type": "markdown",
   "id": "7e86f362",
   "metadata": {},
   "source": [
    "## __1. Libraries__."
   ]
  },
  {
   "cell_type": "code",
   "execution_count": 1,
   "id": "29ae4e64",
   "metadata": {},
   "outputs": [],
   "source": [
    "from pathlib import Path\n",
    "import sys\n",
    "\n",
    "# Define project root dynamically, gets the current directory from which the notebook belongs and moves one level upper\n",
    "project_root = Path.cwd().parent\n",
    "\n",
    "# Add src to sys.path if it is not already\n",
    "if str(project_root) not in sys.path:\n",
    "\n",
    "    sys.path.append(str(project_root))\n",
    "\n",
    "# Import function directly (more controlled than import *)\n",
    "from src import *\n",
    "\n",
    "\n",
    "from IPython.display import display, HTML\n",
    "import os\n",
    "import pandas as pd\n",
    "import numpy as np"
   ]
  },
  {
   "cell_type": "markdown",
   "id": "1df00d6f",
   "metadata": {},
   "source": [
    "## __2. Path to Data file__."
   ]
  },
  {
   "cell_type": "code",
   "execution_count": 2,
   "id": "497b6875",
   "metadata": {},
   "outputs": [],
   "source": [
    "# Build route to data file and upload\n",
    "data_file_path = project_root / \"data\" / \"processed\" / \"feature\"\n",
    "\n",
    "df_fs = load_dataset_from_csv(data_file_path, \"fs_feature.csv\", header='infer', parse_dates=['datetime'])\n"
   ]
  },
  {
   "cell_type": "code",
   "execution_count": 3,
   "id": "3d951843",
   "metadata": {},
   "outputs": [],
   "source": [
    "# Format notebook output\n",
    "format_notebook()"
   ]
  },
  {
   "cell_type": "markdown",
   "id": "d648cfb7",
   "metadata": {},
   "source": [
    "## __3. Exploratory Data Analysis__."
   ]
  },
  {
   "cell_type": "markdown",
   "id": "8757619c",
   "metadata": {},
   "source": [
    "### 3.0 Casting Data types."
   ]
  },
  {
   "cell_type": "code",
   "execution_count": 4,
   "id": "adb93043",
   "metadata": {},
   "outputs": [],
   "source": [
    "# Casting dtypes\n",
    "# df_fs 'eventname' to category\n",
    "df_fs.loc[:, 'eventname'] = df_fs['eventname'].astype('category')\n",
    "df_fs['eventname'].dtype\n",
    "\n",
    "# dfs 'date' and 'time' to datetime\n",
    "df_fs['date'] = pd.to_datetime(df_fs['date']).dt.date\n",
    "df_fs['time'] = pd.to_datetime(df_fs['time'], format='%H:%M:%S').dt.time"
   ]
  },
  {
   "cell_type": "code",
   "execution_count": 5,
   "id": "04fdc866",
   "metadata": {},
   "outputs": [
    {
     "data": {
      "application/vnd.microsoft.datawrangler.viewer.v0+json": {
       "columns": [
        {
         "name": "index",
         "rawType": "int64",
         "type": "integer"
        },
        {
         "name": "eventname",
         "rawType": "object",
         "type": "string"
        },
        {
         "name": "deviceidhash",
         "rawType": "int64",
         "type": "integer"
        },
        {
         "name": "datetime",
         "rawType": "datetime64[ns, UTC]",
         "type": "unknown"
        },
        {
         "name": "expid",
         "rawType": "int64",
         "type": "integer"
        },
        {
         "name": "date",
         "rawType": "object",
         "type": "unknown"
        },
        {
         "name": "time",
         "rawType": "object",
         "type": "unknown"
        }
       ],
       "ref": "932ce402-d9ff-430d-9598-4c036b47de3f",
       "rows": [
        [
         "0",
         "mainscreenappear",
         "4575588528974610257",
         "2019-07-25 04:43:36+00:00",
         "246",
         "2019-07-25",
         "04:43:36"
        ],
        [
         "1",
         "mainscreenappear",
         "7416695313311560658",
         "2019-07-25 11:11:42+00:00",
         "246",
         "2019-07-25",
         "11:11:42"
        ],
        [
         "2",
         "paymentscreensuccessful",
         "3518123091307005509",
         "2019-07-25 11:28:47+00:00",
         "248",
         "2019-07-25",
         "11:28:47"
        ],
        [
         "3",
         "cartscreenappear",
         "3518123091307005509",
         "2019-07-25 11:28:47+00:00",
         "248",
         "2019-07-25",
         "11:28:47"
        ],
        [
         "4",
         "paymentscreensuccessful",
         "6217807653094995999",
         "2019-07-25 11:48:42+00:00",
         "248",
         "2019-07-25",
         "11:48:42"
        ],
        [
         "5",
         "cartscreenappear",
         "6217807653094995999",
         "2019-07-25 11:48:43+00:00",
         "248",
         "2019-07-25",
         "11:48:43"
        ],
        [
         "6",
         "offersscreenappear",
         "8351860793733343758",
         "2019-07-25 14:50:42+00:00",
         "246",
         "2019-07-25",
         "14:50:42"
        ],
        [
         "7",
         "mainscreenappear",
         "5682100281902512875",
         "2019-07-25 20:14:37+00:00",
         "246",
         "2019-07-25",
         "20:14:37"
        ],
        [
         "8",
         "mainscreenappear",
         "1850981295691852772",
         "2019-07-25 20:31:42+00:00",
         "247",
         "2019-07-25",
         "20:31:42"
        ],
        [
         "9",
         "mainscreenappear",
         "5407636962369102641",
         "2019-07-26 03:35:12+00:00",
         "246",
         "2019-07-26",
         "03:35:12"
        ],
        [
         "10",
         "mainscreenappear",
         "948465712512390382",
         "2019-07-26 05:33:34+00:00",
         "247",
         "2019-07-26",
         "05:33:34"
        ],
        [
         "11",
         "mainscreenappear",
         "2547684315586332355",
         "2019-07-26 06:50:26+00:00",
         "248",
         "2019-07-26",
         "06:50:26"
        ],
        [
         "12",
         "mainscreenappear",
         "8885295911290764495",
         "2019-07-26 06:54:45+00:00",
         "248",
         "2019-07-26",
         "06:54:45"
        ],
        [
         "13",
         "mainscreenappear",
         "2140904690380565988",
         "2019-07-26 07:22:12+00:00",
         "247",
         "2019-07-26",
         "07:22:12"
        ],
        [
         "14",
         "mainscreenappear",
         "4444236400320272864",
         "2019-07-26 10:06:00+00:00",
         "246",
         "2019-07-26",
         "10:06:00"
        ],
        [
         "15",
         "mainscreenappear",
         "8947220251154009657",
         "2019-07-26 11:31:08+00:00",
         "248",
         "2019-07-26",
         "11:31:08"
        ],
        [
         "16",
         "mainscreenappear",
         "5839517684026830712",
         "2019-07-26 11:43:41+00:00",
         "247",
         "2019-07-26",
         "11:43:41"
        ],
        [
         "17",
         "mainscreenappear",
         "7540130374989658208",
         "2019-07-26 12:31:23+00:00",
         "248",
         "2019-07-26",
         "12:31:23"
        ],
        [
         "18",
         "cartscreenappear",
         "2575393697599976818",
         "2019-07-26 13:49:05+00:00",
         "247",
         "2019-07-26",
         "13:49:05"
        ],
        [
         "19",
         "mainscreenappear",
         "4651149533106703820",
         "2019-07-26 14:04:26+00:00",
         "246",
         "2019-07-26",
         "14:04:26"
        ],
        [
         "20",
         "offersscreenappear",
         "4651149533106703820",
         "2019-07-26 14:04:31+00:00",
         "246",
         "2019-07-26",
         "14:04:31"
        ],
        [
         "21",
         "cartscreenappear",
         "4651149533106703820",
         "2019-07-26 14:04:37+00:00",
         "246",
         "2019-07-26",
         "14:04:37"
        ],
        [
         "22",
         "offersscreenappear",
         "4651149533106703820",
         "2019-07-26 14:04:54+00:00",
         "246",
         "2019-07-26",
         "14:04:54"
        ],
        [
         "23",
         "mainscreenappear",
         "8295497290010115455",
         "2019-07-26 14:29:09+00:00",
         "248",
         "2019-07-26",
         "14:29:09"
        ],
        [
         "24",
         "mainscreenappear",
         "2467684065904615242",
         "2019-07-26 15:32:13+00:00",
         "247",
         "2019-07-26",
         "15:32:13"
        ],
        [
         "25",
         "cartscreenappear",
         "5325250209390272889",
         "2019-07-26 16:24:58+00:00",
         "246",
         "2019-07-26",
         "16:24:58"
        ],
        [
         "26",
         "offersscreenappear",
         "2029140728621466572",
         "2019-07-26 17:06:36+00:00",
         "246",
         "2019-07-26",
         "17:06:36"
        ],
        [
         "27",
         "cartscreenappear",
         "2029140728621466572",
         "2019-07-26 17:06:41+00:00",
         "246",
         "2019-07-26",
         "17:06:41"
        ],
        [
         "28",
         "paymentscreensuccessful",
         "2029140728621466572",
         "2019-07-26 17:06:41+00:00",
         "246",
         "2019-07-26",
         "17:06:41"
        ],
        [
         "29",
         "tutorial",
         "6598157157289930061",
         "2019-07-26 18:03:59+00:00",
         "247",
         "2019-07-26",
         "18:03:59"
        ],
        [
         "30",
         "tutorial",
         "6598157157289930061",
         "2019-07-26 18:04:07+00:00",
         "247",
         "2019-07-26",
         "18:04:07"
        ],
        [
         "31",
         "offersscreenappear",
         "4917023139263453733",
         "2019-07-26 18:05:36+00:00",
         "247",
         "2019-07-26",
         "18:05:36"
        ],
        [
         "32",
         "mainscreenappear",
         "7746900626563870083",
         "2019-07-26 18:20:46+00:00",
         "248",
         "2019-07-26",
         "18:20:46"
        ],
        [
         "33",
         "mainscreenappear",
         "6587858566581626601",
         "2019-07-26 18:32:06+00:00",
         "246",
         "2019-07-26",
         "18:32:06"
        ],
        [
         "34",
         "mainscreenappear",
         "6587858566581626601",
         "2019-07-26 18:32:14+00:00",
         "246",
         "2019-07-26",
         "18:32:14"
        ],
        [
         "35",
         "paymentscreensuccessful",
         "746235405686708560",
         "2019-07-26 19:44:26+00:00",
         "248",
         "2019-07-26",
         "19:44:26"
        ],
        [
         "36",
         "cartscreenappear",
         "746235405686708560",
         "2019-07-26 19:44:26+00:00",
         "248",
         "2019-07-26",
         "19:44:26"
        ],
        [
         "37",
         "cartscreenappear",
         "6805714022805866600",
         "2019-07-26 19:44:27+00:00",
         "246",
         "2019-07-26",
         "19:44:27"
        ],
        [
         "38",
         "paymentscreensuccessful",
         "6805714022805866600",
         "2019-07-26 19:44:27+00:00",
         "246",
         "2019-07-26",
         "19:44:27"
        ],
        [
         "39",
         "mainscreenappear",
         "4363366562103092326",
         "2019-07-26 23:56:50+00:00",
         "248",
         "2019-07-26",
         "23:56:50"
        ],
        [
         "40",
         "mainscreenappear",
         "4856890444852090984",
         "2019-07-27 04:15:28+00:00",
         "246",
         "2019-07-27",
         "04:15:28"
        ],
        [
         "41",
         "mainscreenappear",
         "2470999879924103731",
         "2019-07-27 06:33:32+00:00",
         "247",
         "2019-07-27",
         "06:33:32"
        ],
        [
         "42",
         "paymentscreensuccessful",
         "6075091495307260046",
         "2019-07-27 06:41:05+00:00",
         "246",
         "2019-07-27",
         "06:41:05"
        ],
        [
         "43",
         "cartscreenappear",
         "6075091495307260046",
         "2019-07-27 06:41:05+00:00",
         "246",
         "2019-07-27",
         "06:41:05"
        ],
        [
         "44",
         "mainscreenappear",
         "2040085853213296046",
         "2019-07-27 06:54:28+00:00",
         "248",
         "2019-07-27",
         "06:54:28"
        ],
        [
         "45",
         "mainscreenappear",
         "3288659580761907806",
         "2019-07-27 08:23:10+00:00",
         "247",
         "2019-07-27",
         "08:23:10"
        ],
        [
         "46",
         "offersscreenappear",
         "2039979342104336040",
         "2019-07-27 08:27:38+00:00",
         "247",
         "2019-07-27",
         "08:27:38"
        ],
        [
         "47",
         "mainscreenappear",
         "5638851536233149647",
         "2019-07-27 08:28:20+00:00",
         "248",
         "2019-07-27",
         "08:28:20"
        ],
        [
         "48",
         "mainscreenappear",
         "4827775328614831155",
         "2019-07-27 08:45:24+00:00",
         "247",
         "2019-07-27",
         "08:45:24"
        ],
        [
         "49",
         "mainscreenappear",
         "4827775328614831155",
         "2019-07-27 08:45:25+00:00",
         "247",
         "2019-07-27",
         "08:45:25"
        ]
       ],
       "shape": {
        "columns": 6,
        "rows": 243713
       }
      },
      "text/html": [
       "<div>\n",
       "<style scoped>\n",
       "    .dataframe tbody tr th:only-of-type {\n",
       "        vertical-align: middle;\n",
       "    }\n",
       "\n",
       "    .dataframe tbody tr th {\n",
       "        vertical-align: top;\n",
       "    }\n",
       "\n",
       "    .dataframe thead th {\n",
       "        text-align: right;\n",
       "    }\n",
       "</style>\n",
       "<table border=\"1\" class=\"dataframe\">\n",
       "  <thead>\n",
       "    <tr style=\"text-align: right;\">\n",
       "      <th></th>\n",
       "      <th>eventname</th>\n",
       "      <th>deviceidhash</th>\n",
       "      <th>datetime</th>\n",
       "      <th>expid</th>\n",
       "      <th>date</th>\n",
       "      <th>time</th>\n",
       "    </tr>\n",
       "  </thead>\n",
       "  <tbody>\n",
       "    <tr>\n",
       "      <th>0</th>\n",
       "      <td>mainscreenappear</td>\n",
       "      <td>4575588528974610257</td>\n",
       "      <td>2019-07-25 04:43:36+00:00</td>\n",
       "      <td>246</td>\n",
       "      <td>2019-07-25</td>\n",
       "      <td>04:43:36</td>\n",
       "    </tr>\n",
       "    <tr>\n",
       "      <th>1</th>\n",
       "      <td>mainscreenappear</td>\n",
       "      <td>7416695313311560658</td>\n",
       "      <td>2019-07-25 11:11:42+00:00</td>\n",
       "      <td>246</td>\n",
       "      <td>2019-07-25</td>\n",
       "      <td>11:11:42</td>\n",
       "    </tr>\n",
       "    <tr>\n",
       "      <th>2</th>\n",
       "      <td>paymentscreensuccessful</td>\n",
       "      <td>3518123091307005509</td>\n",
       "      <td>2019-07-25 11:28:47+00:00</td>\n",
       "      <td>248</td>\n",
       "      <td>2019-07-25</td>\n",
       "      <td>11:28:47</td>\n",
       "    </tr>\n",
       "    <tr>\n",
       "      <th>3</th>\n",
       "      <td>cartscreenappear</td>\n",
       "      <td>3518123091307005509</td>\n",
       "      <td>2019-07-25 11:28:47+00:00</td>\n",
       "      <td>248</td>\n",
       "      <td>2019-07-25</td>\n",
       "      <td>11:28:47</td>\n",
       "    </tr>\n",
       "    <tr>\n",
       "      <th>4</th>\n",
       "      <td>paymentscreensuccessful</td>\n",
       "      <td>6217807653094995999</td>\n",
       "      <td>2019-07-25 11:48:42+00:00</td>\n",
       "      <td>248</td>\n",
       "      <td>2019-07-25</td>\n",
       "      <td>11:48:42</td>\n",
       "    </tr>\n",
       "    <tr>\n",
       "      <th>...</th>\n",
       "      <td>...</td>\n",
       "      <td>...</td>\n",
       "      <td>...</td>\n",
       "      <td>...</td>\n",
       "      <td>...</td>\n",
       "      <td>...</td>\n",
       "    </tr>\n",
       "    <tr>\n",
       "      <th>243708</th>\n",
       "      <td>mainscreenappear</td>\n",
       "      <td>4599628364049201812</td>\n",
       "      <td>2019-08-07 21:12:25+00:00</td>\n",
       "      <td>247</td>\n",
       "      <td>2019-08-07</td>\n",
       "      <td>21:12:25</td>\n",
       "    </tr>\n",
       "    <tr>\n",
       "      <th>243709</th>\n",
       "      <td>mainscreenappear</td>\n",
       "      <td>5849806612437486590</td>\n",
       "      <td>2019-08-07 21:13:59+00:00</td>\n",
       "      <td>246</td>\n",
       "      <td>2019-08-07</td>\n",
       "      <td>21:13:59</td>\n",
       "    </tr>\n",
       "    <tr>\n",
       "      <th>243710</th>\n",
       "      <td>mainscreenappear</td>\n",
       "      <td>5746969938801999050</td>\n",
       "      <td>2019-08-07 21:14:43+00:00</td>\n",
       "      <td>246</td>\n",
       "      <td>2019-08-07</td>\n",
       "      <td>21:14:43</td>\n",
       "    </tr>\n",
       "    <tr>\n",
       "      <th>243711</th>\n",
       "      <td>mainscreenappear</td>\n",
       "      <td>5746969938801999050</td>\n",
       "      <td>2019-08-07 21:14:58+00:00</td>\n",
       "      <td>246</td>\n",
       "      <td>2019-08-07</td>\n",
       "      <td>21:14:58</td>\n",
       "    </tr>\n",
       "    <tr>\n",
       "      <th>243712</th>\n",
       "      <td>offersscreenappear</td>\n",
       "      <td>5746969938801999050</td>\n",
       "      <td>2019-08-07 21:15:17+00:00</td>\n",
       "      <td>246</td>\n",
       "      <td>2019-08-07</td>\n",
       "      <td>21:15:17</td>\n",
       "    </tr>\n",
       "  </tbody>\n",
       "</table>\n",
       "<p>243713 rows × 6 columns</p>\n",
       "</div>"
      ],
      "text/plain": [
       "                      eventname         deviceidhash                  datetime  expid        date      time\n",
       "0              mainscreenappear  4575588528974610257 2019-07-25 04:43:36+00:00    246  2019-07-25  04:43:36\n",
       "1              mainscreenappear  7416695313311560658 2019-07-25 11:11:42+00:00    246  2019-07-25  11:11:42\n",
       "2       paymentscreensuccessful  3518123091307005509 2019-07-25 11:28:47+00:00    248  2019-07-25  11:28:47\n",
       "3              cartscreenappear  3518123091307005509 2019-07-25 11:28:47+00:00    248  2019-07-25  11:28:47\n",
       "4       paymentscreensuccessful  6217807653094995999 2019-07-25 11:48:42+00:00    248  2019-07-25  11:48:42\n",
       "...                         ...                  ...                       ...    ...         ...       ...\n",
       "243708         mainscreenappear  4599628364049201812 2019-08-07 21:12:25+00:00    247  2019-08-07  21:12:25\n",
       "243709         mainscreenappear  5849806612437486590 2019-08-07 21:13:59+00:00    246  2019-08-07  21:13:59\n",
       "243710         mainscreenappear  5746969938801999050 2019-08-07 21:14:43+00:00    246  2019-08-07  21:14:43\n",
       "243711         mainscreenappear  5746969938801999050 2019-08-07 21:14:58+00:00    246  2019-08-07  21:14:58\n",
       "243712       offersscreenappear  5746969938801999050 2019-08-07 21:15:17+00:00    246  2019-08-07  21:15:17\n",
       "\n",
       "[243713 rows x 6 columns]"
      ]
     },
     "execution_count": 5,
     "metadata": {},
     "output_type": "execute_result"
    }
   ],
   "source": [
    "df_fs"
   ]
  },
  {
   "cell_type": "markdown",
   "id": "09c3e18b",
   "metadata": {},
   "source": [
    "### 3.3 Data Visualization: Data Analysis."
   ]
  },
  {
   "cell_type": "markdown",
   "id": "23856cb6",
   "metadata": {},
   "source": [
    "3.3.1 How many events are in the logs?"
   ]
  },
  {
   "cell_type": "code",
   "execution_count": 6,
   "id": "367d1f8e",
   "metadata": {},
   "outputs": [
    {
     "data": {
      "text/html": [
       "> <b>Total</b> number of <b>events</b> within the records: <i>243713</i> (events)"
      ],
      "text/plain": [
       "<IPython.core.display.HTML object>"
      ]
     },
     "metadata": {},
     "output_type": "display_data"
    }
   ],
   "source": [
    "# Show total number of events within the records\n",
    "display(HTML(f\"> <b>Total</b> number of <b>events</b> within the records: <i>{df_fs.shape[0]}</i> (events)\"))"
   ]
  },
  {
   "cell_type": "markdown",
   "id": "9ff6b8c3",
   "metadata": {},
   "source": [
    "3.3.2 How many users are there in the records?"
   ]
  },
  {
   "cell_type": "code",
   "execution_count": 7,
   "id": "bf7766d4",
   "metadata": {},
   "outputs": [
    {
     "data": {
      "text/html": [
       "> <b>Total</b> number of <b>users</b> within the records: <i>7551</i> (users)"
      ],
      "text/plain": [
       "<IPython.core.display.HTML object>"
      ]
     },
     "metadata": {},
     "output_type": "display_data"
    }
   ],
   "source": [
    "# Show total number users within the records\n",
    "display(HTML(f\"> <b>Total</b> number of <b>users</b> within the records: <i>{df_fs['deviceidhash'].nunique()}</i> (users)\"))"
   ]
  },
  {
   "cell_type": "markdown",
   "id": "de871d37",
   "metadata": {},
   "source": [
    "3.3.3 What is the average number of events per user?"
   ]
  },
  {
   "cell_type": "code",
   "execution_count": 8,
   "id": "8851ac22",
   "metadata": {},
   "outputs": [
    {
     "data": {
      "text/html": [
       "> <b>Average</b> number of <b>events</b> per user: <i>32.276</i> (events)"
      ],
      "text/plain": [
       "<IPython.core.display.HTML object>"
      ]
     },
     "metadata": {},
     "output_type": "display_data"
    }
   ],
   "source": [
    "# Show the average number of events per user\n",
    "display(HTML(f\"> <b>Average</b> number of <b>events</b> per user: <i>{df_fs.groupby('deviceidhash')['eventname'].count().mean():.3f}</i> (events)\"))"
   ]
  },
  {
   "cell_type": "markdown",
   "id": "4c65f49c",
   "metadata": {},
   "source": [
    "3.3.4 What time period does the data cover? Find the maximum and minimum dates. Plot a histogram by date and time. What period do the data actually represent?"
   ]
  },
  {
   "cell_type": "code",
   "execution_count": 9,
   "id": "5d7c95e6",
   "metadata": {},
   "outputs": [
    {
     "data": {
      "text/html": [
       "> <b>Earliest date</b> within the records: <i>2019-07-25</i>"
      ],
      "text/plain": [
       "<IPython.core.display.HTML object>"
      ]
     },
     "metadata": {},
     "output_type": "display_data"
    },
    {
     "data": {
      "text/html": [
       "> <b>Latest date</b> within the records: <i>2019-08-07</i>"
      ],
      "text/plain": [
       "<IPython.core.display.HTML object>"
      ]
     },
     "metadata": {},
     "output_type": "display_data"
    }
   ],
   "source": [
    "# Show the time period\n",
    "display(HTML(f\"> <b>Earliest date</b> within the records: <i>{df_fs['date'].min()}</i>\"))\n",
    "display(HTML(f\"> <b>Latest date</b> within the records: <i>{df_fs['date'].max()}</i>\"))"
   ]
  },
  {
   "cell_type": "code",
   "execution_count": 10,
   "id": "c9a24e5a",
   "metadata": {},
   "outputs": [
    {
     "data": {
      "application/vnd.plotly.v1+json": {
       "config": {
        "plotlyServerURL": "https://plot.ly"
       },
       "data": [
        {
         "marker": {
          "color": "grey"
         },
         "name": "Histogram",
         "opacity": 0.7,
         "type": "bar",
         "width": {
          "bdata": "2hckANoXJADaFyQA2hckANoXJADaFyQA2hckANoXJADaFyQA2hckANoXJADaFyQA2hckANoXJADaFyQA2hckANoXJADaFyQA2hckANoXJADaFyQA2hckANoXJADaFyQA2hckANoXJADaFyQA2hckANoXJADaFyQA2hckANoXJADaFyQA2hckANoXJADaFyQA2hckANoXJADaFyQA2hckANoXJADaFyQA2hckANoXJADaFyQA2hckANoXJADaFyQA2hckANoXJADaFyQA2hckANoXJADaFyQA2hckANoXJADaFyQA2hckANoXJADaFyQA2hckANoXJADaFyQA2hckANoXJADaFyQA2hckANoXJADaFyQA2hckANoXJADaFyQA2hckANoXJADaFyQA2hckANoXJADaFyQA2hckANoXJADaFyQA2hckANoXJADaFyQA2hckANoXJADaFyQA2hckANoXJADaFyQA2hckANoXJADaFyQA2hckANoXJADaFyQA2hckANoXJADaFyQA2hckANoXJADaFyQA2hckANoXJADaFyQA2hckANoXJADaFyQA2hckANoXJADaFyQA2hckANoXJADaFyQA2hckANoXJADaFyQA2hckANoXJADaFyQA2hckANoXJADaFyQA2hckANoXJADaFyQA2hckANoXJADaFyQA2hckANoXJADaFyQA2hckANoXJADaFyQA2hckANoXJADaFyQA2hckANoXJADaFyQA2hckANoXJADaFyQA2hckANoXJADaFyQA2hckANoXJADaFyQA2hckANoXJADaFyQA2hckANoXJADaFyQA2hckANoXJADaFyQA2hckANoXJADaFyQA2hckANoXJADaFyQA2hckANoXJADaFyQA2hckANoXJADaFyQA2hckANoXJADaFyQA2hckANoXJADaFyQA2hckANoXJADaFyQA2hckANoXJADaFyQA2hckANoXJADaFyQA2hckANoXJADaFyQA2hckANoXJADaFyQA2hckANoXJADaFyQA2hckANoXJADaFyQA2hckANoXJADaFyQA2hckANoXJADaFyQA2hckANoXJADaFyQA2hckANoXJADaFyQA2hckANoXJADaFyQA2hckANoXJADaFyQA2hckANoXJADaFyQA2hckANoXJADaFyQA2hckANoXJADaFyQA2hckANoXJADaFyQA2hckANoXJADaFyQA2hckANoXJADaFyQA2hckANoXJADaFyQA2hckANoXJADaFyQA2hckANoXJADaFyQA2hckANoXJADaFyQA2hckANoXJADaFyQA2hckANoXJADaFyQA2hckANoXJADaFyQA2hckANoXJADaFyQA2hckANoXJADaFyQA2hckANoXJADaFyQA2hckANoXJADaFyQA2hckANoXJADaFyQA2hckANoXJADaFyQA2hckANoXJADaFyQA2hckANoXJADaFyQA2hckANoXJADaFyQA2hckANoXJADaFyQA2hckANoXJADaFyQA2hckANoXJADaFyQA2hckANoXJADaFyQA2hckANoXJADaFyQA2hckANoXJADaFyQA2hckANoXJADaFyQA2hckANoXJADaFyQA2hckANoXJADaFyQA2hckANoXJADaFyQA2hckANoXJADaFyQA2hckANoXJADaFyQA2hckANoXJADaFyQA2hckANoXJADaFyQA2hckANoXJADaFyQA2hckANoXJADaFyQA2hckANoXJADaFyQA2hckANoXJADaFyQA2hckANoXJADaFyQA2hckANoXJADaFyQA2hckANoXJADaFyQA2hckANoXJADaFyQA2hckANoXJADaFyQA2hckANoXJADaFyQA2hckANoXJADaFyQA2hckANoXJADaFyQA2hckANoXJADaFyQA2hckANoXJADaFyQA2hckANoXJADaFyQA2hckANoXJADaFyQA2hckANoXJADaFyQA2hckANoXJADaFyQA2hckANoXJADaFyQA2hckANoXJADaFyQA2hckANoXJADaFyQA2hckANoXJADaFyQA2hckANoXJADaFyQA2hckANoXJADaFyQA2hckANoXJADaFyQA2hckANoXJADaFyQA2hckANoXJADaFyQA2hckANoXJADaFyQA2hckANoXJADaFyQA2hckANoXJADaFyQA2hckANoXJADaFyQA2hckANoXJADaFyQA2hckANoXJADaFyQA2hckANoXJADaFyQA2hckANoXJADaFyQA2hckANoXJADaFyQA2hckANoXJADaFyQA2hckANoXJADaFyQA2hckANoXJADaFyQA2hckANoXJADaFyQA2hckANoXJADaFyQA2hckANoXJADaFyQA2hckANoXJADaFyQA2hckANoXJADaFyQA2hckANoXJADaFyQA2hckANoXJADaFyQA2hckANoXJADaFyQA2hckANoXJADaFyQA2hckANoXJADaFyQA2hckANoXJADaFyQA2hckANoXJADaFyQA2hckANoXJADaFyQA2hckANoXJADaFyQA2hckANoXJADaFyQA2hckANoXJADaFyQA2hckANoXJADaFyQA2hckANoXJADaFyQA2hckANoXJADaFyQA2hckANoXJAA=",
          "dtype": "i4"
         },
         "x": [
          "2019-07-25T05:03:18.701000+00:00",
          "2019-07-25T05:42:44.103000+00:00",
          "2019-07-25T06:22:09.505000+00:00",
          "2019-07-25T07:01:34.907000+00:00",
          "2019-07-25T07:41:00.309000+00:00",
          "2019-07-25T08:20:25.711000+00:00",
          "2019-07-25T08:59:51.113000+00:00",
          "2019-07-25T09:39:16.515000+00:00",
          "2019-07-25T10:18:41.917000+00:00",
          "2019-07-25T10:58:07.319000+00:00",
          "2019-07-25T11:37:32.721000+00:00",
          "2019-07-25T12:16:58.123000+00:00",
          "2019-07-25T12:56:23.525000+00:00",
          "2019-07-25T13:35:48.927000+00:00",
          "2019-07-25T14:15:14.329000+00:00",
          "2019-07-25T14:54:39.731000+00:00",
          "2019-07-25T15:34:05.133000+00:00",
          "2019-07-25T16:13:30.535000+00:00",
          "2019-07-25T16:52:55.937000+00:00",
          "2019-07-25T17:32:21.339000+00:00",
          "2019-07-25T18:11:46.741000+00:00",
          "2019-07-25T18:51:12.143000+00:00",
          "2019-07-25T19:30:37.545000+00:00",
          "2019-07-25T20:10:02.947000+00:00",
          "2019-07-25T20:49:28.349000+00:00",
          "2019-07-25T21:28:53.751000+00:00",
          "2019-07-25T22:08:19.153000+00:00",
          "2019-07-25T22:47:44.555000+00:00",
          "2019-07-25T23:27:09.957000+00:00",
          "2019-07-26T00:06:35.359000+00:00",
          "2019-07-26T00:46:00.761000+00:00",
          "2019-07-26T01:25:26.163000+00:00",
          "2019-07-26T02:04:51.565000+00:00",
          "2019-07-26T02:44:16.967000+00:00",
          "2019-07-26T03:23:42.369000+00:00",
          "2019-07-26T04:03:07.771000+00:00",
          "2019-07-26T04:42:33.173000+00:00",
          "2019-07-26T05:21:58.575000+00:00",
          "2019-07-26T06:01:23.977000+00:00",
          "2019-07-26T06:40:49.379000+00:00",
          "2019-07-26T07:20:14.781000+00:00",
          "2019-07-26T07:59:40.183000+00:00",
          "2019-07-26T08:39:05.585000+00:00",
          "2019-07-26T09:18:30.987000+00:00",
          "2019-07-26T09:57:56.389000+00:00",
          "2019-07-26T10:37:21.791000+00:00",
          "2019-07-26T11:16:47.193000+00:00",
          "2019-07-26T11:56:12.595000+00:00",
          "2019-07-26T12:35:37.997000+00:00",
          "2019-07-26T13:15:03.399000+00:00",
          "2019-07-26T13:54:28.801000+00:00",
          "2019-07-26T14:33:54.203000+00:00",
          "2019-07-26T15:13:19.605000+00:00",
          "2019-07-26T15:52:45.007000+00:00",
          "2019-07-26T16:32:10.409000+00:00",
          "2019-07-26T17:11:35.811000+00:00",
          "2019-07-26T17:51:01.213000+00:00",
          "2019-07-26T18:30:26.615000+00:00",
          "2019-07-26T19:09:52.017000+00:00",
          "2019-07-26T19:49:17.419000+00:00",
          "2019-07-26T20:28:42.821000+00:00",
          "2019-07-26T21:08:08.223000+00:00",
          "2019-07-26T21:47:33.625000+00:00",
          "2019-07-26T22:26:59.027000+00:00",
          "2019-07-26T23:06:24.429000+00:00",
          "2019-07-26T23:45:49.831000+00:00",
          "2019-07-27T00:25:15.233000+00:00",
          "2019-07-27T01:04:40.635000+00:00",
          "2019-07-27T01:44:06.037000+00:00",
          "2019-07-27T02:23:31.439000+00:00",
          "2019-07-27T03:02:56.841000+00:00",
          "2019-07-27T03:42:22.243000+00:00",
          "2019-07-27T04:21:47.645000+00:00",
          "2019-07-27T05:01:13.047000+00:00",
          "2019-07-27T05:40:38.449000+00:00",
          "2019-07-27T06:20:03.851000+00:00",
          "2019-07-27T06:59:29.253000+00:00",
          "2019-07-27T07:38:54.655000+00:00",
          "2019-07-27T08:18:20.057000+00:00",
          "2019-07-27T08:57:45.459000+00:00",
          "2019-07-27T09:37:10.861000+00:00",
          "2019-07-27T10:16:36.263000+00:00",
          "2019-07-27T10:56:01.665000+00:00",
          "2019-07-27T11:35:27.067000+00:00",
          "2019-07-27T12:14:52.469000+00:00",
          "2019-07-27T12:54:17.871000+00:00",
          "2019-07-27T13:33:43.273000+00:00",
          "2019-07-27T14:13:08.675000+00:00",
          "2019-07-27T14:52:34.077000+00:00",
          "2019-07-27T15:31:59.479000+00:00",
          "2019-07-27T16:11:24.881000+00:00",
          "2019-07-27T16:50:50.283000+00:00",
          "2019-07-27T17:30:15.685000+00:00",
          "2019-07-27T18:09:41.087000+00:00",
          "2019-07-27T18:49:06.489000+00:00",
          "2019-07-27T19:28:31.891000+00:00",
          "2019-07-27T20:07:57.293000+00:00",
          "2019-07-27T20:47:22.695000+00:00",
          "2019-07-27T21:26:48.097000+00:00",
          "2019-07-27T22:06:13.499000+00:00",
          "2019-07-27T22:45:38.901000+00:00",
          "2019-07-27T23:25:04.303000+00:00",
          "2019-07-28T00:04:29.705000+00:00",
          "2019-07-28T00:43:55.107000+00:00",
          "2019-07-28T01:23:20.509000+00:00",
          "2019-07-28T02:02:45.911000+00:00",
          "2019-07-28T02:42:11.313000+00:00",
          "2019-07-28T03:21:36.715000+00:00",
          "2019-07-28T04:01:02.117000+00:00",
          "2019-07-28T04:40:27.519000+00:00",
          "2019-07-28T05:19:52.921000+00:00",
          "2019-07-28T05:59:18.323000+00:00",
          "2019-07-28T06:38:43.725000+00:00",
          "2019-07-28T07:18:09.127000+00:00",
          "2019-07-28T07:57:34.529000+00:00",
          "2019-07-28T08:36:59.931000+00:00",
          "2019-07-28T09:16:25.333000+00:00",
          "2019-07-28T09:55:50.735000+00:00",
          "2019-07-28T10:35:16.137000+00:00",
          "2019-07-28T11:14:41.539000+00:00",
          "2019-07-28T11:54:06.941000+00:00",
          "2019-07-28T12:33:32.343000+00:00",
          "2019-07-28T13:12:57.745000+00:00",
          "2019-07-28T13:52:23.147000+00:00",
          "2019-07-28T14:31:48.549000+00:00",
          "2019-07-28T15:11:13.951000+00:00",
          "2019-07-28T15:50:39.353000+00:00",
          "2019-07-28T16:30:04.755000+00:00",
          "2019-07-28T17:09:30.157000+00:00",
          "2019-07-28T17:48:55.559000+00:00",
          "2019-07-28T18:28:20.961000+00:00",
          "2019-07-28T19:07:46.363000+00:00",
          "2019-07-28T19:47:11.765000+00:00",
          "2019-07-28T20:26:37.167000+00:00",
          "2019-07-28T21:06:02.569000+00:00",
          "2019-07-28T21:45:27.971000+00:00",
          "2019-07-28T22:24:53.373000+00:00",
          "2019-07-28T23:04:18.775000+00:00",
          "2019-07-28T23:43:44.177000+00:00",
          "2019-07-29T00:23:09.579000+00:00",
          "2019-07-29T01:02:34.981000+00:00",
          "2019-07-29T01:42:00.383000+00:00",
          "2019-07-29T02:21:25.785000+00:00",
          "2019-07-29T03:00:51.187000+00:00",
          "2019-07-29T03:40:16.589000+00:00",
          "2019-07-29T04:19:41.991000+00:00",
          "2019-07-29T04:59:07.393000+00:00",
          "2019-07-29T05:38:32.795000+00:00",
          "2019-07-29T06:17:58.197000+00:00",
          "2019-07-29T06:57:23.599000+00:00",
          "2019-07-29T07:36:49.001000+00:00",
          "2019-07-29T08:16:14.403000+00:00",
          "2019-07-29T08:55:39.805000+00:00",
          "2019-07-29T09:35:05.207000+00:00",
          "2019-07-29T10:14:30.609000+00:00",
          "2019-07-29T10:53:56.011000+00:00",
          "2019-07-29T11:33:21.413000+00:00",
          "2019-07-29T12:12:46.815000+00:00",
          "2019-07-29T12:52:12.217000+00:00",
          "2019-07-29T13:31:37.619000+00:00",
          "2019-07-29T14:11:03.021000+00:00",
          "2019-07-29T14:50:28.423000+00:00",
          "2019-07-29T15:29:53.825000+00:00",
          "2019-07-29T16:09:19.227000+00:00",
          "2019-07-29T16:48:44.629000+00:00",
          "2019-07-29T17:28:10.031000+00:00",
          "2019-07-29T18:07:35.433000+00:00",
          "2019-07-29T18:47:00.835000+00:00",
          "2019-07-29T19:26:26.237000+00:00",
          "2019-07-29T20:05:51.639000+00:00",
          "2019-07-29T20:45:17.041000+00:00",
          "2019-07-29T21:24:42.443000+00:00",
          "2019-07-29T22:04:07.845000+00:00",
          "2019-07-29T22:43:33.247000+00:00",
          "2019-07-29T23:22:58.649000+00:00",
          "2019-07-30T00:02:24.051000+00:00",
          "2019-07-30T00:41:49.453000+00:00",
          "2019-07-30T01:21:14.855000+00:00",
          "2019-07-30T02:00:40.257000+00:00",
          "2019-07-30T02:40:05.659000+00:00",
          "2019-07-30T03:19:31.061000+00:00",
          "2019-07-30T03:58:56.463000+00:00",
          "2019-07-30T04:38:21.865000+00:00",
          "2019-07-30T05:17:47.267000+00:00",
          "2019-07-30T05:57:12.669000+00:00",
          "2019-07-30T06:36:38.071000+00:00",
          "2019-07-30T07:16:03.473000+00:00",
          "2019-07-30T07:55:28.875000+00:00",
          "2019-07-30T08:34:54.277000+00:00",
          "2019-07-30T09:14:19.679000+00:00",
          "2019-07-30T09:53:45.081000+00:00",
          "2019-07-30T10:33:10.483000+00:00",
          "2019-07-30T11:12:35.885000+00:00",
          "2019-07-30T11:52:01.287000+00:00",
          "2019-07-30T12:31:26.689000+00:00",
          "2019-07-30T13:10:52.091000+00:00",
          "2019-07-30T13:50:17.493000+00:00",
          "2019-07-30T14:29:42.895000+00:00",
          "2019-07-30T15:09:08.297000+00:00",
          "2019-07-30T15:48:33.699000+00:00",
          "2019-07-30T16:27:59.101000+00:00",
          "2019-07-30T17:07:24.503000+00:00",
          "2019-07-30T17:46:49.905000+00:00",
          "2019-07-30T18:26:15.307000+00:00",
          "2019-07-30T19:05:40.709000+00:00",
          "2019-07-30T19:45:06.111000+00:00",
          "2019-07-30T20:24:31.513000+00:00",
          "2019-07-30T21:03:56.915000+00:00",
          "2019-07-30T21:43:22.317000+00:00",
          "2019-07-30T22:22:47.719000+00:00",
          "2019-07-30T23:02:13.121000+00:00",
          "2019-07-30T23:41:38.523000+00:00",
          "2019-07-31T00:21:03.925000+00:00",
          "2019-07-31T01:00:29.327000+00:00",
          "2019-07-31T01:39:54.729000+00:00",
          "2019-07-31T02:19:20.131000+00:00",
          "2019-07-31T02:58:45.533000+00:00",
          "2019-07-31T03:38:10.935000+00:00",
          "2019-07-31T04:17:36.337000+00:00",
          "2019-07-31T04:57:01.739000+00:00",
          "2019-07-31T05:36:27.141000+00:00",
          "2019-07-31T06:15:52.543000+00:00",
          "2019-07-31T06:55:17.945000+00:00",
          "2019-07-31T07:34:43.347000+00:00",
          "2019-07-31T08:14:08.749000+00:00",
          "2019-07-31T08:53:34.151000+00:00",
          "2019-07-31T09:32:59.553000+00:00",
          "2019-07-31T10:12:24.955000+00:00",
          "2019-07-31T10:51:50.357000+00:00",
          "2019-07-31T11:31:15.759000+00:00",
          "2019-07-31T12:10:41.161000+00:00",
          "2019-07-31T12:50:06.563000+00:00",
          "2019-07-31T13:29:31.965000+00:00",
          "2019-07-31T14:08:57.367000+00:00",
          "2019-07-31T14:48:22.769000+00:00",
          "2019-07-31T15:27:48.171000+00:00",
          "2019-07-31T16:07:13.573000+00:00",
          "2019-07-31T16:46:38.975000+00:00",
          "2019-07-31T17:26:04.377000+00:00",
          "2019-07-31T18:05:29.779000+00:00",
          "2019-07-31T18:44:55.181000+00:00",
          "2019-07-31T19:24:20.583000+00:00",
          "2019-07-31T20:03:45.985000+00:00",
          "2019-07-31T20:43:11.387000+00:00",
          "2019-07-31T21:22:36.789000+00:00",
          "2019-07-31T22:02:02.191000+00:00",
          "2019-07-31T22:41:27.593000+00:00",
          "2019-07-31T23:20:52.995000+00:00",
          "2019-08-01T00:00:18.397000+00:00",
          "2019-08-01T00:39:43.799000+00:00",
          "2019-08-01T01:19:09.201000+00:00",
          "2019-08-01T01:58:34.603000+00:00",
          "2019-08-01T02:38:00.005000+00:00",
          "2019-08-01T03:17:25.407000+00:00",
          "2019-08-01T03:56:50.809000+00:00",
          "2019-08-01T04:36:16.211000+00:00",
          "2019-08-01T05:15:41.613000+00:00",
          "2019-08-01T05:55:07.015000+00:00",
          "2019-08-01T06:34:32.417000+00:00",
          "2019-08-01T07:13:57.819000+00:00",
          "2019-08-01T07:53:23.221000+00:00",
          "2019-08-01T08:32:48.623000+00:00",
          "2019-08-01T09:12:14.025000+00:00",
          "2019-08-01T09:51:39.427000+00:00",
          "2019-08-01T10:31:04.829000+00:00",
          "2019-08-01T11:10:30.231000+00:00",
          "2019-08-01T11:49:55.633000+00:00",
          "2019-08-01T12:29:21.035000+00:00",
          "2019-08-01T13:08:46.437000+00:00",
          "2019-08-01T13:48:11.839000+00:00",
          "2019-08-01T14:27:37.241000+00:00",
          "2019-08-01T15:07:02.643000+00:00",
          "2019-08-01T15:46:28.045000+00:00",
          "2019-08-01T16:25:53.447000+00:00",
          "2019-08-01T17:05:18.849000+00:00",
          "2019-08-01T17:44:44.251000+00:00",
          "2019-08-01T18:24:09.653000+00:00",
          "2019-08-01T19:03:35.055000+00:00",
          "2019-08-01T19:43:00.457000+00:00",
          "2019-08-01T20:22:25.859000+00:00",
          "2019-08-01T21:01:51.261000+00:00",
          "2019-08-01T21:41:16.663000+00:00",
          "2019-08-01T22:20:42.065000+00:00",
          "2019-08-01T23:00:07.467000+00:00",
          "2019-08-01T23:39:32.869000+00:00",
          "2019-08-02T00:18:58.271000+00:00",
          "2019-08-02T00:58:23.673000+00:00",
          "2019-08-02T01:37:49.075000+00:00",
          "2019-08-02T02:17:14.477000+00:00",
          "2019-08-02T02:56:39.879000+00:00",
          "2019-08-02T03:36:05.281000+00:00",
          "2019-08-02T04:15:30.683000+00:00",
          "2019-08-02T04:54:56.085000+00:00",
          "2019-08-02T05:34:21.487000+00:00",
          "2019-08-02T06:13:46.889000+00:00",
          "2019-08-02T06:53:12.291000+00:00",
          "2019-08-02T07:32:37.693000+00:00",
          "2019-08-02T08:12:03.095000+00:00",
          "2019-08-02T08:51:28.497000+00:00",
          "2019-08-02T09:30:53.899000+00:00",
          "2019-08-02T10:10:19.301000+00:00",
          "2019-08-02T10:49:44.703000+00:00",
          "2019-08-02T11:29:10.105000+00:00",
          "2019-08-02T12:08:35.507000+00:00",
          "2019-08-02T12:48:00.909000+00:00",
          "2019-08-02T13:27:26.311000+00:00",
          "2019-08-02T14:06:51.713000+00:00",
          "2019-08-02T14:46:17.115000+00:00",
          "2019-08-02T15:25:42.517000+00:00",
          "2019-08-02T16:05:07.919000+00:00",
          "2019-08-02T16:44:33.321000+00:00",
          "2019-08-02T17:23:58.723000+00:00",
          "2019-08-02T18:03:24.125000+00:00",
          "2019-08-02T18:42:49.527000+00:00",
          "2019-08-02T19:22:14.929000+00:00",
          "2019-08-02T20:01:40.331000+00:00",
          "2019-08-02T20:41:05.733000+00:00",
          "2019-08-02T21:20:31.135000+00:00",
          "2019-08-02T21:59:56.537000+00:00",
          "2019-08-02T22:39:21.939000+00:00",
          "2019-08-02T23:18:47.341000+00:00",
          "2019-08-02T23:58:12.743000+00:00",
          "2019-08-03T00:37:38.145000+00:00",
          "2019-08-03T01:17:03.547000+00:00",
          "2019-08-03T01:56:28.949000+00:00",
          "2019-08-03T02:35:54.351000+00:00",
          "2019-08-03T03:15:19.753000+00:00",
          "2019-08-03T03:54:45.155000+00:00",
          "2019-08-03T04:34:10.557000+00:00",
          "2019-08-03T05:13:35.959000+00:00",
          "2019-08-03T05:53:01.361000+00:00",
          "2019-08-03T06:32:26.763000+00:00",
          "2019-08-03T07:11:52.165000+00:00",
          "2019-08-03T07:51:17.567000+00:00",
          "2019-08-03T08:30:42.969000+00:00",
          "2019-08-03T09:10:08.371000+00:00",
          "2019-08-03T09:49:33.773000+00:00",
          "2019-08-03T10:28:59.175000+00:00",
          "2019-08-03T11:08:24.577000+00:00",
          "2019-08-03T11:47:49.979000+00:00",
          "2019-08-03T12:27:15.381000+00:00",
          "2019-08-03T13:06:40.783000+00:00",
          "2019-08-03T13:46:06.185000+00:00",
          "2019-08-03T14:25:31.587000+00:00",
          "2019-08-03T15:04:56.989000+00:00",
          "2019-08-03T15:44:22.391000+00:00",
          "2019-08-03T16:23:47.793000+00:00",
          "2019-08-03T17:03:13.195000+00:00",
          "2019-08-03T17:42:38.597000+00:00",
          "2019-08-03T18:22:03.999000+00:00",
          "2019-08-03T19:01:29.401000+00:00",
          "2019-08-03T19:40:54.803000+00:00",
          "2019-08-03T20:20:20.205000+00:00",
          "2019-08-03T20:59:45.607000+00:00",
          "2019-08-03T21:39:11.009000+00:00",
          "2019-08-03T22:18:36.411000+00:00",
          "2019-08-03T22:58:01.813000+00:00",
          "2019-08-03T23:37:27.215000+00:00",
          "2019-08-04T00:16:52.617000+00:00",
          "2019-08-04T00:56:18.019000+00:00",
          "2019-08-04T01:35:43.421000+00:00",
          "2019-08-04T02:15:08.823000+00:00",
          "2019-08-04T02:54:34.225000+00:00",
          "2019-08-04T03:33:59.627000+00:00",
          "2019-08-04T04:13:25.029000+00:00",
          "2019-08-04T04:52:50.431000+00:00",
          "2019-08-04T05:32:15.833000+00:00",
          "2019-08-04T06:11:41.235000+00:00",
          "2019-08-04T06:51:06.637000+00:00",
          "2019-08-04T07:30:32.039000+00:00",
          "2019-08-04T08:09:57.441000+00:00",
          "2019-08-04T08:49:22.843000+00:00",
          "2019-08-04T09:28:48.245000+00:00",
          "2019-08-04T10:08:13.647000+00:00",
          "2019-08-04T10:47:39.049000+00:00",
          "2019-08-04T11:27:04.451000+00:00",
          "2019-08-04T12:06:29.853000+00:00",
          "2019-08-04T12:45:55.255000+00:00",
          "2019-08-04T13:25:20.657000+00:00",
          "2019-08-04T14:04:46.059000+00:00",
          "2019-08-04T14:44:11.461000+00:00",
          "2019-08-04T15:23:36.863000+00:00",
          "2019-08-04T16:03:02.265000+00:00",
          "2019-08-04T16:42:27.667000+00:00",
          "2019-08-04T17:21:53.069000+00:00",
          "2019-08-04T18:01:18.471000+00:00",
          "2019-08-04T18:40:43.873000+00:00",
          "2019-08-04T19:20:09.275000+00:00",
          "2019-08-04T19:59:34.677000+00:00",
          "2019-08-04T20:39:00.079000+00:00",
          "2019-08-04T21:18:25.481000+00:00",
          "2019-08-04T21:57:50.883000+00:00",
          "2019-08-04T22:37:16.285000+00:00",
          "2019-08-04T23:16:41.687000+00:00",
          "2019-08-04T23:56:07.089000+00:00",
          "2019-08-05T00:35:32.491000+00:00",
          "2019-08-05T01:14:57.893000+00:00",
          "2019-08-05T01:54:23.295000+00:00",
          "2019-08-05T02:33:48.697000+00:00",
          "2019-08-05T03:13:14.099000+00:00",
          "2019-08-05T03:52:39.501000+00:00",
          "2019-08-05T04:32:04.903000+00:00",
          "2019-08-05T05:11:30.305000+00:00",
          "2019-08-05T05:50:55.707000+00:00",
          "2019-08-05T06:30:21.109000+00:00",
          "2019-08-05T07:09:46.511000+00:00",
          "2019-08-05T07:49:11.913000+00:00",
          "2019-08-05T08:28:37.315000+00:00",
          "2019-08-05T09:08:02.717000+00:00",
          "2019-08-05T09:47:28.119000+00:00",
          "2019-08-05T10:26:53.521000+00:00",
          "2019-08-05T11:06:18.923000+00:00",
          "2019-08-05T11:45:44.325000+00:00",
          "2019-08-05T12:25:09.727000+00:00",
          "2019-08-05T13:04:35.129000+00:00",
          "2019-08-05T13:44:00.531000+00:00",
          "2019-08-05T14:23:25.933000+00:00",
          "2019-08-05T15:02:51.335000+00:00",
          "2019-08-05T15:42:16.737000+00:00",
          "2019-08-05T16:21:42.139000+00:00",
          "2019-08-05T17:01:07.541000+00:00",
          "2019-08-05T17:40:32.943000+00:00",
          "2019-08-05T18:19:58.345000+00:00",
          "2019-08-05T18:59:23.747000+00:00",
          "2019-08-05T19:38:49.149000+00:00",
          "2019-08-05T20:18:14.551000+00:00",
          "2019-08-05T20:57:39.953000+00:00",
          "2019-08-05T21:37:05.355000+00:00",
          "2019-08-05T22:16:30.757000+00:00",
          "2019-08-05T22:55:56.159000+00:00",
          "2019-08-05T23:35:21.561000+00:00",
          "2019-08-06T00:14:46.963000+00:00",
          "2019-08-06T00:54:12.365000+00:00",
          "2019-08-06T01:33:37.767000+00:00",
          "2019-08-06T02:13:03.169000+00:00",
          "2019-08-06T02:52:28.571000+00:00",
          "2019-08-06T03:31:53.973000+00:00",
          "2019-08-06T04:11:19.375000+00:00",
          "2019-08-06T04:50:44.777000+00:00",
          "2019-08-06T05:30:10.179000+00:00",
          "2019-08-06T06:09:35.581000+00:00",
          "2019-08-06T06:49:00.983000+00:00",
          "2019-08-06T07:28:26.385000+00:00",
          "2019-08-06T08:07:51.787000+00:00",
          "2019-08-06T08:47:17.189000+00:00",
          "2019-08-06T09:26:42.591000+00:00",
          "2019-08-06T10:06:07.993000+00:00",
          "2019-08-06T10:45:33.395000+00:00",
          "2019-08-06T11:24:58.797000+00:00",
          "2019-08-06T12:04:24.199000+00:00",
          "2019-08-06T12:43:49.601000+00:00",
          "2019-08-06T13:23:15.003000+00:00",
          "2019-08-06T14:02:40.405000+00:00",
          "2019-08-06T14:42:05.807000+00:00",
          "2019-08-06T15:21:31.209000+00:00",
          "2019-08-06T16:00:56.611000+00:00",
          "2019-08-06T16:40:22.013000+00:00",
          "2019-08-06T17:19:47.415000+00:00",
          "2019-08-06T17:59:12.817000+00:00",
          "2019-08-06T18:38:38.219000+00:00",
          "2019-08-06T19:18:03.621000+00:00",
          "2019-08-06T19:57:29.023000+00:00",
          "2019-08-06T20:36:54.425000+00:00",
          "2019-08-06T21:16:19.827000+00:00",
          "2019-08-06T21:55:45.229000+00:00",
          "2019-08-06T22:35:10.631000+00:00",
          "2019-08-06T23:14:36.033000+00:00",
          "2019-08-06T23:54:01.435000+00:00",
          "2019-08-07T00:33:26.837000+00:00",
          "2019-08-07T01:12:52.239000+00:00",
          "2019-08-07T01:52:17.641000+00:00",
          "2019-08-07T02:31:43.043000+00:00",
          "2019-08-07T03:11:08.445000+00:00",
          "2019-08-07T03:50:33.847000+00:00",
          "2019-08-07T04:29:59.249000+00:00",
          "2019-08-07T05:09:24.651000+00:00",
          "2019-08-07T05:48:50.053000+00:00",
          "2019-08-07T06:28:15.455000+00:00",
          "2019-08-07T07:07:40.857000+00:00",
          "2019-08-07T07:47:06.259000+00:00",
          "2019-08-07T08:26:31.661000+00:00",
          "2019-08-07T09:05:57.063000+00:00",
          "2019-08-07T09:45:22.465000+00:00",
          "2019-08-07T10:24:47.867000+00:00",
          "2019-08-07T11:04:13.269000+00:00",
          "2019-08-07T11:43:38.671000+00:00",
          "2019-08-07T12:23:04.073000+00:00",
          "2019-08-07T13:02:29.475000+00:00",
          "2019-08-07T13:41:54.877000+00:00",
          "2019-08-07T14:21:20.279000+00:00",
          "2019-08-07T15:00:45.681000+00:00",
          "2019-08-07T15:40:11.083000+00:00",
          "2019-08-07T16:19:36.485000+00:00",
          "2019-08-07T16:59:01.887000+00:00",
          "2019-08-07T17:38:27.289000+00:00",
          "2019-08-07T18:17:52.691000+00:00",
          "2019-08-07T18:57:18.093000+00:00",
          "2019-08-07T19:36:43.495000+00:00",
          "2019-08-07T20:16:08.897000+00:00",
          "2019-08-07T20:55:34.299000+00:00"
         ],
         "y": {
          "bdata": "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",
          "dtype": "f8"
         }
        },
        {
         "line": {
          "color": "red",
          "dash": "dash"
         },
         "mode": "lines",
         "name": "Mean",
         "type": "scatter",
         "x": [
          "2019-08-04T10:19:17.987000+00:00",
          "2019-08-04T10:19:17.987000+00:00"
         ],
         "y": [
          0,
          2168.1000000000004
         ]
        },
        {
         "line": {
          "color": "blue",
          "dash": "dashdot"
         },
         "mode": "lines",
         "name": "Median",
         "type": "scatter",
         "x": [
          "2019-08-04T11:51:00+00:00",
          "2019-08-04T11:51:00+00:00"
         ],
         "y": [
          0,
          2168.1000000000004
         ]
        }
       ],
       "layout": {
        "bargap": 0.05,
        "height": 500,
        "template": {
         "data": {
          "bar": [
           {
            "error_x": {
             "color": "#2a3f5f"
            },
            "error_y": {
             "color": "#2a3f5f"
            },
            "marker": {
             "line": {
              "color": "white",
              "width": 0.5
             },
             "pattern": {
              "fillmode": "overlay",
              "size": 10,
              "solidity": 0.2
             }
            },
            "type": "bar"
           }
          ],
          "barpolar": [
           {
            "marker": {
             "line": {
              "color": "white",
              "width": 0.5
             },
             "pattern": {
              "fillmode": "overlay",
              "size": 10,
              "solidity": 0.2
             }
            },
            "type": "barpolar"
           }
          ],
          "carpet": [
           {
            "aaxis": {
             "endlinecolor": "#2a3f5f",
             "gridcolor": "#C8D4E3",
             "linecolor": "#C8D4E3",
             "minorgridcolor": "#C8D4E3",
             "startlinecolor": "#2a3f5f"
            },
            "baxis": {
             "endlinecolor": "#2a3f5f",
             "gridcolor": "#C8D4E3",
             "linecolor": "#C8D4E3",
             "minorgridcolor": "#C8D4E3",
             "startlinecolor": "#2a3f5f"
            },
            "type": "carpet"
           }
          ],
          "choropleth": [
           {
            "colorbar": {
             "outlinewidth": 0,
             "ticks": ""
            },
            "type": "choropleth"
           }
          ],
          "contour": [
           {
            "colorbar": {
             "outlinewidth": 0,
             "ticks": ""
            },
            "colorscale": [
             [
              0,
              "#0d0887"
             ],
             [
              0.1111111111111111,
              "#46039f"
             ],
             [
              0.2222222222222222,
              "#7201a8"
             ],
             [
              0.3333333333333333,
              "#9c179e"
             ],
             [
              0.4444444444444444,
              "#bd3786"
             ],
             [
              0.5555555555555556,
              "#d8576b"
             ],
             [
              0.6666666666666666,
              "#ed7953"
             ],
             [
              0.7777777777777778,
              "#fb9f3a"
             ],
             [
              0.8888888888888888,
              "#fdca26"
             ],
             [
              1,
              "#f0f921"
             ]
            ],
            "type": "contour"
           }
          ],
          "contourcarpet": [
           {
            "colorbar": {
             "outlinewidth": 0,
             "ticks": ""
            },
            "type": "contourcarpet"
           }
          ],
          "heatmap": [
           {
            "colorbar": {
             "outlinewidth": 0,
             "ticks": ""
            },
            "colorscale": [
             [
              0,
              "#0d0887"
             ],
             [
              0.1111111111111111,
              "#46039f"
             ],
             [
              0.2222222222222222,
              "#7201a8"
             ],
             [
              0.3333333333333333,
              "#9c179e"
             ],
             [
              0.4444444444444444,
              "#bd3786"
             ],
             [
              0.5555555555555556,
              "#d8576b"
             ],
             [
              0.6666666666666666,
              "#ed7953"
             ],
             [
              0.7777777777777778,
              "#fb9f3a"
             ],
             [
              0.8888888888888888,
              "#fdca26"
             ],
             [
              1,
              "#f0f921"
             ]
            ],
            "type": "heatmap"
           }
          ],
          "histogram": [
           {
            "marker": {
             "pattern": {
              "fillmode": "overlay",
              "size": 10,
              "solidity": 0.2
             }
            },
            "type": "histogram"
           }
          ],
          "histogram2d": [
           {
            "colorbar": {
             "outlinewidth": 0,
             "ticks": ""
            },
            "colorscale": [
             [
              0,
              "#0d0887"
             ],
             [
              0.1111111111111111,
              "#46039f"
             ],
             [
              0.2222222222222222,
              "#7201a8"
             ],
             [
              0.3333333333333333,
              "#9c179e"
             ],
             [
              0.4444444444444444,
              "#bd3786"
             ],
             [
              0.5555555555555556,
              "#d8576b"
             ],
             [
              0.6666666666666666,
              "#ed7953"
             ],
             [
              0.7777777777777778,
              "#fb9f3a"
             ],
             [
              0.8888888888888888,
              "#fdca26"
             ],
             [
              1,
              "#f0f921"
             ]
            ],
            "type": "histogram2d"
           }
          ],
          "histogram2dcontour": [
           {
            "colorbar": {
             "outlinewidth": 0,
             "ticks": ""
            },
            "colorscale": [
             [
              0,
              "#0d0887"
             ],
             [
              0.1111111111111111,
              "#46039f"
             ],
             [
              0.2222222222222222,
              "#7201a8"
             ],
             [
              0.3333333333333333,
              "#9c179e"
             ],
             [
              0.4444444444444444,
              "#bd3786"
             ],
             [
              0.5555555555555556,
              "#d8576b"
             ],
             [
              0.6666666666666666,
              "#ed7953"
             ],
             [
              0.7777777777777778,
              "#fb9f3a"
             ],
             [
              0.8888888888888888,
              "#fdca26"
             ],
             [
              1,
              "#f0f921"
             ]
            ],
            "type": "histogram2dcontour"
           }
          ],
          "mesh3d": [
           {
            "colorbar": {
             "outlinewidth": 0,
             "ticks": ""
            },
            "type": "mesh3d"
           }
          ],
          "parcoords": [
           {
            "line": {
             "colorbar": {
              "outlinewidth": 0,
              "ticks": ""
             }
            },
            "type": "parcoords"
           }
          ],
          "pie": [
           {
            "automargin": true,
            "type": "pie"
           }
          ],
          "scatter": [
           {
            "fillpattern": {
             "fillmode": "overlay",
             "size": 10,
             "solidity": 0.2
            },
            "type": "scatter"
           }
          ],
          "scatter3d": [
           {
            "line": {
             "colorbar": {
              "outlinewidth": 0,
              "ticks": ""
             }
            },
            "marker": {
             "colorbar": {
              "outlinewidth": 0,
              "ticks": ""
             }
            },
            "type": "scatter3d"
           }
          ],
          "scattercarpet": [
           {
            "marker": {
             "colorbar": {
              "outlinewidth": 0,
              "ticks": ""
             }
            },
            "type": "scattercarpet"
           }
          ],
          "scattergeo": [
           {
            "marker": {
             "colorbar": {
              "outlinewidth": 0,
              "ticks": ""
             }
            },
            "type": "scattergeo"
           }
          ],
          "scattergl": [
           {
            "marker": {
             "colorbar": {
              "outlinewidth": 0,
              "ticks": ""
             }
            },
            "type": "scattergl"
           }
          ],
          "scattermap": [
           {
            "marker": {
             "colorbar": {
              "outlinewidth": 0,
              "ticks": ""
             }
            },
            "type": "scattermap"
           }
          ],
          "scattermapbox": [
           {
            "marker": {
             "colorbar": {
              "outlinewidth": 0,
              "ticks": ""
             }
            },
            "type": "scattermapbox"
           }
          ],
          "scatterpolar": [
           {
            "marker": {
             "colorbar": {
              "outlinewidth": 0,
              "ticks": ""
             }
            },
            "type": "scatterpolar"
           }
          ],
          "scatterpolargl": [
           {
            "marker": {
             "colorbar": {
              "outlinewidth": 0,
              "ticks": ""
             }
            },
            "type": "scatterpolargl"
           }
          ],
          "scatterternary": [
           {
            "marker": {
             "colorbar": {
              "outlinewidth": 0,
              "ticks": ""
             }
            },
            "type": "scatterternary"
           }
          ],
          "surface": [
           {
            "colorbar": {
             "outlinewidth": 0,
             "ticks": ""
            },
            "colorscale": [
             [
              0,
              "#0d0887"
             ],
             [
              0.1111111111111111,
              "#46039f"
             ],
             [
              0.2222222222222222,
              "#7201a8"
             ],
             [
              0.3333333333333333,
              "#9c179e"
             ],
             [
              0.4444444444444444,
              "#bd3786"
             ],
             [
              0.5555555555555556,
              "#d8576b"
             ],
             [
              0.6666666666666666,
              "#ed7953"
             ],
             [
              0.7777777777777778,
              "#fb9f3a"
             ],
             [
              0.8888888888888888,
              "#fdca26"
             ],
             [
              1,
              "#f0f921"
             ]
            ],
            "type": "surface"
           }
          ],
          "table": [
           {
            "cells": {
             "fill": {
              "color": "#EBF0F8"
             },
             "line": {
              "color": "white"
             }
            },
            "header": {
             "fill": {
              "color": "#C8D4E3"
             },
             "line": {
              "color": "white"
             }
            },
            "type": "table"
           }
          ]
         },
         "layout": {
          "annotationdefaults": {
           "arrowcolor": "#2a3f5f",
           "arrowhead": 0,
           "arrowwidth": 1
          },
          "autotypenumbers": "strict",
          "coloraxis": {
           "colorbar": {
            "outlinewidth": 0,
            "ticks": ""
           }
          },
          "colorscale": {
           "diverging": [
            [
             0,
             "#8e0152"
            ],
            [
             0.1,
             "#c51b7d"
            ],
            [
             0.2,
             "#de77ae"
            ],
            [
             0.3,
             "#f1b6da"
            ],
            [
             0.4,
             "#fde0ef"
            ],
            [
             0.5,
             "#f7f7f7"
            ],
            [
             0.6,
             "#e6f5d0"
            ],
            [
             0.7,
             "#b8e186"
            ],
            [
             0.8,
             "#7fbc41"
            ],
            [
             0.9,
             "#4d9221"
            ],
            [
             1,
             "#276419"
            ]
           ],
           "sequential": [
            [
             0,
             "#0d0887"
            ],
            [
             0.1111111111111111,
             "#46039f"
            ],
            [
             0.2222222222222222,
             "#7201a8"
            ],
            [
             0.3333333333333333,
             "#9c179e"
            ],
            [
             0.4444444444444444,
             "#bd3786"
            ],
            [
             0.5555555555555556,
             "#d8576b"
            ],
            [
             0.6666666666666666,
             "#ed7953"
            ],
            [
             0.7777777777777778,
             "#fb9f3a"
            ],
            [
             0.8888888888888888,
             "#fdca26"
            ],
            [
             1,
             "#f0f921"
            ]
           ],
           "sequentialminus": [
            [
             0,
             "#0d0887"
            ],
            [
             0.1111111111111111,
             "#46039f"
            ],
            [
             0.2222222222222222,
             "#7201a8"
            ],
            [
             0.3333333333333333,
             "#9c179e"
            ],
            [
             0.4444444444444444,
             "#bd3786"
            ],
            [
             0.5555555555555556,
             "#d8576b"
            ],
            [
             0.6666666666666666,
             "#ed7953"
            ],
            [
             0.7777777777777778,
             "#fb9f3a"
            ],
            [
             0.8888888888888888,
             "#fdca26"
            ],
            [
             1,
             "#f0f921"
            ]
           ]
          },
          "colorway": [
           "#636efa",
           "#EF553B",
           "#00cc96",
           "#ab63fa",
           "#FFA15A",
           "#19d3f3",
           "#FF6692",
           "#B6E880",
           "#FF97FF",
           "#FECB52"
          ],
          "font": {
           "color": "#2a3f5f"
          },
          "geo": {
           "bgcolor": "white",
           "lakecolor": "white",
           "landcolor": "white",
           "showlakes": true,
           "showland": true,
           "subunitcolor": "#C8D4E3"
          },
          "hoverlabel": {
           "align": "left"
          },
          "hovermode": "closest",
          "mapbox": {
           "style": "light"
          },
          "paper_bgcolor": "white",
          "plot_bgcolor": "white",
          "polar": {
           "angularaxis": {
            "gridcolor": "#EBF0F8",
            "linecolor": "#EBF0F8",
            "ticks": ""
           },
           "bgcolor": "white",
           "radialaxis": {
            "gridcolor": "#EBF0F8",
            "linecolor": "#EBF0F8",
            "ticks": ""
           }
          },
          "scene": {
           "xaxis": {
            "backgroundcolor": "white",
            "gridcolor": "#DFE8F3",
            "gridwidth": 2,
            "linecolor": "#EBF0F8",
            "showbackground": true,
            "ticks": "",
            "zerolinecolor": "#EBF0F8"
           },
           "yaxis": {
            "backgroundcolor": "white",
            "gridcolor": "#DFE8F3",
            "gridwidth": 2,
            "linecolor": "#EBF0F8",
            "showbackground": true,
            "ticks": "",
            "zerolinecolor": "#EBF0F8"
           },
           "zaxis": {
            "backgroundcolor": "white",
            "gridcolor": "#DFE8F3",
            "gridwidth": 2,
            "linecolor": "#EBF0F8",
            "showbackground": true,
            "ticks": "",
            "zerolinecolor": "#EBF0F8"
           }
          },
          "shapedefaults": {
           "line": {
            "color": "#2a3f5f"
           }
          },
          "ternary": {
           "aaxis": {
            "gridcolor": "#DFE8F3",
            "linecolor": "#A2B1C6",
            "ticks": ""
           },
           "baxis": {
            "gridcolor": "#DFE8F3",
            "linecolor": "#A2B1C6",
            "ticks": ""
           },
           "bgcolor": "white",
           "caxis": {
            "gridcolor": "#DFE8F3",
            "linecolor": "#A2B1C6",
            "ticks": ""
           }
          },
          "title": {
           "x": 0.05
          },
          "xaxis": {
           "automargin": true,
           "gridcolor": "#EBF0F8",
           "linecolor": "#EBF0F8",
           "ticks": "",
           "title": {
            "standoff": 15
           },
           "zerolinecolor": "#EBF0F8",
           "zerolinewidth": 2
          },
          "yaxis": {
           "automargin": true,
           "gridcolor": "#EBF0F8",
           "linecolor": "#EBF0F8",
           "ticks": "",
           "title": {
            "standoff": 15
           },
           "zerolinecolor": "#EBF0F8",
           "zerolinewidth": 2
          }
         }
        },
        "title": {
         "text": "Event Distribution with Full Timestamp Precision"
        },
        "width": 1200,
        "xaxis": {
         "tickangle": 90,
         "tickformat": "%Y-%m-%d %H:%M:%S",
         "title": {
          "text": "Date-Time"
         }
        },
        "yaxis": {
         "title": {
          "text": "Frequency"
         }
        }
       }
      }
     },
     "metadata": {},
     "output_type": "display_data"
    }
   ],
   "source": [
    "# Plot a histogram by date and time.\n",
    "plotly_frequency_datetime_plotlypx(df_fs['datetime'], bins=500, density=False, color='grey', title='Event Distribution with Full Timestamp Precision', xlabel='Date-Time', ylabel='Frequency')"
   ]
  },
  {
   "cell_type": "code",
   "execution_count": null,
   "id": "3934680a",
   "metadata": {},
   "outputs": [
    {
     "data": {
      "application/vnd.microsoft.datawrangler.viewer.v0+json": {
       "columns": [
        {
         "name": "index",
         "rawType": "int64",
         "type": "integer"
        },
        {
         "name": "eventname",
         "rawType": "object",
         "type": "string"
        },
        {
         "name": "deviceidhash",
         "rawType": "int64",
         "type": "integer"
        },
        {
         "name": "datetime",
         "rawType": "int64",
         "type": "integer"
        },
        {
         "name": "expid",
         "rawType": "int64",
         "type": "integer"
        },
        {
         "name": "date",
         "rawType": "object",
         "type": "unknown"
        },
        {
         "name": "time",
         "rawType": "object",
         "type": "unknown"
        }
       ],
       "ref": "b3d43f4d-0ffe-4899-8625-7fd4ac7f4ca6",
       "rows": [
        [
         "0",
         "mainscreenappear",
         "4575588528974610257",
         "1564029816",
         "246",
         "2019-07-25",
         "04:43:36"
        ],
        [
         "1",
         "mainscreenappear",
         "7416695313311560658",
         "1564053102",
         "246",
         "2019-07-25",
         "11:11:42"
        ],
        [
         "2",
         "paymentscreensuccessful",
         "3518123091307005509",
         "1564054127",
         "248",
         "2019-07-25",
         "11:28:47"
        ],
        [
         "3",
         "cartscreenappear",
         "3518123091307005509",
         "1564054127",
         "248",
         "2019-07-25",
         "11:28:47"
        ],
        [
         "4",
         "paymentscreensuccessful",
         "6217807653094995999",
         "1564055322",
         "248",
         "2019-07-25",
         "11:48:42"
        ],
        [
         "5",
         "cartscreenappear",
         "6217807653094995999",
         "1564055323",
         "248",
         "2019-07-25",
         "11:48:43"
        ],
        [
         "6",
         "offersscreenappear",
         "8351860793733343758",
         "1564066242",
         "246",
         "2019-07-25",
         "14:50:42"
        ],
        [
         "7",
         "mainscreenappear",
         "5682100281902512875",
         "1564085677",
         "246",
         "2019-07-25",
         "20:14:37"
        ],
        [
         "8",
         "mainscreenappear",
         "1850981295691852772",
         "1564086702",
         "247",
         "2019-07-25",
         "20:31:42"
        ],
        [
         "9",
         "mainscreenappear",
         "5407636962369102641",
         "1564112112",
         "246",
         "2019-07-26",
         "03:35:12"
        ],
        [
         "10",
         "mainscreenappear",
         "948465712512390382",
         "1564119214",
         "247",
         "2019-07-26",
         "05:33:34"
        ],
        [
         "11",
         "mainscreenappear",
         "2547684315586332355",
         "1564123826",
         "248",
         "2019-07-26",
         "06:50:26"
        ],
        [
         "12",
         "mainscreenappear",
         "8885295911290764495",
         "1564124085",
         "248",
         "2019-07-26",
         "06:54:45"
        ],
        [
         "13",
         "mainscreenappear",
         "2140904690380565988",
         "1564125732",
         "247",
         "2019-07-26",
         "07:22:12"
        ],
        [
         "14",
         "mainscreenappear",
         "4444236400320272864",
         "1564135560",
         "246",
         "2019-07-26",
         "10:06:00"
        ],
        [
         "15",
         "mainscreenappear",
         "8947220251154009657",
         "1564140668",
         "248",
         "2019-07-26",
         "11:31:08"
        ],
        [
         "16",
         "mainscreenappear",
         "5839517684026830712",
         "1564141421",
         "247",
         "2019-07-26",
         "11:43:41"
        ],
        [
         "17",
         "mainscreenappear",
         "7540130374989658208",
         "1564144283",
         "248",
         "2019-07-26",
         "12:31:23"
        ],
        [
         "18",
         "cartscreenappear",
         "2575393697599976818",
         "1564148945",
         "247",
         "2019-07-26",
         "13:49:05"
        ],
        [
         "19",
         "mainscreenappear",
         "4651149533106703820",
         "1564149866",
         "246",
         "2019-07-26",
         "14:04:26"
        ],
        [
         "20",
         "offersscreenappear",
         "4651149533106703820",
         "1564149871",
         "246",
         "2019-07-26",
         "14:04:31"
        ],
        [
         "21",
         "cartscreenappear",
         "4651149533106703820",
         "1564149877",
         "246",
         "2019-07-26",
         "14:04:37"
        ],
        [
         "22",
         "offersscreenappear",
         "4651149533106703820",
         "1564149894",
         "246",
         "2019-07-26",
         "14:04:54"
        ],
        [
         "23",
         "mainscreenappear",
         "8295497290010115455",
         "1564151349",
         "248",
         "2019-07-26",
         "14:29:09"
        ],
        [
         "24",
         "mainscreenappear",
         "2467684065904615242",
         "1564155133",
         "247",
         "2019-07-26",
         "15:32:13"
        ],
        [
         "25",
         "cartscreenappear",
         "5325250209390272889",
         "1564158298",
         "246",
         "2019-07-26",
         "16:24:58"
        ],
        [
         "26",
         "offersscreenappear",
         "2029140728621466572",
         "1564160796",
         "246",
         "2019-07-26",
         "17:06:36"
        ],
        [
         "27",
         "cartscreenappear",
         "2029140728621466572",
         "1564160801",
         "246",
         "2019-07-26",
         "17:06:41"
        ],
        [
         "28",
         "paymentscreensuccessful",
         "2029140728621466572",
         "1564160801",
         "246",
         "2019-07-26",
         "17:06:41"
        ],
        [
         "29",
         "tutorial",
         "6598157157289930061",
         "1564164239",
         "247",
         "2019-07-26",
         "18:03:59"
        ],
        [
         "30",
         "tutorial",
         "6598157157289930061",
         "1564164247",
         "247",
         "2019-07-26",
         "18:04:07"
        ],
        [
         "31",
         "offersscreenappear",
         "4917023139263453733",
         "1564164336",
         "247",
         "2019-07-26",
         "18:05:36"
        ],
        [
         "32",
         "mainscreenappear",
         "7746900626563870083",
         "1564165246",
         "248",
         "2019-07-26",
         "18:20:46"
        ],
        [
         "33",
         "mainscreenappear",
         "6587858566581626601",
         "1564165926",
         "246",
         "2019-07-26",
         "18:32:06"
        ],
        [
         "34",
         "mainscreenappear",
         "6587858566581626601",
         "1564165934",
         "246",
         "2019-07-26",
         "18:32:14"
        ],
        [
         "35",
         "paymentscreensuccessful",
         "746235405686708560",
         "1564170266",
         "248",
         "2019-07-26",
         "19:44:26"
        ],
        [
         "36",
         "cartscreenappear",
         "746235405686708560",
         "1564170266",
         "248",
         "2019-07-26",
         "19:44:26"
        ],
        [
         "37",
         "cartscreenappear",
         "6805714022805866600",
         "1564170267",
         "246",
         "2019-07-26",
         "19:44:27"
        ],
        [
         "38",
         "paymentscreensuccessful",
         "6805714022805866600",
         "1564170267",
         "246",
         "2019-07-26",
         "19:44:27"
        ],
        [
         "39",
         "mainscreenappear",
         "4363366562103092326",
         "1564185410",
         "248",
         "2019-07-26",
         "23:56:50"
        ],
        [
         "40",
         "mainscreenappear",
         "4856890444852090984",
         "1564200928",
         "246",
         "2019-07-27",
         "04:15:28"
        ],
        [
         "41",
         "mainscreenappear",
         "2470999879924103731",
         "1564209212",
         "247",
         "2019-07-27",
         "06:33:32"
        ],
        [
         "42",
         "paymentscreensuccessful",
         "6075091495307260046",
         "1564209665",
         "246",
         "2019-07-27",
         "06:41:05"
        ],
        [
         "43",
         "cartscreenappear",
         "6075091495307260046",
         "1564209665",
         "246",
         "2019-07-27",
         "06:41:05"
        ],
        [
         "44",
         "mainscreenappear",
         "2040085853213296046",
         "1564210468",
         "248",
         "2019-07-27",
         "06:54:28"
        ],
        [
         "45",
         "mainscreenappear",
         "3288659580761907806",
         "1564215790",
         "247",
         "2019-07-27",
         "08:23:10"
        ],
        [
         "46",
         "offersscreenappear",
         "2039979342104336040",
         "1564216058",
         "247",
         "2019-07-27",
         "08:27:38"
        ],
        [
         "47",
         "mainscreenappear",
         "5638851536233149647",
         "1564216100",
         "248",
         "2019-07-27",
         "08:28:20"
        ],
        [
         "48",
         "mainscreenappear",
         "4827775328614831155",
         "1564217124",
         "247",
         "2019-07-27",
         "08:45:24"
        ],
        [
         "49",
         "mainscreenappear",
         "4827775328614831155",
         "1564217125",
         "247",
         "2019-07-27",
         "08:45:25"
        ]
       ],
       "shape": {
        "columns": 6,
        "rows": 243713
       }
      },
      "text/html": [
       "<div>\n",
       "<style scoped>\n",
       "    .dataframe tbody tr th:only-of-type {\n",
       "        vertical-align: middle;\n",
       "    }\n",
       "\n",
       "    .dataframe tbody tr th {\n",
       "        vertical-align: top;\n",
       "    }\n",
       "\n",
       "    .dataframe thead th {\n",
       "        text-align: right;\n",
       "    }\n",
       "</style>\n",
       "<table border=\"1\" class=\"dataframe\">\n",
       "  <thead>\n",
       "    <tr style=\"text-align: right;\">\n",
       "      <th></th>\n",
       "      <th>eventname</th>\n",
       "      <th>deviceidhash</th>\n",
       "      <th>datetime</th>\n",
       "      <th>expid</th>\n",
       "      <th>date</th>\n",
       "      <th>time</th>\n",
       "    </tr>\n",
       "  </thead>\n",
       "  <tbody>\n",
       "    <tr>\n",
       "      <th>0</th>\n",
       "      <td>mainscreenappear</td>\n",
       "      <td>4575588528974610257</td>\n",
       "      <td>1564029816</td>\n",
       "      <td>246</td>\n",
       "      <td>2019-07-25</td>\n",
       "      <td>04:43:36</td>\n",
       "    </tr>\n",
       "    <tr>\n",
       "      <th>1</th>\n",
       "      <td>mainscreenappear</td>\n",
       "      <td>7416695313311560658</td>\n",
       "      <td>1564053102</td>\n",
       "      <td>246</td>\n",
       "      <td>2019-07-25</td>\n",
       "      <td>11:11:42</td>\n",
       "    </tr>\n",
       "    <tr>\n",
       "      <th>2</th>\n",
       "      <td>paymentscreensuccessful</td>\n",
       "      <td>3518123091307005509</td>\n",
       "      <td>1564054127</td>\n",
       "      <td>248</td>\n",
       "      <td>2019-07-25</td>\n",
       "      <td>11:28:47</td>\n",
       "    </tr>\n",
       "    <tr>\n",
       "      <th>3</th>\n",
       "      <td>cartscreenappear</td>\n",
       "      <td>3518123091307005509</td>\n",
       "      <td>1564054127</td>\n",
       "      <td>248</td>\n",
       "      <td>2019-07-25</td>\n",
       "      <td>11:28:47</td>\n",
       "    </tr>\n",
       "    <tr>\n",
       "      <th>4</th>\n",
       "      <td>paymentscreensuccessful</td>\n",
       "      <td>6217807653094995999</td>\n",
       "      <td>1564055322</td>\n",
       "      <td>248</td>\n",
       "      <td>2019-07-25</td>\n",
       "      <td>11:48:42</td>\n",
       "    </tr>\n",
       "    <tr>\n",
       "      <th>...</th>\n",
       "      <td>...</td>\n",
       "      <td>...</td>\n",
       "      <td>...</td>\n",
       "      <td>...</td>\n",
       "      <td>...</td>\n",
       "      <td>...</td>\n",
       "    </tr>\n",
       "    <tr>\n",
       "      <th>243708</th>\n",
       "      <td>mainscreenappear</td>\n",
       "      <td>4599628364049201812</td>\n",
       "      <td>1565212345</td>\n",
       "      <td>247</td>\n",
       "      <td>2019-08-07</td>\n",
       "      <td>21:12:25</td>\n",
       "    </tr>\n",
       "    <tr>\n",
       "      <th>243709</th>\n",
       "      <td>mainscreenappear</td>\n",
       "      <td>5849806612437486590</td>\n",
       "      <td>1565212439</td>\n",
       "      <td>246</td>\n",
       "      <td>2019-08-07</td>\n",
       "      <td>21:13:59</td>\n",
       "    </tr>\n",
       "    <tr>\n",
       "      <th>243710</th>\n",
       "      <td>mainscreenappear</td>\n",
       "      <td>5746969938801999050</td>\n",
       "      <td>1565212483</td>\n",
       "      <td>246</td>\n",
       "      <td>2019-08-07</td>\n",
       "      <td>21:14:43</td>\n",
       "    </tr>\n",
       "    <tr>\n",
       "      <th>243711</th>\n",
       "      <td>mainscreenappear</td>\n",
       "      <td>5746969938801999050</td>\n",
       "      <td>1565212498</td>\n",
       "      <td>246</td>\n",
       "      <td>2019-08-07</td>\n",
       "      <td>21:14:58</td>\n",
       "    </tr>\n",
       "    <tr>\n",
       "      <th>243712</th>\n",
       "      <td>offersscreenappear</td>\n",
       "      <td>5746969938801999050</td>\n",
       "      <td>1565212517</td>\n",
       "      <td>246</td>\n",
       "      <td>2019-08-07</td>\n",
       "      <td>21:15:17</td>\n",
       "    </tr>\n",
       "  </tbody>\n",
       "</table>\n",
       "<p>243713 rows × 6 columns</p>\n",
       "</div>"
      ],
      "text/plain": [
       "                      eventname         deviceidhash    datetime  expid        date      time\n",
       "0              mainscreenappear  4575588528974610257  1564029816    246  2019-07-25  04:43:36\n",
       "1              mainscreenappear  7416695313311560658  1564053102    246  2019-07-25  11:11:42\n",
       "2       paymentscreensuccessful  3518123091307005509  1564054127    248  2019-07-25  11:28:47\n",
       "3              cartscreenappear  3518123091307005509  1564054127    248  2019-07-25  11:28:47\n",
       "4       paymentscreensuccessful  6217807653094995999  1564055322    248  2019-07-25  11:48:42\n",
       "...                         ...                  ...         ...    ...         ...       ...\n",
       "243708         mainscreenappear  4599628364049201812  1565212345    247  2019-08-07  21:12:25\n",
       "243709         mainscreenappear  5849806612437486590  1565212439    246  2019-08-07  21:13:59\n",
       "243710         mainscreenappear  5746969938801999050  1565212483    246  2019-08-07  21:14:43\n",
       "243711         mainscreenappear  5746969938801999050  1565212498    246  2019-08-07  21:14:58\n",
       "243712       offersscreenappear  5746969938801999050  1565212517    246  2019-08-07  21:15:17\n",
       "\n",
       "[243713 rows x 6 columns]"
      ]
     },
     "execution_count": 11,
     "metadata": {},
     "output_type": "execute_result"
    }
   ],
   "source": [
    "# Find the point at which the data begins to be complete and ignore the previous section. What period does the data actually represent?\n",
    "df_fs[\"datetime\"] = df_fs[\"datetime\"].dt.tz_convert(None)\n",
    "df_fs[\"datetime\"] = df_fs[\"datetime\"].astype(\"int64\") // 10**9\n",
    "df_fs\n"
   ]
  },
  {
   "cell_type": "code",
   "execution_count": 12,
   "id": "5f8cd1e5",
   "metadata": {},
   "outputs": [
    {
     "data": {
      "text/html": [
       "> Outlier thresholds for <i>'datetime'</i>: \n",
       "> Lower = <b>1564279636.500</b>, > Upper = <b>1565551552.500</b>"
      ],
      "text/plain": [
       "<IPython.core.display.HTML object>"
      ]
     },
     "metadata": {},
     "output_type": "display_data"
    },
    {
     "data": {
      "text/html": [
       "> <b>No</b> upper outliers found in column <i>'datetime'</i>."
      ],
      "text/plain": [
       "<IPython.core.display.HTML object>"
      ]
     },
     "metadata": {},
     "output_type": "display_data"
    },
    {
     "data": {
      "text/html": [
       "- - -"
      ],
      "text/plain": [
       "<IPython.core.display.HTML object>"
      ]
     },
     "metadata": {},
     "output_type": "display_data"
    },
    {
     "data": {
      "text/html": [
       "> Outliers:"
      ],
      "text/plain": [
       "<IPython.core.display.HTML object>"
      ]
     },
     "metadata": {},
     "output_type": "display_data"
    },
    {
     "data": {
      "application/vnd.microsoft.datawrangler.viewer.v0+json": {
       "columns": [
        {
         "name": "index",
         "rawType": "int64",
         "type": "integer"
        },
        {
         "name": "eventname",
         "rawType": "object",
         "type": "string"
        },
        {
         "name": "deviceidhash",
         "rawType": "int64",
         "type": "integer"
        },
        {
         "name": "datetime",
         "rawType": "int64",
         "type": "integer"
        },
        {
         "name": "expid",
         "rawType": "int64",
         "type": "integer"
        },
        {
         "name": "date",
         "rawType": "object",
         "type": "unknown"
        },
        {
         "name": "time",
         "rawType": "object",
         "type": "unknown"
        }
       ],
       "ref": "70759519-8bd9-4634-80e4-e561f20b96fe",
       "rows": [
        [
         "0",
         "mainscreenappear",
         "4575588528974610257",
         "1564029816",
         "246",
         "2019-07-25",
         "04:43:36"
        ],
        [
         "1",
         "mainscreenappear",
         "7416695313311560658",
         "1564053102",
         "246",
         "2019-07-25",
         "11:11:42"
        ],
        [
         "2",
         "paymentscreensuccessful",
         "3518123091307005509",
         "1564054127",
         "248",
         "2019-07-25",
         "11:28:47"
        ],
        [
         "3",
         "cartscreenappear",
         "3518123091307005509",
         "1564054127",
         "248",
         "2019-07-25",
         "11:28:47"
        ],
        [
         "4",
         "paymentscreensuccessful",
         "6217807653094995999",
         "1564055322",
         "248",
         "2019-07-25",
         "11:48:42"
        ],
        [
         "5",
         "cartscreenappear",
         "6217807653094995999",
         "1564055323",
         "248",
         "2019-07-25",
         "11:48:43"
        ],
        [
         "6",
         "offersscreenappear",
         "8351860793733343758",
         "1564066242",
         "246",
         "2019-07-25",
         "14:50:42"
        ],
        [
         "7",
         "mainscreenappear",
         "5682100281902512875",
         "1564085677",
         "246",
         "2019-07-25",
         "20:14:37"
        ],
        [
         "8",
         "mainscreenappear",
         "1850981295691852772",
         "1564086702",
         "247",
         "2019-07-25",
         "20:31:42"
        ],
        [
         "9",
         "mainscreenappear",
         "5407636962369102641",
         "1564112112",
         "246",
         "2019-07-26",
         "03:35:12"
        ],
        [
         "10",
         "mainscreenappear",
         "948465712512390382",
         "1564119214",
         "247",
         "2019-07-26",
         "05:33:34"
        ],
        [
         "11",
         "mainscreenappear",
         "2547684315586332355",
         "1564123826",
         "248",
         "2019-07-26",
         "06:50:26"
        ],
        [
         "12",
         "mainscreenappear",
         "8885295911290764495",
         "1564124085",
         "248",
         "2019-07-26",
         "06:54:45"
        ],
        [
         "13",
         "mainscreenappear",
         "2140904690380565988",
         "1564125732",
         "247",
         "2019-07-26",
         "07:22:12"
        ],
        [
         "14",
         "mainscreenappear",
         "4444236400320272864",
         "1564135560",
         "246",
         "2019-07-26",
         "10:06:00"
        ],
        [
         "15",
         "mainscreenappear",
         "8947220251154009657",
         "1564140668",
         "248",
         "2019-07-26",
         "11:31:08"
        ],
        [
         "16",
         "mainscreenappear",
         "5839517684026830712",
         "1564141421",
         "247",
         "2019-07-26",
         "11:43:41"
        ],
        [
         "17",
         "mainscreenappear",
         "7540130374989658208",
         "1564144283",
         "248",
         "2019-07-26",
         "12:31:23"
        ],
        [
         "18",
         "cartscreenappear",
         "2575393697599976818",
         "1564148945",
         "247",
         "2019-07-26",
         "13:49:05"
        ],
        [
         "19",
         "mainscreenappear",
         "4651149533106703820",
         "1564149866",
         "246",
         "2019-07-26",
         "14:04:26"
        ],
        [
         "20",
         "offersscreenappear",
         "4651149533106703820",
         "1564149871",
         "246",
         "2019-07-26",
         "14:04:31"
        ],
        [
         "21",
         "cartscreenappear",
         "4651149533106703820",
         "1564149877",
         "246",
         "2019-07-26",
         "14:04:37"
        ],
        [
         "22",
         "offersscreenappear",
         "4651149533106703820",
         "1564149894",
         "246",
         "2019-07-26",
         "14:04:54"
        ],
        [
         "23",
         "mainscreenappear",
         "8295497290010115455",
         "1564151349",
         "248",
         "2019-07-26",
         "14:29:09"
        ],
        [
         "24",
         "mainscreenappear",
         "2467684065904615242",
         "1564155133",
         "247",
         "2019-07-26",
         "15:32:13"
        ],
        [
         "25",
         "cartscreenappear",
         "5325250209390272889",
         "1564158298",
         "246",
         "2019-07-26",
         "16:24:58"
        ],
        [
         "26",
         "offersscreenappear",
         "2029140728621466572",
         "1564160796",
         "246",
         "2019-07-26",
         "17:06:36"
        ],
        [
         "27",
         "cartscreenappear",
         "2029140728621466572",
         "1564160801",
         "246",
         "2019-07-26",
         "17:06:41"
        ],
        [
         "28",
         "paymentscreensuccessful",
         "2029140728621466572",
         "1564160801",
         "246",
         "2019-07-26",
         "17:06:41"
        ],
        [
         "29",
         "tutorial",
         "6598157157289930061",
         "1564164239",
         "247",
         "2019-07-26",
         "18:03:59"
        ],
        [
         "30",
         "tutorial",
         "6598157157289930061",
         "1564164247",
         "247",
         "2019-07-26",
         "18:04:07"
        ],
        [
         "31",
         "offersscreenappear",
         "4917023139263453733",
         "1564164336",
         "247",
         "2019-07-26",
         "18:05:36"
        ],
        [
         "32",
         "mainscreenappear",
         "7746900626563870083",
         "1564165246",
         "248",
         "2019-07-26",
         "18:20:46"
        ],
        [
         "33",
         "mainscreenappear",
         "6587858566581626601",
         "1564165926",
         "246",
         "2019-07-26",
         "18:32:06"
        ],
        [
         "34",
         "mainscreenappear",
         "6587858566581626601",
         "1564165934",
         "246",
         "2019-07-26",
         "18:32:14"
        ],
        [
         "35",
         "paymentscreensuccessful",
         "746235405686708560",
         "1564170266",
         "248",
         "2019-07-26",
         "19:44:26"
        ],
        [
         "36",
         "cartscreenappear",
         "746235405686708560",
         "1564170266",
         "248",
         "2019-07-26",
         "19:44:26"
        ],
        [
         "37",
         "cartscreenappear",
         "6805714022805866600",
         "1564170267",
         "246",
         "2019-07-26",
         "19:44:27"
        ],
        [
         "38",
         "paymentscreensuccessful",
         "6805714022805866600",
         "1564170267",
         "246",
         "2019-07-26",
         "19:44:27"
        ],
        [
         "39",
         "mainscreenappear",
         "4363366562103092326",
         "1564185410",
         "248",
         "2019-07-26",
         "23:56:50"
        ],
        [
         "40",
         "mainscreenappear",
         "4856890444852090984",
         "1564200928",
         "246",
         "2019-07-27",
         "04:15:28"
        ],
        [
         "41",
         "mainscreenappear",
         "2470999879924103731",
         "1564209212",
         "247",
         "2019-07-27",
         "06:33:32"
        ],
        [
         "42",
         "paymentscreensuccessful",
         "6075091495307260046",
         "1564209665",
         "246",
         "2019-07-27",
         "06:41:05"
        ],
        [
         "43",
         "cartscreenappear",
         "6075091495307260046",
         "1564209665",
         "246",
         "2019-07-27",
         "06:41:05"
        ],
        [
         "44",
         "mainscreenappear",
         "2040085853213296046",
         "1564210468",
         "248",
         "2019-07-27",
         "06:54:28"
        ],
        [
         "45",
         "mainscreenappear",
         "3288659580761907806",
         "1564215790",
         "247",
         "2019-07-27",
         "08:23:10"
        ],
        [
         "46",
         "offersscreenappear",
         "2039979342104336040",
         "1564216058",
         "247",
         "2019-07-27",
         "08:27:38"
        ],
        [
         "47",
         "mainscreenappear",
         "5638851536233149647",
         "1564216100",
         "248",
         "2019-07-27",
         "08:28:20"
        ],
        [
         "48",
         "mainscreenappear",
         "4827775328614831155",
         "1564217124",
         "247",
         "2019-07-27",
         "08:45:24"
        ],
        [
         "49",
         "mainscreenappear",
         "4827775328614831155",
         "1564217125",
         "247",
         "2019-07-27",
         "08:45:25"
        ]
       ],
       "shape": {
        "columns": 6,
        "rows": 95
       }
      },
      "text/html": [
       "<div>\n",
       "<style scoped>\n",
       "    .dataframe tbody tr th:only-of-type {\n",
       "        vertical-align: middle;\n",
       "    }\n",
       "\n",
       "    .dataframe tbody tr th {\n",
       "        vertical-align: top;\n",
       "    }\n",
       "\n",
       "    .dataframe thead th {\n",
       "        text-align: right;\n",
       "    }\n",
       "</style>\n",
       "<table border=\"1\" class=\"dataframe\">\n",
       "  <thead>\n",
       "    <tr style=\"text-align: right;\">\n",
       "      <th></th>\n",
       "      <th>eventname</th>\n",
       "      <th>deviceidhash</th>\n",
       "      <th>datetime</th>\n",
       "      <th>expid</th>\n",
       "      <th>date</th>\n",
       "      <th>time</th>\n",
       "    </tr>\n",
       "  </thead>\n",
       "  <tbody>\n",
       "    <tr>\n",
       "      <th>0</th>\n",
       "      <td>mainscreenappear</td>\n",
       "      <td>4575588528974610257</td>\n",
       "      <td>1564029816</td>\n",
       "      <td>246</td>\n",
       "      <td>2019-07-25</td>\n",
       "      <td>04:43:36</td>\n",
       "    </tr>\n",
       "    <tr>\n",
       "      <th>1</th>\n",
       "      <td>mainscreenappear</td>\n",
       "      <td>7416695313311560658</td>\n",
       "      <td>1564053102</td>\n",
       "      <td>246</td>\n",
       "      <td>2019-07-25</td>\n",
       "      <td>11:11:42</td>\n",
       "    </tr>\n",
       "    <tr>\n",
       "      <th>2</th>\n",
       "      <td>paymentscreensuccessful</td>\n",
       "      <td>3518123091307005509</td>\n",
       "      <td>1564054127</td>\n",
       "      <td>248</td>\n",
       "      <td>2019-07-25</td>\n",
       "      <td>11:28:47</td>\n",
       "    </tr>\n",
       "    <tr>\n",
       "      <th>3</th>\n",
       "      <td>cartscreenappear</td>\n",
       "      <td>3518123091307005509</td>\n",
       "      <td>1564054127</td>\n",
       "      <td>248</td>\n",
       "      <td>2019-07-25</td>\n",
       "      <td>11:28:47</td>\n",
       "    </tr>\n",
       "    <tr>\n",
       "      <th>4</th>\n",
       "      <td>paymentscreensuccessful</td>\n",
       "      <td>6217807653094995999</td>\n",
       "      <td>1564055322</td>\n",
       "      <td>248</td>\n",
       "      <td>2019-07-25</td>\n",
       "      <td>11:48:42</td>\n",
       "    </tr>\n",
       "    <tr>\n",
       "      <th>...</th>\n",
       "      <td>...</td>\n",
       "      <td>...</td>\n",
       "      <td>...</td>\n",
       "      <td>...</td>\n",
       "      <td>...</td>\n",
       "      <td>...</td>\n",
       "    </tr>\n",
       "    <tr>\n",
       "      <th>90</th>\n",
       "      <td>mainscreenappear</td>\n",
       "      <td>2793988848638831992</td>\n",
       "      <td>1564252142</td>\n",
       "      <td>247</td>\n",
       "      <td>2019-07-27</td>\n",
       "      <td>18:29:02</td>\n",
       "    </tr>\n",
       "    <tr>\n",
       "      <th>91</th>\n",
       "      <td>offersscreenappear</td>\n",
       "      <td>4284716907364183621</td>\n",
       "      <td>1564253762</td>\n",
       "      <td>247</td>\n",
       "      <td>2019-07-27</td>\n",
       "      <td>18:56:02</td>\n",
       "    </tr>\n",
       "    <tr>\n",
       "      <th>92</th>\n",
       "      <td>mainscreenappear</td>\n",
       "      <td>5218365729556903805</td>\n",
       "      <td>1564255514</td>\n",
       "      <td>247</td>\n",
       "      <td>2019-07-27</td>\n",
       "      <td>19:25:14</td>\n",
       "    </tr>\n",
       "    <tr>\n",
       "      <th>93</th>\n",
       "      <td>mainscreenappear</td>\n",
       "      <td>5218365729556903805</td>\n",
       "      <td>1564255522</td>\n",
       "      <td>247</td>\n",
       "      <td>2019-07-27</td>\n",
       "      <td>19:25:22</td>\n",
       "    </tr>\n",
       "    <tr>\n",
       "      <th>94</th>\n",
       "      <td>mainscreenappear</td>\n",
       "      <td>9134757032322342404</td>\n",
       "      <td>1564270549</td>\n",
       "      <td>248</td>\n",
       "      <td>2019-07-27</td>\n",
       "      <td>23:35:49</td>\n",
       "    </tr>\n",
       "  </tbody>\n",
       "</table>\n",
       "<p>95 rows × 6 columns</p>\n",
       "</div>"
      ],
      "text/plain": [
       "                  eventname         deviceidhash    datetime  expid        date      time\n",
       "0          mainscreenappear  4575588528974610257  1564029816    246  2019-07-25  04:43:36\n",
       "1          mainscreenappear  7416695313311560658  1564053102    246  2019-07-25  11:11:42\n",
       "2   paymentscreensuccessful  3518123091307005509  1564054127    248  2019-07-25  11:28:47\n",
       "3          cartscreenappear  3518123091307005509  1564054127    248  2019-07-25  11:28:47\n",
       "4   paymentscreensuccessful  6217807653094995999  1564055322    248  2019-07-25  11:48:42\n",
       "..                      ...                  ...         ...    ...         ...       ...\n",
       "90         mainscreenappear  2793988848638831992  1564252142    247  2019-07-27  18:29:02\n",
       "91       offersscreenappear  4284716907364183621  1564253762    247  2019-07-27  18:56:02\n",
       "92         mainscreenappear  5218365729556903805  1564255514    247  2019-07-27  19:25:14\n",
       "93         mainscreenappear  5218365729556903805  1564255522    247  2019-07-27  19:25:22\n",
       "94         mainscreenappear  9134757032322342404  1564270549    248  2019-07-27  23:35:49\n",
       "\n",
       "[95 rows x 6 columns]"
      ]
     },
     "execution_count": 12,
     "metadata": {},
     "output_type": "execute_result"
    }
   ],
   "source": [
    "# Analyzing outliers\n",
    "outlier_limit_bounds(df_fs, column='datetime', bound='both', clamp_zero=False)"
   ]
  },
  {
   "cell_type": "code",
   "execution_count": 13,
   "id": "5d19cfa5",
   "metadata": {},
   "outputs": [
    {
     "data": {
      "text/html": [
       "> Lower = 2019-07-28 02:07:16.500000+00:00"
      ],
      "text/plain": [
       "<IPython.core.display.HTML object>"
      ]
     },
     "metadata": {},
     "output_type": "display_data"
    },
    {
     "data": {
      "text/html": [
       "> Lower = 2019-08-11 19:25:52.500000+00:00"
      ],
      "text/plain": [
       "<IPython.core.display.HTML object>"
      ]
     },
     "metadata": {},
     "output_type": "display_data"
    }
   ],
   "source": [
    "display(HTML(f\"> Lower = {pd.to_datetime(1564279636.500, unit=\"s\", utc=True)}\"))\n",
    "display(HTML(f\"> Lower = {pd.to_datetime(1565551552.500, unit=\"s\", utc=True)}\"))"
   ]
  },
  {
   "cell_type": "code",
   "execution_count": 14,
   "id": "976d5733",
   "metadata": {},
   "outputs": [
    {
     "data": {
      "application/vnd.microsoft.datawrangler.viewer.v0+json": {
       "columns": [
        {
         "name": "index",
         "rawType": "int64",
         "type": "integer"
        },
        {
         "name": "eventname",
         "rawType": "object",
         "type": "string"
        },
        {
         "name": "deviceidhash",
         "rawType": "int64",
         "type": "integer"
        },
        {
         "name": "datetime",
         "rawType": "datetime64[ns, UTC]",
         "type": "unknown"
        },
        {
         "name": "expid",
         "rawType": "int64",
         "type": "integer"
        },
        {
         "name": "date",
         "rawType": "object",
         "type": "unknown"
        },
        {
         "name": "time",
         "rawType": "object",
         "type": "unknown"
        }
       ],
       "ref": "785f5312-e1b2-4d9e-a3b6-f77f4e4efcdb",
       "rows": [
        [
         "110",
         "offersscreenappear",
         "5287660122200561379",
         "2019-07-28 07:24:12+00:00",
         "247",
         "2019-07-28",
         "07:24:12"
        ],
        [
         "111",
         "mainscreenappear",
         "4601930136642303959",
         "2019-07-28 07:25:42+00:00",
         "246",
         "2019-07-28",
         "07:25:42"
        ],
        [
         "112",
         "mainscreenappear",
         "4078637421796153763",
         "2019-07-28 07:31:58+00:00",
         "248",
         "2019-07-28",
         "07:31:58"
        ],
        [
         "113",
         "mainscreenappear",
         "2851587046453391812",
         "2019-07-28 07:40:40+00:00",
         "246",
         "2019-07-28",
         "07:40:40"
        ],
        [
         "114",
         "mainscreenappear",
         "9111985047183779356",
         "2019-07-28 07:48:19+00:00",
         "247",
         "2019-07-28",
         "07:48:19"
        ],
        [
         "115",
         "mainscreenappear",
         "9111985047183779356",
         "2019-07-28 07:48:21+00:00",
         "247",
         "2019-07-28",
         "07:48:21"
        ],
        [
         "116",
         "mainscreenappear",
         "5286459037591191376",
         "2019-07-28 07:57:57+00:00",
         "246",
         "2019-07-28",
         "07:57:57"
        ],
        [
         "117",
         "mainscreenappear",
         "6632271106649913331",
         "2019-07-28 08:12:24+00:00",
         "248",
         "2019-07-28",
         "08:12:24"
        ],
        [
         "118",
         "mainscreenappear",
         "7247480119368198552",
         "2019-07-28 08:39:52+00:00",
         "248",
         "2019-07-28",
         "08:39:52"
        ],
        [
         "119",
         "mainscreenappear",
         "7098993074549869464",
         "2019-07-28 08:41:24+00:00",
         "246",
         "2019-07-28",
         "08:41:24"
        ],
        [
         "120",
         "mainscreenappear",
         "7098993074549869464",
         "2019-07-28 08:41:41+00:00",
         "246",
         "2019-07-28",
         "08:41:41"
        ],
        [
         "121",
         "mainscreenappear",
         "7098993074549869464",
         "2019-07-28 08:41:42+00:00",
         "246",
         "2019-07-28",
         "08:41:42"
        ],
        [
         "122",
         "cartscreenappear",
         "3881814466361668142",
         "2019-07-28 09:24:48+00:00",
         "246",
         "2019-07-28",
         "09:24:48"
        ],
        [
         "123",
         "mainscreenappear",
         "3862495678968227159",
         "2019-07-28 09:34:44+00:00",
         "246",
         "2019-07-28",
         "09:34:44"
        ],
        [
         "124",
         "mainscreenappear",
         "7098993074549869464",
         "2019-07-28 10:09:44+00:00",
         "246",
         "2019-07-28",
         "10:09:44"
        ],
        [
         "125",
         "mainscreenappear",
         "6718872854672502293",
         "2019-07-28 10:11:12+00:00",
         "246",
         "2019-07-28",
         "10:11:12"
        ],
        [
         "126",
         "cartscreenappear",
         "6740804002403370560",
         "2019-07-28 10:22:13+00:00",
         "247",
         "2019-07-28",
         "10:22:13"
        ],
        [
         "127",
         "cartscreenappear",
         "1816193964766086568",
         "2019-07-28 11:53:35+00:00",
         "246",
         "2019-07-28",
         "11:53:35"
        ],
        [
         "128",
         "offersscreenappear",
         "8803201854993735973",
         "2019-07-28 12:14:23+00:00",
         "247",
         "2019-07-28",
         "12:14:23"
        ],
        [
         "129",
         "mainscreenappear",
         "3254317932296765940",
         "2019-07-28 12:21:07+00:00",
         "246",
         "2019-07-28",
         "12:21:07"
        ],
        [
         "130",
         "mainscreenappear",
         "7062422321199352132",
         "2019-07-28 12:30:47+00:00",
         "246",
         "2019-07-28",
         "12:30:47"
        ],
        [
         "131",
         "paymentscreensuccessful",
         "2504464050730025625",
         "2019-07-28 12:34:18+00:00",
         "247",
         "2019-07-28",
         "12:34:18"
        ],
        [
         "132",
         "cartscreenappear",
         "2504464050730025625",
         "2019-07-28 12:34:18+00:00",
         "247",
         "2019-07-28",
         "12:34:18"
        ],
        [
         "133",
         "cartscreenappear",
         "2310567447000311087",
         "2019-07-28 12:37:37+00:00",
         "247",
         "2019-07-28",
         "12:37:37"
        ],
        [
         "134",
         "paymentscreensuccessful",
         "2310567447000311087",
         "2019-07-28 12:37:37+00:00",
         "247",
         "2019-07-28",
         "12:37:37"
        ],
        [
         "135",
         "mainscreenappear",
         "2412302828863983602",
         "2019-07-28 12:39:40+00:00",
         "246",
         "2019-07-28",
         "12:39:40"
        ],
        [
         "136",
         "paymentscreensuccessful",
         "8416803071325524257",
         "2019-07-28 12:51:05+00:00",
         "246",
         "2019-07-28",
         "12:51:05"
        ],
        [
         "137",
         "cartscreenappear",
         "8416803071325524257",
         "2019-07-28 12:51:06+00:00",
         "246",
         "2019-07-28",
         "12:51:06"
        ],
        [
         "138",
         "mainscreenappear",
         "519684206898074804",
         "2019-07-28 13:01:58+00:00",
         "248",
         "2019-07-28",
         "13:01:58"
        ],
        [
         "139",
         "mainscreenappear",
         "5652604965383417961",
         "2019-07-28 13:02:48+00:00",
         "247",
         "2019-07-28",
         "13:02:48"
        ],
        [
         "140",
         "offersscreenappear",
         "5652604965383417961",
         "2019-07-28 13:02:52+00:00",
         "247",
         "2019-07-28",
         "13:02:52"
        ],
        [
         "141",
         "offersscreenappear",
         "5652604965383417961",
         "2019-07-28 13:03:22+00:00",
         "247",
         "2019-07-28",
         "13:03:22"
        ],
        [
         "142",
         "mainscreenappear",
         "5652604965383417961",
         "2019-07-28 13:05:52+00:00",
         "247",
         "2019-07-28",
         "13:05:52"
        ],
        [
         "143",
         "offersscreenappear",
         "5652604965383417961",
         "2019-07-28 13:05:56+00:00",
         "247",
         "2019-07-28",
         "13:05:56"
        ],
        [
         "144",
         "mainscreenappear",
         "7621543483410775428",
         "2019-07-28 13:06:10+00:00",
         "247",
         "2019-07-28",
         "13:06:10"
        ],
        [
         "145",
         "offersscreenappear",
         "5652604965383417961",
         "2019-07-28 13:06:13+00:00",
         "247",
         "2019-07-28",
         "13:06:13"
        ],
        [
         "146",
         "offersscreenappear",
         "519684206898074804",
         "2019-07-28 13:06:21+00:00",
         "248",
         "2019-07-28",
         "13:06:21"
        ],
        [
         "147",
         "offersscreenappear",
         "4703081243737778270",
         "2019-07-28 13:11:30+00:00",
         "247",
         "2019-07-28",
         "13:11:30"
        ],
        [
         "148",
         "mainscreenappear",
         "519684206898074804",
         "2019-07-28 13:12:06+00:00",
         "248",
         "2019-07-28",
         "13:12:06"
        ],
        [
         "149",
         "offersscreenappear",
         "519684206898074804",
         "2019-07-28 13:13:05+00:00",
         "248",
         "2019-07-28",
         "13:13:05"
        ],
        [
         "150",
         "mainscreenappear",
         "8810941885921686538",
         "2019-07-28 13:34:32+00:00",
         "247",
         "2019-07-28",
         "13:34:32"
        ],
        [
         "151",
         "mainscreenappear",
         "1956901356283862679",
         "2019-07-28 13:40:12+00:00",
         "247",
         "2019-07-28",
         "13:40:12"
        ],
        [
         "152",
         "mainscreenappear",
         "2068231509725197472",
         "2019-07-28 14:07:42+00:00",
         "246",
         "2019-07-28",
         "14:07:42"
        ],
        [
         "153",
         "mainscreenappear",
         "7379684506204665339",
         "2019-07-28 14:20:11+00:00",
         "247",
         "2019-07-28",
         "14:20:11"
        ],
        [
         "154",
         "mainscreenappear",
         "2126522902876821289",
         "2019-07-28 14:22:20+00:00",
         "247",
         "2019-07-28",
         "14:22:20"
        ],
        [
         "155",
         "mainscreenappear",
         "567723824013869921",
         "2019-07-28 14:31:13+00:00",
         "248",
         "2019-07-28",
         "14:31:13"
        ],
        [
         "156",
         "offersscreenappear",
         "2158697942336348976",
         "2019-07-28 14:44:18+00:00",
         "246",
         "2019-07-28",
         "14:44:18"
        ],
        [
         "157",
         "mainscreenappear",
         "3546653713328088383",
         "2019-07-28 14:46:03+00:00",
         "246",
         "2019-07-28",
         "14:46:03"
        ],
        [
         "158",
         "mainscreenappear",
         "8523590611747568369",
         "2019-07-28 14:47:13+00:00",
         "247",
         "2019-07-28",
         "14:47:13"
        ],
        [
         "159",
         "paymentscreensuccessful",
         "741217858549528863",
         "2019-07-28 15:07:08+00:00",
         "247",
         "2019-07-28",
         "15:07:08"
        ]
       ],
       "shape": {
        "columns": 6,
        "rows": 243603
       }
      },
      "text/html": [
       "<div>\n",
       "<style scoped>\n",
       "    .dataframe tbody tr th:only-of-type {\n",
       "        vertical-align: middle;\n",
       "    }\n",
       "\n",
       "    .dataframe tbody tr th {\n",
       "        vertical-align: top;\n",
       "    }\n",
       "\n",
       "    .dataframe thead th {\n",
       "        text-align: right;\n",
       "    }\n",
       "</style>\n",
       "<table border=\"1\" class=\"dataframe\">\n",
       "  <thead>\n",
       "    <tr style=\"text-align: right;\">\n",
       "      <th></th>\n",
       "      <th>eventname</th>\n",
       "      <th>deviceidhash</th>\n",
       "      <th>datetime</th>\n",
       "      <th>expid</th>\n",
       "      <th>date</th>\n",
       "      <th>time</th>\n",
       "    </tr>\n",
       "  </thead>\n",
       "  <tbody>\n",
       "    <tr>\n",
       "      <th>110</th>\n",
       "      <td>offersscreenappear</td>\n",
       "      <td>5287660122200561379</td>\n",
       "      <td>2019-07-28 07:24:12+00:00</td>\n",
       "      <td>247</td>\n",
       "      <td>2019-07-28</td>\n",
       "      <td>07:24:12</td>\n",
       "    </tr>\n",
       "    <tr>\n",
       "      <th>111</th>\n",
       "      <td>mainscreenappear</td>\n",
       "      <td>4601930136642303959</td>\n",
       "      <td>2019-07-28 07:25:42+00:00</td>\n",
       "      <td>246</td>\n",
       "      <td>2019-07-28</td>\n",
       "      <td>07:25:42</td>\n",
       "    </tr>\n",
       "    <tr>\n",
       "      <th>112</th>\n",
       "      <td>mainscreenappear</td>\n",
       "      <td>4078637421796153763</td>\n",
       "      <td>2019-07-28 07:31:58+00:00</td>\n",
       "      <td>248</td>\n",
       "      <td>2019-07-28</td>\n",
       "      <td>07:31:58</td>\n",
       "    </tr>\n",
       "    <tr>\n",
       "      <th>113</th>\n",
       "      <td>mainscreenappear</td>\n",
       "      <td>2851587046453391812</td>\n",
       "      <td>2019-07-28 07:40:40+00:00</td>\n",
       "      <td>246</td>\n",
       "      <td>2019-07-28</td>\n",
       "      <td>07:40:40</td>\n",
       "    </tr>\n",
       "    <tr>\n",
       "      <th>114</th>\n",
       "      <td>mainscreenappear</td>\n",
       "      <td>9111985047183779356</td>\n",
       "      <td>2019-07-28 07:48:19+00:00</td>\n",
       "      <td>247</td>\n",
       "      <td>2019-07-28</td>\n",
       "      <td>07:48:19</td>\n",
       "    </tr>\n",
       "    <tr>\n",
       "      <th>...</th>\n",
       "      <td>...</td>\n",
       "      <td>...</td>\n",
       "      <td>...</td>\n",
       "      <td>...</td>\n",
       "      <td>...</td>\n",
       "      <td>...</td>\n",
       "    </tr>\n",
       "    <tr>\n",
       "      <th>243708</th>\n",
       "      <td>mainscreenappear</td>\n",
       "      <td>4599628364049201812</td>\n",
       "      <td>2019-08-07 21:12:25+00:00</td>\n",
       "      <td>247</td>\n",
       "      <td>2019-08-07</td>\n",
       "      <td>21:12:25</td>\n",
       "    </tr>\n",
       "    <tr>\n",
       "      <th>243709</th>\n",
       "      <td>mainscreenappear</td>\n",
       "      <td>5849806612437486590</td>\n",
       "      <td>2019-08-07 21:13:59+00:00</td>\n",
       "      <td>246</td>\n",
       "      <td>2019-08-07</td>\n",
       "      <td>21:13:59</td>\n",
       "    </tr>\n",
       "    <tr>\n",
       "      <th>243710</th>\n",
       "      <td>mainscreenappear</td>\n",
       "      <td>5746969938801999050</td>\n",
       "      <td>2019-08-07 21:14:43+00:00</td>\n",
       "      <td>246</td>\n",
       "      <td>2019-08-07</td>\n",
       "      <td>21:14:43</td>\n",
       "    </tr>\n",
       "    <tr>\n",
       "      <th>243711</th>\n",
       "      <td>mainscreenappear</td>\n",
       "      <td>5746969938801999050</td>\n",
       "      <td>2019-08-07 21:14:58+00:00</td>\n",
       "      <td>246</td>\n",
       "      <td>2019-08-07</td>\n",
       "      <td>21:14:58</td>\n",
       "    </tr>\n",
       "    <tr>\n",
       "      <th>243712</th>\n",
       "      <td>offersscreenappear</td>\n",
       "      <td>5746969938801999050</td>\n",
       "      <td>2019-08-07 21:15:17+00:00</td>\n",
       "      <td>246</td>\n",
       "      <td>2019-08-07</td>\n",
       "      <td>21:15:17</td>\n",
       "    </tr>\n",
       "  </tbody>\n",
       "</table>\n",
       "<p>243603 rows × 6 columns</p>\n",
       "</div>"
      ],
      "text/plain": [
       "                 eventname         deviceidhash                  datetime  expid        date      time\n",
       "110     offersscreenappear  5287660122200561379 2019-07-28 07:24:12+00:00    247  2019-07-28  07:24:12\n",
       "111       mainscreenappear  4601930136642303959 2019-07-28 07:25:42+00:00    246  2019-07-28  07:25:42\n",
       "112       mainscreenappear  4078637421796153763 2019-07-28 07:31:58+00:00    248  2019-07-28  07:31:58\n",
       "113       mainscreenappear  2851587046453391812 2019-07-28 07:40:40+00:00    246  2019-07-28  07:40:40\n",
       "114       mainscreenappear  9111985047183779356 2019-07-28 07:48:19+00:00    247  2019-07-28  07:48:19\n",
       "...                    ...                  ...                       ...    ...         ...       ...\n",
       "243708    mainscreenappear  4599628364049201812 2019-08-07 21:12:25+00:00    247  2019-08-07  21:12:25\n",
       "243709    mainscreenappear  5849806612437486590 2019-08-07 21:13:59+00:00    246  2019-08-07  21:13:59\n",
       "243710    mainscreenappear  5746969938801999050 2019-08-07 21:14:43+00:00    246  2019-08-07  21:14:43\n",
       "243711    mainscreenappear  5746969938801999050 2019-08-07 21:14:58+00:00    246  2019-08-07  21:14:58\n",
       "243712  offersscreenappear  5746969938801999050 2019-08-07 21:15:17+00:00    246  2019-08-07  21:15:17\n",
       "\n",
       "[243603 rows x 6 columns]"
      ]
     },
     "execution_count": 14,
     "metadata": {},
     "output_type": "execute_result"
    }
   ],
   "source": [
    "df_fs = df_fs.copy()\n",
    "df_fs = df_fs.loc[(df_fs['datetime'] > 1564297636.500) & (df_fs['datetime'] < 1565569552.500), :]\n",
    "df_fs.loc[:, :] = normalize_datetime(df_fs, include=['datetime'], unix_unit='s')\n",
    "df_fs"
   ]
  },
  {
   "cell_type": "code",
   "execution_count": 15,
   "id": "1b24f065",
   "metadata": {},
   "outputs": [
    {
     "data": {
      "application/vnd.plotly.v1+json": {
       "config": {
        "plotlyServerURL": "https://plot.ly"
       },
       "data": [
        {
         "marker": {
          "color": "grey"
         },
         "name": "Histogram",
         "opacity": 0.7,
         "type": "bar",
         "width": {
          "bdata": "kuMbAJLjGwCS4xsAkuMbAJLjGwCS4xsAkuMbAJLjGwCS4xsAkuMbAJLjGwCS4xsAkuMbAJLjGwCS4xsAkuMbAJLjGwCS4xsAkuMbAJLjGwCS4xsAkuMbAJLjGwCS4xsAkuMbAJLjGwCS4xsAkuMbAJLjGwCS4xsAkuMbAJLjGwCS4xsAkuMbAJLjGwCS4xsAkuMbAJLjGwCS4xsAkuMbAJLjGwCS4xsAkuMbAJLjGwCS4xsAkuMbAJLjGwCS4xsAkuMbAJLjGwCS4xsAkuMbAJLjGwCS4xsAkuMbAJLjGwCS4xsAkuMbAJLjGwCS4xsAkuMbAJLjGwCS4xsAkuMbAJLjGwCS4xsAkuMbAJLjGwCS4xsAkuMbAJLjGwCS4xsAkuMbAJLjGwCS4xsAkuMbAJLjGwCS4xsAkuMbAJLjGwCS4xsAkuMbAJLjGwCS4xsAkuMbAJLjGwCS4xsAkuMbAJLjGwCS4xsAkuMbAJLjGwCS4xsAkuMbAJLjGwCS4xsAkuMbAJLjGwCS4xsAkuMbAJLjGwCS4xsAkuMbAJLjGwCS4xsAkuMbAJLjGwCS4xsAkuMbAJLjGwCS4xsAkuMbAJLjGwCS4xsAkuMbAJLjGwCS4xsAkuMbAJLjGwCS4xsAkuMbAJLjGwCS4xsAkuMbAJLjGwCS4xsAkuMbAJLjGwCS4xsAkuMbAJLjGwCS4xsAkuMbAJLjGwCS4xsAkuMbAJLjGwCS4xsAkuMbAJLjGwCS4xsAkuMbAJLjGwCS4xsAkuMbAJLjGwCS4xsAkuMbAJLjGwCS4xsAkuMbAJLjGwCS4xsAkuMbAJLjGwCS4xsAkuMbAJLjGwCS4xsAkuMbAJLjGwCS4xsAkuMbAJLjGwCS4xsAkuMbAJLjGwCS4xsAkuMbAJLjGwCS4xsAkuMbAJLjGwCS4xsAkuMbAJLjGwCS4xsAkuMbAJLjGwCS4xsAkuMbAJLjGwCS4xsAkuMbAJLjGwCS4xsAkuMbAJLjGwCS4xsAkuMbAJLjGwCS4xsAkuMbAJLjGwCS4xsAkuMbAJLjGwCS4xsAkuMbAJLjGwCS4xsAkuMbAJLjGwCS4xsAkuMbAJLjGwCS4xsAkuMbAJLjGwCS4xsAkuMbAJLjGwCS4xsAkuMbAJLjGwCS4xsAkuMbAJLjGwCS4xsAkuMbAJLjGwCS4xsAkuMbAJLjGwCS4xsAkuMbAJLjGwCS4xsAkuMbAJLjGwCS4xsAkuMbAJLjGwCS4xsAkuMbAJLjGwCS4xsAkuMbAJLjGwCS4xsAkuMbAJLjGwCS4xsAkuMbAJLjGwCS4xsAkuMbAJLjGwCS4xsAkuMbAJLjGwCS4xsAkuMbAJLjGwCS4xsAkuMbAJLjGwCS4xsAkuMbAJLjGwCS4xsAkuMbAJLjGwCS4xsAkuMbAJLjGwCS4xsAkuMbAJLjGwCS4xsAkuMbAJLjGwCS4xsAkuMbAJLjGwCS4xsAkuMbAJLjGwCS4xsAkuMbAJLjGwCS4xsAkuMbAJLjGwCS4xsAkuMbAJLjGwCS4xsAkuMbAJLjGwCS4xsAkuMbAJLjGwCS4xsAkuMbAJLjGwCS4xsAkuMbAJLjGwCS4xsAkuMbAJLjGwCS4xsAkuMbAJLjGwCS4xsAkuMbAJLjGwCS4xsAkuMbAJLjGwCS4xsAkuMbAJLjGwCS4xsAkuMbAJLjGwCS4xsAkuMbAJLjGwCS4xsAkuMbAJLjGwCS4xsAkuMbAJLjGwCS4xsAkuMbAJLjGwCS4xsAkuMbAJLjGwCS4xsAkuMbAJLjGwCS4xsAkuMbAJLjGwCS4xsAkuMbAJLjGwCS4xsAkuMbAJLjGwCS4xsAkuMbAJLjGwCS4xsAkuMbAJLjGwCS4xsAkuMbAJLjGwCS4xsAkuMbAJLjGwCS4xsAkuMbAJLjGwCS4xsAkuMbAJLjGwCS4xsAkuMbAJLjGwCS4xsAkuMbAJLjGwCS4xsAkuMbAJLjGwCS4xsAkuMbAJLjGwCS4xsAkuMbAJLjGwCS4xsAkuMbAJLjGwCS4xsAkuMbAJLjGwCS4xsAkuMbAJLjGwCS4xsAkuMbAJLjGwCS4xsAkuMbAJLjGwCS4xsAkuMbAJLjGwCS4xsAkuMbAJLjGwCS4xsAkuMbAJLjGwCS4xsAkuMbAJLjGwCS4xsAkuMbAJLjGwCS4xsAkuMbAJLjGwCS4xsAkuMbAJLjGwCS4xsAkuMbAJLjGwCS4xsAkuMbAJLjGwCS4xsAkuMbAJLjGwCS4xsAkuMbAJLjGwCS4xsAkuMbAJLjGwCS4xsAkuMbAJLjGwCS4xsAkuMbAJLjGwCS4xsAkuMbAJLjGwCS4xsAkuMbAJLjGwCS4xsAkuMbAJLjGwCS4xsAkuMbAJLjGwCS4xsAkuMbAJLjGwCS4xsAkuMbAJLjGwCS4xsAkuMbAJLjGwCS4xsAkuMbAJLjGwCS4xsAkuMbAJLjGwCS4xsAkuMbAJLjGwCS4xsAkuMbAJLjGwCS4xsAkuMbAJLjGwCS4xsAkuMbAJLjGwCS4xsAkuMbAJLjGwCS4xsAkuMbAJLjGwCS4xsAkuMbAJLjGwCS4xsAkuMbAJLjGwCS4xsAkuMbAJLjGwCS4xsAkuMbAJLjGwCS4xsAkuMbAJLjGwCS4xsAkuMbAJLjGwCS4xsAkuMbAJLjGwA=",
          "dtype": "i4"
         },
         "x": [
          "2019-07-28T07:39:25.865000+00:00",
          "2019-07-28T08:09:53.595000+00:00",
          "2019-07-28T08:40:21.325000+00:00",
          "2019-07-28T09:10:49.055000+00:00",
          "2019-07-28T09:41:16.785000+00:00",
          "2019-07-28T10:11:44.515000+00:00",
          "2019-07-28T10:42:12.245000+00:00",
          "2019-07-28T11:12:39.975000+00:00",
          "2019-07-28T11:43:07.705000+00:00",
          "2019-07-28T12:13:35.435000+00:00",
          "2019-07-28T12:44:03.165000+00:00",
          "2019-07-28T13:14:30.895000+00:00",
          "2019-07-28T13:44:58.625000+00:00",
          "2019-07-28T14:15:26.355000+00:00",
          "2019-07-28T14:45:54.085000+00:00",
          "2019-07-28T15:16:21.815000+00:00",
          "2019-07-28T15:46:49.545000+00:00",
          "2019-07-28T16:17:17.275000+00:00",
          "2019-07-28T16:47:45.005000+00:00",
          "2019-07-28T17:18:12.735000+00:00",
          "2019-07-28T17:48:40.465000+00:00",
          "2019-07-28T18:19:08.195000+00:00",
          "2019-07-28T18:49:35.925000+00:00",
          "2019-07-28T19:20:03.655000+00:00",
          "2019-07-28T19:50:31.385000+00:00",
          "2019-07-28T20:20:59.115000+00:00",
          "2019-07-28T20:51:26.845000+00:00",
          "2019-07-28T21:21:54.575000+00:00",
          "2019-07-28T21:52:22.305000+00:00",
          "2019-07-28T22:22:50.035000+00:00",
          "2019-07-28T22:53:17.765000+00:00",
          "2019-07-28T23:23:45.495000+00:00",
          "2019-07-28T23:54:13.225000+00:00",
          "2019-07-29T00:24:40.955000+00:00",
          "2019-07-29T00:55:08.685000+00:00",
          "2019-07-29T01:25:36.415000+00:00",
          "2019-07-29T01:56:04.145000+00:00",
          "2019-07-29T02:26:31.875000+00:00",
          "2019-07-29T02:56:59.605000+00:00",
          "2019-07-29T03:27:27.335000+00:00",
          "2019-07-29T03:57:55.065000+00:00",
          "2019-07-29T04:28:22.795000+00:00",
          "2019-07-29T04:58:50.525000+00:00",
          "2019-07-29T05:29:18.255000+00:00",
          "2019-07-29T05:59:45.985000+00:00",
          "2019-07-29T06:30:13.715000+00:00",
          "2019-07-29T07:00:41.445000+00:00",
          "2019-07-29T07:31:09.175000+00:00",
          "2019-07-29T08:01:36.905000+00:00",
          "2019-07-29T08:32:04.635000+00:00",
          "2019-07-29T09:02:32.365000+00:00",
          "2019-07-29T09:33:00.095000+00:00",
          "2019-07-29T10:03:27.825000+00:00",
          "2019-07-29T10:33:55.555000+00:00",
          "2019-07-29T11:04:23.285000+00:00",
          "2019-07-29T11:34:51.015000+00:00",
          "2019-07-29T12:05:18.745000+00:00",
          "2019-07-29T12:35:46.475000+00:00",
          "2019-07-29T13:06:14.205000+00:00",
          "2019-07-29T13:36:41.935000+00:00",
          "2019-07-29T14:07:09.665000+00:00",
          "2019-07-29T14:37:37.395000+00:00",
          "2019-07-29T15:08:05.125000+00:00",
          "2019-07-29T15:38:32.855000+00:00",
          "2019-07-29T16:09:00.585000+00:00",
          "2019-07-29T16:39:28.315000+00:00",
          "2019-07-29T17:09:56.045000+00:00",
          "2019-07-29T17:40:23.775000+00:00",
          "2019-07-29T18:10:51.505000+00:00",
          "2019-07-29T18:41:19.235000+00:00",
          "2019-07-29T19:11:46.965000+00:00",
          "2019-07-29T19:42:14.695000+00:00",
          "2019-07-29T20:12:42.425000+00:00",
          "2019-07-29T20:43:10.155000+00:00",
          "2019-07-29T21:13:37.885000+00:00",
          "2019-07-29T21:44:05.615000+00:00",
          "2019-07-29T22:14:33.345000+00:00",
          "2019-07-29T22:45:01.075000+00:00",
          "2019-07-29T23:15:28.805000+00:00",
          "2019-07-29T23:45:56.535000+00:00",
          "2019-07-30T00:16:24.265000+00:00",
          "2019-07-30T00:46:51.995000+00:00",
          "2019-07-30T01:17:19.725000+00:00",
          "2019-07-30T01:47:47.455000+00:00",
          "2019-07-30T02:18:15.185000+00:00",
          "2019-07-30T02:48:42.915000+00:00",
          "2019-07-30T03:19:10.645000+00:00",
          "2019-07-30T03:49:38.375000+00:00",
          "2019-07-30T04:20:06.105000+00:00",
          "2019-07-30T04:50:33.835000+00:00",
          "2019-07-30T05:21:01.565000+00:00",
          "2019-07-30T05:51:29.295000+00:00",
          "2019-07-30T06:21:57.025000+00:00",
          "2019-07-30T06:52:24.755000+00:00",
          "2019-07-30T07:22:52.485000+00:00",
          "2019-07-30T07:53:20.215000+00:00",
          "2019-07-30T08:23:47.945000+00:00",
          "2019-07-30T08:54:15.675000+00:00",
          "2019-07-30T09:24:43.405000+00:00",
          "2019-07-30T09:55:11.135000+00:00",
          "2019-07-30T10:25:38.865000+00:00",
          "2019-07-30T10:56:06.595000+00:00",
          "2019-07-30T11:26:34.325000+00:00",
          "2019-07-30T11:57:02.055000+00:00",
          "2019-07-30T12:27:29.785000+00:00",
          "2019-07-30T12:57:57.515000+00:00",
          "2019-07-30T13:28:25.245000+00:00",
          "2019-07-30T13:58:52.975000+00:00",
          "2019-07-30T14:29:20.705000+00:00",
          "2019-07-30T14:59:48.435000+00:00",
          "2019-07-30T15:30:16.165000+00:00",
          "2019-07-30T16:00:43.895000+00:00",
          "2019-07-30T16:31:11.625000+00:00",
          "2019-07-30T17:01:39.355000+00:00",
          "2019-07-30T17:32:07.085000+00:00",
          "2019-07-30T18:02:34.815000+00:00",
          "2019-07-30T18:33:02.545000+00:00",
          "2019-07-30T19:03:30.275000+00:00",
          "2019-07-30T19:33:58.005000+00:00",
          "2019-07-30T20:04:25.735000+00:00",
          "2019-07-30T20:34:53.465000+00:00",
          "2019-07-30T21:05:21.195000+00:00",
          "2019-07-30T21:35:48.925000+00:00",
          "2019-07-30T22:06:16.655000+00:00",
          "2019-07-30T22:36:44.385000+00:00",
          "2019-07-30T23:07:12.115000+00:00",
          "2019-07-30T23:37:39.845000+00:00",
          "2019-07-31T00:08:07.575000+00:00",
          "2019-07-31T00:38:35.305000+00:00",
          "2019-07-31T01:09:03.035000+00:00",
          "2019-07-31T01:39:30.765000+00:00",
          "2019-07-31T02:09:58.495000+00:00",
          "2019-07-31T02:40:26.225000+00:00",
          "2019-07-31T03:10:53.955000+00:00",
          "2019-07-31T03:41:21.685000+00:00",
          "2019-07-31T04:11:49.415000+00:00",
          "2019-07-31T04:42:17.145000+00:00",
          "2019-07-31T05:12:44.875000+00:00",
          "2019-07-31T05:43:12.605000+00:00",
          "2019-07-31T06:13:40.335000+00:00",
          "2019-07-31T06:44:08.065000+00:00",
          "2019-07-31T07:14:35.795000+00:00",
          "2019-07-31T07:45:03.525000+00:00",
          "2019-07-31T08:15:31.255000+00:00",
          "2019-07-31T08:45:58.985000+00:00",
          "2019-07-31T09:16:26.715000+00:00",
          "2019-07-31T09:46:54.445000+00:00",
          "2019-07-31T10:17:22.175000+00:00",
          "2019-07-31T10:47:49.905000+00:00",
          "2019-07-31T11:18:17.635000+00:00",
          "2019-07-31T11:48:45.365000+00:00",
          "2019-07-31T12:19:13.095000+00:00",
          "2019-07-31T12:49:40.825000+00:00",
          "2019-07-31T13:20:08.555000+00:00",
          "2019-07-31T13:50:36.285000+00:00",
          "2019-07-31T14:21:04.015000+00:00",
          "2019-07-31T14:51:31.745000+00:00",
          "2019-07-31T15:21:59.475000+00:00",
          "2019-07-31T15:52:27.205000+00:00",
          "2019-07-31T16:22:54.935000+00:00",
          "2019-07-31T16:53:22.665000+00:00",
          "2019-07-31T17:23:50.395000+00:00",
          "2019-07-31T17:54:18.125000+00:00",
          "2019-07-31T18:24:45.855000+00:00",
          "2019-07-31T18:55:13.585000+00:00",
          "2019-07-31T19:25:41.315000+00:00",
          "2019-07-31T19:56:09.045000+00:00",
          "2019-07-31T20:26:36.775000+00:00",
          "2019-07-31T20:57:04.505000+00:00",
          "2019-07-31T21:27:32.235000+00:00",
          "2019-07-31T21:57:59.965000+00:00",
          "2019-07-31T22:28:27.695000+00:00",
          "2019-07-31T22:58:55.425000+00:00",
          "2019-07-31T23:29:23.155000+00:00",
          "2019-07-31T23:59:50.885000+00:00",
          "2019-08-01T00:30:18.615000+00:00",
          "2019-08-01T01:00:46.345000+00:00",
          "2019-08-01T01:31:14.075000+00:00",
          "2019-08-01T02:01:41.805000+00:00",
          "2019-08-01T02:32:09.535000+00:00",
          "2019-08-01T03:02:37.265000+00:00",
          "2019-08-01T03:33:04.995000+00:00",
          "2019-08-01T04:03:32.725000+00:00",
          "2019-08-01T04:34:00.455000+00:00",
          "2019-08-01T05:04:28.185000+00:00",
          "2019-08-01T05:34:55.915000+00:00",
          "2019-08-01T06:05:23.645000+00:00",
          "2019-08-01T06:35:51.375000+00:00",
          "2019-08-01T07:06:19.105000+00:00",
          "2019-08-01T07:36:46.835000+00:00",
          "2019-08-01T08:07:14.565000+00:00",
          "2019-08-01T08:37:42.295000+00:00",
          "2019-08-01T09:08:10.025000+00:00",
          "2019-08-01T09:38:37.755000+00:00",
          "2019-08-01T10:09:05.485000+00:00",
          "2019-08-01T10:39:33.215000+00:00",
          "2019-08-01T11:10:00.945000+00:00",
          "2019-08-01T11:40:28.675000+00:00",
          "2019-08-01T12:10:56.405000+00:00",
          "2019-08-01T12:41:24.135000+00:00",
          "2019-08-01T13:11:51.865000+00:00",
          "2019-08-01T13:42:19.595000+00:00",
          "2019-08-01T14:12:47.325000+00:00",
          "2019-08-01T14:43:15.055000+00:00",
          "2019-08-01T15:13:42.785000+00:00",
          "2019-08-01T15:44:10.515000+00:00",
          "2019-08-01T16:14:38.245000+00:00",
          "2019-08-01T16:45:05.975000+00:00",
          "2019-08-01T17:15:33.705000+00:00",
          "2019-08-01T17:46:01.435000+00:00",
          "2019-08-01T18:16:29.165000+00:00",
          "2019-08-01T18:46:56.895000+00:00",
          "2019-08-01T19:17:24.625000+00:00",
          "2019-08-01T19:47:52.355000+00:00",
          "2019-08-01T20:18:20.085000+00:00",
          "2019-08-01T20:48:47.815000+00:00",
          "2019-08-01T21:19:15.545000+00:00",
          "2019-08-01T21:49:43.275000+00:00",
          "2019-08-01T22:20:11.005000+00:00",
          "2019-08-01T22:50:38.735000+00:00",
          "2019-08-01T23:21:06.465000+00:00",
          "2019-08-01T23:51:34.195000+00:00",
          "2019-08-02T00:22:01.925000+00:00",
          "2019-08-02T00:52:29.655000+00:00",
          "2019-08-02T01:22:57.385000+00:00",
          "2019-08-02T01:53:25.115000+00:00",
          "2019-08-02T02:23:52.845000+00:00",
          "2019-08-02T02:54:20.575000+00:00",
          "2019-08-02T03:24:48.305000+00:00",
          "2019-08-02T03:55:16.035000+00:00",
          "2019-08-02T04:25:43.765000+00:00",
          "2019-08-02T04:56:11.495000+00:00",
          "2019-08-02T05:26:39.225000+00:00",
          "2019-08-02T05:57:06.955000+00:00",
          "2019-08-02T06:27:34.685000+00:00",
          "2019-08-02T06:58:02.415000+00:00",
          "2019-08-02T07:28:30.145000+00:00",
          "2019-08-02T07:58:57.875000+00:00",
          "2019-08-02T08:29:25.605000+00:00",
          "2019-08-02T08:59:53.335000+00:00",
          "2019-08-02T09:30:21.065000+00:00",
          "2019-08-02T10:00:48.795000+00:00",
          "2019-08-02T10:31:16.525000+00:00",
          "2019-08-02T11:01:44.255000+00:00",
          "2019-08-02T11:32:11.985000+00:00",
          "2019-08-02T12:02:39.715000+00:00",
          "2019-08-02T12:33:07.445000+00:00",
          "2019-08-02T13:03:35.175000+00:00",
          "2019-08-02T13:34:02.905000+00:00",
          "2019-08-02T14:04:30.635000+00:00",
          "2019-08-02T14:34:58.365000+00:00",
          "2019-08-02T15:05:26.095000+00:00",
          "2019-08-02T15:35:53.825000+00:00",
          "2019-08-02T16:06:21.555000+00:00",
          "2019-08-02T16:36:49.285000+00:00",
          "2019-08-02T17:07:17.015000+00:00",
          "2019-08-02T17:37:44.745000+00:00",
          "2019-08-02T18:08:12.475000+00:00",
          "2019-08-02T18:38:40.205000+00:00",
          "2019-08-02T19:09:07.935000+00:00",
          "2019-08-02T19:39:35.665000+00:00",
          "2019-08-02T20:10:03.395000+00:00",
          "2019-08-02T20:40:31.125000+00:00",
          "2019-08-02T21:10:58.855000+00:00",
          "2019-08-02T21:41:26.585000+00:00",
          "2019-08-02T22:11:54.315000+00:00",
          "2019-08-02T22:42:22.045000+00:00",
          "2019-08-02T23:12:49.775000+00:00",
          "2019-08-02T23:43:17.505000+00:00",
          "2019-08-03T00:13:45.235000+00:00",
          "2019-08-03T00:44:12.965000+00:00",
          "2019-08-03T01:14:40.695000+00:00",
          "2019-08-03T01:45:08.425000+00:00",
          "2019-08-03T02:15:36.155000+00:00",
          "2019-08-03T02:46:03.885000+00:00",
          "2019-08-03T03:16:31.615000+00:00",
          "2019-08-03T03:46:59.345000+00:00",
          "2019-08-03T04:17:27.075000+00:00",
          "2019-08-03T04:47:54.805000+00:00",
          "2019-08-03T05:18:22.535000+00:00",
          "2019-08-03T05:48:50.265000+00:00",
          "2019-08-03T06:19:17.995000+00:00",
          "2019-08-03T06:49:45.725000+00:00",
          "2019-08-03T07:20:13.455000+00:00",
          "2019-08-03T07:50:41.185000+00:00",
          "2019-08-03T08:21:08.915000+00:00",
          "2019-08-03T08:51:36.645000+00:00",
          "2019-08-03T09:22:04.375000+00:00",
          "2019-08-03T09:52:32.105000+00:00",
          "2019-08-03T10:22:59.835000+00:00",
          "2019-08-03T10:53:27.565000+00:00",
          "2019-08-03T11:23:55.295000+00:00",
          "2019-08-03T11:54:23.025000+00:00",
          "2019-08-03T12:24:50.755000+00:00",
          "2019-08-03T12:55:18.485000+00:00",
          "2019-08-03T13:25:46.215000+00:00",
          "2019-08-03T13:56:13.945000+00:00",
          "2019-08-03T14:26:41.675000+00:00",
          "2019-08-03T14:57:09.405000+00:00",
          "2019-08-03T15:27:37.135000+00:00",
          "2019-08-03T15:58:04.865000+00:00",
          "2019-08-03T16:28:32.595000+00:00",
          "2019-08-03T16:59:00.325000+00:00",
          "2019-08-03T17:29:28.055000+00:00",
          "2019-08-03T17:59:55.785000+00:00",
          "2019-08-03T18:30:23.515000+00:00",
          "2019-08-03T19:00:51.245000+00:00",
          "2019-08-03T19:31:18.975000+00:00",
          "2019-08-03T20:01:46.705000+00:00",
          "2019-08-03T20:32:14.435000+00:00",
          "2019-08-03T21:02:42.165000+00:00",
          "2019-08-03T21:33:09.895000+00:00",
          "2019-08-03T22:03:37.625000+00:00",
          "2019-08-03T22:34:05.355000+00:00",
          "2019-08-03T23:04:33.085000+00:00",
          "2019-08-03T23:35:00.815000+00:00",
          "2019-08-04T00:05:28.545000+00:00",
          "2019-08-04T00:35:56.275000+00:00",
          "2019-08-04T01:06:24.005000+00:00",
          "2019-08-04T01:36:51.735000+00:00",
          "2019-08-04T02:07:19.465000+00:00",
          "2019-08-04T02:37:47.195000+00:00",
          "2019-08-04T03:08:14.925000+00:00",
          "2019-08-04T03:38:42.655000+00:00",
          "2019-08-04T04:09:10.385000+00:00",
          "2019-08-04T04:39:38.115000+00:00",
          "2019-08-04T05:10:05.845000+00:00",
          "2019-08-04T05:40:33.575000+00:00",
          "2019-08-04T06:11:01.305000+00:00",
          "2019-08-04T06:41:29.035000+00:00",
          "2019-08-04T07:11:56.765000+00:00",
          "2019-08-04T07:42:24.495000+00:00",
          "2019-08-04T08:12:52.225000+00:00",
          "2019-08-04T08:43:19.955000+00:00",
          "2019-08-04T09:13:47.685000+00:00",
          "2019-08-04T09:44:15.415000+00:00",
          "2019-08-04T10:14:43.145000+00:00",
          "2019-08-04T10:45:10.875000+00:00",
          "2019-08-04T11:15:38.605000+00:00",
          "2019-08-04T11:46:06.335000+00:00",
          "2019-08-04T12:16:34.065000+00:00",
          "2019-08-04T12:47:01.795000+00:00",
          "2019-08-04T13:17:29.525000+00:00",
          "2019-08-04T13:47:57.255000+00:00",
          "2019-08-04T14:18:24.985000+00:00",
          "2019-08-04T14:48:52.715000+00:00",
          "2019-08-04T15:19:20.445000+00:00",
          "2019-08-04T15:49:48.175000+00:00",
          "2019-08-04T16:20:15.905000+00:00",
          "2019-08-04T16:50:43.635000+00:00",
          "2019-08-04T17:21:11.365000+00:00",
          "2019-08-04T17:51:39.095000+00:00",
          "2019-08-04T18:22:06.825000+00:00",
          "2019-08-04T18:52:34.555000+00:00",
          "2019-08-04T19:23:02.285000+00:00",
          "2019-08-04T19:53:30.015000+00:00",
          "2019-08-04T20:23:57.745000+00:00",
          "2019-08-04T20:54:25.475000+00:00",
          "2019-08-04T21:24:53.205000+00:00",
          "2019-08-04T21:55:20.935000+00:00",
          "2019-08-04T22:25:48.665000+00:00",
          "2019-08-04T22:56:16.395000+00:00",
          "2019-08-04T23:26:44.125000+00:00",
          "2019-08-04T23:57:11.855000+00:00",
          "2019-08-05T00:27:39.585000+00:00",
          "2019-08-05T00:58:07.315000+00:00",
          "2019-08-05T01:28:35.045000+00:00",
          "2019-08-05T01:59:02.775000+00:00",
          "2019-08-05T02:29:30.505000+00:00",
          "2019-08-05T02:59:58.235000+00:00",
          "2019-08-05T03:30:25.965000+00:00",
          "2019-08-05T04:00:53.695000+00:00",
          "2019-08-05T04:31:21.425000+00:00",
          "2019-08-05T05:01:49.155000+00:00",
          "2019-08-05T05:32:16.885000+00:00",
          "2019-08-05T06:02:44.615000+00:00",
          "2019-08-05T06:33:12.345000+00:00",
          "2019-08-05T07:03:40.075000+00:00",
          "2019-08-05T07:34:07.805000+00:00",
          "2019-08-05T08:04:35.535000+00:00",
          "2019-08-05T08:35:03.265000+00:00",
          "2019-08-05T09:05:30.995000+00:00",
          "2019-08-05T09:35:58.725000+00:00",
          "2019-08-05T10:06:26.455000+00:00",
          "2019-08-05T10:36:54.185000+00:00",
          "2019-08-05T11:07:21.915000+00:00",
          "2019-08-05T11:37:49.645000+00:00",
          "2019-08-05T12:08:17.375000+00:00",
          "2019-08-05T12:38:45.105000+00:00",
          "2019-08-05T13:09:12.835000+00:00",
          "2019-08-05T13:39:40.565000+00:00",
          "2019-08-05T14:10:08.295000+00:00",
          "2019-08-05T14:40:36.025000+00:00",
          "2019-08-05T15:11:03.755000+00:00",
          "2019-08-05T15:41:31.485000+00:00",
          "2019-08-05T16:11:59.215000+00:00",
          "2019-08-05T16:42:26.945000+00:00",
          "2019-08-05T17:12:54.675000+00:00",
          "2019-08-05T17:43:22.405000+00:00",
          "2019-08-05T18:13:50.135000+00:00",
          "2019-08-05T18:44:17.865000+00:00",
          "2019-08-05T19:14:45.595000+00:00",
          "2019-08-05T19:45:13.325000+00:00",
          "2019-08-05T20:15:41.055000+00:00",
          "2019-08-05T20:46:08.785000+00:00",
          "2019-08-05T21:16:36.515000+00:00",
          "2019-08-05T21:47:04.245000+00:00",
          "2019-08-05T22:17:31.975000+00:00",
          "2019-08-05T22:47:59.705000+00:00",
          "2019-08-05T23:18:27.435000+00:00",
          "2019-08-05T23:48:55.165000+00:00",
          "2019-08-06T00:19:22.895000+00:00",
          "2019-08-06T00:49:50.625000+00:00",
          "2019-08-06T01:20:18.355000+00:00",
          "2019-08-06T01:50:46.085000+00:00",
          "2019-08-06T02:21:13.815000+00:00",
          "2019-08-06T02:51:41.545000+00:00",
          "2019-08-06T03:22:09.275000+00:00",
          "2019-08-06T03:52:37.005000+00:00",
          "2019-08-06T04:23:04.735000+00:00",
          "2019-08-06T04:53:32.465000+00:00",
          "2019-08-06T05:24:00.195000+00:00",
          "2019-08-06T05:54:27.925000+00:00",
          "2019-08-06T06:24:55.655000+00:00",
          "2019-08-06T06:55:23.385000+00:00",
          "2019-08-06T07:25:51.115000+00:00",
          "2019-08-06T07:56:18.845000+00:00",
          "2019-08-06T08:26:46.575000+00:00",
          "2019-08-06T08:57:14.305000+00:00",
          "2019-08-06T09:27:42.035000+00:00",
          "2019-08-06T09:58:09.765000+00:00",
          "2019-08-06T10:28:37.495000+00:00",
          "2019-08-06T10:59:05.225000+00:00",
          "2019-08-06T11:29:32.955000+00:00",
          "2019-08-06T12:00:00.685000+00:00",
          "2019-08-06T12:30:28.415000+00:00",
          "2019-08-06T13:00:56.145000+00:00",
          "2019-08-06T13:31:23.875000+00:00",
          "2019-08-06T14:01:51.605000+00:00",
          "2019-08-06T14:32:19.335000+00:00",
          "2019-08-06T15:02:47.065000+00:00",
          "2019-08-06T15:33:14.795000+00:00",
          "2019-08-06T16:03:42.525000+00:00",
          "2019-08-06T16:34:10.255000+00:00",
          "2019-08-06T17:04:37.985000+00:00",
          "2019-08-06T17:35:05.715000+00:00",
          "2019-08-06T18:05:33.445000+00:00",
          "2019-08-06T18:36:01.175000+00:00",
          "2019-08-06T19:06:28.905000+00:00",
          "2019-08-06T19:36:56.635000+00:00",
          "2019-08-06T20:07:24.365000+00:00",
          "2019-08-06T20:37:52.095000+00:00",
          "2019-08-06T21:08:19.825000+00:00",
          "2019-08-06T21:38:47.555000+00:00",
          "2019-08-06T22:09:15.285000+00:00",
          "2019-08-06T22:39:43.015000+00:00",
          "2019-08-06T23:10:10.745000+00:00",
          "2019-08-06T23:40:38.475000+00:00",
          "2019-08-07T00:11:06.205000+00:00",
          "2019-08-07T00:41:33.935000+00:00",
          "2019-08-07T01:12:01.665000+00:00",
          "2019-08-07T01:42:29.395000+00:00",
          "2019-08-07T02:12:57.125000+00:00",
          "2019-08-07T02:43:24.855000+00:00",
          "2019-08-07T03:13:52.585000+00:00",
          "2019-08-07T03:44:20.315000+00:00",
          "2019-08-07T04:14:48.045000+00:00",
          "2019-08-07T04:45:15.775000+00:00",
          "2019-08-07T05:15:43.505000+00:00",
          "2019-08-07T05:46:11.235000+00:00",
          "2019-08-07T06:16:38.965000+00:00",
          "2019-08-07T06:47:06.695000+00:00",
          "2019-08-07T07:17:34.425000+00:00",
          "2019-08-07T07:48:02.155000+00:00",
          "2019-08-07T08:18:29.885000+00:00",
          "2019-08-07T08:48:57.615000+00:00",
          "2019-08-07T09:19:25.345000+00:00",
          "2019-08-07T09:49:53.075000+00:00",
          "2019-08-07T10:20:20.805000+00:00",
          "2019-08-07T10:50:48.535000+00:00",
          "2019-08-07T11:21:16.265000+00:00",
          "2019-08-07T11:51:43.995000+00:00",
          "2019-08-07T12:22:11.725000+00:00",
          "2019-08-07T12:52:39.455000+00:00",
          "2019-08-07T13:23:07.185000+00:00",
          "2019-08-07T13:53:34.915000+00:00",
          "2019-08-07T14:24:02.645000+00:00",
          "2019-08-07T14:54:30.375000+00:00",
          "2019-08-07T15:24:58.105000+00:00",
          "2019-08-07T15:55:25.835000+00:00",
          "2019-08-07T16:25:53.565000+00:00",
          "2019-08-07T16:56:21.295000+00:00",
          "2019-08-07T17:26:49.025000+00:00",
          "2019-08-07T17:57:16.755000+00:00",
          "2019-08-07T18:27:44.485000+00:00",
          "2019-08-07T18:58:12.215000+00:00",
          "2019-08-07T19:28:39.945000+00:00",
          "2019-08-07T19:59:07.675000+00:00",
          "2019-08-07T20:29:35.405000+00:00",
          "2019-08-07T21:00:03.135000+00:00"
         ],
         "y": {
          "bdata": "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",
          "dtype": "f8"
         }
        },
        {
         "line": {
          "color": "red",
          "dash": "dash"
         },
         "mode": "lines",
         "name": "Mean",
         "type": "scatter",
         "x": [
          "2019-08-04T10:24:38.863000+00:00",
          "2019-08-04T10:24:38.863000+00:00"
         ],
         "y": [
          0,
          1778.7
         ]
        },
        {
         "line": {
          "color": "blue",
          "dash": "dashdot"
         },
         "mode": "lines",
         "name": "Median",
         "type": "scatter",
         "x": [
          "2019-08-04T11:52:04+00:00",
          "2019-08-04T11:52:04+00:00"
         ],
         "y": [
          0,
          1778.7
         ]
        }
       ],
       "layout": {
        "bargap": 0.05,
        "height": 500,
        "template": {
         "data": {
          "bar": [
           {
            "error_x": {
             "color": "#2a3f5f"
            },
            "error_y": {
             "color": "#2a3f5f"
            },
            "marker": {
             "line": {
              "color": "white",
              "width": 0.5
             },
             "pattern": {
              "fillmode": "overlay",
              "size": 10,
              "solidity": 0.2
             }
            },
            "type": "bar"
           }
          ],
          "barpolar": [
           {
            "marker": {
             "line": {
              "color": "white",
              "width": 0.5
             },
             "pattern": {
              "fillmode": "overlay",
              "size": 10,
              "solidity": 0.2
             }
            },
            "type": "barpolar"
           }
          ],
          "carpet": [
           {
            "aaxis": {
             "endlinecolor": "#2a3f5f",
             "gridcolor": "#C8D4E3",
             "linecolor": "#C8D4E3",
             "minorgridcolor": "#C8D4E3",
             "startlinecolor": "#2a3f5f"
            },
            "baxis": {
             "endlinecolor": "#2a3f5f",
             "gridcolor": "#C8D4E3",
             "linecolor": "#C8D4E3",
             "minorgridcolor": "#C8D4E3",
             "startlinecolor": "#2a3f5f"
            },
            "type": "carpet"
           }
          ],
          "choropleth": [
           {
            "colorbar": {
             "outlinewidth": 0,
             "ticks": ""
            },
            "type": "choropleth"
           }
          ],
          "contour": [
           {
            "colorbar": {
             "outlinewidth": 0,
             "ticks": ""
            },
            "colorscale": [
             [
              0,
              "#0d0887"
             ],
             [
              0.1111111111111111,
              "#46039f"
             ],
             [
              0.2222222222222222,
              "#7201a8"
             ],
             [
              0.3333333333333333,
              "#9c179e"
             ],
             [
              0.4444444444444444,
              "#bd3786"
             ],
             [
              0.5555555555555556,
              "#d8576b"
             ],
             [
              0.6666666666666666,
              "#ed7953"
             ],
             [
              0.7777777777777778,
              "#fb9f3a"
             ],
             [
              0.8888888888888888,
              "#fdca26"
             ],
             [
              1,
              "#f0f921"
             ]
            ],
            "type": "contour"
           }
          ],
          "contourcarpet": [
           {
            "colorbar": {
             "outlinewidth": 0,
             "ticks": ""
            },
            "type": "contourcarpet"
           }
          ],
          "heatmap": [
           {
            "colorbar": {
             "outlinewidth": 0,
             "ticks": ""
            },
            "colorscale": [
             [
              0,
              "#0d0887"
             ],
             [
              0.1111111111111111,
              "#46039f"
             ],
             [
              0.2222222222222222,
              "#7201a8"
             ],
             [
              0.3333333333333333,
              "#9c179e"
             ],
             [
              0.4444444444444444,
              "#bd3786"
             ],
             [
              0.5555555555555556,
              "#d8576b"
             ],
             [
              0.6666666666666666,
              "#ed7953"
             ],
             [
              0.7777777777777778,
              "#fb9f3a"
             ],
             [
              0.8888888888888888,
              "#fdca26"
             ],
             [
              1,
              "#f0f921"
             ]
            ],
            "type": "heatmap"
           }
          ],
          "histogram": [
           {
            "marker": {
             "pattern": {
              "fillmode": "overlay",
              "size": 10,
              "solidity": 0.2
             }
            },
            "type": "histogram"
           }
          ],
          "histogram2d": [
           {
            "colorbar": {
             "outlinewidth": 0,
             "ticks": ""
            },
            "colorscale": [
             [
              0,
              "#0d0887"
             ],
             [
              0.1111111111111111,
              "#46039f"
             ],
             [
              0.2222222222222222,
              "#7201a8"
             ],
             [
              0.3333333333333333,
              "#9c179e"
             ],
             [
              0.4444444444444444,
              "#bd3786"
             ],
             [
              0.5555555555555556,
              "#d8576b"
             ],
             [
              0.6666666666666666,
              "#ed7953"
             ],
             [
              0.7777777777777778,
              "#fb9f3a"
             ],
             [
              0.8888888888888888,
              "#fdca26"
             ],
             [
              1,
              "#f0f921"
             ]
            ],
            "type": "histogram2d"
           }
          ],
          "histogram2dcontour": [
           {
            "colorbar": {
             "outlinewidth": 0,
             "ticks": ""
            },
            "colorscale": [
             [
              0,
              "#0d0887"
             ],
             [
              0.1111111111111111,
              "#46039f"
             ],
             [
              0.2222222222222222,
              "#7201a8"
             ],
             [
              0.3333333333333333,
              "#9c179e"
             ],
             [
              0.4444444444444444,
              "#bd3786"
             ],
             [
              0.5555555555555556,
              "#d8576b"
             ],
             [
              0.6666666666666666,
              "#ed7953"
             ],
             [
              0.7777777777777778,
              "#fb9f3a"
             ],
             [
              0.8888888888888888,
              "#fdca26"
             ],
             [
              1,
              "#f0f921"
             ]
            ],
            "type": "histogram2dcontour"
           }
          ],
          "mesh3d": [
           {
            "colorbar": {
             "outlinewidth": 0,
             "ticks": ""
            },
            "type": "mesh3d"
           }
          ],
          "parcoords": [
           {
            "line": {
             "colorbar": {
              "outlinewidth": 0,
              "ticks": ""
             }
            },
            "type": "parcoords"
           }
          ],
          "pie": [
           {
            "automargin": true,
            "type": "pie"
           }
          ],
          "scatter": [
           {
            "fillpattern": {
             "fillmode": "overlay",
             "size": 10,
             "solidity": 0.2
            },
            "type": "scatter"
           }
          ],
          "scatter3d": [
           {
            "line": {
             "colorbar": {
              "outlinewidth": 0,
              "ticks": ""
             }
            },
            "marker": {
             "colorbar": {
              "outlinewidth": 0,
              "ticks": ""
             }
            },
            "type": "scatter3d"
           }
          ],
          "scattercarpet": [
           {
            "marker": {
             "colorbar": {
              "outlinewidth": 0,
              "ticks": ""
             }
            },
            "type": "scattercarpet"
           }
          ],
          "scattergeo": [
           {
            "marker": {
             "colorbar": {
              "outlinewidth": 0,
              "ticks": ""
             }
            },
            "type": "scattergeo"
           }
          ],
          "scattergl": [
           {
            "marker": {
             "colorbar": {
              "outlinewidth": 0,
              "ticks": ""
             }
            },
            "type": "scattergl"
           }
          ],
          "scattermap": [
           {
            "marker": {
             "colorbar": {
              "outlinewidth": 0,
              "ticks": ""
             }
            },
            "type": "scattermap"
           }
          ],
          "scattermapbox": [
           {
            "marker": {
             "colorbar": {
              "outlinewidth": 0,
              "ticks": ""
             }
            },
            "type": "scattermapbox"
           }
          ],
          "scatterpolar": [
           {
            "marker": {
             "colorbar": {
              "outlinewidth": 0,
              "ticks": ""
             }
            },
            "type": "scatterpolar"
           }
          ],
          "scatterpolargl": [
           {
            "marker": {
             "colorbar": {
              "outlinewidth": 0,
              "ticks": ""
             }
            },
            "type": "scatterpolargl"
           }
          ],
          "scatterternary": [
           {
            "marker": {
             "colorbar": {
              "outlinewidth": 0,
              "ticks": ""
             }
            },
            "type": "scatterternary"
           }
          ],
          "surface": [
           {
            "colorbar": {
             "outlinewidth": 0,
             "ticks": ""
            },
            "colorscale": [
             [
              0,
              "#0d0887"
             ],
             [
              0.1111111111111111,
              "#46039f"
             ],
             [
              0.2222222222222222,
              "#7201a8"
             ],
             [
              0.3333333333333333,
              "#9c179e"
             ],
             [
              0.4444444444444444,
              "#bd3786"
             ],
             [
              0.5555555555555556,
              "#d8576b"
             ],
             [
              0.6666666666666666,
              "#ed7953"
             ],
             [
              0.7777777777777778,
              "#fb9f3a"
             ],
             [
              0.8888888888888888,
              "#fdca26"
             ],
             [
              1,
              "#f0f921"
             ]
            ],
            "type": "surface"
           }
          ],
          "table": [
           {
            "cells": {
             "fill": {
              "color": "#EBF0F8"
             },
             "line": {
              "color": "white"
             }
            },
            "header": {
             "fill": {
              "color": "#C8D4E3"
             },
             "line": {
              "color": "white"
             }
            },
            "type": "table"
           }
          ]
         },
         "layout": {
          "annotationdefaults": {
           "arrowcolor": "#2a3f5f",
           "arrowhead": 0,
           "arrowwidth": 1
          },
          "autotypenumbers": "strict",
          "coloraxis": {
           "colorbar": {
            "outlinewidth": 0,
            "ticks": ""
           }
          },
          "colorscale": {
           "diverging": [
            [
             0,
             "#8e0152"
            ],
            [
             0.1,
             "#c51b7d"
            ],
            [
             0.2,
             "#de77ae"
            ],
            [
             0.3,
             "#f1b6da"
            ],
            [
             0.4,
             "#fde0ef"
            ],
            [
             0.5,
             "#f7f7f7"
            ],
            [
             0.6,
             "#e6f5d0"
            ],
            [
             0.7,
             "#b8e186"
            ],
            [
             0.8,
             "#7fbc41"
            ],
            [
             0.9,
             "#4d9221"
            ],
            [
             1,
             "#276419"
            ]
           ],
           "sequential": [
            [
             0,
             "#0d0887"
            ],
            [
             0.1111111111111111,
             "#46039f"
            ],
            [
             0.2222222222222222,
             "#7201a8"
            ],
            [
             0.3333333333333333,
             "#9c179e"
            ],
            [
             0.4444444444444444,
             "#bd3786"
            ],
            [
             0.5555555555555556,
             "#d8576b"
            ],
            [
             0.6666666666666666,
             "#ed7953"
            ],
            [
             0.7777777777777778,
             "#fb9f3a"
            ],
            [
             0.8888888888888888,
             "#fdca26"
            ],
            [
             1,
             "#f0f921"
            ]
           ],
           "sequentialminus": [
            [
             0,
             "#0d0887"
            ],
            [
             0.1111111111111111,
             "#46039f"
            ],
            [
             0.2222222222222222,
             "#7201a8"
            ],
            [
             0.3333333333333333,
             "#9c179e"
            ],
            [
             0.4444444444444444,
             "#bd3786"
            ],
            [
             0.5555555555555556,
             "#d8576b"
            ],
            [
             0.6666666666666666,
             "#ed7953"
            ],
            [
             0.7777777777777778,
             "#fb9f3a"
            ],
            [
             0.8888888888888888,
             "#fdca26"
            ],
            [
             1,
             "#f0f921"
            ]
           ]
          },
          "colorway": [
           "#636efa",
           "#EF553B",
           "#00cc96",
           "#ab63fa",
           "#FFA15A",
           "#19d3f3",
           "#FF6692",
           "#B6E880",
           "#FF97FF",
           "#FECB52"
          ],
          "font": {
           "color": "#2a3f5f"
          },
          "geo": {
           "bgcolor": "white",
           "lakecolor": "white",
           "landcolor": "white",
           "showlakes": true,
           "showland": true,
           "subunitcolor": "#C8D4E3"
          },
          "hoverlabel": {
           "align": "left"
          },
          "hovermode": "closest",
          "mapbox": {
           "style": "light"
          },
          "paper_bgcolor": "white",
          "plot_bgcolor": "white",
          "polar": {
           "angularaxis": {
            "gridcolor": "#EBF0F8",
            "linecolor": "#EBF0F8",
            "ticks": ""
           },
           "bgcolor": "white",
           "radialaxis": {
            "gridcolor": "#EBF0F8",
            "linecolor": "#EBF0F8",
            "ticks": ""
           }
          },
          "scene": {
           "xaxis": {
            "backgroundcolor": "white",
            "gridcolor": "#DFE8F3",
            "gridwidth": 2,
            "linecolor": "#EBF0F8",
            "showbackground": true,
            "ticks": "",
            "zerolinecolor": "#EBF0F8"
           },
           "yaxis": {
            "backgroundcolor": "white",
            "gridcolor": "#DFE8F3",
            "gridwidth": 2,
            "linecolor": "#EBF0F8",
            "showbackground": true,
            "ticks": "",
            "zerolinecolor": "#EBF0F8"
           },
           "zaxis": {
            "backgroundcolor": "white",
            "gridcolor": "#DFE8F3",
            "gridwidth": 2,
            "linecolor": "#EBF0F8",
            "showbackground": true,
            "ticks": "",
            "zerolinecolor": "#EBF0F8"
           }
          },
          "shapedefaults": {
           "line": {
            "color": "#2a3f5f"
           }
          },
          "ternary": {
           "aaxis": {
            "gridcolor": "#DFE8F3",
            "linecolor": "#A2B1C6",
            "ticks": ""
           },
           "baxis": {
            "gridcolor": "#DFE8F3",
            "linecolor": "#A2B1C6",
            "ticks": ""
           },
           "bgcolor": "white",
           "caxis": {
            "gridcolor": "#DFE8F3",
            "linecolor": "#A2B1C6",
            "ticks": ""
           }
          },
          "title": {
           "x": 0.05
          },
          "xaxis": {
           "automargin": true,
           "gridcolor": "#EBF0F8",
           "linecolor": "#EBF0F8",
           "ticks": "",
           "title": {
            "standoff": 15
           },
           "zerolinecolor": "#EBF0F8",
           "zerolinewidth": 2
          },
          "yaxis": {
           "automargin": true,
           "gridcolor": "#EBF0F8",
           "linecolor": "#EBF0F8",
           "ticks": "",
           "title": {
            "standoff": 15
           },
           "zerolinecolor": "#EBF0F8",
           "zerolinewidth": 2
          }
         }
        },
        "title": {
         "text": "Event Distribution with Full Timestamp Precision"
        },
        "width": 1200,
        "xaxis": {
         "tickangle": 90,
         "tickformat": "%Y-%m-%d %H:%M:%S",
         "title": {
          "text": "Date-Time"
         }
        },
        "yaxis": {
         "title": {
          "text": "Frequency"
         }
        }
       }
      }
     },
     "metadata": {},
     "output_type": "display_data"
    }
   ],
   "source": [
    "# Plot a histogram by date and time, no outliers.\n",
    "plotly_frequency_datetime_plotlypx(df_fs['datetime'], bins=500, density=False, color='grey', title='Event Distribution with Full Timestamp Precision', xlabel='Date-Time', ylabel='Frequency')"
   ]
  },
  {
   "cell_type": "code",
   "execution_count": 23,
   "id": "c28c490d",
   "metadata": {},
   "outputs": [
    {
     "data": {
      "text/html": [
       "> Total number of records: 243603"
      ],
      "text/plain": [
       "<IPython.core.display.HTML object>"
      ]
     },
     "metadata": {},
     "output_type": "display_data"
    },
    {
     "data": {
      "text/html": [
       "> Number of records to be excluded: 2716"
      ],
      "text/plain": [
       "<IPython.core.display.HTML object>"
      ]
     },
     "metadata": {},
     "output_type": "display_data"
    },
    {
     "data": {
      "text/html": [
       "> Proportion of records to be excluded: 1.115 %"
      ],
      "text/plain": [
       "<IPython.core.display.HTML object>"
      ]
     },
     "metadata": {},
     "output_type": "display_data"
    }
   ],
   "source": [
    "# Number and proportion of records lost after excluding older records\n",
    "records = df_fs.shape[0]\n",
    "excluded = df_fs.loc[(df_fs['datetime'] < '2019-08-01 00:00:00+00:00'), :].shape[0]\n",
    "display(HTML(f\"> Total number of records: {records}\"))\n",
    "display(HTML(f\"> Number of records to be excluded: {excluded}\"))\n",
    "display(HTML(f\"> Proportion of records to be excluded: {(excluded * 100) / records:.3f} %\"))"
   ]
  },
  {
   "cell_type": "code",
   "execution_count": 24,
   "id": "7e7dee33",
   "metadata": {},
   "outputs": [
    {
     "data": {
      "application/vnd.microsoft.datawrangler.viewer.v0+json": {
       "columns": [
        {
         "name": "index",
         "rawType": "int64",
         "type": "integer"
        },
        {
         "name": "eventname",
         "rawType": "object",
         "type": "string"
        },
        {
         "name": "deviceidhash",
         "rawType": "int64",
         "type": "integer"
        },
        {
         "name": "datetime",
         "rawType": "datetime64[ns, UTC]",
         "type": "unknown"
        },
        {
         "name": "expid",
         "rawType": "int64",
         "type": "integer"
        },
        {
         "name": "date",
         "rawType": "object",
         "type": "unknown"
        },
        {
         "name": "time",
         "rawType": "object",
         "type": "unknown"
        }
       ],
       "ref": "fa792306-c699-4927-bcec-83b3ccb0f0c8",
       "rows": [
        [
         "2826",
         "tutorial",
         "3737462046622621720",
         "2019-08-01 00:07:28+00:00",
         "246",
         "2019-08-01",
         "00:07:28"
        ],
        [
         "2827",
         "mainscreenappear",
         "3737462046622621720",
         "2019-08-01 00:08:00+00:00",
         "246",
         "2019-08-01",
         "00:08:00"
        ],
        [
         "2828",
         "mainscreenappear",
         "3737462046622621720",
         "2019-08-01 00:08:55+00:00",
         "246",
         "2019-08-01",
         "00:08:55"
        ],
        [
         "2829",
         "offersscreenappear",
         "3737462046622621720",
         "2019-08-01 00:08:58+00:00",
         "246",
         "2019-08-01",
         "00:08:58"
        ],
        [
         "2830",
         "mainscreenappear",
         "1433840883824088890",
         "2019-08-01 00:08:59+00:00",
         "247",
         "2019-08-01",
         "00:08:59"
        ],
        [
         "2831",
         "mainscreenappear",
         "4899590676214355127",
         "2019-08-01 00:10:15+00:00",
         "247",
         "2019-08-01",
         "00:10:15"
        ],
        [
         "2832",
         "offersscreenappear",
         "3737462046622621720",
         "2019-08-01 00:10:26+00:00",
         "246",
         "2019-08-01",
         "00:10:26"
        ],
        [
         "2833",
         "mainscreenappear",
         "3737462046622621720",
         "2019-08-01 00:10:47+00:00",
         "246",
         "2019-08-01",
         "00:10:47"
        ],
        [
         "2834",
         "mainscreenappear",
         "3737462046622621720",
         "2019-08-01 00:11:10+00:00",
         "246",
         "2019-08-01",
         "00:11:10"
        ],
        [
         "2835",
         "mainscreenappear",
         "3737462046622621720",
         "2019-08-01 00:11:20+00:00",
         "246",
         "2019-08-01",
         "00:11:20"
        ],
        [
         "2836",
         "mainscreenappear",
         "4899590676214355127",
         "2019-08-01 00:11:28+00:00",
         "247",
         "2019-08-01",
         "00:11:28"
        ],
        [
         "2837",
         "offersscreenappear",
         "4899590676214355127",
         "2019-08-01 00:11:30+00:00",
         "247",
         "2019-08-01",
         "00:11:30"
        ],
        [
         "2838",
         "mainscreenappear",
         "1182179323890311443",
         "2019-08-01 00:11:57+00:00",
         "246",
         "2019-08-01",
         "00:11:57"
        ],
        [
         "2839",
         "tutorial",
         "3737462046622621720",
         "2019-08-01 00:12:18+00:00",
         "246",
         "2019-08-01",
         "00:12:18"
        ],
        [
         "2840",
         "mainscreenappear",
         "3737462046622621720",
         "2019-08-01 00:12:34+00:00",
         "246",
         "2019-08-01",
         "00:12:34"
        ],
        [
         "2841",
         "offersscreenappear",
         "4899590676214355127",
         "2019-08-01 00:12:36+00:00",
         "247",
         "2019-08-01",
         "00:12:36"
        ],
        [
         "2842",
         "mainscreenappear",
         "4613461174774205834",
         "2019-08-01 00:14:31+00:00",
         "248",
         "2019-08-01",
         "00:14:31"
        ],
        [
         "2843",
         "mainscreenappear",
         "4613461174774205834",
         "2019-08-01 00:14:34+00:00",
         "248",
         "2019-08-01",
         "00:14:34"
        ],
        [
         "2844",
         "cartscreenappear",
         "4613461174774205834",
         "2019-08-01 00:14:34+00:00",
         "248",
         "2019-08-01",
         "00:14:34"
        ],
        [
         "2845",
         "paymentscreensuccessful",
         "4613461174774205834",
         "2019-08-01 00:14:43+00:00",
         "248",
         "2019-08-01",
         "00:14:43"
        ],
        [
         "2846",
         "offersscreenappear",
         "4613461174774205834",
         "2019-08-01 00:14:51+00:00",
         "248",
         "2019-08-01",
         "00:14:51"
        ],
        [
         "2847",
         "mainscreenappear",
         "205293431553451771",
         "2019-08-01 00:15:11+00:00",
         "246",
         "2019-08-01",
         "00:15:11"
        ],
        [
         "2848",
         "mainscreenappear",
         "205293431553451771",
         "2019-08-01 00:15:15+00:00",
         "246",
         "2019-08-01",
         "00:15:15"
        ],
        [
         "2849",
         "mainscreenappear",
         "205293431553451771",
         "2019-08-01 00:15:18+00:00",
         "246",
         "2019-08-01",
         "00:15:18"
        ],
        [
         "2850",
         "mainscreenappear",
         "6121366368901703338",
         "2019-08-01 00:15:50+00:00",
         "248",
         "2019-08-01",
         "00:15:50"
        ],
        [
         "2851",
         "offersscreenappear",
         "6121366368901703338",
         "2019-08-01 00:15:54+00:00",
         "248",
         "2019-08-01",
         "00:15:54"
        ],
        [
         "2852",
         "mainscreenappear",
         "205293431553451771",
         "2019-08-01 00:16:05+00:00",
         "246",
         "2019-08-01",
         "00:16:05"
        ],
        [
         "2853",
         "mainscreenappear",
         "6022375714473447159",
         "2019-08-01 00:16:38+00:00",
         "248",
         "2019-08-01",
         "00:16:38"
        ],
        [
         "2854",
         "mainscreenappear",
         "6022375714473447159",
         "2019-08-01 00:17:01+00:00",
         "248",
         "2019-08-01",
         "00:17:01"
        ],
        [
         "2855",
         "offersscreenappear",
         "6022375714473447159",
         "2019-08-01 00:17:07+00:00",
         "248",
         "2019-08-01",
         "00:17:07"
        ],
        [
         "2856",
         "mainscreenappear",
         "205293431553451771",
         "2019-08-01 00:17:08+00:00",
         "246",
         "2019-08-01",
         "00:17:08"
        ],
        [
         "2857",
         "mainscreenappear",
         "6022375714473447159",
         "2019-08-01 00:20:11+00:00",
         "248",
         "2019-08-01",
         "00:20:11"
        ],
        [
         "2858",
         "mainscreenappear",
         "205293431553451771",
         "2019-08-01 00:20:21+00:00",
         "246",
         "2019-08-01",
         "00:20:21"
        ],
        [
         "2859",
         "mainscreenappear",
         "6022375714473447159",
         "2019-08-01 00:22:11+00:00",
         "248",
         "2019-08-01",
         "00:22:11"
        ],
        [
         "2860",
         "mainscreenappear",
         "2712290788139738557",
         "2019-08-01 00:22:41+00:00",
         "247",
         "2019-08-01",
         "00:22:41"
        ],
        [
         "2861",
         "paymentscreensuccessful",
         "2712290788139738557",
         "2019-08-01 00:22:44+00:00",
         "247",
         "2019-08-01",
         "00:22:44"
        ],
        [
         "2862",
         "cartscreenappear",
         "2712290788139738557",
         "2019-08-01 00:22:45+00:00",
         "247",
         "2019-08-01",
         "00:22:45"
        ],
        [
         "2863",
         "mainscreenappear",
         "2712290788139738557",
         "2019-08-01 00:22:45+00:00",
         "247",
         "2019-08-01",
         "00:22:45"
        ],
        [
         "2864",
         "offersscreenappear",
         "2712290788139738557",
         "2019-08-01 00:22:53+00:00",
         "247",
         "2019-08-01",
         "00:22:53"
        ],
        [
         "2865",
         "paymentscreensuccessful",
         "2712290788139738557",
         "2019-08-01 00:23:08+00:00",
         "247",
         "2019-08-01",
         "00:23:08"
        ],
        [
         "2866",
         "cartscreenappear",
         "2712290788139738557",
         "2019-08-01 00:23:09+00:00",
         "247",
         "2019-08-01",
         "00:23:09"
        ],
        [
         "2867",
         "mainscreenappear",
         "6022375714473447159",
         "2019-08-01 00:23:17+00:00",
         "248",
         "2019-08-01",
         "00:23:17"
        ],
        [
         "2868",
         "cartscreenappear",
         "2712290788139738557",
         "2019-08-01 00:23:20+00:00",
         "247",
         "2019-08-01",
         "00:23:20"
        ],
        [
         "2869",
         "paymentscreensuccessful",
         "2712290788139738557",
         "2019-08-01 00:23:20+00:00",
         "247",
         "2019-08-01",
         "00:23:20"
        ],
        [
         "2870",
         "mainscreenappear",
         "6022375714473447159",
         "2019-08-01 00:23:24+00:00",
         "248",
         "2019-08-01",
         "00:23:24"
        ],
        [
         "2871",
         "paymentscreensuccessful",
         "2712290788139738557",
         "2019-08-01 00:23:34+00:00",
         "247",
         "2019-08-01",
         "00:23:34"
        ],
        [
         "2872",
         "cartscreenappear",
         "2712290788139738557",
         "2019-08-01 00:23:35+00:00",
         "247",
         "2019-08-01",
         "00:23:35"
        ],
        [
         "2873",
         "cartscreenappear",
         "2712290788139738557",
         "2019-08-01 00:23:50+00:00",
         "247",
         "2019-08-01",
         "00:23:50"
        ],
        [
         "2874",
         "paymentscreensuccessful",
         "2712290788139738557",
         "2019-08-01 00:23:50+00:00",
         "247",
         "2019-08-01",
         "00:23:50"
        ],
        [
         "2875",
         "mainscreenappear",
         "1433840883824088890",
         "2019-08-01 00:23:55+00:00",
         "247",
         "2019-08-01",
         "00:23:55"
        ]
       ],
       "shape": {
        "columns": 6,
        "rows": 240887
       }
      },
      "text/html": [
       "<div>\n",
       "<style scoped>\n",
       "    .dataframe tbody tr th:only-of-type {\n",
       "        vertical-align: middle;\n",
       "    }\n",
       "\n",
       "    .dataframe tbody tr th {\n",
       "        vertical-align: top;\n",
       "    }\n",
       "\n",
       "    .dataframe thead th {\n",
       "        text-align: right;\n",
       "    }\n",
       "</style>\n",
       "<table border=\"1\" class=\"dataframe\">\n",
       "  <thead>\n",
       "    <tr style=\"text-align: right;\">\n",
       "      <th></th>\n",
       "      <th>eventname</th>\n",
       "      <th>deviceidhash</th>\n",
       "      <th>datetime</th>\n",
       "      <th>expid</th>\n",
       "      <th>date</th>\n",
       "      <th>time</th>\n",
       "    </tr>\n",
       "  </thead>\n",
       "  <tbody>\n",
       "    <tr>\n",
       "      <th>2826</th>\n",
       "      <td>tutorial</td>\n",
       "      <td>3737462046622621720</td>\n",
       "      <td>2019-08-01 00:07:28+00:00</td>\n",
       "      <td>246</td>\n",
       "      <td>2019-08-01</td>\n",
       "      <td>00:07:28</td>\n",
       "    </tr>\n",
       "    <tr>\n",
       "      <th>2827</th>\n",
       "      <td>mainscreenappear</td>\n",
       "      <td>3737462046622621720</td>\n",
       "      <td>2019-08-01 00:08:00+00:00</td>\n",
       "      <td>246</td>\n",
       "      <td>2019-08-01</td>\n",
       "      <td>00:08:00</td>\n",
       "    </tr>\n",
       "    <tr>\n",
       "      <th>2828</th>\n",
       "      <td>mainscreenappear</td>\n",
       "      <td>3737462046622621720</td>\n",
       "      <td>2019-08-01 00:08:55+00:00</td>\n",
       "      <td>246</td>\n",
       "      <td>2019-08-01</td>\n",
       "      <td>00:08:55</td>\n",
       "    </tr>\n",
       "    <tr>\n",
       "      <th>2829</th>\n",
       "      <td>offersscreenappear</td>\n",
       "      <td>3737462046622621720</td>\n",
       "      <td>2019-08-01 00:08:58+00:00</td>\n",
       "      <td>246</td>\n",
       "      <td>2019-08-01</td>\n",
       "      <td>00:08:58</td>\n",
       "    </tr>\n",
       "    <tr>\n",
       "      <th>2830</th>\n",
       "      <td>mainscreenappear</td>\n",
       "      <td>1433840883824088890</td>\n",
       "      <td>2019-08-01 00:08:59+00:00</td>\n",
       "      <td>247</td>\n",
       "      <td>2019-08-01</td>\n",
       "      <td>00:08:59</td>\n",
       "    </tr>\n",
       "    <tr>\n",
       "      <th>...</th>\n",
       "      <td>...</td>\n",
       "      <td>...</td>\n",
       "      <td>...</td>\n",
       "      <td>...</td>\n",
       "      <td>...</td>\n",
       "      <td>...</td>\n",
       "    </tr>\n",
       "    <tr>\n",
       "      <th>243708</th>\n",
       "      <td>mainscreenappear</td>\n",
       "      <td>4599628364049201812</td>\n",
       "      <td>2019-08-07 21:12:25+00:00</td>\n",
       "      <td>247</td>\n",
       "      <td>2019-08-07</td>\n",
       "      <td>21:12:25</td>\n",
       "    </tr>\n",
       "    <tr>\n",
       "      <th>243709</th>\n",
       "      <td>mainscreenappear</td>\n",
       "      <td>5849806612437486590</td>\n",
       "      <td>2019-08-07 21:13:59+00:00</td>\n",
       "      <td>246</td>\n",
       "      <td>2019-08-07</td>\n",
       "      <td>21:13:59</td>\n",
       "    </tr>\n",
       "    <tr>\n",
       "      <th>243710</th>\n",
       "      <td>mainscreenappear</td>\n",
       "      <td>5746969938801999050</td>\n",
       "      <td>2019-08-07 21:14:43+00:00</td>\n",
       "      <td>246</td>\n",
       "      <td>2019-08-07</td>\n",
       "      <td>21:14:43</td>\n",
       "    </tr>\n",
       "    <tr>\n",
       "      <th>243711</th>\n",
       "      <td>mainscreenappear</td>\n",
       "      <td>5746969938801999050</td>\n",
       "      <td>2019-08-07 21:14:58+00:00</td>\n",
       "      <td>246</td>\n",
       "      <td>2019-08-07</td>\n",
       "      <td>21:14:58</td>\n",
       "    </tr>\n",
       "    <tr>\n",
       "      <th>243712</th>\n",
       "      <td>offersscreenappear</td>\n",
       "      <td>5746969938801999050</td>\n",
       "      <td>2019-08-07 21:15:17+00:00</td>\n",
       "      <td>246</td>\n",
       "      <td>2019-08-07</td>\n",
       "      <td>21:15:17</td>\n",
       "    </tr>\n",
       "  </tbody>\n",
       "</table>\n",
       "<p>240887 rows × 6 columns</p>\n",
       "</div>"
      ],
      "text/plain": [
       "                 eventname         deviceidhash                  datetime  expid        date      time\n",
       "2826              tutorial  3737462046622621720 2019-08-01 00:07:28+00:00    246  2019-08-01  00:07:28\n",
       "2827      mainscreenappear  3737462046622621720 2019-08-01 00:08:00+00:00    246  2019-08-01  00:08:00\n",
       "2828      mainscreenappear  3737462046622621720 2019-08-01 00:08:55+00:00    246  2019-08-01  00:08:55\n",
       "2829    offersscreenappear  3737462046622621720 2019-08-01 00:08:58+00:00    246  2019-08-01  00:08:58\n",
       "2830      mainscreenappear  1433840883824088890 2019-08-01 00:08:59+00:00    247  2019-08-01  00:08:59\n",
       "...                    ...                  ...                       ...    ...         ...       ...\n",
       "243708    mainscreenappear  4599628364049201812 2019-08-07 21:12:25+00:00    247  2019-08-07  21:12:25\n",
       "243709    mainscreenappear  5849806612437486590 2019-08-07 21:13:59+00:00    246  2019-08-07  21:13:59\n",
       "243710    mainscreenappear  5746969938801999050 2019-08-07 21:14:43+00:00    246  2019-08-07  21:14:43\n",
       "243711    mainscreenappear  5746969938801999050 2019-08-07 21:14:58+00:00    246  2019-08-07  21:14:58\n",
       "243712  offersscreenappear  5746969938801999050 2019-08-07 21:15:17+00:00    246  2019-08-07  21:15:17\n",
       "\n",
       "[240887 rows x 6 columns]"
      ]
     },
     "execution_count": 24,
     "metadata": {},
     "output_type": "execute_result"
    }
   ],
   "source": [
    "# Data prior to August 1, 2019, have incomplete records and are not included in the analysis to avoid bias.\n",
    "df_fs = df_fs.loc[(df_fs['datetime'] > '2019-08-01 00:00:00+00:00'), :]\n",
    "df_fs"
   ]
  },
  {
   "cell_type": "code",
   "execution_count": 25,
   "id": "442d9c44",
   "metadata": {},
   "outputs": [
    {
     "data": {
      "application/vnd.plotly.v1+json": {
       "config": {
        "plotlyServerURL": "https://plot.ly"
       },
       "data": [
        {
         "marker": {
          "color": "grey"
         },
         "name": "Histogram",
         "opacity": 0.7,
         "type": "bar",
         "width": {
          "bdata": "SiQSAEokEgBKJBIASiQSAEokEgBKJBIASiQSAEokEgBKJBIASiQSAEokEgBKJBIASiQSAEokEgBKJBIASiQSAEokEgBKJBIASiQSAEokEgBKJBIASiQSAEokEgBKJBIASiQSAEokEgBKJBIASiQSAEokEgBKJBIASiQSAEokEgBKJBIASiQSAEokEgBKJBIASiQSAEokEgBKJBIASiQSAEokEgBKJBIASiQSAEokEgBKJBIASiQSAEokEgBKJBIASiQSAEokEgBKJBIASiQSAEokEgBKJBIASiQSAEokEgBKJBIASiQSAEokEgBKJBIASiQSAEokEgBKJBIASiQSAEokEgBKJBIASiQSAEokEgBKJBIASiQSAEokEgBKJBIASiQSAEokEgBKJBIASiQSAEokEgBKJBIASiQSAEokEgBKJBIASiQSAEokEgBKJBIASiQSAEokEgBKJBIASiQSAEokEgBKJBIASiQSAEokEgBKJBIASiQSAEokEgBKJBIASiQSAEokEgBKJBIASiQSAEokEgBKJBIASiQSAEokEgBKJBIASiQSAEokEgBKJBIASiQSAEokEgBKJBIASiQSAEokEgBKJBIASiQSAEokEgBKJBIASiQSAEokEgBKJBIASiQSAEokEgBKJBIASiQSAEokEgBKJBIASiQSAEokEgBKJBIASiQSAEokEgBKJBIASiQSAEokEgBKJBIASiQSAEokEgBKJBIASiQSAEokEgBKJBIASiQSAEokEgBKJBIASiQSAEokEgBKJBIASiQSAEokEgBKJBIASiQSAEokEgBKJBIASiQSAEokEgBKJBIASiQSAEokEgBKJBIASiQSAEokEgBKJBIASiQSAEokEgBKJBIASiQSAEokEgBKJBIASiQSAEokEgBKJBIASiQSAEokEgBKJBIASiQSAEokEgBKJBIASiQSAEokEgBKJBIASiQSAEokEgBKJBIASiQSAEokEgBKJBIASiQSAEokEgBKJBIASiQSAEokEgBKJBIASiQSAEokEgBKJBIASiQSAEokEgBKJBIASiQSAEokEgBKJBIASiQSAEokEgBKJBIASiQSAEokEgBKJBIASiQSAEokEgBKJBIASiQSAEokEgBKJBIASiQSAEokEgBKJBIASiQSAEokEgBKJBIASiQSAEokEgBKJBIASiQSAEokEgBKJBIASiQSAEokEgBKJBIASiQSAEokEgBKJBIASiQSAEokEgBKJBIASiQSAEokEgBKJBIASiQSAEokEgBKJBIASiQSAEokEgBKJBIASiQSAEokEgBKJBIASiQSAEokEgBKJBIASiQSAEokEgBKJBIASiQSAEokEgBKJBIASiQSAEokEgBKJBIASiQSAEokEgBKJBIASiQSAEokEgBKJBIASiQSAEokEgBKJBIASiQSAEokEgBKJBIASiQSAEokEgBKJBIASiQSAEokEgBKJBIASiQSAEokEgBKJBIASiQSAEokEgBKJBIASiQSAEokEgBKJBIASiQSAEokEgBKJBIASiQSAEokEgBKJBIASiQSAEokEgBKJBIASiQSAEokEgBKJBIASiQSAEokEgBKJBIASiQSAEokEgBKJBIASiQSAEokEgBKJBIASiQSAEokEgBKJBIASiQSAEokEgBKJBIASiQSAEokEgBKJBIASiQSAEokEgBKJBIASiQSAEokEgBKJBIASiQSAEokEgBKJBIASiQSAEokEgBKJBIASiQSAEokEgBKJBIASiQSAEokEgBKJBIASiQSAEokEgBKJBIASiQSAEokEgBKJBIASiQSAEokEgBKJBIASiQSAEokEgBKJBIASiQSAEokEgBKJBIASiQSAEokEgBKJBIASiQSAEokEgBKJBIASiQSAEokEgBKJBIASiQSAEokEgBKJBIASiQSAEokEgBKJBIASiQSAEokEgBKJBIASiQSAEokEgBKJBIASiQSAEokEgBKJBIASiQSAEokEgBKJBIASiQSAEokEgBKJBIASiQSAEokEgBKJBIASiQSAEokEgBKJBIASiQSAEokEgBKJBIASiQSAEokEgBKJBIASiQSAEokEgBKJBIASiQSAEokEgBKJBIASiQSAEokEgBKJBIASiQSAEokEgBKJBIASiQSAEokEgBKJBIASiQSAEokEgBKJBIASiQSAEokEgBKJBIASiQSAEokEgBKJBIASiQSAEokEgBKJBIASiQSAEokEgBKJBIASiQSAEokEgBKJBIASiQSAEokEgBKJBIASiQSAEokEgBKJBIASiQSAEokEgBKJBIASiQSAEokEgBKJBIASiQSAEokEgBKJBIASiQSAEokEgBKJBIASiQSAEokEgBKJBIASiQSAEokEgBKJBIASiQSAEokEgBKJBIASiQSAEokEgBKJBIASiQSAEokEgBKJBIASiQSAEokEgBKJBIASiQSAEokEgBKJBIASiQSAEokEgBKJBIASiQSAEokEgBKJBIASiQSAEokEgBKJBIASiQSAEokEgBKJBIASiQSAEokEgBKJBIASiQSAEokEgBKJBIASiQSAEokEgBKJBIASiQSAEokEgBKJBIASiQSAEokEgBKJBIASiQSAEokEgBKJBIASiQSAEokEgBKJBIASiQSAEokEgBKJBIASiQSAEokEgA=",
          "dtype": "i4"
         },
         "x": [
          "2019-08-01T00:17:22.469000+00:00",
          "2019-08-01T00:37:11.407000+00:00",
          "2019-08-01T00:57:00.345000+00:00",
          "2019-08-01T01:16:49.283000+00:00",
          "2019-08-01T01:36:38.221000+00:00",
          "2019-08-01T01:56:27.159000+00:00",
          "2019-08-01T02:16:16.097000+00:00",
          "2019-08-01T02:36:05.035000+00:00",
          "2019-08-01T02:55:53.973000+00:00",
          "2019-08-01T03:15:42.911000+00:00",
          "2019-08-01T03:35:31.849000+00:00",
          "2019-08-01T03:55:20.787000+00:00",
          "2019-08-01T04:15:09.725000+00:00",
          "2019-08-01T04:34:58.663000+00:00",
          "2019-08-01T04:54:47.601000+00:00",
          "2019-08-01T05:14:36.539000+00:00",
          "2019-08-01T05:34:25.477000+00:00",
          "2019-08-01T05:54:14.415000+00:00",
          "2019-08-01T06:14:03.353000+00:00",
          "2019-08-01T06:33:52.291000+00:00",
          "2019-08-01T06:53:41.229000+00:00",
          "2019-08-01T07:13:30.167000+00:00",
          "2019-08-01T07:33:19.105000+00:00",
          "2019-08-01T07:53:08.043000+00:00",
          "2019-08-01T08:12:56.981000+00:00",
          "2019-08-01T08:32:45.919000+00:00",
          "2019-08-01T08:52:34.857000+00:00",
          "2019-08-01T09:12:23.795000+00:00",
          "2019-08-01T09:32:12.733000+00:00",
          "2019-08-01T09:52:01.671000+00:00",
          "2019-08-01T10:11:50.609000+00:00",
          "2019-08-01T10:31:39.547000+00:00",
          "2019-08-01T10:51:28.485000+00:00",
          "2019-08-01T11:11:17.423000+00:00",
          "2019-08-01T11:31:06.361000+00:00",
          "2019-08-01T11:50:55.299000+00:00",
          "2019-08-01T12:10:44.237000+00:00",
          "2019-08-01T12:30:33.175000+00:00",
          "2019-08-01T12:50:22.113000+00:00",
          "2019-08-01T13:10:11.051000+00:00",
          "2019-08-01T13:29:59.989000+00:00",
          "2019-08-01T13:49:48.927000+00:00",
          "2019-08-01T14:09:37.865000+00:00",
          "2019-08-01T14:29:26.803000+00:00",
          "2019-08-01T14:49:15.741000+00:00",
          "2019-08-01T15:09:04.679000+00:00",
          "2019-08-01T15:28:53.617000+00:00",
          "2019-08-01T15:48:42.555000+00:00",
          "2019-08-01T16:08:31.493000+00:00",
          "2019-08-01T16:28:20.431000+00:00",
          "2019-08-01T16:48:09.369000+00:00",
          "2019-08-01T17:07:58.307000+00:00",
          "2019-08-01T17:27:47.245000+00:00",
          "2019-08-01T17:47:36.183000+00:00",
          "2019-08-01T18:07:25.121000+00:00",
          "2019-08-01T18:27:14.059000+00:00",
          "2019-08-01T18:47:02.997000+00:00",
          "2019-08-01T19:06:51.935000+00:00",
          "2019-08-01T19:26:40.873000+00:00",
          "2019-08-01T19:46:29.811000+00:00",
          "2019-08-01T20:06:18.749000+00:00",
          "2019-08-01T20:26:07.687000+00:00",
          "2019-08-01T20:45:56.625000+00:00",
          "2019-08-01T21:05:45.563000+00:00",
          "2019-08-01T21:25:34.501000+00:00",
          "2019-08-01T21:45:23.439000+00:00",
          "2019-08-01T22:05:12.377000+00:00",
          "2019-08-01T22:25:01.315000+00:00",
          "2019-08-01T22:44:50.253000+00:00",
          "2019-08-01T23:04:39.191000+00:00",
          "2019-08-01T23:24:28.129000+00:00",
          "2019-08-01T23:44:17.067000+00:00",
          "2019-08-02T00:04:06.005000+00:00",
          "2019-08-02T00:23:54.943000+00:00",
          "2019-08-02T00:43:43.881000+00:00",
          "2019-08-02T01:03:32.819000+00:00",
          "2019-08-02T01:23:21.757000+00:00",
          "2019-08-02T01:43:10.695000+00:00",
          "2019-08-02T02:02:59.633000+00:00",
          "2019-08-02T02:22:48.571000+00:00",
          "2019-08-02T02:42:37.509000+00:00",
          "2019-08-02T03:02:26.447000+00:00",
          "2019-08-02T03:22:15.385000+00:00",
          "2019-08-02T03:42:04.323000+00:00",
          "2019-08-02T04:01:53.261000+00:00",
          "2019-08-02T04:21:42.199000+00:00",
          "2019-08-02T04:41:31.137000+00:00",
          "2019-08-02T05:01:20.075000+00:00",
          "2019-08-02T05:21:09.013000+00:00",
          "2019-08-02T05:40:57.951000+00:00",
          "2019-08-02T06:00:46.889000+00:00",
          "2019-08-02T06:20:35.827000+00:00",
          "2019-08-02T06:40:24.765000+00:00",
          "2019-08-02T07:00:13.703000+00:00",
          "2019-08-02T07:20:02.641000+00:00",
          "2019-08-02T07:39:51.579000+00:00",
          "2019-08-02T07:59:40.517000+00:00",
          "2019-08-02T08:19:29.455000+00:00",
          "2019-08-02T08:39:18.393000+00:00",
          "2019-08-02T08:59:07.331000+00:00",
          "2019-08-02T09:18:56.269000+00:00",
          "2019-08-02T09:38:45.207000+00:00",
          "2019-08-02T09:58:34.145000+00:00",
          "2019-08-02T10:18:23.083000+00:00",
          "2019-08-02T10:38:12.021000+00:00",
          "2019-08-02T10:58:00.959000+00:00",
          "2019-08-02T11:17:49.897000+00:00",
          "2019-08-02T11:37:38.835000+00:00",
          "2019-08-02T11:57:27.773000+00:00",
          "2019-08-02T12:17:16.711000+00:00",
          "2019-08-02T12:37:05.649000+00:00",
          "2019-08-02T12:56:54.587000+00:00",
          "2019-08-02T13:16:43.525000+00:00",
          "2019-08-02T13:36:32.463000+00:00",
          "2019-08-02T13:56:21.401000+00:00",
          "2019-08-02T14:16:10.339000+00:00",
          "2019-08-02T14:35:59.277000+00:00",
          "2019-08-02T14:55:48.215000+00:00",
          "2019-08-02T15:15:37.153000+00:00",
          "2019-08-02T15:35:26.091000+00:00",
          "2019-08-02T15:55:15.029000+00:00",
          "2019-08-02T16:15:03.967000+00:00",
          "2019-08-02T16:34:52.905000+00:00",
          "2019-08-02T16:54:41.843000+00:00",
          "2019-08-02T17:14:30.781000+00:00",
          "2019-08-02T17:34:19.719000+00:00",
          "2019-08-02T17:54:08.657000+00:00",
          "2019-08-02T18:13:57.595000+00:00",
          "2019-08-02T18:33:46.533000+00:00",
          "2019-08-02T18:53:35.471000+00:00",
          "2019-08-02T19:13:24.409000+00:00",
          "2019-08-02T19:33:13.347000+00:00",
          "2019-08-02T19:53:02.285000+00:00",
          "2019-08-02T20:12:51.223000+00:00",
          "2019-08-02T20:32:40.161000+00:00",
          "2019-08-02T20:52:29.099000+00:00",
          "2019-08-02T21:12:18.037000+00:00",
          "2019-08-02T21:32:06.975000+00:00",
          "2019-08-02T21:51:55.913000+00:00",
          "2019-08-02T22:11:44.851000+00:00",
          "2019-08-02T22:31:33.789000+00:00",
          "2019-08-02T22:51:22.727000+00:00",
          "2019-08-02T23:11:11.665000+00:00",
          "2019-08-02T23:31:00.603000+00:00",
          "2019-08-02T23:50:49.541000+00:00",
          "2019-08-03T00:10:38.479000+00:00",
          "2019-08-03T00:30:27.417000+00:00",
          "2019-08-03T00:50:16.355000+00:00",
          "2019-08-03T01:10:05.293000+00:00",
          "2019-08-03T01:29:54.231000+00:00",
          "2019-08-03T01:49:43.169000+00:00",
          "2019-08-03T02:09:32.107000+00:00",
          "2019-08-03T02:29:21.045000+00:00",
          "2019-08-03T02:49:09.983000+00:00",
          "2019-08-03T03:08:58.921000+00:00",
          "2019-08-03T03:28:47.859000+00:00",
          "2019-08-03T03:48:36.797000+00:00",
          "2019-08-03T04:08:25.735000+00:00",
          "2019-08-03T04:28:14.673000+00:00",
          "2019-08-03T04:48:03.611000+00:00",
          "2019-08-03T05:07:52.549000+00:00",
          "2019-08-03T05:27:41.487000+00:00",
          "2019-08-03T05:47:30.425000+00:00",
          "2019-08-03T06:07:19.363000+00:00",
          "2019-08-03T06:27:08.301000+00:00",
          "2019-08-03T06:46:57.239000+00:00",
          "2019-08-03T07:06:46.177000+00:00",
          "2019-08-03T07:26:35.115000+00:00",
          "2019-08-03T07:46:24.053000+00:00",
          "2019-08-03T08:06:12.991000+00:00",
          "2019-08-03T08:26:01.929000+00:00",
          "2019-08-03T08:45:50.867000+00:00",
          "2019-08-03T09:05:39.805000+00:00",
          "2019-08-03T09:25:28.743000+00:00",
          "2019-08-03T09:45:17.681000+00:00",
          "2019-08-03T10:05:06.619000+00:00",
          "2019-08-03T10:24:55.557000+00:00",
          "2019-08-03T10:44:44.495000+00:00",
          "2019-08-03T11:04:33.433000+00:00",
          "2019-08-03T11:24:22.371000+00:00",
          "2019-08-03T11:44:11.309000+00:00",
          "2019-08-03T12:04:00.247000+00:00",
          "2019-08-03T12:23:49.185000+00:00",
          "2019-08-03T12:43:38.123000+00:00",
          "2019-08-03T13:03:27.061000+00:00",
          "2019-08-03T13:23:15.999000+00:00",
          "2019-08-03T13:43:04.937000+00:00",
          "2019-08-03T14:02:53.875000+00:00",
          "2019-08-03T14:22:42.813000+00:00",
          "2019-08-03T14:42:31.751000+00:00",
          "2019-08-03T15:02:20.689000+00:00",
          "2019-08-03T15:22:09.627000+00:00",
          "2019-08-03T15:41:58.565000+00:00",
          "2019-08-03T16:01:47.503000+00:00",
          "2019-08-03T16:21:36.441000+00:00",
          "2019-08-03T16:41:25.379000+00:00",
          "2019-08-03T17:01:14.317000+00:00",
          "2019-08-03T17:21:03.255000+00:00",
          "2019-08-03T17:40:52.193000+00:00",
          "2019-08-03T18:00:41.131000+00:00",
          "2019-08-03T18:20:30.069000+00:00",
          "2019-08-03T18:40:19.007000+00:00",
          "2019-08-03T19:00:07.945000+00:00",
          "2019-08-03T19:19:56.883000+00:00",
          "2019-08-03T19:39:45.821000+00:00",
          "2019-08-03T19:59:34.759000+00:00",
          "2019-08-03T20:19:23.697000+00:00",
          "2019-08-03T20:39:12.635000+00:00",
          "2019-08-03T20:59:01.573000+00:00",
          "2019-08-03T21:18:50.511000+00:00",
          "2019-08-03T21:38:39.449000+00:00",
          "2019-08-03T21:58:28.387000+00:00",
          "2019-08-03T22:18:17.325000+00:00",
          "2019-08-03T22:38:06.263000+00:00",
          "2019-08-03T22:57:55.201000+00:00",
          "2019-08-03T23:17:44.139000+00:00",
          "2019-08-03T23:37:33.077000+00:00",
          "2019-08-03T23:57:22.015000+00:00",
          "2019-08-04T00:17:10.953000+00:00",
          "2019-08-04T00:36:59.891000+00:00",
          "2019-08-04T00:56:48.829000+00:00",
          "2019-08-04T01:16:37.767000+00:00",
          "2019-08-04T01:36:26.705000+00:00",
          "2019-08-04T01:56:15.643000+00:00",
          "2019-08-04T02:16:04.581000+00:00",
          "2019-08-04T02:35:53.519000+00:00",
          "2019-08-04T02:55:42.457000+00:00",
          "2019-08-04T03:15:31.395000+00:00",
          "2019-08-04T03:35:20.333000+00:00",
          "2019-08-04T03:55:09.271000+00:00",
          "2019-08-04T04:14:58.209000+00:00",
          "2019-08-04T04:34:47.147000+00:00",
          "2019-08-04T04:54:36.085000+00:00",
          "2019-08-04T05:14:25.023000+00:00",
          "2019-08-04T05:34:13.961000+00:00",
          "2019-08-04T05:54:02.899000+00:00",
          "2019-08-04T06:13:51.837000+00:00",
          "2019-08-04T06:33:40.775000+00:00",
          "2019-08-04T06:53:29.713000+00:00",
          "2019-08-04T07:13:18.651000+00:00",
          "2019-08-04T07:33:07.589000+00:00",
          "2019-08-04T07:52:56.527000+00:00",
          "2019-08-04T08:12:45.465000+00:00",
          "2019-08-04T08:32:34.403000+00:00",
          "2019-08-04T08:52:23.341000+00:00",
          "2019-08-04T09:12:12.279000+00:00",
          "2019-08-04T09:32:01.217000+00:00",
          "2019-08-04T09:51:50.155000+00:00",
          "2019-08-04T10:11:39.093000+00:00",
          "2019-08-04T10:31:28.031000+00:00",
          "2019-08-04T10:51:16.969000+00:00",
          "2019-08-04T11:11:05.907000+00:00",
          "2019-08-04T11:30:54.845000+00:00",
          "2019-08-04T11:50:43.783000+00:00",
          "2019-08-04T12:10:32.721000+00:00",
          "2019-08-04T12:30:21.659000+00:00",
          "2019-08-04T12:50:10.597000+00:00",
          "2019-08-04T13:09:59.535000+00:00",
          "2019-08-04T13:29:48.473000+00:00",
          "2019-08-04T13:49:37.411000+00:00",
          "2019-08-04T14:09:26.349000+00:00",
          "2019-08-04T14:29:15.287000+00:00",
          "2019-08-04T14:49:04.225000+00:00",
          "2019-08-04T15:08:53.163000+00:00",
          "2019-08-04T15:28:42.101000+00:00",
          "2019-08-04T15:48:31.039000+00:00",
          "2019-08-04T16:08:19.977000+00:00",
          "2019-08-04T16:28:08.915000+00:00",
          "2019-08-04T16:47:57.853000+00:00",
          "2019-08-04T17:07:46.791000+00:00",
          "2019-08-04T17:27:35.729000+00:00",
          "2019-08-04T17:47:24.667000+00:00",
          "2019-08-04T18:07:13.605000+00:00",
          "2019-08-04T18:27:02.543000+00:00",
          "2019-08-04T18:46:51.481000+00:00",
          "2019-08-04T19:06:40.419000+00:00",
          "2019-08-04T19:26:29.357000+00:00",
          "2019-08-04T19:46:18.295000+00:00",
          "2019-08-04T20:06:07.233000+00:00",
          "2019-08-04T20:25:56.171000+00:00",
          "2019-08-04T20:45:45.109000+00:00",
          "2019-08-04T21:05:34.047000+00:00",
          "2019-08-04T21:25:22.985000+00:00",
          "2019-08-04T21:45:11.923000+00:00",
          "2019-08-04T22:05:00.861000+00:00",
          "2019-08-04T22:24:49.799000+00:00",
          "2019-08-04T22:44:38.737000+00:00",
          "2019-08-04T23:04:27.675000+00:00",
          "2019-08-04T23:24:16.613000+00:00",
          "2019-08-04T23:44:05.551000+00:00",
          "2019-08-05T00:03:54.489000+00:00",
          "2019-08-05T00:23:43.427000+00:00",
          "2019-08-05T00:43:32.365000+00:00",
          "2019-08-05T01:03:21.303000+00:00",
          "2019-08-05T01:23:10.241000+00:00",
          "2019-08-05T01:42:59.179000+00:00",
          "2019-08-05T02:02:48.117000+00:00",
          "2019-08-05T02:22:37.055000+00:00",
          "2019-08-05T02:42:25.993000+00:00",
          "2019-08-05T03:02:14.931000+00:00",
          "2019-08-05T03:22:03.869000+00:00",
          "2019-08-05T03:41:52.807000+00:00",
          "2019-08-05T04:01:41.745000+00:00",
          "2019-08-05T04:21:30.683000+00:00",
          "2019-08-05T04:41:19.621000+00:00",
          "2019-08-05T05:01:08.559000+00:00",
          "2019-08-05T05:20:57.497000+00:00",
          "2019-08-05T05:40:46.435000+00:00",
          "2019-08-05T06:00:35.373000+00:00",
          "2019-08-05T06:20:24.311000+00:00",
          "2019-08-05T06:40:13.249000+00:00",
          "2019-08-05T07:00:02.187000+00:00",
          "2019-08-05T07:19:51.125000+00:00",
          "2019-08-05T07:39:40.063000+00:00",
          "2019-08-05T07:59:29.001000+00:00",
          "2019-08-05T08:19:17.939000+00:00",
          "2019-08-05T08:39:06.877000+00:00",
          "2019-08-05T08:58:55.815000+00:00",
          "2019-08-05T09:18:44.753000+00:00",
          "2019-08-05T09:38:33.691000+00:00",
          "2019-08-05T09:58:22.629000+00:00",
          "2019-08-05T10:18:11.567000+00:00",
          "2019-08-05T10:38:00.505000+00:00",
          "2019-08-05T10:57:49.443000+00:00",
          "2019-08-05T11:17:38.381000+00:00",
          "2019-08-05T11:37:27.319000+00:00",
          "2019-08-05T11:57:16.257000+00:00",
          "2019-08-05T12:17:05.195000+00:00",
          "2019-08-05T12:36:54.133000+00:00",
          "2019-08-05T12:56:43.071000+00:00",
          "2019-08-05T13:16:32.009000+00:00",
          "2019-08-05T13:36:20.947000+00:00",
          "2019-08-05T13:56:09.885000+00:00",
          "2019-08-05T14:15:58.823000+00:00",
          "2019-08-05T14:35:47.761000+00:00",
          "2019-08-05T14:55:36.699000+00:00",
          "2019-08-05T15:15:25.637000+00:00",
          "2019-08-05T15:35:14.575000+00:00",
          "2019-08-05T15:55:03.513000+00:00",
          "2019-08-05T16:14:52.451000+00:00",
          "2019-08-05T16:34:41.389000+00:00",
          "2019-08-05T16:54:30.327000+00:00",
          "2019-08-05T17:14:19.265000+00:00",
          "2019-08-05T17:34:08.203000+00:00",
          "2019-08-05T17:53:57.141000+00:00",
          "2019-08-05T18:13:46.079000+00:00",
          "2019-08-05T18:33:35.017000+00:00",
          "2019-08-05T18:53:23.955000+00:00",
          "2019-08-05T19:13:12.893000+00:00",
          "2019-08-05T19:33:01.831000+00:00",
          "2019-08-05T19:52:50.769000+00:00",
          "2019-08-05T20:12:39.707000+00:00",
          "2019-08-05T20:32:28.645000+00:00",
          "2019-08-05T20:52:17.583000+00:00",
          "2019-08-05T21:12:06.521000+00:00",
          "2019-08-05T21:31:55.459000+00:00",
          "2019-08-05T21:51:44.397000+00:00",
          "2019-08-05T22:11:33.335000+00:00",
          "2019-08-05T22:31:22.273000+00:00",
          "2019-08-05T22:51:11.211000+00:00",
          "2019-08-05T23:11:00.149000+00:00",
          "2019-08-05T23:30:49.087000+00:00",
          "2019-08-05T23:50:38.025000+00:00",
          "2019-08-06T00:10:26.963000+00:00",
          "2019-08-06T00:30:15.901000+00:00",
          "2019-08-06T00:50:04.839000+00:00",
          "2019-08-06T01:09:53.777000+00:00",
          "2019-08-06T01:29:42.715000+00:00",
          "2019-08-06T01:49:31.653000+00:00",
          "2019-08-06T02:09:20.591000+00:00",
          "2019-08-06T02:29:09.529000+00:00",
          "2019-08-06T02:48:58.467000+00:00",
          "2019-08-06T03:08:47.405000+00:00",
          "2019-08-06T03:28:36.343000+00:00",
          "2019-08-06T03:48:25.281000+00:00",
          "2019-08-06T04:08:14.219000+00:00",
          "2019-08-06T04:28:03.157000+00:00",
          "2019-08-06T04:47:52.095000+00:00",
          "2019-08-06T05:07:41.033000+00:00",
          "2019-08-06T05:27:29.971000+00:00",
          "2019-08-06T05:47:18.909000+00:00",
          "2019-08-06T06:07:07.847000+00:00",
          "2019-08-06T06:26:56.785000+00:00",
          "2019-08-06T06:46:45.723000+00:00",
          "2019-08-06T07:06:34.661000+00:00",
          "2019-08-06T07:26:23.599000+00:00",
          "2019-08-06T07:46:12.537000+00:00",
          "2019-08-06T08:06:01.475000+00:00",
          "2019-08-06T08:25:50.413000+00:00",
          "2019-08-06T08:45:39.351000+00:00",
          "2019-08-06T09:05:28.289000+00:00",
          "2019-08-06T09:25:17.227000+00:00",
          "2019-08-06T09:45:06.165000+00:00",
          "2019-08-06T10:04:55.103000+00:00",
          "2019-08-06T10:24:44.041000+00:00",
          "2019-08-06T10:44:32.979000+00:00",
          "2019-08-06T11:04:21.917000+00:00",
          "2019-08-06T11:24:10.855000+00:00",
          "2019-08-06T11:43:59.793000+00:00",
          "2019-08-06T12:03:48.731000+00:00",
          "2019-08-06T12:23:37.669000+00:00",
          "2019-08-06T12:43:26.607000+00:00",
          "2019-08-06T13:03:15.545000+00:00",
          "2019-08-06T13:23:04.483000+00:00",
          "2019-08-06T13:42:53.421000+00:00",
          "2019-08-06T14:02:42.359000+00:00",
          "2019-08-06T14:22:31.297000+00:00",
          "2019-08-06T14:42:20.235000+00:00",
          "2019-08-06T15:02:09.173000+00:00",
          "2019-08-06T15:21:58.111000+00:00",
          "2019-08-06T15:41:47.049000+00:00",
          "2019-08-06T16:01:35.987000+00:00",
          "2019-08-06T16:21:24.925000+00:00",
          "2019-08-06T16:41:13.863000+00:00",
          "2019-08-06T17:01:02.801000+00:00",
          "2019-08-06T17:20:51.739000+00:00",
          "2019-08-06T17:40:40.677000+00:00",
          "2019-08-06T18:00:29.615000+00:00",
          "2019-08-06T18:20:18.553000+00:00",
          "2019-08-06T18:40:07.491000+00:00",
          "2019-08-06T18:59:56.429000+00:00",
          "2019-08-06T19:19:45.367000+00:00",
          "2019-08-06T19:39:34.305000+00:00",
          "2019-08-06T19:59:23.243000+00:00",
          "2019-08-06T20:19:12.181000+00:00",
          "2019-08-06T20:39:01.119000+00:00",
          "2019-08-06T20:58:50.057000+00:00",
          "2019-08-06T21:18:38.995000+00:00",
          "2019-08-06T21:38:27.933000+00:00",
          "2019-08-06T21:58:16.871000+00:00",
          "2019-08-06T22:18:05.809000+00:00",
          "2019-08-06T22:37:54.747000+00:00",
          "2019-08-06T22:57:43.685000+00:00",
          "2019-08-06T23:17:32.623000+00:00",
          "2019-08-06T23:37:21.561000+00:00",
          "2019-08-06T23:57:10.499000+00:00",
          "2019-08-07T00:16:59.437000+00:00",
          "2019-08-07T00:36:48.375000+00:00",
          "2019-08-07T00:56:37.313000+00:00",
          "2019-08-07T01:16:26.251000+00:00",
          "2019-08-07T01:36:15.189000+00:00",
          "2019-08-07T01:56:04.127000+00:00",
          "2019-08-07T02:15:53.065000+00:00",
          "2019-08-07T02:35:42.003000+00:00",
          "2019-08-07T02:55:30.941000+00:00",
          "2019-08-07T03:15:19.879000+00:00",
          "2019-08-07T03:35:08.817000+00:00",
          "2019-08-07T03:54:57.755000+00:00",
          "2019-08-07T04:14:46.693000+00:00",
          "2019-08-07T04:34:35.631000+00:00",
          "2019-08-07T04:54:24.569000+00:00",
          "2019-08-07T05:14:13.507000+00:00",
          "2019-08-07T05:34:02.445000+00:00",
          "2019-08-07T05:53:51.383000+00:00",
          "2019-08-07T06:13:40.321000+00:00",
          "2019-08-07T06:33:29.259000+00:00",
          "2019-08-07T06:53:18.197000+00:00",
          "2019-08-07T07:13:07.135000+00:00",
          "2019-08-07T07:32:56.073000+00:00",
          "2019-08-07T07:52:45.011000+00:00",
          "2019-08-07T08:12:33.949000+00:00",
          "2019-08-07T08:32:22.887000+00:00",
          "2019-08-07T08:52:11.825000+00:00",
          "2019-08-07T09:12:00.763000+00:00",
          "2019-08-07T09:31:49.701000+00:00",
          "2019-08-07T09:51:38.639000+00:00",
          "2019-08-07T10:11:27.577000+00:00",
          "2019-08-07T10:31:16.515000+00:00",
          "2019-08-07T10:51:05.453000+00:00",
          "2019-08-07T11:10:54.391000+00:00",
          "2019-08-07T11:30:43.329000+00:00",
          "2019-08-07T11:50:32.267000+00:00",
          "2019-08-07T12:10:21.205000+00:00",
          "2019-08-07T12:30:10.143000+00:00",
          "2019-08-07T12:49:59.081000+00:00",
          "2019-08-07T13:09:48.019000+00:00",
          "2019-08-07T13:29:36.957000+00:00",
          "2019-08-07T13:49:25.895000+00:00",
          "2019-08-07T14:09:14.833000+00:00",
          "2019-08-07T14:29:03.771000+00:00",
          "2019-08-07T14:48:52.709000+00:00",
          "2019-08-07T15:08:41.647000+00:00",
          "2019-08-07T15:28:30.585000+00:00",
          "2019-08-07T15:48:19.523000+00:00",
          "2019-08-07T16:08:08.461000+00:00",
          "2019-08-07T16:27:57.399000+00:00",
          "2019-08-07T16:47:46.337000+00:00",
          "2019-08-07T17:07:35.275000+00:00",
          "2019-08-07T17:27:24.213000+00:00",
          "2019-08-07T17:47:13.151000+00:00",
          "2019-08-07T18:07:02.089000+00:00",
          "2019-08-07T18:26:51.027000+00:00",
          "2019-08-07T18:46:39.965000+00:00",
          "2019-08-07T19:06:28.903000+00:00",
          "2019-08-07T19:26:17.841000+00:00",
          "2019-08-07T19:46:06.779000+00:00",
          "2019-08-07T20:05:55.717000+00:00",
          "2019-08-07T20:25:44.655000+00:00",
          "2019-08-07T20:45:33.593000+00:00",
          "2019-08-07T21:05:22.531000+00:00"
         ],
         "y": {
          "bdata": "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",
          "dtype": "f8"
         }
        },
        {
         "line": {
          "color": "red",
          "dash": "dash"
         },
         "mode": "lines",
         "name": "Mean",
         "type": "scatter",
         "x": [
          "2019-08-04T11:31:47.713000+00:00",
          "2019-08-04T11:31:47.713000+00:00"
         ],
         "y": [
          0,
          1225.4
         ]
        },
        {
         "line": {
          "color": "blue",
          "dash": "dashdot"
         },
         "mode": "lines",
         "name": "Median",
         "type": "scatter",
         "x": [
          "2019-08-04T12:28:00+00:00",
          "2019-08-04T12:28:00+00:00"
         ],
         "y": [
          0,
          1225.4
         ]
        }
       ],
       "layout": {
        "bargap": 0.05,
        "height": 500,
        "template": {
         "data": {
          "bar": [
           {
            "error_x": {
             "color": "#2a3f5f"
            },
            "error_y": {
             "color": "#2a3f5f"
            },
            "marker": {
             "line": {
              "color": "white",
              "width": 0.5
             },
             "pattern": {
              "fillmode": "overlay",
              "size": 10,
              "solidity": 0.2
             }
            },
            "type": "bar"
           }
          ],
          "barpolar": [
           {
            "marker": {
             "line": {
              "color": "white",
              "width": 0.5
             },
             "pattern": {
              "fillmode": "overlay",
              "size": 10,
              "solidity": 0.2
             }
            },
            "type": "barpolar"
           }
          ],
          "carpet": [
           {
            "aaxis": {
             "endlinecolor": "#2a3f5f",
             "gridcolor": "#C8D4E3",
             "linecolor": "#C8D4E3",
             "minorgridcolor": "#C8D4E3",
             "startlinecolor": "#2a3f5f"
            },
            "baxis": {
             "endlinecolor": "#2a3f5f",
             "gridcolor": "#C8D4E3",
             "linecolor": "#C8D4E3",
             "minorgridcolor": "#C8D4E3",
             "startlinecolor": "#2a3f5f"
            },
            "type": "carpet"
           }
          ],
          "choropleth": [
           {
            "colorbar": {
             "outlinewidth": 0,
             "ticks": ""
            },
            "type": "choropleth"
           }
          ],
          "contour": [
           {
            "colorbar": {
             "outlinewidth": 0,
             "ticks": ""
            },
            "colorscale": [
             [
              0,
              "#0d0887"
             ],
             [
              0.1111111111111111,
              "#46039f"
             ],
             [
              0.2222222222222222,
              "#7201a8"
             ],
             [
              0.3333333333333333,
              "#9c179e"
             ],
             [
              0.4444444444444444,
              "#bd3786"
             ],
             [
              0.5555555555555556,
              "#d8576b"
             ],
             [
              0.6666666666666666,
              "#ed7953"
             ],
             [
              0.7777777777777778,
              "#fb9f3a"
             ],
             [
              0.8888888888888888,
              "#fdca26"
             ],
             [
              1,
              "#f0f921"
             ]
            ],
            "type": "contour"
           }
          ],
          "contourcarpet": [
           {
            "colorbar": {
             "outlinewidth": 0,
             "ticks": ""
            },
            "type": "contourcarpet"
           }
          ],
          "heatmap": [
           {
            "colorbar": {
             "outlinewidth": 0,
             "ticks": ""
            },
            "colorscale": [
             [
              0,
              "#0d0887"
             ],
             [
              0.1111111111111111,
              "#46039f"
             ],
             [
              0.2222222222222222,
              "#7201a8"
             ],
             [
              0.3333333333333333,
              "#9c179e"
             ],
             [
              0.4444444444444444,
              "#bd3786"
             ],
             [
              0.5555555555555556,
              "#d8576b"
             ],
             [
              0.6666666666666666,
              "#ed7953"
             ],
             [
              0.7777777777777778,
              "#fb9f3a"
             ],
             [
              0.8888888888888888,
              "#fdca26"
             ],
             [
              1,
              "#f0f921"
             ]
            ],
            "type": "heatmap"
           }
          ],
          "histogram": [
           {
            "marker": {
             "pattern": {
              "fillmode": "overlay",
              "size": 10,
              "solidity": 0.2
             }
            },
            "type": "histogram"
           }
          ],
          "histogram2d": [
           {
            "colorbar": {
             "outlinewidth": 0,
             "ticks": ""
            },
            "colorscale": [
             [
              0,
              "#0d0887"
             ],
             [
              0.1111111111111111,
              "#46039f"
             ],
             [
              0.2222222222222222,
              "#7201a8"
             ],
             [
              0.3333333333333333,
              "#9c179e"
             ],
             [
              0.4444444444444444,
              "#bd3786"
             ],
             [
              0.5555555555555556,
              "#d8576b"
             ],
             [
              0.6666666666666666,
              "#ed7953"
             ],
             [
              0.7777777777777778,
              "#fb9f3a"
             ],
             [
              0.8888888888888888,
              "#fdca26"
             ],
             [
              1,
              "#f0f921"
             ]
            ],
            "type": "histogram2d"
           }
          ],
          "histogram2dcontour": [
           {
            "colorbar": {
             "outlinewidth": 0,
             "ticks": ""
            },
            "colorscale": [
             [
              0,
              "#0d0887"
             ],
             [
              0.1111111111111111,
              "#46039f"
             ],
             [
              0.2222222222222222,
              "#7201a8"
             ],
             [
              0.3333333333333333,
              "#9c179e"
             ],
             [
              0.4444444444444444,
              "#bd3786"
             ],
             [
              0.5555555555555556,
              "#d8576b"
             ],
             [
              0.6666666666666666,
              "#ed7953"
             ],
             [
              0.7777777777777778,
              "#fb9f3a"
             ],
             [
              0.8888888888888888,
              "#fdca26"
             ],
             [
              1,
              "#f0f921"
             ]
            ],
            "type": "histogram2dcontour"
           }
          ],
          "mesh3d": [
           {
            "colorbar": {
             "outlinewidth": 0,
             "ticks": ""
            },
            "type": "mesh3d"
           }
          ],
          "parcoords": [
           {
            "line": {
             "colorbar": {
              "outlinewidth": 0,
              "ticks": ""
             }
            },
            "type": "parcoords"
           }
          ],
          "pie": [
           {
            "automargin": true,
            "type": "pie"
           }
          ],
          "scatter": [
           {
            "fillpattern": {
             "fillmode": "overlay",
             "size": 10,
             "solidity": 0.2
            },
            "type": "scatter"
           }
          ],
          "scatter3d": [
           {
            "line": {
             "colorbar": {
              "outlinewidth": 0,
              "ticks": ""
             }
            },
            "marker": {
             "colorbar": {
              "outlinewidth": 0,
              "ticks": ""
             }
            },
            "type": "scatter3d"
           }
          ],
          "scattercarpet": [
           {
            "marker": {
             "colorbar": {
              "outlinewidth": 0,
              "ticks": ""
             }
            },
            "type": "scattercarpet"
           }
          ],
          "scattergeo": [
           {
            "marker": {
             "colorbar": {
              "outlinewidth": 0,
              "ticks": ""
             }
            },
            "type": "scattergeo"
           }
          ],
          "scattergl": [
           {
            "marker": {
             "colorbar": {
              "outlinewidth": 0,
              "ticks": ""
             }
            },
            "type": "scattergl"
           }
          ],
          "scattermap": [
           {
            "marker": {
             "colorbar": {
              "outlinewidth": 0,
              "ticks": ""
             }
            },
            "type": "scattermap"
           }
          ],
          "scattermapbox": [
           {
            "marker": {
             "colorbar": {
              "outlinewidth": 0,
              "ticks": ""
             }
            },
            "type": "scattermapbox"
           }
          ],
          "scatterpolar": [
           {
            "marker": {
             "colorbar": {
              "outlinewidth": 0,
              "ticks": ""
             }
            },
            "type": "scatterpolar"
           }
          ],
          "scatterpolargl": [
           {
            "marker": {
             "colorbar": {
              "outlinewidth": 0,
              "ticks": ""
             }
            },
            "type": "scatterpolargl"
           }
          ],
          "scatterternary": [
           {
            "marker": {
             "colorbar": {
              "outlinewidth": 0,
              "ticks": ""
             }
            },
            "type": "scatterternary"
           }
          ],
          "surface": [
           {
            "colorbar": {
             "outlinewidth": 0,
             "ticks": ""
            },
            "colorscale": [
             [
              0,
              "#0d0887"
             ],
             [
              0.1111111111111111,
              "#46039f"
             ],
             [
              0.2222222222222222,
              "#7201a8"
             ],
             [
              0.3333333333333333,
              "#9c179e"
             ],
             [
              0.4444444444444444,
              "#bd3786"
             ],
             [
              0.5555555555555556,
              "#d8576b"
             ],
             [
              0.6666666666666666,
              "#ed7953"
             ],
             [
              0.7777777777777778,
              "#fb9f3a"
             ],
             [
              0.8888888888888888,
              "#fdca26"
             ],
             [
              1,
              "#f0f921"
             ]
            ],
            "type": "surface"
           }
          ],
          "table": [
           {
            "cells": {
             "fill": {
              "color": "#EBF0F8"
             },
             "line": {
              "color": "white"
             }
            },
            "header": {
             "fill": {
              "color": "#C8D4E3"
             },
             "line": {
              "color": "white"
             }
            },
            "type": "table"
           }
          ]
         },
         "layout": {
          "annotationdefaults": {
           "arrowcolor": "#2a3f5f",
           "arrowhead": 0,
           "arrowwidth": 1
          },
          "autotypenumbers": "strict",
          "coloraxis": {
           "colorbar": {
            "outlinewidth": 0,
            "ticks": ""
           }
          },
          "colorscale": {
           "diverging": [
            [
             0,
             "#8e0152"
            ],
            [
             0.1,
             "#c51b7d"
            ],
            [
             0.2,
             "#de77ae"
            ],
            [
             0.3,
             "#f1b6da"
            ],
            [
             0.4,
             "#fde0ef"
            ],
            [
             0.5,
             "#f7f7f7"
            ],
            [
             0.6,
             "#e6f5d0"
            ],
            [
             0.7,
             "#b8e186"
            ],
            [
             0.8,
             "#7fbc41"
            ],
            [
             0.9,
             "#4d9221"
            ],
            [
             1,
             "#276419"
            ]
           ],
           "sequential": [
            [
             0,
             "#0d0887"
            ],
            [
             0.1111111111111111,
             "#46039f"
            ],
            [
             0.2222222222222222,
             "#7201a8"
            ],
            [
             0.3333333333333333,
             "#9c179e"
            ],
            [
             0.4444444444444444,
             "#bd3786"
            ],
            [
             0.5555555555555556,
             "#d8576b"
            ],
            [
             0.6666666666666666,
             "#ed7953"
            ],
            [
             0.7777777777777778,
             "#fb9f3a"
            ],
            [
             0.8888888888888888,
             "#fdca26"
            ],
            [
             1,
             "#f0f921"
            ]
           ],
           "sequentialminus": [
            [
             0,
             "#0d0887"
            ],
            [
             0.1111111111111111,
             "#46039f"
            ],
            [
             0.2222222222222222,
             "#7201a8"
            ],
            [
             0.3333333333333333,
             "#9c179e"
            ],
            [
             0.4444444444444444,
             "#bd3786"
            ],
            [
             0.5555555555555556,
             "#d8576b"
            ],
            [
             0.6666666666666666,
             "#ed7953"
            ],
            [
             0.7777777777777778,
             "#fb9f3a"
            ],
            [
             0.8888888888888888,
             "#fdca26"
            ],
            [
             1,
             "#f0f921"
            ]
           ]
          },
          "colorway": [
           "#636efa",
           "#EF553B",
           "#00cc96",
           "#ab63fa",
           "#FFA15A",
           "#19d3f3",
           "#FF6692",
           "#B6E880",
           "#FF97FF",
           "#FECB52"
          ],
          "font": {
           "color": "#2a3f5f"
          },
          "geo": {
           "bgcolor": "white",
           "lakecolor": "white",
           "landcolor": "white",
           "showlakes": true,
           "showland": true,
           "subunitcolor": "#C8D4E3"
          },
          "hoverlabel": {
           "align": "left"
          },
          "hovermode": "closest",
          "mapbox": {
           "style": "light"
          },
          "paper_bgcolor": "white",
          "plot_bgcolor": "white",
          "polar": {
           "angularaxis": {
            "gridcolor": "#EBF0F8",
            "linecolor": "#EBF0F8",
            "ticks": ""
           },
           "bgcolor": "white",
           "radialaxis": {
            "gridcolor": "#EBF0F8",
            "linecolor": "#EBF0F8",
            "ticks": ""
           }
          },
          "scene": {
           "xaxis": {
            "backgroundcolor": "white",
            "gridcolor": "#DFE8F3",
            "gridwidth": 2,
            "linecolor": "#EBF0F8",
            "showbackground": true,
            "ticks": "",
            "zerolinecolor": "#EBF0F8"
           },
           "yaxis": {
            "backgroundcolor": "white",
            "gridcolor": "#DFE8F3",
            "gridwidth": 2,
            "linecolor": "#EBF0F8",
            "showbackground": true,
            "ticks": "",
            "zerolinecolor": "#EBF0F8"
           },
           "zaxis": {
            "backgroundcolor": "white",
            "gridcolor": "#DFE8F3",
            "gridwidth": 2,
            "linecolor": "#EBF0F8",
            "showbackground": true,
            "ticks": "",
            "zerolinecolor": "#EBF0F8"
           }
          },
          "shapedefaults": {
           "line": {
            "color": "#2a3f5f"
           }
          },
          "ternary": {
           "aaxis": {
            "gridcolor": "#DFE8F3",
            "linecolor": "#A2B1C6",
            "ticks": ""
           },
           "baxis": {
            "gridcolor": "#DFE8F3",
            "linecolor": "#A2B1C6",
            "ticks": ""
           },
           "bgcolor": "white",
           "caxis": {
            "gridcolor": "#DFE8F3",
            "linecolor": "#A2B1C6",
            "ticks": ""
           }
          },
          "title": {
           "x": 0.05
          },
          "xaxis": {
           "automargin": true,
           "gridcolor": "#EBF0F8",
           "linecolor": "#EBF0F8",
           "ticks": "",
           "title": {
            "standoff": 15
           },
           "zerolinecolor": "#EBF0F8",
           "zerolinewidth": 2
          },
          "yaxis": {
           "automargin": true,
           "gridcolor": "#EBF0F8",
           "linecolor": "#EBF0F8",
           "ticks": "",
           "title": {
            "standoff": 15
           },
           "zerolinecolor": "#EBF0F8",
           "zerolinewidth": 2
          }
         }
        },
        "title": {
         "text": "Event Distribution with Full Timestamp Precision"
        },
        "width": 1200,
        "xaxis": {
         "tickangle": 90,
         "tickformat": "%Y-%m-%d %H:%M:%S",
         "title": {
          "text": "Date-Time"
         }
        },
        "yaxis": {
         "title": {
          "text": "Frequency"
         }
        }
       }
      }
     },
     "metadata": {},
     "output_type": "display_data"
    }
   ],
   "source": [
    "# Plot a histogram by date and time, just complete records.\n",
    "plotly_frequency_datetime_plotlypx(df_fs['datetime'], bins=500, density=False, color='grey', title='Event Distribution with Full Timestamp Precision', xlabel='Date-Time', ylabel='Frequency')"
   ]
  },
  {
   "cell_type": "code",
   "execution_count": 26,
   "id": "3b7a2bd9",
   "metadata": {},
   "outputs": [],
   "source": [
    "project_root = Path.cwd().parent\n",
    "processed_path = project_root / \"data\" / \"processed\" / \"clean\" / \"fs_norm.csv\"\n",
    "\n",
    "df_fs.to_csv(processed_path, index=False)"
   ]
  }
 ],
 "metadata": {
  "kernelspec": {
   "display_name": "Win11_Python-PipVenv-Github-Hmb7GD39",
   "language": "python",
   "name": "python3"
  },
  "language_info": {
   "codemirror_mode": {
    "name": "ipython",
    "version": 3
   },
   "file_extension": ".py",
   "mimetype": "text/x-python",
   "name": "python",
   "nbconvert_exporter": "python",
   "pygments_lexer": "ipython3",
   "version": "3.13.2"
  }
 },
 "nbformat": 4,
 "nbformat_minor": 5
}
