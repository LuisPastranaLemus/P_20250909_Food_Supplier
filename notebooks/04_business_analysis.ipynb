{
 "cells": [
  {
   "cell_type": "markdown",
   "id": "a1013021",
   "metadata": {},
   "source": [
    "#### Business Analysis\n",
    "\n",
    "Dataset: \n",
    "\n",
    "- _fs_norm.csv_\n",
    "\n",
    "Author: Luis Sergio Pastrana Lemus  \n",
    "Date: 2025-09-09"
   ]
  },
  {
   "cell_type": "markdown",
   "id": "ba47d374",
   "metadata": {},
   "source": [
    "# Business Analysis – Food Supplier Dataset"
   ]
  },
  {
   "cell_type": "markdown",
   "id": "8f19462b",
   "metadata": {},
   "source": [
    "## __1. Libraries__."
   ]
  },
  {
   "cell_type": "code",
   "execution_count": 1,
   "id": "94199476",
   "metadata": {},
   "outputs": [],
   "source": [
    "from pathlib import Path\n",
    "import sys\n",
    "\n",
    "# Define project root dynamically, gets the current directory from which the notebook belongs and moves one level upper\n",
    "project_root = Path.cwd().parent\n",
    "\n",
    "# Add src to sys.path if it is not already\n",
    "if str(project_root) not in sys.path:\n",
    "\n",
    "    sys.path.append(str(project_root))\n",
    "\n",
    "# Import function directly (more controlled than import *)\n",
    "from src import *\n",
    "\n",
    "\n",
    "from IPython.display import display, HTML\n",
    "import os\n",
    "import pandas as pd"
   ]
  },
  {
   "cell_type": "markdown",
   "id": "cf3f11d4",
   "metadata": {},
   "source": [
    "## __2. Path to Data file__."
   ]
  },
  {
   "cell_type": "code",
   "execution_count": 2,
   "id": "1767a2de",
   "metadata": {},
   "outputs": [],
   "source": [
    "# Build route to data file and upload\n",
    "data_file_path = project_root / \"data\" / \"processed\" / \"clean\"\n",
    "\n",
    "df_fs = load_dataset_from_csv(data_file_path, \"fs_norm.csv\", sep=',', header='infer')"
   ]
  },
  {
   "cell_type": "markdown",
   "id": "da9ebca7",
   "metadata": {},
   "source": [
    "## __3. Exploratory Business Analysis__."
   ]
  },
  {
   "cell_type": "markdown",
   "id": "c7d9003f",
   "metadata": {},
   "source": [
    "### 3.0 Casting Data types."
   ]
  },
  {
   "cell_type": "code",
   "execution_count": 3,
   "id": "02d47f1e",
   "metadata": {},
   "outputs": [
    {
     "data": {
      "application/vnd.microsoft.datawrangler.viewer.v0+json": {
       "columns": [
        {
         "name": "index",
         "rawType": "object",
         "type": "string"
        },
        {
         "name": "0",
         "rawType": "object",
         "type": "unknown"
        }
       ],
       "ref": "9b1ef2ad-9033-4b28-a946-44114f28ca07",
       "rows": [
        [
         "eventname",
         "object"
        ],
        [
         "deviceidhash",
         "int64"
        ],
        [
         "datetime",
         "datetime64[ns, UTC]"
        ],
        [
         "expid",
         "int64"
        ],
        [
         "date",
         "object"
        ],
        [
         "time",
         "object"
        ]
       ],
       "shape": {
        "columns": 1,
        "rows": 6
       }
      },
      "text/plain": [
       "eventname               object\n",
       "deviceidhash             int64\n",
       "datetime        datetime64[...\n",
       "expid                    int64\n",
       "date                    object\n",
       "time                    object\n",
       "dtype: object"
      ]
     },
     "execution_count": 3,
     "metadata": {},
     "output_type": "execute_result"
    }
   ],
   "source": [
    "# Casting dtypes\n",
    "# df_fs 'eventname' to category\n",
    "df_fs.loc[:, 'eventname'] = df_fs['eventname'].astype('category')\n",
    "df_fs['eventname'].dtype\n",
    "\n",
    "df_fs.loc[:, :] = normalize_datetime(df_fs, include=['datetime'])\n",
    "\n",
    "# dfs 'date' and 'time' to datetime\n",
    "df_fs['date'] = pd.to_datetime(df_fs['date']).dt.date\n",
    "df_fs['time'] = pd.to_datetime(df_fs['time'], format='%H:%M:%S').dt.time\n",
    "\n",
    "df_fs.dtypes"
   ]
  },
  {
   "cell_type": "code",
   "execution_count": 4,
   "id": "f7ebe054",
   "metadata": {},
   "outputs": [
    {
     "name": "stdout",
     "output_type": "stream",
     "text": [
      "<class 'pandas.core.frame.DataFrame'>\n",
      "RangeIndex: 240887 entries, 0 to 240886\n",
      "Data columns (total 6 columns):\n",
      " #   Column        Non-Null Count   Dtype              \n",
      "---  ------        --------------   -----              \n",
      " 0   eventname     240887 non-null  object             \n",
      " 1   deviceidhash  240887 non-null  int64              \n",
      " 2   datetime      240887 non-null  datetime64[ns, UTC]\n",
      " 3   expid         240887 non-null  int64              \n",
      " 4   date          240887 non-null  object             \n",
      " 5   time          240887 non-null  object             \n",
      "dtypes: datetime64[ns, UTC](1), int64(2), object(3)\n",
      "memory usage: 11.0+ MB\n"
     ]
    }
   ],
   "source": [
    "df_fs.info()"
   ]
  },
  {
   "cell_type": "code",
   "execution_count": 5,
   "id": "33ca6b99",
   "metadata": {},
   "outputs": [
    {
     "data": {
      "application/vnd.microsoft.datawrangler.viewer.v0+json": {
       "columns": [
        {
         "name": "index",
         "rawType": "int64",
         "type": "integer"
        },
        {
         "name": "eventname",
         "rawType": "object",
         "type": "string"
        },
        {
         "name": "deviceidhash",
         "rawType": "int64",
         "type": "integer"
        },
        {
         "name": "datetime",
         "rawType": "datetime64[ns, UTC]",
         "type": "unknown"
        },
        {
         "name": "expid",
         "rawType": "int64",
         "type": "integer"
        },
        {
         "name": "date",
         "rawType": "object",
         "type": "unknown"
        },
        {
         "name": "time",
         "rawType": "object",
         "type": "unknown"
        }
       ],
       "ref": "484726ca-09c7-4b20-8fa3-8f1f9a3c91b1",
       "rows": [
        [
         "0",
         "tutorial",
         "3737462046622621720",
         "2019-08-01 00:07:28+00:00",
         "246",
         "2019-08-01",
         "00:07:28"
        ],
        [
         "1",
         "mainscreenappear",
         "3737462046622621720",
         "2019-08-01 00:08:00+00:00",
         "246",
         "2019-08-01",
         "00:08:00"
        ],
        [
         "2",
         "mainscreenappear",
         "3737462046622621720",
         "2019-08-01 00:08:55+00:00",
         "246",
         "2019-08-01",
         "00:08:55"
        ],
        [
         "3",
         "offersscreenappear",
         "3737462046622621720",
         "2019-08-01 00:08:58+00:00",
         "246",
         "2019-08-01",
         "00:08:58"
        ],
        [
         "4",
         "mainscreenappear",
         "1433840883824088890",
         "2019-08-01 00:08:59+00:00",
         "247",
         "2019-08-01",
         "00:08:59"
        ],
        [
         "5",
         "mainscreenappear",
         "4899590676214355127",
         "2019-08-01 00:10:15+00:00",
         "247",
         "2019-08-01",
         "00:10:15"
        ],
        [
         "6",
         "offersscreenappear",
         "3737462046622621720",
         "2019-08-01 00:10:26+00:00",
         "246",
         "2019-08-01",
         "00:10:26"
        ],
        [
         "7",
         "mainscreenappear",
         "3737462046622621720",
         "2019-08-01 00:10:47+00:00",
         "246",
         "2019-08-01",
         "00:10:47"
        ],
        [
         "8",
         "mainscreenappear",
         "3737462046622621720",
         "2019-08-01 00:11:10+00:00",
         "246",
         "2019-08-01",
         "00:11:10"
        ],
        [
         "9",
         "mainscreenappear",
         "3737462046622621720",
         "2019-08-01 00:11:20+00:00",
         "246",
         "2019-08-01",
         "00:11:20"
        ],
        [
         "10",
         "mainscreenappear",
         "4899590676214355127",
         "2019-08-01 00:11:28+00:00",
         "247",
         "2019-08-01",
         "00:11:28"
        ],
        [
         "11",
         "offersscreenappear",
         "4899590676214355127",
         "2019-08-01 00:11:30+00:00",
         "247",
         "2019-08-01",
         "00:11:30"
        ],
        [
         "12",
         "mainscreenappear",
         "1182179323890311443",
         "2019-08-01 00:11:57+00:00",
         "246",
         "2019-08-01",
         "00:11:57"
        ],
        [
         "13",
         "tutorial",
         "3737462046622621720",
         "2019-08-01 00:12:18+00:00",
         "246",
         "2019-08-01",
         "00:12:18"
        ],
        [
         "14",
         "mainscreenappear",
         "3737462046622621720",
         "2019-08-01 00:12:34+00:00",
         "246",
         "2019-08-01",
         "00:12:34"
        ],
        [
         "15",
         "offersscreenappear",
         "4899590676214355127",
         "2019-08-01 00:12:36+00:00",
         "247",
         "2019-08-01",
         "00:12:36"
        ],
        [
         "16",
         "mainscreenappear",
         "4613461174774205834",
         "2019-08-01 00:14:31+00:00",
         "248",
         "2019-08-01",
         "00:14:31"
        ],
        [
         "17",
         "mainscreenappear",
         "4613461174774205834",
         "2019-08-01 00:14:34+00:00",
         "248",
         "2019-08-01",
         "00:14:34"
        ],
        [
         "18",
         "cartscreenappear",
         "4613461174774205834",
         "2019-08-01 00:14:34+00:00",
         "248",
         "2019-08-01",
         "00:14:34"
        ],
        [
         "19",
         "paymentscreensuccessful",
         "4613461174774205834",
         "2019-08-01 00:14:43+00:00",
         "248",
         "2019-08-01",
         "00:14:43"
        ],
        [
         "20",
         "offersscreenappear",
         "4613461174774205834",
         "2019-08-01 00:14:51+00:00",
         "248",
         "2019-08-01",
         "00:14:51"
        ],
        [
         "21",
         "mainscreenappear",
         "205293431553451771",
         "2019-08-01 00:15:11+00:00",
         "246",
         "2019-08-01",
         "00:15:11"
        ],
        [
         "22",
         "mainscreenappear",
         "205293431553451771",
         "2019-08-01 00:15:15+00:00",
         "246",
         "2019-08-01",
         "00:15:15"
        ],
        [
         "23",
         "mainscreenappear",
         "205293431553451771",
         "2019-08-01 00:15:18+00:00",
         "246",
         "2019-08-01",
         "00:15:18"
        ],
        [
         "24",
         "mainscreenappear",
         "6121366368901703338",
         "2019-08-01 00:15:50+00:00",
         "248",
         "2019-08-01",
         "00:15:50"
        ],
        [
         "25",
         "offersscreenappear",
         "6121366368901703338",
         "2019-08-01 00:15:54+00:00",
         "248",
         "2019-08-01",
         "00:15:54"
        ],
        [
         "26",
         "mainscreenappear",
         "205293431553451771",
         "2019-08-01 00:16:05+00:00",
         "246",
         "2019-08-01",
         "00:16:05"
        ],
        [
         "27",
         "mainscreenappear",
         "6022375714473447159",
         "2019-08-01 00:16:38+00:00",
         "248",
         "2019-08-01",
         "00:16:38"
        ],
        [
         "28",
         "mainscreenappear",
         "6022375714473447159",
         "2019-08-01 00:17:01+00:00",
         "248",
         "2019-08-01",
         "00:17:01"
        ],
        [
         "29",
         "offersscreenappear",
         "6022375714473447159",
         "2019-08-01 00:17:07+00:00",
         "248",
         "2019-08-01",
         "00:17:07"
        ],
        [
         "30",
         "mainscreenappear",
         "205293431553451771",
         "2019-08-01 00:17:08+00:00",
         "246",
         "2019-08-01",
         "00:17:08"
        ],
        [
         "31",
         "mainscreenappear",
         "6022375714473447159",
         "2019-08-01 00:20:11+00:00",
         "248",
         "2019-08-01",
         "00:20:11"
        ],
        [
         "32",
         "mainscreenappear",
         "205293431553451771",
         "2019-08-01 00:20:21+00:00",
         "246",
         "2019-08-01",
         "00:20:21"
        ],
        [
         "33",
         "mainscreenappear",
         "6022375714473447159",
         "2019-08-01 00:22:11+00:00",
         "248",
         "2019-08-01",
         "00:22:11"
        ],
        [
         "34",
         "mainscreenappear",
         "2712290788139738557",
         "2019-08-01 00:22:41+00:00",
         "247",
         "2019-08-01",
         "00:22:41"
        ],
        [
         "35",
         "paymentscreensuccessful",
         "2712290788139738557",
         "2019-08-01 00:22:44+00:00",
         "247",
         "2019-08-01",
         "00:22:44"
        ],
        [
         "36",
         "cartscreenappear",
         "2712290788139738557",
         "2019-08-01 00:22:45+00:00",
         "247",
         "2019-08-01",
         "00:22:45"
        ],
        [
         "37",
         "mainscreenappear",
         "2712290788139738557",
         "2019-08-01 00:22:45+00:00",
         "247",
         "2019-08-01",
         "00:22:45"
        ],
        [
         "38",
         "offersscreenappear",
         "2712290788139738557",
         "2019-08-01 00:22:53+00:00",
         "247",
         "2019-08-01",
         "00:22:53"
        ],
        [
         "39",
         "paymentscreensuccessful",
         "2712290788139738557",
         "2019-08-01 00:23:08+00:00",
         "247",
         "2019-08-01",
         "00:23:08"
        ],
        [
         "40",
         "cartscreenappear",
         "2712290788139738557",
         "2019-08-01 00:23:09+00:00",
         "247",
         "2019-08-01",
         "00:23:09"
        ],
        [
         "41",
         "mainscreenappear",
         "6022375714473447159",
         "2019-08-01 00:23:17+00:00",
         "248",
         "2019-08-01",
         "00:23:17"
        ],
        [
         "42",
         "cartscreenappear",
         "2712290788139738557",
         "2019-08-01 00:23:20+00:00",
         "247",
         "2019-08-01",
         "00:23:20"
        ],
        [
         "43",
         "paymentscreensuccessful",
         "2712290788139738557",
         "2019-08-01 00:23:20+00:00",
         "247",
         "2019-08-01",
         "00:23:20"
        ],
        [
         "44",
         "mainscreenappear",
         "6022375714473447159",
         "2019-08-01 00:23:24+00:00",
         "248",
         "2019-08-01",
         "00:23:24"
        ],
        [
         "45",
         "paymentscreensuccessful",
         "2712290788139738557",
         "2019-08-01 00:23:34+00:00",
         "247",
         "2019-08-01",
         "00:23:34"
        ],
        [
         "46",
         "cartscreenappear",
         "2712290788139738557",
         "2019-08-01 00:23:35+00:00",
         "247",
         "2019-08-01",
         "00:23:35"
        ],
        [
         "47",
         "cartscreenappear",
         "2712290788139738557",
         "2019-08-01 00:23:50+00:00",
         "247",
         "2019-08-01",
         "00:23:50"
        ],
        [
         "48",
         "paymentscreensuccessful",
         "2712290788139738557",
         "2019-08-01 00:23:50+00:00",
         "247",
         "2019-08-01",
         "00:23:50"
        ],
        [
         "49",
         "mainscreenappear",
         "1433840883824088890",
         "2019-08-01 00:23:55+00:00",
         "247",
         "2019-08-01",
         "00:23:55"
        ]
       ],
       "shape": {
        "columns": 6,
        "rows": 240887
       }
      },
      "text/html": [
       "<div>\n",
       "<style scoped>\n",
       "    .dataframe tbody tr th:only-of-type {\n",
       "        vertical-align: middle;\n",
       "    }\n",
       "\n",
       "    .dataframe tbody tr th {\n",
       "        vertical-align: top;\n",
       "    }\n",
       "\n",
       "    .dataframe thead th {\n",
       "        text-align: right;\n",
       "    }\n",
       "</style>\n",
       "<table border=\"1\" class=\"dataframe\">\n",
       "  <thead>\n",
       "    <tr style=\"text-align: right;\">\n",
       "      <th></th>\n",
       "      <th>eventname</th>\n",
       "      <th>deviceidhash</th>\n",
       "      <th>datetime</th>\n",
       "      <th>expid</th>\n",
       "      <th>date</th>\n",
       "      <th>time</th>\n",
       "    </tr>\n",
       "  </thead>\n",
       "  <tbody>\n",
       "    <tr>\n",
       "      <th>0</th>\n",
       "      <td>tutorial</td>\n",
       "      <td>37374620466...</td>\n",
       "      <td>2019-08-01 0...</td>\n",
       "      <td>246</td>\n",
       "      <td>2019-08-01</td>\n",
       "      <td>00:07:28</td>\n",
       "    </tr>\n",
       "    <tr>\n",
       "      <th>1</th>\n",
       "      <td>mainscreena...</td>\n",
       "      <td>37374620466...</td>\n",
       "      <td>2019-08-01 0...</td>\n",
       "      <td>246</td>\n",
       "      <td>2019-08-01</td>\n",
       "      <td>00:08:00</td>\n",
       "    </tr>\n",
       "    <tr>\n",
       "      <th>2</th>\n",
       "      <td>mainscreena...</td>\n",
       "      <td>37374620466...</td>\n",
       "      <td>2019-08-01 0...</td>\n",
       "      <td>246</td>\n",
       "      <td>2019-08-01</td>\n",
       "      <td>00:08:55</td>\n",
       "    </tr>\n",
       "    <tr>\n",
       "      <th>3</th>\n",
       "      <td>offersscree...</td>\n",
       "      <td>37374620466...</td>\n",
       "      <td>2019-08-01 0...</td>\n",
       "      <td>246</td>\n",
       "      <td>2019-08-01</td>\n",
       "      <td>00:08:58</td>\n",
       "    </tr>\n",
       "    <tr>\n",
       "      <th>4</th>\n",
       "      <td>mainscreena...</td>\n",
       "      <td>14338408838...</td>\n",
       "      <td>2019-08-01 0...</td>\n",
       "      <td>247</td>\n",
       "      <td>2019-08-01</td>\n",
       "      <td>00:08:59</td>\n",
       "    </tr>\n",
       "    <tr>\n",
       "      <th>...</th>\n",
       "      <td>...</td>\n",
       "      <td>...</td>\n",
       "      <td>...</td>\n",
       "      <td>...</td>\n",
       "      <td>...</td>\n",
       "      <td>...</td>\n",
       "    </tr>\n",
       "    <tr>\n",
       "      <th>240882</th>\n",
       "      <td>mainscreena...</td>\n",
       "      <td>45996283640...</td>\n",
       "      <td>2019-08-07 2...</td>\n",
       "      <td>247</td>\n",
       "      <td>2019-08-07</td>\n",
       "      <td>21:12:25</td>\n",
       "    </tr>\n",
       "    <tr>\n",
       "      <th>240883</th>\n",
       "      <td>mainscreena...</td>\n",
       "      <td>58498066124...</td>\n",
       "      <td>2019-08-07 2...</td>\n",
       "      <td>246</td>\n",
       "      <td>2019-08-07</td>\n",
       "      <td>21:13:59</td>\n",
       "    </tr>\n",
       "    <tr>\n",
       "      <th>240884</th>\n",
       "      <td>mainscreena...</td>\n",
       "      <td>57469699388...</td>\n",
       "      <td>2019-08-07 2...</td>\n",
       "      <td>246</td>\n",
       "      <td>2019-08-07</td>\n",
       "      <td>21:14:43</td>\n",
       "    </tr>\n",
       "    <tr>\n",
       "      <th>240885</th>\n",
       "      <td>mainscreena...</td>\n",
       "      <td>57469699388...</td>\n",
       "      <td>2019-08-07 2...</td>\n",
       "      <td>246</td>\n",
       "      <td>2019-08-07</td>\n",
       "      <td>21:14:58</td>\n",
       "    </tr>\n",
       "    <tr>\n",
       "      <th>240886</th>\n",
       "      <td>offersscree...</td>\n",
       "      <td>57469699388...</td>\n",
       "      <td>2019-08-07 2...</td>\n",
       "      <td>246</td>\n",
       "      <td>2019-08-07</td>\n",
       "      <td>21:15:17</td>\n",
       "    </tr>\n",
       "  </tbody>\n",
       "</table>\n",
       "<p>240887 rows × 6 columns</p>\n",
       "</div>"
      ],
      "text/plain": [
       "             eventname    deviceidhash        datetime  expid        date      time\n",
       "0             tutorial  37374620466... 2019-08-01 0...    246  2019-08-01  00:07:28\n",
       "1       mainscreena...  37374620466... 2019-08-01 0...    246  2019-08-01  00:08:00\n",
       "2       mainscreena...  37374620466... 2019-08-01 0...    246  2019-08-01  00:08:55\n",
       "3       offersscree...  37374620466... 2019-08-01 0...    246  2019-08-01  00:08:58\n",
       "4       mainscreena...  14338408838... 2019-08-01 0...    247  2019-08-01  00:08:59\n",
       "...                ...             ...             ...    ...         ...       ...\n",
       "240882  mainscreena...  45996283640... 2019-08-07 2...    247  2019-08-07  21:12:25\n",
       "240883  mainscreena...  58498066124... 2019-08-07 2...    246  2019-08-07  21:13:59\n",
       "240884  mainscreena...  57469699388... 2019-08-07 2...    246  2019-08-07  21:14:43\n",
       "240885  mainscreena...  57469699388... 2019-08-07 2...    246  2019-08-07  21:14:58\n",
       "240886  offersscree...  57469699388... 2019-08-07 2...    246  2019-08-07  21:15:17\n",
       "\n",
       "[240887 rows x 6 columns]"
      ]
     },
     "execution_count": 5,
     "metadata": {},
     "output_type": "execute_result"
    }
   ],
   "source": [
    "df_fs"
   ]
  },
  {
   "cell_type": "markdown",
   "id": "ccf94753",
   "metadata": {},
   "source": [
    "### 3.1  Events Funnel Analysis."
   ]
  },
  {
   "cell_type": "markdown",
   "id": "845bbb12",
   "metadata": {},
   "source": [
    "#### 3.1.1 Review the events listed in the logs and their frequency of occurrence. Sort them by frequency."
   ]
  },
  {
   "cell_type": "code",
   "execution_count": 6,
   "id": "abea6d60",
   "metadata": {},
   "outputs": [
    {
     "data": {
      "application/vnd.microsoft.datawrangler.viewer.v0+json": {
       "columns": [
        {
         "name": "index",
         "rawType": "int64",
         "type": "integer"
        },
        {
         "name": "datetime",
         "rawType": "object",
         "type": "string"
        },
        {
         "name": "events",
         "rawType": "int64",
         "type": "integer"
        }
       ],
       "ref": "69702858-e4d8-4b41-ad0f-67fd92c01410",
       "rows": [
        [
         "0",
         "2019-08-01_0",
         "192"
        ],
        [
         "1",
         "2019-08-01_1",
         "228"
        ],
        [
         "2",
         "2019-08-01_2",
         "328"
        ],
        [
         "3",
         "2019-08-01_3",
         "657"
        ],
        [
         "4",
         "2019-08-01_4",
         "837"
        ],
        [
         "5",
         "2019-08-01_5",
         "1114"
        ],
        [
         "6",
         "2019-08-01_6",
         "1432"
        ],
        [
         "7",
         "2019-08-01_7",
         "1756"
        ],
        [
         "8",
         "2019-08-01_8",
         "1901"
        ],
        [
         "9",
         "2019-08-01_9",
         "2004"
        ],
        [
         "10",
         "2019-08-01_10",
         "1962"
        ],
        [
         "11",
         "2019-08-01_11",
         "2539"
        ],
        [
         "12",
         "2019-08-01_12",
         "2556"
        ],
        [
         "13",
         "2019-08-01_13",
         "2289"
        ],
        [
         "14",
         "2019-08-01_14",
         "2806"
        ],
        [
         "15",
         "2019-08-01_15",
         "2347"
        ],
        [
         "16",
         "2019-08-01_16",
         "2632"
        ],
        [
         "17",
         "2019-08-01_17",
         "2428"
        ],
        [
         "18",
         "2019-08-01_18",
         "2100"
        ],
        [
         "19",
         "2019-08-01_19",
         "1813"
        ],
        [
         "20",
         "2019-08-01_20",
         "1009"
        ],
        [
         "21",
         "2019-08-01_21",
         "673"
        ],
        [
         "22",
         "2019-08-01_22",
         "293"
        ],
        [
         "23",
         "2019-08-01_23",
         "245"
        ],
        [
         "24",
         "2019-08-02_0",
         "647"
        ],
        [
         "25",
         "2019-08-02_1",
         "801"
        ],
        [
         "26",
         "2019-08-02_2",
         "707"
        ],
        [
         "27",
         "2019-08-02_3",
         "850"
        ],
        [
         "28",
         "2019-08-02_4",
         "778"
        ],
        [
         "29",
         "2019-08-02_5",
         "1030"
        ],
        [
         "30",
         "2019-08-02_6",
         "1328"
        ],
        [
         "31",
         "2019-08-02_7",
         "1694"
        ],
        [
         "32",
         "2019-08-02_8",
         "1966"
        ],
        [
         "33",
         "2019-08-02_9",
         "2188"
        ],
        [
         "34",
         "2019-08-02_10",
         "2046"
        ],
        [
         "35",
         "2019-08-02_11",
         "2293"
        ],
        [
         "36",
         "2019-08-02_12",
         "1873"
        ],
        [
         "37",
         "2019-08-02_13",
         "2355"
        ],
        [
         "38",
         "2019-08-02_14",
         "2371"
        ],
        [
         "39",
         "2019-08-02_15",
         "2533"
        ],
        [
         "40",
         "2019-08-02_16",
         "2284"
        ],
        [
         "41",
         "2019-08-02_17",
         "1871"
        ],
        [
         "42",
         "2019-08-02_18",
         "1713"
        ],
        [
         "43",
         "2019-08-02_19",
         "1736"
        ],
        [
         "44",
         "2019-08-02_20",
         "1296"
        ],
        [
         "45",
         "2019-08-02_21",
         "728"
        ],
        [
         "46",
         "2019-08-02_22",
         "273"
        ],
        [
         "47",
         "2019-08-02_23",
         "193"
        ],
        [
         "48",
         "2019-08-03_0",
         "81"
        ],
        [
         "49",
         "2019-08-03_1",
         "172"
        ]
       ],
       "shape": {
        "columns": 2,
        "rows": 166
       }
      },
      "text/html": [
       "<div>\n",
       "<style scoped>\n",
       "    .dataframe tbody tr th:only-of-type {\n",
       "        vertical-align: middle;\n",
       "    }\n",
       "\n",
       "    .dataframe tbody tr th {\n",
       "        vertical-align: top;\n",
       "    }\n",
       "\n",
       "    .dataframe thead th {\n",
       "        text-align: right;\n",
       "    }\n",
       "</style>\n",
       "<table border=\"1\" class=\"dataframe\">\n",
       "  <thead>\n",
       "    <tr style=\"text-align: right;\">\n",
       "      <th></th>\n",
       "      <th>datetime</th>\n",
       "      <th>events</th>\n",
       "    </tr>\n",
       "  </thead>\n",
       "  <tbody>\n",
       "    <tr>\n",
       "      <th>0</th>\n",
       "      <td>2019-08-01_0</td>\n",
       "      <td>192</td>\n",
       "    </tr>\n",
       "    <tr>\n",
       "      <th>1</th>\n",
       "      <td>2019-08-01_1</td>\n",
       "      <td>228</td>\n",
       "    </tr>\n",
       "    <tr>\n",
       "      <th>2</th>\n",
       "      <td>2019-08-01_2</td>\n",
       "      <td>328</td>\n",
       "    </tr>\n",
       "    <tr>\n",
       "      <th>3</th>\n",
       "      <td>2019-08-01_3</td>\n",
       "      <td>657</td>\n",
       "    </tr>\n",
       "    <tr>\n",
       "      <th>4</th>\n",
       "      <td>2019-08-01_4</td>\n",
       "      <td>837</td>\n",
       "    </tr>\n",
       "    <tr>\n",
       "      <th>...</th>\n",
       "      <td>...</td>\n",
       "      <td>...</td>\n",
       "    </tr>\n",
       "    <tr>\n",
       "      <th>161</th>\n",
       "      <td>2019-08-07_17</td>\n",
       "      <td>1906</td>\n",
       "    </tr>\n",
       "    <tr>\n",
       "      <th>162</th>\n",
       "      <td>2019-08-07_18</td>\n",
       "      <td>1679</td>\n",
       "    </tr>\n",
       "    <tr>\n",
       "      <th>163</th>\n",
       "      <td>2019-08-07_19</td>\n",
       "      <td>1507</td>\n",
       "    </tr>\n",
       "    <tr>\n",
       "      <th>164</th>\n",
       "      <td>2019-08-07_20</td>\n",
       "      <td>949</td>\n",
       "    </tr>\n",
       "    <tr>\n",
       "      <th>165</th>\n",
       "      <td>2019-08-07_21</td>\n",
       "      <td>68</td>\n",
       "    </tr>\n",
       "  </tbody>\n",
       "</table>\n",
       "<p>166 rows × 2 columns</p>\n",
       "</div>"
      ],
      "text/plain": [
       "          datetime  events\n",
       "0     2019-08-01_0     192\n",
       "1     2019-08-01_1     228\n",
       "2     2019-08-01_2     328\n",
       "3     2019-08-01_3     657\n",
       "4     2019-08-01_4     837\n",
       "..             ...     ...\n",
       "161  2019-08-07_17    1906\n",
       "162  2019-08-07_18    1679\n",
       "163  2019-08-07_19    1507\n",
       "164  2019-08-07_20     949\n",
       "165  2019-08-07_21      68\n",
       "\n",
       "[166 rows x 2 columns]"
      ]
     },
     "execution_count": 6,
     "metadata": {},
     "output_type": "execute_result"
    }
   ],
   "source": [
    "# Events frequency and sorting\n",
    "df_fs_events = df_fs.groupby(['date', df_fs['datetime'].dt.hour]).size()\n",
    "df_fs_events.name = 'events'\n",
    "df_fs_events = df_fs_events.reset_index()\n",
    "df_fs_events['datetime'] = df_fs_events['date'].astype(str) + '_' + df_fs_events['datetime'].astype(str)\n",
    "df_fs_events = df_fs_events.drop(columns='date')\n",
    "df_fs_events"
   ]
  },
  {
   "cell_type": "code",
   "execution_count": 7,
   "id": "b90dd312",
   "metadata": {},
   "outputs": [
    {
     "data": {
      "application/vnd.plotly.v1+json": {
       "config": {
        "plotlyServerURL": "https://plot.ly"
       },
       "data": [
        {
         "hovertemplate": "datetime=%{x}<br>events=%{y}<extra></extra>",
         "legendgroup": "",
         "marker": {
          "color": "grey",
          "pattern": {
           "shape": ""
          }
         },
         "name": "",
         "orientation": "v",
         "showlegend": false,
         "textposition": "auto",
         "type": "bar",
         "x": [
          "2019-08-01_0",
          "2019-08-01_1",
          "2019-08-01_10",
          "2019-08-01_11",
          "2019-08-01_12",
          "2019-08-01_13",
          "2019-08-01_14",
          "2019-08-01_15",
          "2019-08-01_16",
          "2019-08-01_17",
          "2019-08-01_18",
          "2019-08-01_19",
          "2019-08-01_2",
          "2019-08-01_20",
          "2019-08-01_21",
          "2019-08-01_22",
          "2019-08-01_23",
          "2019-08-01_3",
          "2019-08-01_4",
          "2019-08-01_5",
          "2019-08-01_6",
          "2019-08-01_7",
          "2019-08-01_8",
          "2019-08-01_9",
          "2019-08-02_0",
          "2019-08-02_1",
          "2019-08-02_10",
          "2019-08-02_11",
          "2019-08-02_12",
          "2019-08-02_13",
          "2019-08-02_14",
          "2019-08-02_15",
          "2019-08-02_16",
          "2019-08-02_17",
          "2019-08-02_18",
          "2019-08-02_19",
          "2019-08-02_2",
          "2019-08-02_20",
          "2019-08-02_21",
          "2019-08-02_22",
          "2019-08-02_23",
          "2019-08-02_3",
          "2019-08-02_4",
          "2019-08-02_5",
          "2019-08-02_6",
          "2019-08-02_7",
          "2019-08-02_8",
          "2019-08-02_9",
          "2019-08-03_0",
          "2019-08-03_1",
          "2019-08-03_10",
          "2019-08-03_11",
          "2019-08-03_12",
          "2019-08-03_13",
          "2019-08-03_14",
          "2019-08-03_15",
          "2019-08-03_16",
          "2019-08-03_17",
          "2019-08-03_18",
          "2019-08-03_19",
          "2019-08-03_2",
          "2019-08-03_20",
          "2019-08-03_21",
          "2019-08-03_22",
          "2019-08-03_23",
          "2019-08-03_3",
          "2019-08-03_4",
          "2019-08-03_5",
          "2019-08-03_6",
          "2019-08-03_7",
          "2019-08-03_8",
          "2019-08-03_9",
          "2019-08-04_0",
          "2019-08-04_1",
          "2019-08-04_10",
          "2019-08-04_11",
          "2019-08-04_12",
          "2019-08-04_13",
          "2019-08-04_14",
          "2019-08-04_15",
          "2019-08-04_16",
          "2019-08-04_17",
          "2019-08-04_18",
          "2019-08-04_19",
          "2019-08-04_2",
          "2019-08-04_20",
          "2019-08-04_21",
          "2019-08-04_22",
          "2019-08-04_23",
          "2019-08-04_3",
          "2019-08-04_4",
          "2019-08-04_5",
          "2019-08-04_6",
          "2019-08-04_7",
          "2019-08-04_8",
          "2019-08-04_9",
          "2019-08-05_0",
          "2019-08-05_1",
          "2019-08-05_10",
          "2019-08-05_11",
          "2019-08-05_12",
          "2019-08-05_13",
          "2019-08-05_14",
          "2019-08-05_15",
          "2019-08-05_16",
          "2019-08-05_17",
          "2019-08-05_18",
          "2019-08-05_19",
          "2019-08-05_2",
          "2019-08-05_20",
          "2019-08-05_21",
          "2019-08-05_22",
          "2019-08-05_23",
          "2019-08-05_3",
          "2019-08-05_4",
          "2019-08-05_5",
          "2019-08-05_6",
          "2019-08-05_7",
          "2019-08-05_8",
          "2019-08-05_9",
          "2019-08-06_0",
          "2019-08-06_1",
          "2019-08-06_10",
          "2019-08-06_11",
          "2019-08-06_12",
          "2019-08-06_13",
          "2019-08-06_14",
          "2019-08-06_15",
          "2019-08-06_16",
          "2019-08-06_17",
          "2019-08-06_18",
          "2019-08-06_19",
          "2019-08-06_2",
          "2019-08-06_20",
          "2019-08-06_21",
          "2019-08-06_22",
          "2019-08-06_23",
          "2019-08-06_3",
          "2019-08-06_4",
          "2019-08-06_5",
          "2019-08-06_6",
          "2019-08-06_7",
          "2019-08-06_8",
          "2019-08-06_9",
          "2019-08-07_0",
          "2019-08-07_1",
          "2019-08-07_10",
          "2019-08-07_11",
          "2019-08-07_12",
          "2019-08-07_13",
          "2019-08-07_14",
          "2019-08-07_15",
          "2019-08-07_16",
          "2019-08-07_17",
          "2019-08-07_18",
          "2019-08-07_19",
          "2019-08-07_2",
          "2019-08-07_20",
          "2019-08-07_21",
          "2019-08-07_3",
          "2019-08-07_4",
          "2019-08-07_5",
          "2019-08-07_6",
          "2019-08-07_7",
          "2019-08-07_8",
          "2019-08-07_9"
         ],
         "xaxis": "x",
         "y": {
          "bdata": "wADkAKoH6wn8CfEI9gorCUgKfAk0CBUHSAHxA6ECJQH1AJECRQNaBJgF3AZtB9QHhwIhA/4H9QhRBzMJQwnlCewITwexBsgGwwIQBdgCEQHBAFIDCgMGBDAFngauB4wIUQCsANQHWQuyCPYHcQquCJAI2AeDBtEFzgH5Av8BAAFrAKYBbwIGBFQFcAbHB34JdwDOALoJtAk9CUUI1QejCXsIcQisBiUF6gCMA4MCtgGyANoBqgIdBE0FGAYwB8cHrgCfAFAJRQhaCNIJfwv8Cm4KKQqsBksGSQHjA+8CAgHpABgCcAMtBeAFyAWXB8kHnwCzAB8HFwgcB+kIrgqvCqAJcwnVCIkGnQFHBK0BzAB/ALcCeQQzB2wGjQY/B/oHcwDsAH0GOAdqB7QHbAnYClwJcgePBuMFMQG1A0QAuAKTBEwEfAWEBSMG3gc=",
          "dtype": "i2"
         },
         "yaxis": "y"
        }
       ],
       "layout": {
        "barmode": "relative",
        "height": 500,
        "legend": {
         "tracegroupgap": 0
        },
        "template": {
         "data": {
          "bar": [
           {
            "error_x": {
             "color": "#2a3f5f"
            },
            "error_y": {
             "color": "#2a3f5f"
            },
            "marker": {
             "line": {
              "color": "white",
              "width": 0.5
             },
             "pattern": {
              "fillmode": "overlay",
              "size": 10,
              "solidity": 0.2
             }
            },
            "type": "bar"
           }
          ],
          "barpolar": [
           {
            "marker": {
             "line": {
              "color": "white",
              "width": 0.5
             },
             "pattern": {
              "fillmode": "overlay",
              "size": 10,
              "solidity": 0.2
             }
            },
            "type": "barpolar"
           }
          ],
          "carpet": [
           {
            "aaxis": {
             "endlinecolor": "#2a3f5f",
             "gridcolor": "#C8D4E3",
             "linecolor": "#C8D4E3",
             "minorgridcolor": "#C8D4E3",
             "startlinecolor": "#2a3f5f"
            },
            "baxis": {
             "endlinecolor": "#2a3f5f",
             "gridcolor": "#C8D4E3",
             "linecolor": "#C8D4E3",
             "minorgridcolor": "#C8D4E3",
             "startlinecolor": "#2a3f5f"
            },
            "type": "carpet"
           }
          ],
          "choropleth": [
           {
            "colorbar": {
             "outlinewidth": 0,
             "ticks": ""
            },
            "type": "choropleth"
           }
          ],
          "contour": [
           {
            "colorbar": {
             "outlinewidth": 0,
             "ticks": ""
            },
            "colorscale": [
             [
              0,
              "#0d0887"
             ],
             [
              0.1111111111111111,
              "#46039f"
             ],
             [
              0.2222222222222222,
              "#7201a8"
             ],
             [
              0.3333333333333333,
              "#9c179e"
             ],
             [
              0.4444444444444444,
              "#bd3786"
             ],
             [
              0.5555555555555556,
              "#d8576b"
             ],
             [
              0.6666666666666666,
              "#ed7953"
             ],
             [
              0.7777777777777778,
              "#fb9f3a"
             ],
             [
              0.8888888888888888,
              "#fdca26"
             ],
             [
              1,
              "#f0f921"
             ]
            ],
            "type": "contour"
           }
          ],
          "contourcarpet": [
           {
            "colorbar": {
             "outlinewidth": 0,
             "ticks": ""
            },
            "type": "contourcarpet"
           }
          ],
          "heatmap": [
           {
            "colorbar": {
             "outlinewidth": 0,
             "ticks": ""
            },
            "colorscale": [
             [
              0,
              "#0d0887"
             ],
             [
              0.1111111111111111,
              "#46039f"
             ],
             [
              0.2222222222222222,
              "#7201a8"
             ],
             [
              0.3333333333333333,
              "#9c179e"
             ],
             [
              0.4444444444444444,
              "#bd3786"
             ],
             [
              0.5555555555555556,
              "#d8576b"
             ],
             [
              0.6666666666666666,
              "#ed7953"
             ],
             [
              0.7777777777777778,
              "#fb9f3a"
             ],
             [
              0.8888888888888888,
              "#fdca26"
             ],
             [
              1,
              "#f0f921"
             ]
            ],
            "type": "heatmap"
           }
          ],
          "histogram": [
           {
            "marker": {
             "pattern": {
              "fillmode": "overlay",
              "size": 10,
              "solidity": 0.2
             }
            },
            "type": "histogram"
           }
          ],
          "histogram2d": [
           {
            "colorbar": {
             "outlinewidth": 0,
             "ticks": ""
            },
            "colorscale": [
             [
              0,
              "#0d0887"
             ],
             [
              0.1111111111111111,
              "#46039f"
             ],
             [
              0.2222222222222222,
              "#7201a8"
             ],
             [
              0.3333333333333333,
              "#9c179e"
             ],
             [
              0.4444444444444444,
              "#bd3786"
             ],
             [
              0.5555555555555556,
              "#d8576b"
             ],
             [
              0.6666666666666666,
              "#ed7953"
             ],
             [
              0.7777777777777778,
              "#fb9f3a"
             ],
             [
              0.8888888888888888,
              "#fdca26"
             ],
             [
              1,
              "#f0f921"
             ]
            ],
            "type": "histogram2d"
           }
          ],
          "histogram2dcontour": [
           {
            "colorbar": {
             "outlinewidth": 0,
             "ticks": ""
            },
            "colorscale": [
             [
              0,
              "#0d0887"
             ],
             [
              0.1111111111111111,
              "#46039f"
             ],
             [
              0.2222222222222222,
              "#7201a8"
             ],
             [
              0.3333333333333333,
              "#9c179e"
             ],
             [
              0.4444444444444444,
              "#bd3786"
             ],
             [
              0.5555555555555556,
              "#d8576b"
             ],
             [
              0.6666666666666666,
              "#ed7953"
             ],
             [
              0.7777777777777778,
              "#fb9f3a"
             ],
             [
              0.8888888888888888,
              "#fdca26"
             ],
             [
              1,
              "#f0f921"
             ]
            ],
            "type": "histogram2dcontour"
           }
          ],
          "mesh3d": [
           {
            "colorbar": {
             "outlinewidth": 0,
             "ticks": ""
            },
            "type": "mesh3d"
           }
          ],
          "parcoords": [
           {
            "line": {
             "colorbar": {
              "outlinewidth": 0,
              "ticks": ""
             }
            },
            "type": "parcoords"
           }
          ],
          "pie": [
           {
            "automargin": true,
            "type": "pie"
           }
          ],
          "scatter": [
           {
            "fillpattern": {
             "fillmode": "overlay",
             "size": 10,
             "solidity": 0.2
            },
            "type": "scatter"
           }
          ],
          "scatter3d": [
           {
            "line": {
             "colorbar": {
              "outlinewidth": 0,
              "ticks": ""
             }
            },
            "marker": {
             "colorbar": {
              "outlinewidth": 0,
              "ticks": ""
             }
            },
            "type": "scatter3d"
           }
          ],
          "scattercarpet": [
           {
            "marker": {
             "colorbar": {
              "outlinewidth": 0,
              "ticks": ""
             }
            },
            "type": "scattercarpet"
           }
          ],
          "scattergeo": [
           {
            "marker": {
             "colorbar": {
              "outlinewidth": 0,
              "ticks": ""
             }
            },
            "type": "scattergeo"
           }
          ],
          "scattergl": [
           {
            "marker": {
             "colorbar": {
              "outlinewidth": 0,
              "ticks": ""
             }
            },
            "type": "scattergl"
           }
          ],
          "scattermap": [
           {
            "marker": {
             "colorbar": {
              "outlinewidth": 0,
              "ticks": ""
             }
            },
            "type": "scattermap"
           }
          ],
          "scattermapbox": [
           {
            "marker": {
             "colorbar": {
              "outlinewidth": 0,
              "ticks": ""
             }
            },
            "type": "scattermapbox"
           }
          ],
          "scatterpolar": [
           {
            "marker": {
             "colorbar": {
              "outlinewidth": 0,
              "ticks": ""
             }
            },
            "type": "scatterpolar"
           }
          ],
          "scatterpolargl": [
           {
            "marker": {
             "colorbar": {
              "outlinewidth": 0,
              "ticks": ""
             }
            },
            "type": "scatterpolargl"
           }
          ],
          "scatterternary": [
           {
            "marker": {
             "colorbar": {
              "outlinewidth": 0,
              "ticks": ""
             }
            },
            "type": "scatterternary"
           }
          ],
          "surface": [
           {
            "colorbar": {
             "outlinewidth": 0,
             "ticks": ""
            },
            "colorscale": [
             [
              0,
              "#0d0887"
             ],
             [
              0.1111111111111111,
              "#46039f"
             ],
             [
              0.2222222222222222,
              "#7201a8"
             ],
             [
              0.3333333333333333,
              "#9c179e"
             ],
             [
              0.4444444444444444,
              "#bd3786"
             ],
             [
              0.5555555555555556,
              "#d8576b"
             ],
             [
              0.6666666666666666,
              "#ed7953"
             ],
             [
              0.7777777777777778,
              "#fb9f3a"
             ],
             [
              0.8888888888888888,
              "#fdca26"
             ],
             [
              1,
              "#f0f921"
             ]
            ],
            "type": "surface"
           }
          ],
          "table": [
           {
            "cells": {
             "fill": {
              "color": "#EBF0F8"
             },
             "line": {
              "color": "white"
             }
            },
            "header": {
             "fill": {
              "color": "#C8D4E3"
             },
             "line": {
              "color": "white"
             }
            },
            "type": "table"
           }
          ]
         },
         "layout": {
          "annotationdefaults": {
           "arrowcolor": "#2a3f5f",
           "arrowhead": 0,
           "arrowwidth": 1
          },
          "autotypenumbers": "strict",
          "coloraxis": {
           "colorbar": {
            "outlinewidth": 0,
            "ticks": ""
           }
          },
          "colorscale": {
           "diverging": [
            [
             0,
             "#8e0152"
            ],
            [
             0.1,
             "#c51b7d"
            ],
            [
             0.2,
             "#de77ae"
            ],
            [
             0.3,
             "#f1b6da"
            ],
            [
             0.4,
             "#fde0ef"
            ],
            [
             0.5,
             "#f7f7f7"
            ],
            [
             0.6,
             "#e6f5d0"
            ],
            [
             0.7,
             "#b8e186"
            ],
            [
             0.8,
             "#7fbc41"
            ],
            [
             0.9,
             "#4d9221"
            ],
            [
             1,
             "#276419"
            ]
           ],
           "sequential": [
            [
             0,
             "#0d0887"
            ],
            [
             0.1111111111111111,
             "#46039f"
            ],
            [
             0.2222222222222222,
             "#7201a8"
            ],
            [
             0.3333333333333333,
             "#9c179e"
            ],
            [
             0.4444444444444444,
             "#bd3786"
            ],
            [
             0.5555555555555556,
             "#d8576b"
            ],
            [
             0.6666666666666666,
             "#ed7953"
            ],
            [
             0.7777777777777778,
             "#fb9f3a"
            ],
            [
             0.8888888888888888,
             "#fdca26"
            ],
            [
             1,
             "#f0f921"
            ]
           ],
           "sequentialminus": [
            [
             0,
             "#0d0887"
            ],
            [
             0.1111111111111111,
             "#46039f"
            ],
            [
             0.2222222222222222,
             "#7201a8"
            ],
            [
             0.3333333333333333,
             "#9c179e"
            ],
            [
             0.4444444444444444,
             "#bd3786"
            ],
            [
             0.5555555555555556,
             "#d8576b"
            ],
            [
             0.6666666666666666,
             "#ed7953"
            ],
            [
             0.7777777777777778,
             "#fb9f3a"
            ],
            [
             0.8888888888888888,
             "#fdca26"
            ],
            [
             1,
             "#f0f921"
            ]
           ]
          },
          "colorway": [
           "#636efa",
           "#EF553B",
           "#00cc96",
           "#ab63fa",
           "#FFA15A",
           "#19d3f3",
           "#FF6692",
           "#B6E880",
           "#FF97FF",
           "#FECB52"
          ],
          "font": {
           "color": "#2a3f5f"
          },
          "geo": {
           "bgcolor": "white",
           "lakecolor": "white",
           "landcolor": "white",
           "showlakes": true,
           "showland": true,
           "subunitcolor": "#C8D4E3"
          },
          "hoverlabel": {
           "align": "left"
          },
          "hovermode": "closest",
          "mapbox": {
           "style": "light"
          },
          "paper_bgcolor": "white",
          "plot_bgcolor": "white",
          "polar": {
           "angularaxis": {
            "gridcolor": "#EBF0F8",
            "linecolor": "#EBF0F8",
            "ticks": ""
           },
           "bgcolor": "white",
           "radialaxis": {
            "gridcolor": "#EBF0F8",
            "linecolor": "#EBF0F8",
            "ticks": ""
           }
          },
          "scene": {
           "xaxis": {
            "backgroundcolor": "white",
            "gridcolor": "#DFE8F3",
            "gridwidth": 2,
            "linecolor": "#EBF0F8",
            "showbackground": true,
            "ticks": "",
            "zerolinecolor": "#EBF0F8"
           },
           "yaxis": {
            "backgroundcolor": "white",
            "gridcolor": "#DFE8F3",
            "gridwidth": 2,
            "linecolor": "#EBF0F8",
            "showbackground": true,
            "ticks": "",
            "zerolinecolor": "#EBF0F8"
           },
           "zaxis": {
            "backgroundcolor": "white",
            "gridcolor": "#DFE8F3",
            "gridwidth": 2,
            "linecolor": "#EBF0F8",
            "showbackground": true,
            "ticks": "",
            "zerolinecolor": "#EBF0F8"
           }
          },
          "shapedefaults": {
           "line": {
            "color": "#2a3f5f"
           }
          },
          "ternary": {
           "aaxis": {
            "gridcolor": "#DFE8F3",
            "linecolor": "#A2B1C6",
            "ticks": ""
           },
           "baxis": {
            "gridcolor": "#DFE8F3",
            "linecolor": "#A2B1C6",
            "ticks": ""
           },
           "bgcolor": "white",
           "caxis": {
            "gridcolor": "#DFE8F3",
            "linecolor": "#A2B1C6",
            "ticks": ""
           }
          },
          "title": {
           "x": 0.05
          },
          "xaxis": {
           "automargin": true,
           "gridcolor": "#EBF0F8",
           "linecolor": "#EBF0F8",
           "ticks": "",
           "title": {
            "standoff": 15
           },
           "zerolinecolor": "#EBF0F8",
           "zerolinewidth": 2
          },
          "yaxis": {
           "automargin": true,
           "gridcolor": "#EBF0F8",
           "linecolor": "#EBF0F8",
           "ticks": "",
           "title": {
            "standoff": 15
           },
           "zerolinecolor": "#EBF0F8",
           "zerolinewidth": 2
          }
         }
        },
        "title": {
         "text": "Events Frequency"
        },
        "width": 1200,
        "xaxis": {
         "anchor": "y",
         "domain": [
          0,
          1
         ],
         "title": {
          "text": "Date"
         }
        },
        "yaxis": {
         "anchor": "x",
         "domain": [
          0,
          1
         ],
         "title": {
          "text": "Events"
         }
        }
       }
      }
     },
     "metadata": {},
     "output_type": "display_data"
    }
   ],
   "source": [
    "plot_vertical_bar_plotpx(df_fs_events, x='datetime', y='events', title='Events Frequency', xlabel='Date', ylabel='Events', sort=True)"
   ]
  },
  {
   "cell_type": "markdown",
   "id": "7716c535",
   "metadata": {},
   "source": [
    "#### 3.1.2 Find the number of users who performed each of these actions. Sort the events by the number of users. Calculate the percentage of users who performed the action at least once."
   ]
  },
  {
   "cell_type": "code",
   "execution_count": 8,
   "id": "d40fe952",
   "metadata": {},
   "outputs": [
    {
     "data": {
      "application/vnd.microsoft.datawrangler.viewer.v0+json": {
       "columns": [
        {
         "name": "index",
         "rawType": "int64",
         "type": "integer"
        },
        {
         "name": "eventname",
         "rawType": "object",
         "type": "string"
        },
        {
         "name": "events",
         "rawType": "int64",
         "type": "integer"
        },
        {
         "name": "users",
         "rawType": "int64",
         "type": "integer"
        }
       ],
       "ref": "b5840e48-c620-4942-b267-f73f6002d312",
       "rows": [
        [
         "0",
         "mainscreenappear",
         "117328",
         "7419"
        ],
        [
         "1",
         "offersscreenappear",
         "46333",
         "4593"
        ],
        [
         "2",
         "cartscreenappear",
         "42303",
         "3734"
        ],
        [
         "3",
         "paymentscreensuccessful",
         "33918",
         "3539"
        ],
        [
         "4",
         "tutorial",
         "1005",
         "840"
        ]
       ],
       "shape": {
        "columns": 3,
        "rows": 5
       }
      },
      "text/html": [
       "<div>\n",
       "<style scoped>\n",
       "    .dataframe tbody tr th:only-of-type {\n",
       "        vertical-align: middle;\n",
       "    }\n",
       "\n",
       "    .dataframe tbody tr th {\n",
       "        vertical-align: top;\n",
       "    }\n",
       "\n",
       "    .dataframe thead th {\n",
       "        text-align: right;\n",
       "    }\n",
       "</style>\n",
       "<table border=\"1\" class=\"dataframe\">\n",
       "  <thead>\n",
       "    <tr style=\"text-align: right;\">\n",
       "      <th></th>\n",
       "      <th>eventname</th>\n",
       "      <th>events</th>\n",
       "      <th>users</th>\n",
       "    </tr>\n",
       "  </thead>\n",
       "  <tbody>\n",
       "    <tr>\n",
       "      <th>0</th>\n",
       "      <td>mainscreena...</td>\n",
       "      <td>117328</td>\n",
       "      <td>7419</td>\n",
       "    </tr>\n",
       "    <tr>\n",
       "      <th>1</th>\n",
       "      <td>offersscree...</td>\n",
       "      <td>46333</td>\n",
       "      <td>4593</td>\n",
       "    </tr>\n",
       "    <tr>\n",
       "      <th>2</th>\n",
       "      <td>cartscreena...</td>\n",
       "      <td>42303</td>\n",
       "      <td>3734</td>\n",
       "    </tr>\n",
       "    <tr>\n",
       "      <th>3</th>\n",
       "      <td>paymentscre...</td>\n",
       "      <td>33918</td>\n",
       "      <td>3539</td>\n",
       "    </tr>\n",
       "    <tr>\n",
       "      <th>4</th>\n",
       "      <td>tutorial</td>\n",
       "      <td>1005</td>\n",
       "      <td>840</td>\n",
       "    </tr>\n",
       "  </tbody>\n",
       "</table>\n",
       "</div>"
      ],
      "text/plain": [
       "        eventname  events  users\n",
       "0  mainscreena...  117328   7419\n",
       "1  offersscree...   46333   4593\n",
       "2  cartscreena...   42303   3734\n",
       "3  paymentscre...   33918   3539\n",
       "4        tutorial    1005    840"
      ]
     },
     "execution_count": 8,
     "metadata": {},
     "output_type": "execute_result"
    }
   ],
   "source": [
    "# Show users per actions\n",
    "df_fs_events = df_fs.groupby('eventname').agg(events=('eventname', 'count'), users=('deviceidhash', 'nunique')).sort_values(by='users', ascending=False).reset_index()\n",
    "df_fs_events"
   ]
  },
  {
   "cell_type": "code",
   "execution_count": 9,
   "id": "97f0fb77",
   "metadata": {},
   "outputs": [
    {
     "data": {
      "application/vnd.plotly.v1+json": {
       "config": {
        "plotlyServerURL": "https://plot.ly"
       },
       "data": [
        {
         "hovertemplate": "users=%{x}<br>eventname=%{y}<extra></extra>",
         "legendgroup": "",
         "marker": {
          "color": "grey",
          "pattern": {
           "shape": ""
          }
         },
         "name": "",
         "orientation": "h",
         "showlegend": false,
         "textposition": "auto",
         "type": "bar",
         "x": {
          "bdata": "SAPTDZYO8RH7HA==",
          "dtype": "i2"
         },
         "xaxis": "x",
         "y": [
          "tutorial",
          "paymentscreensuccessful",
          "cartscreenappear",
          "offersscreenappear",
          "mainscreenappear"
         ],
         "yaxis": "y"
        }
       ],
       "layout": {
        "barmode": "relative",
        "height": 500,
        "legend": {
         "tracegroupgap": 0
        },
        "template": {
         "data": {
          "bar": [
           {
            "error_x": {
             "color": "#2a3f5f"
            },
            "error_y": {
             "color": "#2a3f5f"
            },
            "marker": {
             "line": {
              "color": "white",
              "width": 0.5
             },
             "pattern": {
              "fillmode": "overlay",
              "size": 10,
              "solidity": 0.2
             }
            },
            "type": "bar"
           }
          ],
          "barpolar": [
           {
            "marker": {
             "line": {
              "color": "white",
              "width": 0.5
             },
             "pattern": {
              "fillmode": "overlay",
              "size": 10,
              "solidity": 0.2
             }
            },
            "type": "barpolar"
           }
          ],
          "carpet": [
           {
            "aaxis": {
             "endlinecolor": "#2a3f5f",
             "gridcolor": "#C8D4E3",
             "linecolor": "#C8D4E3",
             "minorgridcolor": "#C8D4E3",
             "startlinecolor": "#2a3f5f"
            },
            "baxis": {
             "endlinecolor": "#2a3f5f",
             "gridcolor": "#C8D4E3",
             "linecolor": "#C8D4E3",
             "minorgridcolor": "#C8D4E3",
             "startlinecolor": "#2a3f5f"
            },
            "type": "carpet"
           }
          ],
          "choropleth": [
           {
            "colorbar": {
             "outlinewidth": 0,
             "ticks": ""
            },
            "type": "choropleth"
           }
          ],
          "contour": [
           {
            "colorbar": {
             "outlinewidth": 0,
             "ticks": ""
            },
            "colorscale": [
             [
              0,
              "#0d0887"
             ],
             [
              0.1111111111111111,
              "#46039f"
             ],
             [
              0.2222222222222222,
              "#7201a8"
             ],
             [
              0.3333333333333333,
              "#9c179e"
             ],
             [
              0.4444444444444444,
              "#bd3786"
             ],
             [
              0.5555555555555556,
              "#d8576b"
             ],
             [
              0.6666666666666666,
              "#ed7953"
             ],
             [
              0.7777777777777778,
              "#fb9f3a"
             ],
             [
              0.8888888888888888,
              "#fdca26"
             ],
             [
              1,
              "#f0f921"
             ]
            ],
            "type": "contour"
           }
          ],
          "contourcarpet": [
           {
            "colorbar": {
             "outlinewidth": 0,
             "ticks": ""
            },
            "type": "contourcarpet"
           }
          ],
          "heatmap": [
           {
            "colorbar": {
             "outlinewidth": 0,
             "ticks": ""
            },
            "colorscale": [
             [
              0,
              "#0d0887"
             ],
             [
              0.1111111111111111,
              "#46039f"
             ],
             [
              0.2222222222222222,
              "#7201a8"
             ],
             [
              0.3333333333333333,
              "#9c179e"
             ],
             [
              0.4444444444444444,
              "#bd3786"
             ],
             [
              0.5555555555555556,
              "#d8576b"
             ],
             [
              0.6666666666666666,
              "#ed7953"
             ],
             [
              0.7777777777777778,
              "#fb9f3a"
             ],
             [
              0.8888888888888888,
              "#fdca26"
             ],
             [
              1,
              "#f0f921"
             ]
            ],
            "type": "heatmap"
           }
          ],
          "histogram": [
           {
            "marker": {
             "pattern": {
              "fillmode": "overlay",
              "size": 10,
              "solidity": 0.2
             }
            },
            "type": "histogram"
           }
          ],
          "histogram2d": [
           {
            "colorbar": {
             "outlinewidth": 0,
             "ticks": ""
            },
            "colorscale": [
             [
              0,
              "#0d0887"
             ],
             [
              0.1111111111111111,
              "#46039f"
             ],
             [
              0.2222222222222222,
              "#7201a8"
             ],
             [
              0.3333333333333333,
              "#9c179e"
             ],
             [
              0.4444444444444444,
              "#bd3786"
             ],
             [
              0.5555555555555556,
              "#d8576b"
             ],
             [
              0.6666666666666666,
              "#ed7953"
             ],
             [
              0.7777777777777778,
              "#fb9f3a"
             ],
             [
              0.8888888888888888,
              "#fdca26"
             ],
             [
              1,
              "#f0f921"
             ]
            ],
            "type": "histogram2d"
           }
          ],
          "histogram2dcontour": [
           {
            "colorbar": {
             "outlinewidth": 0,
             "ticks": ""
            },
            "colorscale": [
             [
              0,
              "#0d0887"
             ],
             [
              0.1111111111111111,
              "#46039f"
             ],
             [
              0.2222222222222222,
              "#7201a8"
             ],
             [
              0.3333333333333333,
              "#9c179e"
             ],
             [
              0.4444444444444444,
              "#bd3786"
             ],
             [
              0.5555555555555556,
              "#d8576b"
             ],
             [
              0.6666666666666666,
              "#ed7953"
             ],
             [
              0.7777777777777778,
              "#fb9f3a"
             ],
             [
              0.8888888888888888,
              "#fdca26"
             ],
             [
              1,
              "#f0f921"
             ]
            ],
            "type": "histogram2dcontour"
           }
          ],
          "mesh3d": [
           {
            "colorbar": {
             "outlinewidth": 0,
             "ticks": ""
            },
            "type": "mesh3d"
           }
          ],
          "parcoords": [
           {
            "line": {
             "colorbar": {
              "outlinewidth": 0,
              "ticks": ""
             }
            },
            "type": "parcoords"
           }
          ],
          "pie": [
           {
            "automargin": true,
            "type": "pie"
           }
          ],
          "scatter": [
           {
            "fillpattern": {
             "fillmode": "overlay",
             "size": 10,
             "solidity": 0.2
            },
            "type": "scatter"
           }
          ],
          "scatter3d": [
           {
            "line": {
             "colorbar": {
              "outlinewidth": 0,
              "ticks": ""
             }
            },
            "marker": {
             "colorbar": {
              "outlinewidth": 0,
              "ticks": ""
             }
            },
            "type": "scatter3d"
           }
          ],
          "scattercarpet": [
           {
            "marker": {
             "colorbar": {
              "outlinewidth": 0,
              "ticks": ""
             }
            },
            "type": "scattercarpet"
           }
          ],
          "scattergeo": [
           {
            "marker": {
             "colorbar": {
              "outlinewidth": 0,
              "ticks": ""
             }
            },
            "type": "scattergeo"
           }
          ],
          "scattergl": [
           {
            "marker": {
             "colorbar": {
              "outlinewidth": 0,
              "ticks": ""
             }
            },
            "type": "scattergl"
           }
          ],
          "scattermap": [
           {
            "marker": {
             "colorbar": {
              "outlinewidth": 0,
              "ticks": ""
             }
            },
            "type": "scattermap"
           }
          ],
          "scattermapbox": [
           {
            "marker": {
             "colorbar": {
              "outlinewidth": 0,
              "ticks": ""
             }
            },
            "type": "scattermapbox"
           }
          ],
          "scatterpolar": [
           {
            "marker": {
             "colorbar": {
              "outlinewidth": 0,
              "ticks": ""
             }
            },
            "type": "scatterpolar"
           }
          ],
          "scatterpolargl": [
           {
            "marker": {
             "colorbar": {
              "outlinewidth": 0,
              "ticks": ""
             }
            },
            "type": "scatterpolargl"
           }
          ],
          "scatterternary": [
           {
            "marker": {
             "colorbar": {
              "outlinewidth": 0,
              "ticks": ""
             }
            },
            "type": "scatterternary"
           }
          ],
          "surface": [
           {
            "colorbar": {
             "outlinewidth": 0,
             "ticks": ""
            },
            "colorscale": [
             [
              0,
              "#0d0887"
             ],
             [
              0.1111111111111111,
              "#46039f"
             ],
             [
              0.2222222222222222,
              "#7201a8"
             ],
             [
              0.3333333333333333,
              "#9c179e"
             ],
             [
              0.4444444444444444,
              "#bd3786"
             ],
             [
              0.5555555555555556,
              "#d8576b"
             ],
             [
              0.6666666666666666,
              "#ed7953"
             ],
             [
              0.7777777777777778,
              "#fb9f3a"
             ],
             [
              0.8888888888888888,
              "#fdca26"
             ],
             [
              1,
              "#f0f921"
             ]
            ],
            "type": "surface"
           }
          ],
          "table": [
           {
            "cells": {
             "fill": {
              "color": "#EBF0F8"
             },
             "line": {
              "color": "white"
             }
            },
            "header": {
             "fill": {
              "color": "#C8D4E3"
             },
             "line": {
              "color": "white"
             }
            },
            "type": "table"
           }
          ]
         },
         "layout": {
          "annotationdefaults": {
           "arrowcolor": "#2a3f5f",
           "arrowhead": 0,
           "arrowwidth": 1
          },
          "autotypenumbers": "strict",
          "coloraxis": {
           "colorbar": {
            "outlinewidth": 0,
            "ticks": ""
           }
          },
          "colorscale": {
           "diverging": [
            [
             0,
             "#8e0152"
            ],
            [
             0.1,
             "#c51b7d"
            ],
            [
             0.2,
             "#de77ae"
            ],
            [
             0.3,
             "#f1b6da"
            ],
            [
             0.4,
             "#fde0ef"
            ],
            [
             0.5,
             "#f7f7f7"
            ],
            [
             0.6,
             "#e6f5d0"
            ],
            [
             0.7,
             "#b8e186"
            ],
            [
             0.8,
             "#7fbc41"
            ],
            [
             0.9,
             "#4d9221"
            ],
            [
             1,
             "#276419"
            ]
           ],
           "sequential": [
            [
             0,
             "#0d0887"
            ],
            [
             0.1111111111111111,
             "#46039f"
            ],
            [
             0.2222222222222222,
             "#7201a8"
            ],
            [
             0.3333333333333333,
             "#9c179e"
            ],
            [
             0.4444444444444444,
             "#bd3786"
            ],
            [
             0.5555555555555556,
             "#d8576b"
            ],
            [
             0.6666666666666666,
             "#ed7953"
            ],
            [
             0.7777777777777778,
             "#fb9f3a"
            ],
            [
             0.8888888888888888,
             "#fdca26"
            ],
            [
             1,
             "#f0f921"
            ]
           ],
           "sequentialminus": [
            [
             0,
             "#0d0887"
            ],
            [
             0.1111111111111111,
             "#46039f"
            ],
            [
             0.2222222222222222,
             "#7201a8"
            ],
            [
             0.3333333333333333,
             "#9c179e"
            ],
            [
             0.4444444444444444,
             "#bd3786"
            ],
            [
             0.5555555555555556,
             "#d8576b"
            ],
            [
             0.6666666666666666,
             "#ed7953"
            ],
            [
             0.7777777777777778,
             "#fb9f3a"
            ],
            [
             0.8888888888888888,
             "#fdca26"
            ],
            [
             1,
             "#f0f921"
            ]
           ]
          },
          "colorway": [
           "#636efa",
           "#EF553B",
           "#00cc96",
           "#ab63fa",
           "#FFA15A",
           "#19d3f3",
           "#FF6692",
           "#B6E880",
           "#FF97FF",
           "#FECB52"
          ],
          "font": {
           "color": "#2a3f5f"
          },
          "geo": {
           "bgcolor": "white",
           "lakecolor": "white",
           "landcolor": "white",
           "showlakes": true,
           "showland": true,
           "subunitcolor": "#C8D4E3"
          },
          "hoverlabel": {
           "align": "left"
          },
          "hovermode": "closest",
          "mapbox": {
           "style": "light"
          },
          "paper_bgcolor": "white",
          "plot_bgcolor": "white",
          "polar": {
           "angularaxis": {
            "gridcolor": "#EBF0F8",
            "linecolor": "#EBF0F8",
            "ticks": ""
           },
           "bgcolor": "white",
           "radialaxis": {
            "gridcolor": "#EBF0F8",
            "linecolor": "#EBF0F8",
            "ticks": ""
           }
          },
          "scene": {
           "xaxis": {
            "backgroundcolor": "white",
            "gridcolor": "#DFE8F3",
            "gridwidth": 2,
            "linecolor": "#EBF0F8",
            "showbackground": true,
            "ticks": "",
            "zerolinecolor": "#EBF0F8"
           },
           "yaxis": {
            "backgroundcolor": "white",
            "gridcolor": "#DFE8F3",
            "gridwidth": 2,
            "linecolor": "#EBF0F8",
            "showbackground": true,
            "ticks": "",
            "zerolinecolor": "#EBF0F8"
           },
           "zaxis": {
            "backgroundcolor": "white",
            "gridcolor": "#DFE8F3",
            "gridwidth": 2,
            "linecolor": "#EBF0F8",
            "showbackground": true,
            "ticks": "",
            "zerolinecolor": "#EBF0F8"
           }
          },
          "shapedefaults": {
           "line": {
            "color": "#2a3f5f"
           }
          },
          "ternary": {
           "aaxis": {
            "gridcolor": "#DFE8F3",
            "linecolor": "#A2B1C6",
            "ticks": ""
           },
           "baxis": {
            "gridcolor": "#DFE8F3",
            "linecolor": "#A2B1C6",
            "ticks": ""
           },
           "bgcolor": "white",
           "caxis": {
            "gridcolor": "#DFE8F3",
            "linecolor": "#A2B1C6",
            "ticks": ""
           }
          },
          "title": {
           "x": 0.05
          },
          "xaxis": {
           "automargin": true,
           "gridcolor": "#EBF0F8",
           "linecolor": "#EBF0F8",
           "ticks": "",
           "title": {
            "standoff": 15
           },
           "zerolinecolor": "#EBF0F8",
           "zerolinewidth": 2
          },
          "yaxis": {
           "automargin": true,
           "gridcolor": "#EBF0F8",
           "linecolor": "#EBF0F8",
           "ticks": "",
           "title": {
            "standoff": 15
           },
           "zerolinecolor": "#EBF0F8",
           "zerolinewidth": 2
          }
         }
        },
        "title": {
         "text": "Conversion Funnel"
        },
        "width": 1200,
        "xaxis": {
         "anchor": "y",
         "domain": [
          0,
          1
         ],
         "title": {
          "text": "Users"
         }
        },
        "yaxis": {
         "anchor": "x",
         "domain": [
          0,
          1
         ],
         "title": {
          "text": "Events"
         }
        }
       }
      }
     },
     "metadata": {},
     "output_type": "display_data"
    }
   ],
   "source": [
    "plot_horizontal_bar_plotpx(df_fs_events, x='users', y='eventname', title='Conversion Funnel', xlabel='Users', ylabel='Events', sort=True)"
   ]
  },
  {
   "cell_type": "code",
   "execution_count": 10,
   "id": "97506794",
   "metadata": {},
   "outputs": [
    {
     "data": {
      "application/vnd.microsoft.datawrangler.viewer.v0+json": {
       "columns": [
        {
         "name": "index",
         "rawType": "int64",
         "type": "integer"
        },
        {
         "name": "eventname",
         "rawType": "object",
         "type": "string"
        },
        {
         "name": "events",
         "rawType": "int64",
         "type": "integer"
        },
        {
         "name": "users",
         "rawType": "int64",
         "type": "integer"
        },
        {
         "name": "conversion_event",
         "rawType": "float64",
         "type": "float"
        }
       ],
       "ref": "9c2149e6-ad9d-446e-a405-1812ecd6c113",
       "rows": [
        [
         "0",
         "mainscreenappear",
         "117328",
         "7419",
         "6.323"
        ],
        [
         "1",
         "offersscreenappear",
         "46333",
         "4593",
         "9.913"
        ],
        [
         "2",
         "cartscreenappear",
         "42303",
         "3734",
         "8.827"
        ],
        [
         "3",
         "paymentscreensuccessful",
         "33918",
         "3539",
         "10.434"
        ],
        [
         "4",
         "tutorial",
         "1005",
         "840",
         "83.582"
        ]
       ],
       "shape": {
        "columns": 4,
        "rows": 5
       }
      },
      "text/html": [
       "<div>\n",
       "<style scoped>\n",
       "    .dataframe tbody tr th:only-of-type {\n",
       "        vertical-align: middle;\n",
       "    }\n",
       "\n",
       "    .dataframe tbody tr th {\n",
       "        vertical-align: top;\n",
       "    }\n",
       "\n",
       "    .dataframe thead th {\n",
       "        text-align: right;\n",
       "    }\n",
       "</style>\n",
       "<table border=\"1\" class=\"dataframe\">\n",
       "  <thead>\n",
       "    <tr style=\"text-align: right;\">\n",
       "      <th></th>\n",
       "      <th>eventname</th>\n",
       "      <th>events</th>\n",
       "      <th>users</th>\n",
       "      <th>conversion_event</th>\n",
       "    </tr>\n",
       "  </thead>\n",
       "  <tbody>\n",
       "    <tr>\n",
       "      <th>0</th>\n",
       "      <td>mainscreena...</td>\n",
       "      <td>117328</td>\n",
       "      <td>7419</td>\n",
       "      <td>6.323</td>\n",
       "    </tr>\n",
       "    <tr>\n",
       "      <th>1</th>\n",
       "      <td>offersscree...</td>\n",
       "      <td>46333</td>\n",
       "      <td>4593</td>\n",
       "      <td>9.913</td>\n",
       "    </tr>\n",
       "    <tr>\n",
       "      <th>2</th>\n",
       "      <td>cartscreena...</td>\n",
       "      <td>42303</td>\n",
       "      <td>3734</td>\n",
       "      <td>8.827</td>\n",
       "    </tr>\n",
       "    <tr>\n",
       "      <th>3</th>\n",
       "      <td>paymentscre...</td>\n",
       "      <td>33918</td>\n",
       "      <td>3539</td>\n",
       "      <td>10.434</td>\n",
       "    </tr>\n",
       "    <tr>\n",
       "      <th>4</th>\n",
       "      <td>tutorial</td>\n",
       "      <td>1005</td>\n",
       "      <td>840</td>\n",
       "      <td>83.582</td>\n",
       "    </tr>\n",
       "  </tbody>\n",
       "</table>\n",
       "</div>"
      ],
      "text/plain": [
       "        eventname  events  users  conversion_event\n",
       "0  mainscreena...  117328   7419           6.323  \n",
       "1  offersscree...   46333   4593           9.913  \n",
       "2  cartscreena...   42303   3734           8.827  \n",
       "3  paymentscre...   33918   3539          10.434  \n",
       "4        tutorial    1005    840          83.582  "
      ]
     },
     "execution_count": 10,
     "metadata": {},
     "output_type": "execute_result"
    }
   ],
   "source": [
    "# Show percentage of users that perfomed the action at least once\n",
    "df_fs_events['conversion_event'] = ((df_fs_events['users'] / df_fs_events['events']) * 100).round(3)\n",
    "df_fs_events"
   ]
  },
  {
   "cell_type": "markdown",
   "id": "70f31ead",
   "metadata": {},
   "source": [
    "`LSPL`\n",
    "- Order in which the events occurred: mainscreenappear, offersscreenappear, cartscreenappear, paymentscreensuccessful, tutorial.\n",
    "- tutorial event seems not to be part of the same sequence, proper sequence should be clarified ans confirmed by the customer(mainscreenappear, offersscreenappear, cartscreenappear, paymentscreensuccessful)"
   ]
  },
  {
   "cell_type": "markdown",
   "id": "8323b3b4",
   "metadata": {},
   "source": [
    "#### 3.1.2 Use the event funnel to find the percentage of users who move from one stage to the next."
   ]
  },
  {
   "cell_type": "code",
   "execution_count": 11,
   "id": "3d104a71",
   "metadata": {},
   "outputs": [
    {
     "data": {
      "application/vnd.microsoft.datawrangler.viewer.v0+json": {
       "columns": [
        {
         "name": "index",
         "rawType": "int64",
         "type": "integer"
        },
        {
         "name": "eventname",
         "rawType": "object",
         "type": "string"
        },
        {
         "name": "events",
         "rawType": "int64",
         "type": "integer"
        },
        {
         "name": "users",
         "rawType": "int64",
         "type": "integer"
        },
        {
         "name": "conversion_event",
         "rawType": "float64",
         "type": "float"
        },
        {
         "name": "totalconversionrate",
         "rawType": "float64",
         "type": "float"
        }
       ],
       "ref": "541b1471-574a-441a-b22a-5ca124b97f8a",
       "rows": [
        [
         "0",
         "mainscreenappear",
         "117328",
         "7419",
         "6.323",
         "100.0"
        ],
        [
         "1",
         "offersscreenappear",
         "46333",
         "4593",
         "9.913",
         "61.909"
        ],
        [
         "2",
         "cartscreenappear",
         "42303",
         "3734",
         "8.827",
         "50.33"
        ],
        [
         "3",
         "paymentscreensuccessful",
         "33918",
         "3539",
         "10.434",
         "47.702"
        ],
        [
         "4",
         "tutorial",
         "1005",
         "840",
         "83.582",
         "11.322"
        ]
       ],
       "shape": {
        "columns": 5,
        "rows": 5
       }
      },
      "text/html": [
       "<div>\n",
       "<style scoped>\n",
       "    .dataframe tbody tr th:only-of-type {\n",
       "        vertical-align: middle;\n",
       "    }\n",
       "\n",
       "    .dataframe tbody tr th {\n",
       "        vertical-align: top;\n",
       "    }\n",
       "\n",
       "    .dataframe thead th {\n",
       "        text-align: right;\n",
       "    }\n",
       "</style>\n",
       "<table border=\"1\" class=\"dataframe\">\n",
       "  <thead>\n",
       "    <tr style=\"text-align: right;\">\n",
       "      <th></th>\n",
       "      <th>eventname</th>\n",
       "      <th>events</th>\n",
       "      <th>users</th>\n",
       "      <th>conversion_event</th>\n",
       "      <th>totalconversionrate</th>\n",
       "    </tr>\n",
       "  </thead>\n",
       "  <tbody>\n",
       "    <tr>\n",
       "      <th>0</th>\n",
       "      <td>mainscreena...</td>\n",
       "      <td>117328</td>\n",
       "      <td>7419</td>\n",
       "      <td>6.323</td>\n",
       "      <td>100.000</td>\n",
       "    </tr>\n",
       "    <tr>\n",
       "      <th>1</th>\n",
       "      <td>offersscree...</td>\n",
       "      <td>46333</td>\n",
       "      <td>4593</td>\n",
       "      <td>9.913</td>\n",
       "      <td>61.909</td>\n",
       "    </tr>\n",
       "    <tr>\n",
       "      <th>2</th>\n",
       "      <td>cartscreena...</td>\n",
       "      <td>42303</td>\n",
       "      <td>3734</td>\n",
       "      <td>8.827</td>\n",
       "      <td>50.330</td>\n",
       "    </tr>\n",
       "    <tr>\n",
       "      <th>3</th>\n",
       "      <td>paymentscre...</td>\n",
       "      <td>33918</td>\n",
       "      <td>3539</td>\n",
       "      <td>10.434</td>\n",
       "      <td>47.702</td>\n",
       "    </tr>\n",
       "    <tr>\n",
       "      <th>4</th>\n",
       "      <td>tutorial</td>\n",
       "      <td>1005</td>\n",
       "      <td>840</td>\n",
       "      <td>83.582</td>\n",
       "      <td>11.322</td>\n",
       "    </tr>\n",
       "  </tbody>\n",
       "</table>\n",
       "</div>"
      ],
      "text/plain": [
       "        eventname  events  users  conversion_event  totalconversionrate\n",
       "0  mainscreena...  117328   7419           6.323           100.000     \n",
       "1  offersscree...   46333   4593           9.913            61.909     \n",
       "2  cartscreena...   42303   3734           8.827            50.330     \n",
       "3  paymentscre...   33918   3539          10.434            47.702     \n",
       "4        tutorial    1005    840          83.582            11.322     "
      ]
     },
     "execution_count": 11,
     "metadata": {},
     "output_type": "execute_result"
    }
   ],
   "source": [
    "# Show Total convesion rate\n",
    "df_fs_events['totalconversionrate'] = ((df_fs_events['users'] / df_fs_events.loc[0, 'users']) * 100).round(3)\n",
    "df_fs_events"
   ]
  },
  {
   "cell_type": "code",
   "execution_count": 12,
   "id": "50cdfda3",
   "metadata": {},
   "outputs": [
    {
     "data": {
      "application/vnd.microsoft.datawrangler.viewer.v0+json": {
       "columns": [
        {
         "name": "index",
         "rawType": "int64",
         "type": "integer"
        },
        {
         "name": "eventname",
         "rawType": "object",
         "type": "string"
        },
        {
         "name": "events",
         "rawType": "int64",
         "type": "integer"
        },
        {
         "name": "users",
         "rawType": "int64",
         "type": "integer"
        },
        {
         "name": "conversion_event",
         "rawType": "float64",
         "type": "float"
        },
        {
         "name": "totalconversionrate",
         "rawType": "float64",
         "type": "float"
        },
        {
         "name": "conversionstagerate",
         "rawType": "float64",
         "type": "float"
        }
       ],
       "ref": "c1344b5b-c7b9-479d-b47c-27fda9c0e5f6",
       "rows": [
        [
         "0",
         "mainscreenappear",
         "117328",
         "7419",
         "6.323",
         "100.0",
         null
        ],
        [
         "1",
         "offersscreenappear",
         "46333",
         "4593",
         "9.913",
         "61.909",
         "61.909"
        ],
        [
         "2",
         "cartscreenappear",
         "42303",
         "3734",
         "8.827",
         "50.33",
         "81.298"
        ],
        [
         "3",
         "paymentscreensuccessful",
         "33918",
         "3539",
         "10.434",
         "47.702",
         "94.778"
        ],
        [
         "4",
         "tutorial",
         "1005",
         "840",
         "83.582",
         "11.322",
         "23.736"
        ]
       ],
       "shape": {
        "columns": 6,
        "rows": 5
       }
      },
      "text/html": [
       "<div>\n",
       "<style scoped>\n",
       "    .dataframe tbody tr th:only-of-type {\n",
       "        vertical-align: middle;\n",
       "    }\n",
       "\n",
       "    .dataframe tbody tr th {\n",
       "        vertical-align: top;\n",
       "    }\n",
       "\n",
       "    .dataframe thead th {\n",
       "        text-align: right;\n",
       "    }\n",
       "</style>\n",
       "<table border=\"1\" class=\"dataframe\">\n",
       "  <thead>\n",
       "    <tr style=\"text-align: right;\">\n",
       "      <th></th>\n",
       "      <th>eventname</th>\n",
       "      <th>events</th>\n",
       "      <th>users</th>\n",
       "      <th>conversion_event</th>\n",
       "      <th>totalconversionrate</th>\n",
       "      <th>conversionstagerate</th>\n",
       "    </tr>\n",
       "  </thead>\n",
       "  <tbody>\n",
       "    <tr>\n",
       "      <th>0</th>\n",
       "      <td>mainscreena...</td>\n",
       "      <td>117328</td>\n",
       "      <td>7419</td>\n",
       "      <td>6.323</td>\n",
       "      <td>100.000</td>\n",
       "      <td>NaN</td>\n",
       "    </tr>\n",
       "    <tr>\n",
       "      <th>1</th>\n",
       "      <td>offersscree...</td>\n",
       "      <td>46333</td>\n",
       "      <td>4593</td>\n",
       "      <td>9.913</td>\n",
       "      <td>61.909</td>\n",
       "      <td>61.909</td>\n",
       "    </tr>\n",
       "    <tr>\n",
       "      <th>2</th>\n",
       "      <td>cartscreena...</td>\n",
       "      <td>42303</td>\n",
       "      <td>3734</td>\n",
       "      <td>8.827</td>\n",
       "      <td>50.330</td>\n",
       "      <td>81.298</td>\n",
       "    </tr>\n",
       "    <tr>\n",
       "      <th>3</th>\n",
       "      <td>paymentscre...</td>\n",
       "      <td>33918</td>\n",
       "      <td>3539</td>\n",
       "      <td>10.434</td>\n",
       "      <td>47.702</td>\n",
       "      <td>94.778</td>\n",
       "    </tr>\n",
       "    <tr>\n",
       "      <th>4</th>\n",
       "      <td>tutorial</td>\n",
       "      <td>1005</td>\n",
       "      <td>840</td>\n",
       "      <td>83.582</td>\n",
       "      <td>11.322</td>\n",
       "      <td>23.736</td>\n",
       "    </tr>\n",
       "  </tbody>\n",
       "</table>\n",
       "</div>"
      ],
      "text/plain": [
       "        eventname  events  users  conversion_event  totalconversionrate  conversionstagerate\n",
       "0  mainscreena...  117328   7419           6.323           100.000                  NaN     \n",
       "1  offersscree...   46333   4593           9.913            61.909               61.909     \n",
       "2  cartscreena...   42303   3734           8.827            50.330               81.298     \n",
       "3  paymentscre...   33918   3539          10.434            47.702               94.778     \n",
       "4        tutorial    1005    840          83.582            11.322               23.736     "
      ]
     },
     "execution_count": 12,
     "metadata": {},
     "output_type": "execute_result"
    }
   ],
   "source": [
    "# Show Total convesion next stage rate\n",
    "df_fs_events['conversionstagerate'] = ((df_fs_events['users'] / df_fs_events['users'].shift(1)) * 100).round(3)\n",
    "df_fs_events"
   ]
  },
  {
   "cell_type": "code",
   "execution_count": 13,
   "id": "2bb3832d",
   "metadata": {},
   "outputs": [
    {
     "data": {
      "application/vnd.microsoft.datawrangler.viewer.v0+json": {
       "columns": [
        {
         "name": "index",
         "rawType": "int64",
         "type": "integer"
        },
        {
         "name": "eventname",
         "rawType": "object",
         "type": "string"
        },
        {
         "name": "events",
         "rawType": "int64",
         "type": "integer"
        },
        {
         "name": "users",
         "rawType": "int64",
         "type": "integer"
        },
        {
         "name": "conversion_event",
         "rawType": "float64",
         "type": "float"
        },
        {
         "name": "totalconversionrate",
         "rawType": "float64",
         "type": "float"
        },
        {
         "name": "conversionstagerate",
         "rawType": "float64",
         "type": "float"
        },
        {
         "name": "droprate",
         "rawType": "float64",
         "type": "float"
        }
       ],
       "ref": "d40bf613-d8f7-4d78-8432-440e2ae2a4ed",
       "rows": [
        [
         "0",
         "mainscreenappear",
         "117328",
         "7419",
         "6.323",
         "100.0",
         null,
         null
        ],
        [
         "1",
         "offersscreenappear",
         "46333",
         "4593",
         "9.913",
         "61.909",
         "61.909",
         "38.091"
        ],
        [
         "2",
         "cartscreenappear",
         "42303",
         "3734",
         "8.827",
         "50.33",
         "81.298",
         "18.702"
        ],
        [
         "3",
         "paymentscreensuccessful",
         "33918",
         "3539",
         "10.434",
         "47.702",
         "94.778",
         "5.222"
        ],
        [
         "4",
         "tutorial",
         "1005",
         "840",
         "83.582",
         "11.322",
         "23.736",
         "76.264"
        ]
       ],
       "shape": {
        "columns": 7,
        "rows": 5
       }
      },
      "text/html": [
       "<div>\n",
       "<style scoped>\n",
       "    .dataframe tbody tr th:only-of-type {\n",
       "        vertical-align: middle;\n",
       "    }\n",
       "\n",
       "    .dataframe tbody tr th {\n",
       "        vertical-align: top;\n",
       "    }\n",
       "\n",
       "    .dataframe thead th {\n",
       "        text-align: right;\n",
       "    }\n",
       "</style>\n",
       "<table border=\"1\" class=\"dataframe\">\n",
       "  <thead>\n",
       "    <tr style=\"text-align: right;\">\n",
       "      <th></th>\n",
       "      <th>eventname</th>\n",
       "      <th>events</th>\n",
       "      <th>users</th>\n",
       "      <th>conversion_event</th>\n",
       "      <th>totalconversionrate</th>\n",
       "      <th>conversionstagerate</th>\n",
       "      <th>droprate</th>\n",
       "    </tr>\n",
       "  </thead>\n",
       "  <tbody>\n",
       "    <tr>\n",
       "      <th>0</th>\n",
       "      <td>mainscreena...</td>\n",
       "      <td>117328</td>\n",
       "      <td>7419</td>\n",
       "      <td>6.323</td>\n",
       "      <td>100.000</td>\n",
       "      <td>NaN</td>\n",
       "      <td>NaN</td>\n",
       "    </tr>\n",
       "    <tr>\n",
       "      <th>1</th>\n",
       "      <td>offersscree...</td>\n",
       "      <td>46333</td>\n",
       "      <td>4593</td>\n",
       "      <td>9.913</td>\n",
       "      <td>61.909</td>\n",
       "      <td>61.909</td>\n",
       "      <td>38.091</td>\n",
       "    </tr>\n",
       "    <tr>\n",
       "      <th>2</th>\n",
       "      <td>cartscreena...</td>\n",
       "      <td>42303</td>\n",
       "      <td>3734</td>\n",
       "      <td>8.827</td>\n",
       "      <td>50.330</td>\n",
       "      <td>81.298</td>\n",
       "      <td>18.702</td>\n",
       "    </tr>\n",
       "    <tr>\n",
       "      <th>3</th>\n",
       "      <td>paymentscre...</td>\n",
       "      <td>33918</td>\n",
       "      <td>3539</td>\n",
       "      <td>10.434</td>\n",
       "      <td>47.702</td>\n",
       "      <td>94.778</td>\n",
       "      <td>5.222</td>\n",
       "    </tr>\n",
       "    <tr>\n",
       "      <th>4</th>\n",
       "      <td>tutorial</td>\n",
       "      <td>1005</td>\n",
       "      <td>840</td>\n",
       "      <td>83.582</td>\n",
       "      <td>11.322</td>\n",
       "      <td>23.736</td>\n",
       "      <td>76.264</td>\n",
       "    </tr>\n",
       "  </tbody>\n",
       "</table>\n",
       "</div>"
      ],
      "text/plain": [
       "        eventname  events  users  conversion_event  totalconversionrate  conversionstagerate  droprate\n",
       "0  mainscreena...  117328   7419           6.323           100.000                  NaN            NaN\n",
       "1  offersscree...   46333   4593           9.913            61.909               61.909         38.091\n",
       "2  cartscreena...   42303   3734           8.827            50.330               81.298         18.702\n",
       "3  paymentscre...   33918   3539          10.434            47.702               94.778          5.222\n",
       "4        tutorial    1005    840          83.582            11.322               23.736         76.264"
      ]
     },
     "execution_count": 13,
     "metadata": {},
     "output_type": "execute_result"
    }
   ],
   "source": [
    "df_fs_events['droprate'] = (100 - df_fs_events['conversionstagerate']).round(3)\n",
    "df_fs_events"
   ]
  },
  {
   "cell_type": "code",
   "execution_count": 14,
   "id": "12dafc93",
   "metadata": {},
   "outputs": [
    {
     "data": {
      "application/vnd.plotly.v1+json": {
       "config": {
        "plotlyServerURL": "https://plot.ly"
       },
       "data": [
        {
         "hovertemplate": "totalconversionrate=%{x}<br>eventname=%{y}<extra></extra>",
         "legendgroup": "",
         "marker": {
          "color": "grey",
          "pattern": {
           "shape": ""
          }
         },
         "name": "",
         "orientation": "h",
         "showlegend": false,
         "textposition": "auto",
         "type": "bar",
         "x": {
          "bdata": "vp8aL92kJkBg5dAi29lHQArXo3A9KklAMQisHFr0TkAAAAAAAABZQA==",
          "dtype": "f8"
         },
         "xaxis": "x",
         "y": [
          "tutorial",
          "paymentscreensuccessful",
          "cartscreenappear",
          "offersscreenappear",
          "mainscreenappear"
         ],
         "yaxis": "y"
        }
       ],
       "layout": {
        "barmode": "relative",
        "height": 500,
        "legend": {
         "tracegroupgap": 0
        },
        "template": {
         "data": {
          "bar": [
           {
            "error_x": {
             "color": "#2a3f5f"
            },
            "error_y": {
             "color": "#2a3f5f"
            },
            "marker": {
             "line": {
              "color": "white",
              "width": 0.5
             },
             "pattern": {
              "fillmode": "overlay",
              "size": 10,
              "solidity": 0.2
             }
            },
            "type": "bar"
           }
          ],
          "barpolar": [
           {
            "marker": {
             "line": {
              "color": "white",
              "width": 0.5
             },
             "pattern": {
              "fillmode": "overlay",
              "size": 10,
              "solidity": 0.2
             }
            },
            "type": "barpolar"
           }
          ],
          "carpet": [
           {
            "aaxis": {
             "endlinecolor": "#2a3f5f",
             "gridcolor": "#C8D4E3",
             "linecolor": "#C8D4E3",
             "minorgridcolor": "#C8D4E3",
             "startlinecolor": "#2a3f5f"
            },
            "baxis": {
             "endlinecolor": "#2a3f5f",
             "gridcolor": "#C8D4E3",
             "linecolor": "#C8D4E3",
             "minorgridcolor": "#C8D4E3",
             "startlinecolor": "#2a3f5f"
            },
            "type": "carpet"
           }
          ],
          "choropleth": [
           {
            "colorbar": {
             "outlinewidth": 0,
             "ticks": ""
            },
            "type": "choropleth"
           }
          ],
          "contour": [
           {
            "colorbar": {
             "outlinewidth": 0,
             "ticks": ""
            },
            "colorscale": [
             [
              0,
              "#0d0887"
             ],
             [
              0.1111111111111111,
              "#46039f"
             ],
             [
              0.2222222222222222,
              "#7201a8"
             ],
             [
              0.3333333333333333,
              "#9c179e"
             ],
             [
              0.4444444444444444,
              "#bd3786"
             ],
             [
              0.5555555555555556,
              "#d8576b"
             ],
             [
              0.6666666666666666,
              "#ed7953"
             ],
             [
              0.7777777777777778,
              "#fb9f3a"
             ],
             [
              0.8888888888888888,
              "#fdca26"
             ],
             [
              1,
              "#f0f921"
             ]
            ],
            "type": "contour"
           }
          ],
          "contourcarpet": [
           {
            "colorbar": {
             "outlinewidth": 0,
             "ticks": ""
            },
            "type": "contourcarpet"
           }
          ],
          "heatmap": [
           {
            "colorbar": {
             "outlinewidth": 0,
             "ticks": ""
            },
            "colorscale": [
             [
              0,
              "#0d0887"
             ],
             [
              0.1111111111111111,
              "#46039f"
             ],
             [
              0.2222222222222222,
              "#7201a8"
             ],
             [
              0.3333333333333333,
              "#9c179e"
             ],
             [
              0.4444444444444444,
              "#bd3786"
             ],
             [
              0.5555555555555556,
              "#d8576b"
             ],
             [
              0.6666666666666666,
              "#ed7953"
             ],
             [
              0.7777777777777778,
              "#fb9f3a"
             ],
             [
              0.8888888888888888,
              "#fdca26"
             ],
             [
              1,
              "#f0f921"
             ]
            ],
            "type": "heatmap"
           }
          ],
          "histogram": [
           {
            "marker": {
             "pattern": {
              "fillmode": "overlay",
              "size": 10,
              "solidity": 0.2
             }
            },
            "type": "histogram"
           }
          ],
          "histogram2d": [
           {
            "colorbar": {
             "outlinewidth": 0,
             "ticks": ""
            },
            "colorscale": [
             [
              0,
              "#0d0887"
             ],
             [
              0.1111111111111111,
              "#46039f"
             ],
             [
              0.2222222222222222,
              "#7201a8"
             ],
             [
              0.3333333333333333,
              "#9c179e"
             ],
             [
              0.4444444444444444,
              "#bd3786"
             ],
             [
              0.5555555555555556,
              "#d8576b"
             ],
             [
              0.6666666666666666,
              "#ed7953"
             ],
             [
              0.7777777777777778,
              "#fb9f3a"
             ],
             [
              0.8888888888888888,
              "#fdca26"
             ],
             [
              1,
              "#f0f921"
             ]
            ],
            "type": "histogram2d"
           }
          ],
          "histogram2dcontour": [
           {
            "colorbar": {
             "outlinewidth": 0,
             "ticks": ""
            },
            "colorscale": [
             [
              0,
              "#0d0887"
             ],
             [
              0.1111111111111111,
              "#46039f"
             ],
             [
              0.2222222222222222,
              "#7201a8"
             ],
             [
              0.3333333333333333,
              "#9c179e"
             ],
             [
              0.4444444444444444,
              "#bd3786"
             ],
             [
              0.5555555555555556,
              "#d8576b"
             ],
             [
              0.6666666666666666,
              "#ed7953"
             ],
             [
              0.7777777777777778,
              "#fb9f3a"
             ],
             [
              0.8888888888888888,
              "#fdca26"
             ],
             [
              1,
              "#f0f921"
             ]
            ],
            "type": "histogram2dcontour"
           }
          ],
          "mesh3d": [
           {
            "colorbar": {
             "outlinewidth": 0,
             "ticks": ""
            },
            "type": "mesh3d"
           }
          ],
          "parcoords": [
           {
            "line": {
             "colorbar": {
              "outlinewidth": 0,
              "ticks": ""
             }
            },
            "type": "parcoords"
           }
          ],
          "pie": [
           {
            "automargin": true,
            "type": "pie"
           }
          ],
          "scatter": [
           {
            "fillpattern": {
             "fillmode": "overlay",
             "size": 10,
             "solidity": 0.2
            },
            "type": "scatter"
           }
          ],
          "scatter3d": [
           {
            "line": {
             "colorbar": {
              "outlinewidth": 0,
              "ticks": ""
             }
            },
            "marker": {
             "colorbar": {
              "outlinewidth": 0,
              "ticks": ""
             }
            },
            "type": "scatter3d"
           }
          ],
          "scattercarpet": [
           {
            "marker": {
             "colorbar": {
              "outlinewidth": 0,
              "ticks": ""
             }
            },
            "type": "scattercarpet"
           }
          ],
          "scattergeo": [
           {
            "marker": {
             "colorbar": {
              "outlinewidth": 0,
              "ticks": ""
             }
            },
            "type": "scattergeo"
           }
          ],
          "scattergl": [
           {
            "marker": {
             "colorbar": {
              "outlinewidth": 0,
              "ticks": ""
             }
            },
            "type": "scattergl"
           }
          ],
          "scattermap": [
           {
            "marker": {
             "colorbar": {
              "outlinewidth": 0,
              "ticks": ""
             }
            },
            "type": "scattermap"
           }
          ],
          "scattermapbox": [
           {
            "marker": {
             "colorbar": {
              "outlinewidth": 0,
              "ticks": ""
             }
            },
            "type": "scattermapbox"
           }
          ],
          "scatterpolar": [
           {
            "marker": {
             "colorbar": {
              "outlinewidth": 0,
              "ticks": ""
             }
            },
            "type": "scatterpolar"
           }
          ],
          "scatterpolargl": [
           {
            "marker": {
             "colorbar": {
              "outlinewidth": 0,
              "ticks": ""
             }
            },
            "type": "scatterpolargl"
           }
          ],
          "scatterternary": [
           {
            "marker": {
             "colorbar": {
              "outlinewidth": 0,
              "ticks": ""
             }
            },
            "type": "scatterternary"
           }
          ],
          "surface": [
           {
            "colorbar": {
             "outlinewidth": 0,
             "ticks": ""
            },
            "colorscale": [
             [
              0,
              "#0d0887"
             ],
             [
              0.1111111111111111,
              "#46039f"
             ],
             [
              0.2222222222222222,
              "#7201a8"
             ],
             [
              0.3333333333333333,
              "#9c179e"
             ],
             [
              0.4444444444444444,
              "#bd3786"
             ],
             [
              0.5555555555555556,
              "#d8576b"
             ],
             [
              0.6666666666666666,
              "#ed7953"
             ],
             [
              0.7777777777777778,
              "#fb9f3a"
             ],
             [
              0.8888888888888888,
              "#fdca26"
             ],
             [
              1,
              "#f0f921"
             ]
            ],
            "type": "surface"
           }
          ],
          "table": [
           {
            "cells": {
             "fill": {
              "color": "#EBF0F8"
             },
             "line": {
              "color": "white"
             }
            },
            "header": {
             "fill": {
              "color": "#C8D4E3"
             },
             "line": {
              "color": "white"
             }
            },
            "type": "table"
           }
          ]
         },
         "layout": {
          "annotationdefaults": {
           "arrowcolor": "#2a3f5f",
           "arrowhead": 0,
           "arrowwidth": 1
          },
          "autotypenumbers": "strict",
          "coloraxis": {
           "colorbar": {
            "outlinewidth": 0,
            "ticks": ""
           }
          },
          "colorscale": {
           "diverging": [
            [
             0,
             "#8e0152"
            ],
            [
             0.1,
             "#c51b7d"
            ],
            [
             0.2,
             "#de77ae"
            ],
            [
             0.3,
             "#f1b6da"
            ],
            [
             0.4,
             "#fde0ef"
            ],
            [
             0.5,
             "#f7f7f7"
            ],
            [
             0.6,
             "#e6f5d0"
            ],
            [
             0.7,
             "#b8e186"
            ],
            [
             0.8,
             "#7fbc41"
            ],
            [
             0.9,
             "#4d9221"
            ],
            [
             1,
             "#276419"
            ]
           ],
           "sequential": [
            [
             0,
             "#0d0887"
            ],
            [
             0.1111111111111111,
             "#46039f"
            ],
            [
             0.2222222222222222,
             "#7201a8"
            ],
            [
             0.3333333333333333,
             "#9c179e"
            ],
            [
             0.4444444444444444,
             "#bd3786"
            ],
            [
             0.5555555555555556,
             "#d8576b"
            ],
            [
             0.6666666666666666,
             "#ed7953"
            ],
            [
             0.7777777777777778,
             "#fb9f3a"
            ],
            [
             0.8888888888888888,
             "#fdca26"
            ],
            [
             1,
             "#f0f921"
            ]
           ],
           "sequentialminus": [
            [
             0,
             "#0d0887"
            ],
            [
             0.1111111111111111,
             "#46039f"
            ],
            [
             0.2222222222222222,
             "#7201a8"
            ],
            [
             0.3333333333333333,
             "#9c179e"
            ],
            [
             0.4444444444444444,
             "#bd3786"
            ],
            [
             0.5555555555555556,
             "#d8576b"
            ],
            [
             0.6666666666666666,
             "#ed7953"
            ],
            [
             0.7777777777777778,
             "#fb9f3a"
            ],
            [
             0.8888888888888888,
             "#fdca26"
            ],
            [
             1,
             "#f0f921"
            ]
           ]
          },
          "colorway": [
           "#636efa",
           "#EF553B",
           "#00cc96",
           "#ab63fa",
           "#FFA15A",
           "#19d3f3",
           "#FF6692",
           "#B6E880",
           "#FF97FF",
           "#FECB52"
          ],
          "font": {
           "color": "#2a3f5f"
          },
          "geo": {
           "bgcolor": "white",
           "lakecolor": "white",
           "landcolor": "white",
           "showlakes": true,
           "showland": true,
           "subunitcolor": "#C8D4E3"
          },
          "hoverlabel": {
           "align": "left"
          },
          "hovermode": "closest",
          "mapbox": {
           "style": "light"
          },
          "paper_bgcolor": "white",
          "plot_bgcolor": "white",
          "polar": {
           "angularaxis": {
            "gridcolor": "#EBF0F8",
            "linecolor": "#EBF0F8",
            "ticks": ""
           },
           "bgcolor": "white",
           "radialaxis": {
            "gridcolor": "#EBF0F8",
            "linecolor": "#EBF0F8",
            "ticks": ""
           }
          },
          "scene": {
           "xaxis": {
            "backgroundcolor": "white",
            "gridcolor": "#DFE8F3",
            "gridwidth": 2,
            "linecolor": "#EBF0F8",
            "showbackground": true,
            "ticks": "",
            "zerolinecolor": "#EBF0F8"
           },
           "yaxis": {
            "backgroundcolor": "white",
            "gridcolor": "#DFE8F3",
            "gridwidth": 2,
            "linecolor": "#EBF0F8",
            "showbackground": true,
            "ticks": "",
            "zerolinecolor": "#EBF0F8"
           },
           "zaxis": {
            "backgroundcolor": "white",
            "gridcolor": "#DFE8F3",
            "gridwidth": 2,
            "linecolor": "#EBF0F8",
            "showbackground": true,
            "ticks": "",
            "zerolinecolor": "#EBF0F8"
           }
          },
          "shapedefaults": {
           "line": {
            "color": "#2a3f5f"
           }
          },
          "ternary": {
           "aaxis": {
            "gridcolor": "#DFE8F3",
            "linecolor": "#A2B1C6",
            "ticks": ""
           },
           "baxis": {
            "gridcolor": "#DFE8F3",
            "linecolor": "#A2B1C6",
            "ticks": ""
           },
           "bgcolor": "white",
           "caxis": {
            "gridcolor": "#DFE8F3",
            "linecolor": "#A2B1C6",
            "ticks": ""
           }
          },
          "title": {
           "x": 0.05
          },
          "xaxis": {
           "automargin": true,
           "gridcolor": "#EBF0F8",
           "linecolor": "#EBF0F8",
           "ticks": "",
           "title": {
            "standoff": 15
           },
           "zerolinecolor": "#EBF0F8",
           "zerolinewidth": 2
          },
          "yaxis": {
           "automargin": true,
           "gridcolor": "#EBF0F8",
           "linecolor": "#EBF0F8",
           "ticks": "",
           "title": {
            "standoff": 15
           },
           "zerolinecolor": "#EBF0F8",
           "zerolinewidth": 2
          }
         }
        },
        "title": {
         "text": "Conversion Rate"
        },
        "width": 1200,
        "xaxis": {
         "anchor": "y",
         "domain": [
          0,
          1
         ],
         "title": {
          "text": "Conversion Rate"
         }
        },
        "yaxis": {
         "anchor": "x",
         "domain": [
          0,
          1
         ],
         "title": {
          "text": "Events"
         }
        }
       }
      }
     },
     "metadata": {},
     "output_type": "display_data"
    }
   ],
   "source": [
    "plot_horizontal_bar_plotpx(df_fs_events, x='totalconversionrate', y='eventname', title='Conversion Rate', xlabel='Conversion Rate', ylabel='Events', sort=True)"
   ]
  },
  {
   "cell_type": "code",
   "execution_count": 15,
   "id": "cea92d7b",
   "metadata": {},
   "outputs": [
    {
     "data": {
      "application/vnd.plotly.v1+json": {
       "config": {
        "plotlyServerURL": "https://plot.ly"
       },
       "data": [
        {
         "hovertemplate": "conversionstagerate=%{x}<br>eventname=%{y}<extra></extra>",
         "legendgroup": "",
         "marker": {
          "color": "grey",
          "pattern": {
           "shape": ""
          }
         },
         "name": "",
         "orientation": "h",
         "showlegend": false,
         "textposition": "auto",
         "type": "bar",
         "x": {
          "bdata": "I9v5fmq8N0AxCKwcWvROQFCNl24SU1RAbxKDwMqxV0AAAAAAAAD4fw==",
          "dtype": "f8"
         },
         "xaxis": "x",
         "y": [
          "tutorial",
          "offersscreenappear",
          "cartscreenappear",
          "paymentscreensuccessful",
          "mainscreenappear"
         ],
         "yaxis": "y"
        }
       ],
       "layout": {
        "barmode": "relative",
        "height": 500,
        "legend": {
         "tracegroupgap": 0
        },
        "template": {
         "data": {
          "bar": [
           {
            "error_x": {
             "color": "#2a3f5f"
            },
            "error_y": {
             "color": "#2a3f5f"
            },
            "marker": {
             "line": {
              "color": "white",
              "width": 0.5
             },
             "pattern": {
              "fillmode": "overlay",
              "size": 10,
              "solidity": 0.2
             }
            },
            "type": "bar"
           }
          ],
          "barpolar": [
           {
            "marker": {
             "line": {
              "color": "white",
              "width": 0.5
             },
             "pattern": {
              "fillmode": "overlay",
              "size": 10,
              "solidity": 0.2
             }
            },
            "type": "barpolar"
           }
          ],
          "carpet": [
           {
            "aaxis": {
             "endlinecolor": "#2a3f5f",
             "gridcolor": "#C8D4E3",
             "linecolor": "#C8D4E3",
             "minorgridcolor": "#C8D4E3",
             "startlinecolor": "#2a3f5f"
            },
            "baxis": {
             "endlinecolor": "#2a3f5f",
             "gridcolor": "#C8D4E3",
             "linecolor": "#C8D4E3",
             "minorgridcolor": "#C8D4E3",
             "startlinecolor": "#2a3f5f"
            },
            "type": "carpet"
           }
          ],
          "choropleth": [
           {
            "colorbar": {
             "outlinewidth": 0,
             "ticks": ""
            },
            "type": "choropleth"
           }
          ],
          "contour": [
           {
            "colorbar": {
             "outlinewidth": 0,
             "ticks": ""
            },
            "colorscale": [
             [
              0,
              "#0d0887"
             ],
             [
              0.1111111111111111,
              "#46039f"
             ],
             [
              0.2222222222222222,
              "#7201a8"
             ],
             [
              0.3333333333333333,
              "#9c179e"
             ],
             [
              0.4444444444444444,
              "#bd3786"
             ],
             [
              0.5555555555555556,
              "#d8576b"
             ],
             [
              0.6666666666666666,
              "#ed7953"
             ],
             [
              0.7777777777777778,
              "#fb9f3a"
             ],
             [
              0.8888888888888888,
              "#fdca26"
             ],
             [
              1,
              "#f0f921"
             ]
            ],
            "type": "contour"
           }
          ],
          "contourcarpet": [
           {
            "colorbar": {
             "outlinewidth": 0,
             "ticks": ""
            },
            "type": "contourcarpet"
           }
          ],
          "heatmap": [
           {
            "colorbar": {
             "outlinewidth": 0,
             "ticks": ""
            },
            "colorscale": [
             [
              0,
              "#0d0887"
             ],
             [
              0.1111111111111111,
              "#46039f"
             ],
             [
              0.2222222222222222,
              "#7201a8"
             ],
             [
              0.3333333333333333,
              "#9c179e"
             ],
             [
              0.4444444444444444,
              "#bd3786"
             ],
             [
              0.5555555555555556,
              "#d8576b"
             ],
             [
              0.6666666666666666,
              "#ed7953"
             ],
             [
              0.7777777777777778,
              "#fb9f3a"
             ],
             [
              0.8888888888888888,
              "#fdca26"
             ],
             [
              1,
              "#f0f921"
             ]
            ],
            "type": "heatmap"
           }
          ],
          "histogram": [
           {
            "marker": {
             "pattern": {
              "fillmode": "overlay",
              "size": 10,
              "solidity": 0.2
             }
            },
            "type": "histogram"
           }
          ],
          "histogram2d": [
           {
            "colorbar": {
             "outlinewidth": 0,
             "ticks": ""
            },
            "colorscale": [
             [
              0,
              "#0d0887"
             ],
             [
              0.1111111111111111,
              "#46039f"
             ],
             [
              0.2222222222222222,
              "#7201a8"
             ],
             [
              0.3333333333333333,
              "#9c179e"
             ],
             [
              0.4444444444444444,
              "#bd3786"
             ],
             [
              0.5555555555555556,
              "#d8576b"
             ],
             [
              0.6666666666666666,
              "#ed7953"
             ],
             [
              0.7777777777777778,
              "#fb9f3a"
             ],
             [
              0.8888888888888888,
              "#fdca26"
             ],
             [
              1,
              "#f0f921"
             ]
            ],
            "type": "histogram2d"
           }
          ],
          "histogram2dcontour": [
           {
            "colorbar": {
             "outlinewidth": 0,
             "ticks": ""
            },
            "colorscale": [
             [
              0,
              "#0d0887"
             ],
             [
              0.1111111111111111,
              "#46039f"
             ],
             [
              0.2222222222222222,
              "#7201a8"
             ],
             [
              0.3333333333333333,
              "#9c179e"
             ],
             [
              0.4444444444444444,
              "#bd3786"
             ],
             [
              0.5555555555555556,
              "#d8576b"
             ],
             [
              0.6666666666666666,
              "#ed7953"
             ],
             [
              0.7777777777777778,
              "#fb9f3a"
             ],
             [
              0.8888888888888888,
              "#fdca26"
             ],
             [
              1,
              "#f0f921"
             ]
            ],
            "type": "histogram2dcontour"
           }
          ],
          "mesh3d": [
           {
            "colorbar": {
             "outlinewidth": 0,
             "ticks": ""
            },
            "type": "mesh3d"
           }
          ],
          "parcoords": [
           {
            "line": {
             "colorbar": {
              "outlinewidth": 0,
              "ticks": ""
             }
            },
            "type": "parcoords"
           }
          ],
          "pie": [
           {
            "automargin": true,
            "type": "pie"
           }
          ],
          "scatter": [
           {
            "fillpattern": {
             "fillmode": "overlay",
             "size": 10,
             "solidity": 0.2
            },
            "type": "scatter"
           }
          ],
          "scatter3d": [
           {
            "line": {
             "colorbar": {
              "outlinewidth": 0,
              "ticks": ""
             }
            },
            "marker": {
             "colorbar": {
              "outlinewidth": 0,
              "ticks": ""
             }
            },
            "type": "scatter3d"
           }
          ],
          "scattercarpet": [
           {
            "marker": {
             "colorbar": {
              "outlinewidth": 0,
              "ticks": ""
             }
            },
            "type": "scattercarpet"
           }
          ],
          "scattergeo": [
           {
            "marker": {
             "colorbar": {
              "outlinewidth": 0,
              "ticks": ""
             }
            },
            "type": "scattergeo"
           }
          ],
          "scattergl": [
           {
            "marker": {
             "colorbar": {
              "outlinewidth": 0,
              "ticks": ""
             }
            },
            "type": "scattergl"
           }
          ],
          "scattermap": [
           {
            "marker": {
             "colorbar": {
              "outlinewidth": 0,
              "ticks": ""
             }
            },
            "type": "scattermap"
           }
          ],
          "scattermapbox": [
           {
            "marker": {
             "colorbar": {
              "outlinewidth": 0,
              "ticks": ""
             }
            },
            "type": "scattermapbox"
           }
          ],
          "scatterpolar": [
           {
            "marker": {
             "colorbar": {
              "outlinewidth": 0,
              "ticks": ""
             }
            },
            "type": "scatterpolar"
           }
          ],
          "scatterpolargl": [
           {
            "marker": {
             "colorbar": {
              "outlinewidth": 0,
              "ticks": ""
             }
            },
            "type": "scatterpolargl"
           }
          ],
          "scatterternary": [
           {
            "marker": {
             "colorbar": {
              "outlinewidth": 0,
              "ticks": ""
             }
            },
            "type": "scatterternary"
           }
          ],
          "surface": [
           {
            "colorbar": {
             "outlinewidth": 0,
             "ticks": ""
            },
            "colorscale": [
             [
              0,
              "#0d0887"
             ],
             [
              0.1111111111111111,
              "#46039f"
             ],
             [
              0.2222222222222222,
              "#7201a8"
             ],
             [
              0.3333333333333333,
              "#9c179e"
             ],
             [
              0.4444444444444444,
              "#bd3786"
             ],
             [
              0.5555555555555556,
              "#d8576b"
             ],
             [
              0.6666666666666666,
              "#ed7953"
             ],
             [
              0.7777777777777778,
              "#fb9f3a"
             ],
             [
              0.8888888888888888,
              "#fdca26"
             ],
             [
              1,
              "#f0f921"
             ]
            ],
            "type": "surface"
           }
          ],
          "table": [
           {
            "cells": {
             "fill": {
              "color": "#EBF0F8"
             },
             "line": {
              "color": "white"
             }
            },
            "header": {
             "fill": {
              "color": "#C8D4E3"
             },
             "line": {
              "color": "white"
             }
            },
            "type": "table"
           }
          ]
         },
         "layout": {
          "annotationdefaults": {
           "arrowcolor": "#2a3f5f",
           "arrowhead": 0,
           "arrowwidth": 1
          },
          "autotypenumbers": "strict",
          "coloraxis": {
           "colorbar": {
            "outlinewidth": 0,
            "ticks": ""
           }
          },
          "colorscale": {
           "diverging": [
            [
             0,
             "#8e0152"
            ],
            [
             0.1,
             "#c51b7d"
            ],
            [
             0.2,
             "#de77ae"
            ],
            [
             0.3,
             "#f1b6da"
            ],
            [
             0.4,
             "#fde0ef"
            ],
            [
             0.5,
             "#f7f7f7"
            ],
            [
             0.6,
             "#e6f5d0"
            ],
            [
             0.7,
             "#b8e186"
            ],
            [
             0.8,
             "#7fbc41"
            ],
            [
             0.9,
             "#4d9221"
            ],
            [
             1,
             "#276419"
            ]
           ],
           "sequential": [
            [
             0,
             "#0d0887"
            ],
            [
             0.1111111111111111,
             "#46039f"
            ],
            [
             0.2222222222222222,
             "#7201a8"
            ],
            [
             0.3333333333333333,
             "#9c179e"
            ],
            [
             0.4444444444444444,
             "#bd3786"
            ],
            [
             0.5555555555555556,
             "#d8576b"
            ],
            [
             0.6666666666666666,
             "#ed7953"
            ],
            [
             0.7777777777777778,
             "#fb9f3a"
            ],
            [
             0.8888888888888888,
             "#fdca26"
            ],
            [
             1,
             "#f0f921"
            ]
           ],
           "sequentialminus": [
            [
             0,
             "#0d0887"
            ],
            [
             0.1111111111111111,
             "#46039f"
            ],
            [
             0.2222222222222222,
             "#7201a8"
            ],
            [
             0.3333333333333333,
             "#9c179e"
            ],
            [
             0.4444444444444444,
             "#bd3786"
            ],
            [
             0.5555555555555556,
             "#d8576b"
            ],
            [
             0.6666666666666666,
             "#ed7953"
            ],
            [
             0.7777777777777778,
             "#fb9f3a"
            ],
            [
             0.8888888888888888,
             "#fdca26"
            ],
            [
             1,
             "#f0f921"
            ]
           ]
          },
          "colorway": [
           "#636efa",
           "#EF553B",
           "#00cc96",
           "#ab63fa",
           "#FFA15A",
           "#19d3f3",
           "#FF6692",
           "#B6E880",
           "#FF97FF",
           "#FECB52"
          ],
          "font": {
           "color": "#2a3f5f"
          },
          "geo": {
           "bgcolor": "white",
           "lakecolor": "white",
           "landcolor": "white",
           "showlakes": true,
           "showland": true,
           "subunitcolor": "#C8D4E3"
          },
          "hoverlabel": {
           "align": "left"
          },
          "hovermode": "closest",
          "mapbox": {
           "style": "light"
          },
          "paper_bgcolor": "white",
          "plot_bgcolor": "white",
          "polar": {
           "angularaxis": {
            "gridcolor": "#EBF0F8",
            "linecolor": "#EBF0F8",
            "ticks": ""
           },
           "bgcolor": "white",
           "radialaxis": {
            "gridcolor": "#EBF0F8",
            "linecolor": "#EBF0F8",
            "ticks": ""
           }
          },
          "scene": {
           "xaxis": {
            "backgroundcolor": "white",
            "gridcolor": "#DFE8F3",
            "gridwidth": 2,
            "linecolor": "#EBF0F8",
            "showbackground": true,
            "ticks": "",
            "zerolinecolor": "#EBF0F8"
           },
           "yaxis": {
            "backgroundcolor": "white",
            "gridcolor": "#DFE8F3",
            "gridwidth": 2,
            "linecolor": "#EBF0F8",
            "showbackground": true,
            "ticks": "",
            "zerolinecolor": "#EBF0F8"
           },
           "zaxis": {
            "backgroundcolor": "white",
            "gridcolor": "#DFE8F3",
            "gridwidth": 2,
            "linecolor": "#EBF0F8",
            "showbackground": true,
            "ticks": "",
            "zerolinecolor": "#EBF0F8"
           }
          },
          "shapedefaults": {
           "line": {
            "color": "#2a3f5f"
           }
          },
          "ternary": {
           "aaxis": {
            "gridcolor": "#DFE8F3",
            "linecolor": "#A2B1C6",
            "ticks": ""
           },
           "baxis": {
            "gridcolor": "#DFE8F3",
            "linecolor": "#A2B1C6",
            "ticks": ""
           },
           "bgcolor": "white",
           "caxis": {
            "gridcolor": "#DFE8F3",
            "linecolor": "#A2B1C6",
            "ticks": ""
           }
          },
          "title": {
           "x": 0.05
          },
          "xaxis": {
           "automargin": true,
           "gridcolor": "#EBF0F8",
           "linecolor": "#EBF0F8",
           "ticks": "",
           "title": {
            "standoff": 15
           },
           "zerolinecolor": "#EBF0F8",
           "zerolinewidth": 2
          },
          "yaxis": {
           "automargin": true,
           "gridcolor": "#EBF0F8",
           "linecolor": "#EBF0F8",
           "ticks": "",
           "title": {
            "standoff": 15
           },
           "zerolinecolor": "#EBF0F8",
           "zerolinewidth": 2
          }
         }
        },
        "title": {
         "text": "Conversion Rate per Stage"
        },
        "width": 1200,
        "xaxis": {
         "anchor": "y",
         "domain": [
          0,
          1
         ],
         "title": {
          "text": "Conversion Rate"
         }
        },
        "yaxis": {
         "anchor": "x",
         "domain": [
          0,
          1
         ],
         "title": {
          "text": "Events"
         }
        }
       }
      }
     },
     "metadata": {},
     "output_type": "display_data"
    }
   ],
   "source": [
    "plot_horizontal_bar_plotpx(df_fs_events, x='conversionstagerate', y='eventname', title='Conversion Rate per Stage', xlabel='Conversion Rate', ylabel='Events', sort=True)"
   ]
  },
  {
   "cell_type": "code",
   "execution_count": 16,
   "id": "1baa0bed",
   "metadata": {},
   "outputs": [
    {
     "data": {
      "application/vnd.plotly.v1+json": {
       "config": {
        "plotlyServerURL": "https://plot.ly"
       },
       "data": [
        {
         "hovertemplate": "droprate=%{x}<br>eventname=%{y}<extra></extra>",
         "legendgroup": "",
         "marker": {
          "color": "grey",
          "pattern": {
           "shape": ""
          }
         },
         "name": "",
         "orientation": "h",
         "showlegend": false,
         "textposition": "auto",
         "type": "bar",
         "x": {
          "bdata": "F9nO91PjFEDByqFFtrMyQM/3U+OlC0NAN4lBYOUQU0AAAAAAAAD4fw==",
          "dtype": "f8"
         },
         "xaxis": "x",
         "y": [
          "paymentscreensuccessful",
          "cartscreenappear",
          "offersscreenappear",
          "tutorial",
          "mainscreenappear"
         ],
         "yaxis": "y"
        }
       ],
       "layout": {
        "barmode": "relative",
        "height": 500,
        "legend": {
         "tracegroupgap": 0
        },
        "template": {
         "data": {
          "bar": [
           {
            "error_x": {
             "color": "#2a3f5f"
            },
            "error_y": {
             "color": "#2a3f5f"
            },
            "marker": {
             "line": {
              "color": "white",
              "width": 0.5
             },
             "pattern": {
              "fillmode": "overlay",
              "size": 10,
              "solidity": 0.2
             }
            },
            "type": "bar"
           }
          ],
          "barpolar": [
           {
            "marker": {
             "line": {
              "color": "white",
              "width": 0.5
             },
             "pattern": {
              "fillmode": "overlay",
              "size": 10,
              "solidity": 0.2
             }
            },
            "type": "barpolar"
           }
          ],
          "carpet": [
           {
            "aaxis": {
             "endlinecolor": "#2a3f5f",
             "gridcolor": "#C8D4E3",
             "linecolor": "#C8D4E3",
             "minorgridcolor": "#C8D4E3",
             "startlinecolor": "#2a3f5f"
            },
            "baxis": {
             "endlinecolor": "#2a3f5f",
             "gridcolor": "#C8D4E3",
             "linecolor": "#C8D4E3",
             "minorgridcolor": "#C8D4E3",
             "startlinecolor": "#2a3f5f"
            },
            "type": "carpet"
           }
          ],
          "choropleth": [
           {
            "colorbar": {
             "outlinewidth": 0,
             "ticks": ""
            },
            "type": "choropleth"
           }
          ],
          "contour": [
           {
            "colorbar": {
             "outlinewidth": 0,
             "ticks": ""
            },
            "colorscale": [
             [
              0,
              "#0d0887"
             ],
             [
              0.1111111111111111,
              "#46039f"
             ],
             [
              0.2222222222222222,
              "#7201a8"
             ],
             [
              0.3333333333333333,
              "#9c179e"
             ],
             [
              0.4444444444444444,
              "#bd3786"
             ],
             [
              0.5555555555555556,
              "#d8576b"
             ],
             [
              0.6666666666666666,
              "#ed7953"
             ],
             [
              0.7777777777777778,
              "#fb9f3a"
             ],
             [
              0.8888888888888888,
              "#fdca26"
             ],
             [
              1,
              "#f0f921"
             ]
            ],
            "type": "contour"
           }
          ],
          "contourcarpet": [
           {
            "colorbar": {
             "outlinewidth": 0,
             "ticks": ""
            },
            "type": "contourcarpet"
           }
          ],
          "heatmap": [
           {
            "colorbar": {
             "outlinewidth": 0,
             "ticks": ""
            },
            "colorscale": [
             [
              0,
              "#0d0887"
             ],
             [
              0.1111111111111111,
              "#46039f"
             ],
             [
              0.2222222222222222,
              "#7201a8"
             ],
             [
              0.3333333333333333,
              "#9c179e"
             ],
             [
              0.4444444444444444,
              "#bd3786"
             ],
             [
              0.5555555555555556,
              "#d8576b"
             ],
             [
              0.6666666666666666,
              "#ed7953"
             ],
             [
              0.7777777777777778,
              "#fb9f3a"
             ],
             [
              0.8888888888888888,
              "#fdca26"
             ],
             [
              1,
              "#f0f921"
             ]
            ],
            "type": "heatmap"
           }
          ],
          "histogram": [
           {
            "marker": {
             "pattern": {
              "fillmode": "overlay",
              "size": 10,
              "solidity": 0.2
             }
            },
            "type": "histogram"
           }
          ],
          "histogram2d": [
           {
            "colorbar": {
             "outlinewidth": 0,
             "ticks": ""
            },
            "colorscale": [
             [
              0,
              "#0d0887"
             ],
             [
              0.1111111111111111,
              "#46039f"
             ],
             [
              0.2222222222222222,
              "#7201a8"
             ],
             [
              0.3333333333333333,
              "#9c179e"
             ],
             [
              0.4444444444444444,
              "#bd3786"
             ],
             [
              0.5555555555555556,
              "#d8576b"
             ],
             [
              0.6666666666666666,
              "#ed7953"
             ],
             [
              0.7777777777777778,
              "#fb9f3a"
             ],
             [
              0.8888888888888888,
              "#fdca26"
             ],
             [
              1,
              "#f0f921"
             ]
            ],
            "type": "histogram2d"
           }
          ],
          "histogram2dcontour": [
           {
            "colorbar": {
             "outlinewidth": 0,
             "ticks": ""
            },
            "colorscale": [
             [
              0,
              "#0d0887"
             ],
             [
              0.1111111111111111,
              "#46039f"
             ],
             [
              0.2222222222222222,
              "#7201a8"
             ],
             [
              0.3333333333333333,
              "#9c179e"
             ],
             [
              0.4444444444444444,
              "#bd3786"
             ],
             [
              0.5555555555555556,
              "#d8576b"
             ],
             [
              0.6666666666666666,
              "#ed7953"
             ],
             [
              0.7777777777777778,
              "#fb9f3a"
             ],
             [
              0.8888888888888888,
              "#fdca26"
             ],
             [
              1,
              "#f0f921"
             ]
            ],
            "type": "histogram2dcontour"
           }
          ],
          "mesh3d": [
           {
            "colorbar": {
             "outlinewidth": 0,
             "ticks": ""
            },
            "type": "mesh3d"
           }
          ],
          "parcoords": [
           {
            "line": {
             "colorbar": {
              "outlinewidth": 0,
              "ticks": ""
             }
            },
            "type": "parcoords"
           }
          ],
          "pie": [
           {
            "automargin": true,
            "type": "pie"
           }
          ],
          "scatter": [
           {
            "fillpattern": {
             "fillmode": "overlay",
             "size": 10,
             "solidity": 0.2
            },
            "type": "scatter"
           }
          ],
          "scatter3d": [
           {
            "line": {
             "colorbar": {
              "outlinewidth": 0,
              "ticks": ""
             }
            },
            "marker": {
             "colorbar": {
              "outlinewidth": 0,
              "ticks": ""
             }
            },
            "type": "scatter3d"
           }
          ],
          "scattercarpet": [
           {
            "marker": {
             "colorbar": {
              "outlinewidth": 0,
              "ticks": ""
             }
            },
            "type": "scattercarpet"
           }
          ],
          "scattergeo": [
           {
            "marker": {
             "colorbar": {
              "outlinewidth": 0,
              "ticks": ""
             }
            },
            "type": "scattergeo"
           }
          ],
          "scattergl": [
           {
            "marker": {
             "colorbar": {
              "outlinewidth": 0,
              "ticks": ""
             }
            },
            "type": "scattergl"
           }
          ],
          "scattermap": [
           {
            "marker": {
             "colorbar": {
              "outlinewidth": 0,
              "ticks": ""
             }
            },
            "type": "scattermap"
           }
          ],
          "scattermapbox": [
           {
            "marker": {
             "colorbar": {
              "outlinewidth": 0,
              "ticks": ""
             }
            },
            "type": "scattermapbox"
           }
          ],
          "scatterpolar": [
           {
            "marker": {
             "colorbar": {
              "outlinewidth": 0,
              "ticks": ""
             }
            },
            "type": "scatterpolar"
           }
          ],
          "scatterpolargl": [
           {
            "marker": {
             "colorbar": {
              "outlinewidth": 0,
              "ticks": ""
             }
            },
            "type": "scatterpolargl"
           }
          ],
          "scatterternary": [
           {
            "marker": {
             "colorbar": {
              "outlinewidth": 0,
              "ticks": ""
             }
            },
            "type": "scatterternary"
           }
          ],
          "surface": [
           {
            "colorbar": {
             "outlinewidth": 0,
             "ticks": ""
            },
            "colorscale": [
             [
              0,
              "#0d0887"
             ],
             [
              0.1111111111111111,
              "#46039f"
             ],
             [
              0.2222222222222222,
              "#7201a8"
             ],
             [
              0.3333333333333333,
              "#9c179e"
             ],
             [
              0.4444444444444444,
              "#bd3786"
             ],
             [
              0.5555555555555556,
              "#d8576b"
             ],
             [
              0.6666666666666666,
              "#ed7953"
             ],
             [
              0.7777777777777778,
              "#fb9f3a"
             ],
             [
              0.8888888888888888,
              "#fdca26"
             ],
             [
              1,
              "#f0f921"
             ]
            ],
            "type": "surface"
           }
          ],
          "table": [
           {
            "cells": {
             "fill": {
              "color": "#EBF0F8"
             },
             "line": {
              "color": "white"
             }
            },
            "header": {
             "fill": {
              "color": "#C8D4E3"
             },
             "line": {
              "color": "white"
             }
            },
            "type": "table"
           }
          ]
         },
         "layout": {
          "annotationdefaults": {
           "arrowcolor": "#2a3f5f",
           "arrowhead": 0,
           "arrowwidth": 1
          },
          "autotypenumbers": "strict",
          "coloraxis": {
           "colorbar": {
            "outlinewidth": 0,
            "ticks": ""
           }
          },
          "colorscale": {
           "diverging": [
            [
             0,
             "#8e0152"
            ],
            [
             0.1,
             "#c51b7d"
            ],
            [
             0.2,
             "#de77ae"
            ],
            [
             0.3,
             "#f1b6da"
            ],
            [
             0.4,
             "#fde0ef"
            ],
            [
             0.5,
             "#f7f7f7"
            ],
            [
             0.6,
             "#e6f5d0"
            ],
            [
             0.7,
             "#b8e186"
            ],
            [
             0.8,
             "#7fbc41"
            ],
            [
             0.9,
             "#4d9221"
            ],
            [
             1,
             "#276419"
            ]
           ],
           "sequential": [
            [
             0,
             "#0d0887"
            ],
            [
             0.1111111111111111,
             "#46039f"
            ],
            [
             0.2222222222222222,
             "#7201a8"
            ],
            [
             0.3333333333333333,
             "#9c179e"
            ],
            [
             0.4444444444444444,
             "#bd3786"
            ],
            [
             0.5555555555555556,
             "#d8576b"
            ],
            [
             0.6666666666666666,
             "#ed7953"
            ],
            [
             0.7777777777777778,
             "#fb9f3a"
            ],
            [
             0.8888888888888888,
             "#fdca26"
            ],
            [
             1,
             "#f0f921"
            ]
           ],
           "sequentialminus": [
            [
             0,
             "#0d0887"
            ],
            [
             0.1111111111111111,
             "#46039f"
            ],
            [
             0.2222222222222222,
             "#7201a8"
            ],
            [
             0.3333333333333333,
             "#9c179e"
            ],
            [
             0.4444444444444444,
             "#bd3786"
            ],
            [
             0.5555555555555556,
             "#d8576b"
            ],
            [
             0.6666666666666666,
             "#ed7953"
            ],
            [
             0.7777777777777778,
             "#fb9f3a"
            ],
            [
             0.8888888888888888,
             "#fdca26"
            ],
            [
             1,
             "#f0f921"
            ]
           ]
          },
          "colorway": [
           "#636efa",
           "#EF553B",
           "#00cc96",
           "#ab63fa",
           "#FFA15A",
           "#19d3f3",
           "#FF6692",
           "#B6E880",
           "#FF97FF",
           "#FECB52"
          ],
          "font": {
           "color": "#2a3f5f"
          },
          "geo": {
           "bgcolor": "white",
           "lakecolor": "white",
           "landcolor": "white",
           "showlakes": true,
           "showland": true,
           "subunitcolor": "#C8D4E3"
          },
          "hoverlabel": {
           "align": "left"
          },
          "hovermode": "closest",
          "mapbox": {
           "style": "light"
          },
          "paper_bgcolor": "white",
          "plot_bgcolor": "white",
          "polar": {
           "angularaxis": {
            "gridcolor": "#EBF0F8",
            "linecolor": "#EBF0F8",
            "ticks": ""
           },
           "bgcolor": "white",
           "radialaxis": {
            "gridcolor": "#EBF0F8",
            "linecolor": "#EBF0F8",
            "ticks": ""
           }
          },
          "scene": {
           "xaxis": {
            "backgroundcolor": "white",
            "gridcolor": "#DFE8F3",
            "gridwidth": 2,
            "linecolor": "#EBF0F8",
            "showbackground": true,
            "ticks": "",
            "zerolinecolor": "#EBF0F8"
           },
           "yaxis": {
            "backgroundcolor": "white",
            "gridcolor": "#DFE8F3",
            "gridwidth": 2,
            "linecolor": "#EBF0F8",
            "showbackground": true,
            "ticks": "",
            "zerolinecolor": "#EBF0F8"
           },
           "zaxis": {
            "backgroundcolor": "white",
            "gridcolor": "#DFE8F3",
            "gridwidth": 2,
            "linecolor": "#EBF0F8",
            "showbackground": true,
            "ticks": "",
            "zerolinecolor": "#EBF0F8"
           }
          },
          "shapedefaults": {
           "line": {
            "color": "#2a3f5f"
           }
          },
          "ternary": {
           "aaxis": {
            "gridcolor": "#DFE8F3",
            "linecolor": "#A2B1C6",
            "ticks": ""
           },
           "baxis": {
            "gridcolor": "#DFE8F3",
            "linecolor": "#A2B1C6",
            "ticks": ""
           },
           "bgcolor": "white",
           "caxis": {
            "gridcolor": "#DFE8F3",
            "linecolor": "#A2B1C6",
            "ticks": ""
           }
          },
          "title": {
           "x": 0.05
          },
          "xaxis": {
           "automargin": true,
           "gridcolor": "#EBF0F8",
           "linecolor": "#EBF0F8",
           "ticks": "",
           "title": {
            "standoff": 15
           },
           "zerolinecolor": "#EBF0F8",
           "zerolinewidth": 2
          },
          "yaxis": {
           "automargin": true,
           "gridcolor": "#EBF0F8",
           "linecolor": "#EBF0F8",
           "ticks": "",
           "title": {
            "standoff": 15
           },
           "zerolinecolor": "#EBF0F8",
           "zerolinewidth": 2
          }
         }
        },
        "title": {
         "text": "Drop Rate per Stage"
        },
        "width": 1200,
        "xaxis": {
         "anchor": "y",
         "domain": [
          0,
          1
         ],
         "title": {
          "text": "Drop Rate"
         }
        },
        "yaxis": {
         "anchor": "x",
         "domain": [
          0,
          1
         ],
         "title": {
          "text": "Events"
         }
        }
       }
      }
     },
     "metadata": {},
     "output_type": "display_data"
    }
   ],
   "source": [
    "plot_horizontal_bar_plotpx(df_fs_events, x='droprate', y='eventname', title='Drop Rate per Stage', xlabel='Drop Rate', ylabel='Events', sort=True)"
   ]
  },
  {
   "cell_type": "code",
   "execution_count": 18,
   "id": "07ed897d",
   "metadata": {},
   "outputs": [
    {
     "data": {
      "text/html": [
       "> User rate through complete funnel: 47.702%"
      ],
      "text/plain": [
       "<IPython.core.display.HTML object>"
      ]
     },
     "metadata": {},
     "output_type": "display_data"
    }
   ],
   "source": [
    "# Percentage of users who complete the entire journey from their first interaction to making a purchase\n",
    "display(HTML(f\"> User rate through complete funnel: {((df_fs_events.loc[3, 'users'] / df_fs_events.loc[0, 'users']) * 100):.3f}%\"))"
   ]
  }
 ],
 "metadata": {
  "kernelspec": {
   "display_name": "Win11_Python-PipVenv-Github-Hmb7GD39",
   "language": "python",
   "name": "python3"
  },
  "language_info": {
   "codemirror_mode": {
    "name": "ipython",
    "version": 3
   },
   "file_extension": ".py",
   "mimetype": "text/x-python",
   "name": "python",
   "nbconvert_exporter": "python",
   "pygments_lexer": "ipython3",
   "version": "3.13.2"
  }
 },
 "nbformat": 4,
 "nbformat_minor": 5
}
