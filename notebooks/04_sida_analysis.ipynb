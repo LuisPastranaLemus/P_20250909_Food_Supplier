{
 "cells": [
  {
   "cell_type": "markdown",
   "id": "911331c4",
   "metadata": {},
   "source": [
    "#### Statistical Data Analysis\n",
    "\n",
    "Dataset: \n",
    "\n",
    "- _fs_norm.csv_\n",
    "\n",
    "Author: Luis Sergio Pastrana Lemus  \n",
    "Date: 2025-09-09"
   ]
  },
  {
   "cell_type": "markdown",
   "id": "70ebb733",
   "metadata": {},
   "source": [
    "# Statistical Inference Data Analysis – xxx Activity Dataset"
   ]
  },
  {
   "cell_type": "markdown",
   "id": "8aa46ca9",
   "metadata": {},
   "source": [
    "## __1. Libraries__."
   ]
  },
  {
   "cell_type": "code",
   "execution_count": 1,
   "id": "9a1c1750",
   "metadata": {},
   "outputs": [],
   "source": [
    "from pathlib import Path\n",
    "import sys\n",
    "\n",
    "# Define project root dynamically, gets the current directory from which the notebook belongs and moves one level upper\n",
    "project_root = Path.cwd().parent\n",
    "\n",
    "# Add src to sys.path if it is not already\n",
    "if str(project_root) not in sys.path:\n",
    "\n",
    "    sys.path.append(str(project_root))\n",
    "\n",
    "# Import function directly (more controlled than import *)\n",
    "from src import *\n",
    "\n",
    "\n",
    "from IPython.display import display, HTML\n",
    "import os\n",
    "import pandas as pd\n",
    "import scipy.stats as st\n",
    "from statsmodels.stats.proportion import proportions_ztest\n",
    "import numpy as np\n"
   ]
  },
  {
   "cell_type": "markdown",
   "id": "b2219c83",
   "metadata": {},
   "source": [
    "## __2. Path to Data file__."
   ]
  },
  {
   "cell_type": "code",
   "execution_count": 2,
   "id": "d7fa5a07",
   "metadata": {},
   "outputs": [],
   "source": [
    "# Build route to data file and upload\n",
    "data_file_path = project_root / \"data\" / \"processed\" / \"clean\"\n",
    "df_fs = load_dataset_from_csv(data_file_path, \"fs_norm.csv\", sep=',', header='infer')"
   ]
  },
  {
   "cell_type": "markdown",
   "id": "39cb9aa4",
   "metadata": {},
   "source": [
    "## __3. Statistical Data Analysis__."
   ]
  },
  {
   "cell_type": "markdown",
   "id": "d1f217d4",
   "metadata": {},
   "source": [
    "### 3.1  Inferential Tests."
   ]
  },
  {
   "cell_type": "markdown",
   "id": "b70ef157",
   "metadata": {},
   "source": [
    "#### 3.1.0  Data Analysis prior to A/B test"
   ]
  },
  {
   "cell_type": "code",
   "execution_count": 3,
   "id": "83e67ba0",
   "metadata": {},
   "outputs": [
    {
     "data": {
      "application/vnd.microsoft.datawrangler.viewer.v0+json": {
       "columns": [
        {
         "name": "index",
         "rawType": "int64",
         "type": "integer"
        },
        {
         "name": "eventname",
         "rawType": "object",
         "type": "string"
        },
        {
         "name": "deviceidhash",
         "rawType": "int64",
         "type": "integer"
        },
        {
         "name": "datetime",
         "rawType": "object",
         "type": "string"
        },
        {
         "name": "expid",
         "rawType": "int64",
         "type": "integer"
        },
        {
         "name": "date",
         "rawType": "object",
         "type": "string"
        },
        {
         "name": "time",
         "rawType": "object",
         "type": "string"
        }
       ],
       "ref": "496556b2-bdd9-4c81-9748-021db3a2434a",
       "rows": [
        [
         "0",
         "tutorial",
         "3737462046622621720",
         "2019-08-01 00:07:28+00:00",
         "246",
         "2019-08-01",
         "00:07:28"
        ],
        [
         "1",
         "mainscreenappear",
         "3737462046622621720",
         "2019-08-01 00:08:00+00:00",
         "246",
         "2019-08-01",
         "00:08:00"
        ],
        [
         "2",
         "mainscreenappear",
         "3737462046622621720",
         "2019-08-01 00:08:55+00:00",
         "246",
         "2019-08-01",
         "00:08:55"
        ],
        [
         "3",
         "offersscreenappear",
         "3737462046622621720",
         "2019-08-01 00:08:58+00:00",
         "246",
         "2019-08-01",
         "00:08:58"
        ],
        [
         "4",
         "mainscreenappear",
         "1433840883824088890",
         "2019-08-01 00:08:59+00:00",
         "247",
         "2019-08-01",
         "00:08:59"
        ],
        [
         "5",
         "mainscreenappear",
         "4899590676214355127",
         "2019-08-01 00:10:15+00:00",
         "247",
         "2019-08-01",
         "00:10:15"
        ],
        [
         "6",
         "offersscreenappear",
         "3737462046622621720",
         "2019-08-01 00:10:26+00:00",
         "246",
         "2019-08-01",
         "00:10:26"
        ],
        [
         "7",
         "mainscreenappear",
         "3737462046622621720",
         "2019-08-01 00:10:47+00:00",
         "246",
         "2019-08-01",
         "00:10:47"
        ],
        [
         "8",
         "mainscreenappear",
         "3737462046622621720",
         "2019-08-01 00:11:10+00:00",
         "246",
         "2019-08-01",
         "00:11:10"
        ],
        [
         "9",
         "mainscreenappear",
         "3737462046622621720",
         "2019-08-01 00:11:20+00:00",
         "246",
         "2019-08-01",
         "00:11:20"
        ],
        [
         "10",
         "mainscreenappear",
         "4899590676214355127",
         "2019-08-01 00:11:28+00:00",
         "247",
         "2019-08-01",
         "00:11:28"
        ],
        [
         "11",
         "offersscreenappear",
         "4899590676214355127",
         "2019-08-01 00:11:30+00:00",
         "247",
         "2019-08-01",
         "00:11:30"
        ],
        [
         "12",
         "mainscreenappear",
         "1182179323890311443",
         "2019-08-01 00:11:57+00:00",
         "246",
         "2019-08-01",
         "00:11:57"
        ],
        [
         "13",
         "tutorial",
         "3737462046622621720",
         "2019-08-01 00:12:18+00:00",
         "246",
         "2019-08-01",
         "00:12:18"
        ],
        [
         "14",
         "mainscreenappear",
         "3737462046622621720",
         "2019-08-01 00:12:34+00:00",
         "246",
         "2019-08-01",
         "00:12:34"
        ],
        [
         "15",
         "offersscreenappear",
         "4899590676214355127",
         "2019-08-01 00:12:36+00:00",
         "247",
         "2019-08-01",
         "00:12:36"
        ],
        [
         "16",
         "mainscreenappear",
         "4613461174774205834",
         "2019-08-01 00:14:31+00:00",
         "248",
         "2019-08-01",
         "00:14:31"
        ],
        [
         "17",
         "mainscreenappear",
         "4613461174774205834",
         "2019-08-01 00:14:34+00:00",
         "248",
         "2019-08-01",
         "00:14:34"
        ],
        [
         "18",
         "cartscreenappear",
         "4613461174774205834",
         "2019-08-01 00:14:34+00:00",
         "248",
         "2019-08-01",
         "00:14:34"
        ],
        [
         "19",
         "paymentscreensuccessful",
         "4613461174774205834",
         "2019-08-01 00:14:43+00:00",
         "248",
         "2019-08-01",
         "00:14:43"
        ],
        [
         "20",
         "offersscreenappear",
         "4613461174774205834",
         "2019-08-01 00:14:51+00:00",
         "248",
         "2019-08-01",
         "00:14:51"
        ],
        [
         "21",
         "mainscreenappear",
         "205293431553451771",
         "2019-08-01 00:15:11+00:00",
         "246",
         "2019-08-01",
         "00:15:11"
        ],
        [
         "22",
         "mainscreenappear",
         "205293431553451771",
         "2019-08-01 00:15:15+00:00",
         "246",
         "2019-08-01",
         "00:15:15"
        ],
        [
         "23",
         "mainscreenappear",
         "205293431553451771",
         "2019-08-01 00:15:18+00:00",
         "246",
         "2019-08-01",
         "00:15:18"
        ],
        [
         "24",
         "mainscreenappear",
         "6121366368901703338",
         "2019-08-01 00:15:50+00:00",
         "248",
         "2019-08-01",
         "00:15:50"
        ],
        [
         "25",
         "offersscreenappear",
         "6121366368901703338",
         "2019-08-01 00:15:54+00:00",
         "248",
         "2019-08-01",
         "00:15:54"
        ],
        [
         "26",
         "mainscreenappear",
         "205293431553451771",
         "2019-08-01 00:16:05+00:00",
         "246",
         "2019-08-01",
         "00:16:05"
        ],
        [
         "27",
         "mainscreenappear",
         "6022375714473447159",
         "2019-08-01 00:16:38+00:00",
         "248",
         "2019-08-01",
         "00:16:38"
        ],
        [
         "28",
         "mainscreenappear",
         "6022375714473447159",
         "2019-08-01 00:17:01+00:00",
         "248",
         "2019-08-01",
         "00:17:01"
        ],
        [
         "29",
         "offersscreenappear",
         "6022375714473447159",
         "2019-08-01 00:17:07+00:00",
         "248",
         "2019-08-01",
         "00:17:07"
        ],
        [
         "30",
         "mainscreenappear",
         "205293431553451771",
         "2019-08-01 00:17:08+00:00",
         "246",
         "2019-08-01",
         "00:17:08"
        ],
        [
         "31",
         "mainscreenappear",
         "6022375714473447159",
         "2019-08-01 00:20:11+00:00",
         "248",
         "2019-08-01",
         "00:20:11"
        ],
        [
         "32",
         "mainscreenappear",
         "205293431553451771",
         "2019-08-01 00:20:21+00:00",
         "246",
         "2019-08-01",
         "00:20:21"
        ],
        [
         "33",
         "mainscreenappear",
         "6022375714473447159",
         "2019-08-01 00:22:11+00:00",
         "248",
         "2019-08-01",
         "00:22:11"
        ],
        [
         "34",
         "mainscreenappear",
         "2712290788139738557",
         "2019-08-01 00:22:41+00:00",
         "247",
         "2019-08-01",
         "00:22:41"
        ],
        [
         "35",
         "paymentscreensuccessful",
         "2712290788139738557",
         "2019-08-01 00:22:44+00:00",
         "247",
         "2019-08-01",
         "00:22:44"
        ],
        [
         "36",
         "cartscreenappear",
         "2712290788139738557",
         "2019-08-01 00:22:45+00:00",
         "247",
         "2019-08-01",
         "00:22:45"
        ],
        [
         "37",
         "mainscreenappear",
         "2712290788139738557",
         "2019-08-01 00:22:45+00:00",
         "247",
         "2019-08-01",
         "00:22:45"
        ],
        [
         "38",
         "offersscreenappear",
         "2712290788139738557",
         "2019-08-01 00:22:53+00:00",
         "247",
         "2019-08-01",
         "00:22:53"
        ],
        [
         "39",
         "paymentscreensuccessful",
         "2712290788139738557",
         "2019-08-01 00:23:08+00:00",
         "247",
         "2019-08-01",
         "00:23:08"
        ],
        [
         "40",
         "cartscreenappear",
         "2712290788139738557",
         "2019-08-01 00:23:09+00:00",
         "247",
         "2019-08-01",
         "00:23:09"
        ],
        [
         "41",
         "mainscreenappear",
         "6022375714473447159",
         "2019-08-01 00:23:17+00:00",
         "248",
         "2019-08-01",
         "00:23:17"
        ],
        [
         "42",
         "cartscreenappear",
         "2712290788139738557",
         "2019-08-01 00:23:20+00:00",
         "247",
         "2019-08-01",
         "00:23:20"
        ],
        [
         "43",
         "paymentscreensuccessful",
         "2712290788139738557",
         "2019-08-01 00:23:20+00:00",
         "247",
         "2019-08-01",
         "00:23:20"
        ],
        [
         "44",
         "mainscreenappear",
         "6022375714473447159",
         "2019-08-01 00:23:24+00:00",
         "248",
         "2019-08-01",
         "00:23:24"
        ],
        [
         "45",
         "paymentscreensuccessful",
         "2712290788139738557",
         "2019-08-01 00:23:34+00:00",
         "247",
         "2019-08-01",
         "00:23:34"
        ],
        [
         "46",
         "cartscreenappear",
         "2712290788139738557",
         "2019-08-01 00:23:35+00:00",
         "247",
         "2019-08-01",
         "00:23:35"
        ],
        [
         "47",
         "cartscreenappear",
         "2712290788139738557",
         "2019-08-01 00:23:50+00:00",
         "247",
         "2019-08-01",
         "00:23:50"
        ],
        [
         "48",
         "paymentscreensuccessful",
         "2712290788139738557",
         "2019-08-01 00:23:50+00:00",
         "247",
         "2019-08-01",
         "00:23:50"
        ],
        [
         "49",
         "mainscreenappear",
         "1433840883824088890",
         "2019-08-01 00:23:55+00:00",
         "247",
         "2019-08-01",
         "00:23:55"
        ]
       ],
       "shape": {
        "columns": 6,
        "rows": 240887
       }
      },
      "text/html": [
       "<div>\n",
       "<style scoped>\n",
       "    .dataframe tbody tr th:only-of-type {\n",
       "        vertical-align: middle;\n",
       "    }\n",
       "\n",
       "    .dataframe tbody tr th {\n",
       "        vertical-align: top;\n",
       "    }\n",
       "\n",
       "    .dataframe thead th {\n",
       "        text-align: right;\n",
       "    }\n",
       "</style>\n",
       "<table border=\"1\" class=\"dataframe\">\n",
       "  <thead>\n",
       "    <tr style=\"text-align: right;\">\n",
       "      <th></th>\n",
       "      <th>eventname</th>\n",
       "      <th>deviceidhash</th>\n",
       "      <th>datetime</th>\n",
       "      <th>expid</th>\n",
       "      <th>date</th>\n",
       "      <th>time</th>\n",
       "    </tr>\n",
       "  </thead>\n",
       "  <tbody>\n",
       "    <tr>\n",
       "      <th>0</th>\n",
       "      <td>tutorial</td>\n",
       "      <td>37374620466...</td>\n",
       "      <td>2019-08-01 ...</td>\n",
       "      <td>246</td>\n",
       "      <td>2019-08-01</td>\n",
       "      <td>00:07:28</td>\n",
       "    </tr>\n",
       "    <tr>\n",
       "      <th>1</th>\n",
       "      <td>mainscreena...</td>\n",
       "      <td>37374620466...</td>\n",
       "      <td>2019-08-01 ...</td>\n",
       "      <td>246</td>\n",
       "      <td>2019-08-01</td>\n",
       "      <td>00:08:00</td>\n",
       "    </tr>\n",
       "    <tr>\n",
       "      <th>2</th>\n",
       "      <td>mainscreena...</td>\n",
       "      <td>37374620466...</td>\n",
       "      <td>2019-08-01 ...</td>\n",
       "      <td>246</td>\n",
       "      <td>2019-08-01</td>\n",
       "      <td>00:08:55</td>\n",
       "    </tr>\n",
       "    <tr>\n",
       "      <th>3</th>\n",
       "      <td>offersscree...</td>\n",
       "      <td>37374620466...</td>\n",
       "      <td>2019-08-01 ...</td>\n",
       "      <td>246</td>\n",
       "      <td>2019-08-01</td>\n",
       "      <td>00:08:58</td>\n",
       "    </tr>\n",
       "    <tr>\n",
       "      <th>4</th>\n",
       "      <td>mainscreena...</td>\n",
       "      <td>14338408838...</td>\n",
       "      <td>2019-08-01 ...</td>\n",
       "      <td>247</td>\n",
       "      <td>2019-08-01</td>\n",
       "      <td>00:08:59</td>\n",
       "    </tr>\n",
       "    <tr>\n",
       "      <th>...</th>\n",
       "      <td>...</td>\n",
       "      <td>...</td>\n",
       "      <td>...</td>\n",
       "      <td>...</td>\n",
       "      <td>...</td>\n",
       "      <td>...</td>\n",
       "    </tr>\n",
       "    <tr>\n",
       "      <th>240882</th>\n",
       "      <td>mainscreena...</td>\n",
       "      <td>45996283640...</td>\n",
       "      <td>2019-08-07 ...</td>\n",
       "      <td>247</td>\n",
       "      <td>2019-08-07</td>\n",
       "      <td>21:12:25</td>\n",
       "    </tr>\n",
       "    <tr>\n",
       "      <th>240883</th>\n",
       "      <td>mainscreena...</td>\n",
       "      <td>58498066124...</td>\n",
       "      <td>2019-08-07 ...</td>\n",
       "      <td>246</td>\n",
       "      <td>2019-08-07</td>\n",
       "      <td>21:13:59</td>\n",
       "    </tr>\n",
       "    <tr>\n",
       "      <th>240884</th>\n",
       "      <td>mainscreena...</td>\n",
       "      <td>57469699388...</td>\n",
       "      <td>2019-08-07 ...</td>\n",
       "      <td>246</td>\n",
       "      <td>2019-08-07</td>\n",
       "      <td>21:14:43</td>\n",
       "    </tr>\n",
       "    <tr>\n",
       "      <th>240885</th>\n",
       "      <td>mainscreena...</td>\n",
       "      <td>57469699388...</td>\n",
       "      <td>2019-08-07 ...</td>\n",
       "      <td>246</td>\n",
       "      <td>2019-08-07</td>\n",
       "      <td>21:14:58</td>\n",
       "    </tr>\n",
       "    <tr>\n",
       "      <th>240886</th>\n",
       "      <td>offersscree...</td>\n",
       "      <td>57469699388...</td>\n",
       "      <td>2019-08-07 ...</td>\n",
       "      <td>246</td>\n",
       "      <td>2019-08-07</td>\n",
       "      <td>21:15:17</td>\n",
       "    </tr>\n",
       "  </tbody>\n",
       "</table>\n",
       "<p>240887 rows × 6 columns</p>\n",
       "</div>"
      ],
      "text/plain": [
       "             eventname    deviceidhash        datetime  expid        date      time\n",
       "0             tutorial  37374620466...  2019-08-01 ...    246  2019-08-01  00:07:28\n",
       "1       mainscreena...  37374620466...  2019-08-01 ...    246  2019-08-01  00:08:00\n",
       "2       mainscreena...  37374620466...  2019-08-01 ...    246  2019-08-01  00:08:55\n",
       "3       offersscree...  37374620466...  2019-08-01 ...    246  2019-08-01  00:08:58\n",
       "4       mainscreena...  14338408838...  2019-08-01 ...    247  2019-08-01  00:08:59\n",
       "...                ...             ...             ...    ...         ...       ...\n",
       "240882  mainscreena...  45996283640...  2019-08-07 ...    247  2019-08-07  21:12:25\n",
       "240883  mainscreena...  58498066124...  2019-08-07 ...    246  2019-08-07  21:13:59\n",
       "240884  mainscreena...  57469699388...  2019-08-07 ...    246  2019-08-07  21:14:43\n",
       "240885  mainscreena...  57469699388...  2019-08-07 ...    246  2019-08-07  21:14:58\n",
       "240886  offersscree...  57469699388...  2019-08-07 ...    246  2019-08-07  21:15:17\n",
       "\n",
       "[240887 rows x 6 columns]"
      ]
     },
     "execution_count": 3,
     "metadata": {},
     "output_type": "execute_result"
    }
   ],
   "source": [
    "df_fs"
   ]
  },
  {
   "cell_type": "code",
   "execution_count": 4,
   "id": "257669e5",
   "metadata": {},
   "outputs": [
    {
     "data": {
      "application/vnd.microsoft.datawrangler.viewer.v0+json": {
       "columns": [
        {
         "name": "index",
         "rawType": "int64",
         "type": "integer"
        },
        {
         "name": "group",
         "rawType": "int64",
         "type": "integer"
        },
        {
         "name": "users",
         "rawType": "int64",
         "type": "integer"
        }
       ],
       "ref": "f09b8162-0484-49d8-aa1c-b4b27402753b",
       "rows": [
        [
         "0",
         "246",
         "2484"
        ],
        [
         "1",
         "247",
         "2513"
        ],
        [
         "2",
         "248",
         "2537"
        ]
       ],
       "shape": {
        "columns": 2,
        "rows": 3
       }
      },
      "text/html": [
       "<div>\n",
       "<style scoped>\n",
       "    .dataframe tbody tr th:only-of-type {\n",
       "        vertical-align: middle;\n",
       "    }\n",
       "\n",
       "    .dataframe tbody tr th {\n",
       "        vertical-align: top;\n",
       "    }\n",
       "\n",
       "    .dataframe thead th {\n",
       "        text-align: right;\n",
       "    }\n",
       "</style>\n",
       "<table border=\"1\" class=\"dataframe\">\n",
       "  <thead>\n",
       "    <tr style=\"text-align: right;\">\n",
       "      <th></th>\n",
       "      <th>group</th>\n",
       "      <th>users</th>\n",
       "    </tr>\n",
       "  </thead>\n",
       "  <tbody>\n",
       "    <tr>\n",
       "      <th>0</th>\n",
       "      <td>246</td>\n",
       "      <td>2484</td>\n",
       "    </tr>\n",
       "    <tr>\n",
       "      <th>1</th>\n",
       "      <td>247</td>\n",
       "      <td>2513</td>\n",
       "    </tr>\n",
       "    <tr>\n",
       "      <th>2</th>\n",
       "      <td>248</td>\n",
       "      <td>2537</td>\n",
       "    </tr>\n",
       "  </tbody>\n",
       "</table>\n",
       "</div>"
      ],
      "text/plain": [
       "   group  users\n",
       "0    246   2484\n",
       "1    247   2513\n",
       "2    248   2537"
      ]
     },
     "execution_count": 4,
     "metadata": {},
     "output_type": "execute_result"
    }
   ],
   "source": [
    "# Amount of users are in each group\n",
    "df_fs_users_group = df_fs.groupby('expid')['deviceidhash'].nunique().reset_index()\n",
    "df_fs_users_group = df_fs_users_group.rename(columns={'expid': 'group', 'deviceidhash': 'users'})\n",
    "df_fs_users_group"
   ]
  },
  {
   "cell_type": "markdown",
   "id": "39669855",
   "metadata": {},
   "source": [
    "#### 3.1.1  A/A Control groups Analysis\n",
    "\n",
    "Hypothesis(0): Control group A1 (246) and control group A2 (247) there is no statistical significant difference.   \n",
    "Hypothesis(1): Control group A1 (246) and control group A2 (247) there is statistical significant difference."
   ]
  },
  {
   "cell_type": "code",
   "execution_count": 5,
   "id": "048da2f3",
   "metadata": {},
   "outputs": [
    {
     "data": {
      "application/vnd.microsoft.datawrangler.viewer.v0+json": {
       "columns": [
        {
         "name": "index",
         "rawType": "int64",
         "type": "integer"
        },
        {
         "name": "eventname",
         "rawType": "object",
         "type": "string"
        },
        {
         "name": "events",
         "rawType": "int64",
         "type": "integer"
        }
       ],
       "ref": "20f1307e-a2cb-4978-ad5b-acb553a891a4",
       "rows": [
        [
         "0",
         "mainscreenappear",
         "117328"
        ],
        [
         "1",
         "offersscreenappear",
         "46333"
        ],
        [
         "2",
         "cartscreenappear",
         "42303"
        ],
        [
         "3",
         "paymentscreensuccessful",
         "33918"
        ],
        [
         "4",
         "tutorial",
         "1005"
        ]
       ],
       "shape": {
        "columns": 2,
        "rows": 5
       }
      },
      "text/html": [
       "<div>\n",
       "<style scoped>\n",
       "    .dataframe tbody tr th:only-of-type {\n",
       "        vertical-align: middle;\n",
       "    }\n",
       "\n",
       "    .dataframe tbody tr th {\n",
       "        vertical-align: top;\n",
       "    }\n",
       "\n",
       "    .dataframe thead th {\n",
       "        text-align: right;\n",
       "    }\n",
       "</style>\n",
       "<table border=\"1\" class=\"dataframe\">\n",
       "  <thead>\n",
       "    <tr style=\"text-align: right;\">\n",
       "      <th></th>\n",
       "      <th>eventname</th>\n",
       "      <th>events</th>\n",
       "    </tr>\n",
       "  </thead>\n",
       "  <tbody>\n",
       "    <tr>\n",
       "      <th>0</th>\n",
       "      <td>mainscreena...</td>\n",
       "      <td>117328</td>\n",
       "    </tr>\n",
       "    <tr>\n",
       "      <th>1</th>\n",
       "      <td>offersscree...</td>\n",
       "      <td>46333</td>\n",
       "    </tr>\n",
       "    <tr>\n",
       "      <th>2</th>\n",
       "      <td>cartscreena...</td>\n",
       "      <td>42303</td>\n",
       "    </tr>\n",
       "    <tr>\n",
       "      <th>3</th>\n",
       "      <td>paymentscre...</td>\n",
       "      <td>33918</td>\n",
       "    </tr>\n",
       "    <tr>\n",
       "      <th>4</th>\n",
       "      <td>tutorial</td>\n",
       "      <td>1005</td>\n",
       "    </tr>\n",
       "  </tbody>\n",
       "</table>\n",
       "</div>"
      ],
      "text/plain": [
       "        eventname  events\n",
       "0  mainscreena...  117328\n",
       "1  offersscree...   46333\n",
       "2  cartscreena...   42303\n",
       "3  paymentscre...   33918\n",
       "4        tutorial    1005"
      ]
     },
     "execution_count": 5,
     "metadata": {},
     "output_type": "execute_result"
    }
   ],
   "source": [
    "# Select the most popular event. For each of the control groups, determine the number of users who performed this action. Calculate the percentage.\n",
    "events = df_fs['eventname'].value_counts()\n",
    "events.name = 'events'\n",
    "events = events.reset_index()\n",
    "events"
   ]
  },
  {
   "cell_type": "code",
   "execution_count": 6,
   "id": "f858590b",
   "metadata": {},
   "outputs": [
    {
     "data": {
      "text/plain": [
       "'mainscreenappear'"
      ]
     },
     "execution_count": 6,
     "metadata": {},
     "output_type": "execute_result"
    }
   ],
   "source": [
    "popular_event = df_fs['eventname'].mode()[0]\n",
    "popular_event"
   ]
  },
  {
   "cell_type": "code",
   "execution_count": 7,
   "id": "34b8ebf1",
   "metadata": {},
   "outputs": [
    {
     "data": {
      "application/vnd.microsoft.datawrangler.viewer.v0+json": {
       "columns": [
        {
         "name": "index",
         "rawType": "int64",
         "type": "integer"
        },
        {
         "name": "group",
         "rawType": "int64",
         "type": "integer"
        },
        {
         "name": "total_users",
         "rawType": "int64",
         "type": "integer"
        }
       ],
       "ref": "7b9412c1-5b19-41e6-b11c-91b34af4e92f",
       "rows": [
        [
         "0",
         "246",
         "2484"
        ],
        [
         "1",
         "247",
         "2513"
        ],
        [
         "2",
         "248",
         "2537"
        ]
       ],
       "shape": {
        "columns": 2,
        "rows": 3
       }
      },
      "text/html": [
       "<div>\n",
       "<style scoped>\n",
       "    .dataframe tbody tr th:only-of-type {\n",
       "        vertical-align: middle;\n",
       "    }\n",
       "\n",
       "    .dataframe tbody tr th {\n",
       "        vertical-align: top;\n",
       "    }\n",
       "\n",
       "    .dataframe thead th {\n",
       "        text-align: right;\n",
       "    }\n",
       "</style>\n",
       "<table border=\"1\" class=\"dataframe\">\n",
       "  <thead>\n",
       "    <tr style=\"text-align: right;\">\n",
       "      <th></th>\n",
       "      <th>group</th>\n",
       "      <th>total_users</th>\n",
       "    </tr>\n",
       "  </thead>\n",
       "  <tbody>\n",
       "    <tr>\n",
       "      <th>0</th>\n",
       "      <td>246</td>\n",
       "      <td>2484</td>\n",
       "    </tr>\n",
       "    <tr>\n",
       "      <th>1</th>\n",
       "      <td>247</td>\n",
       "      <td>2513</td>\n",
       "    </tr>\n",
       "    <tr>\n",
       "      <th>2</th>\n",
       "      <td>248</td>\n",
       "      <td>2537</td>\n",
       "    </tr>\n",
       "  </tbody>\n",
       "</table>\n",
       "</div>"
      ],
      "text/plain": [
       "   group  total_users\n",
       "0    246         2484\n",
       "1    247         2513\n",
       "2    248         2537"
      ]
     },
     "execution_count": 7,
     "metadata": {},
     "output_type": "execute_result"
    }
   ],
   "source": [
    "total_users_group = df_fs.groupby('expid')['deviceidhash'].nunique().reset_index()\n",
    "total_users_group.columns = ['group', 'total_users']\n",
    "total_users_group"
   ]
  },
  {
   "cell_type": "code",
   "execution_count": 8,
   "id": "c11a2e3e",
   "metadata": {},
   "outputs": [
    {
     "data": {
      "application/vnd.microsoft.datawrangler.viewer.v0+json": {
       "columns": [
        {
         "name": "index",
         "rawType": "int64",
         "type": "integer"
        },
        {
         "name": "group",
         "rawType": "int64",
         "type": "integer"
        },
        {
         "name": "eventname",
         "rawType": "object",
         "type": "string"
        },
        {
         "name": "event_users",
         "rawType": "int64",
         "type": "integer"
        }
       ],
       "ref": "0989a169-d1c4-4c4b-9721-55a4d6eb7d16",
       "rows": [
        [
         "0",
         "246",
         "cartscreenappear",
         "1266"
        ],
        [
         "1",
         "246",
         "mainscreenappear",
         "2450"
        ],
        [
         "2",
         "246",
         "offersscreenappear",
         "1542"
        ],
        [
         "3",
         "246",
         "paymentscreensuccessful",
         "1200"
        ],
        [
         "4",
         "246",
         "tutorial",
         "278"
        ],
        [
         "5",
         "247",
         "cartscreenappear",
         "1238"
        ],
        [
         "6",
         "247",
         "mainscreenappear",
         "2476"
        ],
        [
         "7",
         "247",
         "offersscreenappear",
         "1520"
        ],
        [
         "8",
         "247",
         "paymentscreensuccessful",
         "1158"
        ],
        [
         "9",
         "247",
         "tutorial",
         "283"
        ],
        [
         "10",
         "248",
         "cartscreenappear",
         "1230"
        ],
        [
         "11",
         "248",
         "mainscreenappear",
         "2493"
        ],
        [
         "12",
         "248",
         "offersscreenappear",
         "1531"
        ],
        [
         "13",
         "248",
         "paymentscreensuccessful",
         "1181"
        ],
        [
         "14",
         "248",
         "tutorial",
         "279"
        ]
       ],
       "shape": {
        "columns": 3,
        "rows": 15
       }
      },
      "text/html": [
       "<div>\n",
       "<style scoped>\n",
       "    .dataframe tbody tr th:only-of-type {\n",
       "        vertical-align: middle;\n",
       "    }\n",
       "\n",
       "    .dataframe tbody tr th {\n",
       "        vertical-align: top;\n",
       "    }\n",
       "\n",
       "    .dataframe thead th {\n",
       "        text-align: right;\n",
       "    }\n",
       "</style>\n",
       "<table border=\"1\" class=\"dataframe\">\n",
       "  <thead>\n",
       "    <tr style=\"text-align: right;\">\n",
       "      <th></th>\n",
       "      <th>group</th>\n",
       "      <th>eventname</th>\n",
       "      <th>event_users</th>\n",
       "    </tr>\n",
       "  </thead>\n",
       "  <tbody>\n",
       "    <tr>\n",
       "      <th>0</th>\n",
       "      <td>246</td>\n",
       "      <td>cartscreena...</td>\n",
       "      <td>1266</td>\n",
       "    </tr>\n",
       "    <tr>\n",
       "      <th>1</th>\n",
       "      <td>246</td>\n",
       "      <td>mainscreena...</td>\n",
       "      <td>2450</td>\n",
       "    </tr>\n",
       "    <tr>\n",
       "      <th>2</th>\n",
       "      <td>246</td>\n",
       "      <td>offersscree...</td>\n",
       "      <td>1542</td>\n",
       "    </tr>\n",
       "    <tr>\n",
       "      <th>3</th>\n",
       "      <td>246</td>\n",
       "      <td>paymentscre...</td>\n",
       "      <td>1200</td>\n",
       "    </tr>\n",
       "    <tr>\n",
       "      <th>4</th>\n",
       "      <td>246</td>\n",
       "      <td>tutorial</td>\n",
       "      <td>278</td>\n",
       "    </tr>\n",
       "    <tr>\n",
       "      <th>5</th>\n",
       "      <td>247</td>\n",
       "      <td>cartscreena...</td>\n",
       "      <td>1238</td>\n",
       "    </tr>\n",
       "    <tr>\n",
       "      <th>6</th>\n",
       "      <td>247</td>\n",
       "      <td>mainscreena...</td>\n",
       "      <td>2476</td>\n",
       "    </tr>\n",
       "    <tr>\n",
       "      <th>7</th>\n",
       "      <td>247</td>\n",
       "      <td>offersscree...</td>\n",
       "      <td>1520</td>\n",
       "    </tr>\n",
       "    <tr>\n",
       "      <th>8</th>\n",
       "      <td>247</td>\n",
       "      <td>paymentscre...</td>\n",
       "      <td>1158</td>\n",
       "    </tr>\n",
       "    <tr>\n",
       "      <th>9</th>\n",
       "      <td>247</td>\n",
       "      <td>tutorial</td>\n",
       "      <td>283</td>\n",
       "    </tr>\n",
       "    <tr>\n",
       "      <th>10</th>\n",
       "      <td>248</td>\n",
       "      <td>cartscreena...</td>\n",
       "      <td>1230</td>\n",
       "    </tr>\n",
       "    <tr>\n",
       "      <th>11</th>\n",
       "      <td>248</td>\n",
       "      <td>mainscreena...</td>\n",
       "      <td>2493</td>\n",
       "    </tr>\n",
       "    <tr>\n",
       "      <th>12</th>\n",
       "      <td>248</td>\n",
       "      <td>offersscree...</td>\n",
       "      <td>1531</td>\n",
       "    </tr>\n",
       "    <tr>\n",
       "      <th>13</th>\n",
       "      <td>248</td>\n",
       "      <td>paymentscre...</td>\n",
       "      <td>1181</td>\n",
       "    </tr>\n",
       "    <tr>\n",
       "      <th>14</th>\n",
       "      <td>248</td>\n",
       "      <td>tutorial</td>\n",
       "      <td>279</td>\n",
       "    </tr>\n",
       "  </tbody>\n",
       "</table>\n",
       "</div>"
      ],
      "text/plain": [
       "    group       eventname  event_users\n",
       "0     246  cartscreena...         1266\n",
       "1     246  mainscreena...         2450\n",
       "2     246  offersscree...         1542\n",
       "3     246  paymentscre...         1200\n",
       "4     246        tutorial          278\n",
       "5     247  cartscreena...         1238\n",
       "6     247  mainscreena...         2476\n",
       "7     247  offersscree...         1520\n",
       "8     247  paymentscre...         1158\n",
       "9     247        tutorial          283\n",
       "10    248  cartscreena...         1230\n",
       "11    248  mainscreena...         2493\n",
       "12    248  offersscree...         1531\n",
       "13    248  paymentscre...         1181\n",
       "14    248        tutorial          279"
      ]
     },
     "execution_count": 8,
     "metadata": {},
     "output_type": "execute_result"
    }
   ],
   "source": [
    "event_users_group = df_fs.groupby(['expid', 'eventname'])['deviceidhash'].nunique().reset_index()\n",
    "event_users_group.columns = ['group', 'eventname', 'event_users']\n",
    "event_users_group"
   ]
  },
  {
   "cell_type": "code",
   "execution_count": 9,
   "id": "35c786db",
   "metadata": {},
   "outputs": [
    {
     "data": {
      "application/vnd.microsoft.datawrangler.viewer.v0+json": {
       "columns": [
        {
         "name": "index",
         "rawType": "int64",
         "type": "integer"
        },
        {
         "name": "group",
         "rawType": "int64",
         "type": "integer"
        },
        {
         "name": "eventname",
         "rawType": "object",
         "type": "string"
        },
        {
         "name": "event_users",
         "rawType": "int64",
         "type": "integer"
        },
        {
         "name": "total_users",
         "rawType": "int64",
         "type": "integer"
        },
        {
         "name": "eventrate",
         "rawType": "float64",
         "type": "float"
        }
       ],
       "ref": "5354424b-56a0-4f12-9ea4-bc788c0c2572",
       "rows": [
        [
         "0",
         "246",
         "cartscreenappear",
         "1266",
         "2484",
         "50.966"
        ],
        [
         "1",
         "246",
         "mainscreenappear",
         "2450",
         "2484",
         "98.631"
        ],
        [
         "2",
         "246",
         "offersscreenappear",
         "1542",
         "2484",
         "62.077"
        ],
        [
         "3",
         "246",
         "paymentscreensuccessful",
         "1200",
         "2484",
         "48.309"
        ],
        [
         "4",
         "246",
         "tutorial",
         "278",
         "2484",
         "11.192"
        ],
        [
         "5",
         "247",
         "cartscreenappear",
         "1238",
         "2513",
         "49.264"
        ],
        [
         "6",
         "247",
         "mainscreenappear",
         "2476",
         "2513",
         "98.528"
        ],
        [
         "7",
         "247",
         "offersscreenappear",
         "1520",
         "2513",
         "60.485"
        ],
        [
         "8",
         "247",
         "paymentscreensuccessful",
         "1158",
         "2513",
         "46.08"
        ],
        [
         "9",
         "247",
         "tutorial",
         "283",
         "2513",
         "11.261"
        ],
        [
         "10",
         "248",
         "cartscreenappear",
         "1230",
         "2537",
         "48.482"
        ],
        [
         "11",
         "248",
         "mainscreenappear",
         "2493",
         "2537",
         "98.266"
        ],
        [
         "12",
         "248",
         "offersscreenappear",
         "1531",
         "2537",
         "60.347"
        ],
        [
         "13",
         "248",
         "paymentscreensuccessful",
         "1181",
         "2537",
         "46.551"
        ],
        [
         "14",
         "248",
         "tutorial",
         "279",
         "2537",
         "10.997"
        ]
       ],
       "shape": {
        "columns": 5,
        "rows": 15
       }
      },
      "text/html": [
       "<div>\n",
       "<style scoped>\n",
       "    .dataframe tbody tr th:only-of-type {\n",
       "        vertical-align: middle;\n",
       "    }\n",
       "\n",
       "    .dataframe tbody tr th {\n",
       "        vertical-align: top;\n",
       "    }\n",
       "\n",
       "    .dataframe thead th {\n",
       "        text-align: right;\n",
       "    }\n",
       "</style>\n",
       "<table border=\"1\" class=\"dataframe\">\n",
       "  <thead>\n",
       "    <tr style=\"text-align: right;\">\n",
       "      <th></th>\n",
       "      <th>group</th>\n",
       "      <th>eventname</th>\n",
       "      <th>event_users</th>\n",
       "      <th>total_users</th>\n",
       "      <th>eventrate</th>\n",
       "    </tr>\n",
       "  </thead>\n",
       "  <tbody>\n",
       "    <tr>\n",
       "      <th>0</th>\n",
       "      <td>246</td>\n",
       "      <td>cartscreena...</td>\n",
       "      <td>1266</td>\n",
       "      <td>2484</td>\n",
       "      <td>50.966</td>\n",
       "    </tr>\n",
       "    <tr>\n",
       "      <th>1</th>\n",
       "      <td>246</td>\n",
       "      <td>mainscreena...</td>\n",
       "      <td>2450</td>\n",
       "      <td>2484</td>\n",
       "      <td>98.631</td>\n",
       "    </tr>\n",
       "    <tr>\n",
       "      <th>2</th>\n",
       "      <td>246</td>\n",
       "      <td>offersscree...</td>\n",
       "      <td>1542</td>\n",
       "      <td>2484</td>\n",
       "      <td>62.077</td>\n",
       "    </tr>\n",
       "    <tr>\n",
       "      <th>3</th>\n",
       "      <td>246</td>\n",
       "      <td>paymentscre...</td>\n",
       "      <td>1200</td>\n",
       "      <td>2484</td>\n",
       "      <td>48.309</td>\n",
       "    </tr>\n",
       "    <tr>\n",
       "      <th>4</th>\n",
       "      <td>246</td>\n",
       "      <td>tutorial</td>\n",
       "      <td>278</td>\n",
       "      <td>2484</td>\n",
       "      <td>11.192</td>\n",
       "    </tr>\n",
       "    <tr>\n",
       "      <th>5</th>\n",
       "      <td>247</td>\n",
       "      <td>cartscreena...</td>\n",
       "      <td>1238</td>\n",
       "      <td>2513</td>\n",
       "      <td>49.264</td>\n",
       "    </tr>\n",
       "    <tr>\n",
       "      <th>6</th>\n",
       "      <td>247</td>\n",
       "      <td>mainscreena...</td>\n",
       "      <td>2476</td>\n",
       "      <td>2513</td>\n",
       "      <td>98.528</td>\n",
       "    </tr>\n",
       "    <tr>\n",
       "      <th>7</th>\n",
       "      <td>247</td>\n",
       "      <td>offersscree...</td>\n",
       "      <td>1520</td>\n",
       "      <td>2513</td>\n",
       "      <td>60.485</td>\n",
       "    </tr>\n",
       "    <tr>\n",
       "      <th>8</th>\n",
       "      <td>247</td>\n",
       "      <td>paymentscre...</td>\n",
       "      <td>1158</td>\n",
       "      <td>2513</td>\n",
       "      <td>46.080</td>\n",
       "    </tr>\n",
       "    <tr>\n",
       "      <th>9</th>\n",
       "      <td>247</td>\n",
       "      <td>tutorial</td>\n",
       "      <td>283</td>\n",
       "      <td>2513</td>\n",
       "      <td>11.261</td>\n",
       "    </tr>\n",
       "    <tr>\n",
       "      <th>10</th>\n",
       "      <td>248</td>\n",
       "      <td>cartscreena...</td>\n",
       "      <td>1230</td>\n",
       "      <td>2537</td>\n",
       "      <td>48.482</td>\n",
       "    </tr>\n",
       "    <tr>\n",
       "      <th>11</th>\n",
       "      <td>248</td>\n",
       "      <td>mainscreena...</td>\n",
       "      <td>2493</td>\n",
       "      <td>2537</td>\n",
       "      <td>98.266</td>\n",
       "    </tr>\n",
       "    <tr>\n",
       "      <th>12</th>\n",
       "      <td>248</td>\n",
       "      <td>offersscree...</td>\n",
       "      <td>1531</td>\n",
       "      <td>2537</td>\n",
       "      <td>60.347</td>\n",
       "    </tr>\n",
       "    <tr>\n",
       "      <th>13</th>\n",
       "      <td>248</td>\n",
       "      <td>paymentscre...</td>\n",
       "      <td>1181</td>\n",
       "      <td>2537</td>\n",
       "      <td>46.551</td>\n",
       "    </tr>\n",
       "    <tr>\n",
       "      <th>14</th>\n",
       "      <td>248</td>\n",
       "      <td>tutorial</td>\n",
       "      <td>279</td>\n",
       "      <td>2537</td>\n",
       "      <td>10.997</td>\n",
       "    </tr>\n",
       "  </tbody>\n",
       "</table>\n",
       "</div>"
      ],
      "text/plain": [
       "    group       eventname  event_users  total_users  eventrate\n",
       "0     246  cartscreena...         1266         2484     50.966\n",
       "1     246  mainscreena...         2450         2484     98.631\n",
       "2     246  offersscree...         1542         2484     62.077\n",
       "3     246  paymentscre...         1200         2484     48.309\n",
       "4     246        tutorial          278         2484     11.192\n",
       "5     247  cartscreena...         1238         2513     49.264\n",
       "6     247  mainscreena...         2476         2513     98.528\n",
       "7     247  offersscree...         1520         2513     60.485\n",
       "8     247  paymentscre...         1158         2513     46.080\n",
       "9     247        tutorial          283         2513     11.261\n",
       "10    248  cartscreena...         1230         2537     48.482\n",
       "11    248  mainscreena...         2493         2537     98.266\n",
       "12    248  offersscree...         1531         2537     60.347\n",
       "13    248  paymentscre...         1181         2537     46.551\n",
       "14    248        tutorial          279         2537     10.997"
      ]
     },
     "execution_count": 9,
     "metadata": {},
     "output_type": "execute_result"
    }
   ],
   "source": [
    "df_event_group = event_users_group.merge(total_users_group, on='group')\n",
    "df_event_group['eventrate'] = (df_event_group['event_users'] / df_event_group['total_users'] * 100).round(3)\n",
    "df_event_group"
   ]
  },
  {
   "cell_type": "code",
   "execution_count": null,
   "id": "e09809ed",
   "metadata": {},
   "outputs": [],
   "source": [
    "# α = 0.5\n",
    "def control_groups_proportions_statistical_difference(df):\n",
    "    \n",
    "    events = df['eventname'].unique()\n",
    "    \n",
    "    for event in events:\n",
    "        \n",
    "        actions_event = np.array([df_event_group.loc[(df_event_group['eventname'] == event) & (df_event_group['group'] == 246), 'event_users'],\n",
    "                                  df_event_group.loc[(df_event_group['eventname'] == event) & (df_event_group['group'] == 247), 'event_users']])\n",
    "        \n",
    "        events_event = np.array([df_event_group.loc[(df_event_group['eventname'] == event) & (df_event_group['group'] == 246), 'total_users'],\n",
    "                                 df_event_group.loc[(df_event_group['eventname'] == event) & (df_event_group['group'] == 247), 'total_users']])\n",
    "        \n",
    "        display(HTML(f\"> Event: <b>{event.upper()}</b>\"))\n",
    "        \n",
    "        stats, p_value = proportions_ztest(actions_event, events_event, alternative=\"two-sided\")\n",
    "        display(HTML(f\"> Z-statistic: {stats}\"))\n",
    "        display(HTML(f\"> p-value: {p_value}\"))\n",
    "        \n",
    "        if p_value <= 0.05:\n",
    "            display(HTML(f\"> Null Hypothesis (<i>H₀</i>) is <b>rejected</b>, meaning there is enough statistical evidence that <b>conversion rate</b> between Group A1 (246) and Group A2 (247) are <b>different</b>.\"))\n",
    "        else:\n",
    "            display(HTML(f\"> Null Hypothesis (<i>H₀</i>) is <b>not rejected</b>, meaning there is not enough statistical evidence that <b>conversion rate</b> between Group A1 (246) and Group A2 (247) are different.\"))\n",
    "        \n",
    "        print()\n",
    " "
   ]
  },
  {
   "cell_type": "code",
   "execution_count": 11,
   "id": "9b84b70e",
   "metadata": {},
   "outputs": [
    {
     "data": {
      "text/html": [
       "> Event: <b>CARTSCREENAPPEAR</b>"
      ],
      "text/plain": [
       "<IPython.core.display.HTML object>"
      ]
     },
     "metadata": {},
     "output_type": "display_data"
    },
    {
     "data": {
      "text/html": [
       "> Z-statistic: [1.20336858]"
      ],
      "text/plain": [
       "<IPython.core.display.HTML object>"
      ]
     },
     "metadata": {},
     "output_type": "display_data"
    },
    {
     "data": {
      "text/html": [
       "> p-value: [0.22883372]"
      ],
      "text/plain": [
       "<IPython.core.display.HTML object>"
      ]
     },
     "metadata": {},
     "output_type": "display_data"
    },
    {
     "data": {
      "text/html": [
       "> Null Hypothesis (<i>H₀</i>) is <b>not rejected</b>, meaning there is not enough statistical evidence that <b>conversion rate</b> between Group A1 (246) and Group A2 (247) are different."
      ],
      "text/plain": [
       "<IPython.core.display.HTML object>"
      ]
     },
     "metadata": {},
     "output_type": "display_data"
    },
    {
     "name": "stdout",
     "output_type": "stream",
     "text": [
      "\n"
     ]
    },
    {
     "data": {
      "text/html": [
       "> Event: <b>MAINSCREENAPPEAR</b>"
      ],
      "text/plain": [
       "<IPython.core.display.HTML object>"
      ]
     },
     "metadata": {},
     "output_type": "display_data"
    },
    {
     "data": {
      "text/html": [
       "> Z-statistic: [0.30934419]"
      ],
      "text/plain": [
       "<IPython.core.display.HTML object>"
      ]
     },
     "metadata": {},
     "output_type": "display_data"
    },
    {
     "data": {
      "text/html": [
       "> p-value: [0.75705972]"
      ],
      "text/plain": [
       "<IPython.core.display.HTML object>"
      ]
     },
     "metadata": {},
     "output_type": "display_data"
    },
    {
     "data": {
      "text/html": [
       "> Null Hypothesis (<i>H₀</i>) is <b>not rejected</b>, meaning there is not enough statistical evidence that <b>conversion rate</b> between Group A1 (246) and Group A2 (247) are different."
      ],
      "text/plain": [
       "<IPython.core.display.HTML object>"
      ]
     },
     "metadata": {},
     "output_type": "display_data"
    },
    {
     "name": "stdout",
     "output_type": "stream",
     "text": [
      "\n"
     ]
    },
    {
     "data": {
      "text/html": [
       "> Event: <b>OFFERSSCREENAPPEAR</b>"
      ],
      "text/plain": [
       "<IPython.core.display.HTML object>"
      ]
     },
     "metadata": {},
     "output_type": "display_data"
    },
    {
     "data": {
      "text/html": [
       "> Z-statistic: [1.15498771]"
      ],
      "text/plain": [
       "<IPython.core.display.HTML object>"
      ]
     },
     "metadata": {},
     "output_type": "display_data"
    },
    {
     "data": {
      "text/html": [
       "> p-value: [0.24809546]"
      ],
      "text/plain": [
       "<IPython.core.display.HTML object>"
      ]
     },
     "metadata": {},
     "output_type": "display_data"
    },
    {
     "data": {
      "text/html": [
       "> Null Hypothesis (<i>H₀</i>) is <b>not rejected</b>, meaning there is not enough statistical evidence that <b>conversion rate</b> between Group A1 (246) and Group A2 (247) are different."
      ],
      "text/plain": [
       "<IPython.core.display.HTML object>"
      ]
     },
     "metadata": {},
     "output_type": "display_data"
    },
    {
     "name": "stdout",
     "output_type": "stream",
     "text": [
      "\n"
     ]
    },
    {
     "data": {
      "text/html": [
       "> Event: <b>PAYMENTSCREENSUCCESSFUL</b>"
      ],
      "text/plain": [
       "<IPython.core.display.HTML object>"
      ]
     },
     "metadata": {},
     "output_type": "display_data"
    },
    {
     "data": {
      "text/html": [
       "> Z-statistic: [1.57799485]"
      ],
      "text/plain": [
       "<IPython.core.display.HTML object>"
      ]
     },
     "metadata": {},
     "output_type": "display_data"
    },
    {
     "data": {
      "text/html": [
       "> p-value: [0.11456679]"
      ],
      "text/plain": [
       "<IPython.core.display.HTML object>"
      ]
     },
     "metadata": {},
     "output_type": "display_data"
    },
    {
     "data": {
      "text/html": [
       "> Null Hypothesis (<i>H₀</i>) is <b>not rejected</b>, meaning there is not enough statistical evidence that <b>conversion rate</b> between Group A1 (246) and Group A2 (247) are different."
      ],
      "text/plain": [
       "<IPython.core.display.HTML object>"
      ]
     },
     "metadata": {},
     "output_type": "display_data"
    },
    {
     "name": "stdout",
     "output_type": "stream",
     "text": [
      "\n"
     ]
    },
    {
     "data": {
      "text/html": [
       "> Event: <b>TUTORIAL</b>"
      ],
      "text/plain": [
       "<IPython.core.display.HTML object>"
      ]
     },
     "metadata": {},
     "output_type": "display_data"
    },
    {
     "data": {
      "text/html": [
       "> Z-statistic: [-0.07816146]"
      ],
      "text/plain": [
       "<IPython.core.display.HTML object>"
      ]
     },
     "metadata": {},
     "output_type": "display_data"
    },
    {
     "data": {
      "text/html": [
       "> p-value: [0.93769962]"
      ],
      "text/plain": [
       "<IPython.core.display.HTML object>"
      ]
     },
     "metadata": {},
     "output_type": "display_data"
    },
    {
     "data": {
      "text/html": [
       "> Null Hypothesis (<i>H₀</i>) is <b>not rejected</b>, meaning there is not enough statistical evidence that <b>conversion rate</b> between Group A1 (246) and Group A2 (247) are different."
      ],
      "text/plain": [
       "<IPython.core.display.HTML object>"
      ]
     },
     "metadata": {},
     "output_type": "display_data"
    },
    {
     "name": "stdout",
     "output_type": "stream",
     "text": [
      "\n"
     ]
    }
   ],
   "source": [
    "control_groups_proportions_statistical_difference(df_event_group)"
   ]
  },
  {
   "cell_type": "code",
   "execution_count": 12,
   "id": "1309992c",
   "metadata": {},
   "outputs": [
    {
     "data": {
      "application/vnd.microsoft.datawrangler.viewer.v0+json": {
       "columns": [
        {
         "name": "eventname",
         "rawType": "object",
         "type": "string"
        },
        {
         "name": "246",
         "rawType": "float64",
         "type": "float"
        },
        {
         "name": "247",
         "rawType": "float64",
         "type": "float"
        },
        {
         "name": "248",
         "rawType": "float64",
         "type": "float"
        }
       ],
       "ref": "63aea219-470c-4da3-8d8f-3c2a485387cf",
       "rows": [
        [
         "cartscreenappear",
         "50.966",
         "49.264",
         "48.482"
        ],
        [
         "mainscreenappear",
         "98.631",
         "98.528",
         "98.266"
        ],
        [
         "offersscreenappear",
         "62.077",
         "60.485",
         "60.347"
        ],
        [
         "paymentscreensuccessful",
         "48.309",
         "46.08",
         "46.551"
        ],
        [
         "tutorial",
         "11.192",
         "11.261",
         "10.997"
        ]
       ],
       "shape": {
        "columns": 3,
        "rows": 5
       }
      },
      "text/html": [
       "<div>\n",
       "<style scoped>\n",
       "    .dataframe tbody tr th:only-of-type {\n",
       "        vertical-align: middle;\n",
       "    }\n",
       "\n",
       "    .dataframe tbody tr th {\n",
       "        vertical-align: top;\n",
       "    }\n",
       "\n",
       "    .dataframe thead th {\n",
       "        text-align: right;\n",
       "    }\n",
       "</style>\n",
       "<table border=\"1\" class=\"dataframe\">\n",
       "  <thead>\n",
       "    <tr style=\"text-align: right;\">\n",
       "      <th>group</th>\n",
       "      <th>246</th>\n",
       "      <th>247</th>\n",
       "      <th>248</th>\n",
       "    </tr>\n",
       "    <tr>\n",
       "      <th>eventname</th>\n",
       "      <th></th>\n",
       "      <th></th>\n",
       "      <th></th>\n",
       "    </tr>\n",
       "  </thead>\n",
       "  <tbody>\n",
       "    <tr>\n",
       "      <th>cartscreenappear</th>\n",
       "      <td>50.966</td>\n",
       "      <td>49.264</td>\n",
       "      <td>48.482</td>\n",
       "    </tr>\n",
       "    <tr>\n",
       "      <th>mainscreenappear</th>\n",
       "      <td>98.631</td>\n",
       "      <td>98.528</td>\n",
       "      <td>98.266</td>\n",
       "    </tr>\n",
       "    <tr>\n",
       "      <th>offersscreenappear</th>\n",
       "      <td>62.077</td>\n",
       "      <td>60.485</td>\n",
       "      <td>60.347</td>\n",
       "    </tr>\n",
       "    <tr>\n",
       "      <th>paymentscreensuccessful</th>\n",
       "      <td>48.309</td>\n",
       "      <td>46.080</td>\n",
       "      <td>46.551</td>\n",
       "    </tr>\n",
       "    <tr>\n",
       "      <th>tutorial</th>\n",
       "      <td>11.192</td>\n",
       "      <td>11.261</td>\n",
       "      <td>10.997</td>\n",
       "    </tr>\n",
       "  </tbody>\n",
       "</table>\n",
       "</div>"
      ],
      "text/plain": [
       "group               246     247     248\n",
       "eventname                              \n",
       "cartscreenap...  50.966  49.264  48.482\n",
       "mainscreenap...  98.631  98.528  98.266\n",
       "offersscreen...  62.077  60.485  60.347\n",
       "paymentscree...  48.309  46.080  46.551\n",
       "tutorial         11.192  11.261  10.997"
      ]
     },
     "execution_count": 12,
     "metadata": {},
     "output_type": "execute_result"
    }
   ],
   "source": [
    "# Confirm that the groups were divided correctly\n",
    "pivot_rates = df_event_group.pivot(index='eventname', columns='group', values='eventrate')\n",
    "pivot_rates"
   ]
  },
  {
   "cell_type": "markdown",
   "id": "afdaddd9",
   "metadata": {},
   "source": [
    "#### 3.1.2  A1/B Control-Test groups Analysis\n",
    "\n",
    "Hypothesis(0): Control group A1 (246) and test group B (248) there is no statistical significant difference.   \n",
    "Hypothesis(1): Control group A1 (246) and test group B (248) there is statistical significant difference."
   ]
  },
  {
   "cell_type": "code",
   "execution_count": 13,
   "id": "43714438",
   "metadata": {},
   "outputs": [],
   "source": [
    "def control_A1_test_proportions_statistical_difference(df):\n",
    "    \n",
    "    events = df['eventname'].unique()\n",
    "    \n",
    "    for event in events:\n",
    "        \n",
    "        actions_event = np.array([df_event_group.loc[(df_event_group['eventname'] == event) & (df_event_group['group'] == 246), 'event_users'],\n",
    "                                  df_event_group.loc[(df_event_group['eventname'] == event) & (df_event_group['group'] == 248), 'event_users']])\n",
    "        \n",
    "        events_event = np.array([df_event_group.loc[(df_event_group['eventname'] == event) & (df_event_group['group'] == 246), 'total_users'],\n",
    "                                 df_event_group.loc[(df_event_group['eventname'] == event) & (df_event_group['group'] == 248), 'total_users']])\n",
    "        \n",
    "        display(HTML(f\"> Event: <b>{event.upper()}</b>\"))\n",
    "        \n",
    "        stats, p_value = proportions_ztest(actions_event, events_event, alternative=\"two-sided\")\n",
    "        display(HTML(f\"> Z-statistic: {stats}\"))\n",
    "        display(HTML(f\"> p-value: {p_value}\"))\n",
    "        \n",
    "        if p_value <= 0.05:\n",
    "            display(HTML(f\"> Null Hypothesis (<i>H₀</i>) is <b>rejected</b>, meaning there is enough statistical evidence that <b>conversion rate</b> between Group A1 (246) and Group B (248) are <b>different</b>.\"))\n",
    "        else:\n",
    "            display(HTML(f\"> Null Hypothesis (<i>H₀</i>) is <b>not rejected</b>, meaning there is not enough statistical evidence that <b>conversion rate</b> between Group A1 (246) and Group B (248) are different.\"))\n",
    "        \n",
    "        print()"
   ]
  },
  {
   "cell_type": "code",
   "execution_count": 14,
   "id": "fe094b0b",
   "metadata": {},
   "outputs": [
    {
     "data": {
      "text/html": [
       "> Event: <b>CARTSCREENAPPEAR</b>"
      ],
      "text/plain": [
       "<IPython.core.display.HTML object>"
      ]
     },
     "metadata": {},
     "output_type": "display_data"
    },
    {
     "data": {
      "text/html": [
       "> Z-statistic: [1.75987365]"
      ],
      "text/plain": [
       "<IPython.core.display.HTML object>"
      ]
     },
     "metadata": {},
     "output_type": "display_data"
    },
    {
     "data": {
      "text/html": [
       "> p-value: [0.07842923]"
      ],
      "text/plain": [
       "<IPython.core.display.HTML object>"
      ]
     },
     "metadata": {},
     "output_type": "display_data"
    },
    {
     "data": {
      "text/html": [
       "> Null Hypothesis (<i>H₀</i>) is <b>not rejected</b>, meaning there is not enough statistical evidence that <b>conversion rate</b> between Group A1 (246) and Group B (248) are different."
      ],
      "text/plain": [
       "<IPython.core.display.HTML object>"
      ]
     },
     "metadata": {},
     "output_type": "display_data"
    },
    {
     "name": "stdout",
     "output_type": "stream",
     "text": [
      "\n"
     ]
    },
    {
     "data": {
      "text/html": [
       "> Event: <b>MAINSCREENAPPEAR</b>"
      ],
      "text/plain": [
       "<IPython.core.display.HTML object>"
      ]
     },
     "metadata": {},
     "output_type": "display_data"
    },
    {
     "data": {
      "text/html": [
       "> Z-statistic: [1.04727624]"
      ],
      "text/plain": [
       "<IPython.core.display.HTML object>"
      ]
     },
     "metadata": {},
     "output_type": "display_data"
    },
    {
     "data": {
      "text/html": [
       "> p-value: [0.29497219]"
      ],
      "text/plain": [
       "<IPython.core.display.HTML object>"
      ]
     },
     "metadata": {},
     "output_type": "display_data"
    },
    {
     "data": {
      "text/html": [
       "> Null Hypothesis (<i>H₀</i>) is <b>not rejected</b>, meaning there is not enough statistical evidence that <b>conversion rate</b> between Group A1 (246) and Group B (248) are different."
      ],
      "text/plain": [
       "<IPython.core.display.HTML object>"
      ]
     },
     "metadata": {},
     "output_type": "display_data"
    },
    {
     "name": "stdout",
     "output_type": "stream",
     "text": [
      "\n"
     ]
    },
    {
     "data": {
      "text/html": [
       "> Event: <b>OFFERSSCREENAPPEAR</b>"
      ],
      "text/plain": [
       "<IPython.core.display.HTML object>"
      ]
     },
     "metadata": {},
     "output_type": "display_data"
    },
    {
     "data": {
      "text/html": [
       "> Z-statistic: [1.25808213]"
      ],
      "text/plain": [
       "<IPython.core.display.HTML object>"
      ]
     },
     "metadata": {},
     "output_type": "display_data"
    },
    {
     "data": {
      "text/html": [
       "> p-value: [0.20836205]"
      ],
      "text/plain": [
       "<IPython.core.display.HTML object>"
      ]
     },
     "metadata": {},
     "output_type": "display_data"
    },
    {
     "data": {
      "text/html": [
       "> Null Hypothesis (<i>H₀</i>) is <b>not rejected</b>, meaning there is not enough statistical evidence that <b>conversion rate</b> between Group A1 (246) and Group B (248) are different."
      ],
      "text/plain": [
       "<IPython.core.display.HTML object>"
      ]
     },
     "metadata": {},
     "output_type": "display_data"
    },
    {
     "name": "stdout",
     "output_type": "stream",
     "text": [
      "\n"
     ]
    },
    {
     "data": {
      "text/html": [
       "> Event: <b>PAYMENTSCREENSUCCESSFUL</b>"
      ],
      "text/plain": [
       "<IPython.core.display.HTML object>"
      ]
     },
     "metadata": {},
     "output_type": "display_data"
    },
    {
     "data": {
      "text/html": [
       "> Z-statistic: [1.24738783]"
      ],
      "text/plain": [
       "<IPython.core.display.HTML object>"
      ]
     },
     "metadata": {},
     "output_type": "display_data"
    },
    {
     "data": {
      "text/html": [
       "> p-value: [0.21225533]"
      ],
      "text/plain": [
       "<IPython.core.display.HTML object>"
      ]
     },
     "metadata": {},
     "output_type": "display_data"
    },
    {
     "data": {
      "text/html": [
       "> Null Hypothesis (<i>H₀</i>) is <b>not rejected</b>, meaning there is not enough statistical evidence that <b>conversion rate</b> between Group A1 (246) and Group B (248) are different."
      ],
      "text/plain": [
       "<IPython.core.display.HTML object>"
      ]
     },
     "metadata": {},
     "output_type": "display_data"
    },
    {
     "name": "stdout",
     "output_type": "stream",
     "text": [
      "\n"
     ]
    },
    {
     "data": {
      "text/html": [
       "> Event: <b>TUTORIAL</b>"
      ],
      "text/plain": [
       "<IPython.core.display.HTML object>"
      ]
     },
     "metadata": {},
     "output_type": "display_data"
    },
    {
     "data": {
      "text/html": [
       "> Z-statistic: [0.21928326]"
      ],
      "text/plain": [
       "<IPython.core.display.HTML object>"
      ]
     },
     "metadata": {},
     "output_type": "display_data"
    },
    {
     "data": {
      "text/html": [
       "> p-value: [0.8264294]"
      ],
      "text/plain": [
       "<IPython.core.display.HTML object>"
      ]
     },
     "metadata": {},
     "output_type": "display_data"
    },
    {
     "data": {
      "text/html": [
       "> Null Hypothesis (<i>H₀</i>) is <b>not rejected</b>, meaning there is not enough statistical evidence that <b>conversion rate</b> between Group A1 (246) and Group B (248) are different."
      ],
      "text/plain": [
       "<IPython.core.display.HTML object>"
      ]
     },
     "metadata": {},
     "output_type": "display_data"
    },
    {
     "name": "stdout",
     "output_type": "stream",
     "text": [
      "\n"
     ]
    }
   ],
   "source": [
    "control_A1_test_proportions_statistical_difference(df_event_group)"
   ]
  },
  {
   "cell_type": "markdown",
   "id": "c4d86aa4",
   "metadata": {},
   "source": [
    "#### 3.1.3  A2/B Control-Test groups Analysis\n",
    "\n",
    "Hypothesis(0): Control group A1 (247) and test group B (248) there is no statistical significant difference.   \n",
    "Hypothesis(1): Control group A1 (247) and test group B (248) there is statistical significant difference."
   ]
  },
  {
   "cell_type": "code",
   "execution_count": 15,
   "id": "8e741a8e",
   "metadata": {},
   "outputs": [],
   "source": [
    "def control_A2_test_proportions_statistical_difference(df):\n",
    "    \n",
    "    events = df['eventname'].unique()\n",
    "    \n",
    "    for event in events:\n",
    "        \n",
    "        actions_event = np.array([df_event_group.loc[(df_event_group['eventname'] == event) & (df_event_group['group'] == 247), 'event_users'],\n",
    "                                  df_event_group.loc[(df_event_group['eventname'] == event) & (df_event_group['group'] == 248), 'event_users']])\n",
    "        \n",
    "        events_event = np.array([df_event_group.loc[(df_event_group['eventname'] == event) & (df_event_group['group'] == 247), 'total_users'],\n",
    "                                 df_event_group.loc[(df_event_group['eventname'] == event) & (df_event_group['group'] == 248), 'total_users']])\n",
    "        \n",
    "        display(HTML(f\"> Event: <b>{event.upper()}</b>\"))\n",
    "        \n",
    "        stats, p_value = proportions_ztest(actions_event, events_event, alternative=\"two-sided\")\n",
    "        display(HTML(f\"> Z-statistic: {stats}\"))\n",
    "        display(HTML(f\"> p-value: {p_value}\"))\n",
    "        \n",
    "        if p_value <= 0.05:\n",
    "            display(HTML(f\"> Null Hypothesis (<i>H₀</i>) is <b>rejected</b>, meaning there is enough statistical evidence that <b>conversion rate</b> between Group A2 (247) and Group B (248) are <b>different</b>.\"))\n",
    "        else:\n",
    "            display(HTML(f\"> Null Hypothesis (<i>H₀</i>) is <b>not rejected</b>, meaning there is not enough statistical evidence that <b>conversion rate</b> between Group A2 (247) and Group B (248) are different.\"))\n",
    "        \n",
    "        print()"
   ]
  },
  {
   "cell_type": "code",
   "execution_count": 16,
   "id": "c23f7f03",
   "metadata": {},
   "outputs": [
    {
     "data": {
      "text/html": [
       "> Event: <b>CARTSCREENAPPEAR</b>"
      ],
      "text/plain": [
       "<IPython.core.display.HTML object>"
      ]
     },
     "metadata": {},
     "output_type": "display_data"
    },
    {
     "data": {
      "text/html": [
       "> Z-statistic: [0.55540191]"
      ],
      "text/plain": [
       "<IPython.core.display.HTML object>"
      ]
     },
     "metadata": {},
     "output_type": "display_data"
    },
    {
     "data": {
      "text/html": [
       "> p-value: [0.57861979]"
      ],
      "text/plain": [
       "<IPython.core.display.HTML object>"
      ]
     },
     "metadata": {},
     "output_type": "display_data"
    },
    {
     "data": {
      "text/html": [
       "> Null Hypothesis (<i>H₀</i>) is <b>not rejected</b>, meaning there is not enough statistical evidence that <b>conversion rate</b> between Group A2 (247) and Group B (248) are different."
      ],
      "text/plain": [
       "<IPython.core.display.HTML object>"
      ]
     },
     "metadata": {},
     "output_type": "display_data"
    },
    {
     "name": "stdout",
     "output_type": "stream",
     "text": [
      "\n"
     ]
    },
    {
     "data": {
      "text/html": [
       "> Event: <b>MAINSCREENAPPEAR</b>"
      ],
      "text/plain": [
       "<IPython.core.display.HTML object>"
      ]
     },
     "metadata": {},
     "output_type": "display_data"
    },
    {
     "data": {
      "text/html": [
       "> Z-statistic: [0.74098034]"
      ],
      "text/plain": [
       "<IPython.core.display.HTML object>"
      ]
     },
     "metadata": {},
     "output_type": "display_data"
    },
    {
     "data": {
      "text/html": [
       "> p-value: [0.45870536]"
      ],
      "text/plain": [
       "<IPython.core.display.HTML object>"
      ]
     },
     "metadata": {},
     "output_type": "display_data"
    },
    {
     "data": {
      "text/html": [
       "> Null Hypothesis (<i>H₀</i>) is <b>not rejected</b>, meaning there is not enough statistical evidence that <b>conversion rate</b> between Group A2 (247) and Group B (248) are different."
      ],
      "text/plain": [
       "<IPython.core.display.HTML object>"
      ]
     },
     "metadata": {},
     "output_type": "display_data"
    },
    {
     "name": "stdout",
     "output_type": "stream",
     "text": [
      "\n"
     ]
    },
    {
     "data": {
      "text/html": [
       "> Event: <b>OFFERSSCREENAPPEAR</b>"
      ],
      "text/plain": [
       "<IPython.core.display.HTML object>"
      ]
     },
     "metadata": {},
     "output_type": "display_data"
    },
    {
     "data": {
      "text/html": [
       "> Z-statistic: [0.1007086]"
      ],
      "text/plain": [
       "<IPython.core.display.HTML object>"
      ]
     },
     "metadata": {},
     "output_type": "display_data"
    },
    {
     "data": {
      "text/html": [
       "> p-value: [0.91978178]"
      ],
      "text/plain": [
       "<IPython.core.display.HTML object>"
      ]
     },
     "metadata": {},
     "output_type": "display_data"
    },
    {
     "data": {
      "text/html": [
       "> Null Hypothesis (<i>H₀</i>) is <b>not rejected</b>, meaning there is not enough statistical evidence that <b>conversion rate</b> between Group A2 (247) and Group B (248) are different."
      ],
      "text/plain": [
       "<IPython.core.display.HTML object>"
      ]
     },
     "metadata": {},
     "output_type": "display_data"
    },
    {
     "name": "stdout",
     "output_type": "stream",
     "text": [
      "\n"
     ]
    },
    {
     "data": {
      "text/html": [
       "> Event: <b>PAYMENTSCREENSUCCESSFUL</b>"
      ],
      "text/plain": [
       "<IPython.core.display.HTML object>"
      ]
     },
     "metadata": {},
     "output_type": "display_data"
    },
    {
     "data": {
      "text/html": [
       "> Z-statistic: [-0.33537595]"
      ],
      "text/plain": [
       "<IPython.core.display.HTML object>"
      ]
     },
     "metadata": {},
     "output_type": "display_data"
    },
    {
     "data": {
      "text/html": [
       "> p-value: [0.73734151]"
      ],
      "text/plain": [
       "<IPython.core.display.HTML object>"
      ]
     },
     "metadata": {},
     "output_type": "display_data"
    },
    {
     "data": {
      "text/html": [
       "> Null Hypothesis (<i>H₀</i>) is <b>not rejected</b>, meaning there is not enough statistical evidence that <b>conversion rate</b> between Group A2 (247) and Group B (248) are different."
      ],
      "text/plain": [
       "<IPython.core.display.HTML object>"
      ]
     },
     "metadata": {},
     "output_type": "display_data"
    },
    {
     "name": "stdout",
     "output_type": "stream",
     "text": [
      "\n"
     ]
    },
    {
     "data": {
      "text/html": [
       "> Event: <b>TUTORIAL</b>"
      ],
      "text/plain": [
       "<IPython.core.display.HTML object>"
      ]
     },
     "metadata": {},
     "output_type": "display_data"
    },
    {
     "data": {
      "text/html": [
       "> Z-statistic: [0.29849693]"
      ],
      "text/plain": [
       "<IPython.core.display.HTML object>"
      ]
     },
     "metadata": {},
     "output_type": "display_data"
    },
    {
     "data": {
      "text/html": [
       "> p-value: [0.76532392]"
      ],
      "text/plain": [
       "<IPython.core.display.HTML object>"
      ]
     },
     "metadata": {},
     "output_type": "display_data"
    },
    {
     "data": {
      "text/html": [
       "> Null Hypothesis (<i>H₀</i>) is <b>not rejected</b>, meaning there is not enough statistical evidence that <b>conversion rate</b> between Group A2 (247) and Group B (248) are different."
      ],
      "text/plain": [
       "<IPython.core.display.HTML object>"
      ]
     },
     "metadata": {},
     "output_type": "display_data"
    },
    {
     "name": "stdout",
     "output_type": "stream",
     "text": [
      "\n"
     ]
    }
   ],
   "source": [
    "control_A2_test_proportions_statistical_difference(df_event_group)"
   ]
  },
  {
   "cell_type": "markdown",
   "id": "5dd5d3c7",
   "metadata": {},
   "source": [
    "#### 3.1.4  AU/B Control-Test groups Analysis\n",
    "\n",
    "Hypothesis(0): Control group AU (246/247) and test group B (248) there is no statistical significant difference.   \n",
    "Hypothesis(1): Control group AU (246/247) and test group B (248) there is statistical significant difference."
   ]
  },
  {
   "cell_type": "code",
   "execution_count": 17,
   "id": "dc00b90a",
   "metadata": {},
   "outputs": [
    {
     "data": {
      "application/vnd.microsoft.datawrangler.viewer.v0+json": {
       "columns": [
        {
         "name": "index",
         "rawType": "int64",
         "type": "integer"
        },
        {
         "name": "group",
         "rawType": "int64",
         "type": "integer"
        },
        {
         "name": "eventname",
         "rawType": "object",
         "type": "string"
        },
        {
         "name": "event_users",
         "rawType": "int64",
         "type": "integer"
        },
        {
         "name": "total_users",
         "rawType": "int64",
         "type": "integer"
        },
        {
         "name": "eventrate",
         "rawType": "float64",
         "type": "float"
        }
       ],
       "ref": "fc7d0cc8-55b6-48ef-b73e-4c71d2425654",
       "rows": [
        [
         "0",
         "246",
         "cartscreenappear",
         "1266",
         "2484",
         "50.966"
        ],
        [
         "1",
         "246",
         "mainscreenappear",
         "2450",
         "2484",
         "98.631"
        ],
        [
         "2",
         "246",
         "offersscreenappear",
         "1542",
         "2484",
         "62.077"
        ],
        [
         "3",
         "246",
         "paymentscreensuccessful",
         "1200",
         "2484",
         "48.309"
        ],
        [
         "4",
         "246",
         "tutorial",
         "278",
         "2484",
         "11.192"
        ],
        [
         "5",
         "247",
         "cartscreenappear",
         "1238",
         "2513",
         "49.264"
        ],
        [
         "6",
         "247",
         "mainscreenappear",
         "2476",
         "2513",
         "98.528"
        ],
        [
         "7",
         "247",
         "offersscreenappear",
         "1520",
         "2513",
         "60.485"
        ],
        [
         "8",
         "247",
         "paymentscreensuccessful",
         "1158",
         "2513",
         "46.08"
        ],
        [
         "9",
         "247",
         "tutorial",
         "283",
         "2513",
         "11.261"
        ],
        [
         "10",
         "248",
         "cartscreenappear",
         "1230",
         "2537",
         "48.482"
        ],
        [
         "11",
         "248",
         "mainscreenappear",
         "2493",
         "2537",
         "98.266"
        ],
        [
         "12",
         "248",
         "offersscreenappear",
         "1531",
         "2537",
         "60.347"
        ],
        [
         "13",
         "248",
         "paymentscreensuccessful",
         "1181",
         "2537",
         "46.551"
        ],
        [
         "14",
         "248",
         "tutorial",
         "279",
         "2537",
         "10.997"
        ]
       ],
       "shape": {
        "columns": 5,
        "rows": 15
       }
      },
      "text/html": [
       "<div>\n",
       "<style scoped>\n",
       "    .dataframe tbody tr th:only-of-type {\n",
       "        vertical-align: middle;\n",
       "    }\n",
       "\n",
       "    .dataframe tbody tr th {\n",
       "        vertical-align: top;\n",
       "    }\n",
       "\n",
       "    .dataframe thead th {\n",
       "        text-align: right;\n",
       "    }\n",
       "</style>\n",
       "<table border=\"1\" class=\"dataframe\">\n",
       "  <thead>\n",
       "    <tr style=\"text-align: right;\">\n",
       "      <th></th>\n",
       "      <th>group</th>\n",
       "      <th>eventname</th>\n",
       "      <th>event_users</th>\n",
       "      <th>total_users</th>\n",
       "      <th>eventrate</th>\n",
       "    </tr>\n",
       "  </thead>\n",
       "  <tbody>\n",
       "    <tr>\n",
       "      <th>0</th>\n",
       "      <td>246</td>\n",
       "      <td>cartscreena...</td>\n",
       "      <td>1266</td>\n",
       "      <td>2484</td>\n",
       "      <td>50.966</td>\n",
       "    </tr>\n",
       "    <tr>\n",
       "      <th>1</th>\n",
       "      <td>246</td>\n",
       "      <td>mainscreena...</td>\n",
       "      <td>2450</td>\n",
       "      <td>2484</td>\n",
       "      <td>98.631</td>\n",
       "    </tr>\n",
       "    <tr>\n",
       "      <th>2</th>\n",
       "      <td>246</td>\n",
       "      <td>offersscree...</td>\n",
       "      <td>1542</td>\n",
       "      <td>2484</td>\n",
       "      <td>62.077</td>\n",
       "    </tr>\n",
       "    <tr>\n",
       "      <th>3</th>\n",
       "      <td>246</td>\n",
       "      <td>paymentscre...</td>\n",
       "      <td>1200</td>\n",
       "      <td>2484</td>\n",
       "      <td>48.309</td>\n",
       "    </tr>\n",
       "    <tr>\n",
       "      <th>4</th>\n",
       "      <td>246</td>\n",
       "      <td>tutorial</td>\n",
       "      <td>278</td>\n",
       "      <td>2484</td>\n",
       "      <td>11.192</td>\n",
       "    </tr>\n",
       "    <tr>\n",
       "      <th>5</th>\n",
       "      <td>247</td>\n",
       "      <td>cartscreena...</td>\n",
       "      <td>1238</td>\n",
       "      <td>2513</td>\n",
       "      <td>49.264</td>\n",
       "    </tr>\n",
       "    <tr>\n",
       "      <th>6</th>\n",
       "      <td>247</td>\n",
       "      <td>mainscreena...</td>\n",
       "      <td>2476</td>\n",
       "      <td>2513</td>\n",
       "      <td>98.528</td>\n",
       "    </tr>\n",
       "    <tr>\n",
       "      <th>7</th>\n",
       "      <td>247</td>\n",
       "      <td>offersscree...</td>\n",
       "      <td>1520</td>\n",
       "      <td>2513</td>\n",
       "      <td>60.485</td>\n",
       "    </tr>\n",
       "    <tr>\n",
       "      <th>8</th>\n",
       "      <td>247</td>\n",
       "      <td>paymentscre...</td>\n",
       "      <td>1158</td>\n",
       "      <td>2513</td>\n",
       "      <td>46.080</td>\n",
       "    </tr>\n",
       "    <tr>\n",
       "      <th>9</th>\n",
       "      <td>247</td>\n",
       "      <td>tutorial</td>\n",
       "      <td>283</td>\n",
       "      <td>2513</td>\n",
       "      <td>11.261</td>\n",
       "    </tr>\n",
       "    <tr>\n",
       "      <th>10</th>\n",
       "      <td>248</td>\n",
       "      <td>cartscreena...</td>\n",
       "      <td>1230</td>\n",
       "      <td>2537</td>\n",
       "      <td>48.482</td>\n",
       "    </tr>\n",
       "    <tr>\n",
       "      <th>11</th>\n",
       "      <td>248</td>\n",
       "      <td>mainscreena...</td>\n",
       "      <td>2493</td>\n",
       "      <td>2537</td>\n",
       "      <td>98.266</td>\n",
       "    </tr>\n",
       "    <tr>\n",
       "      <th>12</th>\n",
       "      <td>248</td>\n",
       "      <td>offersscree...</td>\n",
       "      <td>1531</td>\n",
       "      <td>2537</td>\n",
       "      <td>60.347</td>\n",
       "    </tr>\n",
       "    <tr>\n",
       "      <th>13</th>\n",
       "      <td>248</td>\n",
       "      <td>paymentscre...</td>\n",
       "      <td>1181</td>\n",
       "      <td>2537</td>\n",
       "      <td>46.551</td>\n",
       "    </tr>\n",
       "    <tr>\n",
       "      <th>14</th>\n",
       "      <td>248</td>\n",
       "      <td>tutorial</td>\n",
       "      <td>279</td>\n",
       "      <td>2537</td>\n",
       "      <td>10.997</td>\n",
       "    </tr>\n",
       "  </tbody>\n",
       "</table>\n",
       "</div>"
      ],
      "text/plain": [
       "    group       eventname  event_users  total_users  eventrate\n",
       "0     246  cartscreena...         1266         2484     50.966\n",
       "1     246  mainscreena...         2450         2484     98.631\n",
       "2     246  offersscree...         1542         2484     62.077\n",
       "3     246  paymentscre...         1200         2484     48.309\n",
       "4     246        tutorial          278         2484     11.192\n",
       "5     247  cartscreena...         1238         2513     49.264\n",
       "6     247  mainscreena...         2476         2513     98.528\n",
       "7     247  offersscree...         1520         2513     60.485\n",
       "8     247  paymentscre...         1158         2513     46.080\n",
       "9     247        tutorial          283         2513     11.261\n",
       "10    248  cartscreena...         1230         2537     48.482\n",
       "11    248  mainscreena...         2493         2537     98.266\n",
       "12    248  offersscree...         1531         2537     60.347\n",
       "13    248  paymentscre...         1181         2537     46.551\n",
       "14    248        tutorial          279         2537     10.997"
      ]
     },
     "execution_count": 17,
     "metadata": {},
     "output_type": "execute_result"
    }
   ],
   "source": [
    "df_event_group"
   ]
  },
  {
   "cell_type": "code",
   "execution_count": 18,
   "id": "231675df",
   "metadata": {},
   "outputs": [
    {
     "data": {
      "application/vnd.microsoft.datawrangler.viewer.v0+json": {
       "columns": [
        {
         "name": "index",
         "rawType": "int64",
         "type": "integer"
        },
        {
         "name": "group",
         "rawType": "int64",
         "type": "integer"
        },
        {
         "name": "eventname",
         "rawType": "object",
         "type": "string"
        },
        {
         "name": "event_users",
         "rawType": "int64",
         "type": "integer"
        },
        {
         "name": "total_users",
         "rawType": "int64",
         "type": "integer"
        },
        {
         "name": "eventrate",
         "rawType": "float64",
         "type": "float"
        }
       ],
       "ref": "cd5cc65c-ebd1-46c4-b409-d4d3dd934c51",
       "rows": [
        [
         "0",
         "246",
         "cartscreenappear",
         "1266",
         "2484",
         "50.966"
        ],
        [
         "1",
         "246",
         "mainscreenappear",
         "2450",
         "2484",
         "98.631"
        ],
        [
         "2",
         "246",
         "offersscreenappear",
         "1542",
         "2484",
         "62.077"
        ],
        [
         "3",
         "246",
         "paymentscreensuccessful",
         "1200",
         "2484",
         "48.309"
        ],
        [
         "4",
         "246",
         "tutorial",
         "278",
         "2484",
         "11.192"
        ],
        [
         "5",
         "247",
         "cartscreenappear",
         "1238",
         "2513",
         "49.264"
        ],
        [
         "6",
         "247",
         "mainscreenappear",
         "2476",
         "2513",
         "98.528"
        ],
        [
         "7",
         "247",
         "offersscreenappear",
         "1520",
         "2513",
         "60.485"
        ],
        [
         "8",
         "247",
         "paymentscreensuccessful",
         "1158",
         "2513",
         "46.08"
        ],
        [
         "9",
         "247",
         "tutorial",
         "283",
         "2513",
         "11.261"
        ]
       ],
       "shape": {
        "columns": 5,
        "rows": 10
       }
      },
      "text/html": [
       "<div>\n",
       "<style scoped>\n",
       "    .dataframe tbody tr th:only-of-type {\n",
       "        vertical-align: middle;\n",
       "    }\n",
       "\n",
       "    .dataframe tbody tr th {\n",
       "        vertical-align: top;\n",
       "    }\n",
       "\n",
       "    .dataframe thead th {\n",
       "        text-align: right;\n",
       "    }\n",
       "</style>\n",
       "<table border=\"1\" class=\"dataframe\">\n",
       "  <thead>\n",
       "    <tr style=\"text-align: right;\">\n",
       "      <th></th>\n",
       "      <th>group</th>\n",
       "      <th>eventname</th>\n",
       "      <th>event_users</th>\n",
       "      <th>total_users</th>\n",
       "      <th>eventrate</th>\n",
       "    </tr>\n",
       "  </thead>\n",
       "  <tbody>\n",
       "    <tr>\n",
       "      <th>0</th>\n",
       "      <td>246</td>\n",
       "      <td>cartscreena...</td>\n",
       "      <td>1266</td>\n",
       "      <td>2484</td>\n",
       "      <td>50.966</td>\n",
       "    </tr>\n",
       "    <tr>\n",
       "      <th>1</th>\n",
       "      <td>246</td>\n",
       "      <td>mainscreena...</td>\n",
       "      <td>2450</td>\n",
       "      <td>2484</td>\n",
       "      <td>98.631</td>\n",
       "    </tr>\n",
       "    <tr>\n",
       "      <th>2</th>\n",
       "      <td>246</td>\n",
       "      <td>offersscree...</td>\n",
       "      <td>1542</td>\n",
       "      <td>2484</td>\n",
       "      <td>62.077</td>\n",
       "    </tr>\n",
       "    <tr>\n",
       "      <th>3</th>\n",
       "      <td>246</td>\n",
       "      <td>paymentscre...</td>\n",
       "      <td>1200</td>\n",
       "      <td>2484</td>\n",
       "      <td>48.309</td>\n",
       "    </tr>\n",
       "    <tr>\n",
       "      <th>4</th>\n",
       "      <td>246</td>\n",
       "      <td>tutorial</td>\n",
       "      <td>278</td>\n",
       "      <td>2484</td>\n",
       "      <td>11.192</td>\n",
       "    </tr>\n",
       "    <tr>\n",
       "      <th>5</th>\n",
       "      <td>247</td>\n",
       "      <td>cartscreena...</td>\n",
       "      <td>1238</td>\n",
       "      <td>2513</td>\n",
       "      <td>49.264</td>\n",
       "    </tr>\n",
       "    <tr>\n",
       "      <th>6</th>\n",
       "      <td>247</td>\n",
       "      <td>mainscreena...</td>\n",
       "      <td>2476</td>\n",
       "      <td>2513</td>\n",
       "      <td>98.528</td>\n",
       "    </tr>\n",
       "    <tr>\n",
       "      <th>7</th>\n",
       "      <td>247</td>\n",
       "      <td>offersscree...</td>\n",
       "      <td>1520</td>\n",
       "      <td>2513</td>\n",
       "      <td>60.485</td>\n",
       "    </tr>\n",
       "    <tr>\n",
       "      <th>8</th>\n",
       "      <td>247</td>\n",
       "      <td>paymentscre...</td>\n",
       "      <td>1158</td>\n",
       "      <td>2513</td>\n",
       "      <td>46.080</td>\n",
       "    </tr>\n",
       "    <tr>\n",
       "      <th>9</th>\n",
       "      <td>247</td>\n",
       "      <td>tutorial</td>\n",
       "      <td>283</td>\n",
       "      <td>2513</td>\n",
       "      <td>11.261</td>\n",
       "    </tr>\n",
       "  </tbody>\n",
       "</table>\n",
       "</div>"
      ],
      "text/plain": [
       "   group       eventname  event_users  total_users  eventrate\n",
       "0    246  cartscreena...         1266         2484     50.966\n",
       "1    246  mainscreena...         2450         2484     98.631\n",
       "2    246  offersscree...         1542         2484     62.077\n",
       "3    246  paymentscre...         1200         2484     48.309\n",
       "4    246        tutorial          278         2484     11.192\n",
       "5    247  cartscreena...         1238         2513     49.264\n",
       "6    247  mainscreena...         2476         2513     98.528\n",
       "7    247  offersscree...         1520         2513     60.485\n",
       "8    247  paymentscre...         1158         2513     46.080\n",
       "9    247        tutorial          283         2513     11.261"
      ]
     },
     "execution_count": 18,
     "metadata": {},
     "output_type": "execute_result"
    }
   ],
   "source": [
    "df_event_group_AU = df_event_group.loc[(df_event_group['group'] == 246) | (df_event_group['group'] == 247), :]\n",
    "df_event_group_AU"
   ]
  },
  {
   "cell_type": "code",
   "execution_count": 19,
   "id": "3ef374f7",
   "metadata": {},
   "outputs": [
    {
     "data": {
      "text/plain": [
       "np.int64(4997)"
      ]
     },
     "execution_count": 19,
     "metadata": {},
     "output_type": "execute_result"
    }
   ],
   "source": [
    "tu = df_event_group_AU['total_users'].unique().sum()\n",
    "tu"
   ]
  },
  {
   "cell_type": "code",
   "execution_count": 20,
   "id": "09ec7b63",
   "metadata": {},
   "outputs": [
    {
     "data": {
      "application/vnd.microsoft.datawrangler.viewer.v0+json": {
       "columns": [
        {
         "name": "index",
         "rawType": "int64",
         "type": "integer"
        },
        {
         "name": "eventname",
         "rawType": "object",
         "type": "string"
        },
        {
         "name": "event_users",
         "rawType": "int64",
         "type": "integer"
        },
        {
         "name": "group",
         "rawType": "object",
         "type": "string"
        },
        {
         "name": "total_users",
         "rawType": "int64",
         "type": "integer"
        },
        {
         "name": "eventrate",
         "rawType": "float64",
         "type": "float"
        }
       ],
       "ref": "dfbe346c-b058-4c2f-93b7-28c4a3d2a2c5",
       "rows": [
        [
         "0",
         "cartscreenappear",
         "2504",
         "246_247",
         "4997",
         "50.11"
        ],
        [
         "1",
         "mainscreenappear",
         "4926",
         "246_247",
         "4997",
         "98.579"
        ],
        [
         "2",
         "offersscreenappear",
         "3062",
         "246_247",
         "4997",
         "61.277"
        ],
        [
         "3",
         "paymentscreensuccessful",
         "2358",
         "246_247",
         "4997",
         "47.188"
        ],
        [
         "4",
         "tutorial",
         "561",
         "246_247",
         "4997",
         "11.227"
        ]
       ],
       "shape": {
        "columns": 5,
        "rows": 5
       }
      },
      "text/html": [
       "<div>\n",
       "<style scoped>\n",
       "    .dataframe tbody tr th:only-of-type {\n",
       "        vertical-align: middle;\n",
       "    }\n",
       "\n",
       "    .dataframe tbody tr th {\n",
       "        vertical-align: top;\n",
       "    }\n",
       "\n",
       "    .dataframe thead th {\n",
       "        text-align: right;\n",
       "    }\n",
       "</style>\n",
       "<table border=\"1\" class=\"dataframe\">\n",
       "  <thead>\n",
       "    <tr style=\"text-align: right;\">\n",
       "      <th></th>\n",
       "      <th>eventname</th>\n",
       "      <th>event_users</th>\n",
       "      <th>group</th>\n",
       "      <th>total_users</th>\n",
       "      <th>eventrate</th>\n",
       "    </tr>\n",
       "  </thead>\n",
       "  <tbody>\n",
       "    <tr>\n",
       "      <th>0</th>\n",
       "      <td>cartscreena...</td>\n",
       "      <td>2504</td>\n",
       "      <td>246_247</td>\n",
       "      <td>4997</td>\n",
       "      <td>50.110</td>\n",
       "    </tr>\n",
       "    <tr>\n",
       "      <th>1</th>\n",
       "      <td>mainscreena...</td>\n",
       "      <td>4926</td>\n",
       "      <td>246_247</td>\n",
       "      <td>4997</td>\n",
       "      <td>98.579</td>\n",
       "    </tr>\n",
       "    <tr>\n",
       "      <th>2</th>\n",
       "      <td>offersscree...</td>\n",
       "      <td>3062</td>\n",
       "      <td>246_247</td>\n",
       "      <td>4997</td>\n",
       "      <td>61.277</td>\n",
       "    </tr>\n",
       "    <tr>\n",
       "      <th>3</th>\n",
       "      <td>paymentscre...</td>\n",
       "      <td>2358</td>\n",
       "      <td>246_247</td>\n",
       "      <td>4997</td>\n",
       "      <td>47.188</td>\n",
       "    </tr>\n",
       "    <tr>\n",
       "      <th>4</th>\n",
       "      <td>tutorial</td>\n",
       "      <td>561</td>\n",
       "      <td>246_247</td>\n",
       "      <td>4997</td>\n",
       "      <td>11.227</td>\n",
       "    </tr>\n",
       "  </tbody>\n",
       "</table>\n",
       "</div>"
      ],
      "text/plain": [
       "        eventname  event_users    group  total_users  eventrate\n",
       "0  cartscreena...         2504  246_247         4997     50.110\n",
       "1  mainscreena...         4926  246_247         4997     98.579\n",
       "2  offersscree...         3062  246_247         4997     61.277\n",
       "3  paymentscre...         2358  246_247         4997     47.188\n",
       "4        tutorial          561  246_247         4997     11.227"
      ]
     },
     "execution_count": 20,
     "metadata": {},
     "output_type": "execute_result"
    }
   ],
   "source": [
    "df_event_group_AU = df_event_group_AU.groupby('eventname')['event_users'].sum().reset_index()\n",
    "df_event_group_AU['group'] = '246_247'\n",
    "df_event_group_AU['total_users'] = tu\n",
    "df_event_group_AU['eventrate'] = ((df_event_group_AU['event_users'] / df_event_group_AU['total_users']) * 100).round(3)\n",
    "df_event_group_AU"
   ]
  },
  {
   "cell_type": "code",
   "execution_count": 23,
   "id": "d496a9eb",
   "metadata": {},
   "outputs": [
    {
     "data": {
      "application/vnd.microsoft.datawrangler.viewer.v0+json": {
       "columns": [
        {
         "name": "index",
         "rawType": "int64",
         "type": "integer"
        },
        {
         "name": "group",
         "rawType": "object",
         "type": "string"
        },
        {
         "name": "eventname",
         "rawType": "object",
         "type": "string"
        },
        {
         "name": "event_users",
         "rawType": "int64",
         "type": "integer"
        },
        {
         "name": "total_users",
         "rawType": "int64",
         "type": "integer"
        },
        {
         "name": "eventrate",
         "rawType": "float64",
         "type": "float"
        }
       ],
       "ref": "5ffa4fa9-a56e-4068-8a0b-1073b1ff9b66",
       "rows": [
        [
         "10",
         "248",
         "cartscreenappear",
         "1230",
         "2537",
         "48.482"
        ],
        [
         "11",
         "248",
         "mainscreenappear",
         "2493",
         "2537",
         "98.266"
        ],
        [
         "12",
         "248",
         "offersscreenappear",
         "1531",
         "2537",
         "60.347"
        ],
        [
         "13",
         "248",
         "paymentscreensuccessful",
         "1181",
         "2537",
         "46.551"
        ],
        [
         "14",
         "248",
         "tutorial",
         "279",
         "2537",
         "10.997"
        ]
       ],
       "shape": {
        "columns": 5,
        "rows": 5
       }
      },
      "text/html": [
       "<div>\n",
       "<style scoped>\n",
       "    .dataframe tbody tr th:only-of-type {\n",
       "        vertical-align: middle;\n",
       "    }\n",
       "\n",
       "    .dataframe tbody tr th {\n",
       "        vertical-align: top;\n",
       "    }\n",
       "\n",
       "    .dataframe thead th {\n",
       "        text-align: right;\n",
       "    }\n",
       "</style>\n",
       "<table border=\"1\" class=\"dataframe\">\n",
       "  <thead>\n",
       "    <tr style=\"text-align: right;\">\n",
       "      <th></th>\n",
       "      <th>group</th>\n",
       "      <th>eventname</th>\n",
       "      <th>event_users</th>\n",
       "      <th>total_users</th>\n",
       "      <th>eventrate</th>\n",
       "    </tr>\n",
       "  </thead>\n",
       "  <tbody>\n",
       "    <tr>\n",
       "      <th>10</th>\n",
       "      <td>248</td>\n",
       "      <td>cartscreena...</td>\n",
       "      <td>1230</td>\n",
       "      <td>2537</td>\n",
       "      <td>48.482</td>\n",
       "    </tr>\n",
       "    <tr>\n",
       "      <th>11</th>\n",
       "      <td>248</td>\n",
       "      <td>mainscreena...</td>\n",
       "      <td>2493</td>\n",
       "      <td>2537</td>\n",
       "      <td>98.266</td>\n",
       "    </tr>\n",
       "    <tr>\n",
       "      <th>12</th>\n",
       "      <td>248</td>\n",
       "      <td>offersscree...</td>\n",
       "      <td>1531</td>\n",
       "      <td>2537</td>\n",
       "      <td>60.347</td>\n",
       "    </tr>\n",
       "    <tr>\n",
       "      <th>13</th>\n",
       "      <td>248</td>\n",
       "      <td>paymentscre...</td>\n",
       "      <td>1181</td>\n",
       "      <td>2537</td>\n",
       "      <td>46.551</td>\n",
       "    </tr>\n",
       "    <tr>\n",
       "      <th>14</th>\n",
       "      <td>248</td>\n",
       "      <td>tutorial</td>\n",
       "      <td>279</td>\n",
       "      <td>2537</td>\n",
       "      <td>10.997</td>\n",
       "    </tr>\n",
       "  </tbody>\n",
       "</table>\n",
       "</div>"
      ],
      "text/plain": [
       "   group       eventname  event_users  total_users  eventrate\n",
       "10   248  cartscreena...         1230         2537     48.482\n",
       "11   248  mainscreena...         2493         2537     98.266\n",
       "12   248  offersscree...         1531         2537     60.347\n",
       "13   248  paymentscre...         1181         2537     46.551\n",
       "14   248        tutorial          279         2537     10.997"
      ]
     },
     "execution_count": 23,
     "metadata": {},
     "output_type": "execute_result"
    }
   ],
   "source": [
    "df_event_group_B = df_event_group.loc[(df_event_group['group'] == 248), :]\n",
    "df_event_group_B = df_event_group_B.copy()\n",
    "df_event_group_B['group'] = df_event_group_B['group'].astype(str)\n",
    "df_event_group_B"
   ]
  },
  {
   "cell_type": "code",
   "execution_count": 30,
   "id": "eb337bb9",
   "metadata": {},
   "outputs": [
    {
     "data": {
      "application/vnd.microsoft.datawrangler.viewer.v0+json": {
       "columns": [
        {
         "name": "index",
         "rawType": "int64",
         "type": "integer"
        },
        {
         "name": "eventname",
         "rawType": "object",
         "type": "string"
        },
        {
         "name": "event_users",
         "rawType": "int64",
         "type": "integer"
        },
        {
         "name": "group",
         "rawType": "object",
         "type": "string"
        },
        {
         "name": "total_users",
         "rawType": "int64",
         "type": "integer"
        },
        {
         "name": "eventrate",
         "rawType": "float64",
         "type": "float"
        }
       ],
       "ref": "308854df-d601-4a60-943a-3e2d7ab21435",
       "rows": [
        [
         "0",
         "cartscreenappear",
         "2504",
         "246_247",
         "4997",
         "50.11"
        ],
        [
         "1",
         "mainscreenappear",
         "4926",
         "246_247",
         "4997",
         "98.579"
        ],
        [
         "2",
         "offersscreenappear",
         "3062",
         "246_247",
         "4997",
         "61.277"
        ],
        [
         "3",
         "paymentscreensuccessful",
         "2358",
         "246_247",
         "4997",
         "47.188"
        ],
        [
         "4",
         "tutorial",
         "561",
         "246_247",
         "4997",
         "11.227"
        ],
        [
         "5",
         "cartscreenappear",
         "1230",
         "248",
         "2537",
         "48.482"
        ],
        [
         "6",
         "mainscreenappear",
         "2493",
         "248",
         "2537",
         "98.266"
        ],
        [
         "7",
         "offersscreenappear",
         "1531",
         "248",
         "2537",
         "60.347"
        ],
        [
         "8",
         "paymentscreensuccessful",
         "1181",
         "248",
         "2537",
         "46.551"
        ],
        [
         "9",
         "tutorial",
         "279",
         "248",
         "2537",
         "10.997"
        ]
       ],
       "shape": {
        "columns": 5,
        "rows": 10
       }
      },
      "text/html": [
       "<div>\n",
       "<style scoped>\n",
       "    .dataframe tbody tr th:only-of-type {\n",
       "        vertical-align: middle;\n",
       "    }\n",
       "\n",
       "    .dataframe tbody tr th {\n",
       "        vertical-align: top;\n",
       "    }\n",
       "\n",
       "    .dataframe thead th {\n",
       "        text-align: right;\n",
       "    }\n",
       "</style>\n",
       "<table border=\"1\" class=\"dataframe\">\n",
       "  <thead>\n",
       "    <tr style=\"text-align: right;\">\n",
       "      <th></th>\n",
       "      <th>eventname</th>\n",
       "      <th>event_users</th>\n",
       "      <th>group</th>\n",
       "      <th>total_users</th>\n",
       "      <th>eventrate</th>\n",
       "    </tr>\n",
       "  </thead>\n",
       "  <tbody>\n",
       "    <tr>\n",
       "      <th>0</th>\n",
       "      <td>cartscreena...</td>\n",
       "      <td>2504</td>\n",
       "      <td>246_247</td>\n",
       "      <td>4997</td>\n",
       "      <td>50.110</td>\n",
       "    </tr>\n",
       "    <tr>\n",
       "      <th>1</th>\n",
       "      <td>mainscreena...</td>\n",
       "      <td>4926</td>\n",
       "      <td>246_247</td>\n",
       "      <td>4997</td>\n",
       "      <td>98.579</td>\n",
       "    </tr>\n",
       "    <tr>\n",
       "      <th>2</th>\n",
       "      <td>offersscree...</td>\n",
       "      <td>3062</td>\n",
       "      <td>246_247</td>\n",
       "      <td>4997</td>\n",
       "      <td>61.277</td>\n",
       "    </tr>\n",
       "    <tr>\n",
       "      <th>3</th>\n",
       "      <td>paymentscre...</td>\n",
       "      <td>2358</td>\n",
       "      <td>246_247</td>\n",
       "      <td>4997</td>\n",
       "      <td>47.188</td>\n",
       "    </tr>\n",
       "    <tr>\n",
       "      <th>4</th>\n",
       "      <td>tutorial</td>\n",
       "      <td>561</td>\n",
       "      <td>246_247</td>\n",
       "      <td>4997</td>\n",
       "      <td>11.227</td>\n",
       "    </tr>\n",
       "    <tr>\n",
       "      <th>5</th>\n",
       "      <td>cartscreena...</td>\n",
       "      <td>1230</td>\n",
       "      <td>248</td>\n",
       "      <td>2537</td>\n",
       "      <td>48.482</td>\n",
       "    </tr>\n",
       "    <tr>\n",
       "      <th>6</th>\n",
       "      <td>mainscreena...</td>\n",
       "      <td>2493</td>\n",
       "      <td>248</td>\n",
       "      <td>2537</td>\n",
       "      <td>98.266</td>\n",
       "    </tr>\n",
       "    <tr>\n",
       "      <th>7</th>\n",
       "      <td>offersscree...</td>\n",
       "      <td>1531</td>\n",
       "      <td>248</td>\n",
       "      <td>2537</td>\n",
       "      <td>60.347</td>\n",
       "    </tr>\n",
       "    <tr>\n",
       "      <th>8</th>\n",
       "      <td>paymentscre...</td>\n",
       "      <td>1181</td>\n",
       "      <td>248</td>\n",
       "      <td>2537</td>\n",
       "      <td>46.551</td>\n",
       "    </tr>\n",
       "    <tr>\n",
       "      <th>9</th>\n",
       "      <td>tutorial</td>\n",
       "      <td>279</td>\n",
       "      <td>248</td>\n",
       "      <td>2537</td>\n",
       "      <td>10.997</td>\n",
       "    </tr>\n",
       "  </tbody>\n",
       "</table>\n",
       "</div>"
      ],
      "text/plain": [
       "        eventname  event_users    group  total_users  eventrate\n",
       "0  cartscreena...         2504  246_247         4997     50.110\n",
       "1  mainscreena...         4926  246_247         4997     98.579\n",
       "2  offersscree...         3062  246_247         4997     61.277\n",
       "3  paymentscre...         2358  246_247         4997     47.188\n",
       "4        tutorial          561  246_247         4997     11.227\n",
       "5  cartscreena...         1230      248         2537     48.482\n",
       "6  mainscreena...         2493      248         2537     98.266\n",
       "7  offersscree...         1531      248         2537     60.347\n",
       "8  paymentscre...         1181      248         2537     46.551\n",
       "9        tutorial          279      248         2537     10.997"
      ]
     },
     "execution_count": 30,
     "metadata": {},
     "output_type": "execute_result"
    }
   ],
   "source": [
    "df_event_group_AB = pd.concat([df_event_group_AU, df_event_group_B], axis=0, ignore_index=True)\n",
    "df_event_group_AB"
   ]
  },
  {
   "cell_type": "code",
   "execution_count": 31,
   "id": "302da3b3",
   "metadata": {},
   "outputs": [],
   "source": [
    "def control_test_proportions_statistical_difference(df):\n",
    "    \n",
    "    events = df['eventname'].unique()\n",
    "    \n",
    "    for event in events:\n",
    "        \n",
    "        actions_event = np.array([df_event_group_AB.loc[(df_event_group_AB['eventname'] == event) & (df_event_group_AB['group'] == '246_247'), 'event_users'],\n",
    "                                  df_event_group_AB.loc[(df_event_group_AB['eventname'] == event) & (df_event_group_AB['group'] == '248'), 'event_users']])\n",
    "        \n",
    "        events_event = np.array([df_event_group_AB.loc[(df_event_group_AB['eventname'] == event) & (df_event_group_AB['group'] == '246_247'), 'total_users'],\n",
    "                                 df_event_group_AB.loc[(df_event_group_AB['eventname'] == event) & (df_event_group_AB['group'] == '248'), 'total_users']])\n",
    "        \n",
    "        display(HTML(f\"> Event: <b>{event.upper()}</b>\"))\n",
    "        \n",
    "        stats, p_value = proportions_ztest(actions_event, events_event, alternative=\"two-sided\")\n",
    "        display(HTML(f\"> Z-statistic: {stats}\"))\n",
    "        display(HTML(f\"> p-value: {p_value}\"))\n",
    "        \n",
    "        if p_value <= 0.05:\n",
    "            display(HTML(f\"> Null Hypothesis (<i>H₀</i>) is <b>rejected</b>, meaning there is enough statistical evidence that <b>conversion rate</b> between Group A (246_247) and Group B (248) are <b>different</b>.\"))\n",
    "        else:\n",
    "            display(HTML(f\"> Null Hypothesis (<i>H₀</i>) is <b>not rejected</b>, meaning there is not enough statistical evidence that <b>conversion rate</b> between Group A (246_247) and Group B (248) are different.\"))\n",
    "        \n",
    "        print()"
   ]
  },
  {
   "cell_type": "code",
   "execution_count": 32,
   "id": "77724f8a",
   "metadata": {},
   "outputs": [
    {
     "data": {
      "text/html": [
       "> Event: <b>CARTSCREENAPPEAR</b>"
      ],
      "text/plain": [
       "<IPython.core.display.HTML object>"
      ]
     },
     "metadata": {},
     "output_type": "display_data"
    },
    {
     "data": {
      "text/html": [
       "> Z-statistic: [1.33535938]"
      ],
      "text/plain": [
       "<IPython.core.display.HTML object>"
      ]
     },
     "metadata": {},
     "output_type": "display_data"
    },
    {
     "data": {
      "text/html": [
       "> p-value: [0.18175875]"
      ],
      "text/plain": [
       "<IPython.core.display.HTML object>"
      ]
     },
     "metadata": {},
     "output_type": "display_data"
    },
    {
     "data": {
      "text/html": [
       "> Null Hypothesis (<i>H₀</i>) is <b>not rejected</b>, meaning there is not enough statistical evidence that <b>conversion rate</b> between Group A (246_247) and Group B (248) are different."
      ],
      "text/plain": [
       "<IPython.core.display.HTML object>"
      ]
     },
     "metadata": {},
     "output_type": "display_data"
    },
    {
     "name": "stdout",
     "output_type": "stream",
     "text": [
      "\n"
     ]
    },
    {
     "data": {
      "text/html": [
       "> Event: <b>MAINSCREENAPPEAR</b>"
      ],
      "text/plain": [
       "<IPython.core.display.HTML object>"
      ]
     },
     "metadata": {},
     "output_type": "display_data"
    },
    {
     "data": {
      "text/html": [
       "> Z-statistic: [1.04885411]"
      ],
      "text/plain": [
       "<IPython.core.display.HTML object>"
      ]
     },
     "metadata": {},
     "output_type": "display_data"
    },
    {
     "data": {
      "text/html": [
       "> p-value: [0.29424527]"
      ],
      "text/plain": [
       "<IPython.core.display.HTML object>"
      ]
     },
     "metadata": {},
     "output_type": "display_data"
    },
    {
     "data": {
      "text/html": [
       "> Null Hypothesis (<i>H₀</i>) is <b>not rejected</b>, meaning there is not enough statistical evidence that <b>conversion rate</b> between Group A (246_247) and Group B (248) are different."
      ],
      "text/plain": [
       "<IPython.core.display.HTML object>"
      ]
     },
     "metadata": {},
     "output_type": "display_data"
    },
    {
     "name": "stdout",
     "output_type": "stream",
     "text": [
      "\n"
     ]
    },
    {
     "data": {
      "text/html": [
       "> Event: <b>OFFERSSCREENAPPEAR</b>"
      ],
      "text/plain": [
       "<IPython.core.display.HTML object>"
      ]
     },
     "metadata": {},
     "output_type": "display_data"
    },
    {
     "data": {
      "text/html": [
       "> Z-statistic: [0.78193037]"
      ],
      "text/plain": [
       "<IPython.core.display.HTML object>"
      ]
     },
     "metadata": {},
     "output_type": "display_data"
    },
    {
     "data": {
      "text/html": [
       "> p-value: [0.4342555]"
      ],
      "text/plain": [
       "<IPython.core.display.HTML object>"
      ]
     },
     "metadata": {},
     "output_type": "display_data"
    },
    {
     "data": {
      "text/html": [
       "> Null Hypothesis (<i>H₀</i>) is <b>not rejected</b>, meaning there is not enough statistical evidence that <b>conversion rate</b> between Group A (246_247) and Group B (248) are different."
      ],
      "text/plain": [
       "<IPython.core.display.HTML object>"
      ]
     },
     "metadata": {},
     "output_type": "display_data"
    },
    {
     "name": "stdout",
     "output_type": "stream",
     "text": [
      "\n"
     ]
    },
    {
     "data": {
      "text/html": [
       "> Event: <b>PAYMENTSCREENSUCCESSFUL</b>"
      ],
      "text/plain": [
       "<IPython.core.display.HTML object>"
      ]
     },
     "metadata": {},
     "output_type": "display_data"
    },
    {
     "data": {
      "text/html": [
       "> Z-statistic: [0.52378307]"
      ],
      "text/plain": [
       "<IPython.core.display.HTML object>"
      ]
     },
     "metadata": {},
     "output_type": "display_data"
    },
    {
     "data": {
      "text/html": [
       "> p-value: [0.60042943]"
      ],
      "text/plain": [
       "<IPython.core.display.HTML object>"
      ]
     },
     "metadata": {},
     "output_type": "display_data"
    },
    {
     "data": {
      "text/html": [
       "> Null Hypothesis (<i>H₀</i>) is <b>not rejected</b>, meaning there is not enough statistical evidence that <b>conversion rate</b> between Group A (246_247) and Group B (248) are different."
      ],
      "text/plain": [
       "<IPython.core.display.HTML object>"
      ]
     },
     "metadata": {},
     "output_type": "display_data"
    },
    {
     "name": "stdout",
     "output_type": "stream",
     "text": [
      "\n"
     ]
    },
    {
     "data": {
      "text/html": [
       "> Event: <b>TUTORIAL</b>"
      ],
      "text/plain": [
       "<IPython.core.display.HTML object>"
      ]
     },
     "metadata": {},
     "output_type": "display_data"
    },
    {
     "data": {
      "text/html": [
       "> Z-statistic: [0.29910167]"
      ],
      "text/plain": [
       "<IPython.core.display.HTML object>"
      ]
     },
     "metadata": {},
     "output_type": "display_data"
    },
    {
     "data": {
      "text/html": [
       "> p-value: [0.76486247]"
      ],
      "text/plain": [
       "<IPython.core.display.HTML object>"
      ]
     },
     "metadata": {},
     "output_type": "display_data"
    },
    {
     "data": {
      "text/html": [
       "> Null Hypothesis (<i>H₀</i>) is <b>not rejected</b>, meaning there is not enough statistical evidence that <b>conversion rate</b> between Group A (246_247) and Group B (248) are different."
      ],
      "text/plain": [
       "<IPython.core.display.HTML object>"
      ]
     },
     "metadata": {},
     "output_type": "display_data"
    },
    {
     "name": "stdout",
     "output_type": "stream",
     "text": [
      "\n"
     ]
    }
   ],
   "source": [
    "control_test_proportions_statistical_difference(df_event_group_AB)"
   ]
  },
  {
   "cell_type": "markdown",
   "id": "f430ff9a",
   "metadata": {},
   "source": [
    "#### 3.2 Results\n",
    "\n",
    "- Significance level that have been set to test the statistical hypotheses mentioned above : α = 0.05\n",
    "- Amount of statistical hypothesis tests that have been performed: 4 (A/A, A1/B, A2/B, A/B)\n",
    "- What should the significance level be? Please specify if you want to change it.\n",
    "  If α = 0.01, the results would be the same due to the p-value gotten from all the statistical tests (greater than α). In order to be changed\n",
    "  the α value must be greater than p-value, acoording to the eventrate values no much differences are among froups, therefore p-value is allways\n",
    "  greater than α."
   ]
  }
 ],
 "metadata": {
  "kernelspec": {
   "display_name": "Win11_Python-PipVenv-Github-Hmb7GD39",
   "language": "python",
   "name": "python3"
  },
  "language_info": {
   "codemirror_mode": {
    "name": "ipython",
    "version": 3
   },
   "file_extension": ".py",
   "mimetype": "text/x-python",
   "name": "python",
   "nbconvert_exporter": "python",
   "pygments_lexer": "ipython3",
   "version": "3.13.2"
  }
 },
 "nbformat": 4,
 "nbformat_minor": 5
}
